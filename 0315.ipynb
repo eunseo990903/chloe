{
 "cells": [
  {
   "cell_type": "markdown",
   "id": "dc109639-52b1-48b7-8cc8-55ab4c573d4f",
   "metadata": {},
   "source": [
    "복습 "
   ]
  },
  {
   "cell_type": "code",
   "execution_count": 2,
   "id": "344f3cbd-4930-43bc-b84b-77ad1a27fa84",
   "metadata": {
    "tags": []
   },
   "outputs": [
    {
     "data": {
      "text/plain": [
       "5"
      ]
     },
     "execution_count": 2,
     "metadata": {},
     "output_type": "execute_result"
    }
   ],
   "source": [
    "(lambda a, b,c : a*b+c)(1,2,3)\n"
   ]
  },
  {
   "cell_type": "code",
   "execution_count": 13,
   "id": "ef5c7122-d81b-4e2b-99ff-783e9d5374ed",
   "metadata": {
    "tags": []
   },
   "outputs": [
    {
     "name": "stdin",
     "output_type": "stream",
     "text": [
      "name:   efke\n",
      "age:   203\n",
      "mbti:   ffkf\n"
     ]
    }
   ],
   "source": [
    "with open (\"privacy.text\",\"w\") as f :\n",
    "    a = input(\"name:  \")\n",
    "    b= int(input(\"age:  \"))\n",
    "    c= input(\"mbti:  \")\n",
    "    f.write(f\"이름:{a} \\n나이:{b}\\nmbti: {c} \")\n",
    "    \n"
   ]
  },
  {
   "cell_type": "code",
   "execution_count": 16,
   "id": "f548fab3-983f-4930-a689-9c4391bf5f41",
   "metadata": {
    "tags": []
   },
   "outputs": [
    {
     "name": "stdout",
     "output_type": "stream",
     "text": [
      "['이름:efke \\n', '나이:203\\n', 'mbti: ffkf ']\n"
     ]
    }
   ],
   "source": [
    "f= open(\"privacy.text\", \"r\")\n",
    "lines = f.readlines()\n",
    "print(lines)\n",
    "f.close()"
   ]
  },
  {
   "cell_type": "code",
   "execution_count": 23,
   "id": "2db367e8-f511-4ad7-a6b8-4696f3124c9f",
   "metadata": {
    "tags": []
   },
   "outputs": [
    {
     "name": "stdout",
     "output_type": "stream",
     "text": [
      "이름:efke\n",
      "나이:203\n",
      "mbti: ffkf\n"
     ]
    }
   ],
   "source": [
    "with open(\"privacy.text\", \"r\") as f:\n",
    "    lines = f.readlines()\n",
    "    for line in lines:\n",
    "        print(line.strip()) "
   ]
  },
  {
   "cell_type": "code",
   "execution_count": 27,
   "id": "6ed7880c-56ef-49e5-9e36-e53884fb7b47",
   "metadata": {
    "tags": []
   },
   "outputs": [
    {
     "name": "stdin",
     "output_type": "stream",
     "text": [
      "이름, 나이, mbti를 차례대로 작성하세요 은서, 25 , dfj\n"
     ]
    }
   ],
   "source": [
    "a = input(\"이름, 나이, mbti를 차례대로 작성하세요\")\n",
    "a = a.split(\",\")\n",
    "with open(\"privacy.text\", \"a\") as f:\n",
    "    f.write(f\"이름: {a[0]}\\n나이: {a[1]} \\nmbti: {a[2]}\\n\") \n",
    "    "
   ]
  },
  {
   "cell_type": "code",
   "execution_count": 30,
   "id": "de34f63b-8141-48d0-ad99-9a27a12e17f8",
   "metadata": {
    "tags": []
   },
   "outputs": [
    {
     "name": "stdin",
     "output_type": "stream",
     "text": [
      " 은서, 23,idfk\n"
     ]
    }
   ],
   "source": [
    "with open (\"privacy.text\",\"w\") as ff :\n",
    "    name,age,mbti = input().split(',')\n",
    "    ff.write(f\"이름:{name} \\n나이:{age}\\nmbti: {mbti} \")\n"
   ]
  },
  {
   "cell_type": "code",
   "execution_count": 31,
   "id": "f5e4318f-112d-4603-a6bf-b1ab19b18ae4",
   "metadata": {
    "tags": []
   },
   "outputs": [
    {
     "name": "stdout",
     "output_type": "stream",
     "text": [
      "이름:은서\n",
      "나이: 23\n",
      "mbti: idfk\n"
     ]
    }
   ],
   "source": [
    "with open(\"privacy.text\", \"r\") as ff:\n",
    "    lines = ff.readlines()\n",
    "    for line in lines:\n",
    "        print(line.strip()) "
   ]
  },
  {
   "cell_type": "code",
   "execution_count": 43,
   "id": "5f344646-b988-40a3-bf98-f36c858694b3",
   "metadata": {
    "tags": []
   },
   "outputs": [
    {
     "data": {
      "text/plain": [
       "[4, 5]"
      ]
     },
     "execution_count": 43,
     "metadata": {},
     "output_type": "execute_result"
    }
   ],
   "source": [
    "#2개 이상의 숫자가 각각 2씩 더해 리스트를 출력하는 plustwo함수 만들기 \n",
    "\n",
    "def plustwo(*args) : \n",
    "    li= []\n",
    "    for i in args:\n",
    "        li.append(i+2)\n",
    "    return li\n",
    "\n",
    "plustwo(2,3)"
   ]
  },
  {
   "cell_type": "code",
   "execution_count": 46,
   "id": "2ff94a4e-5e1e-4799-b107-74d370b42536",
   "metadata": {
    "tags": []
   },
   "outputs": [
    {
     "data": {
      "text/plain": [
       "[4, 5]"
      ]
     },
     "execution_count": 46,
     "metadata": {},
     "output_type": "execute_result"
    }
   ],
   "source": [
    "#list clist comprehension\n",
    "def plustwo(*args) : \n",
    "    li= [i+2 for i in args]\n",
    "    return li\n",
    "plustwo(2,3)\n",
    "\n",
    "\n"
   ]
  },
  {
   "cell_type": "code",
   "execution_count": 60,
   "id": "1c1a512c-b1e1-41ce-9aaa-907362e198e8",
   "metadata": {
    "tags": []
   },
   "outputs": [
    {
     "data": {
      "text/plain": [
       "[3, 4, 5, 6]"
      ]
     },
     "execution_count": 60,
     "metadata": {},
     "output_type": "execute_result"
    }
   ],
   "source": [
    "#LAMBDA 형식 \n",
    "(lambda *args:[arg+2 for arg in args])(1,2,3,4)"
   ]
  },
  {
   "cell_type": "code",
   "execution_count": 83,
   "id": "8dcfc89c-134f-4a28-894e-6eaf777bf389",
   "metadata": {
    "tags": []
   },
   "outputs": [
    {
     "name": "stdout",
     "output_type": "stream",
     "text": [
      "2893 50.75438596491228\n"
     ]
    }
   ],
   "source": [
    "#WHILE\n",
    "i = 0 \n",
    "sum= 0\n",
    "count = 0\n",
    "\n",
    "while i<100 :\n",
    "    i += 1\n",
    "    if i % 2 == 0 or i % 7==0:\n",
    "        sum +=i\n",
    "        count += 1\n",
    "print (sum ,sum/count)\n",
    "    "
   ]
  },
  {
   "cell_type": "code",
   "execution_count": 78,
   "id": "64d4d754-921b-4928-b818-c665f88a2aec",
   "metadata": {
    "tags": []
   },
   "outputs": [
    {
     "name": "stdout",
     "output_type": "stream",
     "text": [
      "합은: 2893\n",
      "평균은: 50.75438596491228\n"
     ]
    }
   ],
   "source": [
    "1#1-100 까지  2,7배수의 합과 평균 \n",
    "i = 0\n",
    "total = 0\n",
    "count = []\n",
    "while i < 100:\n",
    "    i+=1\n",
    "    if i % 2 ==0 or i % 7 ==0:\n",
    "        total +=i\n",
    "        count.append(i)\n",
    "print(f\"합은: {total}\")\n",
    "print(f\"평균은: {total/len(count)}\")"
   ]
  },
  {
   "cell_type": "code",
   "execution_count": 75,
   "id": "7c707ee2-e12a-4e51-ab93-f0bf8b1a5d7e",
   "metadata": {
    "tags": []
   },
   "outputs": [
    {
     "name": "stdout",
     "output_type": "stream",
     "text": [
      "2893\n",
      "50.75438596491228\n"
     ]
    }
   ],
   "source": [
    "i = 0\n",
    "count = 0\n",
    "sum = 0\n",
    "\n",
    "while i < 100 :\n",
    "    i += 1\n",
    "    if i % 2 == 0 or i % 7 == 0:\n",
    "        sum += i\n",
    "        count += 1\n",
    "print(sum)\n",
    "print(sum/count) "
   ]
  },
  {
   "cell_type": "markdown",
   "id": "d1e6eb08-8493-4f20-9266-062aaff7ee52",
   "metadata": {},
   "source": [
    "수업\n",
    "class "
   ]
  },
  {
   "cell_type": "code",
   "execution_count": 96,
   "id": "3ce67811-db81-4542-a870-4e71e09fe27d",
   "metadata": {
    "tags": []
   },
   "outputs": [],
   "source": [
    "result =0\n",
    "def add(num):\n",
    "    global result #결과값 유지하기 위해 global 사용 \n",
    "    result = result + num\n",
    "    return result\n",
    "\n",
    "def substract(num):\n",
    "    global result \n",
    "    result = result - num\n",
    "    return result"
   ]
  },
  {
   "cell_type": "code",
   "execution_count": 97,
   "id": "a56df4af-058d-4152-b942-f587890fe51a",
   "metadata": {
    "tags": []
   },
   "outputs": [
    {
     "data": {
      "text/plain": [
       "100"
      ]
     },
     "execution_count": 97,
     "metadata": {},
     "output_type": "execute_result"
    }
   ],
   "source": [
    "add(100)"
   ]
  },
  {
   "cell_type": "code",
   "execution_count": 98,
   "id": "0cf40f9c-0d89-4bdd-aaaf-a460cb6591cb",
   "metadata": {
    "tags": []
   },
   "outputs": [
    {
     "data": {
      "text/plain": [
       "300"
      ]
     },
     "execution_count": 98,
     "metadata": {},
     "output_type": "execute_result"
    }
   ],
   "source": [
    "add(200)"
   ]
  },
  {
   "cell_type": "code",
   "execution_count": 99,
   "id": "fc01ef1e-370f-4307-8075-964f5da8fbf5",
   "metadata": {
    "tags": []
   },
   "outputs": [],
   "source": [
    "result1 =0\n",
    "def add1(num):\n",
    "    global result1 \n",
    "    result1 = result1 + num\n",
    "    return result1\n",
    "\n",
    "def substract1(num):\n",
    "    global result1\n",
    "    result1 = result1 - num\n",
    "    return result1"
   ]
  },
  {
   "cell_type": "code",
   "execution_count": 100,
   "id": "e44120a1-330d-4a32-a94c-1d2632a21224",
   "metadata": {
    "tags": []
   },
   "outputs": [
    {
     "data": {
      "text/plain": [
       "400"
      ]
     },
     "execution_count": 100,
     "metadata": {},
     "output_type": "execute_result"
    }
   ],
   "source": [
    "add1(400)"
   ]
  },
  {
   "cell_type": "code",
   "execution_count": 101,
   "id": "e29a520d-5ea3-4d0b-81ba-e8fc6b457d6c",
   "metadata": {
    "tags": []
   },
   "outputs": [],
   "source": [
    "result2 =0\n",
    "def add2(num):\n",
    "    global result2\n",
    "    result2 = result2 + num\n",
    "    return result2\n",
    "\n",
    "def substract2(num):\n",
    "    global result2 \n",
    "    result2 = result2 - num\n",
    "    return result2"
   ]
  },
  {
   "cell_type": "code",
   "execution_count": 102,
   "id": "aa0c1205-3f58-40b4-9a44-d490d93cd4dc",
   "metadata": {
    "tags": []
   },
   "outputs": [],
   "source": [
    "##클래스 만들기"
   ]
  },
  {
   "cell_type": "code",
   "execution_count": 126,
   "id": "ce7bf8a3-db6e-4675-bb13-a7215224e534",
   "metadata": {
    "tags": []
   },
   "outputs": [],
   "source": [
    "class Calculator:\n",
    "    def __init__(self):\n",
    "        self.result= 0 \n",
    "    \n",
    "    def add(self, num): \n",
    "        self.result += num\n",
    "        return self. result \n",
    "cal1 =Calculator()\n",
    "cal2= Calculator()"
   ]
  },
  {
   "cell_type": "code",
   "execution_count": 127,
   "id": "fa63fbb8-21c1-43d8-bec4-6cc9b3d13f54",
   "metadata": {
    "tags": []
   },
   "outputs": [
    {
     "data": {
      "text/plain": [
       "100"
      ]
     },
     "execution_count": 127,
     "metadata": {},
     "output_type": "execute_result"
    }
   ],
   "source": [
    "pos = Calculator() \n",
    "pos.add(100) #기계.메소드 () "
   ]
  },
  {
   "cell_type": "code",
   "execution_count": 128,
   "id": "727fc127-3b2b-438b-8e26-d252db338a64",
   "metadata": {
    "tags": []
   },
   "outputs": [
    {
     "data": {
      "text/plain": [
       "300"
      ]
     },
     "execution_count": 128,
     "metadata": {},
     "output_type": "execute_result"
    }
   ],
   "source": [
    "pos.add(200)"
   ]
  },
  {
   "cell_type": "code",
   "execution_count": 129,
   "id": "82aa4856-b18b-4a89-9538-61807a3fe455",
   "metadata": {
    "tags": []
   },
   "outputs": [
    {
     "name": "stdout",
     "output_type": "stream",
     "text": [
      "300\n"
     ]
    }
   ],
   "source": [
    "print(pos.result) "
   ]
  },
  {
   "cell_type": "code",
   "execution_count": 131,
   "id": "b0b2598e-36fa-434c-bbbe-b03a49066304",
   "metadata": {
    "tags": []
   },
   "outputs": [
    {
     "data": {
      "text/plain": [
       "3000"
      ]
     },
     "execution_count": 131,
     "metadata": {},
     "output_type": "execute_result"
    }
   ],
   "source": [
    "#클래스 사용 두번째 기계\n",
    "pos2 = Calculator()\n",
    "pos2.add(1000)\n",
    "pos2.add(2000)\n",
    "pos2.result"
   ]
  },
  {
   "cell_type": "code",
   "execution_count": 147,
   "id": "e01207f1-5ad7-45d8-b647-aa84bcc26095",
   "metadata": {
    "tags": []
   },
   "outputs": [],
   "source": [
    "class Calculator ():\n",
    "    def __init__(self):\n",
    "        self.result= 0 \n",
    "    \n",
    "    def add(self, num): \n",
    "        self.result += num\n",
    "        return self. result \n",
    "    \n",
    "    def substract(self, num):\n",
    "        self.result -= num\n",
    "        return self.result\n",
    "        "
   ]
  },
  {
   "cell_type": "code",
   "execution_count": 148,
   "id": "4d0d43f6-987b-4fa9-b16d-af4dfa4087a4",
   "metadata": {
    "tags": []
   },
   "outputs": [
    {
     "data": {
      "text/plain": [
       "0"
      ]
     },
     "execution_count": 148,
     "metadata": {},
     "output_type": "execute_result"
    }
   ],
   "source": [
    "pos = Calculator()\n",
    "pos.add(100)\n",
    "pos.substract (100)"
   ]
  },
  {
   "cell_type": "code",
   "execution_count": 123,
   "id": "6ae48e24-3ada-44ff-bc0c-3661bfc1caa8",
   "metadata": {
    "tags": []
   },
   "outputs": [
    {
     "data": {
      "text/plain": [
       "300"
      ]
     },
     "execution_count": 123,
     "metadata": {},
     "output_type": "execute_result"
    }
   ],
   "source": [
    "pos.add(200)"
   ]
  },
  {
   "cell_type": "code",
   "execution_count": 108,
   "id": "5702aca4-3eab-4dd1-8ee7-3f2188bcb464",
   "metadata": {
    "tags": []
   },
   "outputs": [
    {
     "data": {
      "text/plain": [
       "'Hello'"
      ]
     },
     "execution_count": 108,
     "metadata": {},
     "output_type": "execute_result"
    }
   ],
   "source": [
    "str1=\"Hello\"\n",
    "str1"
   ]
  },
  {
   "cell_type": "code",
   "execution_count": null,
   "id": "c8a96571-a615-4e78-8f6e-9558c55406bb",
   "metadata": {},
   "outputs": [],
   "source": [
    "## 설계도 \n"
   ]
  },
  {
   "cell_type": "code",
   "execution_count": null,
   "id": "4dcfc303-f79b-45d6-a3d4-f728923963ec",
   "metadata": {},
   "outputs": [],
   "source": []
  },
  {
   "cell_type": "code",
   "execution_count": null,
   "id": "359a3bc4-acff-44c8-9db4-6dabe2e960f7",
   "metadata": {},
   "outputs": [],
   "source": []
  },
  {
   "cell_type": "code",
   "execution_count": 109,
   "id": "7d977df9-7eb6-42a2-a83b-81aee8595c22",
   "metadata": {
    "tags": []
   },
   "outputs": [
    {
     "data": {
      "text/plain": [
       "['__add__',\n",
       " '__class__',\n",
       " '__contains__',\n",
       " '__delattr__',\n",
       " '__dir__',\n",
       " '__doc__',\n",
       " '__eq__',\n",
       " '__format__',\n",
       " '__ge__',\n",
       " '__getattribute__',\n",
       " '__getitem__',\n",
       " '__getnewargs__',\n",
       " '__gt__',\n",
       " '__hash__',\n",
       " '__init__',\n",
       " '__init_subclass__',\n",
       " '__iter__',\n",
       " '__le__',\n",
       " '__len__',\n",
       " '__lt__',\n",
       " '__mod__',\n",
       " '__mul__',\n",
       " '__ne__',\n",
       " '__new__',\n",
       " '__reduce__',\n",
       " '__reduce_ex__',\n",
       " '__repr__',\n",
       " '__rmod__',\n",
       " '__rmul__',\n",
       " '__setattr__',\n",
       " '__sizeof__',\n",
       " '__str__',\n",
       " '__subclasshook__',\n",
       " 'capitalize',\n",
       " 'casefold',\n",
       " 'center',\n",
       " 'count',\n",
       " 'encode',\n",
       " 'endswith',\n",
       " 'expandtabs',\n",
       " 'find',\n",
       " 'format',\n",
       " 'format_map',\n",
       " 'index',\n",
       " 'isalnum',\n",
       " 'isalpha',\n",
       " 'isascii',\n",
       " 'isdecimal',\n",
       " 'isdigit',\n",
       " 'isidentifier',\n",
       " 'islower',\n",
       " 'isnumeric',\n",
       " 'isprintable',\n",
       " 'isspace',\n",
       " 'istitle',\n",
       " 'isupper',\n",
       " 'join',\n",
       " 'ljust',\n",
       " 'lower',\n",
       " 'lstrip',\n",
       " 'maketrans',\n",
       " 'partition',\n",
       " 'removeprefix',\n",
       " 'removesuffix',\n",
       " 'replace',\n",
       " 'rfind',\n",
       " 'rindex',\n",
       " 'rjust',\n",
       " 'rpartition',\n",
       " 'rsplit',\n",
       " 'rstrip',\n",
       " 'split',\n",
       " 'splitlines',\n",
       " 'startswith',\n",
       " 'strip',\n",
       " 'swapcase',\n",
       " 'title',\n",
       " 'translate',\n",
       " 'upper',\n",
       " 'zfill']"
      ]
     },
     "execution_count": 109,
     "metadata": {},
     "output_type": "execute_result"
    }
   ],
   "source": [
    "dir(str1) #__add__ 처럼 언더스코어 있는건 specal method "
   ]
  },
  {
   "cell_type": "code",
   "execution_count": 153,
   "id": "7c83efe2-fe20-408f-81af-974ef333a8ef",
   "metadata": {
    "tags": []
   },
   "outputs": [],
   "source": [
    "#pos 객체, 인스턴스\n",
    "#pos는 calculator클래스의 인스턴스 "
   ]
  },
  {
   "cell_type": "code",
   "execution_count": 1,
   "id": "52f06805-37b0-4df3-85ec-47410b4e39e8",
   "metadata": {
    "tags": []
   },
   "outputs": [
    {
     "ename": "NameError",
     "evalue": "name 'FourCal' is not defined",
     "output_type": "error",
     "traceback": [
      "\u001b[1;31m---------------------------------------------------------------------------\u001b[0m",
      "\u001b[1;31mNameError\u001b[0m                                 Traceback (most recent call last)",
      "Cell \u001b[1;32mIn[1], line 2\u001b[0m\n\u001b[0;32m      1\u001b[0m \u001b[38;5;66;03m#사칙연산 클래스 만들기 +_x / 기능 \u001b[39;00m\n\u001b[1;32m----> 2\u001b[0m a \u001b[38;5;241m=\u001b[39m \u001b[43mFourCal\u001b[49m()\n\u001b[0;32m      3\u001b[0m a\u001b[38;5;241m.\u001b[39msetdata(\u001b[38;5;241m4\u001b[39m,\u001b[38;5;241m3\u001b[39m)\n\u001b[0;32m      4\u001b[0m \u001b[38;5;28mprint\u001b[39m(a\u001b[38;5;241m.\u001b[39madd())\n",
      "\u001b[1;31mNameError\u001b[0m: name 'FourCal' is not defined"
     ]
    }
   ],
   "source": [
    "#사칙연산 클래스 만들기 +_x / 기능 \n",
    "a = FourCal()\n",
    "a.setdata(4,3)\n",
    "print(a.add())"
   ]
  },
  {
   "cell_type": "code",
   "execution_count": 166,
   "id": "a13ef071-adff-4ffc-9292-b389d9dcb3f8",
   "metadata": {
    "tags": []
   },
   "outputs": [],
   "source": [
    "class FourCal: \n",
    "    def setdata(self,a,b):\n",
    "        self.first = a\n",
    "        self.second = b\n",
    "        \n",
    "    def add(self):   #입력값없이 실행\n",
    "        self.result = self.first + self.second\n",
    "        return self.result\n",
    "    def sub(self):   #입력값없이 실행\n",
    "        self.result = self.first - self.second\n",
    "        return self.result\n",
    "    def mul(self):   #입력값없이 실행\n",
    "        self.result = self.first * self.second\n",
    "        return self.result\n",
    "    def div(self):   #입력값없이 실행\n",
    "        self.result = self.first / self.second\n",
    "        return self.result"
   ]
  },
  {
   "cell_type": "code",
   "execution_count": 167,
   "id": "7e402169-750f-4180-934e-ed8f0c81465c",
   "metadata": {
    "tags": []
   },
   "outputs": [],
   "source": [
    "cal = FourCal() "
   ]
  },
  {
   "cell_type": "code",
   "execution_count": 168,
   "id": "2031d3f3-943e-46a9-bd3b-bf5f52c85e79",
   "metadata": {
    "tags": []
   },
   "outputs": [
    {
     "data": {
      "text/plain": [
       "3"
      ]
     },
     "execution_count": 168,
     "metadata": {},
     "output_type": "execute_result"
    }
   ],
   "source": [
    "cal.setdata(2,3) #객체이름을 cal로 만들어줌으로써 self대신 cal사용 \n",
    "cal.first\n",
    "cal.second"
   ]
  },
  {
   "cell_type": "code",
   "execution_count": 169,
   "id": "4b7e3dde-ebd2-4060-9f46-fe9f2703fb8a",
   "metadata": {
    "tags": []
   },
   "outputs": [
    {
     "data": {
      "text/plain": [
       "5"
      ]
     },
     "execution_count": 169,
     "metadata": {},
     "output_type": "execute_result"
    }
   ],
   "source": [
    "cal.add()"
   ]
  },
  {
   "cell_type": "code",
   "execution_count": 170,
   "id": "0407f0c5-36bf-4155-8c7b-ac9ce504db3a",
   "metadata": {
    "tags": []
   },
   "outputs": [
    {
     "data": {
      "text/plain": [
       "5"
      ]
     },
     "execution_count": 170,
     "metadata": {},
     "output_type": "execute_result"
    }
   ],
   "source": [
    "cal.result"
   ]
  },
  {
   "cell_type": "code",
   "execution_count": 171,
   "id": "4837f559-c31d-4a73-8b33-01dc88660798",
   "metadata": {
    "tags": []
   },
   "outputs": [
    {
     "data": {
      "text/plain": [
       "0.6666666666666666"
      ]
     },
     "execution_count": 171,
     "metadata": {},
     "output_type": "execute_result"
    }
   ],
   "source": [
    "cal.div()"
   ]
  },
  {
   "cell_type": "code",
   "execution_count": 172,
   "id": "a88858b3-67e6-45a0-b8c4-e7664fdda37f",
   "metadata": {
    "tags": []
   },
   "outputs": [
    {
     "data": {
      "text/plain": [
       "6"
      ]
     },
     "execution_count": 172,
     "metadata": {},
     "output_type": "execute_result"
    }
   ],
   "source": [
    "cal.mul()"
   ]
  },
  {
   "cell_type": "code",
   "execution_count": 173,
   "id": "1c375ba4-36f2-4632-bee4-30cc4e844f59",
   "metadata": {
    "tags": []
   },
   "outputs": [
    {
     "data": {
      "text/plain": [
       "-1"
      ]
     },
     "execution_count": 173,
     "metadata": {},
     "output_type": "execute_result"
    }
   ],
   "source": [
    "cal.sub()"
   ]
  },
  {
   "cell_type": "code",
   "execution_count": 182,
   "id": "e954273f-8946-4bb8-abe1-8e8c1b0c65b0",
   "metadata": {
    "tags": []
   },
   "outputs": [],
   "source": [
    "#내가 정의하는 함수 \n",
    "class FourCal: \n",
    "    def __init__(self): \n",
    "        self.first = 2\n",
    "        self. second =3\n",
    "        \n",
    "    def add(self):   #입력값없이 실행\n",
    "        self.result = self.first + self.second\n",
    "        return self.result\n",
    "    def sub(self):   #입력값없이 실행\n",
    "        self.result = self.first - self.second\n",
    "        return self.result\n",
    "    def mul(self):   #입력값없이 실행\n",
    "        self.result = self.first * self.second\n",
    "        return self.result\n",
    "    def div(self):   #입력값없이 실행\n",
    "        self.result = self.first / self.second\n",
    "        return self.result"
   ]
  },
  {
   "cell_type": "code",
   "execution_count": 183,
   "id": "7dbe9f9d-3548-431e-892f-2d61b4fc440f",
   "metadata": {
    "tags": []
   },
   "outputs": [],
   "source": [
    "cal=FourCal()"
   ]
  },
  {
   "cell_type": "code",
   "execution_count": 184,
   "id": "82383c18-9886-4766-aad1-6843ebab5025",
   "metadata": {
    "tags": []
   },
   "outputs": [
    {
     "data": {
      "text/plain": [
       "5"
      ]
     },
     "execution_count": 184,
     "metadata": {},
     "output_type": "execute_result"
    }
   ],
   "source": [
    "cal.add()"
   ]
  },
  {
   "cell_type": "code",
   "execution_count": 185,
   "id": "e5a9cd72-15e4-42a0-9766-4fb7f8268638",
   "metadata": {
    "tags": []
   },
   "outputs": [],
   "source": [
    "#내가 정의하는 함수 \n",
    "class FourCal: \n",
    "    def __init__(self, a,b): \n",
    "        self.first = a\n",
    "        self. second =b\n",
    "        \n",
    "    def add(self):   #입력값없이 실행\n",
    "        self.result = self.first + self.second\n",
    "        return self.result\n",
    "    def sub(self):   #입력값없이 실행\n",
    "        self.result = self.first - self.second\n",
    "        return self.result\n",
    "    def mul(self):   #입력값없이 실행\n",
    "        self.result = self.first * self.second\n",
    "        return self.result\n",
    "    def div(self):   #입력값없이 실행\n",
    "        self.result = self.first / self.second\n",
    "        return self.result"
   ]
  },
  {
   "cell_type": "code",
   "execution_count": 187,
   "id": "55f8764c-aaae-4f5c-aea9-534ba0bc6513",
   "metadata": {
    "tags": []
   },
   "outputs": [],
   "source": [
    "cal = FourCal(1,4) #숫자 넣지 않으면 안돌아가"
   ]
  },
  {
   "cell_type": "code",
   "execution_count": 194,
   "id": "49f4be83-4735-493d-94ab-a6627a0c2cf8",
   "metadata": {
    "tags": []
   },
   "outputs": [],
   "source": [
    "class Child(FourCal):\n",
    "    pass"
   ]
  },
  {
   "cell_type": "code",
   "execution_count": 195,
   "id": "0bf0e03a-1919-4d32-98be-15ff65102b1a",
   "metadata": {
    "tags": []
   },
   "outputs": [],
   "source": [
    "a = Child(2,3)"
   ]
  },
  {
   "cell_type": "code",
   "execution_count": 196,
   "id": "e3bf0366-1cfd-4b32-b703-1ea42955c67c",
   "metadata": {
    "tags": []
   },
   "outputs": [
    {
     "data": {
      "text/plain": [
       "5"
      ]
     },
     "execution_count": 196,
     "metadata": {},
     "output_type": "execute_result"
    }
   ],
   "source": [
    "a.add()"
   ]
  },
  {
   "cell_type": "code",
   "execution_count": 210,
   "id": "6b81d1a1-d76f-4943-b71a-62b1e2b6c581",
   "metadata": {
    "tags": []
   },
   "outputs": [],
   "source": [
    "class Child (FourCal): \n",
    "    def power (self):\n",
    "        self.result = self.first ** self.second\n",
    "        return self.result "
   ]
  },
  {
   "cell_type": "code",
   "execution_count": 211,
   "id": "e2eadff0-2d95-4ead-9a2b-b9ce83320456",
   "metadata": {
    "tags": []
   },
   "outputs": [],
   "source": [
    "a = Child(2,3)"
   ]
  },
  {
   "cell_type": "code",
   "execution_count": 212,
   "id": "0b5cd9ce-df1c-4c89-9024-4d9468b647b0",
   "metadata": {
    "tags": []
   },
   "outputs": [
    {
     "data": {
      "text/plain": [
       "8"
      ]
     },
     "execution_count": 212,
     "metadata": {},
     "output_type": "execute_result"
    }
   ],
   "source": [
    "a.power()"
   ]
  },
  {
   "cell_type": "code",
   "execution_count": 213,
   "id": "c0048ad2-3f49-4917-a2ca-ddad3311b921",
   "metadata": {
    "tags": []
   },
   "outputs": [],
   "source": [
    "a = Child(2,0)"
   ]
  },
  {
   "cell_type": "code",
   "execution_count": 214,
   "id": "8e7432ff-1f4d-437d-b82f-116dbeaf2e35",
   "metadata": {
    "tags": []
   },
   "outputs": [
    {
     "data": {
      "text/plain": [
       "2"
      ]
     },
     "execution_count": 214,
     "metadata": {},
     "output_type": "execute_result"
    }
   ],
   "source": [
    "a.add()"
   ]
  },
  {
   "cell_type": "code",
   "execution_count": 215,
   "id": "89f1870b-83ae-4884-8429-dc5c80af4f07",
   "metadata": {
    "tags": []
   },
   "outputs": [
    {
     "data": {
      "text/plain": [
       "1"
      ]
     },
     "execution_count": 215,
     "metadata": {},
     "output_type": "execute_result"
    }
   ],
   "source": [
    "a.power()"
   ]
  },
  {
   "cell_type": "code",
   "execution_count": 216,
   "id": "f783c323-5a7d-4229-ae01-1ad7f842c941",
   "metadata": {
    "tags": []
   },
   "outputs": [
    {
     "data": {
      "text/plain": [
       "0"
      ]
     },
     "execution_count": 216,
     "metadata": {},
     "output_type": "execute_result"
    }
   ],
   "source": [
    "a.mul()"
   ]
  },
  {
   "cell_type": "code",
   "execution_count": 217,
   "id": "c5d07db3-a77c-4b41-8423-7fc4b7be7aa1",
   "metadata": {
    "tags": []
   },
   "outputs": [
    {
     "ename": "ZeroDivisionError",
     "evalue": "division by zero",
     "output_type": "error",
     "traceback": [
      "\u001b[1;31m---------------------------------------------------------------------------\u001b[0m",
      "\u001b[1;31mZeroDivisionError\u001b[0m                         Traceback (most recent call last)",
      "Cell \u001b[1;32mIn[217], line 1\u001b[0m\n\u001b[1;32m----> 1\u001b[0m \u001b[43ma\u001b[49m\u001b[38;5;241;43m.\u001b[39;49m\u001b[43mdiv\u001b[49m\u001b[43m(\u001b[49m\u001b[43m)\u001b[49m\n",
      "Cell \u001b[1;32mIn[185], line 17\u001b[0m, in \u001b[0;36mFourCal.div\u001b[1;34m(self)\u001b[0m\n\u001b[0;32m     16\u001b[0m \u001b[38;5;28;01mdef\u001b[39;00m \u001b[38;5;21mdiv\u001b[39m(\u001b[38;5;28mself\u001b[39m):   \u001b[38;5;66;03m#입력값없이 실행\u001b[39;00m\n\u001b[1;32m---> 17\u001b[0m     \u001b[38;5;28mself\u001b[39m\u001b[38;5;241m.\u001b[39mresult \u001b[38;5;241m=\u001b[39m \u001b[38;5;28;43mself\u001b[39;49m\u001b[38;5;241;43m.\u001b[39;49m\u001b[43mfirst\u001b[49m\u001b[43m \u001b[49m\u001b[38;5;241;43m/\u001b[39;49m\u001b[43m \u001b[49m\u001b[38;5;28;43mself\u001b[39;49m\u001b[38;5;241;43m.\u001b[39;49m\u001b[43msecond\u001b[49m\n\u001b[0;32m     18\u001b[0m     \u001b[38;5;28;01mreturn\u001b[39;00m \u001b[38;5;28mself\u001b[39m\u001b[38;5;241m.\u001b[39mresult\n",
      "\u001b[1;31mZeroDivisionError\u001b[0m: division by zero"
     ]
    }
   ],
   "source": [
    "a.div()"
   ]
  },
  {
   "cell_type": "code",
   "execution_count": 218,
   "id": "5a67f063-2154-4ea1-8b97-fad85d6c8af0",
   "metadata": {
    "tags": []
   },
   "outputs": [],
   "source": [
    "class Child(FourCal):\n",
    "    def div(self):\n",
    "        if self.second != 0: \n",
    "            self.result = self.first/self.divide \n",
    "            return self.result \n",
    "        else: \n",
    "            print(\"0으로 나눌 수 없습니다.\")"
   ]
  },
  {
   "cell_type": "code",
   "execution_count": 220,
   "id": "4d28d016-671d-429f-82f8-b8a682d6fc23",
   "metadata": {
    "tags": []
   },
   "outputs": [],
   "source": [
    "a= Child(2,0)"
   ]
  },
  {
   "cell_type": "code",
   "execution_count": 221,
   "id": "c9a18bad-f5eb-477d-8523-7aa002b0b6fa",
   "metadata": {
    "tags": []
   },
   "outputs": [
    {
     "name": "stdout",
     "output_type": "stream",
     "text": [
      "0으로 나눌 수 없습니다.\n"
     ]
    }
   ],
   "source": [
    "a.div()"
   ]
  },
  {
   "cell_type": "code",
   "execution_count": 222,
   "id": "84bca695-5a97-4c68-893d-46b41af77d1b",
   "metadata": {
    "tags": []
   },
   "outputs": [],
   "source": [
    "## 클래스 변수"
   ]
  },
  {
   "cell_type": "code",
   "execution_count": 264,
   "id": "3da84a03-52fd-4002-bccb-495dd3a39dc1",
   "metadata": {
    "tags": []
   },
   "outputs": [],
   "source": [
    "class Family: \n",
    "    def __init__(self):\n",
    "        self.name= \"길동\" #인스턴스 변수"
   ]
  },
  {
   "cell_type": "code",
   "execution_count": 265,
   "id": "6036541f-130a-4856-a522-6dfa46152d94",
   "metadata": {
    "tags": []
   },
   "outputs": [],
   "source": [
    "a = Family()"
   ]
  },
  {
   "cell_type": "code",
   "execution_count": 247,
   "id": "955c7ebd-12b4-4084-997a-f48351921250",
   "metadata": {
    "tags": []
   },
   "outputs": [
    {
     "data": {
      "text/plain": [
       "2197456042576"
      ]
     },
     "execution_count": 247,
     "metadata": {},
     "output_type": "execute_result"
    }
   ],
   "source": [
    "id(a.lastname)"
   ]
  },
  {
   "cell_type": "code",
   "execution_count": 250,
   "id": "29358288-7712-45bd-af92-5df32f10676a",
   "metadata": {
    "tags": []
   },
   "outputs": [],
   "source": [
    "#클래스 이름 . 클래스 변수 \n",
    "Family.lastname= \"최\"\n"
   ]
  },
  {
   "cell_type": "code",
   "execution_count": 266,
   "id": "d998a529-eab6-40fc-b3f4-369f7667ab35",
   "metadata": {
    "tags": []
   },
   "outputs": [
    {
     "data": {
      "text/plain": [
       "2197422042416"
      ]
     },
     "execution_count": 266,
     "metadata": {},
     "output_type": "execute_result"
    }
   ],
   "source": [
    "id(a.name)"
   ]
  },
  {
   "cell_type": "code",
   "execution_count": 243,
   "id": "6109b26f-c910-47ed-876e-33def73eedda",
   "metadata": {
    "tags": []
   },
   "outputs": [
    {
     "data": {
      "text/plain": [
       "'김'"
      ]
     },
     "execution_count": 243,
     "metadata": {},
     "output_type": "execute_result"
    }
   ],
   "source": [
    "a.lastname"
   ]
  },
  {
   "cell_type": "code",
   "execution_count": 275,
   "id": "c53b46f2-dd3a-479e-9cab-9fbafea54ddd",
   "metadata": {
    "tags": []
   },
   "outputs": [],
   "source": [
    "class Family:\n",
    "    def __init__(self):\n",
    "        self.name= input(\"이름은?\")"
   ]
  },
  {
   "cell_type": "code",
   "execution_count": 268,
   "id": "54a88e77-9b6c-4943-8182-589907c35a79",
   "metadata": {
    "tags": []
   },
   "outputs": [
    {
     "name": "stdin",
     "output_type": "stream",
     "text": [
      "이름은? 은서\n"
     ]
    }
   ],
   "source": [
    "a = Family()"
   ]
  },
  {
   "cell_type": "code",
   "execution_count": 269,
   "id": "d84e07a9-6962-4c18-a37d-b6c294ece5f8",
   "metadata": {
    "tags": []
   },
   "outputs": [
    {
     "data": {
      "text/plain": [
       "'은서'"
      ]
     },
     "execution_count": 269,
     "metadata": {},
     "output_type": "execute_result"
    }
   ],
   "source": [
    "a.name"
   ]
  },
  {
   "cell_type": "code",
   "execution_count": 271,
   "id": "a6cb5f32-c900-441e-a41d-1a41a45e7b48",
   "metadata": {
    "tags": []
   },
   "outputs": [],
   "source": [
    "class Family:\n",
    "    def __init__(self, name):\n",
    "        self.name= name"
   ]
  },
  {
   "cell_type": "code",
   "execution_count": 272,
   "id": "c1a248b2-7111-4604-a000-aec36a7d920e",
   "metadata": {
    "tags": []
   },
   "outputs": [
    {
     "data": {
      "text/plain": [
       "'은서'"
      ]
     },
     "execution_count": 272,
     "metadata": {},
     "output_type": "execute_result"
    }
   ],
   "source": [
    "a.name"
   ]
  },
  {
   "cell_type": "code",
   "execution_count": 276,
   "id": "cf476b40-28ba-404b-9c3a-ffb7f729de9f",
   "metadata": {
    "tags": []
   },
   "outputs": [
    {
     "name": "stdin",
     "output_type": "stream",
     "text": [
      "이름은? d은서\n"
     ]
    },
    {
     "data": {
      "text/plain": [
       "'d은서'"
      ]
     },
     "execution_count": 276,
     "metadata": {},
     "output_type": "execute_result"
    }
   ],
   "source": [
    "a= Family()\n",
    "a.name"
   ]
  },
  {
   "cell_type": "code",
   "execution_count": 298,
   "id": "12811793-2ccb-4954-8705-385bfa2d6598",
   "metadata": {
    "tags": []
   },
   "outputs": [],
   "source": [
    "class Person:\n",
    "    name =  \"은서\" \n",
    "    def __init__(self):\n",
    "        self.name = \"은서\"\n",
    "        \n",
    "    def show(self):\n",
    "        print(Person.name)\n",
    "        print(self. name)\n",
    "\n"
   ]
  },
  {
   "cell_type": "code",
   "execution_count": 290,
   "id": "b95b1d6d-beac-4330-9a6f-8f0b07a0da8c",
   "metadata": {
    "tags": []
   },
   "outputs": [
    {
     "name": "stdout",
     "output_type": "stream",
     "text": [
      "은서\n",
      "은서\n"
     ]
    }
   ],
   "source": [
    "print(Person.name)\n",
    "p1 = Person()\n",
    "print(p1.name)\n"
   ]
  },
  {
   "cell_type": "code",
   "execution_count": 299,
   "id": "4c685bf0-5f1f-4fba-9581-48bb20d325b6",
   "metadata": {
    "tags": []
   },
   "outputs": [
    {
     "name": "stdout",
     "output_type": "stream",
     "text": [
      "은서\n",
      "은서\n"
     ]
    }
   ],
   "source": [
    "p1= Person()\n",
    "p1.show()  #show 함수  한번에 불러와줌 "
   ]
  },
  {
   "cell_type": "markdown",
   "id": "10219b8b-3924-4c47-9d46-4029e07abec9",
   "metadata": {},
   "source": [
    "## 내장함수 "
   ]
  },
  {
   "cell_type": "code",
   "execution_count": 300,
   "id": "d4621b5f-eeab-4e32-abf3-38ac76efe2b6",
   "metadata": {
    "tags": []
   },
   "outputs": [
    {
     "data": {
      "text/plain": [
       "3"
      ]
     },
     "execution_count": 300,
     "metadata": {},
     "output_type": "execute_result"
    }
   ],
   "source": [
    "int(\"3\")\n"
   ]
  },
  {
   "cell_type": "code",
   "execution_count": 302,
   "id": "d2715728-25eb-4dd7-9c96-1d436a30644c",
   "metadata": {
    "tags": []
   },
   "outputs": [
    {
     "data": {
      "text/plain": [
       "3"
      ]
     },
     "execution_count": 302,
     "metadata": {},
     "output_type": "execute_result"
    }
   ],
   "source": [
    "abs(3)"
   ]
  },
  {
   "cell_type": "code",
   "execution_count": 303,
   "id": "2b197dc4-d004-456c-b42e-adff4817646d",
   "metadata": {
    "tags": []
   },
   "outputs": [
    {
     "data": {
      "text/plain": [
       "3.4"
      ]
     },
     "execution_count": 303,
     "metadata": {},
     "output_type": "execute_result"
    }
   ],
   "source": [
    "abs(-3.4)"
   ]
  },
  {
   "cell_type": "code",
   "execution_count": null,
   "id": "40c7a9b2-8d2c-4cb1-98df-433abdf7a389",
   "metadata": {},
   "outputs": [],
   "source": []
  }
 ],
 "metadata": {
  "kernelspec": {
   "display_name": "Python 3 (ipykernel)",
   "language": "python",
   "name": "python3"
  },
  "language_info": {
   "codemirror_mode": {
    "name": "ipython",
    "version": 3
   },
   "file_extension": ".py",
   "mimetype": "text/x-python",
   "name": "python",
   "nbconvert_exporter": "python",
   "pygments_lexer": "ipython3",
   "version": "3.10.9"
  }
 },
 "nbformat": 4,
 "nbformat_minor": 5
}
