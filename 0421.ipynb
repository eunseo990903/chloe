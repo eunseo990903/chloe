{
 "cells": [
  {
   "cell_type": "code",
   "execution_count": 22,
   "id": "f25037a9-5358-4882-9175-4c1436f7a4a7",
   "metadata": {},
   "outputs": [],
   "source": [
    "import sklearn\n",
    "import pandas as pd\n",
    "from sklearn.datasets import load_iris\n",
    "from sklearn.tree import DecisionTreeClassifier\n",
    "from sklearn.model_selection import train_test_split\n",
    "from sklearn.metrics import accuracy_score\n",
    "from sklearn.model_selection import GridSearchCV"
   ]
  },
  {
   "cell_type": "markdown",
   "id": "3d04e888-4eeb-436a-a5de-44a970446713",
   "metadata": {},
   "source": [
    "## 복습"
   ]
  },
  {
   "cell_type": "raw",
   "id": "ad2be4ac-574e-4a65-951b-d6eb9e81ed9c",
   "metadata": {},
   "source": [
    "estimator = regressor + classifier \n",
    "\n",
    "kfold 데이터셋을 일정하게 나눔 \n",
    "stratified kfold target 의 비율을 일정하게 나눔 "
   ]
  },
  {
   "cell_type": "code",
   "execution_count": 9,
   "id": "d676bf5d-f28f-4d1f-a17a-92165f0b2644",
   "metadata": {},
   "outputs": [
    {
     "data": {
      "text/html": [
       "<div>\n",
       "<style scoped>\n",
       "    .dataframe tbody tr th:only-of-type {\n",
       "        vertical-align: middle;\n",
       "    }\n",
       "\n",
       "    .dataframe tbody tr th {\n",
       "        vertical-align: top;\n",
       "    }\n",
       "\n",
       "    .dataframe thead th {\n",
       "        text-align: right;\n",
       "    }\n",
       "</style>\n",
       "<table border=\"1\" class=\"dataframe\">\n",
       "  <thead>\n",
       "    <tr style=\"text-align: right;\">\n",
       "      <th></th>\n",
       "      <th>carat</th>\n",
       "      <th>cut</th>\n",
       "      <th>color</th>\n",
       "      <th>clarity</th>\n",
       "      <th>depth</th>\n",
       "      <th>table</th>\n",
       "      <th>price</th>\n",
       "      <th>x</th>\n",
       "      <th>y</th>\n",
       "      <th>z</th>\n",
       "    </tr>\n",
       "  </thead>\n",
       "  <tbody>\n",
       "    <tr>\n",
       "      <th>1</th>\n",
       "      <td>0.23</td>\n",
       "      <td>Ideal</td>\n",
       "      <td>E</td>\n",
       "      <td>SI2</td>\n",
       "      <td>61.5</td>\n",
       "      <td>55.0</td>\n",
       "      <td>326</td>\n",
       "      <td>3.95</td>\n",
       "      <td>3.98</td>\n",
       "      <td>2.43</td>\n",
       "    </tr>\n",
       "  </tbody>\n",
       "</table>\n",
       "</div>"
      ],
      "text/plain": [
       "   carat    cut color clarity  depth  table  price     x     y     z\n",
       "1   0.23  Ideal     E     SI2   61.5   55.0    326  3.95  3.98  2.43"
      ]
     },
     "execution_count": 9,
     "metadata": {},
     "output_type": "execute_result"
    }
   ],
   "source": [
    "import pydataset \n",
    "dia=pydataset.data('diamonds')\n",
    "dia[:1]"
   ]
  },
  {
   "cell_type": "code",
   "execution_count": 21,
   "id": "9fd0a6cb-6af2-49fd-aefb-04bdc3e1fa02",
   "metadata": {},
   "outputs": [
    {
     "data": {
      "text/plain": [
       "0.7064021752564578"
      ]
     },
     "execution_count": 21,
     "metadata": {},
     "output_type": "execute_result"
    }
   ],
   "source": [
    "#train_test_split\n",
    "x= dia[['carat','depth','table','price','x','y','z']]\n",
    "y=dia['cut']\n",
    "x_train,x_test,y_train,y_test=train_test_split(x,y,test_size=0.3)\n",
    "dt_clf=DecisionTreeClassifier()\n",
    "dt_clf.fit(x_train, y_train)\n",
    "pred=dt_clf.predict(x_test)\n",
    "accuracy_score(pred,y_test)"
   ]
  },
  {
   "cell_type": "code",
   "execution_count": 28,
   "id": "da95c383-3596-4f1a-b8fa-5d0f1004b18f",
   "metadata": {},
   "outputs": [
    {
     "data": {
      "text/plain": [
       "{'max_depth': 7, 'min_samples_leaf': 4, 'min_samples_split': 1}"
      ]
     },
     "execution_count": 28,
     "metadata": {},
     "output_type": "execute_result"
    }
   ],
   "source": [
    "#gridsearchcv\n",
    "x= dia[['carat','depth','table','price','x','y','z']]\n",
    "y=dia['cut']\n",
    "x_train,x_test,y_train,y_test=train_test_split(x,y,test_size=0.3)\n",
    "dt_clf=DecisionTreeClassifier()\n",
    "grid_parameter = {'max_depth':[1,2,3,4,5,6,7],'min_samples_split':[1,2], 'min_samples_leaf':[1,2,3,4]} \n",
    "grid_dt_clf=GridSearchCV(dt_clf,param_grid=grid_parameter, cv=5, refit=True)\n",
    "grid_dt_clf.fit(x_train,y_train)\n",
    "\n",
    "grid_dt_clf.best_params_ #최적의 파라미터\n",
    "scores=pd.DataFrame(grid_dt_clf.cv_results_)# df 로 다 각각의 파라미터 보여줌 \n",
    "scores\n"
   ]
  },
  {
   "cell_type": "code",
   "execution_count": 33,
   "id": "08af186f-9a5a-4d6c-a2aa-74b9374a2b71",
   "metadata": {},
   "outputs": [
    {
     "data": {
      "text/plain": [
       "0.7373625015449264"
      ]
     },
     "execution_count": 33,
     "metadata": {},
     "output_type": "execute_result"
    }
   ],
   "source": [
    "estimator= grid_dt_clf.best_estimator_\n",
    "pred= estimator.predict(x_test)\n",
    "accuracy_score(y_test,pred)"
   ]
  },
  {
   "cell_type": "code",
   "execution_count": 40,
   "id": "805eba66-2a7a-4ab4-bac1-bd071ca10826",
   "metadata": {},
   "outputs": [
    {
     "data": {
      "text/plain": [
       "0.7373625015449264"
      ]
     },
     "execution_count": 40,
     "metadata": {},
     "output_type": "execute_result"
    }
   ],
   "source": [
    "dia['cut']=dia['cut'].astype('category')\n",
    "x_train,x_test,y_train,y_test=train_test_split(x,y,test_size=0.3)\n",
    "dt_clf=DecisionTreeClassifier()\n",
    "grid_parameter = {'max_depth':[1,2,3,4,5,6,7],'min_samples_split':[1,2], 'min_samples_leaf':[1,2,3,4]} \n",
    "grid_dt_clf=GridSearchCV(dt_clf,param_grid=grid_parameter, cv=5, refit=True)\n",
    "grid_dt_clf.fit(x_train,y_train)\n",
    "estimator= grid_dt_clf.best_estimator_\n",
    "pred= estimator.predict(x_test)\n",
    "accuracy_score(y_test,pred)"
   ]
  },
  {
   "cell_type": "code",
   "execution_count": 55,
   "id": "1bafaa5f-47db-4303-b9b1-06bf2834df5b",
   "metadata": {},
   "outputs": [],
   "source": [
    "air=pydataset.data('airquality')\n",
    "air.isnull().sum()\n",
    "air=air.fillna('0')\n",
    "air['season'] = pd.Categorical.from_codes(iris['target'], load_iris()['target_names']"
   ]
  },
  {
   "cell_type": "code",
   "execution_count": 51,
   "id": "47778f86-54ff-42ce-8f1a-3b52bde033fa",
   "metadata": {},
   "outputs": [
    {
     "ename": "AttributeError",
     "evalue": "'Series' object has no attribute 'query'",
     "output_type": "error",
     "traceback": [
      "\u001b[1;31m---------------------------------------------------------------------------\u001b[0m",
      "\u001b[1;31mAttributeError\u001b[0m                            Traceback (most recent call last)",
      "Cell \u001b[1;32mIn[51], line 2\u001b[0m\n\u001b[0;32m      1\u001b[0m air[\u001b[38;5;124m'\u001b[39m\u001b[38;5;124mMonth\u001b[39m\u001b[38;5;124m'\u001b[39m]\u001b[38;5;241m.\u001b[39munique()\n\u001b[1;32m----> 2\u001b[0m air[\u001b[38;5;124m'\u001b[39m\u001b[38;5;124mseason\u001b[39m\u001b[38;5;124m'\u001b[39m]\u001b[38;5;241m=\u001b[39m\u001b[43mair\u001b[49m\u001b[43m[\u001b[49m\u001b[38;5;124;43m'\u001b[39;49m\u001b[38;5;124;43mMonth\u001b[39;49m\u001b[38;5;124;43m'\u001b[39;49m\u001b[43m]\u001b[49m\u001b[38;5;241;43m.\u001b[39;49m\u001b[43mquery\u001b[49m(\u001b[38;5;124m'\u001b[39m\u001b[38;5;124m5,6,==\u001b[39m\u001b[38;5;124m\"\u001b[39m\u001b[38;5;124mspring\u001b[39m\u001b[38;5;124m\"\u001b[39m\u001b[38;5;124m, \u001b[39m\u001b[38;5;124m'\u001b[39m)\n",
      "File \u001b[1;32m~\\anaconda3\\lib\\site-packages\\pandas\\core\\generic.py:5902\u001b[0m, in \u001b[0;36mNDFrame.__getattr__\u001b[1;34m(self, name)\u001b[0m\n\u001b[0;32m   5895\u001b[0m \u001b[38;5;28;01mif\u001b[39;00m (\n\u001b[0;32m   5896\u001b[0m     name \u001b[38;5;129;01mnot\u001b[39;00m \u001b[38;5;129;01min\u001b[39;00m \u001b[38;5;28mself\u001b[39m\u001b[38;5;241m.\u001b[39m_internal_names_set\n\u001b[0;32m   5897\u001b[0m     \u001b[38;5;129;01mand\u001b[39;00m name \u001b[38;5;129;01mnot\u001b[39;00m \u001b[38;5;129;01min\u001b[39;00m \u001b[38;5;28mself\u001b[39m\u001b[38;5;241m.\u001b[39m_metadata\n\u001b[0;32m   5898\u001b[0m     \u001b[38;5;129;01mand\u001b[39;00m name \u001b[38;5;129;01mnot\u001b[39;00m \u001b[38;5;129;01min\u001b[39;00m \u001b[38;5;28mself\u001b[39m\u001b[38;5;241m.\u001b[39m_accessors\n\u001b[0;32m   5899\u001b[0m     \u001b[38;5;129;01mand\u001b[39;00m \u001b[38;5;28mself\u001b[39m\u001b[38;5;241m.\u001b[39m_info_axis\u001b[38;5;241m.\u001b[39m_can_hold_identifiers_and_holds_name(name)\n\u001b[0;32m   5900\u001b[0m ):\n\u001b[0;32m   5901\u001b[0m     \u001b[38;5;28;01mreturn\u001b[39;00m \u001b[38;5;28mself\u001b[39m[name]\n\u001b[1;32m-> 5902\u001b[0m \u001b[38;5;28;01mreturn\u001b[39;00m \u001b[38;5;28;43mobject\u001b[39;49m\u001b[38;5;241;43m.\u001b[39;49m\u001b[38;5;21;43m__getattribute__\u001b[39;49m\u001b[43m(\u001b[49m\u001b[38;5;28;43mself\u001b[39;49m\u001b[43m,\u001b[49m\u001b[43m \u001b[49m\u001b[43mname\u001b[49m\u001b[43m)\u001b[49m\n",
      "\u001b[1;31mAttributeError\u001b[0m: 'Series' object has no attribute 'query'"
     ]
    }
   ],
   "source": [
    "air['Month'].unique()\n",
    "air['season']=np.where(air[' ) "
   ]
  },
  {
   "cell_type": "code",
   "execution_count": 59,
   "id": "26a38606-920b-4e0c-a8f7-8789be66f0e9",
   "metadata": {},
   "outputs": [],
   "source": [
    "air['season'] =air['Month'].replace({5:'spring',6:'spring',7:'summer',8:'summer',9:'summer'}) \n",
    "air[:1]\n",
    "air['season']=air['season'].astype('category')"
   ]
  },
  {
   "cell_type": "code",
   "execution_count": 75,
   "id": "169f1254-4d62-4ec2-bc2d-5890841ebce3",
   "metadata": {},
   "outputs": [
    {
     "name": "stdout",
     "output_type": "stream",
     "text": [
      "테스트 정확도:0.7949\n"
     ]
    }
   ],
   "source": [
    "x=air[['Ozone',\t'Solar.R',\t'Wind',\t'Temp']]\n",
    "y=air['season']\n",
    "x_train,x_test,y_train,y_test=train_test_split(x,y)\n",
    "dtree=DecisionTreeClassifier()\n",
    "grid_parameter = {'max_depth':[1,2,3,4,5,6,7],'min_samples_split':[2,3,4],\n",
    "                  'min_samples_leaf':[1,2,3,4]} \n",
    "grid_dt_clf=GridSearchCV(dtree,param_grid=grid_parameter, cv=5, refit=True)\n",
    "grid_dt_clf.fit(x_train,y_train)\n",
    "estimator= grid_dt_clf.best_estimator_\n",
    "pred= estimator.predict(x_test)\n",
    "acc=accuracy_score(y_test,pred)\n",
    "print(f'테스트 정확도:{acc:.4f}')"
   ]
  },
  {
   "cell_type": "code",
   "execution_count": 85,
   "id": "ed4f7592-180a-4b8d-8d48-8bd64173f123",
   "metadata": {},
   "outputs": [
    {
     "data": {
      "text/plain": [
       "<bound method LabelEncoder.inverse_transform of LabelEncoder()>"
      ]
     },
     "execution_count": 85,
     "metadata": {},
     "output_type": "execute_result"
    }
   ],
   "source": [
    "items = ['TV', '냉장고', '전자레인지', '컴퓨터', '선풍기', '선풍기', '믹서', '믹서']\n",
    "from sklearn.preprocessing import LabelEncoder\n",
    "encoder=LabelEncoder().fit(items)\n",
    "labels = encoder.transform(items)\n",
    "labels\n",
    "encoder.classes_\n",
    "encoder.inverse_transform"
   ]
  },
  {
   "cell_type": "code",
   "execution_count": 86,
   "id": "fff9ede6-149f-4822-9b23-79c7e18779ee",
   "metadata": {},
   "outputs": [
    {
     "data": {
      "text/plain": [
       "array([0, 1, 4, 5, 3, 3, 2, 2], dtype=int64)"
      ]
     },
     "execution_count": 86,
     "metadata": {},
     "output_type": "execute_result"
    }
   ],
   "source": [
    "encoder.fit_transform(items)"
   ]
  },
  {
   "cell_type": "code",
   "execution_count": 93,
   "id": "847404e1-d852-4e89-b8d3-8c9db519d44f",
   "metadata": {},
   "outputs": [
    {
     "name": "stdout",
     "output_type": "stream",
     "text": [
      "원-핫 인코딩 데이터\n",
      "[[1. 0. 0. 0. 0. 0.]\n",
      " [0. 1. 0. 0. 0. 0.]\n",
      " [0. 0. 0. 0. 1. 0.]\n",
      " [0. 0. 0. 0. 0. 1.]\n",
      " [0. 0. 0. 1. 0. 0.]\n",
      " [0. 0. 0. 1. 0. 0.]\n",
      " [0. 0. 1. 0. 0. 0.]\n",
      " [0. 0. 1. 0. 0. 0.]]\n",
      "원-핫 인코딩 데이터 차원\n",
      "(8, 6)\n"
     ]
    },
    {
     "data": {
      "text/plain": [
       "<8x6 sparse matrix of type '<class 'numpy.float64'>'\n",
       "\twith 8 stored elements in Compressed Sparse Row format>"
      ]
     },
     "execution_count": 93,
     "metadata": {},
     "output_type": "execute_result"
    }
   ],
   "source": [
    "from sklearn.preprocessing import OneHotEncoder\n",
    "import numpy as np\n",
    "\n",
    "items = ['TV', '냉장고', '전자레인지', '컴퓨터', '선풍기', '선풍기', '믹서', '믹서']\n",
    "items=np.array(items).reshape(-1,1) #세로 한줄로 쭉 정렬 \n",
    "\n",
    "oh_encoder = OneHotEncoder()\n",
    "oh_encoder.fit(labels)\n",
    "oh_labels = oh_encoder.transform(labels)\n",
    "print('원-핫 인코딩 데이터')\n",
    "print(oh_labels.toarray())\n",
    "print('원-핫 인코딩 데이터 차원')\n",
    "print(oh_labels.shape)\n",
    "\n",
    "oh_labels"
   ]
  },
  {
   "cell_type": "code",
   "execution_count": 91,
   "id": "075a5a5e-9041-461d-a433-847456745b2a",
   "metadata": {},
   "outputs": [
    {
     "data": {
      "text/html": [
       "<div>\n",
       "<style scoped>\n",
       "    .dataframe tbody tr th:only-of-type {\n",
       "        vertical-align: middle;\n",
       "    }\n",
       "\n",
       "    .dataframe tbody tr th {\n",
       "        vertical-align: top;\n",
       "    }\n",
       "\n",
       "    .dataframe thead th {\n",
       "        text-align: right;\n",
       "    }\n",
       "</style>\n",
       "<table border=\"1\" class=\"dataframe\">\n",
       "  <thead>\n",
       "    <tr style=\"text-align: right;\">\n",
       "      <th></th>\n",
       "      <th>item_TV</th>\n",
       "      <th>item_냉장고</th>\n",
       "      <th>item_믹서</th>\n",
       "      <th>item_선풍기</th>\n",
       "      <th>item_전자레인지</th>\n",
       "      <th>item_컴퓨터</th>\n",
       "    </tr>\n",
       "  </thead>\n",
       "  <tbody>\n",
       "    <tr>\n",
       "      <th>0</th>\n",
       "      <td>1</td>\n",
       "      <td>0</td>\n",
       "      <td>0</td>\n",
       "      <td>0</td>\n",
       "      <td>0</td>\n",
       "      <td>0</td>\n",
       "    </tr>\n",
       "    <tr>\n",
       "      <th>1</th>\n",
       "      <td>0</td>\n",
       "      <td>1</td>\n",
       "      <td>0</td>\n",
       "      <td>0</td>\n",
       "      <td>0</td>\n",
       "      <td>0</td>\n",
       "    </tr>\n",
       "    <tr>\n",
       "      <th>2</th>\n",
       "      <td>0</td>\n",
       "      <td>0</td>\n",
       "      <td>0</td>\n",
       "      <td>0</td>\n",
       "      <td>1</td>\n",
       "      <td>0</td>\n",
       "    </tr>\n",
       "    <tr>\n",
       "      <th>3</th>\n",
       "      <td>0</td>\n",
       "      <td>0</td>\n",
       "      <td>0</td>\n",
       "      <td>0</td>\n",
       "      <td>0</td>\n",
       "      <td>1</td>\n",
       "    </tr>\n",
       "    <tr>\n",
       "      <th>4</th>\n",
       "      <td>0</td>\n",
       "      <td>0</td>\n",
       "      <td>0</td>\n",
       "      <td>1</td>\n",
       "      <td>0</td>\n",
       "      <td>0</td>\n",
       "    </tr>\n",
       "    <tr>\n",
       "      <th>5</th>\n",
       "      <td>0</td>\n",
       "      <td>0</td>\n",
       "      <td>0</td>\n",
       "      <td>1</td>\n",
       "      <td>0</td>\n",
       "      <td>0</td>\n",
       "    </tr>\n",
       "    <tr>\n",
       "      <th>6</th>\n",
       "      <td>0</td>\n",
       "      <td>0</td>\n",
       "      <td>1</td>\n",
       "      <td>0</td>\n",
       "      <td>0</td>\n",
       "      <td>0</td>\n",
       "    </tr>\n",
       "    <tr>\n",
       "      <th>7</th>\n",
       "      <td>0</td>\n",
       "      <td>0</td>\n",
       "      <td>1</td>\n",
       "      <td>0</td>\n",
       "      <td>0</td>\n",
       "      <td>0</td>\n",
       "    </tr>\n",
       "  </tbody>\n",
       "</table>\n",
       "</div>"
      ],
      "text/plain": [
       "   item_TV  item_냉장고  item_믹서  item_선풍기  item_전자레인지  item_컴퓨터\n",
       "0        1         0        0         0           0         0\n",
       "1        0         1        0         0           0         0\n",
       "2        0         0        0         0           1         0\n",
       "3        0         0        0         0           0         1\n",
       "4        0         0        0         1           0         0\n",
       "5        0         0        0         1           0         0\n",
       "6        0         0        1         0           0         0\n",
       "7        0         0        1         0           0         0"
      ]
     },
     "execution_count": 91,
     "metadata": {},
     "output_type": "execute_result"
    }
   ],
   "source": [
    "df =pd.DataFrame({'item':['TV', '냉장고', '전자레인지', '컴퓨터', '선풍기', '선풍기', '믹서', '믹서']})\n",
    "pd.get_dummies(df)"
   ]
  },
  {
   "cell_type": "code",
   "execution_count": 108,
   "id": "6e7fac98-ba17-46ad-ac76-66de1d9bf933",
   "metadata": {},
   "outputs": [],
   "source": [
    "\n",
    "items=np.array(dia['cut']).reshape(-1,1) #세로 한줄로 쭉 정렬 \n",
    "oh_encoder = OneHotEncoder()\n",
    "oh_encoder.fit(items)\n",
    "oh_labels = oh_encoder.transform(items)\n",
    "oh_labels=oh_labels.toarray()\n",
    "\n",
    "\n"
   ]
  },
  {
   "cell_type": "code",
   "execution_count": 101,
   "id": "12790f81-b101-43af-a329-4a0b4ca3775c",
   "metadata": {},
   "outputs": [
    {
     "ename": "TypeError",
     "evalue": "unhashable type: 'Series'",
     "output_type": "error",
     "traceback": [
      "\u001b[1;31m---------------------------------------------------------------------------\u001b[0m",
      "\u001b[1;31mTypeError\u001b[0m                                 Traceback (most recent call last)",
      "Cell \u001b[1;32mIn[101], line 1\u001b[0m\n\u001b[1;32m----> 1\u001b[0m df\u001b[38;5;241m=\u001b[39m{dia[\u001b[38;5;124m'\u001b[39m\u001b[38;5;124mcut\u001b[39m\u001b[38;5;124m'\u001b[39m]:[\u001b[38;5;124m'\u001b[39m\u001b[38;5;124mIdeal\u001b[39m\u001b[38;5;124m'\u001b[39m, \u001b[38;5;124m'\u001b[39m\u001b[38;5;124mPremium\u001b[39m\u001b[38;5;124m'\u001b[39m, \u001b[38;5;124m'\u001b[39m\u001b[38;5;124mGood\u001b[39m\u001b[38;5;124m'\u001b[39m, \u001b[38;5;124m'\u001b[39m\u001b[38;5;124mVery Good\u001b[39m\u001b[38;5;124m'\u001b[39m, \u001b[38;5;124m'\u001b[39m\u001b[38;5;124mFair\u001b[39m\u001b[38;5;124m'\u001b[39m]}\n\u001b[0;32m      2\u001b[0m pd\u001b[38;5;241m.\u001b[39mget_dummies(df)\n",
      "\u001b[1;31mTypeError\u001b[0m: unhashable type: 'Series'"
     ]
    }
   ],
   "source": [
    "df={dia['cut']:['Ideal', 'Premium', 'Good', 'Very Good', 'Fair']}\n",
    "pd.get_dummies(df)"
   ]
  },
  {
   "cell_type": "code",
   "execution_count": 98,
   "id": "7bf46996-9f02-4c44-985f-03e036b2efa6",
   "metadata": {},
   "outputs": [
    {
     "data": {
      "text/plain": [
       "['Ideal', 'Premium', 'Good', 'Very Good', 'Fair']\n",
       "Categories (5, object): ['Fair', 'Good', 'Ideal', 'Premium', 'Very Good']"
      ]
     },
     "execution_count": 98,
     "metadata": {},
     "output_type": "execute_result"
    }
   ],
   "source": [
    "dia['cut'].unique()"
   ]
  },
  {
   "cell_type": "code",
   "execution_count": 112,
   "id": "8393d36a-0316-47c8-a7c7-5a3c795d4bec",
   "metadata": {},
   "outputs": [
    {
     "data": {
      "text/plain": [
       "0.710727969348659"
      ]
     },
     "execution_count": 112,
     "metadata": {},
     "output_type": "execute_result"
    }
   ],
   "source": [
    "x= dia[['carat','depth','table','price','x','y','z']]\n",
    "y=oh_labels\n",
    "x_train,x_test,y_train,y_test=train_test_split(x,y,test_size=0.3)\n",
    "dt_clf=DecisionTreeClassifier()\n",
    "grid_parameter = {'max_depth':[1,2,3,4,5,6,7],'min_samples_split':[1,2], 'min_samples_leaf':[1,2,3,4]} \n",
    "grid_dt_clf=GridSearchCV(dt_clf,param_grid=grid_parameter, cv=5, refit=True)\n",
    "grid_dt_clf.fit(x_train,y_train)\n",
    "\n",
    "estimator=grid_dt_clf.best_estimator_\n",
    "pred=estimator.predict(x_test)\n",
    "accuracy_score(y_test,pred)"
   ]
  },
  {
   "cell_type": "code",
   "execution_count": 141,
   "id": "208d93e3-8ab1-4d18-a0f2-d2752f5d0018",
   "metadata": {},
   "outputs": [
    {
     "name": "stdout",
     "output_type": "stream",
     "text": [
      "-1.4684549872375404e-15\n",
      "1.0\n"
     ]
    }
   ],
   "source": [
    "from sklearn.preprocessing import StandardScaler\n",
    "iris=load_iris()\n",
    "iris_df=pd.DataFrame(data=iris.data, columns=iris.feature_names)\n",
    "iris_df.mean()\n",
    "iris_standard=((iris_df-iris_df.mean())/iris_df.std())\n",
    "#표준화 \n",
    "scaler=StandardScaler() #객체 생성 \n",
    "#fit , transform \n",
    "scaler.fit(iris_df)\n",
    "iris_scaled=scaler.transform(iris_df)\n",
    "#transform에서 scale 데이터 세트가 np.ndarray 로 반환되니까 df로 변경 \n",
    "iris_scaled_df=pd.DataFrame(iris_scaled,columns=iris.feature_names)\n",
    "\n",
    "print(iris_scaled.mean())\n",
    "print(iris_scaled.var())"
   ]
  },
  {
   "cell_type": "code",
   "execution_count": 143,
   "id": "c09a5a0f-0f70-4626-8440-b82a7a3a5810",
   "metadata": {},
   "outputs": [
    {
     "data": {
      "text/plain": [
       "array([[-0.90068117,  1.01900435, -1.34022653, -1.3154443 ],\n",
       "       [-1.14301691, -0.13197948, -1.34022653, -1.3154443 ],\n",
       "       [-1.38535265,  0.32841405, -1.39706395, -1.3154443 ]])"
      ]
     },
     "execution_count": 143,
     "metadata": {},
     "output_type": "execute_result"
    }
   ],
   "source": [
    "iris_scaled[:3]"
   ]
  },
  {
   "cell_type": "code",
   "execution_count": 150,
   "id": "15e97ff9-150c-480e-9623-4c5877fcce0b",
   "metadata": {},
   "outputs": [
    {
     "ename": "AttributeError",
     "evalue": "module 'numpy' has no attribute 'aray'",
     "output_type": "error",
     "traceback": [
      "\u001b[1;31m---------------------------------------------------------------------------\u001b[0m",
      "\u001b[1;31mAttributeError\u001b[0m                            Traceback (most recent call last)",
      "Cell \u001b[1;32mIn[150], line 1\u001b[0m\n\u001b[1;32m----> 1\u001b[0m \u001b[43mnp\u001b[49m\u001b[38;5;241;43m.\u001b[39;49m\u001b[43maray\u001b[49m([\u001b[38;5;124m'\u001b[39m\u001b[38;5;124m5,3,7,6,9\u001b[39m\u001b[38;5;124m'\u001b[39m])\n",
      "File \u001b[1;32m~\\anaconda3\\lib\\site-packages\\numpy\\__init__.py:311\u001b[0m, in \u001b[0;36m__getattr__\u001b[1;34m(attr)\u001b[0m\n\u001b[0;32m    308\u001b[0m     \u001b[38;5;28;01mfrom\u001b[39;00m \u001b[38;5;21;01m.\u001b[39;00m\u001b[38;5;21;01mtesting\u001b[39;00m \u001b[38;5;28;01mimport\u001b[39;00m Tester\n\u001b[0;32m    309\u001b[0m     \u001b[38;5;28;01mreturn\u001b[39;00m Tester\n\u001b[1;32m--> 311\u001b[0m \u001b[38;5;28;01mraise\u001b[39;00m \u001b[38;5;167;01mAttributeError\u001b[39;00m(\u001b[38;5;124m\"\u001b[39m\u001b[38;5;124mmodule \u001b[39m\u001b[38;5;132;01m{!r}\u001b[39;00m\u001b[38;5;124m has no attribute \u001b[39m\u001b[38;5;124m\"\u001b[39m\n\u001b[0;32m    312\u001b[0m                      \u001b[38;5;124m\"\u001b[39m\u001b[38;5;132;01m{!r}\u001b[39;00m\u001b[38;5;124m\"\u001b[39m\u001b[38;5;241m.\u001b[39mformat(\u001b[38;5;18m__name__\u001b[39m, attr))\n",
      "\u001b[1;31mAttributeError\u001b[0m: module 'numpy' has no attribute 'aray'"
     ]
    }
   ],
   "source": [
    "np.np.daray9'])"
   ]
  },
  {
   "cell_type": "code",
   "execution_count": 153,
   "id": "154ab3bd-6938-43f1-8c8e-7a275b748ae8",
   "metadata": {},
   "outputs": [
    {
     "name": "stdout",
     "output_type": "stream",
     "text": [
      "sepal length (cm)    0.0\n",
      "sepal width (cm)     0.0\n",
      "petal length (cm)    0.0\n",
      "petal width (cm)     0.0\n",
      "dtype: float64\n",
      "sepal length (cm)    1.0\n",
      "sepal width (cm)     1.0\n",
      "petal length (cm)    1.0\n",
      "petal width (cm)     1.0\n",
      "dtype: float64\n"
     ]
    }
   ],
   "source": [
    "#(iris_df-iris_df.min(axis=0)) / (iris_df.max(0)-iris_df.min(0))\n",
    "\n",
    "#Min_Max_Scaler\n",
    "from sklearn.datasets import load_iris\n",
    "import pandas as pd\n",
    "from sklearn.preprocessing import MinMaxScaler\n",
    "\n",
    "iris_set = load_iris()\n",
    "iris_data = iris_set.data\n",
    "irisDF = pd.DataFrame(data=iris_data, columns=iris_set.feature_names)\n",
    "\n",
    "scaler = MinMaxScaler() #객체 생성 \n",
    "scaler.fit(irisDF) #scaler로 데이터세트 변환. fit , transform 호출\n",
    "iris_scaled = scaler.transform(irisDF)\n",
    "\n",
    "#transform()시 스케일 변환된 데이터 세트가 Numpy ndarry로 반환돼 이를 DataFrame으로 변환\n",
    "irisDF_scaled = pd.DataFrame(data=iris_scaled, columns=iris_set.feature_names)\n",
    "print(irisDF_scaled.min())\n",
    "print(irisDF_scaled.max())"
   ]
  },
  {
   "cell_type": "markdown",
   "id": "48498d6c-a07e-4fd2-a8e1-3f4648fe5427",
   "metadata": {},
   "source": [
    "#titanic 생존자 예측"
   ]
  },
  {
   "cell_type": "code",
   "execution_count": 157,
   "id": "1139a472-70fc-44db-a9cd-e91308699e87",
   "metadata": {},
   "outputs": [
    {
     "data": {
      "text/plain": [
       "'C:\\\\Users\\\\user\\\\test'"
      ]
     },
     "execution_count": 157,
     "metadata": {},
     "output_type": "execute_result"
    }
   ],
   "source": [
    "import os\n",
    "os.getcwd()"
   ]
  },
  {
   "cell_type": "code",
   "execution_count": 160,
   "id": "12548da6-899b-4acb-bc3f-7fe2950d8259",
   "metadata": {},
   "outputs": [
    {
     "name": "stdout",
     "output_type": "stream",
     "text": [
      "<class 'pandas.core.frame.DataFrame'>\n",
      "RangeIndex: 891 entries, 0 to 890\n",
      "Data columns (total 12 columns):\n",
      " #   Column       Non-Null Count  Dtype  \n",
      "---  ------       --------------  -----  \n",
      " 0   PassengerId  891 non-null    int64  \n",
      " 1   Survived     891 non-null    int64  \n",
      " 2   Pclass       891 non-null    int64  \n",
      " 3   Name         891 non-null    object \n",
      " 4   Sex          891 non-null    object \n",
      " 5   Age          714 non-null    float64\n",
      " 6   SibSp        891 non-null    int64  \n",
      " 7   Parch        891 non-null    int64  \n",
      " 8   Ticket       891 non-null    object \n",
      " 9   Fare         891 non-null    float64\n",
      " 10  Cabin        204 non-null    object \n",
      " 11  Embarked     889 non-null    object \n",
      "dtypes: float64(2), int64(5), object(5)\n",
      "memory usage: 83.7+ KB\n"
     ]
    }
   ],
   "source": [
    "ti=pd.read_csv('titanic (2)/train.csv')\n",
    "ti.info()"
   ]
  },
  {
   "cell_type": "code",
   "execution_count": 161,
   "id": "52a07398-dd67-4136-9b81-cbdbaedfc2ae",
   "metadata": {},
   "outputs": [
    {
     "data": {
      "text/plain": [
       "PassengerId      0\n",
       "Survived         0\n",
       "Pclass           0\n",
       "Name             0\n",
       "Sex              0\n",
       "Age            177\n",
       "SibSp            0\n",
       "Parch            0\n",
       "Ticket           0\n",
       "Fare             0\n",
       "Cabin          687\n",
       "Embarked         2\n",
       "dtype: int64"
      ]
     },
     "execution_count": 161,
     "metadata": {},
     "output_type": "execute_result"
    }
   ],
   "source": [
    "#결측치\n",
    "ti.isna().sum()"
   ]
  },
  {
   "cell_type": "code",
   "execution_count": 165,
   "id": "86fee266-81c3-4188-a344-8097ee8a3e9f",
   "metadata": {},
   "outputs": [
    {
     "data": {
      "text/html": [
       "<div>\n",
       "<style scoped>\n",
       "    .dataframe tbody tr th:only-of-type {\n",
       "        vertical-align: middle;\n",
       "    }\n",
       "\n",
       "    .dataframe tbody tr th {\n",
       "        vertical-align: top;\n",
       "    }\n",
       "\n",
       "    .dataframe thead th {\n",
       "        text-align: right;\n",
       "    }\n",
       "</style>\n",
       "<table border=\"1\" class=\"dataframe\">\n",
       "  <thead>\n",
       "    <tr style=\"text-align: right;\">\n",
       "      <th></th>\n",
       "      <th>passengerid</th>\n",
       "      <th>survived</th>\n",
       "      <th>pclass</th>\n",
       "      <th>name</th>\n",
       "      <th>sex</th>\n",
       "      <th>age</th>\n",
       "      <th>sibsp</th>\n",
       "      <th>parch</th>\n",
       "      <th>ticket</th>\n",
       "      <th>fare</th>\n",
       "      <th>cabin</th>\n",
       "      <th>embarked</th>\n",
       "    </tr>\n",
       "  </thead>\n",
       "  <tbody>\n",
       "    <tr>\n",
       "      <th>0</th>\n",
       "      <td>1</td>\n",
       "      <td>0</td>\n",
       "      <td>3</td>\n",
       "      <td>Braund, Mr. Owen Harris</td>\n",
       "      <td>male</td>\n",
       "      <td>22.000000</td>\n",
       "      <td>1</td>\n",
       "      <td>0</td>\n",
       "      <td>A/5 21171</td>\n",
       "      <td>7.2500</td>\n",
       "      <td>N</td>\n",
       "      <td>S</td>\n",
       "    </tr>\n",
       "    <tr>\n",
       "      <th>1</th>\n",
       "      <td>2</td>\n",
       "      <td>1</td>\n",
       "      <td>1</td>\n",
       "      <td>Cumings, Mrs. John Bradley (Florence Briggs Thayer)</td>\n",
       "      <td>female</td>\n",
       "      <td>38.000000</td>\n",
       "      <td>1</td>\n",
       "      <td>0</td>\n",
       "      <td>PC 17599</td>\n",
       "      <td>71.2833</td>\n",
       "      <td>C85</td>\n",
       "      <td>C</td>\n",
       "    </tr>\n",
       "    <tr>\n",
       "      <th>2</th>\n",
       "      <td>3</td>\n",
       "      <td>1</td>\n",
       "      <td>3</td>\n",
       "      <td>Heikkinen, Miss. Laina</td>\n",
       "      <td>female</td>\n",
       "      <td>26.000000</td>\n",
       "      <td>0</td>\n",
       "      <td>0</td>\n",
       "      <td>STON/O2. 3101282</td>\n",
       "      <td>7.9250</td>\n",
       "      <td>N</td>\n",
       "      <td>S</td>\n",
       "    </tr>\n",
       "    <tr>\n",
       "      <th>3</th>\n",
       "      <td>4</td>\n",
       "      <td>1</td>\n",
       "      <td>1</td>\n",
       "      <td>Futrelle, Mrs. Jacques Heath (Lily May Peel)</td>\n",
       "      <td>female</td>\n",
       "      <td>35.000000</td>\n",
       "      <td>1</td>\n",
       "      <td>0</td>\n",
       "      <td>113803</td>\n",
       "      <td>53.1000</td>\n",
       "      <td>C123</td>\n",
       "      <td>S</td>\n",
       "    </tr>\n",
       "    <tr>\n",
       "      <th>4</th>\n",
       "      <td>5</td>\n",
       "      <td>0</td>\n",
       "      <td>3</td>\n",
       "      <td>Allen, Mr. William Henry</td>\n",
       "      <td>male</td>\n",
       "      <td>35.000000</td>\n",
       "      <td>0</td>\n",
       "      <td>0</td>\n",
       "      <td>373450</td>\n",
       "      <td>8.0500</td>\n",
       "      <td>N</td>\n",
       "      <td>S</td>\n",
       "    </tr>\n",
       "    <tr>\n",
       "      <th>...</th>\n",
       "      <td>...</td>\n",
       "      <td>...</td>\n",
       "      <td>...</td>\n",
       "      <td>...</td>\n",
       "      <td>...</td>\n",
       "      <td>...</td>\n",
       "      <td>...</td>\n",
       "      <td>...</td>\n",
       "      <td>...</td>\n",
       "      <td>...</td>\n",
       "      <td>...</td>\n",
       "      <td>...</td>\n",
       "    </tr>\n",
       "    <tr>\n",
       "      <th>886</th>\n",
       "      <td>887</td>\n",
       "      <td>0</td>\n",
       "      <td>2</td>\n",
       "      <td>Montvila, Rev. Juozas</td>\n",
       "      <td>male</td>\n",
       "      <td>27.000000</td>\n",
       "      <td>0</td>\n",
       "      <td>0</td>\n",
       "      <td>211536</td>\n",
       "      <td>13.0000</td>\n",
       "      <td>N</td>\n",
       "      <td>S</td>\n",
       "    </tr>\n",
       "    <tr>\n",
       "      <th>887</th>\n",
       "      <td>888</td>\n",
       "      <td>1</td>\n",
       "      <td>1</td>\n",
       "      <td>Graham, Miss. Margaret Edith</td>\n",
       "      <td>female</td>\n",
       "      <td>19.000000</td>\n",
       "      <td>0</td>\n",
       "      <td>0</td>\n",
       "      <td>112053</td>\n",
       "      <td>30.0000</td>\n",
       "      <td>B42</td>\n",
       "      <td>S</td>\n",
       "    </tr>\n",
       "    <tr>\n",
       "      <th>888</th>\n",
       "      <td>889</td>\n",
       "      <td>0</td>\n",
       "      <td>3</td>\n",
       "      <td>Johnston, Miss. Catherine Helen \"Carrie\"</td>\n",
       "      <td>female</td>\n",
       "      <td>29.699118</td>\n",
       "      <td>1</td>\n",
       "      <td>2</td>\n",
       "      <td>W./C. 6607</td>\n",
       "      <td>23.4500</td>\n",
       "      <td>N</td>\n",
       "      <td>S</td>\n",
       "    </tr>\n",
       "    <tr>\n",
       "      <th>889</th>\n",
       "      <td>890</td>\n",
       "      <td>1</td>\n",
       "      <td>1</td>\n",
       "      <td>Behr, Mr. Karl Howell</td>\n",
       "      <td>male</td>\n",
       "      <td>26.000000</td>\n",
       "      <td>0</td>\n",
       "      <td>0</td>\n",
       "      <td>111369</td>\n",
       "      <td>30.0000</td>\n",
       "      <td>C148</td>\n",
       "      <td>C</td>\n",
       "    </tr>\n",
       "    <tr>\n",
       "      <th>890</th>\n",
       "      <td>891</td>\n",
       "      <td>0</td>\n",
       "      <td>3</td>\n",
       "      <td>Dooley, Mr. Patrick</td>\n",
       "      <td>male</td>\n",
       "      <td>32.000000</td>\n",
       "      <td>0</td>\n",
       "      <td>0</td>\n",
       "      <td>370376</td>\n",
       "      <td>7.7500</td>\n",
       "      <td>N</td>\n",
       "      <td>Q</td>\n",
       "    </tr>\n",
       "  </tbody>\n",
       "</table>\n",
       "<p>891 rows × 12 columns</p>\n",
       "</div>"
      ],
      "text/plain": [
       "     passengerid  survived  pclass  \\\n",
       "0              1         0       3   \n",
       "1              2         1       1   \n",
       "2              3         1       3   \n",
       "3              4         1       1   \n",
       "4              5         0       3   \n",
       "..           ...       ...     ...   \n",
       "886          887         0       2   \n",
       "887          888         1       1   \n",
       "888          889         0       3   \n",
       "889          890         1       1   \n",
       "890          891         0       3   \n",
       "\n",
       "                                                    name     sex        age  \\\n",
       "0                                Braund, Mr. Owen Harris    male  22.000000   \n",
       "1    Cumings, Mrs. John Bradley (Florence Briggs Thayer)  female  38.000000   \n",
       "2                                 Heikkinen, Miss. Laina  female  26.000000   \n",
       "3           Futrelle, Mrs. Jacques Heath (Lily May Peel)  female  35.000000   \n",
       "4                               Allen, Mr. William Henry    male  35.000000   \n",
       "..                                                   ...     ...        ...   \n",
       "886                                Montvila, Rev. Juozas    male  27.000000   \n",
       "887                         Graham, Miss. Margaret Edith  female  19.000000   \n",
       "888             Johnston, Miss. Catherine Helen \"Carrie\"  female  29.699118   \n",
       "889                                Behr, Mr. Karl Howell    male  26.000000   \n",
       "890                                  Dooley, Mr. Patrick    male  32.000000   \n",
       "\n",
       "     sibsp  parch            ticket     fare cabin embarked  \n",
       "0        1      0         A/5 21171   7.2500     N        S  \n",
       "1        1      0          PC 17599  71.2833   C85        C  \n",
       "2        0      0  STON/O2. 3101282   7.9250     N        S  \n",
       "3        1      0            113803  53.1000  C123        S  \n",
       "4        0      0            373450   8.0500     N        S  \n",
       "..     ...    ...               ...      ...   ...      ...  \n",
       "886      0      0            211536  13.0000     N        S  \n",
       "887      0      0            112053  30.0000   B42        S  \n",
       "888      1      2        W./C. 6607  23.4500     N        S  \n",
       "889      0      0            111369  30.0000  C148        C  \n",
       "890      0      0            370376   7.7500     N        Q  \n",
       "\n",
       "[891 rows x 12 columns]"
      ]
     },
     "execution_count": 165,
     "metadata": {},
     "output_type": "execute_result"
    }
   ],
   "source": [
    "#칼럼이름 소문자\n",
    "ti.columns=ti.columns.str.lower()\n",
    "#결측치 채우기 \n",
    "ti['age'].fillna(ti['age'].mean(),inplace=True)\n",
    "ti['cabin'].fillna('N',inplace=True)\n",
    "ti['embarked'].fillna('N',inplace=True)\n",
    "ti\n"
   ]
  },
  {
   "cell_type": "code",
   "execution_count": 166,
   "id": "709697a3-6fa3-45da-80d3-7b81f7675cac",
   "metadata": {},
   "outputs": [
    {
     "data": {
      "text/plain": [
       "0         N\n",
       "1       C85\n",
       "2         N\n",
       "3      C123\n",
       "4         N\n",
       "       ... \n",
       "886       N\n",
       "887     B42\n",
       "888       N\n",
       "889    C148\n",
       "890       N\n",
       "Name: cabin, Length: 891, dtype: object"
      ]
     },
     "execution_count": 166,
     "metadata": {},
     "output_type": "execute_result"
    }
   ],
   "source": [
    "ti['cabin']"
   ]
  },
  {
   "cell_type": "code",
   "execution_count": 173,
   "id": "4abbc2b0-533f-4f48-bd67-839aaf4c2116",
   "metadata": {},
   "outputs": [],
   "source": [
    "#cabin의 첫글자만 저장 \n",
    "ti['cabin']=ti['cabin'].str[0]\n",
    "ti['cabin']=list(map(lambda x: x[0], ti['cabin'])) "
   ]
  },
  {
   "cell_type": "code",
   "execution_count": 182,
   "id": "b81919a1-0d5e-4bc3-a353-cd8b321c01ce",
   "metadata": {},
   "outputs": [
    {
     "data": {
      "text/plain": [
       "<Axes: >"
      ]
     },
     "execution_count": 182,
     "metadata": {},
     "output_type": "execute_result"
    },
    {
     "data": {
      "image/png": "[encoded data removed]",
      "text/plain": [
       "<Figure size 640x480 with 1 Axes>"
      ]
     },
     "metadata": {},
     "output_type": "display_data"
    }
   ],
   "source": [
    "ti['sex'].value_counts().plot(kind='bar')"
   ]
  },
  {
   "cell_type": "code",
   "execution_count": 185,
   "id": "584185db-5468-45db-900c-9acc7d7b3c84",
   "metadata": {},
   "outputs": [
    {
     "data": {
      "text/plain": [
       "<Axes: xlabel='sex', ylabel='survived'>"
      ]
     },
     "execution_count": 185,
     "metadata": {},
     "output_type": "execute_result"
    },
    {
     "data": {
      "image/png": "[encoded data removed]",
      "text/plain": [
       "<Figure size 640x480 with 1 Axes>"
      ]
     },
     "metadata": {},
     "output_type": "display_data"
    }
   ],
   "source": [
    "#생존자의 남녀 그래프\n",
    "import seaborn as sns\n",
    "sns.barplot(ti,x='sex',y='survived')"
   ]
  },
  {
   "cell_type": "code",
   "execution_count": 187,
   "id": "b4bbe9d7-d72c-4700-a97a-8a4bcc9c3be4",
   "metadata": {},
   "outputs": [
    {
     "data": {
      "text/plain": [
       "<Axes: xlabel='pclass', ylabel='survived'>"
      ]
     },
     "execution_count": 187,
     "metadata": {},
     "output_type": "execute_result"
    },
    {
     "data": {
      "image/png": "[encoded data removed]",
      "text/plain": [
       "<Figure size 640x480 with 1 Axes>"
      ]
     },
     "metadata": {},
     "output_type": "display_data"
    }
   ],
   "source": [
    "sns.barplot(ti,x='pclass',y='survived', hue='sex')"
   ]
  },
  {
   "cell_type": "code",
   "execution_count": 189,
   "id": "70f51744-2c69-4f8c-8a85-2d90fa71af24",
   "metadata": {},
   "outputs": [
    {
     "data": {
      "text/plain": [
       "0.3838383838383838"
      ]
     },
     "execution_count": 189,
     "metadata": {},
     "output_type": "execute_result"
    }
   ],
   "source": [
    "#살아날 학률\n",
    "ti['survived'].mean()"
   ]
  },
  {
   "cell_type": "code",
   "execution_count": 202,
   "id": "ae5e2913-601d-4387-95d2-06558426c9be",
   "metadata": {},
   "outputs": [
    {
     "data": {
      "text/html": [
       "<div>\n",
       "<style scoped>\n",
       "    .dataframe tbody tr th:only-of-type {\n",
       "        vertical-align: middle;\n",
       "    }\n",
       "\n",
       "    .dataframe tbody tr th {\n",
       "        vertical-align: top;\n",
       "    }\n",
       "\n",
       "    .dataframe thead th {\n",
       "        text-align: right;\n",
       "    }\n",
       "</style>\n",
       "<table border=\"1\" class=\"dataframe\">\n",
       "  <thead>\n",
       "    <tr style=\"text-align: right;\">\n",
       "      <th></th>\n",
       "      <th>passengerid</th>\n",
       "      <th>survived</th>\n",
       "      <th>pclass</th>\n",
       "      <th>name</th>\n",
       "      <th>sex</th>\n",
       "      <th>age</th>\n",
       "      <th>sibsp</th>\n",
       "      <th>parch</th>\n",
       "      <th>ticket</th>\n",
       "      <th>fare</th>\n",
       "      <th>cabin</th>\n",
       "      <th>embarked</th>\n",
       "      <th>age_cat</th>\n",
       "    </tr>\n",
       "  </thead>\n",
       "  <tbody>\n",
       "    <tr>\n",
       "      <th>0</th>\n",
       "      <td>1</td>\n",
       "      <td>0</td>\n",
       "      <td>3</td>\n",
       "      <td>Braund, Mr. Owen Harris</td>\n",
       "      <td>male</td>\n",
       "      <td>22.0</td>\n",
       "      <td>1</td>\n",
       "      <td>0</td>\n",
       "      <td>A/5 21171</td>\n",
       "      <td>7.2500</td>\n",
       "      <td>N</td>\n",
       "      <td>S</td>\n",
       "      <td>student</td>\n",
       "    </tr>\n",
       "    <tr>\n",
       "      <th>1</th>\n",
       "      <td>2</td>\n",
       "      <td>1</td>\n",
       "      <td>1</td>\n",
       "      <td>Cumings, Mrs. John Bradley (Florence Briggs Thayer)</td>\n",
       "      <td>female</td>\n",
       "      <td>38.0</td>\n",
       "      <td>1</td>\n",
       "      <td>0</td>\n",
       "      <td>PC 17599</td>\n",
       "      <td>71.2833</td>\n",
       "      <td>C</td>\n",
       "      <td>C</td>\n",
       "      <td>adult</td>\n",
       "    </tr>\n",
       "  </tbody>\n",
       "</table>\n",
       "</div>"
      ],
      "text/plain": [
       "   passengerid  survived  pclass  \\\n",
       "0            1         0       3   \n",
       "1            2         1       1   \n",
       "\n",
       "                                                  name     sex   age  sibsp  \\\n",
       "0                              Braund, Mr. Owen Harris    male  22.0      1   \n",
       "1  Cumings, Mrs. John Bradley (Florence Briggs Thayer)  female  38.0      1   \n",
       "\n",
       "   parch     ticket     fare cabin embarked  age_cat  \n",
       "0      0  A/5 21171   7.2500     N        S  student  \n",
       "1      0   PC 17599  71.2833     C        C    adult  "
      ]
     },
     "execution_count": 202,
     "metadata": {},
     "output_type": "execute_result"
    }
   ],
   "source": [
    "ti['age'].astype('category')\n",
    "\n",
    "bins = [-np.inf,5,12,18,25,35,60,np.inf]\n",
    "label = ['baby', 'child', 'teenager', 'student', 'young adult', 'adult', 'elderly']\n",
    "ti['age_cat'] = pd.cut(ti['age'], bins, labels = label)\n",
    "ti[:2]"
   ]
  },
  {
   "cell_type": "code",
   "execution_count": 203,
   "id": "0385479a-43fd-4338-97ff-891e883a439e",
   "metadata": {},
   "outputs": [
    {
     "data": {
      "text/plain": [
       "<Axes: xlabel='age_cat', ylabel='survived'>"
      ]
     },
     "execution_count": 203,
     "metadata": {},
     "output_type": "execute_result"
    },
    {
     "data": {
      "image/png": "[encoded data removed]",
      "text/plain": [
       "<Figure size 640x480 with 1 Axes>"
      ]
     },
     "metadata": {},
     "output_type": "display_data"
    }
   ],
   "source": [
    "#age_Cat 별로 남녀별 생존 \n",
    "sns.barplot(data=ti, x='age_cat', y='survived', hue='sex')"
   ]
  },
  {
   "cell_type": "code",
   "execution_count": 204,
   "id": "e414418e-2bcb-41e3-bee9-65189dc46089",
   "metadata": {},
   "outputs": [
    {
     "data": {
      "text/plain": [
       "<Axes: xlabel='sex', ylabel='survived'>"
      ]
     },
     "execution_count": 204,
     "metadata": {},
     "output_type": "execute_result"
    },
    {
     "data": {
      "image/png": "[encoded data removed]",
      "text/plain": [
       "<Figure size 640x480 with 1 Axes>"
      ]
     },
     "metadata": {},
     "output_type": "display_data"
    }
   ],
   "source": [
    "sns.barplot(data=ti, x='sex', y='survived', hue='age_cat')"
   ]
  },
  {
   "cell_type": "code",
   "execution_count": 205,
   "id": "db7b731a-694d-42f8-a2e9-a8bcc3cb426c",
   "metadata": {},
   "outputs": [],
   "source": [
    "# 정규화"
   ]
  },
  {
   "cell_type": "code",
   "execution_count": 271,
   "id": "5974a065-71e2-4969-91a1-5adb3d303690",
   "metadata": {},
   "outputs": [],
   "source": [
    "from sklearn.preprocessing import LabelEncoder\n",
    "def encodefea(ti):\n",
    "    features=['sex','cabin','embarked']\n",
    "    for feature in features:\n",
    "        le=LabelEncoder()\n",
    "        le=le.fit(ti[feature])\n",
    "        ti[feature]=le.transform(ti[feature])\n",
    "    return ti\n",
    "ti_df= encodefea(ti)"
   ]
  },
  {
   "cell_type": "code",
   "execution_count": 222,
   "id": "e14f658b-4ba8-45fa-8828-f3095f5f21cb",
   "metadata": {},
   "outputs": [
    {
     "data": {
      "text/html": [
       "<div>\n",
       "<style scoped>\n",
       "    .dataframe tbody tr th:only-of-type {\n",
       "        vertical-align: middle;\n",
       "    }\n",
       "\n",
       "    .dataframe tbody tr th {\n",
       "        vertical-align: top;\n",
       "    }\n",
       "\n",
       "    .dataframe thead th {\n",
       "        text-align: right;\n",
       "    }\n",
       "</style>\n",
       "<table border=\"1\" class=\"dataframe\">\n",
       "  <thead>\n",
       "    <tr style=\"text-align: right;\">\n",
       "      <th></th>\n",
       "      <th>passengerid</th>\n",
       "      <th>survived</th>\n",
       "      <th>pclass</th>\n",
       "      <th>name</th>\n",
       "      <th>sex</th>\n",
       "      <th>age</th>\n",
       "      <th>sibsp</th>\n",
       "      <th>parch</th>\n",
       "      <th>ticket</th>\n",
       "      <th>fare</th>\n",
       "      <th>cabin</th>\n",
       "      <th>embarked</th>\n",
       "      <th>age_cat</th>\n",
       "    </tr>\n",
       "  </thead>\n",
       "  <tbody>\n",
       "    <tr>\n",
       "      <th>0</th>\n",
       "      <td>1</td>\n",
       "      <td>0</td>\n",
       "      <td>3</td>\n",
       "      <td>Braund, Mr. Owen Harris</td>\n",
       "      <td>1</td>\n",
       "      <td>22.0</td>\n",
       "      <td>1</td>\n",
       "      <td>0</td>\n",
       "      <td>A/5 21171</td>\n",
       "      <td>7.25</td>\n",
       "      <td>7</td>\n",
       "      <td>3</td>\n",
       "      <td>student</td>\n",
       "    </tr>\n",
       "  </tbody>\n",
       "</table>\n",
       "</div>"
      ],
      "text/plain": [
       "   passengerid  survived  pclass                     name  sex   age  sibsp  \\\n",
       "0            1         0       3  Braund, Mr. Owen Harris    1  22.0      1   \n",
       "\n",
       "   parch     ticket  fare  cabin  embarked  age_cat  \n",
       "0      0  A/5 21171  7.25      7         3  student  "
      ]
     },
     "execution_count": 222,
     "metadata": {},
     "output_type": "execute_result"
    }
   ],
   "source": [
    "from sklearn.preprocessing import LabelEncoder\n",
    "l= LabelEncoder()\n",
    "ti['sex'] =l.fit_transform(ti['sex'])\n",
    "ti['cabin'] = l.fit_transform(ti['cabin'])\n",
    "ti['embarked'] =l.fit_transform(ti['embarked']) \n",
    "ti[:1]"
   ]
  },
  {
   "cell_type": "code",
   "execution_count": 223,
   "id": "583b2aae-7f44-4360-909b-b0f6df085bf4",
   "metadata": {},
   "outputs": [],
   "source": [
    "ti.drop(['passengerid','name','ticket','age_cat'],axis=1,inplace =True)"
   ]
  },
  {
   "cell_type": "code",
   "execution_count": 257,
   "id": "301021a5-1746-4a3f-9743-c9d13f3ccf3c",
   "metadata": {},
   "outputs": [
    {
     "data": {
      "text/plain": [
       "0.8171641791044776"
      ]
     },
     "execution_count": 257,
     "metadata": {},
     "output_type": "execute_result"
    }
   ],
   "source": [
    "x=ti.iloc[:,1:]\n",
    "y=ti['survived']\n",
    "x_train,x_test,y_train,y_test=train_test_split(x,y,test_size=0.3)\n",
    "dt_clf=DecisionTreeClassifier()\n",
    "grid_parameter = {'max_depth':[5,6,7],'min_samples_split':[1,2], 'min_samples_leaf':[1,2,3,4]} \n",
    "grid_dt_clf=GridSearchCV(dt_clf,param_grid=grid_parameter, cv=5, refit=True)\n",
    "grid_dt_clf.fit(x_train,y_train)\n",
    "\n",
    "estimator=grid_dt_clf.best_estimator_\n",
    "pred=estimator.predict(x_test)\n",
    "accuracy_score(y_test,pred)"
   ]
  },
  {
   "cell_type": "code",
   "execution_count": 258,
   "id": "ed2eee13-a60a-4680-8b8a-6b3dc5b9b2b5",
   "metadata": {},
   "outputs": [
    {
     "data": {
      "text/plain": [
       "0.7798507462686567"
      ]
     },
     "execution_count": 258,
     "metadata": {},
     "output_type": "execute_result"
    }
   ],
   "source": [
    "dt_clf=DecisionTreeClassifier()\n",
    "dt_clf.fit(x_train,y_train)\n",
    "pred=dt_clf.predict(x_test)\n",
    "accuracy_score(y_test,pred)"
   ]
  },
  {
   "cell_type": "code",
   "execution_count": 259,
   "id": "903813da-ed0c-4443-b4d6-6e866f837f72",
   "metadata": {},
   "outputs": [],
   "source": [
    "from sklearn.tree import DecisionTreeClassifier\n",
    "from sklearn.ensemble import RandomForestClassifier\n",
    "from sklearn.linear_model import LogisticRegression"
   ]
  },
  {
   "cell_type": "code",
   "execution_count": 269,
   "id": "553a0742-84fa-4c4d-af4b-a4b6852e56c9",
   "metadata": {},
   "outputs": [
    {
     "data": {
      "text/plain": [
       "0.8171641791044776"
      ]
     },
     "execution_count": 269,
     "metadata": {},
     "output_type": "execute_result"
    }
   ],
   "source": [
    "rf_clf=RandomForestClassifier()\n",
    "rf_clf.fit(x_train,y_train)\n",
    "pred=rf_clf.predict(x_test)\n",
    "accuracy_score(y_test,pred)"
   ]
  },
  {
   "cell_type": "code",
   "execution_count": 266,
   "id": "acac796d-b4c0-4c7e-91db-28afc7ae2393",
   "metadata": {},
   "outputs": [
    {
     "data": {
      "text/plain": [
       "0.8134328358208955"
      ]
     },
     "execution_count": 266,
     "metadata": {},
     "output_type": "execute_result"
    }
   ],
   "source": [
    "#로지스틱은 교차검증과 사용할 수없음 탭열어서 있는것들을 봐야댐\n",
    "\n",
    "lr_clf=LogisticRegression(solver='liblinear')\n",
    "lr_clf.fit(x_train,y_train)\n",
    "pred=lr_clf.predict(x_test)\n",
    "accuracy_score(y_test,pred)"
   ]
  },
  {
   "cell_type": "code",
   "execution_count": 270,
   "id": "3ccf0b00-8074-42ff-93d2-dcaa8063ea9c",
   "metadata": {},
   "outputs": [
    {
     "data": {
      "text/plain": [
       "0.835820895522388"
      ]
     },
     "execution_count": 270,
     "metadata": {},
     "output_type": "execute_result"
    }
   ],
   "source": [
    "#random 과 교차검증 합친것 \n",
    "\n",
    "x=ti.iloc[:,1:]\n",
    "y=ti['survived']\n",
    "x_train,x_test,y_train,y_test=train_test_split(x,y,test_size=0.3)\n",
    "rf_clf=RandomForestClassifier()\n",
    "grid_parameter = {'max_depth':[5,6,7],'min_samples_split':[1,2], 'min_samples_leaf':[1,2,3,4]} \n",
    "grid_dt_clf=GridSearchCV(rf_clf,param_grid=grid_parameter, cv=5, refit=True)\n",
    "grid_dt_clf.fit(x_train,y_train)\n",
    "\n",
    "estimator=grid_dt_clf.best_estimator_\n",
    "pred=estimator.predict(x_test)\n",
    "accuracy_score(y_test,pred)"
   ]
  },
  {
   "cell_type": "code",
   "execution_count": null,
   "id": "b441abb0-eacf-47a9-a89a-affcc9389693",
   "metadata": {},
   "outputs": [],
   "source": []
  }
 ],
 "metadata": {
  "kernelspec": {
   "display_name": "Python 3 (ipykernel)",
   "language": "python",
   "name": "python3"
  },
  "language_info": {
   "codemirror_mode": {
    "name": "ipython",
    "version": 3
   },
   "file_extension": ".py",
   "mimetype": "text/x-python",
   "name": "python",
   "nbconvert_exporter": "python",
   "pygments_lexer": "ipython3",
   "version": "3.10.9"
  }
 },
 "nbformat": 4,
 "nbformat_minor": 5
}
