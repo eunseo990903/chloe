{
 "cells": [
  {
   "cell_type": "code",
   "execution_count": 8,
   "id": "e9f888a5-1de2-40b7-bdc8-52db2841c258",
   "metadata": {
    "tags": []
   },
   "outputs": [
    {
     "data": {
      "text/plain": [
       "'중국 네덜란드 프랑스 한국 독일 포르투갈 이탈리아 러시아 스페인'"
      ]
     },
     "execution_count": 8,
     "metadata": {},
     "output_type": "execute_result"
    }
   ],
   "source": [
    "#나라이름 뽑기 \n",
    "#sub\n",
    "import re\n",
    "lang1 = \"중국어 네덜란드어 프랑스어 한국어 독일어 포르투갈어 이탈리아어 러시아어 스페인어\"\n",
    "p=re.compile('어')\n",
    "p.sub('',lang1)"
   ]
  },
  {
   "cell_type": "code",
   "execution_count": 9,
   "id": "270b0c2b-23ec-49fa-9380-b483439586d7",
   "metadata": {
    "tags": []
   },
   "outputs": [
    {
     "name": "stdout",
     "output_type": "stream",
     "text": [
      "['중국', '네덜란드', '프랑스', '한국', '독일', '포르투갈', '이탈리아', '러시아', '스페인']\n"
     ]
    }
   ],
   "source": [
    "#전방팀색\n",
    "p=re.compile('\\w+(?=어)')\n",
    "print(p.findall(lang1))"
   ]
  },
  {
   "cell_type": "code",
   "execution_count": 14,
   "id": "568a78d4-ae65-4fdb-8867-3e00d7fedfbe",
   "metadata": {
    "tags": []
   },
   "outputs": [
    {
     "data": {
      "text/plain": [
       "['중국', '네덜란드', '프랑스', '한국', '독일', '포르투갈', '이탈리아', '러시아', '스페인']"
      ]
     },
     "execution_count": 14,
     "metadata": {},
     "output_type": "execute_result"
    }
   ],
   "source": [
    "#그루핑, 리스트로 다시 묶기 \n",
    "p = re.compile(\"(\\w*)어\")\n",
    "li=[]\n",
    "for lang in p.finditer(lang1):\n",
    "    li.append(lang.group(1))\n",
    "li"
   ]
  },
  {
   "cell_type": "code",
   "execution_count": 15,
   "id": "5cf6b516-eb90-40af-af29-707030d9b573",
   "metadata": {
    "tags": []
   },
   "outputs": [
    {
     "name": "stdout",
     "output_type": "stream",
     "text": [
      "중국\n",
      "네덜란드\n",
      "프랑스\n",
      "한국\n",
      "독일\n",
      "포르투갈\n",
      "이탈리아\n",
      "러시아\n",
      "스페인\n"
     ]
    }
   ],
   "source": [
    "#그루핑 이름 짓기\n",
    "p = re.compile(\"(?P<nation>[가-힣]+)어\")\n",
    "for i in p.finditer(lang1):\n",
    "    print(i.group(\"nation\")) "
   ]
  },
  {
   "cell_type": "raw",
   "id": "fa41d34c-f25b-4de2-887c-0361f9438c59",
   "metadata": {
    "tags": []
   },
   "source": [
    "#제목 뽑기 전방 +후방 \n",
    "import urllib.request as req \n",
    "rep = req.urlopen(\"https://daum.net\")\n",
    "data = rep.read().decode(\"utf8\")\n",
    "print(data)"
   ]
  },
  {
   "cell_type": "markdown",
   "id": "f4f9aa2f-f2eb-4210-ac75-bb2c34b59e42",
   "metadata": {
    "tags": []
   },
   "source": [
    "re.findall(r'(?<=title\\\":\\\").+?(?=\\\")', data)\n"
   ]
  },
  {
   "cell_type": "code",
   "execution_count": 37,
   "id": "22a782c9-6861-45de-aa48-fd2fbcde82ec",
   "metadata": {
    "tags": []
   },
   "outputs": [
    {
     "data": {
      "text/plain": [
       "'I like apple And apple'"
      ]
     },
     "execution_count": 37,
     "metadata": {},
     "output_type": "execute_result"
    }
   ],
   "source": [
    "text= \"I like apble And apcle\"\n",
    "p=re.compile('pb|pc')\n",
    "p.sub('pp',text)"
   ]
  },
  {
   "cell_type": "code",
   "execution_count": 54,
   "id": "0c0eb42d-4f5d-4fea-8e32-186b280a1ff5",
   "metadata": {
    "tags": []
   },
   "outputs": [
    {
     "data": {
      "text/plain": [
       "['naver.com', 'google.com', 'daum.net']"
      ]
     },
     "execution_count": 54,
     "metadata": {},
     "output_type": "execute_result"
    }
   ],
   "source": [
    "#http:// 제거 \n",
    "s =\"http://naver.com http://google.com  ftp://daum.net\" \n",
    "p=re.compile(r'(?<=//)\\S+')\n",
    "p.findall(s)"
   ]
  },
  {
   "cell_type": "code",
   "execution_count": 57,
   "id": "83017340-10db-4480-a5a6-0e952f7d6f5e",
   "metadata": {
    "tags": []
   },
   "outputs": [
    {
     "data": {
      "text/plain": [
       "['naver', 'google', 'daum']"
      ]
     },
     "execution_count": 57,
     "metadata": {},
     "output_type": "execute_result"
    }
   ],
   "source": [
    "#브랜드만 \n",
    "p=re.compile(r'(?<=//)\\w*(?=.)')\n",
    "p.findall(s)"
   ]
  },
  {
   "cell_type": "code",
   "execution_count": 63,
   "id": "4980443c-4cc7-4241-8f5d-05ccd79eb659",
   "metadata": {
    "tags": []
   },
   "outputs": [
    {
     "data": {
      "text/plain": [
       "['google']"
      ]
     },
     "execution_count": 63,
     "metadata": {},
     "output_type": "execute_result"
    }
   ],
   "source": [
    "#구글만 뽑기 \n",
    "p=re.compile(r'(?<=//)g\\w*(?=.)')\n",
    "p.findall(s)"
   ]
  },
  {
   "cell_type": "code",
   "execution_count": 86,
   "id": "d0a6a3a7-bcf1-4251-b606-d8c7b93eca37",
   "metadata": {
    "tags": []
   },
   "outputs": [],
   "source": [
    "string='토마토 딸기 SOS ABC 기러기 참새 부부 스위스 캐나다 스테이크소스' \n",
    "p=re.compile('(?P<name>\\w+)\\w?(?P=name)')\n",
    "if i in p.finditer(string):\n",
    "    print(i.group())"
   ]
  },
  {
   "cell_type": "code",
   "execution_count": 87,
   "id": "7f6d3ea0-c1bc-457b-bf9d-dce51a05059e",
   "metadata": {
    "tags": []
   },
   "outputs": [
    {
     "name": "stdout",
     "output_type": "stream",
     "text": [
      "토마토\n",
      "SOS\n",
      "기러기\n",
      "스위스\n"
     ]
    }
   ],
   "source": [
    "p = re.compile(\"(?P<word>\\w+)\\w(?P=word)\")\n",
    "for i in p.finditer(string):\n",
    "    print(i.group())"
   ]
  },
  {
   "cell_type": "code",
   "execution_count": 93,
   "id": "0bd01342-ccb8-4876-8355-411bf02d8ac7",
   "metadata": {
    "tags": []
   },
   "outputs": [
    {
     "name": "stdout",
     "output_type": "stream",
     "text": [
      "<re.Match object; span=(0, 4), match='lolo'>\n",
      "<re.Match object; span=(0, 4), match='lolo'>\n",
      "<re.Match object; span=(0, 4), match='lolo'>\n",
      "<re.Match object; span=(0, 4), match='lolo'>\n"
     ]
    }
   ],
   "source": [
    "data = [\"lolol\", \"lololol\",\"lolololol\",\"lololololol\"]\n",
    "for i in data:\n",
    "    p = re.compile(\"(lo){2,5}?\")\n",
    "    print(p.search(i)) "
   ]
  },
  {
   "cell_type": "code",
   "execution_count": 98,
   "id": "a55e7e95-0d43-4796-b0d4-3582284c6f5e",
   "metadata": {
    "tags": []
   },
   "outputs": [
    {
     "data": {
      "text/plain": [
       "['hot americano', 'hot tea', 'hot milk']"
      ]
     },
     "execution_count": 98,
     "metadata": {},
     "output_type": "execute_result"
    }
   ],
   "source": [
    "data='''\n",
    "ice americano\n",
    "hot americano\n",
    "ice tea\n",
    "hot tea\n",
    "ice milk\n",
    "hot milk\n",
    "''' \n",
    "p=re.compile('^hot\\s\\w*',re.M)\n",
    "p.findall(data)"
   ]
  },
  {
   "cell_type": "code",
   "execution_count": 109,
   "id": "a528dc8f-9a82-42f2-9a3e-ad0a85efee22",
   "metadata": {
    "tags": []
   },
   "outputs": [
    {
     "data": {
      "text/plain": [
       "['', '', '', '', '', '', '', '', '', '', '', '', '', '', '', '', '', '', '']"
      ]
     },
     "execution_count": 109,
     "metadata": {},
     "output_type": "execute_result"
    }
   ],
   "source": [
    "string= 'Mun 010-1234-5678\n",
    "        '\n",
    "p=re.compile(f'')\n",
    "p.findall(string)"
   ]
  },
  {
   "cell_type": "code",
   "execution_count": 102,
   "id": "80d53826-411e-4e6c-9bf0-f858162667d3",
   "metadata": {
    "tags": []
   },
   "outputs": [
    {
     "data": {
      "text/plain": [
       "'010'"
      ]
     },
     "execution_count": 102,
     "metadata": {},
     "output_type": "execute_result"
    }
   ],
   "source": [
    "p = re.compile(\".+\\s([0-9]+)[-].+\")\n",
    "p.search(string).group(1) "
   ]
  },
  {
   "cell_type": "code",
   "execution_count": 106,
   "id": "336d6b7d-5af3-4622-9d47-6bd9e6dcf985",
   "metadata": {
    "tags": []
   },
   "outputs": [
    {
     "data": {
      "text/plain": [
       "'1234'"
      ]
     },
     "execution_count": 106,
     "metadata": {},
     "output_type": "execute_result"
    }
   ],
   "source": [
    "p = re.compile('-([0-9]{4})-')\n",
    "p.search(string).group(1) "
   ]
  },
  {
   "cell_type": "code",
   "execution_count": 108,
   "id": "3356bfd7-ab76-4c90-830d-d5ed3a6884e1",
   "metadata": {
    "tags": []
   },
   "outputs": [
    {
     "data": {
      "text/plain": [
       "'010'"
      ]
     },
     "execution_count": 108,
     "metadata": {},
     "output_type": "execute_result"
    }
   ],
   "source": [
    "p = re.compile('(\\w+)\\s+(\\d+)+[-](\\d+)[-](\\d+)')\n",
    "p.search(string).group(2) "
   ]
  },
  {
   "cell_type": "code",
   "execution_count": 2,
   "id": "608ab7c8-2e3c-495b-b150-071668d45b84",
   "metadata": {
    "tags": []
   },
   "outputs": [
    {
     "data": {
      "text/plain": [
       "['3334', '5834']"
      ]
     },
     "execution_count": 2,
     "metadata": {},
     "output_type": "execute_result"
    }
   ],
   "source": [
    "import re\n",
    "#Park의 중간번호 뽑기 \n",
    "string = '''\n",
    "Mun 010-1234-5678\n",
    "Park 010-3334-3278\n",
    "Mun 010-2284-5678\n",
    "Park 010-5834-3478\n",
    "'''\n",
    "p = re.compile('Park\\s\\d*[-]([0-9]{4})[-]')\n",
    "p.findall(string)"
   ]
  },
  {
   "cell_type": "code",
   "execution_count": 9,
   "id": "597134e2-7c40-4e5d-b2eb-77020d18d3c7",
   "metadata": {
    "tags": []
   },
   "outputs": [
    {
     "name": "stdin",
     "output_type": "stream",
     "text": [
      "이름:  은서\n",
      "나이:  25\n"
     ]
    },
    {
     "name": "stdout",
     "output_type": "stream",
     "text": [
      "이름은 은서이고 나이는 25입니다\n"
     ]
    }
   ],
   "source": [
    "name = input(\"이름: \")\n",
    "age = input(\"나이: \")\n",
    "print(f\"이름은 {name}이고 나이는 {age}입니다\")"
   ]
  },
  {
   "cell_type": "code",
   "execution_count": 10,
   "id": "db641738-a35f-42b9-a8ec-c4d5115d0846",
   "metadata": {
    "tags": []
   },
   "outputs": [
    {
     "name": "stdin",
     "output_type": "stream",
     "text": [
      " 은서 25\n"
     ]
    },
    {
     "name": "stdout",
     "output_type": "stream",
     "text": [
      "이름은 은서이고 나이는 25입니다.\n"
     ]
    }
   ],
   "source": [
    "name,age = input().split()\n",
    "print(f\"이름은 {name}이고 나이는 {age}입니다.\") "
   ]
  },
  {
   "cell_type": "code",
   "execution_count": 5,
   "id": "d208bb9f-7854-497c-93ea-8eac7f95987c",
   "metadata": {
    "tags": []
   },
   "outputs": [
    {
     "name": "stdin",
     "output_type": "stream",
     "text": [
      "마치려면 0을 입력하세요 1\n"
     ]
    },
    {
     "name": "stdout",
     "output_type": "stream",
     "text": [
      "1을 입력하셨습니다\n"
     ]
    },
    {
     "name": "stdin",
     "output_type": "stream",
     "text": [
      "마치려면 0을 입력하세요 2\n"
     ]
    },
    {
     "name": "stdout",
     "output_type": "stream",
     "text": [
      "2을 입력하셨습니다\n"
     ]
    },
    {
     "name": "stdin",
     "output_type": "stream",
     "text": [
      "마치려면 0을 입력하세요 22\n"
     ]
    },
    {
     "name": "stdout",
     "output_type": "stream",
     "text": [
      "22을 입력하셨습니다\n"
     ]
    },
    {
     "name": "stdin",
     "output_type": "stream",
     "text": [
      "마치려면 0을 입력하세요 0\n"
     ]
    }
   ],
   "source": [
    "while True:\n",
    "    number = int(input(\"마치려면 0을 입력하세요\"))\n",
    "    if number == 0:\n",
    "        break\n",
    "    else:\n",
    "        print(f\"{number}을 입력하셨습니다\") "
   ]
  },
  {
   "cell_type": "code",
   "execution_count": 8,
   "id": "c4f96d7f-287b-44f8-b4c2-11a1635a1518",
   "metadata": {
    "tags": []
   },
   "outputs": [
    {
     "name": "stdin",
     "output_type": "stream",
     "text": [
      "마치려면 0을 입력하세요 55\n",
      "마치려면 0을 입력하세요 1\n",
      "마치려면 0을 입력하세요 5\n",
      "마치려면 0을 입력하세요 0\n"
     ]
    },
    {
     "name": "stdout",
     "output_type": "stream",
     "text": [
      "61\n"
     ]
    }
   ],
   "source": [
    "#입력한 값들의 총함 \n",
    "tot=0\n",
    "while True:\n",
    "    number = int(input(\"마치려면 0을 입력하세요\"))\n",
    "    tot+=number\n",
    "    if number == 0:\n",
    "        break\n",
    "print(tot) "
   ]
  },
  {
   "cell_type": "code",
   "execution_count": 7,
   "id": "51a57eb5-dd89-474f-8c78-1e14238ddd35",
   "metadata": {
    "tags": []
   },
   "outputs": [
    {
     "name": "stdin",
     "output_type": "stream",
     "text": [
      "마치려면 0을 입력하세요 3\n",
      "마치려면 0을 입력하세요 3\n",
      "마치려면 0을 입력하세요 3\n",
      "마치려면 0을 입력하세요 3\n",
      "마치려면 0을 입력하세요 0\n"
     ]
    },
    {
     "name": "stdout",
     "output_type": "stream",
     "text": [
      "2.4 12\n"
     ]
    }
   ],
   "source": [
    "#입력한 값들의 합과 평균\n",
    "tot=0\n",
    "count=0\n",
    "while True:\n",
    "    number = int(input(\"마치려면 0을 입력하세요\"))\n",
    "    tot+=number\n",
    "    count+=1\n",
    "    avg= tot/count\n",
    "    if number == 0:\n",
    "        break\n",
    "print(avg, tot) "
   ]
  },
  {
   "cell_type": "code",
   "execution_count": 92,
   "id": "a384cb8a-ff0d-42d2-94ba-3415a0a97538",
   "metadata": {},
   "outputs": [
    {
     "name": "stdout",
     "output_type": "stream",
     "text": [
      "tom\n",
      "jerry\n"
     ]
    }
   ],
   "source": [
    "#딕셔너리에서 나이가 25세 이상 이름 출력 \n",
    "di = { \"tom\":30, \"jerry\":32, \"철수\":20, \"영희\":22 } \n",
    "for i,j in  di.items(): #di.items() 로 key, value둘다 받음 \n",
    "    if j>=25:\n",
    "        print(i)\n"
   ]
  },
  {
   "cell_type": "code",
   "execution_count": 14,
   "id": "21faf1a9-934b-439e-831b-ed99a47a4291",
   "metadata": {
    "tags": []
   },
   "outputs": [
    {
     "data": {
      "text/plain": [
       "['tom', 'jerry']"
      ]
     },
     "execution_count": 14,
     "metadata": {},
     "output_type": "execute_result"
    }
   ],
   "source": [
    "#list comprehension\n",
    "[j for j, i in di.items() if i>=25]"
   ]
  },
  {
   "cell_type": "code",
   "execution_count": 18,
   "id": "85c43f90-d53e-4adb-872f-ba067b6e509d",
   "metadata": {
    "tags": []
   },
   "outputs": [
    {
     "data": {
      "text/plain": [
       "{'tom': 30, 'jerry': 32, '철수': 20, '영희': 22, '길동': 23}"
      ]
     },
     "execution_count": 18,
     "metadata": {},
     "output_type": "execute_result"
    }
   ],
   "source": [
    "#1딕셔너리 추가\n",
    "di['길동']=23\n",
    "di"
   ]
  },
  {
   "cell_type": "code",
   "execution_count": 93,
   "id": "e8370f73-b575-4160-a555-2c42b819a581",
   "metadata": {
    "tags": []
   },
   "outputs": [
    {
     "data": {
      "text/plain": [
       "{'tom': 30, 'jerry': 32, '철수': 20, '영희': 22, '사과': 30}"
      ]
     },
     "execution_count": 93,
     "metadata": {},
     "output_type": "execute_result"
    }
   ],
   "source": [
    "#2update 이용 따옴표, \n",
    "di.update(사과=30)\n",
    "di\n"
   ]
  },
  {
   "cell_type": "code",
   "execution_count": 94,
   "id": "9542bddf-feb7-421d-a2a4-92289d250240",
   "metadata": {
    "tags": []
   },
   "outputs": [
    {
     "data": {
      "text/plain": [
       "{'tom': 30, 'jerry': 32, '철수': 20, '영희': 22, '사과': 30, '배': 40}"
      ]
     },
     "execution_count": 94,
     "metadata": {},
     "output_type": "execute_result"
    }
   ],
   "source": [
    "#3\n",
    "di.update({'배':40})\n",
    "di"
   ]
  },
  {
   "cell_type": "code",
   "execution_count": 96,
   "id": "8c7ce038-db18-45b1-a948-18f5701a089a",
   "metadata": {
    "tags": []
   },
   "outputs": [
    {
     "data": {
      "text/plain": [
       "dict_items([('tom', 30), ('jerry', 32), ('철수', 20), ('영희', 22), ('사과', 30), ('배', 40)])"
      ]
     },
     "execution_count": 96,
     "metadata": {},
     "output_type": "execute_result"
    }
   ],
   "source": [
    "di.items()"
   ]
  },
  {
   "cell_type": "code",
   "execution_count": 100,
   "id": "053a0fad-e8bd-4e9b-a718-59098bfb4d1f",
   "metadata": {
    "tags": []
   },
   "outputs": [
    {
     "name": "stdout",
     "output_type": "stream",
     "text": [
      "귤\n",
      "배\n"
     ]
    }
   ],
   "source": [
    "di= {\"귤\":50}\n",
    "di['길동']=23\n",
    "di.update({\"배\":40})\n",
    "di.update(사과= 30)\n",
    "\n",
    "for i ,j in di.items():\n",
    "    if j > 30:\n",
    "        print(i)"
   ]
  },
  {
   "cell_type": "code",
   "execution_count": 101,
   "id": "49b1ae8a-dd7d-4f12-8ec8-0c72d3b7da4d",
   "metadata": {
    "tags": []
   },
   "outputs": [
    {
     "data": {
      "text/plain": [
       "50"
      ]
     },
     "execution_count": 101,
     "metadata": {},
     "output_type": "execute_result"
    }
   ],
   "source": [
    "di.get('귤')"
   ]
  },
  {
   "cell_type": "code",
   "execution_count": 102,
   "id": "89c1812d-e6aa-4bd6-b1bb-be5ed9810205",
   "metadata": {
    "tags": []
   },
   "outputs": [
    {
     "data": {
      "text/plain": [
       "50"
      ]
     },
     "execution_count": 102,
     "metadata": {},
     "output_type": "execute_result"
    }
   ],
   "source": [
    "di['귤']"
   ]
  },
  {
   "cell_type": "code",
   "execution_count": 127,
   "id": "ddf1222e-23c5-408a-825c-6eb2065613b9",
   "metadata": {
    "tags": []
   },
   "outputs": [
    {
     "name": "stdout",
     "output_type": "stream",
     "text": [
      "영자:80\n",
      "옥순:87\n",
      "순자:90\n"
     ]
    }
   ],
   "source": [
    "#리스트 안에 리스트\n",
    "data = [[\"영자\", \"옥순\", \"광수\", \"순자\"],\n",
    "        [80, 87, 85, 90],\n",
    "        [\"여자\",\"여자\",\"남자\",\"여자\"]]\n",
    "\n",
    "a= list(zip(data[0],data[1],data[2]))\n",
    "li=[]\n",
    "for i,j,k in a:\n",
    "    if k=='여자':\n",
    "        print (f\"{i}:{j}\")\n",
    "        "
   ]
  },
  {
   "cell_type": "code",
   "execution_count": 129,
   "id": "9f3ea0ce-595c-4979-94bf-5841e052db04",
   "metadata": {
    "tags": []
   },
   "outputs": [
    {
     "data": {
      "text/plain": [
       "[80, 87, 90]"
      ]
     },
     "execution_count": 129,
     "metadata": {},
     "output_type": "execute_result"
    }
   ],
   "source": [
    "#점수만 나오게 \n",
    "scores = list()\n",
    "data = [[\"영자\", \"옥순\", \"광수\", \"순자\"],\n",
    "        [80, 87, 85, 90],\n",
    "        [\"여자\",\"여자\",\"남자\",\"여자\"]]\n",
    "\n",
    "scores=list()\n",
    "for i in range(4):\n",
    "    if data [2][i]=='여자':\n",
    "        scores.append(data[1][i])\n",
    "    else:\n",
    "        pass\n",
    "scores"
   ]
  },
  {
   "cell_type": "code",
   "execution_count": 132,
   "id": "d531a5f3-5624-458b-9d2c-c226414e7d63",
   "metadata": {
    "tags": []
   },
   "outputs": [
    {
     "data": {
      "text/plain": [
       "[80, 87, 90]"
      ]
     },
     "execution_count": 132,
     "metadata": {},
     "output_type": "execute_result"
    }
   ],
   "source": [
    "#list comprehension, [목표 for문 if 절]\n",
    "\n",
    "[(data[1][i]) for i in range(4)  if data [2][i]=='여자']"
   ]
  },
  {
   "cell_type": "code",
   "execution_count": 133,
   "id": "073ed15b-914a-4f40-8b11-967501d26bc3",
   "metadata": {
    "tags": []
   },
   "outputs": [],
   "source": [
    "li=[5,4,3,2,1,10,9,8,7,6]"
   ]
  },
  {
   "cell_type": "code",
   "execution_count": 134,
   "id": "5cb09665-62fe-4d34-ae90-e1d9ce9300a0",
   "metadata": {
    "tags": []
   },
   "outputs": [
    {
     "data": {
      "text/plain": [
       "10"
      ]
     },
     "execution_count": 134,
     "metadata": {},
     "output_type": "execute_result"
    }
   ],
   "source": [
    "max_value=li[0]\n",
    "for i in li:\n",
    "    if i>=max_value:\n",
    "        max_value=i\n",
    "max_value"
   ]
  },
  {
   "cell_type": "code",
   "execution_count": 143,
   "id": "39be0adf-4cd6-4764-bfc0-60efa427df52",
   "metadata": {
    "tags": []
   },
   "outputs": [
    {
     "name": "stdout",
     "output_type": "stream",
     "text": [
      "10\n"
     ]
    }
   ],
   "source": [
    "max_value=li[0]\n",
    "for i in li:\n",
    "    max_value =max(max_value,i)\n",
    "print(max_value)"
   ]
  },
  {
   "cell_type": "code",
   "execution_count": 147,
   "id": "03b12a2b-fcd2-4a51-a897-4355162d99a5",
   "metadata": {
    "tags": []
   },
   "outputs": [
    {
     "data": {
      "text/plain": [
       "[199,\n",
       " 156,\n",
       " 114,\n",
       " 100,\n",
       " 111,\n",
       " 174,\n",
       " 104,\n",
       " 185,\n",
       " 188,\n",
       " 110,\n",
       " 112,\n",
       " 198,\n",
       " 145,\n",
       " 130,\n",
       " 102,\n",
       " 103,\n",
       " 144,\n",
       " 182,\n",
       " 179,\n",
       " 161]"
      ]
     },
     "execution_count": 147,
     "metadata": {},
     "output_type": "execute_result"
    }
   ],
   "source": [
    "import random\n",
    "random.seed(1234)\n",
    "li=random.sample(range(100,200),20)\n",
    "li"
   ]
  },
  {
   "cell_type": "code",
   "execution_count": 155,
   "id": "c167dc0c-a1f4-4af7-a187-9eb19f40bc38",
   "metadata": {
    "tags": []
   },
   "outputs": [
    {
     "name": "stdout",
     "output_type": "stream",
     "text": [
      "1번째\n"
     ]
    }
   ],
   "source": [
    "#1.최대값은?\n",
    "max_value=li[0]\n",
    "for i in li:\n",
    "    if i>=max_value:\n",
    "        max_value=i\n",
    "print(f\"{li.index(max_value) +1}번째\")"
   ]
  },
  {
   "cell_type": "code",
   "execution_count": 154,
   "id": "14140d23-166d-48d7-bdcd-1ca4216596bb",
   "metadata": {
    "tags": []
   },
   "outputs": [
    {
     "data": {
      "text/plain": [
       "0"
      ]
     },
     "execution_count": 154,
     "metadata": {},
     "output_type": "execute_result"
    }
   ],
   "source": [
    "li.index(max(li)) +1"
   ]
  },
  {
   "cell_type": "code",
   "execution_count": null,
   "id": "928d34b6-cb33-4064-9c4d-4d93b6baad60",
   "metadata": {},
   "outputs": [
    {
     "name": "stdout",
     "output_type": "stream",
     "text": [
      "영자: 80\n",
      "옥순: 87\n",
      "순자: 90\n"
     ]
    }
   ],
   "source": []
  },
  {
   "cell_type": "code",
   "execution_count": 161,
   "id": "ab8c06ac-6b41-4895-99ac-cc7af188e91f",
   "metadata": {
    "tags": []
   },
   "outputs": [
    {
     "data": {
      "text/plain": [
       "[1, 2, 3, 'a', 'b', 'c', 'd']"
      ]
     },
     "execution_count": 161,
     "metadata": {},
     "output_type": "execute_result"
    }
   ],
   "source": [
    "a = [[1, 2, 3], [\"a\", \"b\", \"c\", \"d\"]] \n",
    "a=a[0]+a[1]\n",
    "a"
   ]
  },
  {
   "cell_type": "code",
   "execution_count": 2,
   "id": "3e88a92e-0c41-4689-b631-67cd798a7002",
   "metadata": {
    "tags": []
   },
   "outputs": [
    {
     "data": {
      "text/plain": [
       "[(1, 'a'), (2, 'b'), (3, 'c')]"
      ]
     },
     "execution_count": 2,
     "metadata": {},
     "output_type": "execute_result"
    }
   ],
   "source": [
    "a = [[1, 2, 3], [\"a\", \"b\", \"c\", \"d\"]] \n",
    "list(zip(a[0],a[1]))"
   ]
  },
  {
   "cell_type": "code",
   "execution_count": 6,
   "id": "d03f6b7f-016b-4084-a944-9d91ca45b3d3",
   "metadata": {},
   "outputs": [
    {
     "name": "stdout",
     "output_type": "stream",
     "text": [
      "(1, 'a')\n",
      "(1, 'b')\n",
      "(1, 'c')\n",
      "(1, 'd')\n",
      "(2, 'a')\n",
      "(2, 'b')\n",
      "(2, 'c')\n",
      "(2, 'd')\n",
      "(3, 'a')\n",
      "(3, 'b')\n",
      "(3, 'c')\n",
      "(3, 'd')\n"
     ]
    }
   ],
   "source": [
    "for i in a[0]:\n",
    "    for j in a[1]:\n",
    "        print((i,j))"
   ]
  },
  {
   "cell_type": "code",
   "execution_count": 8,
   "id": "88822d40-1944-4aba-b7f4-de02be680369",
   "metadata": {},
   "outputs": [
    {
     "data": {
      "text/plain": [
       "[(1, 'a'),\n",
       " (1, 'b'),\n",
       " (1, 'c'),\n",
       " (1, 'd'),\n",
       " (2, 'a'),\n",
       " (2, 'b'),\n",
       " (2, 'c'),\n",
       " (2, 'd'),\n",
       " (3, 'a'),\n",
       " (3, 'b'),\n",
       " (3, 'c'),\n",
       " (3, 'd')]"
      ]
     },
     "execution_count": 8,
     "metadata": {},
     "output_type": "execute_result"
    }
   ],
   "source": [
    "#list comprehension \n",
    "[(i,j) for i in a[0] for j in a[1] ]"
   ]
  },
  {
   "cell_type": "code",
   "execution_count": 39,
   "id": "5470a787-9c95-47cc-997c-508632d50828",
   "metadata": {
    "tags": []
   },
   "outputs": [
    {
     "data": {
      "text/plain": [
       "[1, 2, 3, 6]"
      ]
     },
     "execution_count": 39,
     "metadata": {},
     "output_type": "execute_result"
    }
   ],
   "source": [
    "#6의 약수 1,2,3,6\n",
    "li=[]\n",
    "n=6\n",
    "for i in range(1,n+1):\n",
    "    if n%i ==0:\n",
    "        li.append(i)\n",
    "li\n"
   ]
  },
  {
   "cell_type": "code",
   "execution_count": 27,
   "id": "5eb3202f-5ecf-4233-874e-80811766bcc0",
   "metadata": {
    "tags": []
   },
   "outputs": [
    {
     "name": "stdout",
     "output_type": "stream",
     "text": [
      "0.167405\n"
     ]
    }
   ],
   "source": [
    "i = 0\n",
    "two = 0\n",
    "while i < 200000: \n",
    "    i+=1 #전체 갯수 \n",
    "    choi = random.randint(1, 6)\n",
    "    if choi == 2:\n",
    "        two +=1  #2의 갯수 \n",
    "print(two/i) "
   ]
  },
  {
   "cell_type": "markdown",
   "id": "cf423c5e-e0b5-4234-858b-c5fadfc2e7f1",
   "metadata": {},
   "source": [
    "count = 0\n",
    "total = 12000000\n",
    "for i in range(total):\n",
    "    a = random.randint(1,7)\n",
    "    if a == 2: \n",
    "        count += 1\n",
    "count/total "
   ]
  },
  {
   "cell_type": "code",
   "execution_count": null,
   "id": "51799a67-3904-4603-81ec-5c7cc16f212a",
   "metadata": {
    "tags": []
   },
   "outputs": [],
   "source": [
    "import random\n",
    "ans = random.randint(1, 21)\n",
    "cnt = 0\n",
    "def game():\n",
    "    global ans\n",
    "    global cnt\n",
    "    my_ans = int(input())\n",
    "    cnt += 1\n",
    "    if my_ans == ans:\n",
    "        return f\"{cnt}번만에 맞췄습니다.\"\n",
    "    elif my_ans < ans:\n",
    "        print(\"UP\")\n",
    "    else:\n",
    "        print(\"DOWN\")\n",
    "    return game() \n",
    "game()"
   ]
  },
  {
   "cell_type": "code",
   "execution_count": 49,
   "id": "010202fa-c47e-443d-ace6-9c23e92ad12d",
   "metadata": {
    "tags": []
   },
   "outputs": [
    {
     "ename": "SyntaxError",
     "evalue": "unmatched ')' (2919528818.py, line 9)",
     "output_type": "error",
     "traceback": [
      "\u001b[1;36m  Cell \u001b[1;32mIn[49], line 9\u001b[1;36m\u001b[0m\n\u001b[1;33m    ellif a<i)\"\u001b[0m\n\u001b[1;37m             ^\u001b[0m\n\u001b[1;31mSyntaxError\u001b[0m\u001b[1;31m:\u001b[0m unmatched ')'\n"
     ]
    }
   ],
   "source": [
    "#게임\n",
    "def game():\n",
    "    print('start Up&Down Game')\n",
    "    count = 0\n",
    "    num = random.randint(1,20)\n",
    "    while True:\n",
    "        ins = int(input(\"User Input: \"))\n",
    "        count += 1\n",
    "        if ins == num:\n",
    "            print(f\"맞았습니다. 그 수는 {num}이었습니다.\")\n",
    "            print(f\"{count}번 만에 맞추었습니다\")\n",
    "        elif ins >= num:\n",
    "            print(\"Down\")\n",
    "        else :\n",
    "            print(\"Up\")\n",
    "             \n",
    "game() \n",
    "    "
   ]
  },
  {
   "cell_type": "code",
   "execution_count": null,
   "id": "cc089a8e-0d8f-4382-9ce3-2b876e0445da",
   "metadata": {},
   "outputs": [],
   "source": [
    "def game():\n",
    "    ans=random.randint(1,20)\n",
    "    print(\"start Up&Do\n",
    "          wn Game\")\n",
    "    count=0\n",
    "    ans2=0\n",
    "    while ans2!=ans:\n",
    "        count+=1\n",
    "        ans2= int(input(\"User Input : \"))\n",
    "        if ans2<ans:\n",
    "            print(\"Up\")\n",
    "        else:\n",
    "            print(\"Down\")\n",
    "    return f\"정답:{ans2}, 횟수{count}\" "
   ]
  },
  {
   "cell_type": "code",
   "execution_count": null,
   "id": "919dddf4-2112-426c-a913-85d8cc661cf5",
   "metadata": {},
   "outputs": [],
   "source": [
    "def game():\n",
    "    you = input(\"가위, 바위, 보 중 하나를 입력하세요\\n\")\n",
    "    com = random.choice(['가위','바위','보'])\n",
    "    print(f\"당신의 선택: {you}\")\n",
    "    print(f\"컴퓨터의 선택: {com}\")\n",
    "    if you == \"가위\" and com == \"가위\":\n",
    "        return (\"무승부입니다!\")\n",
    "    elif you == \"가위\" and com == \"바위\":\n",
    "        return(\"컴퓨터의 승리입니다! You Lose!\")\n",
    "    elif you == \"가위\" and com == \"보\":\n",
    "        return(\"당신의 승리입니다! You win!\")\n",
    "    elif you == \"바위\" and com == \"바위\":\n",
    "        return(\"무승부입니다!\")\n",
    "    elif you == \"바위\" and com == \"보\":\n",
    "        return(\"컴퓨터의 승리입니다! You Lose!\")\n",
    "    elif you == \"바위\" and com == \"가위\":\n",
    "        return(\"당신의 승리입니다! You win!\")\n",
    "    if you == \"보\" and com == \"보\":\n",
    "        return(\"무승부입니다!\")\n",
    "    elif you == \"보\" and com == \"가위\":\n",
    "        return(\"컴퓨터의 승리입니다! You Lose!\")\n",
    "    elif you == \"보\" and com == \"바위\":\n",
    "        return(\"당신의 승리입니다! You win!\") "
   ]
  },
  {
   "cell_type": "markdown",
   "id": "01646cdc-70de-4804-b602-96c82b8bcae8",
   "metadata": {},
   "source": [
    "# 코딩 면허 시험"
   ]
  },
  {
   "cell_type": "code",
   "execution_count": 28,
   "id": "825aac25-8130-4d1a-8e13-cc62662fd80f",
   "metadata": {
    "tags": []
   },
   "outputs": [
    {
     "data": {
      "text/plain": [
       "'a#b#c#d'"
      ]
     },
     "execution_count": 28,
     "metadata": {},
     "output_type": "execute_result"
    }
   ],
   "source": [
    "#1\n",
    "s=('a:b:c:d')\n",
    "b= s.split(':')\n",
    "c='#'.join(b)\n",
    "c"
   ]
  },
  {
   "cell_type": "code",
   "execution_count": 38,
   "id": "f4eb6881-cd58-4425-90e6-92aaf5693c61",
   "metadata": {
    "tags": []
   },
   "outputs": [
    {
     "data": {
      "text/plain": [
       "'70'"
      ]
     },
     "execution_count": 38,
     "metadata": {},
     "output_type": "execute_result"
    }
   ],
   "source": [
    "#2 #key에 value얻을때 dic.get('key'), 없을경우 dic.get('key','default')\n",
    "a={'A':90,'B':80}\n",
    "a.get('C','70')\n"
   ]
  },
  {
   "cell_type": "code",
   "execution_count": 46,
   "id": "39933239-73c6-4f36-b6fd-d07bc7c34c0f",
   "metadata": {
    "tags": []
   },
   "outputs": [
    {
     "data": {
      "text/plain": [
       "2260999744000"
      ]
     },
     "execution_count": 46,
     "metadata": {},
     "output_type": "execute_result"
    }
   ],
   "source": [
    "#3 \n",
    "a=[1,2,3]\n",
    "id(a)"
   ]
  },
  {
   "cell_type": "code",
   "execution_count": 47,
   "id": "ebbd1661-237c-454e-9b3b-4b62bb720862",
   "metadata": {
    "tags": []
   },
   "outputs": [
    {
     "data": {
      "text/plain": [
       "2261000333376"
      ]
     },
     "execution_count": 47,
     "metadata": {},
     "output_type": "execute_result"
    }
   ],
   "source": [
    "a= a+[4,5]\n",
    "id(a)"
   ]
  },
  {
   "cell_type": "code",
   "execution_count": 48,
   "id": "bee73cb9-49ec-4f1f-91b6-4b73aab807ec",
   "metadata": {
    "tags": []
   },
   "outputs": [
    {
     "data": {
      "text/plain": [
       "2261000333376"
      ]
     },
     "execution_count": 48,
     "metadata": {},
     "output_type": "execute_result"
    }
   ],
   "source": [
    "a.extend([4,5])\n",
    "id(a)"
   ]
  },
  {
   "cell_type": "code",
   "execution_count": 49,
   "id": "e6a58452-19fa-4c02-9314-85faa00b1e23",
   "metadata": {
    "tags": []
   },
   "outputs": [],
   "source": [
    "#extend주소가 변하지 않음 +는 새로운 리스트를 만들어서 주소가 변함 "
   ]
  },
  {
   "cell_type": "code",
   "execution_count": 59,
   "id": "3b1a6023-b66b-440f-8e9d-1f299cf5e870",
   "metadata": {
    "tags": []
   },
   "outputs": [
    {
     "name": "stdout",
     "output_type": "stream",
     "text": [
      "481\n"
     ]
    }
   ],
   "source": [
    "#4 \n",
    "A= [20,55,67,82,45,33,90,87,100,25]\n",
    "tot=0\n",
    "for i in A:\n",
    "    if i>= 50:\n",
    "        tot +=i\n",
    "print(tot)\n"
   ]
  },
  {
   "cell_type": "code",
   "execution_count": 56,
   "id": "87bfcc21-0bc4-4c12-9b34-add5c1b6dfb0",
   "metadata": {
    "tags": []
   },
   "outputs": [
    {
     "name": "stdout",
     "output_type": "stream",
     "text": [
      "481\n"
     ]
    }
   ],
   "source": [
    "result=0\n",
    "while A:\n",
    "    mark=A.pop() #가장 마지막 항목 하나씩 뽑음\n",
    "    if mark >=50:\n",
    "        result += mark\n",
    "print(result)"
   ]
  },
  {
   "cell_type": "code",
   "execution_count": 78,
   "id": "21b7dc39-6036-48d3-8059-8867e511acb2",
   "metadata": {
    "tags": []
   },
   "outputs": [
    {
     "name": "stdout",
     "output_type": "stream",
     "text": [
      "3\n"
     ]
    }
   ],
   "source": [
    "#5. 피보나치 0,1,1,2,3,5,8\n",
    "li=[]\n",
    "def fib (n):\n",
    "    if n==0:\n",
    "        return 0\n",
    "    elif n==1 or n==2: \n",
    "        return 1\n",
    "    else: \n",
    "        return fib(n-2) + fib(n-1)\n",
    "\n",
    "           \n",
    "print(fib(4))\n"
   ]
  },
  {
   "cell_type": "code",
   "execution_count": 91,
   "id": "44461701-b496-4af3-96a5-e4afdcd434be",
   "metadata": {
    "tags": []
   },
   "outputs": [
    {
     "name": "stdin",
     "output_type": "stream",
     "text": [
      " 7,8,0\n"
     ]
    },
    {
     "name": "stdout",
     "output_type": "stream",
     "text": [
      "15\n"
     ]
    }
   ],
   "source": [
    "#6. 숫자의 총합 \n",
    "num=input().split(',')\n",
    "tot=0\n",
    "for i in num:\n",
    "    tot+= int(i)\n",
    "print (tot)"
   ]
  },
  {
   "cell_type": "code",
   "execution_count": null,
   "id": "aa7c882e-c64a-4e0e-8cd7-71f549c7d869",
   "metadata": {},
   "outputs": [],
   "source": [
    "#7\n",
    "inpp= \n",
    "def mul(i,j):\n",
    "for i in range(1,10):\n",
    "\n",
    "        "
   ]
  }
 ],
 "metadata": {
  "kernelspec": {
   "display_name": "Python 3 (ipykernel)",
   "language": "python",
   "name": "python3"
  },
  "language_info": {
   "codemirror_mode": {
    "name": "ipython",
    "version": 3
   },
   "file_extension": ".py",
   "mimetype": "text/x-python",
   "name": "python",
   "nbconvert_exporter": "python",
   "pygments_lexer": "ipython3",
   "version": "3.10.9"
  }
 },
 "nbformat": 4,
 "nbformat_minor": 5
}
