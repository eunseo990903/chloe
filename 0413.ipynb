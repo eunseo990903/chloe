{
 "cells": [
  {
   "cell_type": "code",
   "execution_count": 3,
   "id": "c6c1f0ac-0573-4bcf-a510-6342ebb753b2",
   "metadata": {
    "tags": []
   },
   "outputs": [
    {
     "name": "stdout",
     "output_type": "stream",
     "text": [
      "initiated datasets repo at: /Users/chloe/.pydataset/\n"
     ]
    }
   ],
   "source": [
    "import pandas as pd\n",
    "import numpy as np\n",
    "import random\n",
    "import matplotlib.pyplot as plt\n",
    "from numpy import nan as NA\n",
    "import pydataset"
   ]
  },
  {
   "cell_type": "code",
   "execution_count": 11,
   "id": "4ddcebe6-7495-42ff-b9fe-c7435defc338",
   "metadata": {
    "tags": []
   },
   "outputs": [
    {
     "data": {
      "text/html": [
       "<div>\n",
       "<style scoped>\n",
       "    .dataframe tbody tr th:only-of-type {\n",
       "        vertical-align: middle;\n",
       "    }\n",
       "\n",
       "    .dataframe tbody tr th {\n",
       "        vertical-align: top;\n",
       "    }\n",
       "\n",
       "    .dataframe thead th {\n",
       "        text-align: right;\n",
       "    }\n",
       "</style>\n",
       "<table border=\"1\" class=\"dataframe\">\n",
       "  <thead>\n",
       "    <tr style=\"text-align: right;\">\n",
       "      <th></th>\n",
       "      <th>평균</th>\n",
       "      <th>합계</th>\n",
       "    </tr>\n",
       "  </thead>\n",
       "  <tbody>\n",
       "    <tr>\n",
       "      <th>A1</th>\n",
       "      <td>-1.217922</td>\n",
       "      <td>-304.480477</td>\n",
       "    </tr>\n",
       "    <tr>\n",
       "      <th>A2</th>\n",
       "      <td>-0.288564</td>\n",
       "      <td>-72.141089</td>\n",
       "    </tr>\n",
       "    <tr>\n",
       "      <th>A3</th>\n",
       "      <td>0.314758</td>\n",
       "      <td>78.689568</td>\n",
       "    </tr>\n",
       "    <tr>\n",
       "      <th>A4</th>\n",
       "      <td>1.254690</td>\n",
       "      <td>313.672580</td>\n",
       "    </tr>\n",
       "  </tbody>\n",
       "</table>\n",
       "</div>"
      ],
      "text/plain": [
       "          평균          합계\n",
       "A1 -1.217922 -304.480477\n",
       "A2 -0.288564  -72.141089\n",
       "A3  0.314758   78.689568\n",
       "A4  1.254690  313.672580"
      ]
     },
     "execution_count": 11,
     "metadata": {},
     "output_type": "execute_result"
    }
   ],
   "source": [
    "np.random.seed(1234)\n",
    "num=np.random.randn(1000)\n",
    "s=pd.qcut(num,4,labels=['A1','A2','A3','A4'])\n",
    "#num.groupy 불가능 : (num= np.nd array) categorical 연산 \n",
    "pd.Series(num).groupby(s).agg([('평균','mean'),('합계','sum')])"
   ]
  },
  {
   "cell_type": "code",
   "execution_count": 12,
   "id": "f75e6812-cc1c-4fab-928b-fb5e21f6c84a",
   "metadata": {
    "tags": []
   },
   "outputs": [
    {
     "data": {
      "text/plain": [
       "[0, 3, 1, 3, 2, 0, 1, 1, 2, 1, 2, 1, 0, 3, 3, 1, 3, 1, 3, 1]"
      ]
     },
     "execution_count": 12,
     "metadata": {},
     "output_type": "execute_result"
    }
   ],
   "source": [
    "#0123중 중복허용 20개 뽑은 리스트 li \n",
    "np.random.seed(1234)\n",
    "np.random.choice([0,1,2,3],20)\n",
    "np.random.randint(0,4,20)\n",
    "np.random.seed(1234)\n",
    "li= random.choices([0,1,2,3],k=20) #random모듈 \n",
    "li"
   ]
  },
  {
   "cell_type": "code",
   "execution_count": 13,
   "id": "c4ec9bb5-4376-474c-8cf7-cf9a73739a24",
   "metadata": {
    "tags": []
   },
   "outputs": [
    {
     "data": {
      "text/plain": [
       "['RH-', 'O', 'RH-', 'A', 'RH-', ..., 'O', 'RH-', 'O', 'B', 'O']\n",
       "Length: 20\n",
       "Categories (4, object): ['A', 'B', 'O', 'RH-']"
      ]
     },
     "execution_count": 13,
     "metadata": {},
     "output_type": "execute_result"
    }
   ],
   "source": [
    "np.random.seed(1234)\n",
    "li= random.choices([0,1,2,3],k=20) #random모듈 \n",
    "li\n",
    "blood_type = [\"A\", \"B\", \"O\", \"RH-\"]\n",
    "#카테고리형 데이터로 변환 \n",
    "cat=pd.Categorical.from_codes(li,blood_type)\n",
    "cat"
   ]
  },
  {
   "cell_type": "code",
   "execution_count": 14,
   "id": "94f1613a-cf62-46c3-bb84-31da6498f5bb",
   "metadata": {
    "tags": []
   },
   "outputs": [
    {
     "data": {
      "text/plain": [
       "A      6\n",
       "B      1\n",
       "O      6\n",
       "RH-    7\n",
       "dtype: int64"
      ]
     },
     "execution_count": 14,
     "metadata": {},
     "output_type": "execute_result"
    }
   ],
   "source": [
    "names = ['주원', '민서', '시우', '하준', '하은', '도윤', \"한영\", '도현', '성현', '지유', '민준', '지민', '지호', '서현', '준우', '서연', '하윤', '서윤', '지우', '윤서']\n",
    "pd.Series(names).groupby(cat).count()"
   ]
  },
  {
   "cell_type": "code",
   "execution_count": 17,
   "id": "c962c6aa-ac7b-4e98-8d08-4b4f62ffb1ea",
   "metadata": {
    "tags": []
   },
   "outputs": [
    {
     "data": {
      "text/plain": [
       "11.0"
      ]
     },
     "execution_count": 17,
     "metadata": {},
     "output_type": "execute_result"
    }
   ],
   "source": [
    "#창고 데이터 \n",
    "inv= pd.read_excel('./data/inventory_Seoul.xlsx')\n",
    "inv[:3]\n",
    "\n",
    "#총재고수량  & defective zone의 재고수량 \n",
    "inv['재고수량(A)'].sum()\n",
    "#count 하면 총 행이나옴. 근데 하나의 로케이션에 여러개 재고가 있을 수 있어서 sum\n",
    "inv[inv['로케이션명'].str.contains(\"Defective\")]['재고수량(A)'].sum()\n",
    "inv[inv['로케이션명'] == 'Defective Zone']['재고수량(A)'].sum()"
   ]
  },
  {
   "cell_type": "code",
   "execution_count": 20,
   "id": "8f4fd21e-90e8-4c13-8b15-ab396f8cc174",
   "metadata": {
    "tags": []
   },
   "outputs": [
    {
     "data": {
      "text/html": [
       "<div>\n",
       "<style scoped>\n",
       "    .dataframe tbody tr th:only-of-type {\n",
       "        vertical-align: middle;\n",
       "    }\n",
       "\n",
       "    .dataframe tbody tr th {\n",
       "        vertical-align: top;\n",
       "    }\n",
       "\n",
       "    .dataframe thead th {\n",
       "        text-align: right;\n",
       "    }\n",
       "</style>\n",
       "<table border=\"1\" class=\"dataframe\">\n",
       "  <thead>\n",
       "    <tr style=\"text-align: right;\">\n",
       "      <th></th>\n",
       "      <th>user_id</th>\n",
       "      <th>gender</th>\n",
       "      <th>age</th>\n",
       "      <th>occupation</th>\n",
       "      <th>zip</th>\n",
       "    </tr>\n",
       "  </thead>\n",
       "  <tbody>\n",
       "    <tr>\n",
       "      <th>0</th>\n",
       "      <td>1</td>\n",
       "      <td>F</td>\n",
       "      <td>1</td>\n",
       "      <td>10</td>\n",
       "      <td>48067</td>\n",
       "    </tr>\n",
       "    <tr>\n",
       "      <th>1</th>\n",
       "      <td>2</td>\n",
       "      <td>M</td>\n",
       "      <td>56</td>\n",
       "      <td>16</td>\n",
       "      <td>70072</td>\n",
       "    </tr>\n",
       "    <tr>\n",
       "      <th>2</th>\n",
       "      <td>3</td>\n",
       "      <td>M</td>\n",
       "      <td>25</td>\n",
       "      <td>15</td>\n",
       "      <td>55117</td>\n",
       "    </tr>\n",
       "    <tr>\n",
       "      <th>3</th>\n",
       "      <td>4</td>\n",
       "      <td>M</td>\n",
       "      <td>45</td>\n",
       "      <td>7</td>\n",
       "      <td>02460</td>\n",
       "    </tr>\n",
       "    <tr>\n",
       "      <th>4</th>\n",
       "      <td>5</td>\n",
       "      <td>M</td>\n",
       "      <td>25</td>\n",
       "      <td>20</td>\n",
       "      <td>55455</td>\n",
       "    </tr>\n",
       "    <tr>\n",
       "      <th>...</th>\n",
       "      <td>...</td>\n",
       "      <td>...</td>\n",
       "      <td>...</td>\n",
       "      <td>...</td>\n",
       "      <td>...</td>\n",
       "    </tr>\n",
       "    <tr>\n",
       "      <th>6035</th>\n",
       "      <td>6036</td>\n",
       "      <td>F</td>\n",
       "      <td>25</td>\n",
       "      <td>15</td>\n",
       "      <td>32603</td>\n",
       "    </tr>\n",
       "    <tr>\n",
       "      <th>6036</th>\n",
       "      <td>6037</td>\n",
       "      <td>F</td>\n",
       "      <td>45</td>\n",
       "      <td>1</td>\n",
       "      <td>76006</td>\n",
       "    </tr>\n",
       "    <tr>\n",
       "      <th>6037</th>\n",
       "      <td>6038</td>\n",
       "      <td>F</td>\n",
       "      <td>56</td>\n",
       "      <td>1</td>\n",
       "      <td>14706</td>\n",
       "    </tr>\n",
       "    <tr>\n",
       "      <th>6038</th>\n",
       "      <td>6039</td>\n",
       "      <td>F</td>\n",
       "      <td>45</td>\n",
       "      <td>0</td>\n",
       "      <td>01060</td>\n",
       "    </tr>\n",
       "    <tr>\n",
       "      <th>6039</th>\n",
       "      <td>6040</td>\n",
       "      <td>M</td>\n",
       "      <td>25</td>\n",
       "      <td>6</td>\n",
       "      <td>11106</td>\n",
       "    </tr>\n",
       "  </tbody>\n",
       "</table>\n",
       "<p>6040 rows × 5 columns</p>\n",
       "</div>"
      ],
      "text/plain": [
       "      user_id gender  age  occupation    zip\n",
       "0           1      F    1          10  48067\n",
       "1           2      M   56          16  70072\n",
       "2           3      M   25          15  55117\n",
       "3           4      M   45           7  02460\n",
       "4           5      M   25          20  55455\n",
       "...       ...    ...  ...         ...    ...\n",
       "6035     6036      F   25          15  32603\n",
       "6036     6037      F   45           1  76006\n",
       "6037     6038      F   56           1  14706\n",
       "6038     6039      F   45           0  01060\n",
       "6039     6040      M   25           6  11106\n",
       "\n",
       "[6040 rows x 5 columns]"
      ]
     },
     "execution_count": 20,
     "metadata": {},
     "output_type": "execute_result"
    }
   ],
   "source": [
    "import pandas as pd\n",
    "pd.options.display.max_rows = 10\n",
    "\n",
    "unames = ['user_id', 'gender', 'age', 'occupation', 'zip']\n",
    "users = pd.read_table('./data/movielens/users.dat', sep='::',\n",
    "                      header=None, names=unames,engine='python', encoding_errors='ignore')\n",
    "\n",
    "rnames = ['user_id', 'movie_id', 'rating', 'timestamp']\n",
    "ratings = pd.read_table('./data/movielens/ratings.dat', sep='::',\n",
    "                        header=None, names=rnames, engine='python',encoding_errors='ignore')\n",
    "\n",
    "mnames = ['movie_id', 'title', 'genres']\n",
    "movies = pd.read_table('./data/movielens/movies.dat', sep='::',\n",
    "                       header=None, names=mnames, engine='python',encoding_errors='ignore') \n",
    "users"
   ]
  },
  {
   "cell_type": "code",
   "execution_count": null,
   "id": "dde93c6d-d73d-4ff5-a886-81421b458dcd",
   "metadata": {
    "tags": []
   },
   "outputs": [],
   "source": [
    "#3개 다 merge\n",
    "data=pd.merge(pd.merge(users,ratings),movies)\n",
    "data\n",
    "a=data\n",
    "#GENDER별 영화의 RATING평균 -> 평균이라고 .agg('mean) 하면 전체의 평균이 되어버림\n",
    "mean_ratings=data.pivot_table('rating', index=\"title\",columns=\"gender\")\n",
    "#여자로 내림차순 , 남자는 오름차순 , sort_values -> s주의 \n",
    "mean_ratings.sort_values(['F','M'], ascending=[False,True])"
   ]
  },
  {
   "cell_type": "markdown",
   "id": "a3f5a2cf-f111-4ef0-a80a-af442fdeb795",
   "metadata": {},
   "source": [
    "## 2012년 연방선거관리위원회 "
   ]
  },
  {
   "cell_type": "code",
   "execution_count": 23,
   "id": "ac6c9e1c-bd12-4fcf-984f-bb0a1a2cede3",
   "metadata": {
    "tags": []
   },
   "outputs": [
    {
     "ename": "KeyboardInterrupt",
     "evalue": "",
     "output_type": "error",
     "traceback": [
      "\u001b[0;31m---------------------------------------------------------------------------\u001b[0m",
      "\u001b[0;31mKeyboardInterrupt\u001b[0m                         Traceback (most recent call last)",
      "\u001b[0;32m/var/folders/rc/k3ngkr7s7zq91kjbhsjwv7wr0000gn/T/ipykernel_52307/821841469.py\u001b[0m in \u001b[0;36m<module>\u001b[0;34m\u001b[0m\n\u001b[0;32m----> 1\u001b[0;31m \u001b[0mfec\u001b[0m\u001b[0;34m=\u001b[0m\u001b[0mpd\u001b[0m\u001b[0;34m.\u001b[0m\u001b[0mread_csv\u001b[0m\u001b[0;34m(\u001b[0m\u001b[0;34m'https://raw.githubusercontent.com/wesm/pydata-book/3rd-edition/datasets/fec/P00000001-ALL.csv'\u001b[0m\u001b[0;34m)\u001b[0m\u001b[0;34m\u001b[0m\u001b[0;34m\u001b[0m\u001b[0m\n\u001b[0m\u001b[1;32m      2\u001b[0m \u001b[0mfec\u001b[0m\u001b[0;34m.\u001b[0m\u001b[0minfo\u001b[0m\u001b[0;34m(\u001b[0m\u001b[0;34m)\u001b[0m \u001b[0;31m#objet = 문자열\u001b[0m\u001b[0;34m\u001b[0m\u001b[0;34m\u001b[0m\u001b[0m\n\u001b[1;32m      3\u001b[0m \u001b[0;34m\u001b[0m\u001b[0m\n\u001b[1;32m      4\u001b[0m \u001b[0;31m#한 행만 보고싶을 때\u001b[0m\u001b[0;34m\u001b[0m\u001b[0;34m\u001b[0m\u001b[0m\n\u001b[1;32m      5\u001b[0m \u001b[0mfec\u001b[0m\u001b[0;34m.\u001b[0m\u001b[0miloc\u001b[0m\u001b[0;34m[\u001b[0m\u001b[0;34m[\u001b[0m\u001b[0;36m134546\u001b[0m\u001b[0;34m]\u001b[0m\u001b[0;34m]\u001b[0m\u001b[0;34m\u001b[0m\u001b[0;34m\u001b[0m\u001b[0m\n",
      "\u001b[0;32m~/opt/anaconda3/lib/python3.9/site-packages/pandas/util/_decorators.py\u001b[0m in \u001b[0;36mwrapper\u001b[0;34m(*args, **kwargs)\u001b[0m\n\u001b[1;32m    309\u001b[0m                     \u001b[0mstacklevel\u001b[0m\u001b[0;34m=\u001b[0m\u001b[0mstacklevel\u001b[0m\u001b[0;34m,\u001b[0m\u001b[0;34m\u001b[0m\u001b[0;34m\u001b[0m\u001b[0m\n\u001b[1;32m    310\u001b[0m                 )\n\u001b[0;32m--> 311\u001b[0;31m             \u001b[0;32mreturn\u001b[0m \u001b[0mfunc\u001b[0m\u001b[0;34m(\u001b[0m\u001b[0;34m*\u001b[0m\u001b[0margs\u001b[0m\u001b[0;34m,\u001b[0m \u001b[0;34m**\u001b[0m\u001b[0mkwargs\u001b[0m\u001b[0;34m)\u001b[0m\u001b[0;34m\u001b[0m\u001b[0;34m\u001b[0m\u001b[0m\n\u001b[0m\u001b[1;32m    312\u001b[0m \u001b[0;34m\u001b[0m\u001b[0m\n\u001b[1;32m    313\u001b[0m         \u001b[0;32mreturn\u001b[0m \u001b[0mwrapper\u001b[0m\u001b[0;34m\u001b[0m\u001b[0;34m\u001b[0m\u001b[0m\n",
      "\u001b[0;32m~/opt/anaconda3/lib/python3.9/site-packages/pandas/io/parsers/readers.py\u001b[0m in \u001b[0;36mread_csv\u001b[0;34m(filepath_or_buffer, sep, delimiter, header, names, index_col, usecols, squeeze, prefix, mangle_dupe_cols, dtype, engine, converters, true_values, false_values, skipinitialspace, skiprows, skipfooter, nrows, na_values, keep_default_na, na_filter, verbose, skip_blank_lines, parse_dates, infer_datetime_format, keep_date_col, date_parser, dayfirst, cache_dates, iterator, chunksize, compression, thousands, decimal, lineterminator, quotechar, quoting, doublequote, escapechar, comment, encoding, encoding_errors, dialect, error_bad_lines, warn_bad_lines, on_bad_lines, delim_whitespace, low_memory, memory_map, float_precision, storage_options)\u001b[0m\n\u001b[1;32m    584\u001b[0m     \u001b[0mkwds\u001b[0m\u001b[0;34m.\u001b[0m\u001b[0mupdate\u001b[0m\u001b[0;34m(\u001b[0m\u001b[0mkwds_defaults\u001b[0m\u001b[0;34m)\u001b[0m\u001b[0;34m\u001b[0m\u001b[0;34m\u001b[0m\u001b[0m\n\u001b[1;32m    585\u001b[0m \u001b[0;34m\u001b[0m\u001b[0m\n\u001b[0;32m--> 586\u001b[0;31m     \u001b[0;32mreturn\u001b[0m \u001b[0m_read\u001b[0m\u001b[0;34m(\u001b[0m\u001b[0mfilepath_or_buffer\u001b[0m\u001b[0;34m,\u001b[0m \u001b[0mkwds\u001b[0m\u001b[0;34m)\u001b[0m\u001b[0;34m\u001b[0m\u001b[0;34m\u001b[0m\u001b[0m\n\u001b[0m\u001b[1;32m    587\u001b[0m \u001b[0;34m\u001b[0m\u001b[0m\n\u001b[1;32m    588\u001b[0m \u001b[0;34m\u001b[0m\u001b[0m\n",
      "\u001b[0;32m~/opt/anaconda3/lib/python3.9/site-packages/pandas/io/parsers/readers.py\u001b[0m in \u001b[0;36m_read\u001b[0;34m(filepath_or_buffer, kwds)\u001b[0m\n\u001b[1;32m    480\u001b[0m \u001b[0;34m\u001b[0m\u001b[0m\n\u001b[1;32m    481\u001b[0m     \u001b[0;31m# Create the parser.\u001b[0m\u001b[0;34m\u001b[0m\u001b[0;34m\u001b[0m\u001b[0m\n\u001b[0;32m--> 482\u001b[0;31m     \u001b[0mparser\u001b[0m \u001b[0;34m=\u001b[0m \u001b[0mTextFileReader\u001b[0m\u001b[0;34m(\u001b[0m\u001b[0mfilepath_or_buffer\u001b[0m\u001b[0;34m,\u001b[0m \u001b[0;34m**\u001b[0m\u001b[0mkwds\u001b[0m\u001b[0;34m)\u001b[0m\u001b[0;34m\u001b[0m\u001b[0;34m\u001b[0m\u001b[0m\n\u001b[0m\u001b[1;32m    483\u001b[0m \u001b[0;34m\u001b[0m\u001b[0m\n\u001b[1;32m    484\u001b[0m     \u001b[0;32mif\u001b[0m \u001b[0mchunksize\u001b[0m \u001b[0;32mor\u001b[0m \u001b[0miterator\u001b[0m\u001b[0;34m:\u001b[0m\u001b[0;34m\u001b[0m\u001b[0;34m\u001b[0m\u001b[0m\n",
      "\u001b[0;32m~/opt/anaconda3/lib/python3.9/site-packages/pandas/io/parsers/readers.py\u001b[0m in \u001b[0;36m__init__\u001b[0;34m(self, f, engine, **kwds)\u001b[0m\n\u001b[1;32m    809\u001b[0m             \u001b[0mself\u001b[0m\u001b[0;34m.\u001b[0m\u001b[0moptions\u001b[0m\u001b[0;34m[\u001b[0m\u001b[0;34m\"has_index_names\"\u001b[0m\u001b[0;34m]\u001b[0m \u001b[0;34m=\u001b[0m \u001b[0mkwds\u001b[0m\u001b[0;34m[\u001b[0m\u001b[0;34m\"has_index_names\"\u001b[0m\u001b[0;34m]\u001b[0m\u001b[0;34m\u001b[0m\u001b[0;34m\u001b[0m\u001b[0m\n\u001b[1;32m    810\u001b[0m \u001b[0;34m\u001b[0m\u001b[0m\n\u001b[0;32m--> 811\u001b[0;31m         \u001b[0mself\u001b[0m\u001b[0;34m.\u001b[0m\u001b[0m_engine\u001b[0m \u001b[0;34m=\u001b[0m \u001b[0mself\u001b[0m\u001b[0;34m.\u001b[0m\u001b[0m_make_engine\u001b[0m\u001b[0;34m(\u001b[0m\u001b[0mself\u001b[0m\u001b[0;34m.\u001b[0m\u001b[0mengine\u001b[0m\u001b[0;34m)\u001b[0m\u001b[0;34m\u001b[0m\u001b[0;34m\u001b[0m\u001b[0m\n\u001b[0m\u001b[1;32m    812\u001b[0m \u001b[0;34m\u001b[0m\u001b[0m\n\u001b[1;32m    813\u001b[0m     \u001b[0;32mdef\u001b[0m \u001b[0mclose\u001b[0m\u001b[0;34m(\u001b[0m\u001b[0mself\u001b[0m\u001b[0;34m)\u001b[0m\u001b[0;34m:\u001b[0m\u001b[0;34m\u001b[0m\u001b[0;34m\u001b[0m\u001b[0m\n",
      "\u001b[0;32m~/opt/anaconda3/lib/python3.9/site-packages/pandas/io/parsers/readers.py\u001b[0m in \u001b[0;36m_make_engine\u001b[0;34m(self, engine)\u001b[0m\n\u001b[1;32m   1038\u001b[0m             )\n\u001b[1;32m   1039\u001b[0m         \u001b[0;31m# error: Too many arguments for \"ParserBase\"\u001b[0m\u001b[0;34m\u001b[0m\u001b[0;34m\u001b[0m\u001b[0m\n\u001b[0;32m-> 1040\u001b[0;31m         \u001b[0;32mreturn\u001b[0m \u001b[0mmapping\u001b[0m\u001b[0;34m[\u001b[0m\u001b[0mengine\u001b[0m\u001b[0;34m]\u001b[0m\u001b[0;34m(\u001b[0m\u001b[0mself\u001b[0m\u001b[0;34m.\u001b[0m\u001b[0mf\u001b[0m\u001b[0;34m,\u001b[0m \u001b[0;34m**\u001b[0m\u001b[0mself\u001b[0m\u001b[0;34m.\u001b[0m\u001b[0moptions\u001b[0m\u001b[0;34m)\u001b[0m  \u001b[0;31m# type: ignore[call-arg]\u001b[0m\u001b[0;34m\u001b[0m\u001b[0;34m\u001b[0m\u001b[0m\n\u001b[0m\u001b[1;32m   1041\u001b[0m \u001b[0;34m\u001b[0m\u001b[0m\n\u001b[1;32m   1042\u001b[0m     \u001b[0;32mdef\u001b[0m \u001b[0m_failover_to_python\u001b[0m\u001b[0;34m(\u001b[0m\u001b[0mself\u001b[0m\u001b[0;34m)\u001b[0m\u001b[0;34m:\u001b[0m\u001b[0;34m\u001b[0m\u001b[0;34m\u001b[0m\u001b[0m\n",
      "\u001b[0;32m~/opt/anaconda3/lib/python3.9/site-packages/pandas/io/parsers/c_parser_wrapper.py\u001b[0m in \u001b[0;36m__init__\u001b[0;34m(self, src, **kwds)\u001b[0m\n\u001b[1;32m     49\u001b[0m \u001b[0;34m\u001b[0m\u001b[0m\n\u001b[1;32m     50\u001b[0m         \u001b[0;31m# open handles\u001b[0m\u001b[0;34m\u001b[0m\u001b[0;34m\u001b[0m\u001b[0m\n\u001b[0;32m---> 51\u001b[0;31m         \u001b[0mself\u001b[0m\u001b[0;34m.\u001b[0m\u001b[0m_open_handles\u001b[0m\u001b[0;34m(\u001b[0m\u001b[0msrc\u001b[0m\u001b[0;34m,\u001b[0m \u001b[0mkwds\u001b[0m\u001b[0;34m)\u001b[0m\u001b[0;34m\u001b[0m\u001b[0;34m\u001b[0m\u001b[0m\n\u001b[0m\u001b[1;32m     52\u001b[0m         \u001b[0;32massert\u001b[0m \u001b[0mself\u001b[0m\u001b[0;34m.\u001b[0m\u001b[0mhandles\u001b[0m \u001b[0;32mis\u001b[0m \u001b[0;32mnot\u001b[0m \u001b[0;32mNone\u001b[0m\u001b[0;34m\u001b[0m\u001b[0;34m\u001b[0m\u001b[0m\n\u001b[1;32m     53\u001b[0m \u001b[0;34m\u001b[0m\u001b[0m\n",
      "\u001b[0;32m~/opt/anaconda3/lib/python3.9/site-packages/pandas/io/parsers/base_parser.py\u001b[0m in \u001b[0;36m_open_handles\u001b[0;34m(self, src, kwds)\u001b[0m\n\u001b[1;32m    220\u001b[0m         \u001b[0mLet\u001b[0m \u001b[0mthe\u001b[0m \u001b[0mreaders\u001b[0m \u001b[0mopen\u001b[0m \u001b[0mIOHandles\u001b[0m \u001b[0mafter\u001b[0m \u001b[0mthey\u001b[0m \u001b[0mare\u001b[0m \u001b[0mdone\u001b[0m \u001b[0;32mwith\u001b[0m \u001b[0mtheir\u001b[0m \u001b[0mpotential\u001b[0m \u001b[0mraises\u001b[0m\u001b[0;34m.\u001b[0m\u001b[0;34m\u001b[0m\u001b[0;34m\u001b[0m\u001b[0m\n\u001b[1;32m    221\u001b[0m         \"\"\"\n\u001b[0;32m--> 222\u001b[0;31m         self.handles = get_handle(\n\u001b[0m\u001b[1;32m    223\u001b[0m             \u001b[0msrc\u001b[0m\u001b[0;34m,\u001b[0m\u001b[0;34m\u001b[0m\u001b[0;34m\u001b[0m\u001b[0m\n\u001b[1;32m    224\u001b[0m             \u001b[0;34m\"r\"\u001b[0m\u001b[0;34m,\u001b[0m\u001b[0;34m\u001b[0m\u001b[0;34m\u001b[0m\u001b[0m\n",
      "\u001b[0;32m~/opt/anaconda3/lib/python3.9/site-packages/pandas/io/common.py\u001b[0m in \u001b[0;36mget_handle\u001b[0;34m(path_or_buf, mode, encoding, compression, memory_map, is_text, errors, storage_options)\u001b[0m\n\u001b[1;32m    607\u001b[0m \u001b[0;34m\u001b[0m\u001b[0m\n\u001b[1;32m    608\u001b[0m     \u001b[0;31m# open URLs\u001b[0m\u001b[0;34m\u001b[0m\u001b[0;34m\u001b[0m\u001b[0m\n\u001b[0;32m--> 609\u001b[0;31m     ioargs = _get_filepath_or_buffer(\n\u001b[0m\u001b[1;32m    610\u001b[0m         \u001b[0mpath_or_buf\u001b[0m\u001b[0;34m,\u001b[0m\u001b[0;34m\u001b[0m\u001b[0;34m\u001b[0m\u001b[0m\n\u001b[1;32m    611\u001b[0m         \u001b[0mencoding\u001b[0m\u001b[0;34m=\u001b[0m\u001b[0mencoding\u001b[0m\u001b[0;34m,\u001b[0m\u001b[0;34m\u001b[0m\u001b[0;34m\u001b[0m\u001b[0m\n",
      "\u001b[0;32m~/opt/anaconda3/lib/python3.9/site-packages/pandas/io/common.py\u001b[0m in \u001b[0;36m_get_filepath_or_buffer\u001b[0;34m(filepath_or_buffer, encoding, compression, mode, storage_options)\u001b[0m\n\u001b[1;32m    315\u001b[0m                 \u001b[0;31m# Override compression based on Content-Encoding header\u001b[0m\u001b[0;34m\u001b[0m\u001b[0;34m\u001b[0m\u001b[0m\n\u001b[1;32m    316\u001b[0m                 \u001b[0mcompression\u001b[0m \u001b[0;34m=\u001b[0m \u001b[0;34m{\u001b[0m\u001b[0;34m\"method\"\u001b[0m\u001b[0;34m:\u001b[0m \u001b[0;34m\"gzip\"\u001b[0m\u001b[0;34m}\u001b[0m\u001b[0;34m\u001b[0m\u001b[0;34m\u001b[0m\u001b[0m\n\u001b[0;32m--> 317\u001b[0;31m             \u001b[0mreader\u001b[0m \u001b[0;34m=\u001b[0m \u001b[0mBytesIO\u001b[0m\u001b[0;34m(\u001b[0m\u001b[0mreq\u001b[0m\u001b[0;34m.\u001b[0m\u001b[0mread\u001b[0m\u001b[0;34m(\u001b[0m\u001b[0;34m)\u001b[0m\u001b[0;34m)\u001b[0m\u001b[0;34m\u001b[0m\u001b[0;34m\u001b[0m\u001b[0m\n\u001b[0m\u001b[1;32m    318\u001b[0m         return IOArgs(\n\u001b[1;32m    319\u001b[0m             \u001b[0mfilepath_or_buffer\u001b[0m\u001b[0;34m=\u001b[0m\u001b[0mreader\u001b[0m\u001b[0;34m,\u001b[0m\u001b[0;34m\u001b[0m\u001b[0;34m\u001b[0m\u001b[0m\n",
      "\u001b[0;32m~/opt/anaconda3/lib/python3.9/http/client.py\u001b[0m in \u001b[0;36mread\u001b[0;34m(self, amt)\u001b[0m\n\u001b[1;32m    473\u001b[0m             \u001b[0;32melse\u001b[0m\u001b[0;34m:\u001b[0m\u001b[0;34m\u001b[0m\u001b[0;34m\u001b[0m\u001b[0m\n\u001b[1;32m    474\u001b[0m                 \u001b[0;32mtry\u001b[0m\u001b[0;34m:\u001b[0m\u001b[0;34m\u001b[0m\u001b[0;34m\u001b[0m\u001b[0m\n\u001b[0;32m--> 475\u001b[0;31m                     \u001b[0ms\u001b[0m \u001b[0;34m=\u001b[0m \u001b[0mself\u001b[0m\u001b[0;34m.\u001b[0m\u001b[0m_safe_read\u001b[0m\u001b[0;34m(\u001b[0m\u001b[0mself\u001b[0m\u001b[0;34m.\u001b[0m\u001b[0mlength\u001b[0m\u001b[0;34m)\u001b[0m\u001b[0;34m\u001b[0m\u001b[0;34m\u001b[0m\u001b[0m\n\u001b[0m\u001b[1;32m    476\u001b[0m                 \u001b[0;32mexcept\u001b[0m \u001b[0mIncompleteRead\u001b[0m\u001b[0;34m:\u001b[0m\u001b[0;34m\u001b[0m\u001b[0;34m\u001b[0m\u001b[0m\n\u001b[1;32m    477\u001b[0m                     \u001b[0mself\u001b[0m\u001b[0;34m.\u001b[0m\u001b[0m_close_conn\u001b[0m\u001b[0;34m(\u001b[0m\u001b[0;34m)\u001b[0m\u001b[0;34m\u001b[0m\u001b[0;34m\u001b[0m\u001b[0m\n",
      "\u001b[0;32m~/opt/anaconda3/lib/python3.9/http/client.py\u001b[0m in \u001b[0;36m_safe_read\u001b[0;34m(self, amt)\u001b[0m\n\u001b[1;32m    623\u001b[0m         \u001b[0ms\u001b[0m \u001b[0;34m=\u001b[0m \u001b[0;34m[\u001b[0m\u001b[0;34m]\u001b[0m\u001b[0;34m\u001b[0m\u001b[0;34m\u001b[0m\u001b[0m\n\u001b[1;32m    624\u001b[0m         \u001b[0;32mwhile\u001b[0m \u001b[0mamt\u001b[0m \u001b[0;34m>\u001b[0m \u001b[0;36m0\u001b[0m\u001b[0;34m:\u001b[0m\u001b[0;34m\u001b[0m\u001b[0;34m\u001b[0m\u001b[0m\n\u001b[0;32m--> 625\u001b[0;31m             \u001b[0mchunk\u001b[0m \u001b[0;34m=\u001b[0m \u001b[0mself\u001b[0m\u001b[0;34m.\u001b[0m\u001b[0mfp\u001b[0m\u001b[0;34m.\u001b[0m\u001b[0mread\u001b[0m\u001b[0;34m(\u001b[0m\u001b[0mmin\u001b[0m\u001b[0;34m(\u001b[0m\u001b[0mamt\u001b[0m\u001b[0;34m,\u001b[0m \u001b[0mMAXAMOUNT\u001b[0m\u001b[0;34m)\u001b[0m\u001b[0;34m)\u001b[0m\u001b[0;34m\u001b[0m\u001b[0;34m\u001b[0m\u001b[0m\n\u001b[0m\u001b[1;32m    626\u001b[0m             \u001b[0;32mif\u001b[0m \u001b[0;32mnot\u001b[0m \u001b[0mchunk\u001b[0m\u001b[0;34m:\u001b[0m\u001b[0;34m\u001b[0m\u001b[0;34m\u001b[0m\u001b[0m\n\u001b[1;32m    627\u001b[0m                 \u001b[0;32mraise\u001b[0m \u001b[0mIncompleteRead\u001b[0m\u001b[0;34m(\u001b[0m\u001b[0;34mb''\u001b[0m\u001b[0;34m.\u001b[0m\u001b[0mjoin\u001b[0m\u001b[0;34m(\u001b[0m\u001b[0ms\u001b[0m\u001b[0;34m)\u001b[0m\u001b[0;34m,\u001b[0m \u001b[0mamt\u001b[0m\u001b[0;34m)\u001b[0m\u001b[0;34m\u001b[0m\u001b[0;34m\u001b[0m\u001b[0m\n",
      "\u001b[0;32m~/opt/anaconda3/lib/python3.9/socket.py\u001b[0m in \u001b[0;36mreadinto\u001b[0;34m(self, b)\u001b[0m\n\u001b[1;32m    702\u001b[0m         \u001b[0;32mwhile\u001b[0m \u001b[0;32mTrue\u001b[0m\u001b[0;34m:\u001b[0m\u001b[0;34m\u001b[0m\u001b[0;34m\u001b[0m\u001b[0m\n\u001b[1;32m    703\u001b[0m             \u001b[0;32mtry\u001b[0m\u001b[0;34m:\u001b[0m\u001b[0;34m\u001b[0m\u001b[0;34m\u001b[0m\u001b[0m\n\u001b[0;32m--> 704\u001b[0;31m                 \u001b[0;32mreturn\u001b[0m \u001b[0mself\u001b[0m\u001b[0;34m.\u001b[0m\u001b[0m_sock\u001b[0m\u001b[0;34m.\u001b[0m\u001b[0mrecv_into\u001b[0m\u001b[0;34m(\u001b[0m\u001b[0mb\u001b[0m\u001b[0;34m)\u001b[0m\u001b[0;34m\u001b[0m\u001b[0;34m\u001b[0m\u001b[0m\n\u001b[0m\u001b[1;32m    705\u001b[0m             \u001b[0;32mexcept\u001b[0m \u001b[0mtimeout\u001b[0m\u001b[0;34m:\u001b[0m\u001b[0;34m\u001b[0m\u001b[0;34m\u001b[0m\u001b[0m\n\u001b[1;32m    706\u001b[0m                 \u001b[0mself\u001b[0m\u001b[0;34m.\u001b[0m\u001b[0m_timeout_occurred\u001b[0m \u001b[0;34m=\u001b[0m \u001b[0;32mTrue\u001b[0m\u001b[0;34m\u001b[0m\u001b[0;34m\u001b[0m\u001b[0m\n",
      "\u001b[0;32m~/opt/anaconda3/lib/python3.9/ssl.py\u001b[0m in \u001b[0;36mrecv_into\u001b[0;34m(self, buffer, nbytes, flags)\u001b[0m\n\u001b[1;32m   1239\u001b[0m                   \u001b[0;34m\"non-zero flags not allowed in calls to recv_into() on %s\"\u001b[0m \u001b[0;34m%\u001b[0m\u001b[0;34m\u001b[0m\u001b[0;34m\u001b[0m\u001b[0m\n\u001b[1;32m   1240\u001b[0m                   self.__class__)\n\u001b[0;32m-> 1241\u001b[0;31m             \u001b[0;32mreturn\u001b[0m \u001b[0mself\u001b[0m\u001b[0;34m.\u001b[0m\u001b[0mread\u001b[0m\u001b[0;34m(\u001b[0m\u001b[0mnbytes\u001b[0m\u001b[0;34m,\u001b[0m \u001b[0mbuffer\u001b[0m\u001b[0;34m)\u001b[0m\u001b[0;34m\u001b[0m\u001b[0;34m\u001b[0m\u001b[0m\n\u001b[0m\u001b[1;32m   1242\u001b[0m         \u001b[0;32melse\u001b[0m\u001b[0;34m:\u001b[0m\u001b[0;34m\u001b[0m\u001b[0;34m\u001b[0m\u001b[0m\n\u001b[1;32m   1243\u001b[0m             \u001b[0;32mreturn\u001b[0m \u001b[0msuper\u001b[0m\u001b[0;34m(\u001b[0m\u001b[0;34m)\u001b[0m\u001b[0;34m.\u001b[0m\u001b[0mrecv_into\u001b[0m\u001b[0;34m(\u001b[0m\u001b[0mbuffer\u001b[0m\u001b[0;34m,\u001b[0m \u001b[0mnbytes\u001b[0m\u001b[0;34m,\u001b[0m \u001b[0mflags\u001b[0m\u001b[0;34m)\u001b[0m\u001b[0;34m\u001b[0m\u001b[0;34m\u001b[0m\u001b[0m\n",
      "\u001b[0;32m~/opt/anaconda3/lib/python3.9/ssl.py\u001b[0m in \u001b[0;36mread\u001b[0;34m(self, len, buffer)\u001b[0m\n\u001b[1;32m   1097\u001b[0m         \u001b[0;32mtry\u001b[0m\u001b[0;34m:\u001b[0m\u001b[0;34m\u001b[0m\u001b[0;34m\u001b[0m\u001b[0m\n\u001b[1;32m   1098\u001b[0m             \u001b[0;32mif\u001b[0m \u001b[0mbuffer\u001b[0m \u001b[0;32mis\u001b[0m \u001b[0;32mnot\u001b[0m \u001b[0;32mNone\u001b[0m\u001b[0;34m:\u001b[0m\u001b[0;34m\u001b[0m\u001b[0;34m\u001b[0m\u001b[0m\n\u001b[0;32m-> 1099\u001b[0;31m                 \u001b[0;32mreturn\u001b[0m \u001b[0mself\u001b[0m\u001b[0;34m.\u001b[0m\u001b[0m_sslobj\u001b[0m\u001b[0;34m.\u001b[0m\u001b[0mread\u001b[0m\u001b[0;34m(\u001b[0m\u001b[0mlen\u001b[0m\u001b[0;34m,\u001b[0m \u001b[0mbuffer\u001b[0m\u001b[0;34m)\u001b[0m\u001b[0;34m\u001b[0m\u001b[0;34m\u001b[0m\u001b[0m\n\u001b[0m\u001b[1;32m   1100\u001b[0m             \u001b[0;32melse\u001b[0m\u001b[0;34m:\u001b[0m\u001b[0;34m\u001b[0m\u001b[0;34m\u001b[0m\u001b[0m\n\u001b[1;32m   1101\u001b[0m                 \u001b[0;32mreturn\u001b[0m \u001b[0mself\u001b[0m\u001b[0;34m.\u001b[0m\u001b[0m_sslobj\u001b[0m\u001b[0;34m.\u001b[0m\u001b[0mread\u001b[0m\u001b[0;34m(\u001b[0m\u001b[0mlen\u001b[0m\u001b[0;34m)\u001b[0m\u001b[0;34m\u001b[0m\u001b[0;34m\u001b[0m\u001b[0m\n",
      "\u001b[0;31mKeyboardInterrupt\u001b[0m: "
     ]
    }
   ],
   "source": [
    "fec=pd.read_csv('https://raw.githubusercontent.com/wesm/pydata-book/3rd-edition/datasets/fec/P00000001-ALL.csv')\n",
    "fec.info() #objet = 문자열\n",
    "\n",
    "#한 행만 보고싶을 때 \n",
    "fec.iloc[[134546]]\n",
    "fec[123456:123457]"
   ]
  },
  {
   "cell_type": "code",
   "execution_count": null,
   "id": "c1ebc58d-443a-4363-b826-01f47ea2afe0",
   "metadata": {
    "tags": []
   },
   "outputs": [],
   "source": [
    "fec[:3]\n",
    "#fec.iloc[:,[2,5,7,8,9]][:3]\n",
    "#fec.cand_nm.unique()"
   ]
  },
  {
   "cell_type": "code",
   "execution_count": null,
   "id": "41945620-727c-40ec-8d1a-c8e3e8a0975f",
   "metadata": {
    "tags": []
   },
   "outputs": [],
   "source": [
    "#필요한 칼럼만 뽑기 , 위에 info의 칼럼 숫자 보고 \n",
    "fec.iloc[:,[2,5,7,8,9]][:3]\n",
    "fec.cand_nm.unique()\n",
    "#소속 정당넣기\n",
    "#데이터\n",
    "parties = {'Bachmann, Michelle': 'Republican',\n",
    " 'Cain, Herman': 'Republican',\n",
    " 'Gingrich, Newt': 'Republican',\n",
    " 'Huntsman, Jon': 'Republican',\n",
    " 'Johnson, Gary Earl': 'Republican',\n",
    " 'McCotter, Thaddeus G': 'Republican',\n",
    " 'Obama, Barack': 'Democrat',\n",
    " 'Paul, Ron': 'Republican',\n",
    " 'Pawlenty, Timothy': 'Republican',\n",
    " 'Perry, Rick': 'Republican',\n",
    " \"Roemer, Charles E. 'Buddy' III\": 'Republican',\n",
    " 'Romney, Mitt': 'Republican',\n",
    " 'Santorum, Rick': 'Republican'} \n",
    "#매핑으로 칼럼추가 그냥넣으면 NaN 값 \n",
    "fec['party']=fec['cand_nm'].map(parties)\n",
    "#열 순서 바꾸기 데프 \n",
    "fec\n"
   ]
  },
  {
   "cell_type": "code",
   "execution_count": null,
   "id": "2b48e83c-4699-49d6-be33-4d895d524305",
   "metadata": {},
   "outputs": [],
   "source": [
    "# 기부금 (contb_recipt_amt) RANGE MIN, MAX 범위 보기 가능\n",
    "fec.contb_receipt_amt.describe()"
   ]
  },
  {
   "cell_type": "markdown",
   "id": "1d443d67-d30a-4b77-bbcf-a12d7d9737d7",
   "metadata": {},
   "source": [
    "### 헷갈림 주의"
   ]
  },
  {
   "cell_type": "code",
   "execution_count": null,
   "id": "23f5495d-468b-4a6e-bbf6-da4b881e6d9a",
   "metadata": {
    "tags": []
   },
   "outputs": [],
   "source": [
    "#위아래 둘이 뭐가 다른지 T,F 나올때 True 만 셀려면 .sum() , count()하면 T,F 다 나옴 그러므로 \n",
    "#이미 데이터 프레임으로 뽑힌 (fec[])로 한번 더 묶은 것들만 .count() \n",
    "fec[fec.contb_receipt_amt<0].count()\n",
    "(fec.contb_receipt_amt<0).sum()\n",
    "\n",
    "fec.query('contb_receipt_amt < 0 ')['contb_receipt_amt'].count() \n",
    "fec[fec['contb_receipt_amt'] < 0].count() "
   ]
  },
  {
   "cell_type": "code",
   "execution_count": null,
   "id": "87f91409-a0fe-4c83-bb6e-5641f53546c2",
   "metadata": {
    "tags": []
   },
   "outputs": [],
   "source": [
    "#기부금액이 양수인 로우만 뽑기 \n",
    "fec= fec[fec['contb_receipt_amt'] >= 0]\n",
    "fec.head()"
   ]
  },
  {
   "cell_type": "code",
   "execution_count": null,
   "id": "837fb468-5730-49b1-b3da-be34d5d8f92e",
   "metadata": {
    "tags": []
   },
   "outputs": [],
   "source": [
    "fec['cand_nm'].unique()\n"
   ]
  },
  {
   "cell_type": "code",
   "execution_count": null,
   "id": "e217aed6-ec04-4042-9667-179001457940",
   "metadata": {
    "tags": []
   },
   "outputs": [],
   "source": [
    "#Obama, Romney 만 뽑기 query에선 따옴표 주의 밖에 안의 따옴표 따로 구별해야돼.\n",
    "#mrbo = mitt Romney, barack obama\n",
    "fec_mrbo = fec[(fec['cand_nm'] == 'Obama, Barack') | (fec['cand_nm'] == 'Romney, Mitt')] \n",
    "fec_mrbo= fec.query('cand_nm== \"Obama, Barack\" |cand_nm==\"Romney, Mitt\"')\n",
    "fec_mrbo = fec[fec.cand_nm.isin([\"Obama, Barack\", \"Romney, Mitt\"])] \n",
    "fec_mrbo.head()"
   ]
  },
  {
   "cell_type": "code",
   "execution_count": null,
   "id": "2fd8be93-db7a-43ef-bd95-3c62679d756c",
   "metadata": {
    "tags": []
   },
   "outputs": [],
   "source": [
    "#중요 !! #같은 내용 다른 코드 ->하나의 결과로 매핑 , C.E.O 나눠진것은 CEO로 ! \n",
    "fec.contbr_occupation.value_counts()\n",
    "occ_mapping = {\n",
    " 'INFORMATION REQUESTED PER BEST EFFORTS' : 'NOT PROVIDED',\n",
    " 'INFORMATION REQUESTED' : 'NOT PROVIDED',\n",
    " 'INFORMATION REQUESTED (BEST EFFORTS)' : 'NOT PROVIDED',\n",
    " 'C.E.O.': 'CEO'}\n",
    "emp_mapping = {\n",
    " 'INFORMATION REQUESTED PER BEST EFFORTS' : 'NOT PROVIDED',\n",
    " 'INFORMATION REQUESTED' : 'NOT PROVIDED',\n",
    " 'SELF' : 'SELF-EMPLOYED',\n",
    " 'SELF EMPLOYED' : 'SELF-EMPLOYED',\n",
    "} \n",
    "\n",
    "#기존 매핑법 : 싸그리 바꿔버려서 안겹치면 NaN 처리 해버림 . 그래서 절대 사용 X \n",
    "fec['contbr_occupation'].map(occ_mapping)\n",
    "#해결: occ_mapping 딕셔너리 활용 d.get() -> 위에매핑값과 매칭이 안되면  NaN 이 아닌 원래값 \n",
    "fec['contbr_occupation']=fec['contbr_occupation'].map(lambda x: occ_mapping.get(x,x))\n",
    "fec['contbr_employer']=fec['contbr_employer'].map(lambda x: emp_mapping.get(x,x))"
   ]
  },
  {
   "cell_type": "code",
   "execution_count": null,
   "id": "47fce28e-bcc9-4728-8f35-f3baec9e98d1",
   "metadata": {
    "tags": []
   },
   "outputs": [],
   "source": [
    "#직업별로 (그룹느낌) 기부금액들의 합 -> pivot\n",
    "#Republican: NaN -> 특정 party에 기부한 republican이 없을 경우 \n",
    "by_occupation=fec.pivot_table(values='contb_receipt_amt',\n",
    "                              index='contbr_occupation',columns='party',\n",
    "                              aggfunc=sum)\n",
    "by_occupation\n",
    "#democrat + republican >200000\n",
    "over2mm= by_occupation[by_occupation.sum(axis=1)>200000]\n",
    "over2mm\n",
    "#민주당 상위 1 0위 #df로 만들려면 데모를 안에 넣어야함  , 수평막대그래프 = barh \n",
    "a=over2mm.sort_values('Democrat',ascending=False)[:10]\n",
    "a.plot(kind='barh')\n"
   ]
  },
  {
   "cell_type": "code",
   "execution_count": null,
   "id": "3fde01aa-bd7e-40a8-9849-436eeb0bbe69",
   "metadata": {
    "tags": []
   },
   "outputs": [],
   "source": [
    "#오바마 롬니 후보별로 가장  많은 금액을 기부한 직군 \n",
    "#nlargest?  n=7 상위 7개 n=5 기본값 \n",
    "def get_top_amounts(group, key, n=5):\n",
    "    totals=group.groupby(key)['contb_receipt_amt'].sum()\n",
    "    return totals.nlargest(n)\n",
    "grouped=fec_mrbo.groupby('cand_nm')\n",
    "grouped.apply(get_top_amounts, 'contbr_occupation', n=7)\n",
    "grouped.apply(get_top_amounts, 'contbr_employer', n=7)"
   ]
  },
  {
   "cell_type": "code",
   "execution_count": null,
   "id": "990f24cd-ffd3-4a8a-92dc-f57e94afc17f",
   "metadata": {
    "tags": []
   },
   "outputs": [],
   "source": [
    "#기부금액 규모에 따른 히스토그램 , 오버마, 롬니 \n",
    "#'contb_receipt_amt: 음수는 위에서 버림 이미 그래서 다 양수 \n",
    "\n",
    "bins=([0,1,10,100,1000,10000,100000,1000000,10000000])\n",
    "labels=pd.cut(fec_mrbo.contb_receipt_amt,bins)\n",
    "grouped=fec_mrbo.groupby(['cand_nm',labels])\n",
    "df=grouped.size().unstack(0)\n",
    "df.plot(kind='barh')\n",
    "df\n",
    "df.sum(axis=1)"
   ]
  },
  {
   "cell_type": "code",
   "execution_count": null,
   "id": "33e1cce8-dd0f-4d12-b5d2-aae9819f16d4",
   "metadata": {
    "tags": []
   },
   "outputs": [],
   "source": [
    "#후보자별 전체 기부금액 대비 비율 =#df/df.sum()\n",
    "a = df.div(df.sum(axis=0),axis=1)*100\n",
    "a\n",
    "#행별로의 기부금액 비율,가로 합 =1 \n",
    "#가로 합 \n",
    "df.sum(axis=1)\n",
    "#axis=0 , obama, Romney 비율 \n",
    "ratio=df.div(df.sum(axis=1),axis=0) \n",
    "#그래프\n",
    "ratio.plot(kind='barh')"
   ]
  },
  {
   "cell_type": "markdown",
   "id": "dff0de91-9b40-4b57-b1e6-04947650d943",
   "metadata": {},
   "source": [
    "# 신생아 이름"
   ]
  },
  {
   "cell_type": "code",
   "execution_count": 40,
   "id": "5b734268-7357-4ec4-85ef-000d1cdf524d",
   "metadata": {
    "tags": []
   },
   "outputs": [
    {
     "name": "stdout",
     "output_type": "stream",
     "text": [
      "Requirement already satisfied: python-docx in /Users/chloe/opt/anaconda3/lib/python3.9/site-packages (0.8.11)\n",
      "Requirement already satisfied: lxml>=2.3.2 in /Users/chloe/opt/anaconda3/lib/python3.9/site-packages (from python-docx) (4.6.3)\n"
     ]
    },
    {
     "data": {
      "text/plain": [
       "<docx.document.Document at 0x7f7923736240>"
      ]
     },
     "execution_count": 40,
     "metadata": {},
     "output_type": "execute_result"
    }
   ],
   "source": [
    "#압축푸는 앱 : 반디집\n",
    "#window !type 역슬래시 \\ 주의 , 쉼표로 구분되어있으니 df객체로 편하게  pd.read_csv\n",
    "!pip install python-docx\n",
    "from docx import Document\n",
    "\n",
    "\n",
    "# 문단 정렬\n",
    "from docx.enum.text import WD_ALIGN_PARAGRAPH\n",
    "\n",
    "# 문자 스타일 변경\n",
    "from docx.enum.style import WD_STYLE_TYPE\n",
    "names1880= Document(r'/Users/chloe/Desktop/python/data/babynames/yob1880.docx')\n",
    "\n",
    "names1880"
   ]
  },
  {
   "cell_type": "code",
   "execution_count": 31,
   "id": "d2f2743a-b052-4097-a62d-8199a6eb915f",
   "metadata": {
    "tags": []
   },
   "outputs": [
    {
     "data": {
      "text/plain": [
       "gender\n",
       "\u0001                                                                                                                      \u0003\n",
       "\u0001\u0019                                                                                                                     0\n",
       "\u0003                                                                                                                      0\n",
       "\u0004\u0001\u0019\\n                                                                                                                  0\n",
       "\u0007W 1\u0012q                                                                                                                 0\n",
       "                                                                         ...                                            \n",
       "ϟ&Xȩ+(\"כ\u001b[\"1\u0012q                                                                                                         0\n",
       "Ԑ\u0018\bu\u0005MQ=&HǮ+\b\n",
       "{\u001325d4\u00014v]Ac                                                                                            0\n",
       "ԑ!\u0019\n",
       " u\u0005m\u000e\\\u001482\"c\u0001\" sܯÒL\n",
       "\u0019                                                                                               0\n",
       "ԑA\u0019\u000e@u\u0005\u0001TcX#\u00032\u0014                                                                                                        0\n",
       "ש||                           e_o2пοN*=iIe'G:=|m}|\u001389\u0006\u001f\u0006\u0002\u001fn\u0007AW\u000fr[\u000fWkږ|lߜnߝc?-/ik\u001fsEӷ<+~V˦ۦ\n",
       "/V7}y׿\u0018*/(kǦ\u001fgiG...\n",
       "Name: births, Length: 95, dtype: object"
      ]
     },
     "execution_count": 31,
     "metadata": {},
     "output_type": "execute_result"
    }
   ],
   "source": [
    "#!type babynames\\yob1880.txt\n",
    "names1880=pd.read_csv('./data/babynames/yob1880.docx', names=['names','gender','births'], encoding_errors='ignore')\n",
    "names1880\n",
    "#header=None 첫행부터 데이터 , 칼럼이름이 없다. \n",
    "#성별별 출생수를 모두 합한 값 \n",
    "names1880.groupby('gender')['births'].sum()"
   ]
  },
  {
   "cell_type": "code",
   "execution_count": null,
   "id": "ee3a7277-77e6-4ff4-be0a-bc1309e8b560",
   "metadata": {
    "tags": []
   },
   "outputs": [],
   "source": [
    "#중요 \n",
    "#자료가 연도별 파일로 나눠져있으니 df 하나로 모은 다음 year 추가 \n",
    "#1. concat : df 객체 합쳐준다.\n",
    "#2. read_csv로 읽어온 원래 로우 순서는 몰라도 되니 ignore_index=True \n",
    "방법 1\n",
    "years=range(1880,2011)\n",
    "\n",
    "pieces=[]\n",
    "columns=['name','gender','births']\n",
    "\n",
    "for year in years:\n",
    "    path= 'babynames/yob%d.txt' %year\n",
    "    frame=pd.read_csv(path, names=columns)\n",
    "    frame['year']=year\n",
    "    pieces.append(frame)\n",
    "    \n",
    "names=pd.concat(pieces,ignore_index=True)\n",
    "names\n",
    "\n",
    "방법 2\n",
    "df = pd.DataFrame()\n",
    "years = range(1880, 2011)\n",
    "columns = ['name', 'gender', 'births']\n",
    "for year in years:\n",
    "    path = f'babynames/yob{year}.txt'\n",
    "    frame = pd.read_csv(path, names = columns)\n",
    "    \n",
    "    frame['year'] = year\n",
    "    df = pd.concat([df,frame])\n",
    "df "
   ]
  },
  {
   "cell_type": "code",
   "execution_count": null,
   "id": "e006e4c5-db06-4bde-985b-ae53582b65f1",
   "metadata": {
    "tags": []
   },
   "outputs": [],
   "source": [
    "#연도나 성별에 따른 데이터 수집 \n",
    "total_births=names.pivot_table('births',index='year',columns='gender',aggfunc=sum)\n",
    "total_births.plot(title='Total births by gender and year')"
   ]
  },
  {
   "cell_type": "code",
   "execution_count": null,
   "id": "4130ed4d-8b77-4147-a435-4ee51fc23a67",
   "metadata": {
    "tags": []
   },
   "outputs": [],
   "source": [
    "#각 이름이 성별별 출생수에서 차지하는 비율, 특정이름 /여자전체비율 \n",
    "#proportion 비율 \n",
    "def add_prop(g):\n",
    "    g['prop']=g['births']/g['births'].sum()\n",
    "    return g\n",
    "names=names.groupby(['year','gender']).apply(add_prop)\n",
    "#gender 별 sum 이 다름 \n",
    "names\n",
    "\n",
    "\n",
    "#새너티 테스트 : 그룹 간련 연산에서 모든 그룹의 prop컬럼의 합이 1인지 확인\n",
    "names.groupby(['year','gender']).prop.sum()"
   ]
  },
  {
   "cell_type": "code",
   "execution_count": 449,
   "id": "1c1b28b5-792d-47d0-a3d4-5fd34c0bc9a9",
   "metadata": {
    "tags": []
   },
   "outputs": [
    {
     "data": {
      "text/html": [
       "<div>\n",
       "<style scoped>\n",
       "    .dataframe tbody tr th:only-of-type {\n",
       "        vertical-align: middle;\n",
       "    }\n",
       "\n",
       "    .dataframe tbody tr th {\n",
       "        vertical-align: top;\n",
       "    }\n",
       "\n",
       "    .dataframe thead th {\n",
       "        text-align: right;\n",
       "    }\n",
       "</style>\n",
       "<table border=\"1\" class=\"dataframe\">\n",
       "  <thead>\n",
       "    <tr style=\"text-align: right;\">\n",
       "      <th></th>\n",
       "      <th>name</th>\n",
       "      <th>gender</th>\n",
       "      <th>births</th>\n",
       "      <th>year</th>\n",
       "      <th>prop</th>\n",
       "    </tr>\n",
       "  </thead>\n",
       "  <tbody>\n",
       "    <tr>\n",
       "      <th>0</th>\n",
       "      <td>Mary</td>\n",
       "      <td>F</td>\n",
       "      <td>7065</td>\n",
       "      <td>1880</td>\n",
       "      <td>0.077643</td>\n",
       "    </tr>\n",
       "    <tr>\n",
       "      <th>1</th>\n",
       "      <td>Anna</td>\n",
       "      <td>F</td>\n",
       "      <td>2604</td>\n",
       "      <td>1880</td>\n",
       "      <td>0.028618</td>\n",
       "    </tr>\n",
       "    <tr>\n",
       "      <th>2</th>\n",
       "      <td>Emma</td>\n",
       "      <td>F</td>\n",
       "      <td>2003</td>\n",
       "      <td>1880</td>\n",
       "      <td>0.022013</td>\n",
       "    </tr>\n",
       "    <tr>\n",
       "      <th>3</th>\n",
       "      <td>Elizabeth</td>\n",
       "      <td>F</td>\n",
       "      <td>1939</td>\n",
       "      <td>1880</td>\n",
       "      <td>0.021309</td>\n",
       "    </tr>\n",
       "    <tr>\n",
       "      <th>4</th>\n",
       "      <td>Minnie</td>\n",
       "      <td>F</td>\n",
       "      <td>1746</td>\n",
       "      <td>1880</td>\n",
       "      <td>0.019188</td>\n",
       "    </tr>\n",
       "    <tr>\n",
       "      <th>...</th>\n",
       "      <td>...</td>\n",
       "      <td>...</td>\n",
       "      <td>...</td>\n",
       "      <td>...</td>\n",
       "      <td>...</td>\n",
       "    </tr>\n",
       "    <tr>\n",
       "      <th>26195</th>\n",
       "      <td>Hayden</td>\n",
       "      <td>M</td>\n",
       "      <td>4151</td>\n",
       "      <td>2010</td>\n",
       "      <td>0.002187</td>\n",
       "    </tr>\n",
       "    <tr>\n",
       "      <th>26196</th>\n",
       "      <td>Bryan</td>\n",
       "      <td>M</td>\n",
       "      <td>3914</td>\n",
       "      <td>2010</td>\n",
       "      <td>0.002062</td>\n",
       "    </tr>\n",
       "    <tr>\n",
       "      <th>26197</th>\n",
       "      <td>Max</td>\n",
       "      <td>M</td>\n",
       "      <td>3819</td>\n",
       "      <td>2010</td>\n",
       "      <td>0.002012</td>\n",
       "    </tr>\n",
       "    <tr>\n",
       "      <th>26198</th>\n",
       "      <td>Jaxon</td>\n",
       "      <td>M</td>\n",
       "      <td>3802</td>\n",
       "      <td>2010</td>\n",
       "      <td>0.002003</td>\n",
       "    </tr>\n",
       "    <tr>\n",
       "      <th>26199</th>\n",
       "      <td>Brian</td>\n",
       "      <td>M</td>\n",
       "      <td>3744</td>\n",
       "      <td>2010</td>\n",
       "      <td>0.001972</td>\n",
       "    </tr>\n",
       "  </tbody>\n",
       "</table>\n",
       "<p>26200 rows × 5 columns</p>\n",
       "</div>"
      ],
      "text/plain": [
       "            name gender  births  year      prop\n",
       "0           Mary      F    7065  1880  0.077643\n",
       "1           Anna      F    2604  1880  0.028618\n",
       "2           Emma      F    2003  1880  0.022013\n",
       "3      Elizabeth      F    1939  1880  0.021309\n",
       "4         Minnie      F    1746  1880  0.019188\n",
       "...          ...    ...     ...   ...       ...\n",
       "26195     Hayden      M    4151  2010  0.002187\n",
       "26196      Bryan      M    3914  2010  0.002062\n",
       "26197        Max      M    3819  2010  0.002012\n",
       "26198      Jaxon      M    3802  2010  0.002003\n",
       "26199      Brian      M    3744  2010  0.001972\n",
       "\n",
       "[26200 rows x 5 columns]"
      ]
     },
     "execution_count": 449,
     "metadata": {},
     "output_type": "execute_result"
    }
   ],
   "source": [
    "#연도별/ 성별별 선호하는 이름 100개  \n",
    "def get_top100(g):\n",
    "    return g.sort_values(by='births', ascending =False)[:100]\n",
    "grouped=names.groupby(['year','gender'])\n",
    "top100=grouped.apply(get_top100)\n",
    "#그룹 색인 필요없어서 삭제 \n",
    "top100.reset_index(inplace=True, drop=True)\n",
    "top100\n",
    "#reset_index (drop=True), 인덱스 열을 보통의 자료열로 올리는 것이 아니라 그냥 버리게 된다."
   ]
  },
  {
   "cell_type": "markdown",
   "id": "cf592196-50df-4e64-a7ff-ca39b9310463",
   "metadata": {},
   "source": [
    "#방법2"
   ]
  },
  {
   "cell_type": "code",
   "execution_count": 451,
   "id": "5f27cdd0-edb2-43a5-916e-5c75867cc27a",
   "metadata": {
    "tags": []
   },
   "outputs": [
    {
     "data": {
      "text/html": [
       "<div>\n",
       "<style scoped>\n",
       "    .dataframe tbody tr th:only-of-type {\n",
       "        vertical-align: middle;\n",
       "    }\n",
       "\n",
       "    .dataframe tbody tr th {\n",
       "        vertical-align: top;\n",
       "    }\n",
       "\n",
       "    .dataframe thead th {\n",
       "        text-align: right;\n",
       "    }\n",
       "</style>\n",
       "<table border=\"1\" class=\"dataframe\">\n",
       "  <thead>\n",
       "    <tr style=\"text-align: right;\">\n",
       "      <th></th>\n",
       "      <th>name</th>\n",
       "      <th>gender</th>\n",
       "      <th>births</th>\n",
       "      <th>year</th>\n",
       "      <th>prop</th>\n",
       "    </tr>\n",
       "  </thead>\n",
       "  <tbody>\n",
       "    <tr>\n",
       "      <th>0</th>\n",
       "      <td>Mary</td>\n",
       "      <td>F</td>\n",
       "      <td>7065</td>\n",
       "      <td>1880</td>\n",
       "      <td>0.077643</td>\n",
       "    </tr>\n",
       "    <tr>\n",
       "      <th>1</th>\n",
       "      <td>Anna</td>\n",
       "      <td>F</td>\n",
       "      <td>2604</td>\n",
       "      <td>1880</td>\n",
       "      <td>0.028618</td>\n",
       "    </tr>\n",
       "    <tr>\n",
       "      <th>2</th>\n",
       "      <td>Emma</td>\n",
       "      <td>F</td>\n",
       "      <td>2003</td>\n",
       "      <td>1880</td>\n",
       "      <td>0.022013</td>\n",
       "    </tr>\n",
       "    <tr>\n",
       "      <th>3</th>\n",
       "      <td>Elizabeth</td>\n",
       "      <td>F</td>\n",
       "      <td>1939</td>\n",
       "      <td>1880</td>\n",
       "      <td>0.021309</td>\n",
       "    </tr>\n",
       "    <tr>\n",
       "      <th>4</th>\n",
       "      <td>Minnie</td>\n",
       "      <td>F</td>\n",
       "      <td>1746</td>\n",
       "      <td>1880</td>\n",
       "      <td>0.019188</td>\n",
       "    </tr>\n",
       "    <tr>\n",
       "      <th>...</th>\n",
       "      <td>...</td>\n",
       "      <td>...</td>\n",
       "      <td>...</td>\n",
       "      <td>...</td>\n",
       "      <td>...</td>\n",
       "    </tr>\n",
       "    <tr>\n",
       "      <th>26195</th>\n",
       "      <td>Hayden</td>\n",
       "      <td>M</td>\n",
       "      <td>4151</td>\n",
       "      <td>2010</td>\n",
       "      <td>0.002187</td>\n",
       "    </tr>\n",
       "    <tr>\n",
       "      <th>26196</th>\n",
       "      <td>Bryan</td>\n",
       "      <td>M</td>\n",
       "      <td>3914</td>\n",
       "      <td>2010</td>\n",
       "      <td>0.002062</td>\n",
       "    </tr>\n",
       "    <tr>\n",
       "      <th>26197</th>\n",
       "      <td>Max</td>\n",
       "      <td>M</td>\n",
       "      <td>3819</td>\n",
       "      <td>2010</td>\n",
       "      <td>0.002012</td>\n",
       "    </tr>\n",
       "    <tr>\n",
       "      <th>26198</th>\n",
       "      <td>Jaxon</td>\n",
       "      <td>M</td>\n",
       "      <td>3802</td>\n",
       "      <td>2010</td>\n",
       "      <td>0.002003</td>\n",
       "    </tr>\n",
       "    <tr>\n",
       "      <th>26199</th>\n",
       "      <td>Brian</td>\n",
       "      <td>M</td>\n",
       "      <td>3744</td>\n",
       "      <td>2010</td>\n",
       "      <td>0.001972</td>\n",
       "    </tr>\n",
       "  </tbody>\n",
       "</table>\n",
       "<p>26200 rows × 5 columns</p>\n",
       "</div>"
      ],
      "text/plain": [
       "            name gender  births  year      prop\n",
       "0           Mary      F    7065  1880  0.077643\n",
       "1           Anna      F    2604  1880  0.028618\n",
       "2           Emma      F    2003  1880  0.022013\n",
       "3      Elizabeth      F    1939  1880  0.021309\n",
       "4         Minnie      F    1746  1880  0.019188\n",
       "...          ...    ...     ...   ...       ...\n",
       "26195     Hayden      M    4151  2010  0.002187\n",
       "26196      Bryan      M    3914  2010  0.002062\n",
       "26197        Max      M    3819  2010  0.002012\n",
       "26198      Jaxon      M    3802  2010  0.002003\n",
       "26199      Brian      M    3744  2010  0.001972\n",
       "\n",
       "[26200 rows x 5 columns]"
      ]
     },
     "execution_count": 451,
     "metadata": {},
     "output_type": "execute_result"
    }
   ],
   "source": [
    "pieces=[]\n",
    "for year,g in names.groupby(['year','gender']):\n",
    "    pieces.append(g.sort_values(by='births',ascending=False)[:100])\n",
    "top100=pd.concat(pieces, ignore_index=True)\n",
    "\n",
    "top100"
   ]
  },
  {
   "cell_type": "raw",
   "id": "174a2a58-a124-4b52-b449-40bf57e8aa7e",
   "metadata": {},
   "source": [
    "grouped=names.groupby(['year','gender'])\n",
    "grouped.apply(get_top_100, 'names', n=7)"
   ]
  },
  {
   "cell_type": "markdown",
   "id": "4de8681c-c6e6-44b7-830f-7bc7acdcc243",
   "metadata": {},
   "source": [
    "## 이름 유행 분석"
   ]
  },
  {
   "cell_type": "code",
   "execution_count": 433,
   "id": "106bf7e6-fb78-47ec-be5d-46ec9b629129",
   "metadata": {
    "tags": []
   },
   "outputs": [
    {
     "data": {
      "text/html": [
       "<div>\n",
       "<style scoped>\n",
       "    .dataframe tbody tr th:only-of-type {\n",
       "        vertical-align: middle;\n",
       "    }\n",
       "\n",
       "    .dataframe tbody tr th {\n",
       "        vertical-align: top;\n",
       "    }\n",
       "\n",
       "    .dataframe thead th {\n",
       "        text-align: right;\n",
       "    }\n",
       "</style>\n",
       "<table border=\"1\" class=\"dataframe\">\n",
       "  <thead>\n",
       "    <tr style=\"text-align: right;\">\n",
       "      <th>name</th>\n",
       "      <th>Aaliyah</th>\n",
       "      <th>Aaron</th>\n",
       "      <th>Abigail</th>\n",
       "      <th>Ada</th>\n",
       "      <th>Adam</th>\n",
       "      <th>Addie</th>\n",
       "      <th>Addison</th>\n",
       "      <th>Adrian</th>\n",
       "      <th>Agnes</th>\n",
       "      <th>Aidan</th>\n",
       "      <th>...</th>\n",
       "      <th>Willis</th>\n",
       "      <th>Wilma</th>\n",
       "      <th>Woodrow</th>\n",
       "      <th>Wyatt</th>\n",
       "      <th>Xavier</th>\n",
       "      <th>Yolanda</th>\n",
       "      <th>Yvonne</th>\n",
       "      <th>Zachary</th>\n",
       "      <th>Zoe</th>\n",
       "      <th>Zoey</th>\n",
       "    </tr>\n",
       "    <tr>\n",
       "      <th>year</th>\n",
       "      <th></th>\n",
       "      <th></th>\n",
       "      <th></th>\n",
       "      <th></th>\n",
       "      <th></th>\n",
       "      <th></th>\n",
       "      <th></th>\n",
       "      <th></th>\n",
       "      <th></th>\n",
       "      <th></th>\n",
       "      <th></th>\n",
       "      <th></th>\n",
       "      <th></th>\n",
       "      <th></th>\n",
       "      <th></th>\n",
       "      <th></th>\n",
       "      <th></th>\n",
       "      <th></th>\n",
       "      <th></th>\n",
       "      <th></th>\n",
       "      <th></th>\n",
       "    </tr>\n",
       "  </thead>\n",
       "  <tbody>\n",
       "    <tr>\n",
       "      <th>1880</th>\n",
       "      <td>NaN</td>\n",
       "      <td>NaN</td>\n",
       "      <td>NaN</td>\n",
       "      <td>652.0</td>\n",
       "      <td>NaN</td>\n",
       "      <td>274.0</td>\n",
       "      <td>NaN</td>\n",
       "      <td>NaN</td>\n",
       "      <td>473.0</td>\n",
       "      <td>NaN</td>\n",
       "      <td>...</td>\n",
       "      <td>166.0</td>\n",
       "      <td>NaN</td>\n",
       "      <td>NaN</td>\n",
       "      <td>NaN</td>\n",
       "      <td>NaN</td>\n",
       "      <td>NaN</td>\n",
       "      <td>NaN</td>\n",
       "      <td>NaN</td>\n",
       "      <td>NaN</td>\n",
       "      <td>NaN</td>\n",
       "    </tr>\n",
       "    <tr>\n",
       "      <th>1881</th>\n",
       "      <td>NaN</td>\n",
       "      <td>NaN</td>\n",
       "      <td>NaN</td>\n",
       "      <td>628.0</td>\n",
       "      <td>NaN</td>\n",
       "      <td>287.0</td>\n",
       "      <td>NaN</td>\n",
       "      <td>NaN</td>\n",
       "      <td>424.0</td>\n",
       "      <td>NaN</td>\n",
       "      <td>...</td>\n",
       "      <td>142.0</td>\n",
       "      <td>NaN</td>\n",
       "      <td>NaN</td>\n",
       "      <td>NaN</td>\n",
       "      <td>NaN</td>\n",
       "      <td>NaN</td>\n",
       "      <td>NaN</td>\n",
       "      <td>NaN</td>\n",
       "      <td>NaN</td>\n",
       "      <td>NaN</td>\n",
       "    </tr>\n",
       "    <tr>\n",
       "      <th>1882</th>\n",
       "      <td>NaN</td>\n",
       "      <td>NaN</td>\n",
       "      <td>NaN</td>\n",
       "      <td>689.0</td>\n",
       "      <td>NaN</td>\n",
       "      <td>341.0</td>\n",
       "      <td>NaN</td>\n",
       "      <td>NaN</td>\n",
       "      <td>565.0</td>\n",
       "      <td>NaN</td>\n",
       "      <td>...</td>\n",
       "      <td>NaN</td>\n",
       "      <td>NaN</td>\n",
       "      <td>NaN</td>\n",
       "      <td>NaN</td>\n",
       "      <td>NaN</td>\n",
       "      <td>NaN</td>\n",
       "      <td>NaN</td>\n",
       "      <td>NaN</td>\n",
       "      <td>NaN</td>\n",
       "      <td>NaN</td>\n",
       "    </tr>\n",
       "    <tr>\n",
       "      <th>1883</th>\n",
       "      <td>NaN</td>\n",
       "      <td>NaN</td>\n",
       "      <td>NaN</td>\n",
       "      <td>778.0</td>\n",
       "      <td>NaN</td>\n",
       "      <td>362.0</td>\n",
       "      <td>NaN</td>\n",
       "      <td>NaN</td>\n",
       "      <td>623.0</td>\n",
       "      <td>NaN</td>\n",
       "      <td>...</td>\n",
       "      <td>NaN</td>\n",
       "      <td>NaN</td>\n",
       "      <td>NaN</td>\n",
       "      <td>NaN</td>\n",
       "      <td>NaN</td>\n",
       "      <td>NaN</td>\n",
       "      <td>NaN</td>\n",
       "      <td>NaN</td>\n",
       "      <td>NaN</td>\n",
       "      <td>NaN</td>\n",
       "    </tr>\n",
       "    <tr>\n",
       "      <th>1884</th>\n",
       "      <td>NaN</td>\n",
       "      <td>NaN</td>\n",
       "      <td>NaN</td>\n",
       "      <td>854.0</td>\n",
       "      <td>NaN</td>\n",
       "      <td>356.0</td>\n",
       "      <td>NaN</td>\n",
       "      <td>NaN</td>\n",
       "      <td>703.0</td>\n",
       "      <td>NaN</td>\n",
       "      <td>...</td>\n",
       "      <td>NaN</td>\n",
       "      <td>NaN</td>\n",
       "      <td>NaN</td>\n",
       "      <td>NaN</td>\n",
       "      <td>NaN</td>\n",
       "      <td>NaN</td>\n",
       "      <td>NaN</td>\n",
       "      <td>NaN</td>\n",
       "      <td>NaN</td>\n",
       "      <td>NaN</td>\n",
       "    </tr>\n",
       "    <tr>\n",
       "      <th>...</th>\n",
       "      <td>...</td>\n",
       "      <td>...</td>\n",
       "      <td>...</td>\n",
       "      <td>...</td>\n",
       "      <td>...</td>\n",
       "      <td>...</td>\n",
       "      <td>...</td>\n",
       "      <td>...</td>\n",
       "      <td>...</td>\n",
       "      <td>...</td>\n",
       "      <td>...</td>\n",
       "      <td>...</td>\n",
       "      <td>...</td>\n",
       "      <td>...</td>\n",
       "      <td>...</td>\n",
       "      <td>...</td>\n",
       "      <td>...</td>\n",
       "      <td>...</td>\n",
       "      <td>...</td>\n",
       "      <td>...</td>\n",
       "      <td>...</td>\n",
       "    </tr>\n",
       "    <tr>\n",
       "      <th>2006</th>\n",
       "      <td>3737.0</td>\n",
       "      <td>8279.0</td>\n",
       "      <td>15615.0</td>\n",
       "      <td>NaN</td>\n",
       "      <td>6775.0</td>\n",
       "      <td>NaN</td>\n",
       "      <td>7610.0</td>\n",
       "      <td>7373.0</td>\n",
       "      <td>NaN</td>\n",
       "      <td>10025.0</td>\n",
       "      <td>...</td>\n",
       "      <td>NaN</td>\n",
       "      <td>NaN</td>\n",
       "      <td>NaN</td>\n",
       "      <td>5826.0</td>\n",
       "      <td>6168.0</td>\n",
       "      <td>NaN</td>\n",
       "      <td>NaN</td>\n",
       "      <td>10986.0</td>\n",
       "      <td>5145.0</td>\n",
       "      <td>NaN</td>\n",
       "    </tr>\n",
       "    <tr>\n",
       "      <th>2007</th>\n",
       "      <td>3941.0</td>\n",
       "      <td>8914.0</td>\n",
       "      <td>15447.0</td>\n",
       "      <td>NaN</td>\n",
       "      <td>6770.0</td>\n",
       "      <td>NaN</td>\n",
       "      <td>11940.0</td>\n",
       "      <td>7719.0</td>\n",
       "      <td>NaN</td>\n",
       "      <td>8409.0</td>\n",
       "      <td>...</td>\n",
       "      <td>NaN</td>\n",
       "      <td>NaN</td>\n",
       "      <td>NaN</td>\n",
       "      <td>6514.0</td>\n",
       "      <td>6541.0</td>\n",
       "      <td>NaN</td>\n",
       "      <td>NaN</td>\n",
       "      <td>10198.0</td>\n",
       "      <td>4925.0</td>\n",
       "      <td>NaN</td>\n",
       "    </tr>\n",
       "    <tr>\n",
       "      <th>2008</th>\n",
       "      <td>4028.0</td>\n",
       "      <td>8511.0</td>\n",
       "      <td>15045.0</td>\n",
       "      <td>NaN</td>\n",
       "      <td>6074.0</td>\n",
       "      <td>NaN</td>\n",
       "      <td>10742.0</td>\n",
       "      <td>7911.0</td>\n",
       "      <td>NaN</td>\n",
       "      <td>7687.0</td>\n",
       "      <td>...</td>\n",
       "      <td>NaN</td>\n",
       "      <td>NaN</td>\n",
       "      <td>NaN</td>\n",
       "      <td>7292.0</td>\n",
       "      <td>6258.0</td>\n",
       "      <td>NaN</td>\n",
       "      <td>NaN</td>\n",
       "      <td>9195.0</td>\n",
       "      <td>4764.0</td>\n",
       "      <td>3438.0</td>\n",
       "    </tr>\n",
       "    <tr>\n",
       "      <th>2009</th>\n",
       "      <td>4352.0</td>\n",
       "      <td>7936.0</td>\n",
       "      <td>14342.0</td>\n",
       "      <td>NaN</td>\n",
       "      <td>5649.0</td>\n",
       "      <td>NaN</td>\n",
       "      <td>10642.0</td>\n",
       "      <td>7618.0</td>\n",
       "      <td>NaN</td>\n",
       "      <td>5786.0</td>\n",
       "      <td>...</td>\n",
       "      <td>NaN</td>\n",
       "      <td>NaN</td>\n",
       "      <td>NaN</td>\n",
       "      <td>7385.0</td>\n",
       "      <td>6182.0</td>\n",
       "      <td>NaN</td>\n",
       "      <td>NaN</td>\n",
       "      <td>8036.0</td>\n",
       "      <td>5120.0</td>\n",
       "      <td>3981.0</td>\n",
       "    </tr>\n",
       "    <tr>\n",
       "      <th>2010</th>\n",
       "      <td>4628.0</td>\n",
       "      <td>7374.0</td>\n",
       "      <td>14124.0</td>\n",
       "      <td>NaN</td>\n",
       "      <td>5062.0</td>\n",
       "      <td>NaN</td>\n",
       "      <td>10253.0</td>\n",
       "      <td>7354.0</td>\n",
       "      <td>NaN</td>\n",
       "      <td>4263.0</td>\n",
       "      <td>...</td>\n",
       "      <td>NaN</td>\n",
       "      <td>NaN</td>\n",
       "      <td>NaN</td>\n",
       "      <td>7319.0</td>\n",
       "      <td>5701.0</td>\n",
       "      <td>NaN</td>\n",
       "      <td>NaN</td>\n",
       "      <td>7097.0</td>\n",
       "      <td>6200.0</td>\n",
       "      <td>5164.0</td>\n",
       "    </tr>\n",
       "  </tbody>\n",
       "</table>\n",
       "<p>131 rows × 783 columns</p>\n",
       "</div>"
      ],
      "text/plain": [
       "name  Aaliyah   Aaron  Abigail    Ada    Adam  Addie  Addison  Adrian  Agnes  \\\n",
       "year                                                                           \n",
       "1880      NaN     NaN      NaN  652.0     NaN  274.0      NaN     NaN  473.0   \n",
       "1881      NaN     NaN      NaN  628.0     NaN  287.0      NaN     NaN  424.0   \n",
       "1882      NaN     NaN      NaN  689.0     NaN  341.0      NaN     NaN  565.0   \n",
       "1883      NaN     NaN      NaN  778.0     NaN  362.0      NaN     NaN  623.0   \n",
       "1884      NaN     NaN      NaN  854.0     NaN  356.0      NaN     NaN  703.0   \n",
       "...       ...     ...      ...    ...     ...    ...      ...     ...    ...   \n",
       "2006   3737.0  8279.0  15615.0    NaN  6775.0    NaN   7610.0  7373.0    NaN   \n",
       "2007   3941.0  8914.0  15447.0    NaN  6770.0    NaN  11940.0  7719.0    NaN   \n",
       "2008   4028.0  8511.0  15045.0    NaN  6074.0    NaN  10742.0  7911.0    NaN   \n",
       "2009   4352.0  7936.0  14342.0    NaN  5649.0    NaN  10642.0  7618.0    NaN   \n",
       "2010   4628.0  7374.0  14124.0    NaN  5062.0    NaN  10253.0  7354.0    NaN   \n",
       "\n",
       "name    Aidan  ...  Willis  Wilma  Woodrow   Wyatt  Xavier  Yolanda  Yvonne  \\\n",
       "year           ...                                                            \n",
       "1880      NaN  ...   166.0    NaN      NaN     NaN     NaN      NaN     NaN   \n",
       "1881      NaN  ...   142.0    NaN      NaN     NaN     NaN      NaN     NaN   \n",
       "1882      NaN  ...     NaN    NaN      NaN     NaN     NaN      NaN     NaN   \n",
       "1883      NaN  ...     NaN    NaN      NaN     NaN     NaN      NaN     NaN   \n",
       "1884      NaN  ...     NaN    NaN      NaN     NaN     NaN      NaN     NaN   \n",
       "...       ...  ...     ...    ...      ...     ...     ...      ...     ...   \n",
       "2006  10025.0  ...     NaN    NaN      NaN  5826.0  6168.0      NaN     NaN   \n",
       "2007   8409.0  ...     NaN    NaN      NaN  6514.0  6541.0      NaN     NaN   \n",
       "2008   7687.0  ...     NaN    NaN      NaN  7292.0  6258.0      NaN     NaN   \n",
       "2009   5786.0  ...     NaN    NaN      NaN  7385.0  6182.0      NaN     NaN   \n",
       "2010   4263.0  ...     NaN    NaN      NaN  7319.0  5701.0      NaN     NaN   \n",
       "\n",
       "name  Zachary     Zoe    Zoey  \n",
       "year                           \n",
       "1880      NaN     NaN     NaN  \n",
       "1881      NaN     NaN     NaN  \n",
       "1882      NaN     NaN     NaN  \n",
       "1883      NaN     NaN     NaN  \n",
       "1884      NaN     NaN     NaN  \n",
       "...       ...     ...     ...  \n",
       "2006  10986.0  5145.0     NaN  \n",
       "2007  10198.0  4925.0     NaN  \n",
       "2008   9195.0  4764.0  3438.0  \n",
       "2009   8036.0  5120.0  3981.0  \n",
       "2010   7097.0  6200.0  5164.0  \n",
       "\n",
       "[131 rows x 783 columns]"
      ]
     },
     "execution_count": 433,
     "metadata": {},
     "output_type": "execute_result"
    }
   ],
   "source": [
    "#top100에서  이름 ,년도 별 몇명 있는지\n",
    "boys=top100[top100.gender=='M']\n",
    "girls=top100[top100.gender=='F']\n",
    "total_births=top100.pivot_table('births', index='year', columns='name', aggfunc=sum)\n",
    "total_births"
   ]
  },
  {
   "cell_type": "code",
   "execution_count": 435,
   "id": "085433c8-3059-4f21-baf0-1bda9b17c219",
   "metadata": {
    "tags": []
   },
   "outputs": [
    {
     "data": {
      "text/plain": [
       "array([<Axes: xlabel='year'>, <Axes: xlabel='year'>,\n",
       "       <Axes: xlabel='year'>, <Axes: xlabel='year'>], dtype=object)"
      ]
     },
     "execution_count": 435,
     "metadata": {},
     "output_type": "execute_result"
    },
    {
     "data": {
      "image/png": "[encoded data removed]",
      "text/plain": [
       "<Figure size 1200x1000 with 4 Axes>"
      ]
     },
     "metadata": {},
     "output_type": "display_data"
    }
   ],
   "source": [
    "#원하는 이름을 뽑아서 연도별  추이 그래프 \n",
    "subset=total_births[['John','Harry','Mary','Marilyn']]\n",
    "subset.plot(subplots=True, figsize=(12,10), grid=False, title='Number of births per year')"
   ]
  },
  {
   "cell_type": "markdown",
   "id": "3f63d579-35d5-4555-bf0e-1b9f4f752d74",
   "metadata": {},
   "source": [
    "### 다양한 이름 사용하는 경향 측정"
   ]
  },
  {
   "cell_type": "code",
   "execution_count": 456,
   "id": "6f89f2b6-d318-437b-a343-5b0589c4ba44",
   "metadata": {
    "tags": []
   },
   "outputs": [
    {
     "data": {
      "text/plain": [
       "<Axes: title={'center': 'Sum of table 100.prop by year and gender'}, xlabel='year'>"
      ]
     },
     "execution_count": 456,
     "metadata": {},
     "output_type": "execute_result"
    },
    {
     "data": {
      "image/png": "[encoded data removed]",
      "text/plain": [
       "<Figure size 640x480 with 1 Axes>"
      ]
     },
     "metadata": {},
     "output_type": "display_data"
    }
   ],
   "source": [
    "table=top100.pivot_table('prop',index='year',columns='gender',aggfunc=sum)\n",
    "table.plot(title='Sum of table 100.prop by year and gender', \n",
    "          yticks=np.linspace(0,1.2,13),xticks=range(1880,2020,10))"
   ]
  },
  {
   "cell_type": "code",
   "execution_count": 457,
   "id": "3c791af0-2f73-4d8e-b8e9-3584a92aac9d",
   "metadata": {
    "tags": []
   },
   "outputs": [
    {
     "data": {
      "text/html": [
       "<div>\n",
       "<style scoped>\n",
       "    .dataframe tbody tr th:only-of-type {\n",
       "        vertical-align: middle;\n",
       "    }\n",
       "\n",
       "    .dataframe tbody tr th {\n",
       "        vertical-align: top;\n",
       "    }\n",
       "\n",
       "    .dataframe thead th {\n",
       "        text-align: right;\n",
       "    }\n",
       "</style>\n",
       "<table border=\"1\" class=\"dataframe\">\n",
       "  <thead>\n",
       "    <tr style=\"text-align: right;\">\n",
       "      <th></th>\n",
       "      <th>name</th>\n",
       "      <th>gender</th>\n",
       "      <th>births</th>\n",
       "      <th>year</th>\n",
       "      <th>prop</th>\n",
       "    </tr>\n",
       "  </thead>\n",
       "  <tbody>\n",
       "    <tr>\n",
       "      <th>26100</th>\n",
       "      <td>Jacob</td>\n",
       "      <td>M</td>\n",
       "      <td>21875</td>\n",
       "      <td>2010</td>\n",
       "      <td>0.011523</td>\n",
       "    </tr>\n",
       "    <tr>\n",
       "      <th>26101</th>\n",
       "      <td>Ethan</td>\n",
       "      <td>M</td>\n",
       "      <td>17866</td>\n",
       "      <td>2010</td>\n",
       "      <td>0.009411</td>\n",
       "    </tr>\n",
       "    <tr>\n",
       "      <th>26102</th>\n",
       "      <td>Michael</td>\n",
       "      <td>M</td>\n",
       "      <td>17133</td>\n",
       "      <td>2010</td>\n",
       "      <td>0.009025</td>\n",
       "    </tr>\n",
       "    <tr>\n",
       "      <th>26103</th>\n",
       "      <td>Jayden</td>\n",
       "      <td>M</td>\n",
       "      <td>17030</td>\n",
       "      <td>2010</td>\n",
       "      <td>0.008971</td>\n",
       "    </tr>\n",
       "    <tr>\n",
       "      <th>26104</th>\n",
       "      <td>William</td>\n",
       "      <td>M</td>\n",
       "      <td>16870</td>\n",
       "      <td>2010</td>\n",
       "      <td>0.008887</td>\n",
       "    </tr>\n",
       "    <tr>\n",
       "      <th>...</th>\n",
       "      <td>...</td>\n",
       "      <td>...</td>\n",
       "      <td>...</td>\n",
       "      <td>...</td>\n",
       "      <td>...</td>\n",
       "    </tr>\n",
       "    <tr>\n",
       "      <th>26195</th>\n",
       "      <td>Hayden</td>\n",
       "      <td>M</td>\n",
       "      <td>4151</td>\n",
       "      <td>2010</td>\n",
       "      <td>0.002187</td>\n",
       "    </tr>\n",
       "    <tr>\n",
       "      <th>26196</th>\n",
       "      <td>Bryan</td>\n",
       "      <td>M</td>\n",
       "      <td>3914</td>\n",
       "      <td>2010</td>\n",
       "      <td>0.002062</td>\n",
       "    </tr>\n",
       "    <tr>\n",
       "      <th>26197</th>\n",
       "      <td>Max</td>\n",
       "      <td>M</td>\n",
       "      <td>3819</td>\n",
       "      <td>2010</td>\n",
       "      <td>0.002012</td>\n",
       "    </tr>\n",
       "    <tr>\n",
       "      <th>26198</th>\n",
       "      <td>Jaxon</td>\n",
       "      <td>M</td>\n",
       "      <td>3802</td>\n",
       "      <td>2010</td>\n",
       "      <td>0.002003</td>\n",
       "    </tr>\n",
       "    <tr>\n",
       "      <th>26199</th>\n",
       "      <td>Brian</td>\n",
       "      <td>M</td>\n",
       "      <td>3744</td>\n",
       "      <td>2010</td>\n",
       "      <td>0.001972</td>\n",
       "    </tr>\n",
       "  </tbody>\n",
       "</table>\n",
       "<p>100 rows × 5 columns</p>\n",
       "</div>"
      ],
      "text/plain": [
       "          name gender  births  year      prop\n",
       "26100    Jacob      M   21875  2010  0.011523\n",
       "26101    Ethan      M   17866  2010  0.009411\n",
       "26102  Michael      M   17133  2010  0.009025\n",
       "26103   Jayden      M   17030  2010  0.008971\n",
       "26104  William      M   16870  2010  0.008887\n",
       "...        ...    ...     ...   ...       ...\n",
       "26195   Hayden      M    4151  2010  0.002187\n",
       "26196    Bryan      M    3914  2010  0.002062\n",
       "26197      Max      M    3819  2010  0.002012\n",
       "26198    Jaxon      M    3802  2010  0.002003\n",
       "26199    Brian      M    3744  2010  0.001972\n",
       "\n",
       "[100 rows x 5 columns]"
      ]
     },
     "execution_count": 457,
     "metadata": {},
     "output_type": "execute_result"
    }
   ],
   "source": [
    "df=boys[boys.year==2010]\n",
    "df"
   ]
  },
  {
   "cell_type": "code",
   "execution_count": 460,
   "id": "d8557366-85e8-4ab5-9774-45f611805846",
   "metadata": {
    "tags": []
   },
   "outputs": [
    {
     "data": {
      "text/plain": [
       "26100    0.011523\n",
       "26101    0.020934\n",
       "26102    0.029959\n",
       "26103    0.038930\n",
       "26104    0.047817\n",
       "           ...   \n",
       "26195    0.461006\n",
       "26196    0.463067\n",
       "26197    0.465079\n",
       "26198    0.467082\n",
       "26199    0.469054\n",
       "Name: prop, Length: 100, dtype: float64"
      ]
     },
     "execution_count": 460,
     "metadata": {},
     "output_type": "execute_result"
    }
   ],
   "source": [
    "prop_cumsum=df.sort_values(by='prop', ascending=False).prop.cumsum()\n",
    "prop_cumsum"
   ]
  },
  {
   "cell_type": "code",
   "execution_count": 462,
   "id": "931867ec-98ef-4426-aafc-1e7f10a131ee",
   "metadata": {
    "tags": []
   },
   "outputs": [
    {
     "data": {
      "text/plain": [
       "100"
      ]
     },
     "execution_count": 462,
     "metadata": {},
     "output_type": "execute_result"
    }
   ],
   "source": [
    "prop_cumsum.values.searchsorted(0.5)"
   ]
  },
  {
   "cell_type": "code",
   "execution_count": 467,
   "id": "e72ce9dd-7219-4ee2-a019-b11036fef5af",
   "metadata": {
    "tags": []
   },
   "outputs": [
    {
     "data": {
      "text/plain": [
       "26100    0.011523\n",
       "26101    0.020934\n",
       "26102    0.029959\n",
       "26103    0.038930\n",
       "26104    0.047817\n",
       "           ...   \n",
       "26195    0.461006\n",
       "26196    0.463067\n",
       "26197    0.465079\n",
       "26198    0.467082\n",
       "26199    0.469054\n",
       "Name: prop, Length: 100, dtype: float64"
      ]
     },
     "execution_count": 467,
     "metadata": {},
     "output_type": "execute_result"
    }
   ],
   "source": [
    "df1=boys[boys.year==1900]\n",
    "df1\n",
    "in1900=df.sort_values(by='prop', ascending=False).prop.cumsum()\n",
    "in1900\n",
    "#.values.searchsorted(0.5)"
   ]
  },
  {
   "cell_type": "code",
   "execution_count": null,
   "id": "fe0f7f99-d281-4666-ac65-7389c7050f16",
   "metadata": {},
   "outputs": [],
   "source": []
  }
 ],
 "metadata": {
  "kernelspec": {
   "display_name": "Python 3 (ipykernel)",
   "language": "python",
   "name": "python3"
  },
  "language_info": {
   "codemirror_mode": {
    "name": "ipython",
    "version": 3
   },
   "file_extension": ".py",
   "mimetype": "text/x-python",
   "name": "python",
   "nbconvert_exporter": "python",
   "pygments_lexer": "ipython3",
   "version": "3.9.7"
  }
 },
 "nbformat": 4,
 "nbformat_minor": 5
}
