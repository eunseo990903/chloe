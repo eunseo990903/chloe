{
 "cells": [
  {
   "cell_type": "code",
   "execution_count": 3,
   "id": "7603ef0b-bc6f-49d6-bbab-6e1dcc2b6486",
   "metadata": {
    "tags": []
   },
   "outputs": [
    {
     "name": "stdin",
     "output_type": "stream",
     "text": [
      "검색어:  사과\n"
     ]
    }
   ],
   "source": [
    "from selenium import webdriver\n",
    "from selenium.webdriver.common.by import By \n",
    "from urllib.parse import quote_plus #search 에 한글 검색 오류 안나게 \n",
    "from selenium import webdriver\n",
    "driver = webdriver.Chrome()\n",
    "url = 'https://www.naver.com'\n",
    "driver.get(url)\n",
    "base_url='https://search.naver.com/search.naver?where=image&sm=tab_jum&query='\n",
    "plus_url= quote_plus(input('검색어: '))\n",
    "url = base_url+ plus_url\n",
    "driver.get(url)\n",
    "images= driver.find_elements(By.CLASS_NAME, \"_image_listImage\")\n",
    "\n"
   ]
  },
  {
   "cell_type": "code",
   "execution_count": 58,
   "id": "59ec54c7-a6b9-4a9c-a0f4-90a96e2cee09",
   "metadata": {},
   "outputs": [],
   "source": [
    "  \n",
    "                       \n",
    "import urllib.request\n",
    "from bs4  import BeautifulSoup\n",
    "import pandas as pd\n",
    "from urllib.parse import quote #search 에 한글 검색 오류 안나게 \n",
    "\n",
    "def daum_news(keyword):    \n",
    "    keyword=quote_plus(keyword)\n",
    "    li = [] \n",
    "    li1 = []\n",
    "    li2=[]\n",
    "    url1 = f'https://search.daum.net/search?w=news&nil_search=btn&DA=NTB&enc=utf8&cluster=y&cluster_page=1&q={keyword}'\n",
    "   \n",
    "    for i in range(1,11):\n",
    "        url = url1 + str(i)   \n",
    "        headers ={'User-Agent':'Mozilla/5.0 (Windows NT 10.0; Win64; x64) AppleWebKit/537.36 (KHTML, like Gecko) Chrome/113.0.0.0 Safari/537.36 Edg/113.0.1774.42'}\n",
    "\n",
    "        html = requests.get(url, headers = headers)\n",
    "        soup = BeautifulSoup(html.text, 'html.parser')\n",
    "\n",
    "        titles = soup.find_all(class_ = \"tit_main fn_tit_u\"  )\n",
    "        for title  in titles:\n",
    "            li.append(title.text)\n",
    "\n",
    "        sub_titles = soup.find_all(class_ = \"desc\" )\n",
    "        for sub_title  in sub_titles:\n",
    "            li1.append(sub_title.text)  \n",
    "\n",
    "        for i in range(len(titles)):\n",
    "            li2.append(titles[i].attrs['href'])\n",
    "\n",
    "    df = pd.DataFrame({'소제목': li1, '첫줄':li,'링크': li2})\n",
    "    return df\n"
   ]
  },
  {
   "cell_type": "code",
   "execution_count": 59,
   "id": "c9220fbd-3569-4931-a885-5e4fca415083",
   "metadata": {
    "tags": []
   },
   "outputs": [
    {
     "data": {
      "text/html": [
       "<div>\n",
       "<style scoped>\n",
       "    .dataframe tbody tr th:only-of-type {\n",
       "        vertical-align: middle;\n",
       "    }\n",
       "\n",
       "    .dataframe tbody tr th {\n",
       "        vertical-align: top;\n",
       "    }\n",
       "\n",
       "    .dataframe thead th {\n",
       "        text-align: right;\n",
       "    }\n",
       "</style>\n",
       "<table border=\"1\" class=\"dataframe\">\n",
       "  <thead>\n",
       "    <tr style=\"text-align: right;\">\n",
       "      <th></th>\n",
       "      <th>소제목</th>\n",
       "      <th>첫줄</th>\n",
       "      <th>링크</th>\n",
       "    </tr>\n",
       "  </thead>\n",
       "  <tbody>\n",
       "    <tr>\n",
       "      <th>0</th>\n",
       "      <td>심판원이 열리지는 않을 것\"이라고 밝혔다. 윤리심판원은 지난해 11월1일 최 의원에...</td>\n",
       "      <td>최강욱 '짤짤이' 사과 1년…민주당 언제 징계하나</td>\n",
       "      <td>https://v.daum.net/v/20230504060031482?f=o</td>\n",
       "    </tr>\n",
       "    <tr>\n",
       "      <th>1</th>\n",
       "      <td>포함한다. 윤석열 정부의 불통을 단적으로 보여준 것이 바로 사과에 인색했다는 점이다...</td>\n",
       "      <td>뒤로 간 1년, 사과받지 못한 사람들 [윤석열 정부 1년]</td>\n",
       "      <td>https://v.daum.net/v/20230508173926479?f=o</td>\n",
       "    </tr>\n",
       "    <tr>\n",
       "      <th>2</th>\n",
       "      <td>이번 사고로 인해 견주님께 진심으로 죄송하며, 꼭 직접 만나 사과 드리고 싶다. 정...</td>\n",
       "      <td>자이언트핑크, ‘개물림 사망 사고’ 논란 사과 (과거사재조명) [Oh!타임머신]</td>\n",
       "      <td>https://v.daum.net/v/20230516071643407?f=o</td>\n",
       "    </tr>\n",
       "    <tr>\n",
       "      <th>3</th>\n",
       "      <td>쟈니스 사무소의 사장 후지시마 줄리는 직접 출연해 사과하는 영상과 서면 사과문을 공...</td>\n",
       "      <td>日 대형기획사 쟈니스, 창업자 미성년자 성착취 사과‥사실 인정은 회피</td>\n",
       "      <td>https://v.daum.net/v/20230515135848141?f=o</td>\n",
       "    </tr>\n",
       "    <tr>\n",
       "      <th>4</th>\n",
       "      <td>기사내용 요약 시설원예 품목 편중된 스마트 농업, 노지품목으로 확장 의미 사과 스마...</td>\n",
       "      <td>경북도, 전국 최초 사과 스마트 팜 모델 공개…1㏊ 규모</td>\n",
       "      <td>https://v.daum.net/v/20230509094412528?f=o</td>\n",
       "    </tr>\n",
       "    <tr>\n",
       "      <th>...</th>\n",
       "      <td>...</td>\n",
       "      <td>...</td>\n",
       "      <td>...</td>\n",
       "    </tr>\n",
       "    <tr>\n",
       "      <th>95</th>\n",
       "      <td>금연 구역인 카페의 테라스에서 흡연을 자제해 달라는 직원의 요청에 커피잔을 던지며 ...</td>\n",
       "      <td>\"커피잔 던진 흡연 남성, 손 미끄러졌다며 사과\"</td>\n",
       "      <td>https://v.daum.net/v/20230511110341231?f=o</td>\n",
       "    </tr>\n",
       "    <tr>\n",
       "      <th>96</th>\n",
       "      <td>피해 당사자의 폭로가 이어지는 점에 대해 \"일본 풍토에서는 10대 중반의 남자가 성...</td>\n",
       "      <td>'아이돌 대부'의 연습생 성착취 파문…日 연예기획사 공식 사과</td>\n",
       "      <td>https://v.daum.net/v/20230515100702468?f=o</td>\n",
       "    </tr>\n",
       "    <tr>\n",
       "      <th>97</th>\n",
       "      <td>사진=현대카드) 편의점업종 중 CU에서는 사과와 사과 음료 구매 시 20% 할인을 ...</td>\n",
       "      <td>사과폰으로 사과 사면 할인해주는 현대카드 이벤트</td>\n",
       "      <td>https://v.daum.net/v/20230512141715531?f=o</td>\n",
       "    </tr>\n",
       "    <tr>\n",
       "      <th>98</th>\n",
       "      <td>태유나 기자] '닥터 차정숙' 포스터./사진제공=JTBC JTBC 토일드라마 '닥터...</td>\n",
       "      <td>[전문] '닥터 차정숙', 크론병 비하 논란 사과 \"설명 미홉했다, 더욱 주의할 것\"</td>\n",
       "      <td>https://v.daum.net/v/20230510155803379?f=o</td>\n",
       "    </tr>\n",
       "    <tr>\n",
       "      <th>99</th>\n",
       "      <td>점이 재미있다. CU에서는 사과나 사과 음료 구매 시 20% 할인을 제공한다. 이마...</td>\n",
       "      <td>“사과 사면 깎아준다”...현대카드 ‘애플페이 페스티벌’ 혜택은?</td>\n",
       "      <td>https://v.daum.net/v/20230514093300334?f=o</td>\n",
       "    </tr>\n",
       "  </tbody>\n",
       "</table>\n",
       "<p>100 rows × 3 columns</p>\n",
       "</div>"
      ],
      "text/plain": [
       "                                                  소제목  \\\n",
       "0   심판원이 열리지는 않을 것\"이라고 밝혔다. 윤리심판원은 지난해 11월1일 최 의원에...   \n",
       "1   포함한다. 윤석열 정부의 불통을 단적으로 보여준 것이 바로 사과에 인색했다는 점이다...   \n",
       "2   이번 사고로 인해 견주님께 진심으로 죄송하며, 꼭 직접 만나 사과 드리고 싶다. 정...   \n",
       "3   쟈니스 사무소의 사장 후지시마 줄리는 직접 출연해 사과하는 영상과 서면 사과문을 공...   \n",
       "4   기사내용 요약 시설원예 품목 편중된 스마트 농업, 노지품목으로 확장 의미 사과 스마...   \n",
       "..                                                ...   \n",
       "95  금연 구역인 카페의 테라스에서 흡연을 자제해 달라는 직원의 요청에 커피잔을 던지며 ...   \n",
       "96  피해 당사자의 폭로가 이어지는 점에 대해 \"일본 풍토에서는 10대 중반의 남자가 성...   \n",
       "97  사진=현대카드) 편의점업종 중 CU에서는 사과와 사과 음료 구매 시 20% 할인을 ...   \n",
       "98  태유나 기자] '닥터 차정숙' 포스터./사진제공=JTBC JTBC 토일드라마 '닥터...   \n",
       "99  점이 재미있다. CU에서는 사과나 사과 음료 구매 시 20% 할인을 제공한다. 이마...   \n",
       "\n",
       "                                                 첫줄  \\\n",
       "0                       최강욱 '짤짤이' 사과 1년…민주당 언제 징계하나   \n",
       "1                  뒤로 간 1년, 사과받지 못한 사람들 [윤석열 정부 1년]   \n",
       "2      자이언트핑크, ‘개물림 사망 사고’ 논란 사과 (과거사재조명) [Oh!타임머신]   \n",
       "3            日 대형기획사 쟈니스, 창업자 미성년자 성착취 사과‥사실 인정은 회피   \n",
       "4                   경북도, 전국 최초 사과 스마트 팜 모델 공개…1㏊ 규모   \n",
       "..                                              ...   \n",
       "95                      \"커피잔 던진 흡연 남성, 손 미끄러졌다며 사과\"   \n",
       "96               '아이돌 대부'의 연습생 성착취 파문…日 연예기획사 공식 사과   \n",
       "97                       사과폰으로 사과 사면 할인해주는 현대카드 이벤트   \n",
       "98  [전문] '닥터 차정숙', 크론병 비하 논란 사과 \"설명 미홉했다, 더욱 주의할 것\"   \n",
       "99             “사과 사면 깎아준다”...현대카드 ‘애플페이 페스티벌’ 혜택은?   \n",
       "\n",
       "                                            링크  \n",
       "0   https://v.daum.net/v/20230504060031482?f=o  \n",
       "1   https://v.daum.net/v/20230508173926479?f=o  \n",
       "2   https://v.daum.net/v/20230516071643407?f=o  \n",
       "3   https://v.daum.net/v/20230515135848141?f=o  \n",
       "4   https://v.daum.net/v/20230509094412528?f=o  \n",
       "..                                         ...  \n",
       "95  https://v.daum.net/v/20230511110341231?f=o  \n",
       "96  https://v.daum.net/v/20230515100702468?f=o  \n",
       "97  https://v.daum.net/v/20230512141715531?f=o  \n",
       "98  https://v.daum.net/v/20230510155803379?f=o  \n",
       "99  https://v.daum.net/v/20230514093300334?f=o  \n",
       "\n",
       "[100 rows x 3 columns]"
      ]
     },
     "execution_count": 59,
     "metadata": {},
     "output_type": "execute_result"
    }
   ],
   "source": [
    "\n",
    "daum_news('사과')"
   ]
  },
  {
   "cell_type": "code",
   "execution_count": 39,
   "id": "674a08d0-00a2-45b4-b0cf-294ca397cba1",
   "metadata": {
    "tags": []
   },
   "outputs": [],
   "source": [
    "from urllib.parse import quote_plus\n",
    "import requests\n",
    "from urllib.parse import quote_plus\n",
    "def daum_news(keyword):\n",
    "    li = []\n",
    "    li1 = []\n",
    "    li2 = []\n",
    "    keyword = quote_plus(keyword)\n",
    "    for i in range(1, 11):\n",
    "        \n",
    "        url = f'https://search.daum.net/search?nil_suggest=btn&w=news&DA=SBC&cluster=y&q={keyword}'+str(i)\n",
    "\n",
    "        headers = {\"User-Agent\" : \"Mozilla/5.0 (Windows NT 10.0; Win64; x64) AppleWebKit/537.36 (KHTML, like Gecko) Chrome/113.0.0.0 Safari/537.36\"}\n",
    "\n",
    "        html = requests.get(url, headers = headers) #html 가져오기 \n",
    "\n",
    "        soup = BeautifulSoup(html.text, 'html.parser')\n",
    "\n",
    "        titles = soup.find_all(class_ = \"tit_main fn_tit_u\" )\n",
    "        for title  in titles:\n",
    "            li.append(title.text)\n",
    "\n",
    "        sub_titles = soup.find_all(class_ = \"desc\" )\n",
    "        for sub_title  in sub_titles:\n",
    "            li1.append(sub_title.text)    \n",
    "\n",
    "        for i in range(len(titles)):\n",
    "            li2.append(titles[i].attrs['href'])\n",
    "\n",
    "    df = pd.DataFrame({'소제목': li, '첫줄':li1, '링크':li2})\n",
    "    return df\n",
    " "
   ]
  },
  {
   "cell_type": "code",
   "execution_count": 40,
   "id": "e2ba3690-3048-4d93-a99e-5fd9817bbe0d",
   "metadata": {
    "tags": []
   },
   "outputs": [
    {
     "data": {
      "text/html": [
       "<div>\n",
       "<style scoped>\n",
       "    .dataframe tbody tr th:only-of-type {\n",
       "        vertical-align: middle;\n",
       "    }\n",
       "\n",
       "    .dataframe tbody tr th {\n",
       "        vertical-align: top;\n",
       "    }\n",
       "\n",
       "    .dataframe thead th {\n",
       "        text-align: right;\n",
       "    }\n",
       "</style>\n",
       "<table border=\"1\" class=\"dataframe\">\n",
       "  <thead>\n",
       "    <tr style=\"text-align: right;\">\n",
       "      <th></th>\n",
       "      <th>소제목</th>\n",
       "      <th>첫줄</th>\n",
       "      <th>링크</th>\n",
       "    </tr>\n",
       "  </thead>\n",
       "  <tbody>\n",
       "    <tr>\n",
       "      <th>0</th>\n",
       "      <td>'우크라이나 1년' 국회 사진 전시회 개최…설훈 \"전쟁 종식시켜야\"</td>\n",
       "      <td>전쟁 현장의 참혹함을 알리기 위한 사진 전시회를 개최했다. 설훈 더불어민주당 의원을...</td>\n",
       "      <td>https://cp.news.search.daum.net/p/132533596</td>\n",
       "    </tr>\n",
       "    <tr>\n",
       "      <th>1</th>\n",
       "      <td>전쟁 취재 '항상 늦는' 韓언론…\"알권리 위해 여권법 적용 바꿔야\"</td>\n",
       "      <td>김상훈 사진작가는 올해 초 1개월 가까운 시간 동안 우크라이나에 다녀왔다. 15일 ...</td>\n",
       "      <td>https://v.daum.net/v/20230516050303904?f=o</td>\n",
       "    </tr>\n",
       "    <tr>\n",
       "      <th>2</th>\n",
       "      <td>\"美, 우크라이나에 1.6조원 규모 추가 군사원조 제공\"</td>\n",
       "      <td>중심부 붉은 광장에서 열리는 승전 기념일 군사 퍼레이드에 참가하기 위해 러시아 군인...</td>\n",
       "      <td>https://v.daum.net/v/20230509182501974?f=o</td>\n",
       "    </tr>\n",
       "    <tr>\n",
       "      <th>3</th>\n",
       "      <td>5월의 변곡점 맞는 러시아-우크라이나 전쟁</td>\n",
       "      <td>될 수 있다. 지난해 2월24일 우크라이나 침공 이후 점령한 지역 중 상징적 의미가...</td>\n",
       "      <td>https://v.daum.net/v/20230512160804267?f=o</td>\n",
       "    </tr>\n",
       "    <tr>\n",
       "      <th>4</th>\n",
       "      <td>전쟁 폐허 우크라이나 프로축구단, 브라질서 탄생 ‘감격’</td>\n",
       "      <td>우크라니아 마리우폴 주민이 구조를 요청하는 대헝 손팻말을 들어보이고 있다. 게티이미...</td>\n",
       "      <td>https://v.daum.net/v/20230426100826302?f=o</td>\n",
       "    </tr>\n",
       "    <tr>\n",
       "      <th>...</th>\n",
       "      <td>...</td>\n",
       "      <td>...</td>\n",
       "      <td>...</td>\n",
       "    </tr>\n",
       "    <tr>\n",
       "      <th>95</th>\n",
       "      <td>카메라 들고 우크라이나 전장에 간 노철학자 “전쟁의 얼굴을 보여주고 싶었다”</td>\n",
       "      <td>남부 자포리자 원전, 러시아에 인접한 슬로비얀스크 등 10여곳을 직접 찾았다. 전쟁...</td>\n",
       "      <td>https://v.daum.net/v/20230514160908900?f=o</td>\n",
       "    </tr>\n",
       "    <tr>\n",
       "      <th>96</th>\n",
       "      <td>우크라이나 흐멜니치키주, 핵심 인프라 피습</td>\n",
       "      <td>정보를 공개하지 않았다. 일부 매체는 이 인프라가 탄약고로 추정된다고 전했다. 14...</td>\n",
       "      <td>https://cp.news.search.daum.net/p/132553671</td>\n",
       "    </tr>\n",
       "    <tr>\n",
       "      <th>97</th>\n",
       "      <td>‘칠곡할매글꼴’ 할머니들, 우크라이나에 평화와 반전 메시지</td>\n",
       "      <td>평화가 찾아오길 빌고 있습니다” 6·25 전쟁을 겪은 할머니들이 전하는 반전 메시지...</td>\n",
       "      <td>https://v.daum.net/v/20230510103601519?f=o</td>\n",
       "    </tr>\n",
       "    <tr>\n",
       "      <th>98</th>\n",
       "      <td>[뉴스in뉴스] 우크라이나 전쟁 봄철 변곡점 맞이하나</td>\n",
       "      <td>공격은 이에 대한 보복이라는 해석도 나옵니다. [앵커] 이후 러시아도 대응을 했겠죠...</td>\n",
       "      <td>https://v.daum.net/v/20230503124653840?f=o</td>\n",
       "    </tr>\n",
       "    <tr>\n",
       "      <th>99</th>\n",
       "      <td>\"러, 잃어버린 바흐무트 영토 재탈환 시도\" 우크라이나</td>\n",
       "      <td>설명했다. 앞서 러시아 국방부는 일부 병력이 우크라이나 동부 바흐무트 북서쪽 저수지...</td>\n",
       "      <td>https://v.daum.net/v/20230513152738573?f=o</td>\n",
       "    </tr>\n",
       "  </tbody>\n",
       "</table>\n",
       "<p>100 rows × 3 columns</p>\n",
       "</div>"
      ],
      "text/plain": [
       "                                           소제목  \\\n",
       "0        '우크라이나 1년' 국회 사진 전시회 개최…설훈 \"전쟁 종식시켜야\"   \n",
       "1        전쟁 취재 '항상 늦는' 韓언론…\"알권리 위해 여권법 적용 바꿔야\"   \n",
       "2              \"美, 우크라이나에 1.6조원 규모 추가 군사원조 제공\"   \n",
       "3                      5월의 변곡점 맞는 러시아-우크라이나 전쟁   \n",
       "4              전쟁 폐허 우크라이나 프로축구단, 브라질서 탄생 ‘감격’   \n",
       "..                                         ...   \n",
       "95  카메라 들고 우크라이나 전장에 간 노철학자 “전쟁의 얼굴을 보여주고 싶었다”   \n",
       "96                     우크라이나 흐멜니치키주, 핵심 인프라 피습   \n",
       "97            ‘칠곡할매글꼴’ 할머니들, 우크라이나에 평화와 반전 메시지   \n",
       "98               [뉴스in뉴스] 우크라이나 전쟁 봄철 변곡점 맞이하나   \n",
       "99              \"러, 잃어버린 바흐무트 영토 재탈환 시도\" 우크라이나   \n",
       "\n",
       "                                                   첫줄  \\\n",
       "0   전쟁 현장의 참혹함을 알리기 위한 사진 전시회를 개최했다. 설훈 더불어민주당 의원을...   \n",
       "1   김상훈 사진작가는 올해 초 1개월 가까운 시간 동안 우크라이나에 다녀왔다. 15일 ...   \n",
       "2   중심부 붉은 광장에서 열리는 승전 기념일 군사 퍼레이드에 참가하기 위해 러시아 군인...   \n",
       "3   될 수 있다. 지난해 2월24일 우크라이나 침공 이후 점령한 지역 중 상징적 의미가...   \n",
       "4   우크라니아 마리우폴 주민이 구조를 요청하는 대헝 손팻말을 들어보이고 있다. 게티이미...   \n",
       "..                                                ...   \n",
       "95  남부 자포리자 원전, 러시아에 인접한 슬로비얀스크 등 10여곳을 직접 찾았다. 전쟁...   \n",
       "96  정보를 공개하지 않았다. 일부 매체는 이 인프라가 탄약고로 추정된다고 전했다. 14...   \n",
       "97  평화가 찾아오길 빌고 있습니다” 6·25 전쟁을 겪은 할머니들이 전하는 반전 메시지...   \n",
       "98  공격은 이에 대한 보복이라는 해석도 나옵니다. [앵커] 이후 러시아도 대응을 했겠죠...   \n",
       "99  설명했다. 앞서 러시아 국방부는 일부 병력이 우크라이나 동부 바흐무트 북서쪽 저수지...   \n",
       "\n",
       "                                             링크  \n",
       "0   https://cp.news.search.daum.net/p/132533596  \n",
       "1    https://v.daum.net/v/20230516050303904?f=o  \n",
       "2    https://v.daum.net/v/20230509182501974?f=o  \n",
       "3    https://v.daum.net/v/20230512160804267?f=o  \n",
       "4    https://v.daum.net/v/20230426100826302?f=o  \n",
       "..                                          ...  \n",
       "95   https://v.daum.net/v/20230514160908900?f=o  \n",
       "96  https://cp.news.search.daum.net/p/132553671  \n",
       "97   https://v.daum.net/v/20230510103601519?f=o  \n",
       "98   https://v.daum.net/v/20230503124653840?f=o  \n",
       "99   https://v.daum.net/v/20230513152738573?f=o  \n",
       "\n",
       "[100 rows x 3 columns]"
      ]
     },
     "execution_count": 40,
     "metadata": {},
     "output_type": "execute_result"
    }
   ],
   "source": [
    "daum_news('우크라이나++')"
   ]
  },
  {
   "cell_type": "code",
   "execution_count": 76,
   "id": "c0820ab5-189d-4e46-a748-a31386706592",
   "metadata": {
    "tags": []
   },
   "outputs": [],
   "source": [
    "from selenium import webdriver\n",
    "from selenium.webdriver.common.by import By\n",
    "from selenium.webdriver.common.keys import Keys\n",
    "from selenium.webdriver.support.ui import WebDriverWait\n",
    "from selenium.webdriver.support import expected_conditions as EC \n",
    "from selenium import webdriver"
   ]
  },
  {
   "cell_type": "code",
   "execution_count": 87,
   "id": "5862224a-17b1-4cf3-a0e6-d91bb7e92d50",
   "metadata": {
    "tags": []
   },
   "outputs": [],
   "source": [
    "driver = webdriver.Chrome()\n",
    "url='http://www.naver.com'\n",
    "driver.get(url)"
   ]
  },
  {
   "cell_type": "code",
   "execution_count": 88,
   "id": "abbeb561-8ac1-4d6a-bc9e-fa072eb7f6d3",
   "metadata": {
    "tags": []
   },
   "outputs": [],
   "source": [
    "element=driver.find_element(By.ID, \"query\") #네이버 검색창 id = query \n",
    "element. send_keys('사과')\n",
    "element.send_keys(Keys. ENTER)\n",
    "driver.close()"
   ]
  },
  {
   "cell_type": "raw",
   "id": "7ac2303c-1cce-400c-b832-0d0775dc46bb",
   "metadata": {},
   "source": [
    "driver.close()"
   ]
  },
  {
   "cell_type": "markdown",
   "id": "20ca8e70-88b2-46ad-be2a-0afb68f0a965",
   "metadata": {},
   "source": [
    "## 다음 로그인하기"
   ]
  },
  {
   "cell_type": "code",
   "execution_count": 91,
   "id": "1b175465-cb73-4715-a13e-ddfb01e69ba5",
   "metadata": {
    "tags": []
   },
   "outputs": [],
   "source": [
    "driver = webdriver.Chrome()\n",
    "url='https://accounts.kakao.com/login/?continue=https%3A%2F%2Flogins.daum.net%2Faccounts%2Fksso.do%3Frescue%3Dtrue%26url%3Dhttps%253A%252F%252Fwww.daum.net#login'\n",
    "driver.get(url) \n"
   ]
  },
  {
   "cell_type": "code",
   "execution_count": 92,
   "id": "8ff8beba-1985-43ba-a5c2-02928f371c23",
   "metadata": {
    "tags": []
   },
   "outputs": [],
   "source": [
    "\n",
    "element=driver.find_element(By.ID, \"loginKey--1\") #네이버 검색창 id = query \n",
    "element. send_keys('eunseo.shin') #아이디 \n",
    "element=driver.find_element(By.ID, \"password--2\")\n",
    "element. send_keys('1234') #비번 \n",
    "element.send_keys(Keys. ENTER)\n"
   ]
  },
  {
   "cell_type": "markdown",
   "id": "5c9aaaf8-f31b-4829-b128-088a91423fa8",
   "metadata": {
    "tags": []
   },
   "source": [
    "### 네이버 로그인"
   ]
  },
  {
   "cell_type": "code",
   "execution_count": 123,
   "id": "9a6774ad-c081-4177-92dc-aa1de8107ba5",
   "metadata": {
    "tags": []
   },
   "outputs": [],
   "source": [
    "driver = webdriver.Chrome()\n",
    "url='https://www.naver.com'\n",
    "driver.get(url)\n",
    "\n",
    "\n",
    "element=driver.find_element(By.CLASS_NAME, \"link_login\")\n",
    "element.send_keys(Keys. ENTER)\n",
    "element=driver.find_element(By.ID, \"id\")\n",
    "element. send_keys('o2oo2ozzz') #아이디 \n",
    "element=driver.find_element(By.ID, \"pw\")\n",
    "element. send_keys('Kk408106') #비번 \n",
    "element.send_keys(Keys. ENTER)\n",
    "\n",
    "from selenium import webdriver\n",
    "driver.get('https://shopping.naver.com/home')\n",
    "elements=driver.find_element(By.XPATH, '//*[@id=\"__next\"]/div/div[1]/div/div/div[2]/div/div[1]/div/div[1]/a[2]').click()\n",
    "#id가 없음 class 는 여러개라 딱 지칭 불가능 -> copy xpath , xpath안에 큰따옴표 있어서 작은따옴표로 묶어주기 \n",
    "elements=driver.find_elements(By.CLASS_NAME, \"PaymentList_name__2oqPF\")\n",
    "#class 가 뭉탱이일때 위아래 펴서 보기 \n",
    "for element in elements:\n",
    "    print(element.text)"
   ]
  },
  {
   "cell_type": "code",
   "execution_count": null,
   "id": "b4f63226-8ee0-4a70-b391-2b3ee551de97",
   "metadata": {},
   "outputs": [],
   "source": [
    "e"
   ]
  },
  {
   "cell_type": "code",
   "execution_count": 124,
   "id": "1e929d60-ec54-4ccd-88b8-048e5d4d7403",
   "metadata": {
    "tags": []
   },
   "outputs": [
    {
     "data": {
      "text/plain": [
       "list"
      ]
     },
     "execution_count": 124,
     "metadata": {},
     "output_type": "execute_result"
    }
   ],
   "source": [
    "type(element)"
   ]
  },
  {
   "cell_type": "code",
   "execution_count": 127,
   "id": "f613a593-7f10-45ae-8837-1b5c313496d5",
   "metadata": {
    "tags": []
   },
   "outputs": [
    {
     "name": "stdout",
     "output_type": "stream",
     "text": [
      "파파노다이닝\n"
     ]
    }
   ],
   "source": [
    "for element in elements:\n",
    "    print(element.text)"
   ]
  },
  {
   "cell_type": "code",
   "execution_count": 126,
   "id": "f849cb14-73a5-46b1-9125-94fa74db5765",
   "metadata": {
    "tags": []
   },
   "outputs": [],
   "source": [
    "elements=driver.find_elements(By.CSS_SELECTOR, \"#root > div > div.TwoStagedLayoutWrapper-module_container__-NuVi > div > div.TwoStagedLayoutWrapper-module_content-left__2eGzo.PcHome_content-left__1Sj2x > div.Content_article__1rgzf > div.PaymentList_article__1wn-r > ul > li:nth-child(1) > div > div.PaymentList_product__1NiW7 > div.PaymentList_info__3txHx > strong\")\n",
    "#copy selector "
   ]
  },
  {
   "cell_type": "markdown",
   "id": "05ff8c91-bbb1-4400-811f-6041face6180",
   "metadata": {},
   "source": [
    "## 한빛출판네트워크"
   ]
  },
  {
   "cell_type": "code",
   "execution_count": 150,
   "id": "f8f0937c-66e3-4e06-8410-0d180fe0d128",
   "metadata": {
    "tags": []
   },
   "outputs": [
    {
     "name": "stdout",
     "output_type": "stream",
     "text": [
      "마일리지 2,000 점\n",
      "한빛이코인 0 원\n"
     ]
    }
   ],
   "source": [
    "driver = webdriver.Chrome()\n",
    "url='https://www.hanbit.co.kr'\n",
    "driver.get(url)\n",
    "\n",
    "elements=driver.find_element(By.CSS_SELECTOR, '#wrap_nav > ul.top_menu > li:nth-child(1) > a').click()\n",
    "elements=driver.find_element(By.ID, 'm_id')\n",
    "elements. send_keys('eunseo')\n",
    "elements=driver.find_element(By.ID, 'm_passwd')\n",
    "elements. send_keys('Kk')\n",
    "elements=driver.find_element(By.CLASS_NAME, 'btn_login').click()\n",
    "\n",
    "elements=driver.find_element(By.CSS_SELECTOR, \"#wrap_nav > ul.top_menu > li:nth-child(3) > a\").click()\n",
    "\n",
    "mileage=driver.find_element(By.CLASS_NAME, 'mileage_section1')\n",
    "ecoin=driver.find_element(By.CLASS_NAME, 'mileage_section2')\n",
    "\n",
    "print(mileage.text.replace('\\n', ' '))\n",
    "print(ecoin.text.replace('\\n', ' '))\n"
   ]
  },
  {
   "cell_type": "markdown",
   "id": "46121044-fd83-4222-b2e8-1674cc550c2a",
   "metadata": {},
   "source": [
    "- request 로 id, passwd 를 post 방식으로 보내기"
   ]
  },
  {
   "cell_type": "code",
   "execution_count": 158,
   "id": "fafdadd6-7895-4f12-afd7-636cc3a8a30b",
   "metadata": {
    "tags": []
   },
   "outputs": [
    {
     "data": {
      "text/plain": [
       "<Response [200]>"
      ]
     },
     "execution_count": 158,
     "metadata": {},
     "output_type": "execute_result"
    }
   ],
   "source": [
    "import requests\n",
    "from bs4 import BeautifulSoup\n",
    "session=requests.session()\n",
    "type(session)\n",
    "url='https://www.hanbit.co.kr/member/login_proc.php' #로그인 실패한한 페이지  \n",
    "#로그인post  :보안 \n",
    "session.post(url,{'m_id':'eunseo990903','m_passwd':'Kk8791809!'} )"
   ]
  },
  {
   "cell_type": "code",
   "execution_count": 161,
   "id": "abc6ff32-6271-4298-ba55-56dc5ea6a532",
   "metadata": {
    "tags": []
   },
   "outputs": [],
   "source": [
    "html=session.get('https://www.hanbit.co.kr/myhanbit/myhanbit.html')\n",
    "soup=BeautifulSoup(html.text, 'html.parser') #\n"
   ]
  },
  {
   "cell_type": "code",
   "execution_count": 166,
   "id": "89636518-365a-47ee-b4ed-b6bffd309235",
   "metadata": {
    "tags": []
   },
   "outputs": [
    {
     "data": {
      "text/plain": [
       "'0'"
      ]
     },
     "execution_count": 166,
     "metadata": {},
     "output_type": "execute_result"
    }
   ],
   "source": [
    "#마일리지 2000, 0 , select : list 인덱스.text 올바르게 출력 \n",
    "soup.select_one('.mileage_section1 > dd > span').text\n",
    "soup.select_one('.mileage_section2 > dd > span').text"
   ]
  },
  {
   "cell_type": "code",
   "execution_count": 173,
   "id": "d40c7481-8b21-4493-8314-50cffd8b3489",
   "metadata": {
    "tags": []
   },
   "outputs": [],
   "source": [
    "driver= webdriver.Chrome()\n",
    "driver.get('https://accounts.google.com/v3/signin/identifier?dsh=S-737341098%3A1684218094792612&continue=https%3A%2F%2Fwww.google.com%2F&ec=GAZAmgQ&hl=ko&ifkv=Af_xneE5gwyJ5ZH52NQ_e4rF1SWjQOaaCCbhdHY_JedR59-4_-YSm7wDJQ14r2pIVSfXjmHqcE82gw&passive=true&flowName=GlifWebSignIn&flowEntry=ServiceLogin')\n",
    "\n",
    "el= driver.find_element(By.ID, 'identifierId')\n",
    "el.send_keys('eunseo990903')\n",
    "\n",
    "driver.find_element(By.CSS_SELECTOR ,'#identifierNext > div > button > span').click()"
   ]
  },
  {
   "cell_type": "code",
   "execution_count": 176,
   "id": "a4040e52-b973-42b8-8d7c-84a67682f9ce",
   "metadata": {
    "tags": []
   },
   "outputs": [
    {
     "data": {
      "text/plain": [
       "<Response [400]>"
      ]
     },
     "execution_count": 176,
     "metadata": {},
     "output_type": "execute_result"
    }
   ],
   "source": [
    "import requests\n",
    "from bs4 import BeautifulSoup\n",
    "session=requests.session()\n",
    "type(session)\n",
    "url='https://accounts.google.com/v3/signin/identifier?dsh=S-737341098%3A1684218094792612&continue=https%3A%2F%2Fwww.google.com%2F&ec=GAZAmgQ&hl=ko&ifkv=Af_xneE5gwyJ5ZH52NQ_e4rF1SWjQOaaCCbhdHY_JedR59-4_-YSm7wDJQ14r2pIVSfXjmHqcE82gw&passive=true&flowName=GlifWebSignIn&flowEntry=ServiceLogin'\n",
    "\n",
    "#로그인 실패한한 페이지  \n",
    "#로그인post  :보안 \n",
    "session.post(url,{'m_id':'eunseo990903'})"
   ]
  },
  {
   "cell_type": "code",
   "execution_count": 195,
   "id": "6f0c7d02-1330-4745-8f3b-5622abba4bb7",
   "metadata": {
    "tags": []
   },
   "outputs": [],
   "source": [
    "#구글 로그인 보안정책으로 webdriver 대신 다른 라이브러리 사용\n",
    "import undetected_chromedriver\n",
    "driver=undetected_chromedriver.Chrome()\n",
    "#로그인 페이지 \n",
    "driver.get('https://accounts.google.com/v3/signin/identifier?dsh=S-737341098%3A1684218094792612&continue=https%3A%2F%2Fwww.google.com%2F&ec=GAZAmgQ&hl=ko&ifkv=Af_xneE5gwyJ5ZH52NQ_e4rF1SWjQOaaCCbhdHY_JedR59-4_-YSm7wDJQ14r2pIVSfXjmHqcE82gw&passive=true&flowName=GlifWebSignIn&flowEntry=ServiceLogin')\n",
    "#아이디 \n",
    "el= driver.find_element(By.ID, 'identifierId')\n",
    "el.send_keys('eunseo990903')\n",
    "#다음\n",
    "el.send_keys(Keys.ENTER)\n",
    "\n",
    "\n",
    "\n"
   ]
  },
  {
   "cell_type": "code",
   "execution_count": 196,
   "id": "56427f25-58ff-4ad7-a418-a8f69a7b1090",
   "metadata": {
    "tags": []
   },
   "outputs": [],
   "source": [
    "#비밀번호 \n",
    "el=driver.find_element(By.CLASS_NAME,'whsOnd.zHQkBf')\n",
    "el.send_keys('Kk408106!')\n",
    "el.send_keys(Keys. ENTER)"
   ]
  },
  {
   "cell_type": "code",
   "execution_count": 197,
   "id": "555a8b1d-f985-404c-a98e-553d90fdac7c",
   "metadata": {
    "tags": []
   },
   "outputs": [],
   "source": [
    "#메일함 \n",
    "driver.get('https://mail.google.com/mail/u/0/#inbox')\n",
    "import time\n",
    "time.sleep(2) #2초 텀주기 \n",
    "driver.find_element(By.CLASS_NAME, 'T-I.T-I-KE.L3').click()\n",
    "#탭키를 누르면 수신자, 제목, 본문으로 넘어감 \n",
    "#Actionchains"
   ]
  },
  {
   "cell_type": "code",
   "execution_count": 200,
   "id": "9a28b138-5479-4701-a338-f13aebaec140",
   "metadata": {
    "tags": []
   },
   "outputs": [],
   "source": [
    "from selenium.webdriver.common.action_chains import ActionChains\n",
    "# ( ) 묶어주면 한줄로 파악 \n",
    "\n",
    "action= ActionChains(driver)\n",
    "#보내기 버튼 \n",
    "send_button = driver.find_element(By.CSS_SELECTOR, '.T-I.J-J5-Ji.aoO.v7.T-I-atl.L3')\n",
    "mail_button = driver.find_element(By.CSS_SELECTOR, '.wO.nr')\n",
    "\n",
    "\n",
    "(\n",
    "action.send_keys('eunseo990903@gmail.com') #오류 부분\n",
    ".key_down(Keys.TAB).pause(1).key_down(Keys.TAB).pause(1) # 받는 사람을 적고 TAB 2번 누르기\n",
    ".send_keys('제목입니다.').pause(1).key_down(Keys.TAB).pause(2) # 제목 입력 부분 탭으로 다음칸\n",
    ".send_keys('abcde').pause(2).key_down(Keys.ENTER) # 내용 입력 부분\n",
    ".key_down(Keys.SHIFT).send_keys('abcd').key_up(Keys.SHIFT).pause(2) # Key_down은 up을 해주기 전까지 눌러줌\n",
    ".move_to_element(send_button).click()\n",
    ".perform()  # 실행\n",
    ") \n"
   ]
  },
  {
   "cell_type": "code",
   "execution_count": 201,
   "id": "b32f9cc2-ef86-4b49-807f-1591adb64711",
   "metadata": {
    "tags": []
   },
   "outputs": [],
   "source": [
    "import requests\n",
    "import json"
   ]
  },
  {
   "cell_type": "code",
   "execution_count": 204,
   "id": "beef4a80-388b-43a9-886b-d9e45fc5aae3",
   "metadata": {
    "tags": []
   },
   "outputs": [
    {
     "name": "stdout",
     "output_type": "stream",
     "text": [
      "{'coord': {'lon': 126.9778, 'lat': 37.5683}, 'weather': [{'id': 800, 'main': 'Clear', 'description': 'clear sky', 'icon': '01d'}], 'base': 'stations', 'main': {'temp': 304.81, 'feels_like': 303.81, 'temp_min': 297.84, 'temp_max': 304.81, 'pressure': 1010, 'humidity': 32, 'sea_level': 1010, 'grnd_level': 1004}, 'visibility': 10000, 'wind': {'speed': 4.72, 'deg': 232, 'gust': 8.35}, 'clouds': {'all': 0}, 'dt': 1684224280, 'sys': {'type': 1, 'id': 5509, 'country': 'KR', 'sunrise': 1684182161, 'sunset': 1684233263}, 'timezone': 32400, 'id': 1835848, 'name': 'Seoul', 'cod': 200}\n",
      "\n",
      "{'coord': {'lon': 126.9778, 'lat': 37.5683}, 'weather': [{'id': 800, 'main': 'Clear', 'description': 'clear sky', 'icon': '01d'}], 'base': 'stations', 'main': {'temp': 304.81, 'feels_like': 303.81, 'temp_min': 297.84, 'temp_max': 304.81, 'pressure': 1010, 'humidity': 32, 'sea_level': 1010, 'grnd_level': 1004}, 'visibility': 10000, 'wind': {'speed': 4.72, 'deg': 232, 'gust': 8.35}, 'clouds': {'all': 0}, 'dt': 1684224280, 'sys': {'type': 1, 'id': 5509, 'country': 'KR', 'sunrise': 1684182161, 'sunset': 1684233263}, 'timezone': 32400, 'id': 1835848, 'name': 'Seoul', 'cod': 200}\n",
      "\n",
      "+ 도시 = Seoul\n",
      "| 날씨 = clear sky\n",
      "| 최저 기온 = 24.7\n",
      "| 최고 기온 = 31.7\n",
      "| 습도 = 32\n",
      "| 기압 = 1010\n",
      "| 풍향 = 232\n",
      "| 풍속 = 4.72\n",
      "\n",
      "{'coord': {'lon': -74.006, 'lat': 40.7143}, 'weather': [{'id': 800, 'main': 'Clear', 'description': 'clear sky', 'icon': '01n'}], 'base': 'stations', 'main': {'temp': 288, 'feels_like': 287.11, 'temp_min': 283.06, 'temp_max': 291.02, 'pressure': 1013, 'humidity': 60}, 'visibility': 10000, 'wind': {'speed': 5.81, 'deg': 360, 'gust': 8.94}, 'clouds': {'all': 0}, 'dt': 1684224228, 'sys': {'type': 2, 'id': 2008101, 'country': 'US', 'sunrise': 1684229901, 'sunset': 1684281997}, 'timezone': -14400, 'id': 5128581, 'name': 'New York', 'cod': 200}\n",
      "\n",
      "{'coord': {'lon': -74.006, 'lat': 40.7143}, 'weather': [{'id': 800, 'main': 'Clear', 'description': 'clear sky', 'icon': '01n'}], 'base': 'stations', 'main': {'temp': 288, 'feels_like': 287.11, 'temp_min': 283.06, 'temp_max': 291.02, 'pressure': 1013, 'humidity': 60}, 'visibility': 10000, 'wind': {'speed': 5.81, 'deg': 360, 'gust': 8.94}, 'clouds': {'all': 0}, 'dt': 1684224228, 'sys': {'type': 2, 'id': 2008101, 'country': 'US', 'sunrise': 1684229901, 'sunset': 1684281997}, 'timezone': -14400, 'id': 5128581, 'name': 'New York', 'cod': 200}\n",
      "\n",
      "+ 도시 = New York\n",
      "| 날씨 = clear sky\n",
      "| 최저 기온 = 9.9\n",
      "| 최고 기온 = 17.9\n",
      "| 습도 = 60\n",
      "| 기압 = 1013\n",
      "| 풍향 = 360\n",
      "| 풍속 = 5.81\n",
      "\n"
     ]
    }
   ],
   "source": [
    "import requests\n",
    "import json\n",
    "\n",
    "api = \"http://api.openweathermap.org/data/2.5/weather?q={city}&APPID={key}\"\n",
    "apikey = \"28ed8b8682f52838a0a86e00b8578fcd\"\n",
    "\n",
    "cities = ['Seoul,KR', \"New York, US\"]\n",
    "k2c = lambda k: round(k - 273.15, 1)\n",
    "\n",
    "for city in cities:\n",
    "    url = api.format(city = city, key = apikey)\n",
    "    req = requests.get(url)\n",
    "    data = json.loads(req.text) # 결과를 JSON 형식으로 변환하기 \n",
    "    print(data)\n",
    "    print() \n",
    "    \n",
    "    print(data)\n",
    "    print()\n",
    "    print(\"+ 도시 =\", data[\"name\"])\n",
    "    print(\"| 날씨 =\", data[\"weather\"][0][\"description\"])\n",
    "    print(\"| 최저 기온 =\", k2c(data[\"main\"][\"temp_min\"]))\n",
    "    print(\"| 최고 기온 =\", k2c(data[\"main\"][\"temp_max\"]))\n",
    "    print(\"| 습도 =\", data[\"main\"][\"humidity\"])\n",
    "    print(\"| 기압 =\", data[\"main\"][\"pressure\"])\n",
    "    print(\"| 풍향 =\", data[\"wind\"][\"deg\"])\n",
    "    print(\"| 풍속 =\", data[\"wind\"][\"speed\"])\n",
    "    print(\"\") "
   ]
  }
 ],
 "metadata": {
  "kernelspec": {
   "display_name": "Python 3 (ipykernel)",
   "language": "python",
   "name": "python3"
  },
  "language_info": {
   "codemirror_mode": {
    "name": "ipython",
    "version": 3
   },
   "file_extension": ".py",
   "mimetype": "text/x-python",
   "name": "python",
   "nbconvert_exporter": "python",
   "pygments_lexer": "ipython3",
   "version": "3.10.9"
  }
 },
 "nbformat": 4,
 "nbformat_minor": 5
}
