{
 "cells": [
  {
   "cell_type": "code",
   "execution_count": 1,
   "id": "85d12a17-1257-4f6b-92ce-633bd4333c4f",
   "metadata": {
    "tags": []
   },
   "outputs": [],
   "source": [
    "import tensorflow as tf"
   ]
  },
  {
   "cell_type": "code",
   "execution_count": 2,
   "id": "a7fb5a6e-b52a-45d8-880e-175b2f418f04",
   "metadata": {
    "tags": []
   },
   "outputs": [],
   "source": [
    "x=tf.ones(shape=(2,1))"
   ]
  },
  {
   "cell_type": "code",
   "execution_count": 3,
   "id": "68d645da-a80f-4fc4-938d-dbfb64b4a00a",
   "metadata": {
    "tags": []
   },
   "outputs": [
    {
     "name": "stdout",
     "output_type": "stream",
     "text": [
      "tf.Tensor(\n",
      "[[1.]\n",
      " [1.]], shape=(2, 1), dtype=float32)\n"
     ]
    }
   ],
   "source": [
    "print(x)"
   ]
  },
  {
   "cell_type": "code",
   "execution_count": 4,
   "id": "2eea53f6-2321-4aaa-9b2e-c818cd30d30b",
   "metadata": {
    "tags": []
   },
   "outputs": [
    {
     "name": "stdout",
     "output_type": "stream",
     "text": [
      "tf.Tensor(\n",
      "[[0.]\n",
      " [0.]], shape=(2, 1), dtype=float32)\n"
     ]
    }
   ],
   "source": [
    "x=tf.zeros(shape=(2,1))\n",
    "print(x)"
   ]
  },
  {
   "cell_type": "code",
   "execution_count": 5,
   "id": "bf0c6f4e-ea6d-49d6-beb6-42a4a3c8ae39",
   "metadata": {
    "tags": []
   },
   "outputs": [],
   "source": [
    "x= tf.random.normal(shape=(3,1),mean=0,stddev=1.)"
   ]
  },
  {
   "cell_type": "code",
   "execution_count": 6,
   "id": "99474dce-fd9b-4ce0-8548-a99bb1600615",
   "metadata": {
    "tags": []
   },
   "outputs": [
    {
     "name": "stdout",
     "output_type": "stream",
     "text": [
      "tf.Tensor(\n",
      "[[ 0.8146633]\n",
      " [-0.7450391]\n",
      " [-1.9143505]], shape=(3, 1), dtype=float32)\n"
     ]
    }
   ],
   "source": [
    "print(x)"
   ]
  },
  {
   "cell_type": "code",
   "execution_count": 7,
   "id": "a6c9c7e9-b5a7-4978-8739-ba7ed4883640",
   "metadata": {
    "tags": []
   },
   "outputs": [],
   "source": [
    "x=tf.random.uniform(shape=(3,1),minval=0., maxval=1.)"
   ]
  },
  {
   "cell_type": "code",
   "execution_count": 8,
   "id": "b28c9899-4692-4d1a-9bbe-b8a82a61ea31",
   "metadata": {
    "tags": []
   },
   "outputs": [
    {
     "name": "stdout",
     "output_type": "stream",
     "text": [
      "tf.Tensor(\n",
      "[[0.72333837]\n",
      " [0.6746836 ]\n",
      " [0.9563606 ]], shape=(3, 1), dtype=float32)\n"
     ]
    }
   ],
   "source": [
    "print(x)"
   ]
  },
  {
   "cell_type": "code",
   "execution_count": 9,
   "id": "76f66239-50ff-4802-8933-c3e11412b401",
   "metadata": {
    "tags": []
   },
   "outputs": [],
   "source": [
    "#텐서플로 텐서에 값을 할당할 수 ㅇ없음 텐서는 상수"
   ]
  },
  {
   "cell_type": "code",
   "execution_count": 10,
   "id": "db089259-fae5-4163-9ba8-8690e249589a",
   "metadata": {
    "tags": []
   },
   "outputs": [],
   "source": [
    "import numpy as np\n",
    "x=np.ones(shape=(2,2))\n",
    "x[0,0]=0."
   ]
  },
  {
   "cell_type": "code",
   "execution_count": 11,
   "id": "ffe8961b-c697-419c-838b-3f3e02e284e3",
   "metadata": {
    "tags": []
   },
   "outputs": [
    {
     "data": {
      "text/plain": [
       "array([[0., 1.],\n",
       "       [1., 1.]])"
      ]
     },
     "execution_count": 11,
     "metadata": {},
     "output_type": "execute_result"
    }
   ],
   "source": [
    "x"
   ]
  },
  {
   "cell_type": "code",
   "execution_count": 13,
   "id": "f53746da-8d6d-407f-bc5c-707d1b1c79c6",
   "metadata": {
    "tags": []
   },
   "outputs": [
    {
     "data": {
      "text/plain": [
       "<tf.Tensor: shape=(2, 2), dtype=float32, numpy=\n",
       "array([[1., 1.],\n",
       "       [1., 1.]], dtype=float32)>"
      ]
     },
     "execution_count": 13,
     "metadata": {},
     "output_type": "execute_result"
    }
   ],
   "source": [
    "x= tf.ones(shape=(2,2))\n",
    "x"
   ]
  },
  {
   "cell_type": "code",
   "execution_count": 21,
   "id": "7948d14f-3367-4e5f-b13f-a5c5b1da36d1",
   "metadata": {
    "tags": []
   },
   "outputs": [],
   "source": []
  },
  {
   "cell_type": "code",
   "execution_count": 15,
   "id": "e38f16d3-030f-46c8-99cb-35d9f32a1cf3",
   "metadata": {
    "tags": []
   },
   "outputs": [
    {
     "data": {
      "text/plain": [
       "<tf.Variable 'Variable:0' shape=() dtype=int32, numpy=3>"
      ]
     },
     "execution_count": 15,
     "metadata": {},
     "output_type": "execute_result"
    }
   ],
   "source": [
    "input_var"
   ]
  },
  {
   "cell_type": "code",
   "execution_count": 22,
   "id": "91d4e428-9c47-4882-bc40-3d333aefbbfd",
   "metadata": {
    "tags": []
   },
   "outputs": [
    {
     "data": {
      "text/plain": [
       "<tf.Tensor: shape=(), dtype=float32, numpy=6.0>"
      ]
     },
     "execution_count": 22,
     "metadata": {},
     "output_type": "execute_result"
    }
   ],
   "source": [
    "input_var=tf.Variable(3.)\n",
    "with tf.GradientTape() as tape:\n",
    "    result= tf.square(input_var)\n",
    "    gradient=tape.gradient(result, input_var)\n",
    "gradient"
   ]
  },
  {
   "cell_type": "code",
   "execution_count": 25,
   "id": "23ced450-c4b7-403c-a6f6-e9dc56bc3a13",
   "metadata": {
    "tags": []
   },
   "outputs": [
    {
     "data": {
      "text/plain": [
       "<tf.Tensor: shape=(), dtype=float32, numpy=6.0>"
      ]
     },
     "execution_count": 25,
     "metadata": {},
     "output_type": "execute_result"
    }
   ],
   "source": [
    "input_const=tf.constant(3.)\n",
    "with tf.GradientTape() as tape:\n",
    "    tape.watch(input_const)\n",
    "    result=tf.square(input_const)\n",
    "gradient = tape.gradient(result, input_const)\n",
    "gradient"
   ]
  },
  {
   "cell_type": "code",
   "execution_count": 26,
   "id": "fa0472f7-5d4d-420a-bbd1-c85e423a222d",
   "metadata": {
    "tags": []
   },
   "outputs": [],
   "source": [
    "##이계도 gradient 가속도 \n",
    "time = tf.Variable(0.)\n",
    "with tf.GradientTape() as outer_tape:\n",
    "    with tf.GradientTape() as inner_tape:\n",
    "        position = 4.9 * time ** 2 \n",
    "    speed = inner_tape.gradient(position,time)\n",
    "acceleration = outer_tape.gradient (speed,time)"
   ]
  },
  {
   "cell_type": "code",
   "execution_count": 27,
   "id": "abba78ea-61c6-48c0-858d-e6ec4ef6f9b2",
   "metadata": {
    "tags": []
   },
   "outputs": [
    {
     "data": {
      "text/plain": [
       "<tf.Tensor: shape=(), dtype=float32, numpy=9.8>"
      ]
     },
     "execution_count": 27,
     "metadata": {},
     "output_type": "execute_result"
    }
   ],
   "source": [
    "acceleration"
   ]
  },
  {
   "cell_type": "code",
   "execution_count": 28,
   "id": "8a8bb245-9f94-4e04-b8b7-3ddf028f5068",
   "metadata": {
    "tags": []
   },
   "outputs": [],
   "source": [
    "def one_training_step(model, images_batch, labels_batch):\n",
    "    with tf.GradientTape() as tape:\n",
    "        predictions = model(images_batch)\n",
    "        per_sample_losses = tf.keras.losses.sparse_categorical_crossentropy(labels_batch, predictions)\n",
    "        #정방향 패스 gradient block 안에서 \n",
    "        average_loss = tf.reduce_mean(per_sample_losses)\n",
    "    gradients=tape.gradient(average_loss,model.weights)\n",
    "    update_weights(gradients, model.weights) #가중치 업데이트 \n",
    "    return average_loss"
   ]
  },
  {
   "cell_type": "code",
   "execution_count": 30,
   "id": "f1f212f3-56f9-4732-8dec-621b2e904a85",
   "metadata": {
    "tags": []
   },
   "outputs": [],
   "source": [
    "#가중치 업데이트 수동 구현\n",
    "learning_rate=0.001\n",
    "def update_weights(gradients, weights):\n",
    "    for g,w in zip(gradients, weights):\n",
    "        w.assign_sub(g*learning_rate)\n",
    "\n",
    "        \n",
    "#옵티마이저 인스턴스로 자동구현 (실제로는)\n",
    "from tensorflow.keras import optimizers\n",
    "optimizer = optimizers.SGD(learning_rate=1e-3)\n",
    "\n",
    "def update_weights(gradients, weights):\n",
    "    optimizer.apply_gradients(zip(gradients, weights))"
   ]
  },
  {
   "cell_type": "code",
   "execution_count": null,
   "id": "e24370b8-62d7-4345-8155-9a8ab459b382",
   "metadata": {},
   "outputs": [],
   "source": [
    "class NaiveDense:\n",
    "    def __init__(self, input_size, output_size, activation):\n",
    "        self.activation = activation\n",
    "        w_shape = (input_size, output_size)\n",
    "        w_initial_value = tf.random.uniform (w_shape, minval=0, maxval=1e-1)\n",
    "        self.W = tf.Variable (w_initial_value)\n",
    "        \n",
    "        b_shape=(output_size, )\n",
    "        b_initial_value= tf.zeros(b_shape)\n",
    "        self.b = tf.Variable(b_initial_value)\n",
    "        "
   ]
  }
 ],
 "metadata": {
  "kernelspec": {
   "display_name": "Python 3 (ipykernel)",
   "language": "python",
   "name": "python3"
  },
  "language_info": {
   "codemirror_mode": {
    "name": "ipython",
    "version": 3
   },
   "file_extension": ".py",
   "mimetype": "text/x-python",
   "name": "python",
   "nbconvert_exporter": "python",
   "pygments_lexer": "ipython3",
   "version": "3.10.9"
  }
 },
 "nbformat": 4,
 "nbformat_minor": 5
}
