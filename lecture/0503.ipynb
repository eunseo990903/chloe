{
 "cells": [
  {
   "cell_type": "code",
   "execution_count": 1,
   "id": "35c942d3-cab8-4cec-81bc-2e3520115505",
   "metadata": {
    "tags": []
   },
   "outputs": [],
   "source": [
    "import sklearn\n",
    "import pandas as pd\n",
    "from sklearn.datasets import load_iris\n",
    "from sklearn.tree import DecisionTreeClassifier\n",
    "from sklearn.model_selection import train_test_split\n",
    "from sklearn.metrics import accuracy_score\n",
    "from sklearn.model_selection import GridSearchCV\n",
    "import numpy as np\n",
    "from sklearn.neighbors import KNeighborsClassifier\n",
    "from sklearn.ensemble import RandomForestClassifier\n",
    "from sklearn.ensemble import AdaBoostClassifier\n",
    "from sklearn.tree import DecisionTreeClassifier\n",
    "from sklearn.linear_model import LogisticRegression\n",
    "from sklearn.metrics import confusion_matrix, accuracy_score, precision_score, recall_score, f1_score\n",
    "from sklearn.metrics import roc_auc_score\n",
    "def get_clf_eval(y_test, pred=None, pred_proba=None):\n",
    "    confusion = confusion_matrix( y_test, pred)\n",
    "    accuracy = accuracy_score(y_test , pred)\n",
    "    precision = precision_score(y_test , pred)\n",
    "    recall = recall_score(y_test , pred)\n",
    "    f1 = f1_score(y_test,pred)\n",
    "    # ROC-AUC 추가 \n",
    "    roc_auc = roc_auc_score(y_test, pred_proba)\n",
    "    print('오차 행렬')\n",
    "    print(confusion)\n",
    "    # ROC-AUC print 추가\n",
    "    print('정확도: {0:.4f}, 정밀도: {1:.4f}, 재현율: {2:.4f},\\\n",
    "    F1: {3:.4f}, AUC:{4:.4f}'.format(accuracy, precision, recall, f1, roc_auc))  #위치정하는 것 {2: }-> 두번째\n",
    "    "
   ]
  },
  {
   "cell_type": "code",
   "execution_count": 2,
   "id": "6086f545-7ab0-452b-b1cd-536a3477dd50",
   "metadata": {
    "tags": []
   },
   "outputs": [
    {
     "data": {
      "text/plain": [
       "array([0.56215694, 0.00535282, 0.63047207, 0.46565165, 0.95708369,\n",
       "       0.77099067, 0.41776892, 0.74591101, 0.03159415, 0.55776096,\n",
       "       0.53836739, 0.8666259 , 0.10958107, 0.12337001, 0.85275315,\n",
       "       0.09334959, 0.40223927, 0.86910318, 0.65143683, 0.39940403])"
      ]
     },
     "execution_count": 2,
     "metadata": {},
     "output_type": "execute_result"
    }
   ],
   "source": [
    "#0-1까지 20개 \n",
    "np.random.rand(20)\n",
    "np.random.uniform(0,1,20)\n",
    "np.random.random(20)"
   ]
  },
  {
   "cell_type": "code",
   "execution_count": 3,
   "id": "71b5db0e-a5bf-4429-bbb2-e007692e1b1a",
   "metadata": {
    "tags": []
   },
   "outputs": [
    {
     "data": {
      "text/plain": [
       "array([0., 4., 1.])"
      ]
     },
     "execution_count": 3,
     "metadata": {},
     "output_type": "execute_result"
    },
    {
     "data": {
      "image/png": "[encoded data removed]",
      "text/plain": [
       "<Figure size 640x480 with 1 Axes>"
      ]
     },
     "metadata": {},
     "output_type": "display_data"
    }
   ],
   "source": [
    "# 다항회귀 코드 \n",
    "from sklearn.preprocessing import PolynomialFeatures\n",
    "import numpy as np\n",
    "import seaborn as sns\n",
    "from sklearn.linear_model import LinearRegression \n",
    "\n",
    "\n",
    "np.random.seed=1234\n",
    "X= np.arange(-10,10)\n",
    "y= 1+ 4*X + X**2 +np.random.randn(20) #random이 noise \n",
    "\n",
    "y\n",
    "\n",
    "sns.scatterplot(x=X,y=y)\n",
    "\n",
    "#다항회귀 계수 \n",
    "poly_ftr=PolynomialFeatures(degree=2).fit_transform(X.reshape(-1,1))\n",
    "model=LinearRegression()\n",
    "model.fit(poly_ftr,y)\n",
    "np.round(model.coef_) #원래답 y= 1+ 4*X + X**2 +np.random.randn(20) => 1,4,1"
   ]
  },
  {
   "cell_type": "raw",
   "id": "3e2ec206-e06e-4ddf-98e0-744c60c6876b",
   "metadata": {
    "tags": []
   },
   "source": [
    "시그모이드 함수\n",
    "y = 1 / (1 + np.exp(-x)) \n",
    "e=np.exp()"
   ]
  },
  {
   "cell_type": "code",
   "execution_count": null,
   "id": "2222f314-805b-476e-8ecc-036113885527",
   "metadata": {
    "tags": []
   },
   "outputs": [],
   "source": []
  },
  {
   "cell_type": "markdown",
   "id": "91755433-8f3c-43c8-bd87-7d3b64c4ec9f",
   "metadata": {},
   "source": [
    "* 10개의 변수로 전역탐색 할경우 2차 적용까지 고려한 변수 조합의 가짓수 \n",
    "10C1 + 10C2 = 10 + 45 = 55"
   ]
  },
  {
   "cell_type": "markdown",
   "id": "44c75f87-2e25-4736-8569-92bf689da628",
   "metadata": {},
   "source": [
    "# 로지스틱 회귀"
   ]
  },
  {
   "cell_type": "code",
   "execution_count": 4,
   "id": "1c8cb4d9-9a15-4ba2-92b7-c75ad902fd89",
   "metadata": {
    "tags": []
   },
   "outputs": [
    {
     "name": "stdout",
     "output_type": "stream",
     "text": [
      "정확도:0.9239766081871345, AUC:0.9166666666666666\n"
     ]
    }
   ],
   "source": [
    "from sklearn.datasets import load_breast_cancer\n",
    "\n",
    "cancer=load_breast_cancer()\n",
    "X= cancer.data[:,:5]\n",
    "from sklearn.preprocessing import StandardScaler\n",
    "#StandardScaler로 평균 0 분산 1 로 만듬 \n",
    "scaler=StandardScaler()\n",
    "data_scaled=scaler.fit_transform(cancer.data[:,:5])\n",
    "#쪼개기 \n",
    "X_train,X_test,y_train,y_test= train_test_split(data_scaled, cancer.target,\n",
    "                                               test_size=0.3, random_state=0)\n",
    "\n",
    "#로지스틱회귀 사용  디폴트 solver='lbfgs'\n",
    "lr_clf=LogisticRegression()\n",
    "lr_clf.fit(X_train,y_train)\n",
    "pred=lr_clf.predict(X_test)\n",
    "\n",
    "#accuracy 와 rocauc 측정\n",
    "acc=accuracy_score(y_test,pred)\n",
    "auc=roc_auc_score(y_test,pred)\n",
    "print(f\"정확도:{acc}, AUC:{auc}\")"
   ]
  },
  {
   "cell_type": "code",
   "execution_count": 5,
   "id": "63482bb6-eb8b-4483-951f-eb421591cb48",
   "metadata": {
    "tags": []
   },
   "outputs": [
    {
     "name": "stdout",
     "output_type": "stream",
     "text": [
      "solver:lbfgs,정확도:0.9239766081871345, AUC:0.9166666666666666\n",
      "solver:liblinear,정확도:0.9239766081871345, AUC:0.9166666666666666\n",
      "solver:newton-cg,정확도:0.9239766081871345, AUC:0.9166666666666666\n",
      "solver:newton-cholesky,정확도:0.9239766081871345, AUC:0.9166666666666666\n",
      "solver:sag,정확도:0.9239766081871345, AUC:0.9166666666666666\n",
      "solver:saga,정확도:0.9239766081871345, AUC:0.9166666666666666\n"
     ]
    }
   ],
   "source": [
    "#서로다른 solver값으로 logistic 학습\n",
    "\n",
    "solvers=['lbfgs','liblinear','newton-cg' ,'newton-cholesky' ,'sag', 'saga'  ]\n",
    "for solver in solvers:\n",
    "    lr_clf=LogisticRegression(solver=solver, max_iter=600)\n",
    "    lr_clf.fit(X_train,y_train)\n",
    "    pred=lr_clf.predict(X_test)\n",
    "\n",
    "#accuracy 와 rocauc 측정\n",
    "    print(\"solver:{0},정확도:{1}, AUC:{2}\".format(\n",
    "    solver,accuracy_score(y_test,pred),roc_auc_score(y_test,pred)))"
   ]
  },
  {
   "cell_type": "code",
   "execution_count": 6,
   "id": "4784de91-d162-4a7f-bcce-66f99ef59273",
   "metadata": {
    "tags": []
   },
   "outputs": [
    {
     "name": "stdout",
     "output_type": "stream",
     "text": [
      "최적파라미터: {'C': 0.2, 'penalty': 'l1', 'solver': 'saga'}의 정확도0.8421052631578947\n"
     ]
    }
   ],
   "source": [
    "#10-12만 뽑아서 파라미터 변경하고 최적 뽑기 \n",
    "import warnings\n",
    "warnings.filterwarnings('ignore')\n",
    "cancer = load_breast_cancer()\n",
    "cancer.data= cancer.data[:,10:12]\n",
    "x = scaler.fit_transform(cancer.data)\n",
    "x_tr,x_te,y_tr,y_te = train_test_split(x,cancer.target, test_size=0.2)\n",
    "lor = LogisticRegression()\n",
    "p = {'solver':['lbfgs', 'liblinear', 'saga','saga'], 'penalty':['l1','l2'], 'C':[0.01,0.1,0.2,0.5]}\n",
    "g = GridSearchCV(lor, param_grid=p,cv=5,scoring='accuracy', refit=True)\n",
    "g.fit(x_tr,y_tr)\n",
    "\n",
    "print(f\"최적파라미터: {g.best_params_}의 정확도{accuracy_score(y_te,g.best_estimator_.predict(x_te))}\")\n"
   ]
  },
  {
   "cell_type": "markdown",
   "id": "c8e329be-6159-449b-b931-e87230047fb7",
   "metadata": {
    "tags": []
   },
   "source": [
    "# 회귀 트리"
   ]
  },
  {
   "cell_type": "code",
   "execution_count": 7,
   "id": "3e97f08a-6473-4d3e-8ddb-d0b07bad9c7b",
   "metadata": {
    "tags": []
   },
   "outputs": [],
   "source": [
    "import pandas as pd\n",
    "url = \"https://archive.ics.uci.edu/ml/machine-learning-databases/housing/housing.data\"\n",
    "names = [\"CRIM\", \"ZN\", \"INDUS\", \"CHAS\", \"NOX\", \"RM\", \"AGE\", \"DIS\", \"RAD\", \"TAX\", \"PTRATIO\", \"B\", \"LSTAT\", \"MEDV\"]\n",
    "data = pd.read_csv(url, delim_whitespace=True, names=names) "
   ]
  },
  {
   "cell_type": "code",
   "execution_count": 8,
   "id": "bb07430a-7925-4d9b-b736-385840019341",
   "metadata": {
    "tags": []
   },
   "outputs": [
    {
     "data": {
      "text/html": [
       "<div>\n",
       "<style scoped>\n",
       "    .dataframe tbody tr th:only-of-type {\n",
       "        vertical-align: middle;\n",
       "    }\n",
       "\n",
       "    .dataframe tbody tr th {\n",
       "        vertical-align: top;\n",
       "    }\n",
       "\n",
       "    .dataframe thead th {\n",
       "        text-align: right;\n",
       "    }\n",
       "</style>\n",
       "<table border=\"1\" class=\"dataframe\">\n",
       "  <thead>\n",
       "    <tr style=\"text-align: right;\">\n",
       "      <th></th>\n",
       "      <th>crim</th>\n",
       "      <th>zn</th>\n",
       "      <th>indus</th>\n",
       "      <th>chas</th>\n",
       "      <th>nox</th>\n",
       "      <th>rm</th>\n",
       "      <th>age</th>\n",
       "      <th>dis</th>\n",
       "      <th>rad</th>\n",
       "      <th>tax</th>\n",
       "      <th>ptratio</th>\n",
       "      <th>b</th>\n",
       "      <th>lstat</th>\n",
       "      <th>price</th>\n",
       "    </tr>\n",
       "  </thead>\n",
       "  <tbody>\n",
       "    <tr>\n",
       "      <th>0</th>\n",
       "      <td>0.00632</td>\n",
       "      <td>18.0</td>\n",
       "      <td>2.31</td>\n",
       "      <td>0</td>\n",
       "      <td>0.538</td>\n",
       "      <td>6.575</td>\n",
       "      <td>65.2</td>\n",
       "      <td>4.0900</td>\n",
       "      <td>1</td>\n",
       "      <td>296.0</td>\n",
       "      <td>15.3</td>\n",
       "      <td>396.90</td>\n",
       "      <td>4.98</td>\n",
       "      <td>24.0</td>\n",
       "    </tr>\n",
       "    <tr>\n",
       "      <th>1</th>\n",
       "      <td>0.02731</td>\n",
       "      <td>0.0</td>\n",
       "      <td>7.07</td>\n",
       "      <td>0</td>\n",
       "      <td>0.469</td>\n",
       "      <td>6.421</td>\n",
       "      <td>78.9</td>\n",
       "      <td>4.9671</td>\n",
       "      <td>2</td>\n",
       "      <td>242.0</td>\n",
       "      <td>17.8</td>\n",
       "      <td>396.90</td>\n",
       "      <td>9.14</td>\n",
       "      <td>21.6</td>\n",
       "    </tr>\n",
       "    <tr>\n",
       "      <th>2</th>\n",
       "      <td>0.02729</td>\n",
       "      <td>0.0</td>\n",
       "      <td>7.07</td>\n",
       "      <td>0</td>\n",
       "      <td>0.469</td>\n",
       "      <td>7.185</td>\n",
       "      <td>61.1</td>\n",
       "      <td>4.9671</td>\n",
       "      <td>2</td>\n",
       "      <td>242.0</td>\n",
       "      <td>17.8</td>\n",
       "      <td>392.83</td>\n",
       "      <td>4.03</td>\n",
       "      <td>34.7</td>\n",
       "    </tr>\n",
       "    <tr>\n",
       "      <th>3</th>\n",
       "      <td>0.03237</td>\n",
       "      <td>0.0</td>\n",
       "      <td>2.18</td>\n",
       "      <td>0</td>\n",
       "      <td>0.458</td>\n",
       "      <td>6.998</td>\n",
       "      <td>45.8</td>\n",
       "      <td>6.0622</td>\n",
       "      <td>3</td>\n",
       "      <td>222.0</td>\n",
       "      <td>18.7</td>\n",
       "      <td>394.63</td>\n",
       "      <td>2.94</td>\n",
       "      <td>33.4</td>\n",
       "    </tr>\n",
       "    <tr>\n",
       "      <th>4</th>\n",
       "      <td>0.06905</td>\n",
       "      <td>0.0</td>\n",
       "      <td>2.18</td>\n",
       "      <td>0</td>\n",
       "      <td>0.458</td>\n",
       "      <td>7.147</td>\n",
       "      <td>54.2</td>\n",
       "      <td>6.0622</td>\n",
       "      <td>3</td>\n",
       "      <td>222.0</td>\n",
       "      <td>18.7</td>\n",
       "      <td>396.90</td>\n",
       "      <td>5.33</td>\n",
       "      <td>36.2</td>\n",
       "    </tr>\n",
       "    <tr>\n",
       "      <th>...</th>\n",
       "      <td>...</td>\n",
       "      <td>...</td>\n",
       "      <td>...</td>\n",
       "      <td>...</td>\n",
       "      <td>...</td>\n",
       "      <td>...</td>\n",
       "      <td>...</td>\n",
       "      <td>...</td>\n",
       "      <td>...</td>\n",
       "      <td>...</td>\n",
       "      <td>...</td>\n",
       "      <td>...</td>\n",
       "      <td>...</td>\n",
       "      <td>...</td>\n",
       "    </tr>\n",
       "    <tr>\n",
       "      <th>501</th>\n",
       "      <td>0.06263</td>\n",
       "      <td>0.0</td>\n",
       "      <td>11.93</td>\n",
       "      <td>0</td>\n",
       "      <td>0.573</td>\n",
       "      <td>6.593</td>\n",
       "      <td>69.1</td>\n",
       "      <td>2.4786</td>\n",
       "      <td>1</td>\n",
       "      <td>273.0</td>\n",
       "      <td>21.0</td>\n",
       "      <td>391.99</td>\n",
       "      <td>9.67</td>\n",
       "      <td>22.4</td>\n",
       "    </tr>\n",
       "    <tr>\n",
       "      <th>502</th>\n",
       "      <td>0.04527</td>\n",
       "      <td>0.0</td>\n",
       "      <td>11.93</td>\n",
       "      <td>0</td>\n",
       "      <td>0.573</td>\n",
       "      <td>6.120</td>\n",
       "      <td>76.7</td>\n",
       "      <td>2.2875</td>\n",
       "      <td>1</td>\n",
       "      <td>273.0</td>\n",
       "      <td>21.0</td>\n",
       "      <td>396.90</td>\n",
       "      <td>9.08</td>\n",
       "      <td>20.6</td>\n",
       "    </tr>\n",
       "    <tr>\n",
       "      <th>503</th>\n",
       "      <td>0.06076</td>\n",
       "      <td>0.0</td>\n",
       "      <td>11.93</td>\n",
       "      <td>0</td>\n",
       "      <td>0.573</td>\n",
       "      <td>6.976</td>\n",
       "      <td>91.0</td>\n",
       "      <td>2.1675</td>\n",
       "      <td>1</td>\n",
       "      <td>273.0</td>\n",
       "      <td>21.0</td>\n",
       "      <td>396.90</td>\n",
       "      <td>5.64</td>\n",
       "      <td>23.9</td>\n",
       "    </tr>\n",
       "    <tr>\n",
       "      <th>504</th>\n",
       "      <td>0.10959</td>\n",
       "      <td>0.0</td>\n",
       "      <td>11.93</td>\n",
       "      <td>0</td>\n",
       "      <td>0.573</td>\n",
       "      <td>6.794</td>\n",
       "      <td>89.3</td>\n",
       "      <td>2.3889</td>\n",
       "      <td>1</td>\n",
       "      <td>273.0</td>\n",
       "      <td>21.0</td>\n",
       "      <td>393.45</td>\n",
       "      <td>6.48</td>\n",
       "      <td>22.0</td>\n",
       "    </tr>\n",
       "    <tr>\n",
       "      <th>505</th>\n",
       "      <td>0.04741</td>\n",
       "      <td>0.0</td>\n",
       "      <td>11.93</td>\n",
       "      <td>0</td>\n",
       "      <td>0.573</td>\n",
       "      <td>6.030</td>\n",
       "      <td>80.8</td>\n",
       "      <td>2.5050</td>\n",
       "      <td>1</td>\n",
       "      <td>273.0</td>\n",
       "      <td>21.0</td>\n",
       "      <td>396.90</td>\n",
       "      <td>7.88</td>\n",
       "      <td>11.9</td>\n",
       "    </tr>\n",
       "  </tbody>\n",
       "</table>\n",
       "<p>506 rows × 14 columns</p>\n",
       "</div>"
      ],
      "text/plain": [
       "        crim    zn  indus  chas    nox     rm   age     dis  rad    tax  \\\n",
       "0    0.00632  18.0   2.31     0  0.538  6.575  65.2  4.0900    1  296.0   \n",
       "1    0.02731   0.0   7.07     0  0.469  6.421  78.9  4.9671    2  242.0   \n",
       "2    0.02729   0.0   7.07     0  0.469  7.185  61.1  4.9671    2  242.0   \n",
       "3    0.03237   0.0   2.18     0  0.458  6.998  45.8  6.0622    3  222.0   \n",
       "4    0.06905   0.0   2.18     0  0.458  7.147  54.2  6.0622    3  222.0   \n",
       "..       ...   ...    ...   ...    ...    ...   ...     ...  ...    ...   \n",
       "501  0.06263   0.0  11.93     0  0.573  6.593  69.1  2.4786    1  273.0   \n",
       "502  0.04527   0.0  11.93     0  0.573  6.120  76.7  2.2875    1  273.0   \n",
       "503  0.06076   0.0  11.93     0  0.573  6.976  91.0  2.1675    1  273.0   \n",
       "504  0.10959   0.0  11.93     0  0.573  6.794  89.3  2.3889    1  273.0   \n",
       "505  0.04741   0.0  11.93     0  0.573  6.030  80.8  2.5050    1  273.0   \n",
       "\n",
       "     ptratio       b  lstat  price  \n",
       "0       15.3  396.90   4.98   24.0  \n",
       "1       17.8  396.90   9.14   21.6  \n",
       "2       17.8  392.83   4.03   34.7  \n",
       "3       18.7  394.63   2.94   33.4  \n",
       "4       18.7  396.90   5.33   36.2  \n",
       "..       ...     ...    ...    ...  \n",
       "501     21.0  391.99   9.67   22.4  \n",
       "502     21.0  396.90   9.08   20.6  \n",
       "503     21.0  396.90   5.64   23.9  \n",
       "504     21.0  393.45   6.48   22.0  \n",
       "505     21.0  396.90   7.88   11.9  \n",
       "\n",
       "[506 rows x 14 columns]"
      ]
     },
     "execution_count": 8,
     "metadata": {},
     "output_type": "execute_result"
    }
   ],
   "source": [
    "#이름 바꾸기 \n",
    "data=data.rename(columns={'MEDV':'PRICE'}) \n",
    "#컬럼 소문자 \n",
    "data.columns=data.columns.str.lower()\n",
    "data.columns=[i.lower() for i in data.columns] \n",
    "data"
   ]
  },
  {
   "cell_type": "code",
   "execution_count": 11,
   "id": "1883f926-41af-407b-a5ff-7423cbcf4b1f",
   "metadata": {
    "tags": []
   },
   "outputs": [],
   "source": [
    "X_train,X_test,y_train,y_test=train_test_split(data.iloc[:,:-1],\n",
    "                                            data.iloc[:,-1],\n",
    "                                               test_size=0.3, random_state=0)"
   ]
  },
  {
   "cell_type": "code",
   "execution_count": 17,
   "id": "28effe7b-3fc5-4769-9af3-c36405888561",
   "metadata": {},
   "outputs": [
    {
     "name": "stderr",
     "output_type": "stream",
     "text": [
      "[Parallel(n_jobs=1)]: Using backend SequentialBackend with 1 concurrent workers.\n",
      "[Parallel(n_jobs=1)]: Done 100 out of 100 | elapsed:    0.2s finished\n",
      "[Parallel(n_jobs=1)]: Using backend SequentialBackend with 1 concurrent workers.\n",
      "[Parallel(n_jobs=1)]: Done 100 out of 100 | elapsed:    0.0s finished\n"
     ]
    },
    {
     "data": {
      "text/plain": [
       "14.497125473684216"
      ]
     },
     "execution_count": 17,
     "metadata": {},
     "output_type": "execute_result"
    }
   ],
   "source": [
    "#random Forest regressor 사용 \n",
    "from sklearn.ensemble import RandomForestRegressor\n",
    "rf_reg=RandomForestRegressor(verbose=1, random_state=0)\n",
    "rf_reg.fit(X_train,y_train)\n",
    "pred=rf_reg.predict(X_test)\n",
    "#실제값과 예측값의 차이 평균\n",
    "np.mean((pred-y_test)**2)\n",
    "from sklearn.metrics import mean_squared_error\n",
    "mean_squared_error(y_test,pred)\n"
   ]
  },
  {
   "cell_type": "code",
   "execution_count": 19,
   "id": "2cd88995-1281-4bcb-abc1-f23bae70f806",
   "metadata": {
    "tags": []
   },
   "outputs": [
    {
     "name": "stderr",
     "output_type": "stream",
     "text": [
      "[Parallel(n_jobs=1)]: Using backend SequentialBackend with 1 concurrent workers.\n",
      "[Parallel(n_jobs=1)]: Done 100 out of 100 | elapsed:    0.0s finished\n"
     ]
    },
    {
     "data": {
      "text/plain": [
       "array([ 8.187, 14.564])"
      ]
     },
     "execution_count": 19,
     "metadata": {},
     "output_type": "execute_result"
    }
   ],
   "source": [
    "rf_reg.predict(X_test[10:12])"
   ]
  },
  {
   "cell_type": "code",
   "execution_count": 30,
   "id": "fe60d92d-a632-4ecf-b7da-c83e97c780c1",
   "metadata": {
    "tags": []
   },
   "outputs": [
    {
     "name": "stdout",
     "output_type": "stream",
     "text": [
      "18.510691778258064\n"
     ]
    }
   ],
   "source": [
    "#decision tree, rf, gb,xgb,lgb 로 MSE 평가 지표 \n",
    "from sklearn.tree import DecisionTreeRegressor\n",
    "from sklearn.ensemble import GradientBoostingRegressor\n",
    "from xgboost import XGBRegressor\n",
    "from lightgbm import LGBMRegressor\n",
    "\n",
    "dt_reg=DecisionTreeRegressor(random_state=0, max_depth=4)\n",
    "rf_reg=RandomForestRegressor(random_state=0, n_estimators=100)\n",
    "gb_reg= GradientBoostingRegressor(random_state=0, n_estimators=100)\n",
    "xgb_reg=XGBRegressor(n_estimators=100)\n",
    "lgb_reg=LGBMRegressor(n_estimators=100)\n",
    "\n",
    "li=[dt_reg,rf_reg,gb_reg,xgb_reg,lgb_reg]\n",
    "for i in li:\n",
    "    i.fit(X_train,y_train)\n",
    "\n",
    "print(mean_squared_error(y_test,i.predict(X_test)))\n"
   ]
  },
  {
   "cell_type": "code",
   "execution_count": 33,
   "id": "c83be4ec-0c9f-4a7f-aff4-5561a9819207",
   "metadata": {
    "tags": []
   },
   "outputs": [
    {
     "name": "stdout",
     "output_type": "stream",
     "text": [
      "26.352039473684208\n",
      "17.680459460938792\n",
      "18.510691778258064\n",
      "14.497125473684216\n"
     ]
    }
   ],
   "source": [
    "#위에것 풀어쓴거 \n",
    "dtree_reg = DecisionTreeRegressor(random_state=0)\n",
    "rf_reg=RandomForestRegressor(random_state=0)\n",
    "xgb_reg = XGBRegressor(random_state = 0)\n",
    "lgbm_reg = LGBMRegressor(random_state= 0)\n",
    "\n",
    "dtree_reg.fit(X_train,y_train)\n",
    "rf_reg.fit(X_train,y_train)\n",
    "xgb_reg.fit(X_train,y_train)\n",
    "lgbm_reg.fit(X_train,y_train)\n",
    "\n",
    "pred1 = dtree_reg.predict(X_test)\n",
    "pred2 = xgb_reg.predict(X_test)\n",
    "pred3 = lgbm_reg.predict(X_test)\n",
    "pred4= rf_reg.predict(X_test)\n",
    "\n",
    "print(mean_squared_error(y_test,pred1))\n",
    "print(mean_squared_error(y_test,pred2))\n",
    "print(mean_squared_error(y_test,pred3))\n",
    "print(mean_squared_error(y_test,pred4))"
   ]
  },
  {
   "cell_type": "raw",
   "id": "e47ec26b-5c4d-4114-8dd9-2eefd8fce9ca",
   "metadata": {
    "tags": []
   },
   "source": [
    "오차의 제곱평균이라 낮은게 좋으나 과적합 생각하면 26.3 도 나쁘다 할 순 없음 "
   ]
  },
  {
   "cell_type": "code",
   "execution_count": 43,
   "id": "6c273d35-bbb3-49ae-b18e-1027b26fd9b8",
   "metadata": {
    "tags": []
   },
   "outputs": [
    {
     "name": "stdout",
     "output_type": "stream",
     "text": [
      "1.0\n"
     ]
    },
    {
     "data": {
      "text/plain": [
       "array(['crim', 'zn', 'indus', 'chas', 'nox', 'rm', 'age', 'dis', 'rad',\n",
       "       'tax', 'ptratio', 'b', 'lstat'], dtype=object)"
      ]
     },
     "execution_count": 43,
     "metadata": {},
     "output_type": "execute_result"
    }
   ],
   "source": [
    "print(np.sum(rf_reg.feature_importances_))\n",
    "rf_reg.feature_importances_\n",
    "# 다 더하면 1 , 변수의 확률이라고 생각\n",
    "rf_reg.feature_names_in_"
   ]
  },
  {
   "cell_type": "code",
   "execution_count": 51,
   "id": "b5b3a77f-c1ee-40f3-b142-6e37b7840fbe",
   "metadata": {
    "tags": []
   },
   "outputs": [
    {
     "data": {
      "text/html": [
       "<div>\n",
       "<style scoped>\n",
       "    .dataframe tbody tr th:only-of-type {\n",
       "        vertical-align: middle;\n",
       "    }\n",
       "\n",
       "    .dataframe tbody tr th {\n",
       "        vertical-align: top;\n",
       "    }\n",
       "\n",
       "    .dataframe thead th {\n",
       "        text-align: right;\n",
       "    }\n",
       "</style>\n",
       "<table border=\"1\" class=\"dataframe\">\n",
       "  <thead>\n",
       "    <tr style=\"text-align: right;\">\n",
       "      <th></th>\n",
       "      <th>importance</th>\n",
       "    </tr>\n",
       "  </thead>\n",
       "  <tbody>\n",
       "    <tr>\n",
       "      <th>rm</th>\n",
       "      <td>0.420392</td>\n",
       "    </tr>\n",
       "    <tr>\n",
       "      <th>lstat</th>\n",
       "      <td>0.409189</td>\n",
       "    </tr>\n",
       "    <tr>\n",
       "      <th>dis</th>\n",
       "      <td>0.041786</td>\n",
       "    </tr>\n",
       "    <tr>\n",
       "      <th>crim</th>\n",
       "      <td>0.033169</td>\n",
       "    </tr>\n",
       "    <tr>\n",
       "      <th>ptratio</th>\n",
       "      <td>0.022329</td>\n",
       "    </tr>\n",
       "  </tbody>\n",
       "</table>\n",
       "</div>"
      ],
      "text/plain": [
       "         importance\n",
       "rm         0.420392\n",
       "lstat      0.409189\n",
       "dis        0.041786\n",
       "crim       0.033169\n",
       "ptratio    0.022329"
      ]
     },
     "execution_count": 51,
     "metadata": {},
     "output_type": "execute_result"
    }
   ],
   "source": [
    "temp=pd.DataFrame(rf_reg.feature_importances_,rf_reg.feature_names_in_, columns=['importance'])\n",
    "temp.sort_values('importance',ascending=False)[:5]"
   ]
  },
  {
   "cell_type": "code",
   "execution_count": null,
   "id": "234d3789-36d8-4edd-9c66-6f603a7d6229",
   "metadata": {},
   "outputs": [],
   "source": []
  }
 ],
 "metadata": {
  "kernelspec": {
   "display_name": "Python 3 (ipykernel)",
   "language": "python",
   "name": "python3"
  },
  "language_info": {
   "codemirror_mode": {
    "name": "ipython",
    "version": 3
   },
   "file_extension": ".py",
   "mimetype": "text/x-python",
   "name": "python",
   "nbconvert_exporter": "python",
   "pygments_lexer": "ipython3",
   "version": "3.10.9"
  }
 },
 "nbformat": 4,
 "nbformat_minor": 5
}
