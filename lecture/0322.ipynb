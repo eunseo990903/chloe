{
 "cells": [
  {
   "cell_type": "markdown",
   "id": "268a3c02-cb7f-4798-887f-a6d57ae69305",
   "metadata": {},
   "source": [
    "## 복습"
   ]
  },
  {
   "cell_type": "code",
   "execution_count": null,
   "id": "1604f03d-ad01-4118-af06-878fcfec03b6",
   "metadata": {},
   "outputs": [],
   "source": [
    "\\d{3}-\\d(4}-\\d{4}\n",
    "p=re.compile[\\w@\\[a-zA-Z].com]"
   ]
  },
  {
   "cell_type": "code",
   "execution_count": 18,
   "id": "b5e1227b-9d8a-4204-b59f-676c3178faf7",
   "metadata": {
    "tags": []
   },
   "outputs": [
    {
     "data": {
      "text/plain": [
       "\"['신촌', '이대', '잠실', '홍대', '강남', '성수']\""
      ]
     },
     "execution_count": 18,
     "metadata": {},
     "output_type": "execute_result"
    }
   ],
   "source": [
    "import re\n",
    "stations = ['신촌역', '이대역', '잠실역', '홍대역', '강남역', '성수역'] \n",
    "p=re.compile('역')\n",
    "p.sub('',str(stations)) #리스트라 str에러 뜨면 str묶어줌 "
   ]
  },
  {
   "cell_type": "code",
   "execution_count": 31,
   "id": "bfcb0f15-329c-42c5-980c-8aaf8982675f",
   "metadata": {
    "tags": []
   },
   "outputs": [
    {
     "data": {
      "text/plain": [
       "['신촌', '이대', '잠실', '홍대', '강남', '성수']"
      ]
     },
     "execution_count": 31,
     "metadata": {},
     "output_type": "execute_result"
    }
   ],
   "source": [
    "import re\n",
    "stations = ['신촌역', '이대역', '잠실역', '홍대역', '강남역', '성수역'] \n",
    "p=re.compile('역')\n",
    "li=[]\n",
    "for station in stations:\n",
    "    li.append(p.sub('',station)) #str말고도 for loop로 쓰기 가능.\n",
    "li\n"
   ]
  },
  {
   "cell_type": "code",
   "execution_count": 58,
   "id": "1cfaf4e3-9798-4b8e-8237-94847d2d901e",
   "metadata": {
    "tags": []
   },
   "outputs": [
    {
     "data": {
      "text/plain": [
       "['2 apples', '1 cherry']"
      ]
     },
     "execution_count": 58,
     "metadata": {},
     "output_type": "execute_result"
    }
   ],
   "source": [
    "#2 apples, 1cherry 뽑기\n",
    "string = \"I have 2 apples and 1 cherry\" \n",
    "p=re.compile(\"\\d \\w*\")  #+,*,{5,6} 가능  ,\\s =그냥 스페이스 바 눌러도돼\n",
    "p.findall(string)\n"
   ]
  },
  {
   "cell_type": "code",
   "execution_count": 55,
   "id": "b7c61115-b763-45b7-bb22-88932ae4619e",
   "metadata": {
    "tags": []
   },
   "outputs": [
    {
     "name": "stdout",
     "output_type": "stream",
     "text": [
      "2 apples\n",
      "1 cherry\n"
     ]
    }
   ],
   "source": [
    "for i in p.finditer(string):\n",
    "    print(i.group())"
   ]
  },
  {
   "cell_type": "code",
   "execution_count": 120,
   "id": "8bdf168c-151b-4a74-85d4-953b5c2d299f",
   "metadata": {
    "tags": []
   },
   "outputs": [
    {
     "name": "stdout",
     "output_type": "stream",
     "text": [
      "0314.ipynb\n",
      "0315.ipynb\n",
      "0316.ipynb\n",
      "0317.ipynb\n",
      "0320.ipynb\n",
      "0321.ipynb\n",
      "0322.ipynb\n",
      "1.py\n",
      "a.txt\n",
      "b.txt\n",
      "memo.py\n",
      "memo.txt\n",
      "multiply.txt\n",
      "python1.ipynb\n",
      "sys1.py\n",
      "tabto4.py\n",
      "test.txt\n",
      "test1.py\n",
      "test2.py\n",
      "Untitled.ipynb\n",
      "untitled.py\n",
      "untitled.txt\n"
     ]
    }
   ],
   "source": [
    "#py, ipynb ,txt 확장자만 뽑기 \n",
    "import os\n",
    "li= os.listdir()\n",
    "p=re.compile(\"\\w+[.](py$|ipynb$|txt$)\")\n",
    "for i in li:\n",
    "    try:\n",
    "        print(p.search(i).group())\n",
    "    except:\n",
    "        pass\n",
    "#nontype 나오면 try, except 사용해서 에러나도 돌아가게 !! \n"
   ]
  },
  {
   "cell_type": "code",
   "execution_count": 133,
   "id": "bfe07a91-2d92-4712-828c-b5e46fa7091b",
   "metadata": {
    "tags": []
   },
   "outputs": [
    {
     "name": "stdout",
     "output_type": "stream",
     "text": [
      "dress\n",
      "pressure\n"
     ]
    }
   ],
   "source": [
    "#ress 있는것 뽑기 \n",
    "list = ['acres', 'dress', 'correspond','fresh', 'pressure']\n",
    "p=re.compile('\\w*ress\\w*')\n",
    "for i in list:\n",
    "    try: \n",
    "        print(p.search(i).group())\n",
    "    except:\n",
    "        pass"
   ]
  },
  {
   "cell_type": "code",
   "execution_count": 132,
   "id": "fb7133b8-7514-47db-ab9f-6041e5640e76",
   "metadata": {
    "tags": []
   },
   "outputs": [
    {
     "name": "stdout",
     "output_type": "stream",
     "text": [
      "dress\n",
      "pressure\n"
     ]
    }
   ],
   "source": [
    "#if절 사용 \n",
    "list = ['acres', 'dress', 'correspond','fresh', 'pressure'] \n",
    "p=re.compile('\\w*ress\\w*')\n",
    "for i in list:\n",
    "    if p.search(i):\n",
    "        print(p.search(i).group())\n"
   ]
  },
  {
   "cell_type": "code",
   "execution_count": 135,
   "id": "cfe0515f-3e8e-4227-9f17-6d5a30c56c10",
   "metadata": {
    "tags": []
   },
   "outputs": [
    {
     "data": {
      "text/plain": [
       "'Have a nice *'"
      ]
     },
     "execution_count": 135,
     "metadata": {},
     "output_type": "execute_result"
    }
   ],
   "source": [
    "#문장하나일경우는 recompile에 단어하나만 집어도 가능 , 콤마로 나눠져있으면 조건표시 \n",
    "string=\"Have a nice day\"\n",
    "p=re.compile(\"day\")\n",
    "p.sub('*',string)"
   ]
  },
  {
   "cell_type": "code",
   "execution_count": 158,
   "id": "9b76f99c-b1f3-452b-826d-eff80856b4c3",
   "metadata": {
    "tags": []
   },
   "outputs": [
    {
     "name": "stdout",
     "output_type": "stream",
     "text": [
      "python-402\n",
      "python-302\n"
     ]
    }
   ],
   "source": [
    "a= [\"python-402\",\"python-302\", \"java-201\",\"java 401\"] \n",
    "p=re.compile(\"python-\\d*\")\n",
    "for i in a:\n",
    "    try:\n",
    "        print(p.search(i).group())\n",
    "    except:\n",
    "        pass"
   ]
  },
  {
   "cell_type": "code",
   "execution_count": 186,
   "id": "9bcf23db-49fa-49e9-bd7e-08f01892f48e",
   "metadata": {
    "tags": []
   },
   "outputs": [
    {
     "data": {
      "text/plain": [
       "True"
      ]
     },
     "execution_count": 186,
     "metadata": {},
     "output_type": "execute_result"
    }
   ],
   "source": [
    "\n",
    "p=re.compile('010-\\d{4}-\\d{4}')\n",
    "\n",
    "def is_phone_number(n):\n",
    "    if p.search(n):\n",
    "        return True\n",
    "    else: \n",
    "        return False\n",
    "is_phone_number('010-3494-3949')"
   ]
  },
  {
   "cell_type": "code",
   "execution_count": 4,
   "id": "4de56d36-9a25-4545-93c1-387c5d743cb3",
   "metadata": {
    "tags": []
   },
   "outputs": [],
   "source": [
    "import re\n",
    "phonelist = ['010-456-7892', '010-2345-1234', '013-123-1231', '011-123-1234'] \n",
    "p=re.compile('010-\\d{4}-\\d{4}')\n",
    "\n",
    "def is_phone_number(n):\n",
    "    if p.search(n):\n",
    "        return True\n",
    "    else: \n",
    "        return False"
   ]
  },
  {
   "cell_type": "code",
   "execution_count": 5,
   "id": "c26d44f8-de2d-458b-9bcc-22d776d85f99",
   "metadata": {
    "tags": []
   },
   "outputs": [
    {
     "data": {
      "text/plain": [
       "['010-2345-1234']"
      ]
     },
     "execution_count": 5,
     "metadata": {},
     "output_type": "execute_result"
    }
   ],
   "source": [
    "phonelist = ['010-456-7892', '010-2345-1234', '013-123-1231', '011-123-1234'] \n",
    "p=re.compile('010-\\d{4}-\\d{4}')\n",
    "\n",
    "def is_phone_number(n):\n",
    "    if p.search (n):\n",
    "        return True\n",
    "    else: \n",
    "        return False\n",
    "list(filter(is_phone_number, phonelist))\n",
    "\n",
    "#map : T,F로 나와서 사용못함, filter: 하나씩 맞춰봄 "
   ]
  },
  {
   "cell_type": "code",
   "execution_count": null,
   "id": "56c0b90d-6ab4-4347-ac83-d937f89fd144",
   "metadata": {
    "tags": []
   },
   "outputs": [
    {
     "ename": "NameError",
     "evalue": "name 'list' is not defined",
     "output_type": "error",
     "traceback": [
      "\u001b[1;31m---------------------------------------------------------------------------\u001b[0m",
      "\u001b[1;31mNameError\u001b[0m                                 Traceback (most recent call last)",
      "Cell \u001b[1;32mIn[6], line 1\u001b[0m\n\u001b[1;32m----> 1\u001b[0m \u001b[38;5;28;01mdel\u001b[39;00m \u001b[38;5;28mlist\u001b[39m\n",
      "\u001b[1;31mNameError\u001b[0m: name 'list' is not defined"
     ]
    }
   ],
   "source": [
    "del list"
   ]
  },
  {
   "cell_type": "code",
   "execution_count": 16,
   "id": "ef68f73a-c4d3-46c2-9e83-9c7907b1799b",
   "metadata": {
    "tags": []
   },
   "outputs": [
    {
     "data": {
      "text/plain": [
       "736"
      ]
     },
     "execution_count": 16,
     "metadata": {},
     "output_type": "execute_result"
    }
   ],
   "source": [
    "import random\n",
    "import re\n",
    "a=random.randint(1,1000)\n",
    "a"
   ]
  },
  {
   "cell_type": "code",
   "execution_count": 20,
   "id": "c048d205-c91f-4b08-b0d2-f0b930c9d4fb",
   "metadata": {
    "tags": []
   },
   "outputs": [
    {
     "data": {
      "text/plain": [
       "[783,\n",
       " 886,\n",
       " 419,\n",
       " 99,\n",
       " 668,\n",
       " 421,\n",
       " 430,\n",
       " 989,\n",
       " 722,\n",
       " 747,\n",
       " 698,\n",
       " 771,\n",
       " 853,\n",
       " 861,\n",
       " 517,\n",
       " 539,\n",
       " 689,\n",
       " 745,\n",
       " 283,\n",
       " 252,\n",
       " 694,\n",
       " 904,\n",
       " 117,\n",
       " 692,\n",
       " 273,\n",
       " 832,\n",
       " 396,\n",
       " 225,\n",
       " 102,\n",
       " 882,\n",
       " 425,\n",
       " 706,\n",
       " 853,\n",
       " 851,\n",
       " 32,\n",
       " 237,\n",
       " 866,\n",
       " 88,\n",
       " 217,\n",
       " 427,\n",
       " 381,\n",
       " 52,\n",
       " 324,\n",
       " 976,\n",
       " 738,\n",
       " 424,\n",
       " 732,\n",
       " 301,\n",
       " 45,\n",
       " 951,\n",
       " 371,\n",
       " 418,\n",
       " 428,\n",
       " 878,\n",
       " 998,\n",
       " 465,\n",
       " 221,\n",
       " 619,\n",
       " 846,\n",
       " 620,\n",
       " 389,\n",
       " 2,\n",
       " 821,\n",
       " 333,\n",
       " 560,\n",
       " 246,\n",
       " 762,\n",
       " 182,\n",
       " 28,\n",
       " 990,\n",
       " 652,\n",
       " 918,\n",
       " 801,\n",
       " 707,\n",
       " 74,\n",
       " 228,\n",
       " 915,\n",
       " 25,\n",
       " 851,\n",
       " 352,\n",
       " 156,\n",
       " 941,\n",
       " 549,\n",
       " 419,\n",
       " 947,\n",
       " 505,\n",
       " 264,\n",
       " 884,\n",
       " 556,\n",
       " 589,\n",
       " 742,\n",
       " 867,\n",
       " 218,\n",
       " 929,\n",
       " 520,\n",
       " 398,\n",
       " 757,\n",
       " 944,\n",
       " 851,\n",
       " 593]"
      ]
     },
     "execution_count": 20,
     "metadata": {},
     "output_type": "execute_result"
    }
   ],
   "source": [
    "#중복가능 100개를 리스트에 모아주기 \n",
    "numbers=[]\n",
    "numbers= random.choices(range(1,1001), k=100)\n",
    "numbers"
   ]
  },
  {
   "cell_type": "raw",
   "id": "61a87eae-4d66-4015-ba23-c8d793e074bc",
   "metadata": {
    "tags": []
   },
   "source": [
    "#list comprehension\n",
    "numbers=[random.randint(1,1000) for i in range (100)]\n",
    "numbers"
   ]
  },
  {
   "cell_type": "code",
   "execution_count": 21,
   "id": "cad7ad5a-59f4-46fd-9848-57815cbc79b8",
   "metadata": {
    "tags": []
   },
   "outputs": [
    {
     "name": "stdout",
     "output_type": "stream",
     "text": [
      "19\n"
     ]
    }
   ],
   "source": [
    "count =0\n",
    "for i in numbers:\n",
    "    if i>= 300 and i <= 500:\n",
    "        count += 1\n",
    "\n",
    "print(count)"
   ]
  },
  {
   "cell_type": "code",
   "execution_count": 22,
   "id": "58add126-f4f1-4944-ba24-9b1ec807e754",
   "metadata": {
    "tags": []
   },
   "outputs": [
    {
     "data": {
      "text/plain": [
       "19"
      ]
     },
     "execution_count": 22,
     "metadata": {},
     "output_type": "execute_result"
    }
   ],
   "source": [
    "len(list(filter(lambda x:x>=300 and x<=500,numbers)))  "
   ]
  },
  {
   "cell_type": "code",
   "execution_count": 39,
   "id": "fb67c204-861c-4699-b1c8-814e8ad39264",
   "metadata": {
    "tags": []
   },
   "outputs": [
    {
     "name": "stdout",
     "output_type": "stream",
     "text": [
      "Unexpected exception formatting exception. Falling back to standard exception\n"
     ]
    },
    {
     "name": "stderr",
     "output_type": "stream",
     "text": [
      "Traceback (most recent call last):\n",
      "  File \"C:\\Users\\user\\AppData\\Local\\Programs\\Python\\Python310\\lib\\site-packages\\IPython\\core\\interactiveshell.py\", line 3460, in run_code\n",
      "    exec(code_obj, self.user_global_ns, self.user_ns)\n",
      "  File \"C:\\Users\\user\\AppData\\Local\\Temp\\ipykernel_9572\\664881945.py\", line 3, in <module>\n",
      "    len(p.findall(str1(numbers)))\n",
      "AttributeError: 'str' object has no attribute 'findall'\n",
      "\n",
      "During handling of the above exception, another exception occurred:\n",
      "\n",
      "Traceback (most recent call last):\n",
      "  File \"C:\\Users\\user\\AppData\\Local\\Programs\\Python\\Python310\\lib\\site-packages\\IPython\\core\\interactiveshell.py\", line 2057, in showtraceback\n",
      "    stb = self.InteractiveTB.structured_traceback(\n",
      "  File \"C:\\Users\\user\\AppData\\Local\\Programs\\Python\\Python310\\lib\\site-packages\\IPython\\core\\ultratb.py\", line 1288, in structured_traceback\n",
      "    return FormattedTB.structured_traceback(\n",
      "  File \"C:\\Users\\user\\AppData\\Local\\Programs\\Python\\Python310\\lib\\site-packages\\IPython\\core\\ultratb.py\", line 1177, in structured_traceback\n",
      "    return VerboseTB.structured_traceback(\n",
      "  File \"C:\\Users\\user\\AppData\\Local\\Programs\\Python\\Python310\\lib\\site-packages\\IPython\\core\\ultratb.py\", line 1030, in structured_traceback\n",
      "    formatted_exception = self.format_exception_as_a_whole(etype, evalue, etb, number_of_lines_of_context,\n",
      "  File \"C:\\Users\\user\\AppData\\Local\\Programs\\Python\\Python310\\lib\\site-packages\\IPython\\core\\ultratb.py\", line 935, in format_exception_as_a_whole\n",
      "    self.get_records(etb, number_of_lines_of_context, tb_offset) if etb else []\n",
      "  File \"C:\\Users\\user\\AppData\\Local\\Programs\\Python\\Python310\\lib\\site-packages\\IPython\\core\\ultratb.py\", line 1003, in get_records\n",
      "    lines, first = inspect.getsourcelines(etb.tb_frame)\n",
      "  File \"C:\\Users\\user\\AppData\\Local\\Programs\\Python\\Python310\\lib\\inspect.py\", line 1129, in getsourcelines\n",
      "    lines, lnum = findsource(object)\n",
      "  File \"C:\\Users\\user\\AppData\\Local\\Programs\\Python\\Python310\\lib\\inspect.py\", line 988, in findsource\n",
      "    pat = re.compile(r'^(\\s*def\\s)|(\\s*async\\s+def\\s)|(.*(?<!\\w)lambda(:|\\s))|^(\\s*@)')\n",
      "TypeError: 'str' object is not callable\n"
     ]
    }
   ],
   "source": [
    "p= re.compile=('[300-500]')\n",
    "\n",
    "len(p.findall(str1(numbers)))\n",
    "\n"
   ]
  },
  {
   "cell_type": "code",
   "execution_count": 38,
   "id": "5712d244-ad17-476a-9819-1da9c777325f",
   "metadata": {},
   "outputs": [
    {
     "name": "stdout",
     "output_type": "stream",
     "text": [
      "Unexpected exception formatting exception. Falling back to standard exception\n"
     ]
    },
    {
     "name": "stderr",
     "output_type": "stream",
     "text": [
      "Traceback (most recent call last):\n",
      "  File \"C:\\Users\\user\\AppData\\Local\\Programs\\Python\\Python310\\lib\\site-packages\\IPython\\core\\interactiveshell.py\", line 3460, in run_code\n",
      "    exec(code_obj, self.user_global_ns, self.user_ns)\n",
      "  File \"C:\\Users\\user\\AppData\\Local\\Temp\\ipykernel_9572\\2198027272.py\", line 1, in <module>\n",
      "    p = re.compile('(3|4)\\d{2}|500')\n",
      "TypeError: 'str' object is not callable\n",
      "\n",
      "During handling of the above exception, another exception occurred:\n",
      "\n",
      "Traceback (most recent call last):\n",
      "  File \"C:\\Users\\user\\AppData\\Local\\Programs\\Python\\Python310\\lib\\site-packages\\IPython\\core\\interactiveshell.py\", line 2057, in showtraceback\n",
      "    stb = self.InteractiveTB.structured_traceback(\n",
      "  File \"C:\\Users\\user\\AppData\\Local\\Programs\\Python\\Python310\\lib\\site-packages\\IPython\\core\\ultratb.py\", line 1288, in structured_traceback\n",
      "    return FormattedTB.structured_traceback(\n",
      "  File \"C:\\Users\\user\\AppData\\Local\\Programs\\Python\\Python310\\lib\\site-packages\\IPython\\core\\ultratb.py\", line 1177, in structured_traceback\n",
      "    return VerboseTB.structured_traceback(\n",
      "  File \"C:\\Users\\user\\AppData\\Local\\Programs\\Python\\Python310\\lib\\site-packages\\IPython\\core\\ultratb.py\", line 1030, in structured_traceback\n",
      "    formatted_exception = self.format_exception_as_a_whole(etype, evalue, etb, number_of_lines_of_context,\n",
      "  File \"C:\\Users\\user\\AppData\\Local\\Programs\\Python\\Python310\\lib\\site-packages\\IPython\\core\\ultratb.py\", line 935, in format_exception_as_a_whole\n",
      "    self.get_records(etb, number_of_lines_of_context, tb_offset) if etb else []\n",
      "  File \"C:\\Users\\user\\AppData\\Local\\Programs\\Python\\Python310\\lib\\site-packages\\IPython\\core\\ultratb.py\", line 1003, in get_records\n",
      "    lines, first = inspect.getsourcelines(etb.tb_frame)\n",
      "  File \"C:\\Users\\user\\AppData\\Local\\Programs\\Python\\Python310\\lib\\inspect.py\", line 1129, in getsourcelines\n",
      "    lines, lnum = findsource(object)\n",
      "  File \"C:\\Users\\user\\AppData\\Local\\Programs\\Python\\Python310\\lib\\inspect.py\", line 988, in findsource\n",
      "    pat = re.compile(r'^(\\s*def\\s)|(\\s*async\\s+def\\s)|(.*(?<!\\w)lambda(:|\\s))|^(\\s*@)')\n",
      "TypeError: 'str' object is not callable\n"
     ]
    }
   ],
   "source": [
    "p = re.compile('(3|4)\\d{2}|500')\n",
    "li = []\n",
    "for i in numbers:\n",
    "    try: \n",
    "        li.append(\n",
    "p.search\n",
    "(str(i)).group())\n",
    "    except:\n",
    "        pass\n",
    "len(li) "
   ]
  },
  {
   "cell_type": "markdown",
   "id": "947ed67a-be0c-4d31-b471-e66823430c98",
   "metadata": {},
   "source": [
    "## 컴파일 옵션 "
   ]
  },
  {
   "cell_type": "code",
   "execution_count": 12,
   "id": "761e85c9-6d32-4bda-bc78-b52ab65143bc",
   "metadata": {},
   "outputs": [
    {
     "data": {
      "text/plain": [
       "['python one', 'python two', 'python three']"
      ]
     },
     "execution_count": 12,
     "metadata": {},
     "output_type": "execute_result"
    }
   ],
   "source": [
    "import re\n",
    "data = \"\"\"python one\n",
    "life is too short\n",
    "python two\n",
    "you need python\n",
    "python three\"\"\" \n",
    "p=re.compile(\"^python.*\",re.M)\n",
    "p.findall(data)"
   ]
  },
  {
   "cell_type": "markdown",
   "id": "0bbd348d-0b82-4eaa-8b0e-c4ba01f86f8d",
   "metadata": {},
   "source": [
    "## Grouping"
   ]
  },
  {
   "cell_type": "code",
   "execution_count": 30,
   "id": "e650370b-60e0-4b05-9675-8398a2e9cda2",
   "metadata": {
    "tags": []
   },
   "outputs": [
    {
     "data": {
      "text/plain": [
       "'010'"
      ]
     },
     "execution_count": 30,
     "metadata": {},
     "output_type": "execute_result"
    }
   ],
   "source": [
    "p=re.compile(r\"(\\w+)\\s+(\\d+)[-]\\d+[-]\\d+\")\n",
    "m=\"park 010-1234-1234\"\n",
    "p.search(m).group(2)  "
   ]
  },
  {
   "cell_type": "code",
   "execution_count": 42,
   "id": "146742bb-ac2b-4cc7-8377-7c18bc65ba84",
   "metadata": {
    "tags": []
   },
   "outputs": [],
   "source": [
    "p= re.compile(r'(\\b\\w)\\s+\\1')\n",
    "try:\n",
    "    print(p.search('Paris in the the spring').group())\n",
    "except:\n",
    "    pass"
   ]
  },
  {
   "cell_type": "code",
   "execution_count": 46,
   "id": "299fac96-0e51-4d9e-94cd-19e06397f9cf",
   "metadata": {
    "tags": []
   },
   "outputs": [
    {
     "name": "stdout",
     "output_type": "stream",
     "text": [
      "park\n",
      "park\n",
      "park\n",
      "park\n"
     ]
    }
   ],
   "source": [
    "#park 만 뽑기 #그루핑\n",
    "strings = ['park 010-1234-1234', 'park 010-1234-1235', \n",
    "           'park 010-1234-1236', 'park 010-1234-1237']\n",
    "p=re.compile(r\"(\\w+)\\s+(\\d+)[-]\\d+[-]\\d+\")\n",
    "for i in strings:\n",
    "    print(p.search(i).group(1))"
   ]
  },
  {
   "cell_type": "code",
   "execution_count": 45,
   "id": "729b0719-4ac7-4060-a7cc-132ff13d957b",
   "metadata": {
    "tags": []
   },
   "outputs": [
    {
     "name": "stdout",
     "output_type": "stream",
     "text": [
      "park\n",
      "park\n",
      "park\n",
      "park\n"
     ]
    }
   ],
   "source": [
    "#이름 지정해서 \n",
    "strings = ['park 010-1234-1234', 'park 010-1234-1235', \n",
    "           'park 010-1234-1236', 'park 010-1234-1237']\n",
    "p=re.compile(r\"(?P<name>\\w{4})\\s\\S*\")\n",
    "for i in strings:\n",
    "    if p.search(i):\n",
    "        print(p.search(i).group(\"name\"))\n",
    "\n"
   ]
  },
  {
   "cell_type": "code",
   "execution_count": 83,
   "id": "3fe84b18-d853-435f-8a3e-4b92bfff5fb1",
   "metadata": {
    "tags": []
   },
   "outputs": [
    {
     "data": {
      "text/plain": [
       "['그리고', '또', '그런데', '끝']"
      ]
     },
     "execution_count": 83,
     "metadata": {},
     "output_type": "execute_result"
    }
   ],
   "source": [
    "string = '''\n",
    "안녕하세요 그리고 그리고\n",
    "안녕하세요 또 또\n",
    "안녕하세요 그런데 그런데 \n",
    "안녕하세요 끝 끝\n",
    "''' \n",
    "p=re.compile(r'(\\b\\w+)\\s+\\1',re.M)\n",
    "p.findall(string)\n"
   ]
  },
  {
   "cell_type": "code",
   "execution_count": 72,
   "id": "d61426b4-bf8c-4013-a767-365f2203e0e4",
   "metadata": {
    "tags": []
   },
   "outputs": [
    {
     "name": "stdout",
     "output_type": "stream",
     "text": [
      "<re.Match object; span=(7, 14), match='그리고 그리고'>\n",
      "<re.Match object; span=(21, 24), match='또 또'>\n",
      "<re.Match object; span=(31, 38), match='그런데 그런데'>\n",
      "<re.Match object; span=(46, 49), match='끝 끝'>\n"
     ]
    }
   ],
   "source": [
    "p=re.compile(\"(?P<word>\\w+)\\s(?P=word)\")\n",
    "for i in p.finditer(string):\n",
    "    print (i)"
   ]
  },
  {
   "cell_type": "markdown",
   "id": "3b6a8e9d-c3ad-439c-bd29-cca6bf39c008",
   "metadata": {},
   "source": [
    "## 전방탐색"
   ]
  },
  {
   "cell_type": "code",
   "execution_count": 87,
   "id": "7627ff57-1da4-4adb-a336-117391ae5e39",
   "metadata": {
    "tags": []
   },
   "outputs": [
    {
     "data": {
      "text/plain": [
       "['http://www.f', 'https://mail.f', 'ftp://ftp.f']"
      ]
     },
     "execution_count": 87,
     "metadata": {},
     "output_type": "execute_result"
    }
   ],
   "source": [
    "string = '''\n",
    "http://www.forta.com  a \n",
    "https://mail.forta.com b \n",
    "ftp://ftp.forta.com c \n",
    "''' \n",
    "#문자특수문자 가 하나이상 마지막은 f\n",
    "p=re.compile(\".+f\")\n",
    "p.findall(string)"
   ]
  },
  {
   "cell_type": "code",
   "execution_count": 96,
   "id": "8143e563-c8c2-4f8e-9ee9-4145219d54d2",
   "metadata": {
    "tags": []
   },
   "outputs": [
    {
     "data": {
      "text/plain": [
       "['http://www.', 'https://mail.', 'ftp://ftp.']"
      ]
     },
     "execution_count": 96,
     "metadata": {},
     "output_type": "execute_result"
    }
   ],
   "source": [
    "p=re.compile(\".+(?=f)\")\n",
    "p.findall(string)"
   ]
  },
  {
   "cell_type": "code",
   "execution_count": 99,
   "id": "ed561b06-ec90-4580-8790-207f47840cf0",
   "metadata": {
    "tags": []
   },
   "outputs": [
    {
     "data": {
      "text/plain": [
       "['http', 'https', 'ftp']"
      ]
     },
     "execution_count": 99,
     "metadata": {},
     "output_type": "execute_result"
    }
   ],
   "source": [
    "p=re.compile(\".+(?=:)\")\n",
    "p.findall(string)"
   ]
  },
  {
   "cell_type": "code",
   "execution_count": null,
   "id": "60d1400d-de7f-420e-bf63-b8fd0ec976b9",
   "metadata": {},
   "outputs": [],
   "source": []
  },
  {
   "cell_type": "code",
   "execution_count": 101,
   "id": "936e3c6e-7019-47e2-b9cc-ef43f99ce4d1",
   "metadata": {
    "tags": []
   },
   "outputs": [
    {
     "data": {
      "text/plain": [
       "<re.Match object; span=(0, 29), match='<html><head><title>제목</title>'>"
      ]
     },
     "execution_count": 101,
     "metadata": {},
     "output_type": "execute_result"
    }
   ],
   "source": [
    "string = \"<html><head><title>제목</title>\"\n",
    "p=re.compile(\"<.+>\")\n",
    "p.search(string)\n"
   ]
  },
  {
   "cell_type": "code",
   "execution_count": 102,
   "id": "52317540-066e-42df-b2f9-e7ed21bcdc42",
   "metadata": {
    "tags": []
   },
   "outputs": [
    {
     "data": {
      "text/plain": [
       "<re.Match object; span=(0, 6), match='<html>'>"
      ]
     },
     "execution_count": 102,
     "metadata": {},
     "output_type": "execute_result"
    }
   ],
   "source": [
    "#반복 *,+,?,{4,5} 뒤에 ?\n",
    "string = \"<html><head><title>제목</title>\"\n",
    "p=re.compile(\"<.+?>\")\n",
    "p.search(string)\n"
   ]
  },
  {
   "cell_type": "code",
   "execution_count": 115,
   "id": "2324fb28-835b-41d6-9f34-b20e4988f4b1",
   "metadata": {
    "tags": []
   },
   "outputs": [
    {
     "name": "stdout",
     "output_type": "stream",
     "text": [
      "sososo\n",
      "sosososo\n",
      "sososososo\n"
     ]
    }
   ],
   "source": [
    "#so 가 3번이상 5번 이하 \n",
    "data = [\"soso\", \"sososo\", \"sosososo\", \"sososososo\"] \n",
    "p=re.compile(\"(so){3,5}\")\n",
    "for i in data:\n",
    "    if p.search(i):\n",
    "        print(p.search(i).group())\n"
   ]
  },
  {
   "cell_type": "code",
   "execution_count": 122,
   "id": "1a4d2f97-d0d0-4a92-b253-0df8eb0efb8f",
   "metadata": {
    "tags": []
   },
   "outputs": [
    {
     "name": "stdout",
     "output_type": "stream",
     "text": [
      "None\n",
      "<re.Match object; span=(0, 6), match='sososo'>\n",
      "<re.Match object; span=(0, 6), match='sososo'>\n",
      "<re.Match object; span=(0, 6), match='sososo'>\n"
     ]
    }
   ],
   "source": [
    "data = [\"soso\", \"sososo\", \"sosososo\", \"sososososo\"] \n",
    "p=re.compile(\"(so){3,5}?\")\n",
    "for i in data:\n",
    "    print(p.search(i))\n",
    "#위에랑 같은거지만 양을 적게 잡은 것 뿐 출력만 이렇게 할 뿐 "
   ]
  },
  {
   "cell_type": "code",
   "execution_count": 124,
   "id": "6b7ac4a3-702f-487f-a835-6ea61d2fa7ea",
   "metadata": {
    "tags": []
   },
   "outputs": [
    {
     "name": "stdout",
     "output_type": "stream",
     "text": [
      "so\n",
      "so\n",
      "so\n",
      "so\n"
     ]
    }
   ],
   "source": [
    "#so 1번이상\n",
    "data = [\"soso\", \"sososo\", \"sosososo\", \"sososososo\"] \n",
    "p=re.compile(\"(so)+?\")\n",
    "for i in data:\n",
    "    if p.search(i):\n",
    "        print(p.search(i).group())\n"
   ]
  },
  {
   "cell_type": "markdown",
   "id": "bef0b537-11c6-49b6-b81e-f1eb67fe4109",
   "metadata": {},
   "source": [
    "## 후방탐색"
   ]
  },
  {
   "cell_type": "code",
   "execution_count": 139,
   "id": "dcaae880-a5bb-426c-893d-9e532cb48aa5",
   "metadata": {
    "tags": []
   },
   "outputs": [
    {
     "data": {
      "text/plain": [
       "['http://www.', 'https://mail.', 'ftp://ftp.']"
      ]
     },
     "execution_count": 139,
     "metadata": {},
     "output_type": "execute_result"
    }
   ],
   "source": [
    "string = ''' #\n",
    "http://www.forta.com  a \n",
    "https://mail.forta.com b \n",
    "ftp://ftp.forta.com c \n",
    "''' \n",
    "p=re.compile(\".+(?=f)\") #전방탐색 f 표시 \n",
    "p.findall(string)"
   ]
  },
  {
   "cell_type": "code",
   "execution_count": 143,
   "id": "b39fd868-479c-46be-93f6-ebc7d5329543",
   "metadata": {
    "tags": []
   },
   "outputs": [
    {
     "ename": "SyntaxError",
     "evalue": "unexpected character after line continuation character (2934017336.py, line 6)",
     "output_type": "error",
     "traceback": [
      "\u001b[1;36m  Cell \u001b[1;32mIn[143], line 6\u001b[1;36m\u001b[0m\n\u001b[1;33m    p=re.compile((\\s\\w_\\1) #후방탐색으로 f를 표시하지 않는다\u001b[0m\n\u001b[1;37m                   ^\u001b[0m\n\u001b[1;31mSyntaxError\u001b[0m\u001b[1;31m:\u001b[0m unexpected character after line continuation character\n"
     ]
    }
   ],
   "source": [
    "string = '''\n",
    "http://www.forta.com  a \n",
    "https://mail.forta.com b \n",
    "ftp://ftp.forta.com c \n",
    "''' \n",
    "p=re.compile((\\s\\w_\\1) #후방탐색으로 f를 표시하지 않는다\n",
    "        for i in range(a-c):\n",
    "             p.append(a)\n",
    "    p.findall(string)"
   ]
  },
  {
   "cell_type": "code",
   "execution_count": 11,
   "id": "8e3a84b7-9f74-4d41-8883-29e969078f1b",
   "metadata": {},
   "outputs": [
    {
     "data": {
      "text/plain": [
       "['http:', 'http:', 'ftp:']"
      ]
     },
     "execution_count": 11,
     "metadata": {},
     "output_type": "execute_result"
    }
   ],
   "source": [
    "import re\n",
    "string ='''\n",
    "http://naver.com\n",
    "http://google.com\n",
    "ftp://daum.net\n",
    "'''\n",
    "p=re.compile(\"\\w+:\")\n",
    "#p=re.compile('\\w+(?=:)')\n",
    "p.findall(string)\n"
   ]
  },
  {
   "cell_type": "code",
   "execution_count": 15,
   "id": "4280a9f0-45ea-45ac-83c7-4f01d588bb55",
   "metadata": {},
   "outputs": [
    {
     "data": {
      "text/plain": [
       "'ryan'"
      ]
     },
     "execution_count": 15,
     "metadata": {},
     "output_type": "execute_result"
    }
   ],
   "source": [
    "html= 'Kakao <p>ryan</p> keep a straight  face.'\n",
    "p= re.compile(\"(?<=<p>)\\w+(?=</p>)\")\n",
    "p.search(html).group()"
   ]
  },
  {
   "cell_type": "raw",
   "id": "bce514fc-2e8a-4bf4-a88d-1b3e4d3c9e79",
   "metadata": {
    "tags": []
   },
   "source": [
    "import urllib.request as req \n",
    "rep = req.urlopen(\"https://daum.net\")\n",
    "data = rep.read().decode(\"utf8\")\n",
    "print(data)"
   ]
  },
  {
   "cell_type": "code",
   "execution_count": null,
   "id": "c5396304-a9f4-40a4-8e3f-ca53b8fe703a",
   "metadata": {},
   "outputs": [],
   "source": [
    "string = \"<html><head><title>제목</title>\"\n",
    "p=re.compile(\"<.+>\")\n",
    "p.search(string)"
   ]
  }
 ],
 "metadata": {
  "kernelspec": {
   "display_name": "Python 3 (ipykernel)",
   "language": "python",
   "name": "python3"
  },
  "language_info": {
   "codemirror_mode": {
    "name": "ipython",
    "version": 3
   },
   "file_extension": ".py",
   "mimetype": "text/x-python",
   "name": "python",
   "nbconvert_exporter": "python",
   "pygments_lexer": "ipython3",
   "version": "3.10.9"
  }
 },
 "nbformat": 4,
 "nbformat_minor": 5
}
