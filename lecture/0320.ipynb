{
 "cells": [
  {
   "cell_type": "markdown",
   "id": "80f32869-126a-4036-87c5-b57a69c96367",
   "metadata": {},
   "source": [
    "## 복습"
   ]
  },
  {
   "cell_type": "code",
   "execution_count": 3,
   "id": "07fe5503-6a6c-4268-8f9f-474ac1a9d409",
   "metadata": {
    "tags": []
   },
   "outputs": [
    {
     "data": {
      "text/plain": [
       "13"
      ]
     },
     "execution_count": 3,
     "metadata": {},
     "output_type": "execute_result"
    }
   ],
   "source": [
    "#재귀함수이용하여 피보나치 수열 만들기 \n",
    "#f(n) = f(n-1)+f(n-2)\n",
    "\n",
    "def fi(n):\n",
    "    if n==1 or n==2:\n",
    "        return 1\n",
    "    return fi(n-1)+ fi(n-2) \n",
    "\n",
    "fi(7)\n",
    "    "
   ]
  },
  {
   "cell_type": "code",
   "execution_count": 6,
   "id": "680b2e67-1f9b-45bb-9e57-42507a18e3f1",
   "metadata": {
    "tags": []
   },
   "outputs": [
    {
     "data": {
      "text/plain": [
       "False"
      ]
     },
     "execution_count": 6,
     "metadata": {},
     "output_type": "execute_result"
    }
   ],
   "source": [
    "all([1,2,abs(-3)-3])"
   ]
  },
  {
   "cell_type": "code",
   "execution_count": 5,
   "id": "022fbfea-1e14-49cf-b860-21a903031f55",
   "metadata": {
    "tags": []
   },
   "outputs": [
    {
     "data": {
      "text/plain": [
       "True"
      ]
     },
     "execution_count": 5,
     "metadata": {},
     "output_type": "execute_result"
    }
   ],
   "source": [
    "all([1,2,3])"
   ]
  },
  {
   "cell_type": "code",
   "execution_count": 8,
   "id": "4070244a-93ea-4a5e-b7e4-cdc7a8cd4ea4",
   "metadata": {
    "tags": []
   },
   "outputs": [
    {
     "data": {
      "text/plain": [
       "[1, 3, 8]"
      ]
     },
     "execution_count": 8,
     "metadata": {},
     "output_type": "execute_result"
    }
   ],
   "source": [
    "i=[1,-2,3,-5,8]\n",
    "list (filter(lambda x: x>0,i))"
   ]
  },
  {
   "cell_type": "code",
   "execution_count": 11,
   "id": "19ba70fb-f8ca-4e69-9852-bec74e0f724f",
   "metadata": {
    "tags": []
   },
   "outputs": [
    {
     "data": {
      "text/plain": [
       "'2023 / 03/ 20 09:1352'"
      ]
     },
     "execution_count": 11,
     "metadata": {},
     "output_type": "execute_result"
    }
   ],
   "source": [
    "import time\n",
    "time.strftime('%Y / %m/ %d %H:%M%S', time.localtime())"
   ]
  },
  {
   "cell_type": "code",
   "execution_count": 14,
   "id": "70799e36-f7eb-4aeb-b0fe-fc973d7e0cc6",
   "metadata": {
    "tags": []
   },
   "outputs": [
    {
     "data": {
      "text/plain": [
       "[24, 7, 11, 33, 4, 42]"
      ]
     },
     "execution_count": 14,
     "metadata": {},
     "output_type": "execute_result"
    }
   ],
   "source": [
    "import random\n",
    "random.sample(range(1,46),k=6)"
   ]
  },
  {
   "cell_type": "code",
   "execution_count": 25,
   "id": "b7db8e99-f6c5-4bef-86b4-cec7a9390c60",
   "metadata": {
    "tags": []
   },
   "outputs": [
    {
     "ename": "SyntaxError",
     "evalue": "invalid syntax (2025003446.py, line 7)",
     "output_type": "error",
     "traceback": [
      "\u001b[1;36m  Cell \u001b[1;32mIn[25], line 7\u001b[1;36m\u001b[0m\n\u001b[1;33m    with\u001b[0m\n\u001b[1;37m         ^\u001b[0m\n\u001b[1;31mSyntaxError\u001b[0m\u001b[1;31m:\u001b[0m invalid syntax\n"
     ]
    }
   ],
   "source": [
    "\n",
    "import pickle\n",
    "f=open(\"text,txt\", 'wb')\n",
    "a = list(range(1,101))\n",
    "b= list(filter(lambda x: x%2==0, a))\n",
    "\n",
    "pickle.dump(b,f)\n",
    "with \n",
    "\n",
    "#열기 \n",
    "\n",
    "import pickle \n",
    "with open(\"data2.pickle\", \"wb\") as fw:\n",
    "    pickle.dump(b, fw)\n",
    "\n",
    "with open('data2.pickle', 'rb') as fr:\n",
    "    df = pickle.load(fr)\n",
    "print(df) "
   ]
  },
  {
   "cell_type": "code",
   "execution_count": 32,
   "id": "187356c8-a534-41f0-8ea9-5db855ed8db8",
   "metadata": {
    "tags": []
   },
   "outputs": [
    {
     "data": {
      "text/plain": [
       "[('he', 'am'), ('you', 'is'), ('she', 'are'), ('I', 'is')]"
      ]
     },
     "execution_count": 32,
     "metadata": {},
     "output_type": "execute_result"
    }
   ],
   "source": [
    "import random\n",
    "li1 = [\"I\", \"you\", \"he\", \"she\"]\n",
    "li2 = [\"am\", \"are\", \"is\", \"is\"]\n",
    "random.shuffle(li1)\n",
    "random.shuffle(li2)\n",
    "for i in zip(li1,li2) #ㄷ동일한 개수로 짝짓기 \n",
    "    print(li)\n",
    "    "
   ]
  },
  {
   "cell_type": "code",
   "execution_count": 34,
   "id": "701a2310-e3a2-412d-88cf-dd2d6ee8ce05",
   "metadata": {
    "tags": []
   },
   "outputs": [
    {
     "data": {
      "text/plain": [
       "[('he', 'am'), ('you', 'is'), ('she', 'are'), ('I', 'is')]"
      ]
     },
     "execution_count": 34,
     "metadata": {},
     "output_type": "execute_result"
    }
   ],
   "source": [
    "random.sample()\n",
    "random.shuffle"
   ]
  },
  {
   "cell_type": "code",
   "execution_count": 37,
   "id": "e5c1ad67-7b5b-4e1f-ae82-ca33dfbeac6c",
   "metadata": {
    "tags": []
   },
   "outputs": [
    {
     "data": {
      "text/plain": [
       "10"
      ]
     },
     "execution_count": 37,
     "metadata": {},
     "output_type": "execute_result"
    }
   ],
   "source": [
    "random.randint(10,15) #10-15 사이 정수 한개"
   ]
  },
  {
   "cell_type": "code",
   "execution_count": 38,
   "id": "501c4e2c-f8f4-4232-ba1a-9de3db6ea2ed",
   "metadata": {
    "tags": []
   },
   "outputs": [
    {
     "data": {
      "text/plain": [
       "0.2967592557239018"
      ]
     },
     "execution_count": 38,
     "metadata": {},
     "output_type": "execute_result"
    }
   ],
   "source": [
    "random.random()"
   ]
  },
  {
   "cell_type": "code",
   "execution_count": 40,
   "id": "d4674bbb-9d09-4776-904f-d0656fb24fc1",
   "metadata": {
    "tags": []
   },
   "outputs": [
    {
     "data": {
      "text/plain": [
       "14.741749212426328"
      ]
     },
     "execution_count": 40,
     "metadata": {},
     "output_type": "execute_result"
    }
   ],
   "source": [
    "random.uniform(10,15)"
   ]
  },
  {
   "cell_type": "code",
   "execution_count": 50,
   "id": "dfcfe9df-a1ae-46c8-83d5-923f5b8f1184",
   "metadata": {
    "tags": []
   },
   "outputs": [
    {
     "data": {
      "text/plain": [
       "'299 -80 -828345'"
      ]
     },
     "execution_count": 50,
     "metadata": {},
     "output_type": "execute_result"
    }
   ],
   "source": [
    "import random\n",
    "from random import sample\n",
    "a= random.randint(100,999)\n",
    "b= random.randint(10,99)\n",
    "c= random.randint(100000,999999)\n",
    "account= (f\"{a} -{b} -{c}\")\n",
    "account"
   ]
  },
  {
   "cell_type": "code",
   "execution_count": 55,
   "id": "4b93f2e8-9c8a-4977-b480-c99bd666b0e3",
   "metadata": {
    "tags": []
   },
   "outputs": [
    {
     "data": {
      "text/plain": [
       "'오늘은23년03월20일 입니다.'"
      ]
     },
     "execution_count": 55,
     "metadata": {},
     "output_type": "execute_result"
    }
   ],
   "source": [
    "time.strftime('오늘은%y년%m월%d  입니다.')"
   ]
  },
  {
   "cell_type": "code",
   "execution_count": 57,
   "id": "0ebbea94-989c-4a49-9f22-1436dc38da96",
   "metadata": {
    "tags": []
   },
   "outputs": [
    {
     "data": {
      "text/plain": [
       "'09:38:56'"
      ]
     },
     "execution_count": 57,
     "metadata": {},
     "output_type": "execute_result"
    }
   ],
   "source": [
    "time.strftime('%X')"
   ]
  },
  {
   "cell_type": "markdown",
   "id": "9d53f523-ae38-4549-8c04-401fb49f622f",
   "metadata": {},
   "source": [
    "## 내가 만드는 프로그램"
   ]
  },
  {
   "cell_type": "code",
   "execution_count": 62,
   "id": "41ba5fde-0319-43df-9c24-888bda684cf4",
   "metadata": {
    "tags": []
   },
   "outputs": [
    {
     "data": {
      "text/plain": [
       "[3, 6, 9, 12, 15, 18, 21, 24, 27]"
      ]
     },
     "execution_count": 62,
     "metadata": {},
     "output_type": "execute_result"
    }
   ],
   "source": [
    "def GuGu(n):\n",
    "    result=[]\n",
    "    for i in range(1,10):\n",
    "        result.append(n*i)\n",
    "        i= i+1\n",
    "    return result\n",
    "GuGu(3)"
   ]
  },
  {
   "cell_type": "code",
   "execution_count": 75,
   "id": "2f00da7b-263f-4653-b1d0-8de1d5990c46",
   "metadata": {
    "tags": []
   },
   "outputs": [
    {
     "data": {
      "text/plain": [
       "2318"
      ]
     },
     "execution_count": 75,
     "metadata": {},
     "output_type": "execute_result"
    }
   ],
   "source": [
    "def multiple(a,b):\n",
    "    result = 0  #변수 sum말고 total, result사용 \n",
    "    for i in range(1,100):\n",
    "        if i %a==0 or i%b==0:\n",
    "            result +=i \n",
    "    return result\n",
    "\n",
    "multiple(3,5)"
   ]
  },
  {
   "cell_type": "code",
   "execution_count": 87,
   "id": "01666e10-9ecb-470f-bf6f-401a33ca410f",
   "metadata": {
    "tags": []
   },
   "outputs": [
    {
     "data": {
      "text/plain": [
       "3"
      ]
     },
     "execution_count": 87,
     "metadata": {},
     "output_type": "execute_result"
    }
   ],
   "source": [
    "#게시판 , 한페이지당 10개 게시판 \n",
    "def getTotalPage(m):\n",
    "    return m//10+1\n",
    "\n",
    "getTotalPage(3)\n",
    "getTotalPage(21)"
   ]
  },
  {
   "cell_type": "code",
   "execution_count": 94,
   "id": "3a7e9059-c393-465c-a3d6-2cd0346c922e",
   "metadata": {
    "tags": []
   },
   "outputs": [
    {
     "data": {
      "text/plain": [
       "'분모가 0'"
      ]
     },
     "execution_count": 94,
     "metadata": {},
     "output_type": "execute_result"
    }
   ],
   "source": [
    "def getTotalPage(n,m):\n",
    "    if m ==0:\n",
    "        return (\"분모가 0\")\n",
    "    return n//m+ 1 \n",
    "\n",
    "getTotalPage(13,0)\n"
   ]
  },
  {
   "cell_type": "code",
   "execution_count": 96,
   "id": "ef20a663-3b8c-4342-af91-594a916b1ead",
   "metadata": {
    "tags": []
   },
   "outputs": [
    {
     "data": {
      "text/plain": [
       "'에러입니다.'"
      ]
     },
     "execution_count": 96,
     "metadata": {},
     "output_type": "execute_result"
    }
   ],
   "source": [
    "def getTotalPage(n,m):\n",
    "    try:   #해보고 \n",
    "        result= n//m+ 1 \n",
    "    except:  #error와 같은 의미 , 에러가 나면 \n",
    "        return \"에러입니다.\"\n",
    "        \n",
    "    return result\n",
    "\n",
    "getTotalPage(13,0)\n"
   ]
  },
  {
   "cell_type": "code",
   "execution_count": 103,
   "id": "7279a3a6-002a-4cb6-b075-c12796cc0bd4",
   "metadata": {
    "tags": []
   },
   "outputs": [
    {
     "name": "stdout",
     "output_type": "stream",
     "text": [
      "division by zero\n"
     ]
    }
   ],
   "source": [
    "try :\n",
    "    4/0\n",
    "except ZeroDivisionError as e:\n",
    "    print(e)"
   ]
  },
  {
   "cell_type": "code",
   "execution_count": 105,
   "id": "a5c947b4-6806-4d3c-b672-9c05f49fe9b6",
   "metadata": {
    "tags": []
   },
   "outputs": [
    {
     "name": "stdout",
     "output_type": "stream",
     "text": [
      "Error\n"
     ]
    }
   ],
   "source": [
    "try :\n",
    "    4/0\n",
    "except:\n",
    "    print (\"Error\")"
   ]
  },
  {
   "cell_type": "code",
   "execution_count": 130,
   "id": "0805be71-e9a2-434d-8792-de627bad8133",
   "metadata": {
    "tags": []
   },
   "outputs": [
    {
     "ename": "IndentationError",
     "evalue": "expected an indented block after 'for' statement on line 3 (1521503523.py, line 4)",
     "output_type": "error",
     "traceback": [
      "\u001b[1;36m  Cell \u001b[1;32mIn[130], line 4\u001b[1;36m\u001b[0m\n\u001b[1;33m    try:\u001b[0m\n\u001b[1;37m    ^\u001b[0m\n\u001b[1;31mIndentationError\u001b[0m\u001b[1;31m:\u001b[0m expected an indented block after 'for' statement on line 3\n"
     ]
    }
   ],
   "source": [
    "li= [1,2,3,4]\n",
    "\n",
    "for i in range (5):\n",
    "try:\n",
    "except IndexError as e:\n",
    "print(e)\n",
    "finally:\n",
    "print(\"수고\")"
   ]
  },
  {
   "cell_type": "code",
   "execution_count": 136,
   "id": "c8aa901a-6011-402d-b34e-10c406d31945",
   "metadata": {
    "tags": []
   },
   "outputs": [
    {
     "ename": "IndentationError",
     "evalue": "expected an indented block after 'try' statement on line 1 (3949117678.py, line 2)",
     "output_type": "error",
     "traceback": [
      "\u001b[1;36m  Cell \u001b[1;32mIn[136], line 2\u001b[1;36m\u001b[0m\n\u001b[1;33m    li[신은서]:\u001b[0m\n\u001b[1;37m    ^\u001b[0m\n\u001b[1;31mIndentationError\u001b[0m\u001b[1;31m:\u001b[0m expected an indented block after 'try' statement on line 1\n"
     ]
    }
   ],
   "source": [
    "try:\n",
    "li[신은서]:\n",
    "    a= [1,2]\n",
    "        print(a[0]/2)\n",
    "    \n",
    "    printnt(a[3])\n",
    "    print(4/0)\n",
    "    \n",
    "except ZeroDivisionError as e:\n",
    "    print(e)"
   ]
  },
  {
   "cell_type": "code",
   "execution_count": 128,
   "id": "0445a9f8-c6ff-44c7-bfb0-5b49c7e3ec1d",
   "metadata": {
    "tags": []
   },
   "outputs": [
    {
     "name": "stdout",
     "output_type": "stream",
     "text": [
      "0.5\n",
      "list index out of range\n"
     ]
    }
   ],
   "source": [
    "try: \n",
    "    a= [1,2]\n",
    "    print(a[0]/2)\n",
    "    \n",
    "    print(a[3])\n",
    "    print(4/0)\n",
    "except IndexError as e:\n",
    "    print(e)    \n",
    "except ZeroDivisionError as e:\n",
    "    print(e)"
   ]
  },
  {
   "cell_type": "code",
   "execution_count": 265,
   "id": "89ee2ec2-efce-41d9-aaa8-aa6dcd46ab63",
   "metadata": {
    "tags": []
   },
   "outputs": [
    {
     "name": "stdout",
     "output_type": "stream",
     "text": [
      "0.5\n",
      "list index out of range\n"
     ]
    }
   ],
   "source": [
    "try: \n",
    "    a= [1,2]\n",
    "    print(a[0]/2)\n",
    "    \n",
    "    print(a[3])\n",
    "    print(4/0)\n",
    "except (IndexError, ZeroDivisionError) as e:\n",
    "    print(e)    \n"
   ]
  },
  {
   "cell_type": "code",
   "execution_count": 267,
   "id": "a355329b-1d3c-475b-ade0-49d1046fa023",
   "metadata": {
    "tags": []
   },
   "outputs": [
    {
     "name": "stdout",
     "output_type": "stream",
     "text": [
      "list index out of range\n"
     ]
    }
   ],
   "source": [
    "try: \n",
    "    a=[5,6]\n",
    "    print(a[4])\n",
    "    8/0\n",
    "except (IndexError, ZeroDivisionError) as e:\n",
    "    print(e)"
   ]
  },
  {
   "cell_type": "code",
   "execution_count": 138,
   "id": "113608fe-bcb1-43e6-82e2-2119e539d772",
   "metadata": {
    "tags": []
   },
   "outputs": [],
   "source": [
    "##오류만들기\n",
    "헷갈림 "
   ]
  },
  {
   "cell_type": "code",
   "execution_count": 192,
   "id": "8be9a33c-24cf-4365-bbc4-5e1b299e064d",
   "metadata": {
    "tags": []
   },
   "outputs": [],
   "source": [
    "class Bird:\n",
    "    def fly(self): \n",
    "        raise NotImplementedError"
   ]
  },
  {
   "cell_type": "code",
   "execution_count": 193,
   "id": "aa1e2bd6-dee4-41af-981a-02b42ff96e4e",
   "metadata": {
    "tags": []
   },
   "outputs": [],
   "source": [
    "class Eagle(Bird):\n",
    "    def fly(self):\n",
    "        print(\"날아라 병아리\")\n"
   ]
  },
  {
   "cell_type": "code",
   "execution_count": 186,
   "id": "7aadb637-baa7-4e13-8811-74b0a72daff7",
   "metadata": {
    "tags": []
   },
   "outputs": [
    {
     "name": "stdout",
     "output_type": "stream",
     "text": [
      "날아라 병아리\n"
     ]
    }
   ],
   "source": [
    "eagle = Eagle()\n",
    "eagle.fly()"
   ]
  },
  {
   "cell_type": "code",
   "execution_count": 187,
   "id": "e32bea91-04a5-4e93-9e5b-fa44012d09b5",
   "metadata": {
    "tags": []
   },
   "outputs": [
    {
     "ename": "SyntaxError",
     "evalue": "incomplete input (1469234327.py, line 3)",
     "output_type": "error",
     "traceback": [
      "\u001b[1;36m  Cell \u001b[1;32mIn[191], line 3\u001b[1;36m\u001b[0m\n\u001b[1;33m    \u001b[0m\n\u001b[1;37m    ^\u001b[0m\n\u001b[1;31mSyntaxError\u001b[0m\u001b[1;31m:\u001b[0m incomplete input\n"
     ]
    }
   ],
   "source": [
    "class Bird:\n",
    "    def fly(self):\n",
    "         "
   ]
  },
  {
   "cell_type": "code",
   "execution_count": 190,
   "id": "6ab8838e-c733-4ad6-8fc3-7554413ca326",
   "metadata": {
    "tags": []
   },
   "outputs": [
    {
     "name": "stdout",
     "output_type": "stream",
     "text": [
      "very fast\n"
     ]
    }
   ],
   "source": [
    "class Eagle(Bird): \n",
    "    def fly(self):\n",
    "        print(\"very fast\")\n",
    "eagle= Eagle()\n",
    "eagle.fly()"
   ]
  },
  {
   "cell_type": "code",
   "execution_count": 270,
   "id": "17391834-fda6-4093-97a6-766c2fbef7d0",
   "metadata": {
    "tags": []
   },
   "outputs": [
    {
     "name": "stdout",
     "output_type": "stream",
     "text": [
      "sparkling\n"
     ]
    }
   ],
   "source": [
    "class Beverage:\n",
    "    def taste(self):\n",
    "        raise NotImplementedError \n",
    "\n",
    "class Coke(Beverage):\n",
    "    def taste(self):\n",
    "        print(\"sparkling\")\n",
    "        \n",
    "coke=Coke()\n",
    "coke.taste()"
   ]
  },
  {
   "cell_type": "code",
   "execution_count": 284,
   "id": "fde04a8f-7baf-4bb9-af5b-f28deef8893d",
   "metadata": {
    "tags": []
   },
   "outputs": [],
   "source": [
    "## 예외만들기"
   ]
  },
  {
   "cell_type": "code",
   "execution_count": 285,
   "id": "ab8b6a05-e1db-4e30-af11-c364ae53875a",
   "metadata": {
    "tags": []
   },
   "outputs": [],
   "source": [
    "class MyError(Exception):\n",
    "    def __str__(self):          #e를 지정해줘서 에러나면 print 되게\n",
    "        return \"허용되지 않은 별명\"\n",
    "    pass"
   ]
  },
  {
   "cell_type": "code",
   "execution_count": 286,
   "id": "882de175-9dd0-4bfd-b8ec-0f0eb76bf256",
   "metadata": {
    "tags": []
   },
   "outputs": [],
   "source": [
    "def say_nick(nick):\n",
    "    if nick == \"바보\":\n",
    "        raise MyError()\n",
    "        \n",
    "    print(f\"너는 {nick}야\")"
   ]
  },
  {
   "cell_type": "code",
   "execution_count": 287,
   "id": "9de5a2d0-c1bb-4544-846e-743d88bf9a21",
   "metadata": {
    "tags": []
   },
   "outputs": [
    {
     "name": "stdin",
     "output_type": "stream",
     "text": [
      "음료 : \n"
     ]
    }
   ],
   "source": [
    "Beverage = {'coke':'탄산','sprite':'탄산','juice':'탄산X','water':'탄산X'}\n",
    "a = input(\"음료 :\" ) \n",
    "\n"
   ]
  },
  {
   "cell_type": "code",
   "execution_count": 299,
   "id": "f1b9e019-e8d5-4521-9870-81ec13700d52",
   "metadata": {
    "tags": []
   },
   "outputs": [
    {
     "name": "stdout",
     "output_type": "stream",
     "text": [
      "나는 사과주스 마실래\n"
     ]
    }
   ],
   "source": [
    "\n",
    "class My_Error(Exception):\n",
    "    def __str__(self):   \n",
    "        return \"탄산은 몸에 안좋아요\"\n",
    "    pass\n",
    "\n",
    "def beverage(a): \n",
    "    if a== \"탄산\":\n",
    "        raise My_Error()       \n",
    "    \n",
    "    print(f\"나는 {a} 마실래\")\n",
    "\n",
    "beverage(\"사과주스\")"
   ]
  },
  {
   "cell_type": "code",
   "execution_count": 288,
   "id": "2436b3c0-8d80-4527-ae63-314c0085b613",
   "metadata": {
    "tags": []
   },
   "outputs": [
    {
     "ename": "MyError",
     "evalue": "허용되지 않은 별명",
     "output_type": "error",
     "traceback": [
      "\u001b[1;31m---------------------------------------------------------------------------\u001b[0m",
      "\u001b[1;31mMyError\u001b[0m                                   Traceback (most recent call last)",
      "Cell \u001b[1;32mIn[288], line 1\u001b[0m\n\u001b[1;32m----> 1\u001b[0m \u001b[43msay_nick\u001b[49m\u001b[43m(\u001b[49m\u001b[38;5;124;43m\"\u001b[39;49m\u001b[38;5;124;43m바보\u001b[39;49m\u001b[38;5;124;43m\"\u001b[39;49m\u001b[43m)\u001b[49m\n",
      "Cell \u001b[1;32mIn[286], line 3\u001b[0m, in \u001b[0;36msay_nick\u001b[1;34m(nick)\u001b[0m\n\u001b[0;32m      1\u001b[0m \u001b[38;5;28;01mdef\u001b[39;00m \u001b[38;5;21msay_nick\u001b[39m(nick):\n\u001b[0;32m      2\u001b[0m     \u001b[38;5;28;01mif\u001b[39;00m nick \u001b[38;5;241m==\u001b[39m \u001b[38;5;124m\"\u001b[39m\u001b[38;5;124m바보\u001b[39m\u001b[38;5;124m\"\u001b[39m:\n\u001b[1;32m----> 3\u001b[0m         \u001b[38;5;28;01mraise\u001b[39;00m MyError()\n\u001b[0;32m      5\u001b[0m     \u001b[38;5;28mprint\u001b[39m(\u001b[38;5;124mf\u001b[39m\u001b[38;5;124m\"\u001b[39m\u001b[38;5;124m너는 \u001b[39m\u001b[38;5;132;01m{\u001b[39;00mnick\u001b[38;5;132;01m}\u001b[39;00m\u001b[38;5;124m야\u001b[39m\u001b[38;5;124m\"\u001b[39m)\n",
      "\u001b[1;31mMyError\u001b[0m: 허용되지 않은 별명"
     ]
    }
   ],
   "source": [
    "say_nick(\"바보\")"
   ]
  },
  {
   "cell_type": "code",
   "execution_count": 197,
   "id": "629dd024-9f7e-4635-8184-76ac3f36ae1c",
   "metadata": {
    "tags": []
   },
   "outputs": [
    {
     "name": "stdout",
     "output_type": "stream",
     "text": [
      "허용되지 않은 별명\n"
     ]
    }
   ],
   "source": [
    "try: say_nick(\"바보\")\n",
    "except MyError as e: print(e)"
   ]
  },
  {
   "cell_type": "code",
   "execution_count": 227,
   "id": "37f0aa3d-3563-4bfa-8723-04f59d9b1a60",
   "metadata": {
    "tags": []
   },
   "outputs": [
    {
     "ename": "TypeError",
     "evalue": "open() argument 'mode' must be str, not list",
     "output_type": "error",
     "traceback": [
      "\u001b[1;31m---------------------------------------------------------------------------\u001b[0m",
      "\u001b[1;31mTypeError\u001b[0m                                 Traceback (most recent call last)",
      "Cell \u001b[1;32mIn[227], line 2\u001b[0m\n\u001b[0;32m      1\u001b[0m \u001b[38;5;66;03m## 메모장\u001b[39;00m\n\u001b[1;32m----> 2\u001b[0m \u001b[38;5;28;01mwith\u001b[39;00m \u001b[38;5;28;43mopen\u001b[39;49m\u001b[43m(\u001b[49m\u001b[38;5;124;43m\"\u001b[39;49m\u001b[38;5;124;43mmemo.txt\u001b[39;49m\u001b[38;5;124;43m\"\u001b[39;49m\u001b[43m,\u001b[49m\u001b[43ma\u001b[49m\u001b[43m)\u001b[49m \u001b[38;5;28;01mas\u001b[39;00m f: \n\u001b[0;32m      3\u001b[0m     f\u001b[38;5;241m.\u001b[39mwrite(\u001b[38;5;124m\"\u001b[39m\u001b[38;5;124mreading swimming\u001b[39m\u001b[38;5;124m\"\u001b[39m)\n",
      "File \u001b[1;32m~\\AppData\\Local\\Programs\\Python\\Python310\\lib\\site-packages\\IPython\\core\\interactiveshell.py:282\u001b[0m, in \u001b[0;36m_modified_open\u001b[1;34m(file, *args, **kwargs)\u001b[0m\n\u001b[0;32m    275\u001b[0m \u001b[38;5;28;01mif\u001b[39;00m file \u001b[38;5;129;01min\u001b[39;00m {\u001b[38;5;241m0\u001b[39m, \u001b[38;5;241m1\u001b[39m, \u001b[38;5;241m2\u001b[39m}:\n\u001b[0;32m    276\u001b[0m     \u001b[38;5;28;01mraise\u001b[39;00m \u001b[38;5;167;01mValueError\u001b[39;00m(\n\u001b[0;32m    277\u001b[0m         \u001b[38;5;124mf\u001b[39m\u001b[38;5;124m\"\u001b[39m\u001b[38;5;124mIPython won\u001b[39m\u001b[38;5;124m'\u001b[39m\u001b[38;5;124mt let you open fd=\u001b[39m\u001b[38;5;132;01m{\u001b[39;00mfile\u001b[38;5;132;01m}\u001b[39;00m\u001b[38;5;124m by default \u001b[39m\u001b[38;5;124m\"\u001b[39m\n\u001b[0;32m    278\u001b[0m         \u001b[38;5;124m\"\u001b[39m\u001b[38;5;124mas it is likely to crash IPython. If you know what you are doing, \u001b[39m\u001b[38;5;124m\"\u001b[39m\n\u001b[0;32m    279\u001b[0m         \u001b[38;5;124m\"\u001b[39m\u001b[38;5;124myou can use builtins\u001b[39m\u001b[38;5;124m'\u001b[39m\u001b[38;5;124m open.\u001b[39m\u001b[38;5;124m\"\u001b[39m\n\u001b[0;32m    280\u001b[0m     )\n\u001b[1;32m--> 282\u001b[0m \u001b[38;5;28;01mreturn\u001b[39;00m io_open(file, \u001b[38;5;241m*\u001b[39margs, \u001b[38;5;241m*\u001b[39m\u001b[38;5;241m*\u001b[39mkwargs)\n",
      "\u001b[1;31mTypeError\u001b[0m: open() argument 'mode' must be str, not list"
     ]
    }
   ],
   "source": [
    "## 메모장\n",
    "with open(\"memo.txt\",a) as f: \n",
    "    f.write(\"reading swimming\")\n",
    "    "
   ]
  },
  {
   "cell_type": "code",
   "execution_count": 228,
   "id": "56792930-00c7-4fa7-8bd9-948baef330fa",
   "metadata": {
    "tags": []
   },
   "outputs": [
    {
     "ename": "SyntaxError",
     "evalue": "unterminated string literal (detected at line 1) (4084973068.py, line 1)",
     "output_type": "error",
     "traceback": [
      "\u001b[1;36m  Cell \u001b[1;32mIn[228], line 1\u001b[1;36m\u001b[0m\n\u001b[1;33m    with open(\"memo.py\",\"a)\u001b[0m\n\u001b[1;37m                        ^\u001b[0m\n\u001b[1;31mSyntaxError\u001b[0m\u001b[1;31m:\u001b[0m unterminated string literal (detected at line 1)\n"
     ]
    }
   ],
   "source": [
    "with open(\"memo.py\",\"a)"
   ]
  },
  {
   "cell_type": "code",
   "execution_count": 205,
   "id": "64cf363d-6555-4349-ac5d-207aeca06548",
   "metadata": {
    "tags": []
   },
   "outputs": [
    {
     "data": {
      "text/plain": [
       "<function TextIOWrapper.close()>"
      ]
     },
     "execution_count": 205,
     "metadata": {},
     "output_type": "execute_result"
    }
   ],
   "source": [
    "f.close\n",
    "\n",
    "\n"
   ]
  },
  {
   "cell_type": "code",
   "execution_count": null,
   "id": "4f902650-7433-4700-a816-38fcb66983fc",
   "metadata": {},
   "outputs": [],
   "source": []
  },
  {
   "cell_type": "code",
   "execution_count": 224,
   "id": "90572a00-2646-4ca8-bde3-04d873ac1e7d",
   "metadata": {
    "tags": []
   },
   "outputs": [
    {
     "ename": "IndentationError",
     "evalue": "expected an indented block after 'if' statement on line 4 (2648789624.py, line 6)",
     "output_type": "error",
     "traceback": [
      "\u001b[1;36m  Cell \u001b[1;32mIn[224], line 6\u001b[1;36m\u001b[0m\n\u001b[1;33m    with open(memo, a) as far:\u001b[0m\n\u001b[1;37m    ^\u001b[0m\n\u001b[1;31mIndentationError\u001b[0m\u001b[1;31m:\u001b[0m expected an indented block after 'if' statement on line 4\n"
     ]
    }
   ],
   "source": [
    "import sys\n",
    "memo = sys.arg[1]\n",
    "\n",
    "if option == 'W' :\n",
    "\n",
    "try\n",
    "with open(memo, a) as far:\n",
    "       onnion option . shou\n",
    "        print(memo)"
   ]
  },
  {
   "cell_type": "code",
   "execution_count": 225,
   "id": "2812bc56-d16a-44e2-94d0-684fb85becb1",
   "metadata": {
    "tags": []
   },
   "outputs": [
    {
     "name": "stdout",
     "output_type": "stream",
     "text": [
      "reading swimming\n"
     ]
    }
   ],
   "source": [
    "with open( \"memo.txt\",\"r\" )as fr:\n",
    "    data = r =fr.read()\n",
    "    print(data)\n",
    "        "
   ]
  },
  {
   "cell_type": "code",
   "execution_count": 300,
   "id": "7036d0dd-40db-4b59-9b73-59d72780f4b7",
   "metadata": {
    "tags": []
   },
   "outputs": [
    {
     "ename": "FileNotFoundError",
     "evalue": "[Errno 2] No such file or directory: '-f'",
     "output_type": "error",
     "traceback": [
      "\u001b[1;31m---------------------------------------------------------------------------\u001b[0m",
      "\u001b[1;31mFileNotFoundError\u001b[0m                         Traceback (most recent call last)",
      "Cell \u001b[1;32mIn[300], line 4\u001b[0m\n\u001b[0;32m      1\u001b[0m src\u001b[38;5;241m=\u001b[39msys\u001b[38;5;241m.\u001b[39margv[\u001b[38;5;241m1\u001b[39m]\n\u001b[0;32m      2\u001b[0m dst\u001b[38;5;241m=\u001b[39msys\u001b[38;5;241m.\u001b[39margv[\u001b[38;5;241m2\u001b[39m]\n\u001b[1;32m----> 4\u001b[0m f\u001b[38;5;241m=\u001b[39m \u001b[38;5;28;43mopen\u001b[39;49m\u001b[43m(\u001b[49m\u001b[43msrc\u001b[49m\u001b[43m)\u001b[49m\n\u001b[0;32m      5\u001b[0m tab\u001b[38;5;241m=\u001b[39mf\u001b[38;5;241m.\u001b[39mread()\n\u001b[0;32m      6\u001b[0m f\u001b[38;5;241m.\u001b[39mclose()\n",
      "File \u001b[1;32m~\\AppData\\Local\\Programs\\Python\\Python310\\lib\\site-packages\\IPython\\core\\interactiveshell.py:282\u001b[0m, in \u001b[0;36m_modified_open\u001b[1;34m(file, *args, **kwargs)\u001b[0m\n\u001b[0;32m    275\u001b[0m \u001b[38;5;28;01mif\u001b[39;00m file \u001b[38;5;129;01min\u001b[39;00m {\u001b[38;5;241m0\u001b[39m, \u001b[38;5;241m1\u001b[39m, \u001b[38;5;241m2\u001b[39m}:\n\u001b[0;32m    276\u001b[0m     \u001b[38;5;28;01mraise\u001b[39;00m \u001b[38;5;167;01mValueError\u001b[39;00m(\n\u001b[0;32m    277\u001b[0m         \u001b[38;5;124mf\u001b[39m\u001b[38;5;124m\"\u001b[39m\u001b[38;5;124mIPython won\u001b[39m\u001b[38;5;124m'\u001b[39m\u001b[38;5;124mt let you open fd=\u001b[39m\u001b[38;5;132;01m{\u001b[39;00mfile\u001b[38;5;132;01m}\u001b[39;00m\u001b[38;5;124m by default \u001b[39m\u001b[38;5;124m\"\u001b[39m\n\u001b[0;32m    278\u001b[0m         \u001b[38;5;124m\"\u001b[39m\u001b[38;5;124mas it is likely to crash IPython. If you know what you are doing, \u001b[39m\u001b[38;5;124m\"\u001b[39m\n\u001b[0;32m    279\u001b[0m         \u001b[38;5;124m\"\u001b[39m\u001b[38;5;124myou can use builtins\u001b[39m\u001b[38;5;124m'\u001b[39m\u001b[38;5;124m open.\u001b[39m\u001b[38;5;124m\"\u001b[39m\n\u001b[0;32m    280\u001b[0m     )\n\u001b[1;32m--> 282\u001b[0m \u001b[38;5;28;01mreturn\u001b[39;00m io_open(file, \u001b[38;5;241m*\u001b[39margs, \u001b[38;5;241m*\u001b[39m\u001b[38;5;241m*\u001b[39mkwargs)\n",
      "\u001b[1;31mFileNotFoundError\u001b[0m: [Errno 2] No such file or directory: '-f'"
     ]
    }
   ],
   "source": [
    "src=sys.argv[1]\n",
    "dst=sys.argv[2]\n",
    "\n",
    "f= open(src)\n",
    "tab=f.read()\n",
    "f.close()\n",
    "space=tab.replace(\"\\t\", \" \")\n",
    "\n",
    "f=open(dst, 'w')\n",
    "f.write(space)\n",
    "f.close()"
   ]
  },
  {
   "cell_type": "code",
   "execution_count": 236,
   "id": "0cbcf35d-47d1-45e6-b992-8c829f4bf2b1",
   "metadata": {
    "tags": []
   },
   "outputs": [],
   "source": [
    "with open(\"a.txt\",\"r\")as f:\n",
    "    lines=f.readlines()\n",
    "    for li in lines:\n",
    "        li= li.replace(\"\\t\",\" \")\n",
    "    \n",
    "\n",
    "        with open('b.txt','w') as f1:\n",
    "            f1.write(li)"
   ]
  },
  {
   "cell_type": "code",
   "execution_count": 261,
   "id": "cf1d7587-b1b5-4671-b6cf-a5e1af27be7d",
   "metadata": {
    "tags": []
   },
   "outputs": [],
   "source": [
    "##하위디렉토리 검색\n",
    "import os\n",
    "def search(dirname):\n",
    "    filenames = os.listdir(dirname)\n",
    "    for filename in filenames:\n",
    "        full_filename = os.path.join(dirname, filename) #경로표시\n",
    "        #print(full_filename)\n",
    "        ext= full_filename[-3: ] #파이썬 확장자 찾기 \n",
    "        if ext == \".py\":\n",
    "            print(full_filename)\n",
    "    \n"
   ]
  },
  {
   "cell_type": "code",
   "execution_count": 262,
   "id": "00321886-61b0-4721-9f38-cf3c50979f8a",
   "metadata": {
    "tags": []
   },
   "outputs": [
    {
     "ename": "IndentationError",
     "evalue": "expected an indented block after 'else' statement on line 9 (3776145153.py, line 10)",
     "output_type": "error",
     "traceback": [
      "\u001b[1;36m  Cell \u001b[1;32mIn[262], line 10\u001b[1;36m\u001b[0m\n\u001b[1;33m    ext= full_filename[-3: ] #파이썬 확장자 찾기\u001b[0m\n\u001b[1;37m    ^\u001b[0m\n\u001b[1;31mIndentationError\u001b[0m\u001b[1;31m:\u001b[0m expected an indented block after 'else' statement on line 9\n"
     ]
    }
   ],
   "source": [
    "import os\n",
    "def search(dirname):\n",
    "    filenames = os.listdir(dirname)\n",
    "    for filename in filenames:\n",
    "        full_filename = os.path.join(dirname, filename)\n",
    "        \n",
    "        if os.path.isdir(full_filename): #하위인지 아닌지 판별식 os.path.isdir \n",
    "            search(full_filename)\n",
    "        else: \n",
    "        ext= full_filename[-3: ] #파이썬 확장자 찾기 \n",
    "        if ext == \".py\":\n",
    "            print(full_filename)"
   ]
  },
  {
   "cell_type": "code",
   "execution_count": 263,
   "id": "646ef9c6-69ce-40d0-9308-2a96f5126aca",
   "metadata": {
    "tags": []
   },
   "outputs": [],
   "source": [
    "search (\"C:/Users/user\")"
   ]
  },
  {
   "cell_type": "code",
   "execution_count": 264,
   "id": "445b0dc0-accc-4f3e-ad0a-f3ff1db6e326",
   "metadata": {
    "tags": []
   },
   "outputs": [
    {
     "name": "stdout",
     "output_type": "stream",
     "text": [
      ".idlerc\n",
      ".ipynb_checkpoints\n",
      ".ipython\n",
      ".jupyter\n",
      ".keras\n",
      ".matplotlib\n",
      ".ms-ad\n",
      "3D Objects\n",
      "AppData\n",
      "Application Data\n",
      "Contacts\n",
      "Cookies\n",
      "Desktop\n",
      "Documents\n",
      "Downloads\n",
      "Favorites\n",
      "IntelGraphicsProfiles\n",
      "Links\n",
      "Local Settings\n",
      "MicrosoftEdgeBackups\n",
      "Music\n",
      "My Documents\n",
      "NetHood\n",
      "New\n",
      "NTUSER.DAT\n",
      "ntuser.dat.LOG1\n",
      "ntuser.dat.LOG2\n",
      "NTUSER.DAT{53b39e88-18c4-11ea-a811-000d3aa4692b}.TM.blf\n",
      "NTUSER.DAT{53b39e88-18c4-11ea-a811-000d3aa4692b}.TMContainer00000000000000000001.regtrans-ms\n",
      "NTUSER.DAT{53b39e88-18c4-11ea-a811-000d3aa4692b}.TMContainer00000000000000000002.regtrans-ms\n",
      "ntuser.ini\n",
      "OneDrive\n",
      "Pictures\n",
      "PrintHood\n",
      "Recent\n",
      "Saved Games\n",
      "Searches\n",
      "SendTo\n",
      "Templates\n",
      "test\n",
      "Videos\n",
      "시작 메뉴\n"
     ]
    }
   ],
   "source": [
    "def search(dirname):\n",
    "    filenames = os.listdir(dirname)\n",
    "    for filename in filenames:\n",
    "        print(filename)\n",
    "search (\"C:/Users/user\") #경로없이 개개인 이름만 "
   ]
  },
  {
   "cell_type": "code",
   "execution_count": null,
   "id": "197e017a-070b-4a99-bdc6-3725169429f8",
   "metadata": {},
   "outputs": [],
   "source": []
  }
 ],
 "metadata": {
  "kernelspec": {
   "display_name": "Python 3 (ipykernel)",
   "language": "python",
   "name": "python3"
  },
  "language_info": {
   "codemirror_mode": {
    "name": "ipython",
    "version": 3
   },
   "file_extension": ".py",
   "mimetype": "text/x-python",
   "name": "python",
   "nbconvert_exporter": "python",
   "pygments_lexer": "ipython3",
   "version": "3.10.9"
  }
 },
 "nbformat": 4,
 "nbformat_minor": 5
}
