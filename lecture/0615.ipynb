{
 "cells": [
  {
   "cell_type": "code",
   "execution_count": 1,
   "id": "d0b247eb-e8e0-4216-8f81-30330d588f13",
   "metadata": {
    "tags": []
   },
   "outputs": [],
   "source": [
    "from tensorflow.keras.datasets import mnist\n",
    "from tensorflow.keras import layers\n",
    "from tensorflow import keras\n",
    "import numpy as np"
   ]
  },
  {
   "cell_type": "markdown",
   "id": "39d65b09-3d84-45e1-bd1e-c5f3db9c8cd4",
   "metadata": {},
   "source": [
    "### 로이터 데이터 셋 "
   ]
  },
  {
   "cell_type": "code",
   "execution_count": 27,
   "id": "34be17a5-ebc2-4631-b86c-216d750707ec",
   "metadata": {
    "tags": []
   },
   "outputs": [],
   "source": [
    "#46개 상호 배타적인 토픽으로 뉴스를 분류하는 신경망 만들기 \n",
    "from tensorflow.keras.datasets import reuters \n",
    "(train_data, train_labels), (test_data,test_labels)= reuters.load_data(num_words=10000)"
   ]
  },
  {
   "cell_type": "code",
   "execution_count": 28,
   "id": "e29630c8-848b-4499-a66b-9cda401883f7",
   "metadata": {
    "tags": []
   },
   "outputs": [
    {
     "data": {
      "text/plain": [
       "2246"
      ]
     },
     "execution_count": 28,
     "metadata": {},
     "output_type": "execute_result"
    }
   ],
   "source": [
    "len(train_data)\n",
    "len(test_data)"
   ]
  },
  {
   "cell_type": "code",
   "execution_count": 33,
   "id": "3f05cf3d-dc30-46bf-ade6-ac385c6b0c8e",
   "metadata": {
    "tags": []
   },
   "outputs": [
    {
     "data": {
      "text/plain": [
       "'???saidasaresultofitsdecemberacquisitionofspacecoitexpectsearningspersharein1987of115to130dlrspershareupfrom70ctsin1986thecompanysaidpretaxnetshouldrisetonineto10mlndlrsfromsixmlndlrsin1986andrentaloperationrevenuesto19to22mlndlrsfrom125mlndlrsitsaidcashflowpersharethisyearshouldbe250tothreedlrsreuter3'"
      ]
     },
     "execution_count": 33,
     "metadata": {},
     "output_type": "execute_result"
    }
   ],
   "source": [
    "#로이터 데이터셋을 텍스트로 디코딩\n",
    "word_index=reuters.get_word_index()\n",
    "reverse_word_index=dict([(value,key) for (key,value) in word_index.items()])\n",
    "decoded_newswire=''.join([reverse_word_index.get(i-3,'?') for i in train_data[0]])\n",
    "decoded_newswire"
   ]
  },
  {
   "cell_type": "code",
   "execution_count": 30,
   "id": "8594655e-9321-45ea-9ec6-d1e48257af39",
   "metadata": {
    "tags": []
   },
   "outputs": [
    {
     "data": {
      "text/plain": [
       "2"
      ]
     },
     "execution_count": 30,
     "metadata": {},
     "output_type": "execute_result"
    }
   ],
   "source": [
    "train_labels[94]\n",
    "#샘플에 연결된 레이블은 토픽의 인덱스로 0-45 사이 정수"
   ]
  },
  {
   "cell_type": "code",
   "execution_count": 38,
   "id": "b18fcd39-71b5-4688-9613-1d3feba54d54",
   "metadata": {
    "tags": []
   },
   "outputs": [
    {
     "data": {
      "text/plain": [
       "45"
      ]
     },
     "execution_count": 38,
     "metadata": {},
     "output_type": "execute_result"
    }
   ],
   "source": [
    "train_labels.max()"
   ]
  },
  {
   "cell_type": "code",
   "execution_count": 31,
   "id": "04d793e8-8ba3-46f2-9ed1-191ef2ad0eef",
   "metadata": {
    "tags": []
   },
   "outputs": [],
   "source": [
    "\n",
    "#정수 시퀀스를 멀티 - 핫 인코딩하기 , 리스트를 numpy로 바꿔주기 \n",
    "import numpy as np\n",
    "def vectorize_sequences(sequences, dimension=10000):\n",
    "    results= np.zeros((len(sequences), dimension))\n",
    "    for i, sequence in enumerate(sequences):\n",
    "        for j in sequence:\n",
    "            results[i,j]=1.\n",
    "    return results\n",
    "\n",
    "#벡터변환\n",
    "x_train= vectorize_sequences(train_data)\n",
    "x_test=vectorize_sequences(test_data) \n",
    "\n",
    "#레이블 원- 핫 인코딩, 0~45 정수라 y도 인코딩 해줘야함 , label 뉴스 총개수 \n",
    "def to_one_hot (labels,dimension=46):\n",
    "    results = np.zeros((len(labels), dimension))\n",
    "    for i, label in enumerate(labels):\n",
    "        results[i, label]=1. #float32 의 1. -> 소수로 바꿔야함 \n",
    "    return results\n",
    "y_train= to_one_hot(train_labels)\n",
    "y_test=to_one_hot(test_labels)"
   ]
  },
  {
   "cell_type": "code",
   "execution_count": 40,
   "id": "d2e31c58-a19e-4445-abef-a404c0c40e61",
   "metadata": {
    "collapsed": true,
    "jupyter": {
     "outputs_hidden": true
    },
    "tags": []
   },
   "outputs": [
    {
     "ename": "ValueError",
     "evalue": "setting an array element with a sequence.",
     "output_type": "error",
     "traceback": [
      "\u001b[1;31m---------------------------------------------------------------------------\u001b[0m",
      "\u001b[1;31mTypeError\u001b[0m                                 Traceback (most recent call last)",
      "\u001b[1;31mTypeError\u001b[0m: int() argument must be a string, a bytes-like object or a real number, not 'list'",
      "\nThe above exception was the direct cause of the following exception:\n",
      "\u001b[1;31mValueError\u001b[0m                                Traceback (most recent call last)",
      "Cell \u001b[1;32mIn[40], line 3\u001b[0m\n\u001b[0;32m      1\u001b[0m \u001b[38;5;66;03m#케라스에 레이블 인코딩하는 내장함수  -> 위에거 대신\u001b[39;00m\n\u001b[0;32m      2\u001b[0m \u001b[38;5;28;01mfrom\u001b[39;00m \u001b[38;5;21;01mkeras\u001b[39;00m\u001b[38;5;21;01m.\u001b[39;00m\u001b[38;5;21;01mutils\u001b[39;00m\u001b[38;5;21;01m.\u001b[39;00m\u001b[38;5;21;01mnp_utils\u001b[39;00m \u001b[38;5;28;01mimport\u001b[39;00m to_categorical\n\u001b[1;32m----> 3\u001b[0m y_train \u001b[38;5;241m=\u001b[39m \u001b[43mto_categorical\u001b[49m\u001b[43m(\u001b[49m\u001b[43mtrain_data\u001b[49m\u001b[43m)\u001b[49m\n\u001b[0;32m      4\u001b[0m y_test \u001b[38;5;241m=\u001b[39m to_categorical(test_data)\n\u001b[0;32m      5\u001b[0m \u001b[38;5;66;03m#dataframe -\u001b[39;00m\n",
      "File \u001b[1;32m~\\AppData\\Local\\Programs\\Python\\Python310\\lib\\site-packages\\keras\\utils\\np_utils.py:64\u001b[0m, in \u001b[0;36mto_categorical\u001b[1;34m(y, num_classes, dtype)\u001b[0m\n\u001b[0;32m     23\u001b[0m \u001b[38;5;129m@keras_export\u001b[39m(\u001b[38;5;124m\"\u001b[39m\u001b[38;5;124mkeras.utils.to_categorical\u001b[39m\u001b[38;5;124m\"\u001b[39m)\n\u001b[0;32m     24\u001b[0m \u001b[38;5;28;01mdef\u001b[39;00m \u001b[38;5;21mto_categorical\u001b[39m(y, num_classes\u001b[38;5;241m=\u001b[39m\u001b[38;5;28;01mNone\u001b[39;00m, dtype\u001b[38;5;241m=\u001b[39m\u001b[38;5;124m\"\u001b[39m\u001b[38;5;124mfloat32\u001b[39m\u001b[38;5;124m\"\u001b[39m):\n\u001b[0;32m     25\u001b[0m \u001b[38;5;250m    \u001b[39m\u001b[38;5;124;03m\"\"\"Converts a class vector (integers) to binary class matrix.\u001b[39;00m\n\u001b[0;32m     26\u001b[0m \n\u001b[0;32m     27\u001b[0m \u001b[38;5;124;03m    E.g. for use with `categorical_crossentropy`.\u001b[39;00m\n\u001b[1;32m   (...)\u001b[0m\n\u001b[0;32m     62\u001b[0m \u001b[38;5;124;03m    [0. 0. 0. 0.]\u001b[39;00m\n\u001b[0;32m     63\u001b[0m \u001b[38;5;124;03m    \"\"\"\u001b[39;00m\n\u001b[1;32m---> 64\u001b[0m     y \u001b[38;5;241m=\u001b[39m \u001b[43mnp\u001b[49m\u001b[38;5;241;43m.\u001b[39;49m\u001b[43marray\u001b[49m\u001b[43m(\u001b[49m\u001b[43my\u001b[49m\u001b[43m,\u001b[49m\u001b[43m \u001b[49m\u001b[43mdtype\u001b[49m\u001b[38;5;241;43m=\u001b[39;49m\u001b[38;5;124;43m\"\u001b[39;49m\u001b[38;5;124;43mint\u001b[39;49m\u001b[38;5;124;43m\"\u001b[39;49m\u001b[43m)\u001b[49m\n\u001b[0;32m     65\u001b[0m     input_shape \u001b[38;5;241m=\u001b[39m y\u001b[38;5;241m.\u001b[39mshape\n\u001b[0;32m     66\u001b[0m     \u001b[38;5;28;01mif\u001b[39;00m input_shape \u001b[38;5;129;01mand\u001b[39;00m input_shape[\u001b[38;5;241m-\u001b[39m\u001b[38;5;241m1\u001b[39m] \u001b[38;5;241m==\u001b[39m \u001b[38;5;241m1\u001b[39m \u001b[38;5;129;01mand\u001b[39;00m \u001b[38;5;28mlen\u001b[39m(input_shape) \u001b[38;5;241m>\u001b[39m \u001b[38;5;241m1\u001b[39m:\n",
      "\u001b[1;31mValueError\u001b[0m: setting an array element with a sequence."
     ]
    }
   ],
   "source": [
    "#케라스에 레이블 인코딩하는 내장함수  -> 위에거 대신\n",
    "from keras.utils.np_utils import to_categorical\n",
    "y_train = to_categorical(train_data)\n",
    "y_test = to_categorical(test_data)\n",
    "#dataframe -> pandas 의 get_dummies 사용 가능 "
   ]
  },
  {
   "cell_type": "code",
   "execution_count": 32,
   "id": "2ce8bb94-07fd-466d-8be4-98bcce1d3c40",
   "metadata": {
    "tags": []
   },
   "outputs": [],
   "source": [
    "#모델정의 \n",
    "model = keras.Sequential([layers.Dense(64, activation ='relu'),\n",
    "                         layers.Dense(64, activation = 'relu'),\n",
    "                         layers. Dense(46, activation='softmax')])\n",
    "#마지막 dense 46 -> 각 입력 샘플에 46 차원 벡터 출력 \n",
    "#softmax 활성화 함수 -> 각 입력 샘플마다 46개 출력 클래스에 대한 확률 분포 출력 \n",
    "#wmr, 46차원 출력 벡터를 만들며 output[i ] =어떤 샘플이 i 클레스에 속할 확률 , 46개 값 더하면 1 "
   ]
  },
  {
   "cell_type": "code",
   "execution_count": 34,
   "id": "293d2390-9648-4065-bf1b-18b6163ae166",
   "metadata": {
    "tags": []
   },
   "outputs": [],
   "source": [
    "#모델 컴파일\n",
    "#categorical_crossentropy, 두 확률 분포 사이의 거리 측정 (모델이 출력한 확률 분포와 진짜 레이블 분포 사이의 거리) \n",
    "model.compile(optimizer ='rmsprop', \n",
    "             loss ='categorical_crossentropy',\n",
    "             metrics=['accuracy'])"
   ]
  },
  {
   "cell_type": "code",
   "execution_count": 39,
   "id": "884ae718-6e31-484c-b909-756abb0f5497",
   "metadata": {
    "tags": []
   },
   "outputs": [],
   "source": [
    "#훈련검증 \n",
    "#훈련에서 1000개 샘플 떼서 검증 세트로 사용 \n",
    "x_val=x_train[:1000]\n",
    "partial_x_train=x_train[1000:]\n",
    "y_val=y_train[:1000]\n",
    "partial_y_train= y_train[1000:]"
   ]
  },
  {
   "cell_type": "code",
   "execution_count": 41,
   "id": "70473f3a-68dd-4aa8-8f86-2867664d7811",
   "metadata": {
    "tags": []
   },
   "outputs": [
    {
     "name": "stdout",
     "output_type": "stream",
     "text": [
      "Epoch 1/20\n",
      "16/16 [==============================] - 1s 24ms/step - loss: 2.7540 - accuracy: 0.5129 - val_loss: 1.7945 - val_accuracy: 0.6320\n",
      "Epoch 2/20\n",
      "16/16 [==============================] - 0s 16ms/step - loss: 1.4976 - accuracy: 0.6875 - val_loss: 1.3648 - val_accuracy: 0.6950\n",
      "Epoch 3/20\n",
      "16/16 [==============================] - 0s 13ms/step - loss: 1.1557 - accuracy: 0.7483 - val_loss: 1.2014 - val_accuracy: 0.7330\n",
      "Epoch 4/20\n",
      "16/16 [==============================] - 0s 13ms/step - loss: 0.9615 - accuracy: 0.7859 - val_loss: 1.1131 - val_accuracy: 0.7460\n",
      "Epoch 5/20\n",
      "16/16 [==============================] - 0s 14ms/step - loss: 0.7968 - accuracy: 0.8265 - val_loss: 1.0167 - val_accuracy: 0.7760\n",
      "Epoch 6/20\n",
      "16/16 [==============================] - 0s 14ms/step - loss: 0.6708 - accuracy: 0.8513 - val_loss: 0.9704 - val_accuracy: 0.7860\n",
      "Epoch 7/20\n",
      "16/16 [==============================] - 0s 14ms/step - loss: 0.5602 - accuracy: 0.8763 - val_loss: 0.9311 - val_accuracy: 0.7940\n",
      "Epoch 8/20\n",
      "16/16 [==============================] - 0s 15ms/step - loss: 0.4738 - accuracy: 0.8973 - val_loss: 0.9367 - val_accuracy: 0.7850\n",
      "Epoch 9/20\n",
      "16/16 [==============================] - 0s 15ms/step - loss: 0.3971 - accuracy: 0.9154 - val_loss: 0.8860 - val_accuracy: 0.8050\n",
      "Epoch 10/20\n",
      "16/16 [==============================] - 0s 16ms/step - loss: 0.3368 - accuracy: 0.9280 - val_loss: 0.8848 - val_accuracy: 0.8160\n",
      "Epoch 11/20\n",
      "16/16 [==============================] - 0s 14ms/step - loss: 0.2919 - accuracy: 0.9360 - val_loss: 0.9022 - val_accuracy: 0.8060\n",
      "Epoch 12/20\n",
      "16/16 [==============================] - 0s 14ms/step - loss: 0.2538 - accuracy: 0.9399 - val_loss: 0.8794 - val_accuracy: 0.8170\n",
      "Epoch 13/20\n",
      "16/16 [==============================] - 0s 13ms/step - loss: 0.2225 - accuracy: 0.9471 - val_loss: 0.8963 - val_accuracy: 0.8060\n",
      "Epoch 14/20\n",
      "16/16 [==============================] - 0s 14ms/step - loss: 0.1999 - accuracy: 0.9498 - val_loss: 0.9393 - val_accuracy: 0.8040\n",
      "Epoch 15/20\n",
      "16/16 [==============================] - 0s 14ms/step - loss: 0.1879 - accuracy: 0.9495 - val_loss: 0.9322 - val_accuracy: 0.8130\n",
      "Epoch 16/20\n",
      "16/16 [==============================] - 0s 14ms/step - loss: 0.1718 - accuracy: 0.9535 - val_loss: 0.9373 - val_accuracy: 0.8170\n",
      "Epoch 17/20\n",
      "16/16 [==============================] - 0s 15ms/step - loss: 0.1582 - accuracy: 0.9553 - val_loss: 0.9317 - val_accuracy: 0.8070\n",
      "Epoch 18/20\n",
      "16/16 [==============================] - 0s 15ms/step - loss: 0.1510 - accuracy: 0.9554 - val_loss: 0.9541 - val_accuracy: 0.8080\n",
      "Epoch 19/20\n",
      "16/16 [==============================] - 0s 14ms/step - loss: 0.1358 - accuracy: 0.9577 - val_loss: 0.9942 - val_accuracy: 0.8020\n",
      "Epoch 20/20\n",
      "16/16 [==============================] - 0s 14ms/step - loss: 0.1346 - accuracy: 0.9592 - val_loss: 0.9614 - val_accuracy: 0.8100\n"
     ]
    }
   ],
   "source": [
    "#훈련 \n",
    "history = model.fit(partial_x_train,\n",
    "                   partial_y_train,\n",
    "                   epochs=20,\n",
    "                   batch_size=512,\n",
    "                   validation_data=(x_val, y_val))"
   ]
  },
  {
   "cell_type": "code",
   "execution_count": 42,
   "id": "6ef48ab8-1460-4ba1-b905-3216f2f6f077",
   "metadata": {
    "tags": []
   },
   "outputs": [
    {
     "data": {
      "image/png": "[encoded data removed]",
      "text/plain": [
       "<Figure size 640x480 with 1 Axes>"
      ]
     },
     "metadata": {},
     "output_type": "display_data"
    },
    {
     "data": {
      "image/png": "[encoded data removed]",
      "text/plain": [
       "<Figure size 640x480 with 1 Axes>"
      ]
     },
     "metadata": {},
     "output_type": "display_data"
    }
   ],
   "source": [
    "#훈련 검증 손실 & 정확도 곡선 \n",
    "#훈련과 검증 손실 \n",
    "import matplotlib.pyplot as plt\n",
    "history_dict=history.history\n",
    "loss_values= history_dict['loss']\n",
    "val_loss_values = history_dict['val_loss']\n",
    "epochs = range(1, len(loss_values)+1)\n",
    "plt.plot(epochs, loss_values, 'bo', label='Training loss')#bo파란색 점  \n",
    "\n",
    "plt.plot(epochs, val_loss_values,\"b\",label='Validation loss')#b 파란색 실선\n",
    "plt.title('T & V loss')\n",
    "plt.xlabel('Epochs')\n",
    "plt.ylabel('Loss') \n",
    "plt.legend()\n",
    "plt.show()\n",
    "\n",
    "#훈련과 검증 정확도\n",
    "plt.clf() #그래프 초기화 \n",
    "acc= history_dict['accuracy']\n",
    "val_acc = history_dict['val_accuracy']\n",
    "plt.plot(epochs, acc, 'bo', label='Training acc')#bo파란색 점  \n",
    "plt.plot(epochs, val_acc,\"b\",label='Validation acc')#b 파란색 실선\n",
    "plt.title('T & V acc')\n",
    "plt.xlabel('Epochs')\n",
    "plt.ylabel('acc') \n",
    "plt.legend()\n",
    "plt.show()\n",
    "\n",
    "#손실 낮아지고 정확도 올라가야함 , 9번째 이후 과대적합 "
   ]
  },
  {
   "cell_type": "code",
   "execution_count": 44,
   "id": "6d84a126-19b9-4fcd-9708-9e7576b82f4f",
   "metadata": {
    "tags": []
   },
   "outputs": [
    {
     "name": "stdout",
     "output_type": "stream",
     "text": [
      "Epoch 1/9\n",
      "16/16 [==============================] - 1s 23ms/step - loss: 2.8124 - accuracy: 0.4567 - val_loss: 1.8968 - val_accuracy: 0.6010\n",
      "Epoch 2/9\n",
      "16/16 [==============================] - 0s 14ms/step - loss: 1.5643 - accuracy: 0.6642 - val_loss: 1.3874 - val_accuracy: 0.6920\n",
      "Epoch 3/9\n",
      "16/16 [==============================] - 0s 14ms/step - loss: 1.1936 - accuracy: 0.7372 - val_loss: 1.2057 - val_accuracy: 0.7490\n",
      "Epoch 4/9\n",
      "16/16 [==============================] - 0s 14ms/step - loss: 0.9747 - accuracy: 0.7918 - val_loss: 1.0750 - val_accuracy: 0.7740\n",
      "Epoch 5/9\n",
      "16/16 [==============================] - 0s 14ms/step - loss: 0.7996 - accuracy: 0.8281 - val_loss: 1.0179 - val_accuracy: 0.7770\n",
      "Epoch 6/9\n",
      "16/16 [==============================] - 0s 14ms/step - loss: 0.6631 - accuracy: 0.8602 - val_loss: 0.9467 - val_accuracy: 0.8090\n",
      "Epoch 7/9\n",
      "16/16 [==============================] - 0s 14ms/step - loss: 0.5524 - accuracy: 0.8841 - val_loss: 0.8994 - val_accuracy: 0.8150\n",
      "Epoch 8/9\n",
      "16/16 [==============================] - 0s 14ms/step - loss: 0.4667 - accuracy: 0.9042 - val_loss: 0.9278 - val_accuracy: 0.7980\n",
      "Epoch 9/9\n",
      "16/16 [==============================] - 0s 14ms/step - loss: 0.3880 - accuracy: 0.9218 - val_loss: 0.8682 - val_accuracy: 0.8190\n",
      "71/71 [==============================] - 0s 2ms/step - loss: 0.9334 - accuracy: 0.7841\n"
     ]
    },
    {
     "data": {
      "text/plain": [
       "[0.9334152936935425, 0.784060537815094]"
      ]
     },
     "execution_count": 44,
     "metadata": {},
     "output_type": "execute_result"
    }
   ],
   "source": [
    "#모델 처음부터 다시 훈련\n",
    "model = keras.Sequential([layers.Dense(64, activation ='relu'),\n",
    "                         layers.Dense(64, activation = 'relu'),\n",
    "                         layers. Dense(46, activation='softmax')])\n",
    "\n",
    "model.compile(optimizer ='rmsprop', \n",
    "             loss ='categorical_crossentropy',\n",
    "             metrics=['accuracy'])\n",
    "\n",
    "model.fit(partial_x_train,\n",
    "                   partial_y_train,\n",
    "                   epochs=9,\n",
    "                   batch_size=512,\n",
    "                   validation_data=(x_val, y_val))\n",
    "\n",
    "results=model.evaluate(x_test, y_test)\n",
    "results"
   ]
  },
  {
   "cell_type": "code",
   "execution_count": 46,
   "id": "3c545d41-fbbd-4bf4-9a7b-1ba04af70e30",
   "metadata": {
    "tags": []
   },
   "outputs": [
    {
     "name": "stdout",
     "output_type": "stream",
     "text": [
      "71/71 [==============================] - 0s 2ms/step\n"
     ]
    },
    {
     "data": {
      "text/plain": [
       "array([[3.2561107e-05, 4.0600804e-04, 1.6245160e-06, ..., 2.4225230e-05,\n",
       "        2.4292772e-06, 7.8777366e-06],\n",
       "       [3.3388883e-02, 1.3788366e-01, 5.7830615e-03, ..., 2.2362916e-04,\n",
       "        3.7432053e-06, 2.0636124e-05],\n",
       "       [4.9230363e-03, 7.0184183e-01, 1.0920176e-02, ..., 1.7690466e-04,\n",
       "        2.9976407e-04, 4.1305940e-04],\n",
       "       ...,\n",
       "       [4.7624864e-05, 7.1810419e-04, 4.9516970e-05, ..., 1.1840546e-04,\n",
       "        2.0997268e-04, 9.5572061e-05],\n",
       "       [4.6021519e-03, 2.3448132e-02, 3.5709384e-04, ..., 8.9862593e-04,\n",
       "        2.9692025e-04, 2.1686245e-04],\n",
       "       [1.9943346e-03, 5.1207495e-01, 2.8377736e-02, ..., 2.5987683e-04,\n",
       "        3.2184963e-04, 4.3435179e-04]], dtype=float32)"
      ]
     },
     "execution_count": 46,
     "metadata": {},
     "output_type": "execute_result"
    }
   ],
   "source": [
    "model.predict(x_test)\n",
    "#총 하나당 46개의 예측 이고 가장 큰 값이 예측 클래스 -> 확률이 가장 높은 클래스"
   ]
  },
  {
   "cell_type": "code",
   "execution_count": 47,
   "id": "58929194-4f14-442b-957a-0f8b8fcf00bd",
   "metadata": {
    "tags": []
   },
   "outputs": [
    {
     "name": "stdout",
     "output_type": "stream",
     "text": [
      "1/1 [==============================] - 0s 22ms/step\n"
     ]
    },
    {
     "data": {
      "text/plain": [
       "3"
      ]
     },
     "execution_count": 47,
     "metadata": {},
     "output_type": "execute_result"
    }
   ],
   "source": [
    "model.predict(x_test[0:1]).argmax()"
   ]
  },
  {
   "cell_type": "code",
   "execution_count": 50,
   "id": "1bc4af74-4a63-41f7-8fcd-34fc517603e4",
   "metadata": {
    "tags": []
   },
   "outputs": [
    {
     "name": "stdout",
     "output_type": "stream",
     "text": [
      "71/71 [==============================] - 0s 2ms/step\n"
     ]
    },
    {
     "data": {
      "text/plain": [
       "3"
      ]
     },
     "execution_count": 50,
     "metadata": {},
     "output_type": "execute_result"
    }
   ],
   "source": [
    "np.argmax(model.predict(x_test)[0])"
   ]
  },
  {
   "cell_type": "markdown",
   "id": "c2d1680a-d3c5-42bb-b0c0-88a1a306bf43",
   "metadata": {},
   "source": [
    "### 주택가격예측 : 회귀문제"
   ]
  },
  {
   "cell_type": "code",
   "execution_count": 96,
   "id": "921a5739-bf8a-40b0-acef-df5b4436a38f",
   "metadata": {
    "tags": []
   },
   "outputs": [],
   "source": [
    "from tensorflow.keras.datasets import boston_housing\n",
    "(train_data, train_targets), (test_data, test_targets)= (boston_housing.load_data())"
   ]
  },
  {
   "cell_type": "code",
   "execution_count": 97,
   "id": "5bfee4a6-ac05-48c8-9ab9-9aeba5ee8c29",
   "metadata": {
    "tags": []
   },
   "outputs": [
    {
     "data": {
      "text/plain": [
       "102"
      ]
     },
     "execution_count": 97,
     "metadata": {},
     "output_type": "execute_result"
    }
   ],
   "source": [
    "len(train_data)\n",
    "len(test_data)"
   ]
  },
  {
   "cell_type": "code",
   "execution_count": 98,
   "id": "2642e828-5226-48cf-970f-c8fa5295f829",
   "metadata": {
    "tags": []
   },
   "outputs": [
    {
     "data": {
      "text/plain": [
       "array([[1.23247e+00, 0.00000e+00, 8.14000e+00, ..., 2.10000e+01, 3.96900e+02, 1.87200e+01],\n",
       "       [2.17700e-02, 8.25000e+01, 2.03000e+00, ..., 1.47000e+01, 3.95380e+02, 3.11000e+00],\n",
       "       [4.89822e+00, 0.00000e+00, 1.81000e+01, ..., 2.02000e+01, 3.75520e+02, 3.26000e+00],\n",
       "       ...,\n",
       "       [3.46600e-02, 3.50000e+01, 6.06000e+00, ..., 1.69000e+01, 3.62250e+02, 7.83000e+00],\n",
       "       [2.14918e+00, 0.00000e+00, 1.95800e+01, ..., 1.47000e+01, 2.61950e+02, 1.57900e+01],\n",
       "       [1.43900e-02, 6.00000e+01, 2.93000e+00, ..., 1.56000e+01, 3.76700e+02, 4.38000e+00]])"
      ]
     },
     "execution_count": 98,
     "metadata": {},
     "output_type": "execute_result"
    }
   ],
   "source": [
    "train_data #앞에 대괄호 두개 -> 2차원 "
   ]
  },
  {
   "cell_type": "code",
   "execution_count": 99,
   "id": "bd8561dd-29e8-4eef-bc3f-85444307748d",
   "metadata": {
    "tags": []
   },
   "outputs": [
    {
     "data": {
      "text/plain": [
       "(404, 13)"
      ]
     },
     "execution_count": 99,
     "metadata": {},
     "output_type": "execute_result"
    }
   ],
   "source": [
    "train_data.shape"
   ]
  },
  {
   "cell_type": "code",
   "execution_count": 100,
   "id": "7390803a-95b3-4f93-87f3-6fb848aef650",
   "metadata": {
    "tags": []
   },
   "outputs": [
    {
     "data": {
      "text/plain": [
       "array([15.2, 42.3, 50. , 21.1, 17.7, 18.5, 11.3, 15.6, 15.6, 14.4, 12.1, 17.9, 23.1, 19.9, 15.7,  8.8, 50. , 22.5,\n",
       "       24.1, 27.5, 10.9, 30.8, 32.9, 24. , 18.5, 13.3, 22.9, 34.7, 16.6, 17.5, 22.3, 16.1, 14.9, 23.1, 34.9, 25. ,\n",
       "       13.9, 13.1, 20.4, 20. , 15.2, 24.7, 22.2, 16.7, 12.7, 15.6, 18.4, 21. , 30.1, 15.1, 18.7,  9.6, 31.5, 24.8,\n",
       "       19.1, 22. , 14.5, 11. , 32. , 29.4, 20.3, 24.4, 14.6, 19.5, 14.1, 14.3, 15.6, 10.5,  6.3, 19.3, 19.3, 13.4,\n",
       "       36.4, 17.8, 13.5, 16.5,  8.3, 14.3, 16. , 13.4, 28.6, 43.5, 20.2, 22. , 23. , 20.7, 12.5, 48.5, 14.6, 13.4,\n",
       "       23.7, 50. , 21.7, 39.8, 38.7, 22.2, 34.9, 22.5, 31.1, 28.7, 46. , 41.7, 21. , 26.6, 15. , 24.4, 13.3, 21.2,\n",
       "       11.7, 21.7, 19.4, 50. , 22.8, 19.7, 24.7, 36.2, 14.2, 18.9, 18.3, 20.6, 24.6, 18.2,  8.7, 44. , 10.4, 13.2,\n",
       "       21.2, 37. , 30.7, 22.9, 20. , 19.3, 31.7, 32. , 23.1, 18.8, 10.9, 50. , 19.6,  5. , 14.4, 19.8, 13.8, 19.6,\n",
       "       23.9, 24.5, 25. , 19.9, 17.2, 24.6, 13.5, 26.6, 21.4, 11.9, 22.6, 19.6,  8.5, 23.7, 23.1, 22.4, 20.5, 23.6,\n",
       "       18.4, 35.2, 23.1, 27.9, 20.6, 23.7, 28. , 13.6, 27.1, 23.6, 20.6, 18.2, 21.7, 17.1,  8.4, 25.3, 13.8, 22.2,\n",
       "       18.4, 20.7, 31.6, 30.5, 20.3,  8.8, 19.2, 19.4, 23.1, 23. , 14.8, 48.8, 22.6, 33.4, 21.1, 13.6, 32.2, 13.1,\n",
       "       23.4, 18.9, 23.9, 11.8, 23.3, 22.8, 19.6, 16.7, 13.4, 22.2, 20.4, 21.8, 26.4, 14.9, 24.1, 23.8, 12.3, 29.1,\n",
       "       21. , 19.5, 23.3, 23.8, 17.8, 11.5, 21.7, 19.9, 25. , 33.4, 28.5, 21.4, 24.3, 27.5, 33.1, 16.2, 23.3, 48.3,\n",
       "       22.9, 22.8, 13.1, 12.7, 22.6, 15. , 15.3, 10.5, 24. , 18.5, 21.7, 19.5, 33.2, 23.2,  5. , 19.1, 12.7, 22.3,\n",
       "       10.2, 13.9, 16.3, 17. , 20.1, 29.9, 17.2, 37.3, 45.4, 17.8, 23.2, 29. , 22. , 18. , 17.4, 34.6, 20.1, 25. ,\n",
       "       15.6, 24.8, 28.2, 21.2, 21.4, 23.8, 31. , 26.2, 17.4, 37.9, 17.5, 20. ,  8.3, 23.9,  8.4, 13.8,  7.2, 11.7,\n",
       "       17.1, 21.6, 50. , 16.1, 20.4, 20.6, 21.4, 20.6, 36.5,  8.5, 24.8, 10.8, 21.9, 17.3, 18.9, 36.2, 14.9, 18.2,\n",
       "       33.3, 21.8, 19.7, 31.6, 24.8, 19.4, 22.8,  7.5, 44.8, 16.8, 18.7, 50. , 50. , 19.5, 20.1, 50. , 17.2, 20.8,\n",
       "       19.3, 41.3, 20.4, 20.5, 13.8, 16.5, 23.9, 20.6, 31.5, 23.3, 16.8, 14. , 33.8, 36.1, 12.8, 18.3, 18.7, 19.1,\n",
       "       29. , 30.1, 50. , 50. , 22. , 11.9, 37.6, 50. , 22.7, 20.8, 23.5, 27.9, 50. , 19.3, 23.9, 22.6, 15.2, 21.7,\n",
       "       19.2, 43.8, 20.3, 33.2, 19.9, 22.5, 32.7, 22. , 17.1, 19. , 15. , 16.1, 25.1, 23.7, 28.7, 37.2, 22.6, 16.4,\n",
       "       25. , 29.8, 22.1, 17.4, 18.1, 30.3, 17.5, 24.7, 12.6, 26.5, 28.7, 13.3, 10.4, 24.4, 23. , 20. , 17.8,  7. ,\n",
       "       11.8, 24.4, 13.8, 19.4, 25.2, 19.4, 19.4, 29.1])"
      ]
     },
     "execution_count": 100,
     "metadata": {},
     "output_type": "execute_result"
    }
   ],
   "source": [
    "train_targets"
   ]
  },
  {
   "cell_type": "code",
   "execution_count": 101,
   "id": "64d0d4e7-03bf-4ec0-b7f2-f2ccf6c96e04",
   "metadata": {
    "tags": []
   },
   "outputs": [],
   "source": [
    "#데이터 정규화\n",
    "#표준화 mean 0 표준편차 1\n",
    "#test_data 정규화할때 훈련데이터에서 계산한 값 ! 절대로 테스트데이터 값 사용 안됨\n",
    "mean=train_data.mean(axis=0) #축별로 mean \n",
    "train_data-=mean\n",
    "std= train_data.std(axis=0)\n",
    "train_data /= std\n",
    "test_data -= mean\n",
    "test_data /= std"
   ]
  },
  {
   "cell_type": "code",
   "execution_count": 102,
   "id": "e3e29e84-6448-475c-bd3d-85dfe6bfe659",
   "metadata": {
    "tags": []
   },
   "outputs": [],
   "source": [
    "#모델 정의\n",
    "#활성화 함수(출력함수 제한 ) 없음 -> 회귀 스칼라 (하나의 연속적인 값 예측)\n",
    "def build_model ():\n",
    "    model= keras.Sequential ([\n",
    "    layers.Dense(64, activation ='relu'),\n",
    "    layers.Dense(64, activation = 'relu'),\n",
    "    layers.Dense(1)])\n",
    "    model.compile(optimizer ='rmsprop', loss='mse', metrics=['mae'])\n",
    "    return model "
   ]
  },
  {
   "cell_type": "code",
   "execution_count": 103,
   "id": "273faaea-2bda-4088-82be-bd46a2fda2cc",
   "metadata": {
    "tags": []
   },
   "outputs": [
    {
     "name": "stdout",
     "output_type": "stream",
     "text": [
      "0번째 폴드 처리 중\n",
      "1번째 폴드 처리 중\n",
      "2번째 폴드 처리 중\n",
      "3번째 폴드 처리 중\n"
     ]
    }
   ],
   "source": [
    "#훈련 검증 kfold\n",
    "k=4\n",
    "num_val_samples=len(train_data)//k\n",
    "num_epochs = 100\n",
    "all_scores=[]\n",
    "for i in range (k):\n",
    "    print(f'{i}번째 폴드 처리 중')\n",
    "    val_data = train_data[i * num_val_samples : (i+1) * num_val_samples] \n",
    "#num_val_samples 검증 데이터 준비 \n",
    "    val_targets= train_targets[i * num_val_samples: (i+1) * num_val_samples]\n",
    "\n",
    "    partial_train_data = np.concatenate ([train_data[:i * num_val_samples],\n",
    "                                       train_data[(i+1)* num_val_samples:]], axis=0 )\n",
    "\n",
    "    partial_train_targets = np.concatenate([train_targets[:i * num_val_samples],\n",
    "                                        train_targets[(i + 1) * num_val_samples:]],axis=0)\n",
    "    model = build_model()\n",
    "    model.fit(partial_train_data, partial_train_targets, epochs=num_epochs, batch_size=16, verbose=0)\n",
    "    val_mse, val_mae = model.evaluate(val_data, val_targets, verbose=0)\n",
    "    all_scores.append(val_mae)\n",
    "\n",
    "\n"
   ]
  },
  {
   "cell_type": "code",
   "execution_count": 105,
   "id": "357e241a-d589-4a56-ab9a-48431052b6d7",
   "metadata": {
    "tags": []
   },
   "outputs": [
    {
     "name": "stdout",
     "output_type": "stream",
     "text": [
      "Processing fold #0\n",
      "Processing fold #1\n",
      "Processing fold #2\n",
      "Processing fold #3\n"
     ]
    }
   ],
   "source": [
    "num_epochs = 500\n",
    "all_mae_histories = [] \n",
    "for i in range(k):\n",
    "    print(f\"Processing fold #{i}\")\n",
    "    val_data = train_data[i * num_val_samples: (i + 1) * num_val_samples] \n",
    "    val_targets = train_targets[i * num_val_samples: (i + 1) * num_val_samples]\n",
    "    partial_train_data = np.concatenate( \n",
    "    [train_data[:i * num_val_samples],\n",
    "     train_data[(i + 1) * num_val_samples:]],\n",
    "     axis=0)\n",
    "    partial_train_targets = np.concatenate(\n",
    "     [train_targets[:i * num_val_samples],\n",
    "     train_targets[(i + 1) * num_val_samples:]],\n",
    "     axis=0)\n",
    "    model = build_model() \n",
    "    history = model.fit(partial_train_data, partial_train_targets, \n",
    "     validation_data=(val_data, val_targets),\n",
    "     epochs=num_epo- rkr vhhs, batch_size=16, verbose=0)\n",
    "    mae_history = history.history[\"val_mae\"]\n",
    "    all_mae_histories.append(mae_history)\n"
   ]
  },
  {
   "cell_type": "code",
   "execution_count": 106,
   "id": "5ef7f122-5e7f-42f9-9575-d0b7be4364a9",
   "metadata": {
    "tags": []
   },
   "outputs": [],
   "source": [
    "average_mae_history=[np.mean([x[i] for x in all_mae_histories]) for i in range (num_epochs)]"
   ]
  },
  {
   "cell_type": "code",
   "execution_count": 107,
   "id": "db2ba1c0-bece-4a67-a186-0c35263aab81",
   "metadata": {
    "tags": []
   },
   "outputs": [
    {
     "data": {
      "image/png": "[encoded data removed]",
      "text/plain": [
       "<Figure size 640x480 with 1 Axes>"
      ]
     },
     "metadata": {},
     "output_type": "display_data"
    }
   ],
   "source": [
    "plt.plot(range(1, len(average_mae_history) + 1), average_mae_history)\n",
    "plt.xlabel(\"Epochs\")\n",
    "plt.ylabel(\"Validation MAE\")\n",
    "plt.show()"
   ]
  },
  {
   "cell_type": "code",
   "execution_count": 108,
   "id": "63b4c225-d8b1-4a90-b65f-7c5886a59cbb",
   "metadata": {
    "tags": []
   },
   "outputs": [
    {
     "data": {
      "image/png": "[encoded data removed]",
      "text/plain": [
       "<Figure size 640x480 with 1 Axes>"
      ]
     },
     "metadata": {},
     "output_type": "display_data"
    }
   ],
   "source": [
    "truncated_mae_history = average_mae_history[10:]\n",
    "plt.plot(range(1, len(truncated_mae_history) + 1), truncated_mae_history)\n",
    "plt.xlabel(\"Epochs\")\n",
    "plt.ylabel(\"Validation MAE\")\n",
    "plt.show()"
   ]
  },
  {
   "cell_type": "code",
   "execution_count": 110,
   "id": "03828a94-7125-4764-bcae-3a0f1bbefe80",
   "metadata": {
    "tags": []
   },
   "outputs": [
    {
     "name": "stdout",
     "output_type": "stream",
     "text": [
      "4/4 [==============================] - 0s 2ms/step - loss: 15.1738 - mae: 2.4886\n"
     ]
    }
   ],
   "source": [
    "model = build_model() \n",
    "model.fit(train_data, train_targets, \n",
    " epochs=130, batch_size=16, verbose=0)\n",
    "test_mse_score, test_mae_score = model.evaluate(test_data, test_targets)"
   ]
  },
  {
   "cell_type": "code",
   "execution_count": 111,
   "id": "dd84a418-232e-4421-9a24-3f8d76e01122",
   "metadata": {
    "tags": []
   },
   "outputs": [
    {
     "data": {
      "text/plain": [
       "2.488637685775757"
      ]
     },
     "execution_count": 111,
     "metadata": {},
     "output_type": "execute_result"
    }
   ],
   "source": [
    "test_mae_score"
   ]
  },
  {
   "cell_type": "code",
   "execution_count": 113,
   "id": "dedf9444-8436-4d5f-bbe0-0f50a75a6b2d",
   "metadata": {
    "tags": []
   },
   "outputs": [
    {
     "name": "stdout",
     "output_type": "stream",
     "text": [
      "4/4 [==============================] - 0s 1ms/step\n"
     ]
    },
    {
     "data": {
      "text/plain": [
       "array([7.8508706], dtype=float32)"
      ]
     },
     "execution_count": 113,
     "metadata": {},
     "output_type": "execute_result"
    }
   ],
   "source": [
    "predictions=model.predict(test_data)\n",
    "predictions[0]"
   ]
  },
  {
   "cell_type": "code",
   "execution_count": 76,
   "id": "73428070-c88e-4510-a31a-1ea769eb8fc7",
   "metadata": {
    "tags": []
   },
   "outputs": [
    {
     "ename": "SyntaxError",
     "evalue": "invalid syntax (3073705835.py, line 7)",
     "output_type": "error",
     "traceback": [
      "\u001b[1;36m  Cell \u001b[1;32mIn[76], line 7\u001b[1;36m\u001b[0m\n\u001b[1;33m    axis=0) partial_train_targets = np.concatenate([train_targets[:i * num_val_samples],\u001b[0m\n\u001b[1;37m            ^\u001b[0m\n\u001b[1;31mSyntaxError\u001b[0m\u001b[1;31m:\u001b[0m invalid syntax\n"
     ]
    }
   ],
   "source": [
    "model= build_model()\n",
    "history= model.fit(train_data, train_targets, epochs=130, batch_size =16, verbose =0)\n",
    "history.history['loss']\n",
    "\n",
    "val_targets = train_targets[i * num_val_samples: (i + 1) * num_val_samples]\n",
    "partial_train_data = np.concatenate( [train_data[:i * num_val_samples],train_data[(i + 1) * num_val_samples:]],\n",
    "axis=0) partial_train_targets = np.concatenate([train_targets[:i * num_val_samples],\n",
    "train_targets[(i + 1) * num_val_samples:]],axis=0)\n",
    "model = build_model()\n",
    "model.fit(partial_train_data, partial_train_targets, epochs=num_epochs, batch_size=16, verbose=0)\n",
    " val_mse, val_mae = model.evaluate(val_data, val_targets, verbose=0) all_scores.append(val_mae)\n",
    "\n",
    "\n",
    " val_targets = train_targets[i * num_val_samples: (i + 1) * num_val_samples]\n",
    " partial_train_data = np.concatenate( [train_data[:i * num_val_samples],train_data[(i + 1) * num_val_samples:]],\n",
    " axis=0)\n",
    " partial_train_targets = np.concatenate(\n",
    " [train_targets[:i * num_val_samples],\n",
    " train_targets[(i + 1) * num_val_samples:]],\n",
    " axis=0)\n",
    " model = build_model()\n",
    "model.fit(partial_train_data, partial_train_targets,\n",
    " epochs=num_epochs, batch_size=16, verbose=0)val_mse, val_mae = model.(val_data, val_targets, verbose=0)all_scores.append(val_mae)\n"
   ]
  },
  {
   "cell_type": "code",
   "execution_count": 68,
   "id": "a31b9e16-21cf-4afe-b580-88d5c68a75d7",
   "metadata": {
    "collapsed": true,
    "jupyter": {
     "outputs_hidden": true
    },
    "tags": []
   },
   "outputs": [
    {
     "data": {
      "text/plain": [
       "[19.87307357788086,\n",
       " 15.16624927520752,\n",
       " 9.302973747253418,\n",
       " 5.963306427001953,\n",
       " 4.568565845489502,\n",
       " 3.9180548191070557,\n",
       " 3.4790477752685547,\n",
       " 3.264223098754883,\n",
       " 3.0391011238098145,\n",
       " 2.9233083724975586,\n",
       " 2.7808218002319336,\n",
       " 2.7052829265594482,\n",
       " 2.6295459270477295,\n",
       " 2.5426247119903564,\n",
       " 2.5054335594177246,\n",
       " 2.420928716659546,\n",
       " 2.372249126434326,\n",
       " 2.3568968772888184,\n",
       " 2.3259518146514893,\n",
       " 2.2712912559509277,\n",
       " 2.2545876502990723,\n",
       " 2.237774133682251,\n",
       " 2.253382921218872,\n",
       " 2.170452833175659,\n",
       " 2.1757216453552246,\n",
       " 2.1600136756896973,\n",
       " 2.1230826377868652,\n",
       " 2.116762161254883,\n",
       " 2.1178290843963623,\n",
       " 2.054020881652832,\n",
       " 2.0581583976745605,\n",
       " 2.081936836242676,\n",
       " 2.078988790512085,\n",
       " 2.0331292152404785,\n",
       " 2.0432560443878174,\n",
       " 2.024376392364502,\n",
       " 2.0073964595794678,\n",
       " 1.9947056770324707,\n",
       " 1.9856590032577515,\n",
       " 1.9380096197128296,\n",
       " 1.9492769241333008,\n",
       " 1.9627306461334229,\n",
       " 1.929733395576477,\n",
       " 1.9397916793823242,\n",
       " 1.9049948453903198,\n",
       " 1.9447181224822998,\n",
       " 1.9173009395599365,\n",
       " 1.9128414392471313,\n",
       " 1.9238307476043701,\n",
       " 1.8899834156036377,\n",
       " 1.8838105201721191,\n",
       " 1.888891339302063,\n",
       " 1.8415647745132446,\n",
       " 1.8396518230438232,\n",
       " 1.854516625404358,\n",
       " 1.8272590637207031,\n",
       " 1.8223453760147095,\n",
       " 1.8120641708374023,\n",
       " 1.7807590961456299,\n",
       " 1.8014707565307617,\n",
       " 1.7811789512634277,\n",
       " 1.8106212615966797,\n",
       " 1.7905206680297852,\n",
       " 1.7838494777679443,\n",
       " 1.7536760568618774,\n",
       " 1.743200421333313,\n",
       " 1.741304636001587,\n",
       " 1.7322757244110107,\n",
       " 1.7313599586486816,\n",
       " 1.7268575429916382,\n",
       " 1.7260642051696777,\n",
       " 1.7097641229629517,\n",
       " 1.690470576286316,\n",
       " 1.7018120288848877,\n",
       " 1.697607159614563,\n",
       " 1.7163816690444946,\n",
       " 1.7004410028457642,\n",
       " 1.7121403217315674,\n",
       " 1.6483246088027954,\n",
       " 1.6684356927871704,\n",
       " 1.6657295227050781,\n",
       " 1.6325610876083374,\n",
       " 1.6694347858428955,\n",
       " 1.637555718421936,\n",
       " 1.6697653532028198,\n",
       " 1.6320654153823853,\n",
       " 1.5859754085540771,\n",
       " 1.628840684890747,\n",
       " 1.615249752998352,\n",
       " 1.5964908599853516,\n",
       " 1.605954647064209,\n",
       " 1.588336706161499,\n",
       " 1.5336347818374634,\n",
       " 1.6081867218017578,\n",
       " 1.5795667171478271,\n",
       " 1.5629078149795532,\n",
       " 1.578813910484314,\n",
       " 1.5588831901550293,\n",
       " 1.5233885049819946,\n",
       " 1.5717424154281616,\n",
       " 1.5133671760559082,\n",
       " 1.560384750366211,\n",
       " 1.5363383293151855,\n",
       " 1.521159052848816,\n",
       " 1.514865517616272,\n",
       " 1.5364683866500854,\n",
       " 1.510958194732666,\n",
       " 1.4960025548934937,\n",
       " 1.4890183210372925,\n",
       " 1.5161969661712646,\n",
       " 1.4559084177017212,\n",
       " 1.4744967222213745,\n",
       " 1.4935848712921143,\n",
       " 1.4721951484680176,\n",
       " 1.4504927396774292,\n",
       " 1.4694377183914185,\n",
       " 1.4389525651931763,\n",
       " 1.433763861656189,\n",
       " 1.4483503103256226,\n",
       " 1.4407776594161987,\n",
       " 1.4605587720870972,\n",
       " 1.4605762958526611,\n",
       " 1.4339748620986938,\n",
       " 1.4138109683990479,\n",
       " 1.4192864894866943,\n",
       " 1.4307262897491455,\n",
       " 1.4214794635772705,\n",
       " 1.4080733060836792,\n",
       " 1.4086263179779053,\n",
       " 1.419540524482727]"
      ]
     },
     "execution_count": 68,
     "metadata": {},
     "output_type": "execute_result"
    }
   ],
   "source": [
    "history.history['mae']"
   ]
  },
  {
   "cell_type": "code",
   "execution_count": 69,
   "id": "c51601bb-4201-4bcb-8ba7-5c486547b058",
   "metadata": {
    "collapsed": true,
    "jupyter": {
     "outputs_hidden": true
    },
    "tags": []
   },
   "outputs": [
    {
     "name": "stdout",
     "output_type": "stream",
     "text": [
      "4/4 [==============================] - 0s 1ms/step\n"
     ]
    },
    {
     "data": {
      "text/plain": [
       "array([[ 8.185704 ],\n",
       "       [18.271854 ],\n",
       "       [21.541801 ],\n",
       "       [35.523968 ],\n",
       "       [24.741323 ],\n",
       "       [22.795547 ],\n",
       "       [27.902794 ],\n",
       "       [22.442694 ],\n",
       "       [19.044804 ],\n",
       "       [21.658642 ],\n",
       "       [19.097546 ],\n",
       "       [16.02457  ],\n",
       "       [15.274125 ],\n",
       "       [43.32948  ],\n",
       "       [20.68976  ],\n",
       "       [20.691387 ],\n",
       "       [26.08276  ],\n",
       "       [18.283684 ],\n",
       "       [18.340515 ],\n",
       "       [25.88637  ],\n",
       "       [10.836934 ],\n",
       "       [12.239945 ],\n",
       "       [21.823193 ],\n",
       "       [16.921608 ],\n",
       "       [18.83279  ],\n",
       "       [24.816406 ],\n",
       "       [29.111214 ],\n",
       "       [30.279285 ],\n",
       "       [11.057002 ],\n",
       "       [18.769854 ],\n",
       "       [19.709631 ],\n",
       "       [15.72182  ],\n",
       "       [32.891415 ],\n",
       "       [23.87172  ],\n",
       "       [19.042562 ],\n",
       "       [ 6.6555047],\n",
       "       [16.539902 ],\n",
       "       [17.305866 ],\n",
       "       [18.014633 ],\n",
       "       [26.67633  ],\n",
       "       [32.253857 ],\n",
       "       [27.360983 ],\n",
       "       [12.910013 ],\n",
       "       [42.88432  ],\n",
       "       [28.294773 ],\n",
       "       [26.116974 ],\n",
       "       [28.003254 ],\n",
       "       [18.719683 ],\n",
       "       [22.803078 ],\n",
       "       [23.416798 ],\n",
       "       [36.689724 ],\n",
       "       [21.423445 ],\n",
       "       [10.221353 ],\n",
       "       [13.708535 ],\n",
       "       [37.66244  ],\n",
       "       [28.443615 ],\n",
       "       [11.673903 ],\n",
       "       [50.406864 ],\n",
       "       [33.596657 ],\n",
       "       [24.890118 ],\n",
       "       [24.245464 ],\n",
       "       [15.647594 ],\n",
       "       [16.704052 ],\n",
       "       [20.087898 ],\n",
       "       [23.68664  ],\n",
       "       [21.320885 ],\n",
       "       [13.236812 ],\n",
       "       [21.838203 ],\n",
       "       [11.266679 ],\n",
       "       [ 6.975435 ],\n",
       "       [25.303009 ],\n",
       "       [30.163176 ],\n",
       "       [26.926147 ],\n",
       "       [11.085933 ],\n",
       "       [26.079037 ],\n",
       "       [18.963825 ],\n",
       "       [18.45374  ],\n",
       "       [24.764145 ],\n",
       "       [36.69112  ],\n",
       "       [ 9.6993   ],\n",
       "       [22.101093 ],\n",
       "       [38.580463 ],\n",
       "       [17.139334 ],\n",
       "       [12.931292 ],\n",
       "       [18.153885 ],\n",
       "       [18.196686 ],\n",
       "       [22.433115 ],\n",
       "       [20.852837 ],\n",
       "       [22.359756 ],\n",
       "       [30.765205 ],\n",
       "       [20.11627  ],\n",
       "       [18.918383 ],\n",
       "       [27.398209 ],\n",
       "       [44.725296 ],\n",
       "       [37.833874 ],\n",
       "       [20.013988 ],\n",
       "       [36.414524 ],\n",
       "       [48.054306 ],\n",
       "       [24.775608 ],\n",
       "       [48.879856 ],\n",
       "       [29.975365 ],\n",
       "       [21.207949 ]], dtype=float32)"
      ]
     },
     "execution_count": 69,
     "metadata": {},
     "output_type": "execute_result"
    }
   ],
   "source": [
    "model.predict(test_data)"
   ]
  },
  {
   "cell_type": "code",
   "execution_count": 71,
   "id": "d9b058ad-9585-4d18-a724-3a5ea25e65de",
   "metadata": {
    "tags": []
   },
   "outputs": [
    {
     "name": "stdout",
     "output_type": "stream",
     "text": [
      "4/4 [==============================] - 0s 1ms/step - loss: 15.4440 - mae: 2.4305\n"
     ]
    },
    {
     "data": {
      "text/plain": [
       "[15.443964958190918, 2.430501937866211]"
      ]
     },
     "execution_count": 71,
     "metadata": {},
     "output_type": "execute_result"
    }
   ],
   "source": [
    "model.evaluate(test_data, test_targets)"
   ]
  },
  {
   "cell_type": "code",
   "execution_count": null,
   "id": "e710e284-1eed-4c1f-b0f8-841c3047f2fb",
   "metadata": {},
   "outputs": [],
   "source": [
    "plr.plor(range(1,history.history['' ])\n",
    "    maex.,,,,,sg\n",
    "        데-이터가어떻게저열ㄹ되어있는지 나누는것\n",
    "         보다다"
   ]
  },
  {
   "cell_type": "markdown",
   "id": "d58af35f-03d8-42b2-95e0-e897299ed119",
   "metadata": {},
   "source": [
    "### 패션 분류 문제 "
   ]
  },
  {
   "cell_type": "code",
   "execution_count": 8,
   "id": "47a55947-23a1-4035-bd89-7b0c92463ee8",
   "metadata": {
    "tags": []
   },
   "outputs": [],
   "source": [
    "from tensorflow.keras.datasets import fashion_mnist\n",
    "(train_images,train_labels),(test_images,test_labels)=fashion_mnist.load_data()"
   ]
  },
  {
   "cell_type": "code",
   "execution_count": 9,
   "id": "36cd8cad-4be3-4a5c-939e-f42ed40e001e",
   "metadata": {
    "tags": []
   },
   "outputs": [
    {
     "data": {
      "text/plain": [
       "(60000, 28, 28)"
      ]
     },
     "execution_count": 9,
     "metadata": {},
     "output_type": "execute_result"
    }
   ],
   "source": [
    "train_images.shape"
   ]
  },
  {
   "cell_type": "code",
   "execution_count": 10,
   "id": "25d6c867-3ac6-4c72-b1a1-84f361f54e9e",
   "metadata": {
    "tags": []
   },
   "outputs": [
    {
     "data": {
      "text/plain": [
       "(10000, 28, 28)"
      ]
     },
     "execution_count": 10,
     "metadata": {},
     "output_type": "execute_result"
    }
   ],
   "source": [
    "test_images.shape"
   ]
  },
  {
   "cell_type": "code",
   "execution_count": 11,
   "id": "30526ef3-68bd-42fb-b682-57ab01b89bfa",
   "metadata": {
    "tags": []
   },
   "outputs": [
    {
     "data": {
      "text/plain": [
       "<matplotlib.image.AxesImage at 0x21241198190>"
      ]
     },
     "execution_count": 11,
     "metadata": {},
     "output_type": "execute_result"
    },
    {
     "data": {
      "image/png": "[encoded data removed]",
      "text/plain": [
       "<Figure size 640x480 with 1 Axes>"
      ]
     },
     "metadata": {},
     "output_type": "display_data"
    }
   ],
   "source": [
    "import matplotlib.pyplot as plt\n",
    "train_images[0]\n",
    "plt.imshow(train_images[0], cmap='gray') #사진보기 "
   ]
  },
  {
   "cell_type": "code",
   "execution_count": 13,
   "id": "3abb6ea4-a0be-416a-8178-f52f00193d02",
   "metadata": {
    "tags": []
   },
   "outputs": [
    {
     "name": "stdout",
     "output_type": "stream",
     "text": [
      "[[  0   0   0   0   0   0   0   0   0   0   0   0   0   0   0   0   0   0   0   0   0   0   0   0   0   0   0   0]\n",
      " [  0   0   0   0   0   0   0   0   0   0   0   0   0   0   0   0   0   0   0   0   0   0   0   0   0   0   0   0]\n",
      " [  0   0   0   0   0   0   0   0   0   0   0   0   0   0   0   0   0   0   0   0   0   0   0   0   0   0   0   0]\n",
      " [  0   0   0   0   0   0   0   0   0   0   0   0   1   0   0  13  73   0   0   1   4   0   0   0   0   1   1   0]\n",
      " [  0   0   0   0   0   0   0   0   0   0   0   0   3   0  36 136 127  62  54   0   0   0   1   3   4   0   0   3]\n",
      " [  0   0   0   0   0   0   0   0   0   0   0   0   6   0 102 204 176 134 144 123  23   0   0   0   0  12  10   0]\n",
      " [  0   0   0   0   0   0   0   0   0   0   0   0   0   0 155 236 207 178 107 156 161 109  64  23  77 130  72  15]\n",
      " [  0   0   0   0   0   0   0   0   0   0   0   1   0  69 207 223 218 216 216 163 127 121 122 146 141  88 172  66]\n",
      " [  0   0   0   0   0   0   0   0   0   1   1   1   0 200 232 232 233 229 223 223 215 213 164 127 123 196 229   0]\n",
      " [  0   0   0   0   0   0   0   0   0   0   0   0   0 183 225 216 223 228 235 227 224 222 224 221 223 245 173   0]\n",
      " [  0   0   0   0   0   0   0   0   0   0   0   0   0 193 228 218 213 198 180 212 210 211 213 223 220 243 202   0]\n",
      " [  0   0   0   0   0   0   0   0   0   1   3   0  12 219 220 212 218 192 169 227 208 218 224 212 226 197 209  52]\n",
      " [  0   0   0   0   0   0   0   0   0   0   6   0  99 244 222 220 218 203 198 221 215 213 222 220 245 119 167  56]\n",
      " [  0   0   0   0   0   0   0   0   0   4   0   0  55 236 228 230 228 240 232 213 218 223 234 217 217 209  92   0]\n",
      " [  0   0   1   4   6   7   2   0   0   0   0   0 237 226 217 223 222 219 222 221 216 223 229 215 218 255  77   0]\n",
      " [  0   3   0   0   0   0   0   0   0  62 145 204 228 207 213 221 218 208 211 218 224 223 219 215 224 244 159   0]\n",
      " [  0   0   0   0  18  44  82 107 189 228 220 222 217 226 200 205 211 230 224 234 176 188 250 248 233 238 215   0]\n",
      " [  0  57 187 208 224 221 224 208 204 214 208 209 200 159 245 193 206 223 255 255 221 234 221 211 220 232 246   0]\n",
      " [  3 202 228 224 221 211 211 214 205 205 205 220 240  80 150 255 229 221 188 154 191 210 204 209 222 228 225   0]\n",
      " [ 98 233 198 210 222 229 229 234 249 220 194 215 217 241  65  73 106 117 168 219 221 215 217 223 223 224 229  29]\n",
      " [ 75 204 212 204 193 205 211 225 216 185 197 206 198 213 240 195 227 245 239 223 218 212 209 222 220 221 230  67]\n",
      " [ 48 203 183 194 213 197 185 190 194 192 202 214 219 221 220 236 225 216 199 206 186 181 177 172 181 205 206 115]\n",
      " [  0 122 219 193 179 171 183 196 204 210 213 207 211 210 200 196 194 191 195 191 198 192 176 156 167 177 210  92]\n",
      " [  0   0  74 189 212 191 175 172 175 181 185 188 189 188 193 198 204 209 210 210 211 188 188 194 192 216 170   0]\n",
      " [  2   0   0   0  66 200 222 237 239 242 246 243 244 221 220 193 191 179 182 182 181 176 166 168  99  58   0   0]\n",
      " [  0   0   0   0   0   0   0  40  61  44  72  41  35   0   0   0   0   0   0   0   0   0   0   0   0   0   0   0]\n",
      " [  0   0   0   0   0   0   0   0   0   0   0   0   0   0   0   0   0   0   0   0   0   0   0   0   0   0   0   0]\n",
      " [  0   0   0   0   0   0   0   0   0   0   0   0   0   0   0   0   0   0   0   0   0   0   0   0   0   0   0   0]]\n"
     ]
    }
   ],
   "source": [
    "import numpy as np\n",
    "np.set_printoptions(linewidth=4*29) \n",
    "print(train_images[0]) #0은 검정 숫자가 커질수록 밝음 , 축소해서 보면 위에 신발모양 "
   ]
  },
  {
   "cell_type": "code",
   "execution_count": 18,
   "id": "2873b577-12c6-4cc5-a2a7-abfed73a5519",
   "metadata": {
    "tags": []
   },
   "outputs": [],
   "source": [
    "train_labels[0]\n",
    "import tensorflow as tf\n",
    "from tensorflow import keras"
   ]
  },
  {
   "cell_type": "code",
   "execution_count": 15,
   "id": "1faba0e3-0976-45a1-91b5-0606f6250e67",
   "metadata": {
    "tags": []
   },
   "outputs": [],
   "source": [
    "train_images = train_images / 255.0\n",
    "test_images = test_images / 255.0"
   ]
  },
  {
   "cell_type": "code",
   "execution_count": 37,
   "id": "09f339f3-36f2-43f3-857c-567ac6eb086b",
   "metadata": {
    "tags": []
   },
   "outputs": [
    {
     "data": {
      "image/png": "[encoded data removed]",
      "text/plain": [
       "<Figure size 1000x800 with 20 Axes>"
      ]
     },
     "metadata": {},
     "output_type": "display_data"
    }
   ],
   "source": [
    "class_names = ['T-shirt/top', 'Trouser', 'Pullover', 'Dress', 'Coat',\n",
    "               'Sandal', 'Shirt', 'Sneaker', 'Bag', 'Ankle boot']\n",
    "\n",
    "plt.figure(figsize=(10,8))\n",
    "for i in range(20):\n",
    "    plt.subplot(4,5,i+1)\n",
    "    plt.xticks([])\n",
    "    plt.yticks([])\n",
    "    plt.grid(False)\n",
    "    plt.imshow(train_images[i], cmap=plt.cm.binary)\n",
    "    plt.xlabel(class_names[train_labels[i]])\n",
    "plt.show()"
   ]
  },
  {
   "cell_type": "code",
   "execution_count": 21,
   "id": "6cf2a25d-0cc1-42b0-8195-db75781b210e",
   "metadata": {
    "tags": []
   },
   "outputs": [],
   "source": [
    "#Flatten 학습 아니고  28,28 2차원 배열을 784의 1차원 배열로 바꿔줌 \n",
    "model = keras.Sequential([keras.layers.Flatten(input_shape=(28,28)),\n",
    "                         keras.layers.Dense(64, activation = 'relu'),\n",
    "                         keras.layers. Dense(10, activation='softmax')])\n"
   ]
  },
  {
   "cell_type": "code",
   "execution_count": 23,
   "id": "705e39d3-4f0a-46fc-bd44-a03d84d76657",
   "metadata": {
    "tags": []
   },
   "outputs": [
    {
     "name": "stdout",
     "output_type": "stream",
     "text": [
      "Model: \"sequential\"\n",
      "_________________________________________________________________\n",
      " Layer (type)                Output Shape              Param #   \n",
      "=================================================================\n",
      " flatten (Flatten)           (None, 784)               0         \n",
      "                                                                 \n",
      " dense (Dense)               (None, 64)                50240     \n",
      "                                                                 \n",
      " dense_1 (Dense)             (None, 10)                650       \n",
      "                                                                 \n",
      "=================================================================\n",
      "Total params: 50,890\n",
      "Trainable params: 50,890\n",
      "Non-trainable params: 0\n",
      "_________________________________________________________________\n"
     ]
    }
   ],
   "source": [
    "model.summary()"
   ]
  },
  {
   "cell_type": "code",
   "execution_count": 24,
   "id": "3758c3ce-7435-494b-b155-188fe19f7b63",
   "metadata": {
    "tags": []
   },
   "outputs": [],
   "source": [
    "model.compile(optimizer ='adam', \n",
    "             loss ='sparse_categorical_crossentropy',\n",
    "             metrics=['accuracy'])\n",
    "#여기선 sparse 사용해야함 "
   ]
  },
  {
   "cell_type": "code",
   "execution_count": 27,
   "id": "d38b9aa3-4d4d-4539-b786-3a4d3523ed57",
   "metadata": {
    "tags": []
   },
   "outputs": [
    {
     "name": "stdout",
     "output_type": "stream",
     "text": [
      "Epoch 1/20\n",
      "1875/1875 [==============================] - 3s 1ms/step - loss: 0.5140 - accuracy: 0.8202\n",
      "Epoch 2/20\n",
      "1875/1875 [==============================] - 3s 1ms/step - loss: 0.3895 - accuracy: 0.8623\n",
      "Epoch 3/20\n",
      "1875/1875 [==============================] - 3s 1ms/step - loss: 0.3514 - accuracy: 0.8734\n",
      "Epoch 4/20\n",
      "1875/1875 [==============================] - 3s 1ms/step - loss: 0.3273 - accuracy: 0.8805\n",
      "Epoch 5/20\n",
      "1875/1875 [==============================] - 3s 1ms/step - loss: 0.3095 - accuracy: 0.8865\n",
      "Epoch 6/20\n",
      "1875/1875 [==============================] - 2s 1ms/step - loss: 0.2951 - accuracy: 0.8931\n",
      "Epoch 7/20\n",
      "1875/1875 [==============================] - 2s 1ms/step - loss: 0.2841 - accuracy: 0.8954\n",
      "Epoch 8/20\n",
      "1875/1875 [==============================] - 2s 1ms/step - loss: 0.2745 - accuracy: 0.8979\n",
      "Epoch 9/20\n",
      "1875/1875 [==============================] - 2s 1ms/step - loss: 0.2639 - accuracy: 0.9025\n",
      "Epoch 10/20\n",
      "1875/1875 [==============================] - 2s 1ms/step - loss: 0.2584 - accuracy: 0.9049\n",
      "Epoch 11/20\n",
      "1875/1875 [==============================] - 2s 1ms/step - loss: 0.2495 - accuracy: 0.9080\n",
      "Epoch 12/20\n",
      "1875/1875 [==============================] - 2s 1ms/step - loss: 0.2433 - accuracy: 0.9092\n",
      "Epoch 13/20\n",
      "1875/1875 [==============================] - 2s 1ms/step - loss: 0.2369 - accuracy: 0.9119\n",
      "Epoch 14/20\n",
      "1875/1875 [==============================] - 2s 1ms/step - loss: 0.2319 - accuracy: 0.9130\n",
      "Epoch 15/20\n",
      "1875/1875 [==============================] - 2s 1ms/step - loss: 0.2266 - accuracy: 0.9157\n",
      "Epoch 16/20\n",
      "1875/1875 [==============================] - 2s 1ms/step - loss: 0.2203 - accuracy: 0.9186\n",
      "Epoch 17/20\n",
      "1875/1875 [==============================] - 2s 1ms/step - loss: 0.2158 - accuracy: 0.9189\n",
      "Epoch 18/20\n",
      "1875/1875 [==============================] - 2s 1ms/step - loss: 0.2111 - accuracy: 0.9208\n",
      "Epoch 19/20\n",
      "1875/1875 [==============================] - 2s 1ms/step - loss: 0.2074 - accuracy: 0.9219\n",
      "Epoch 20/20\n",
      "1875/1875 [==============================] - 2s 1ms/step - loss: 0.2038 - accuracy: 0.9240\n"
     ]
    }
   ],
   "source": [
    "\n",
    "#훈련 \n",
    "history = model.fit(train_images, train_labels, epochs=20)"
   ]
  },
  {
   "cell_type": "code",
   "execution_count": 28,
   "id": "b06ca837-a523-4310-8ad6-52f61b6c0a39",
   "metadata": {
    "tags": []
   },
   "outputs": [
    {
     "name": "stdout",
     "output_type": "stream",
     "text": [
      "313/313 [==============================] - 0s 933us/step\n"
     ]
    },
    {
     "data": {
      "text/plain": [
       "array([6.83973657e-13, 4.29167668e-20, 3.15553275e-13, 1.48211287e-11, 2.29510644e-16, 1.00791774e-04,\n",
       "       7.15440068e-11, 1.28699490e-03, 1.66996950e-12, 9.98612165e-01], dtype=float32)"
      ]
     },
     "execution_count": 28,
     "metadata": {},
     "output_type": "execute_result"
    }
   ],
   "source": [
    "prediction=model.predict(test_images)\n",
    "prediction[0]\n",
    "#처음 사진이 총 10가지의 어떤 class 에 속할 확률을 반환 , 마지막이 제일 높음 "
   ]
  },
  {
   "cell_type": "code",
   "execution_count": 29,
   "id": "61734191-a2c3-4a52-b514-0a86ff1cd00b",
   "metadata": {
    "tags": []
   },
   "outputs": [
    {
     "data": {
      "text/plain": [
       "9"
      ]
     },
     "execution_count": 29,
     "metadata": {},
     "output_type": "execute_result"
    }
   ],
   "source": [
    "test_labels[0] #정답 맞음 "
   ]
  },
  {
   "cell_type": "code",
   "execution_count": null,
   "id": "86f1cc16-b136-4f98-ba94-64176481a2cc",
   "metadata": {},
   "outputs": [],
   "source": []
  },
  {
   "cell_type": "code",
   "execution_count": 41,
   "id": "91bfdb99-79dd-4627-8269-b799ba0b4bd7",
   "metadata": {},
   "outputs": [],
   "source": [
    "#데이터 시각화 \n",
    "def plot_image(i, predictions_array, true_label, img):\n",
    "    predictions_array, true_label, img = predictions_array[i], true_label[i], img[i]\n",
    "    plt.grid(False)\n",
    "    plt.xticks([])\n",
    "    plt.yticks([])\n",
    "\n",
    "    plt.imshow(img, cmap=plt.cm.binary)\n",
    "\n",
    "    predicted_label = np.argmax(predictions_array)\n",
    "    if predicted_label == true_label:\n",
    "        color = 'blue'\n",
    "    else:\n",
    "        color = 'red'\n",
    "\n",
    "    plt.xlabel(\"{} {:2.0f}% ({})\".format(class_names[predicted_label],\n",
    "                                100*np.max(predictions_array),\n",
    "                                class_names[true_label]),\n",
    "                                color=color)\n",
    "\n",
    "def plot_value_array(i, predictions_array, true_label):\n",
    "    predictions_array, true_label = predictions_array[i], true_label[i]\n",
    "    plt.grid(False)\n",
    "    plt.xticks([])\n",
    "    plt.yticks([])\n",
    "    thisplot = plt.bar(range(10), predictions_array, color=\"#777777\")\n",
    "    plt.ylim([0, 1])\n",
    "    predicted_label = np.argmax(predictions_array)\n",
    "\n",
    "    thisplot[predicted_label].set_color('red')\n",
    "    thisplot[true_label].set_color('blue')"
   ]
  },
  {
   "cell_type": "code",
   "execution_count": 42,
   "id": "9f3dec1b-04ca-4b32-9485-80084d6c57f3",
   "metadata": {
    "tags": []
   },
   "outputs": [
    {
     "data": {
      "image/png": "[encoded data removed]",
      "text/plain": [
       "<Figure size 1200x1000 with 30 Axes>"
      ]
     },
     "metadata": {},
     "output_type": "display_data"
    }
   ],
   "source": [
    "num_rows = 5\n",
    "num_cols = 3\n",
    "num_images = num_rows*num_cols\n",
    "plt.figure(figsize=(2*2*num_cols, 2*num_rows))\n",
    "for i in range(num_images):\n",
    "    plt.subplot(num_rows, 2*num_cols, 2*i+1)\n",
    "    plot_image(i, prediction, test_labels, test_images)\n",
    "    plt.subplot(num_rows, 2*num_cols, 2*i+2)\n",
    "    plot_value_array(i, prediction, test_labels)\n",
    "plt.show()"
   ]
  },
  {
   "cell_type": "code",
   "execution_count": 44,
   "id": "446c168e-cb01-4596-bdff-c28e90c6bb98",
   "metadata": {
    "tags": []
   },
   "outputs": [
    {
     "data": {
      "text/plain": [
       "0.8896"
      ]
     },
     "execution_count": 44,
     "metadata": {},
     "output_type": "execute_result"
    }
   ],
   "source": [
    "from sklearn.metrics import accuracy_score\n",
    "accuracy_score(tf.math.argmax(prediction, -1), test_labels) #88.96퍼세센트 "
   ]
  },
  {
   "cell_type": "markdown",
   "id": "2e0ab87f-3602-48cc-a710-431d652237d1",
   "metadata": {},
   "source": [
    "### 텐서플로우 써서 만들기"
   ]
  },
  {
   "cell_type": "code",
   "execution_count": 150,
   "id": "34324b9f-f19b-4abc-8bbc-334e2c974a3c",
   "metadata": {
    "tags": []
   },
   "outputs": [],
   "source": [
    "\n",
    "import tensorflow as tf\n",
    "\n",
    "class NaiveDense:\n",
    "    def __init__(self, input_size, output_size, activation):\n",
    "        self.activation = activation\n",
    "        w_shape = (input_size, output_size)\n",
    "        w_initial_value = tf.random.uniform (w_shape, minval=0, maxval=1e-1)\n",
    "        self.W = tf.Variable (w_initial_value)\n",
    "        \n",
    "        b_shape=(output_size, )\n",
    "        b_initial_value= tf.zeros(b_shape)\n",
    "        self.b = tf.Variable(b_initial_value)\n",
    "        \n",
    "    def __call__(self,inputs):\n",
    "        return self.activation (tf.matmul(inputs, self.W + self.b))\n",
    "    \n",
    "    @property\n",
    "    def weights(self):\n",
    "        return [self.W, self.b]\n",
    "    \n",
    "    \n",
    "class NaiveSequential:\n",
    "    def __init__(self,layers):\n",
    "        self.layers=layers\n",
    "        \n",
    "    def __call__(self,inputs):\n",
    "        x=inputs\n",
    "        for layer in self.layers:\n",
    "            x=layer(x)\n",
    "        return x\n",
    "    \n",
    "    @property #데코레이터 밑에 함수를 부르기전에 다른함수 적용 \n",
    "    def weights(self):\n",
    "        weights=[]\n",
    "        for layer in self.layers:\n",
    "            weights += layer.weights\n",
    "        return weights"
   ]
  },
  {
   "cell_type": "code",
   "execution_count": 151,
   "id": "31067ddd-50b2-4adb-a84f-0a909ca572df",
   "metadata": {
    "tags": []
   },
   "outputs": [],
   "source": [
    "model= NaiveSequential([\n",
    "    NaiveDense(input_size=28*28, output_size=512, activation=tf.nn.relu),\n",
    "    NaiveDense(input_size=512, output_size =10, activation = tf.nn.softmax)\n",
    "])\n",
    "assert len(model.weights)==4"
   ]
  },
  {
   "cell_type": "code",
   "execution_count": 152,
   "id": "36b83a8a-13b0-4742-a9f0-e195c17be042",
   "metadata": {
    "tags": []
   },
   "outputs": [],
   "source": [
    "#배치 제너레이터 mnist 데이터 미니배치로 순회 \n",
    "import math\n",
    "class BatchGenerator:\n",
    "    def __init__(self, images, labels, batch_size=128):\n",
    "        assert len(images) == len(labels)\n",
    "        self.index = 0\n",
    "        self.images = images\n",
    "        self.labels= labels\n",
    "        self.batch_size = batch_size\n",
    "        self.num_batches = math.ceil(len(images)/ batch_size)\n",
    "        \n",
    "    def next (self):\n",
    "        images=self.images[self.index: self.index +self.batch_size]\n",
    "        labels=self.labels[self.index: self.index + self.batch_size]\n",
    "        self.index += self.batch_size\n",
    "        return images, labels"
   ]
  },
  {
   "cell_type": "code",
   "execution_count": 1,
   "id": "718224b4-522e-4d99-8cc6-c5345f253a0d",
   "metadata": {
    "tags": []
   },
   "outputs": [],
   "source": [
    "def one_training_step(model, images_batch, labels_batch):\n",
    "    with tf.GradientTape() as tape:\n",
    "        predictions = model(images_batch)\n",
    "        per_sample_losses = tf.keras.losses.sparse_categorical_crossentropy(labels_batch, predictions)\n",
    "        #정방향 패스 gradient block 안에서 \n",
    "        average_loss = tf.reduce_mean(per_sample_losses)\n",
    "    gradients=tape.gradient(average_loss,model.weights)\n",
    "    update_weights(gradients, model.weights) #가중치 업데이트 \n",
    "    return average_loss"
   ]
  },
  {
   "cell_type": "raw",
   "id": "0520173b-2210-460d-8e4b-ce9f24a1cf20",
   "metadata": {
    "tags": []
   },
   "source": [
    "learning_rate=1e-3\n",
    "\n",
    "def update_weights(gradients, weights):\n",
    "    for g,w in zip(gradients, weights):\n",
    "        w.assign_sub(g*learning_rate)\n",
    "        \n",
    "from tensorflow.keras import optimizers\n",
    "\n",
    "optimizer = optimizers.SGD(learning_rate=1e-3)\n",
    "\n",
    "def update_weights(gradients, weights):\n",
    "    optimizer.apply_gradients(zip(gradients, weights))"
   ]
  },
  {
   "cell_type": "code",
   "execution_count": 155,
   "id": "7afc179b-be7c-49f6-ab01-9502eadbcd4a",
   "metadata": {
    "tags": []
   },
   "outputs": [],
   "source": [
    "def fit (model, images,labels,epochs, batch_size=128):\n",
    "    for epoch_counter in range (epochs):\n",
    "        print(f'epochs 횟수:{epoch_counter}')\n",
    "        batch_generator=BatchGenerator(images, labels)\n",
    "        for batch_counter in range (batch_generator.num_batches): \n",
    "            images_batch, labels_batch = batch_generator.next()\n",
    "            loss = one_training_step(model, images_batch, labels_batch)\n",
    "            if batch_counter % 100 == 0: #100번 배치를 가져올때마다 \n",
    "                print (f'{batch_counter}번째 배치 손실 : {loss:.2f}')"
   ]
  },
  {
   "cell_type": "code",
   "execution_count": 156,
   "id": "b89d048f-8f10-4e47-8caa-90596668a9af",
   "metadata": {
    "tags": []
   },
   "outputs": [
    {
     "name": "stdout",
     "output_type": "stream",
     "text": [
      "epochs 횟수:0\n",
      "0번째 배치 손실 : 4.04\n",
      "100번째 배치 손실 : 14.86\n",
      "200번째 배치 손실 : 14.86\n",
      "300번째 배치 손실 : 14.23\n",
      "400번째 배치 손실 : 14.23\n",
      "epochs 횟수:1\n",
      "0번째 배치 손실 : 13.85\n",
      "100번째 배치 손실 : 14.86\n",
      "200번째 배치 손실 : 14.86\n",
      "300번째 배치 손실 : 14.23\n",
      "400번째 배치 손실 : 14.23\n",
      "epochs 횟수:2\n",
      "0번째 배치 손실 : 13.85\n",
      "100번째 배치 손실 : 14.86\n",
      "200번째 배치 손실 : 14.86\n",
      "300번째 배치 손실 : 14.23\n",
      "400번째 배치 손실 : 14.23\n",
      "epochs 횟수:3\n",
      "0번째 배치 손실 : 13.85\n",
      "100번째 배치 손실 : 14.86\n",
      "200번째 배치 손실 : 14.86\n",
      "300번째 배치 손실 : 14.23\n",
      "400번째 배치 손실 : 14.23\n",
      "epochs 횟수:4\n",
      "0번째 배치 손실 : 13.85\n",
      "100번째 배치 손실 : 14.86\n",
      "200번째 배치 손실 : 14.86\n",
      "300번째 배치 손실 : 14.23\n",
      "400번째 배치 손실 : 14.23\n",
      "epochs 횟수:5\n",
      "0번째 배치 손실 : 13.85\n",
      "100번째 배치 손실 : 14.86\n",
      "200번째 배치 손실 : 14.86\n",
      "300번째 배치 손실 : 14.23\n",
      "400번째 배치 손실 : 14.23\n",
      "epochs 횟수:6\n",
      "0번째 배치 손실 : 13.85\n",
      "100번째 배치 손실 : 14.86\n",
      "200번째 배치 손실 : 14.86\n",
      "300번째 배치 손실 : 14.23\n",
      "400번째 배치 손실 : 14.23\n",
      "epochs 횟수:7\n",
      "0번째 배치 손실 : 13.85\n",
      "100번째 배치 손실 : 14.86\n",
      "200번째 배치 손실 : 14.86\n",
      "300번째 배치 손실 : 14.23\n",
      "400번째 배치 손실 : 14.23\n",
      "epochs 횟수:8\n",
      "0번째 배치 손실 : 13.85\n",
      "100번째 배치 손실 : 14.86\n",
      "200번째 배치 손실 : 14.86\n",
      "300번째 배치 손실 : 14.23\n",
      "400번째 배치 손실 : 14.23\n",
      "epochs 횟수:9\n",
      "0번째 배치 손실 : 13.85\n",
      "100번째 배치 손실 : 14.86\n",
      "200번째 배치 손실 : 14.86\n",
      "300번째 배치 손실 : 14.23\n",
      "400번째 배치 손실 : 14.23\n"
     ]
    }
   ],
   "source": [
    "from tensorflow.keras.datasets import mnist\n",
    "\n",
    "(train_images, train_labels),(test_images, test_labels)=mnist.load_data()\n",
    "train_images= train_images.reshape((60000, 28*28))\n",
    "train_images=train_images.astype('float32')/255\n",
    "test_images= test_images.reshape((10000,28*28))\n",
    "test_images = test_images.astype ('float32')/ 255\n",
    "\n",
    "fit(model, train_images, train_labels, epochs=10, batch_size=128)"
   ]
  },
  {
   "cell_type": "code",
   "execution_count": null,
   "id": "9c895624-2bf9-4e4b-ab1b-0f4884aedc99",
   "metadata": {},
   "outputs": [],
   "source": []
  },
  {
   "cell_type": "code",
   "execution_count": null,
   "id": "6c4585e7-86ac-4b1a-b175-4ebcf6c8ad94",
   "metadata": {},
   "outputs": [],
   "source": []
  },
  {
   "cell_type": "code",
   "execution_count": null,
   "id": "5d275060-4e6d-4ad4-90ba-57120be04fec",
   "metadata": {},
   "outputs": [],
   "source": []
  }
 ],
 "metadata": {
  "kernelspec": {
   "display_name": "Python 3 (ipykernel)",
   "language": "python",
   "name": "python3"
  },
  "language_info": {
   "codemirror_mode": {
    "name": "ipython",
    "version": 3
   },
   "file_extension": ".py",
   "mimetype": "text/x-python",
   "name": "python",
   "nbconvert_exporter": "python",
   "pygments_lexer": "ipython3",
   "version": "3.10.9"
  }
 },
 "nbformat": 4,
 "nbformat_minor": 5
}
