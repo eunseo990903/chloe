{
 "cells": [
  {
   "cell_type": "markdown",
   "id": "d4b419bc-57b1-48e6-a77e-237879b6b426",
   "metadata": {},
   "source": [
    "## 복습"
   ]
  },
  {
   "cell_type": "markdown",
   "id": "21227004-8c1e-49a3-b451-d6c9391fccca",
   "metadata": {},
   "source": [
    "* 텍스트 유사도 "
   ]
  },
  {
   "cell_type": "code",
   "execution_count": 1,
   "id": "df5e9a94-6dbc-48ad-944e-acb837c47919",
   "metadata": {
    "tags": []
   },
   "outputs": [],
   "source": [
    "text_list = [\"the point is, you can neveer be ahead of others by doing the same as others\", \n",
    "\n",
    "             \"success and failure depend on the attitude of the person\",\n",
    "\n",
    "             \"failure isn't fatal, but failure to change might be\",             \n",
    "\n",
    "             \"only those who dare to fail greatly can ever achieve greatly\"] "
   ]
  },
  {
   "cell_type": "code",
   "execution_count": 8,
   "id": "78b7c290-2916-4d8b-8282-962cc27906a3",
   "metadata": {
    "tags": []
   },
   "outputs": [
    {
     "data": {
      "text/plain": [
       "array([[1.        , 0.23920225, 0.05050632, 0.0426476 ],\n",
       "       [0.23920225, 1.        , 0.1348942 , 0.        ],\n",
       "       [0.05050632, 0.1348942 , 1.        , 0.06012604],\n",
       "       [0.0426476 , 0.        , 0.06012604, 1.        ]])"
      ]
     },
     "execution_count": 8,
     "metadata": {},
     "output_type": "execute_result"
    }
   ],
   "source": [
    "from sklearn.feature_extraction.text import TfidfVectorizer\n",
    "from sklearn.metrics.pairwise import cosine_similarity\n",
    "\n",
    "tfidf_vectorizer = TfidfVectorizer()\n",
    "tfidf_matrix = tfidf_vectorizer.fit_transform(text_list)\n",
    "cos_similar = cosine_similarity(tfidf_matrix, tfidf_matrix)\n",
    "cos_similar\n",
    "#자기자신은 1 , 나머지는 유사도"
   ]
  },
  {
   "cell_type": "markdown",
   "id": "453e6826-e1f3-4ebd-a507-ee9c246dd471",
   "metadata": {},
   "source": [
    "* 감성분석  "
   ]
  },
  {
   "cell_type": "code",
   "execution_count": 10,
   "id": "1cd1abec-7eed-4b2f-9e85-43c2ca5106d1",
   "metadata": {
    "tags": []
   },
   "outputs": [
    {
     "data": {
      "text/plain": [
       "{'neg': 0.0, 'neu': 0.776, 'pos': 0.224, 'compound': 0.8658}"
      ]
     },
     "execution_count": 10,
     "metadata": {},
     "output_type": "execute_result"
    }
   ],
   "source": [
    "text = 'I decided, very early on, just to accept life unconditionally.I never expected it to do anything special for me, yet I seemed to accomplish far more than I had ever hoped. Most of the time it just happened to me withoutmy ever seeking it.'\n",
    "from nltk.sentiment.vader import SentimentIntensityAnalyzer\n",
    "senti_analyzer=SentimentIntensityAnalyzer()\n",
    "senti_scores=senti_analyzer.polarity_scores(text)\n",
    "senti_scores"
   ]
  },
  {
   "cell_type": "code",
   "execution_count": 25,
   "id": "999f57a2-9745-4829-b279-b608e435ca9d",
   "metadata": {
    "tags": []
   },
   "outputs": [
    {
     "data": {
      "text/plain": [
       "3"
      ]
     },
     "execution_count": 25,
     "metadata": {},
     "output_type": "execute_result"
    }
   ],
   "source": [
    "#피자가 n조각일때 n명의 사람이 모두 피자 한조각씩 먹으려면 필요한 피자 판 \n",
    "def solution(num):\n",
    "    if num %7 ==0 :\n",
    "        return( num //7)\n",
    "    else:\n",
    "        return (num //7 )+1\n",
    "    \n",
    "solution(15)"
   ]
  },
  {
   "cell_type": "code",
   "execution_count": 27,
   "id": "806ce456-78a4-4393-ae79-0f1829c92197",
   "metadata": {
    "tags": []
   },
   "outputs": [
    {
     "data": {
      "text/plain": [
       "12"
      ]
     },
     "execution_count": 27,
     "metadata": {},
     "output_type": "execute_result"
    }
   ],
   "source": [
    "#69 게임 박수 몇번 치는지 \n",
    "def solution(n):\n",
    "    cnt = 0\n",
    "    for i in range(n):\n",
    "        for j in range(len(str(i))):\n",
    "            if int(str(i)[j]) in [3, 6, 9]:\n",
    "                cnt+=1\n",
    "    return cnt \n",
    "\n",
    "solution(33)"
   ]
  },
  {
   "cell_type": "code",
   "execution_count": 28,
   "id": "500f9f04-a0d5-4e50-a339-c0956e97b8d1",
   "metadata": {
    "tags": []
   },
   "outputs": [],
   "source": [
    "import pandas as pd\n",
    "import numpy as np\n",
    "\n",
    "movies = pd.read_csv('./ml-latest-small/movies.csv')\n",
    "ratings = pd.read_csv('./ml-latest-small/ratings.csv')\n",
    "ratings = ratings[['userId', 'movieId', 'rating']]\n",
    "ratings_matrix = ratings.pivot_table('rating', index='userId', columns='movieId')\n",
    "\n",
    "# title 컬럼을 얻기 이해 movies 와 조인 수행\n",
    "rating_movies = pd.merge(ratings, movies, on='movieId')\n",
    "\n",
    "# columns='title' 로 title 컬럼으로 pivot 수행. \n",
    "ratings_matrix = rating_movies.pivot_table('rating', index='userId', columns='title')"
   ]
  },
  {
   "cell_type": "code",
   "execution_count": 29,
   "id": "99c186c0-dc6e-42c9-a6b4-fc1138b76400",
   "metadata": {
    "tags": []
   },
   "outputs": [
    {
     "name": "stdout",
     "output_type": "stream",
     "text": [
      "Collecting bokeh\n",
      "  Downloading bokeh-3.1.1-py3-none-any.whl (8.3 MB)\n",
      "                                              0.0/8.3 MB ? eta -:--:--\n",
      "     --                                       0.5/8.3 MB 14.2 MB/s eta 0:00:01\n",
      "     -------                                  1.5/8.3 MB 19.7 MB/s eta 0:00:01\n",
      "     ------------                             2.6/8.3 MB 21.0 MB/s eta 0:00:01\n",
      "     -----------------                        3.7/8.3 MB 21.4 MB/s eta 0:00:01\n",
      "     -----------------------                  4.8/8.3 MB 21.8 MB/s eta 0:00:01\n",
      "     ----------------------------             5.8/8.3 MB 21.9 MB/s eta 0:00:01\n",
      "     ------------------------------           6.3/8.3 MB 21.1 MB/s eta 0:00:01\n",
      "     ------------------------------           6.3/8.3 MB 21.1 MB/s eta 0:00:01\n",
      "     ------------------------------           6.3/8.3 MB 21.1 MB/s eta 0:00:01\n",
      "     ------------------------------           6.3/8.3 MB 21.1 MB/s eta 0:00:01\n",
      "     ------------------------------           6.3/8.3 MB 21.1 MB/s eta 0:00:01\n",
      "     --------------------------------         6.8/8.3 MB 12.0 MB/s eta 0:00:01\n",
      "     -------------------------------------    7.8/8.3 MB 12.8 MB/s eta 0:00:01\n",
      "     ---------------------------------------  8.3/8.3 MB 13.2 MB/s eta 0:00:01\n",
      "     ---------------------------------------- 8.3/8.3 MB 12.3 MB/s eta 0:00:00\n",
      "Requirement already satisfied: Jinja2>=2.9 in c:\\users\\user\\appdata\\local\\programs\\python\\python310\\lib\\site-packages (from bokeh) (3.1.2)\n",
      "Requirement already satisfied: contourpy>=1 in c:\\users\\user\\appdata\\local\\programs\\python\\python310\\lib\\site-packages (from bokeh) (1.0.7)\n",
      "Requirement already satisfied: numpy>=1.16 in c:\\users\\user\\appdata\\local\\programs\\python\\python310\\lib\\site-packages (from bokeh) (1.24.2)\n",
      "Requirement already satisfied: packaging>=16.8 in c:\\users\\user\\appdata\\local\\programs\\python\\python310\\lib\\site-packages (from bokeh) (23.0)\n",
      "Requirement already satisfied: pandas>=1.2 in c:\\users\\user\\appdata\\local\\programs\\python\\python310\\lib\\site-packages (from bokeh) (1.5.3)\n",
      "Requirement already satisfied: pillow>=7.1.0 in c:\\users\\user\\appdata\\local\\programs\\python\\python310\\lib\\site-packages (from bokeh) (9.4.0)\n",
      "Requirement already satisfied: PyYAML>=3.10 in c:\\users\\user\\appdata\\local\\programs\\python\\python310\\lib\\site-packages (from bokeh) (6.0)\n",
      "Requirement already satisfied: tornado>=5.1 in c:\\users\\user\\appdata\\local\\programs\\python\\python310\\lib\\site-packages (from bokeh) (6.2)\n",
      "Collecting xyzservices>=2021.09.1 (from bokeh)\n",
      "  Downloading xyzservices-2023.2.0-py3-none-any.whl (55 kB)\n",
      "                                              0.0/55.4 kB ? eta -:--:--\n",
      "     ---------------------------------------- 55.4/55.4 kB 3.0 MB/s eta 0:00:00\n",
      "Requirement already satisfied: MarkupSafe>=2.0 in c:\\users\\user\\appdata\\local\\programs\\python\\python310\\lib\\site-packages (from Jinja2>=2.9->bokeh) (2.1.2)\n",
      "Requirement already satisfied: python-dateutil>=2.8.1 in c:\\users\\user\\appdata\\local\\programs\\python\\python310\\lib\\site-packages (from pandas>=1.2->bokeh) (2.8.2)\n",
      "Requirement already satisfied: pytz>=2020.1 in c:\\users\\user\\appdata\\local\\programs\\python\\python310\\lib\\site-packages (from pandas>=1.2->bokeh) (2022.7.1)\n",
      "Requirement already satisfied: six>=1.5 in c:\\users\\user\\appdata\\local\\programs\\python\\python310\\lib\\site-packages (from python-dateutil>=2.8.1->pandas>=1.2->bokeh) (1.16.0)\n",
      "Installing collected packages: xyzservices, bokeh\n",
      "Successfully installed bokeh-3.1.1 xyzservices-2023.2.0\n",
      "Note: you may need to restart the kernel to use updated packages.\n"
     ]
    }
   ],
   "source": [
    "pip install -U bokeh"
   ]
  },
  {
   "cell_type": "code",
   "execution_count": 30,
   "id": "43e8b9f2-5278-4587-82c4-64b8030cab2e",
   "metadata": {
    "tags": []
   },
   "outputs": [],
   "source": [
    "from bokeh.plotting import figure, output_file, show\n",
    "\n",
    "# output to static HTML file\n",
    "output_file(\"line.html\")\n",
    "\n",
    "# 'tooltips' shows the value when the cursor is placed\n",
    "p = figure(width=400, height=400, tooltips=[(\"x\", \"$x\"), (\"y\", \"$y\")])\n",
    "\n",
    "# add a circle renderer with a size, color, and alpha\n",
    "p.circle([1, 2, 3, 4, 5], [6, 7, 2, 4, 5], size=20, color=\"navy\", alpha=0.5)\n",
    "\n",
    "# show the results\n",
    "show(p)"
   ]
  },
  {
   "cell_type": "code",
   "execution_count": 33,
   "id": "7aeb4050-4765-4723-96b9-1b525bf129cf",
   "metadata": {
    "tags": []
   },
   "outputs": [
    {
     "data": {
      "text/html": [
       "<div>\n",
       "<style scoped>\n",
       "    .dataframe tbody tr th:only-of-type {\n",
       "        vertical-align: middle;\n",
       "    }\n",
       "\n",
       "    .dataframe tbody tr th {\n",
       "        vertical-align: top;\n",
       "    }\n",
       "\n",
       "    .dataframe thead th {\n",
       "        text-align: right;\n",
       "    }\n",
       "</style>\n",
       "<table border=\"1\" class=\"dataframe\">\n",
       "  <thead>\n",
       "    <tr style=\"text-align: right;\">\n",
       "      <th></th>\n",
       "      <th>PassengerId</th>\n",
       "      <th>Survived</th>\n",
       "      <th>Pclass</th>\n",
       "      <th>Name</th>\n",
       "      <th>Sex</th>\n",
       "      <th>Age</th>\n",
       "      <th>SibSp</th>\n",
       "      <th>Parch</th>\n",
       "      <th>Ticket</th>\n",
       "      <th>Fare</th>\n",
       "      <th>Cabin</th>\n",
       "      <th>Embarked</th>\n",
       "    </tr>\n",
       "  </thead>\n",
       "  <tbody>\n",
       "    <tr>\n",
       "      <th>0</th>\n",
       "      <td>1</td>\n",
       "      <td>0</td>\n",
       "      <td>3</td>\n",
       "      <td>Braund, Mr. Owen Harris</td>\n",
       "      <td>male</td>\n",
       "      <td>22.0</td>\n",
       "      <td>1</td>\n",
       "      <td>0</td>\n",
       "      <td>A/5 21171</td>\n",
       "      <td>7.2500</td>\n",
       "      <td>NaN</td>\n",
       "      <td>S</td>\n",
       "    </tr>\n",
       "    <tr>\n",
       "      <th>1</th>\n",
       "      <td>2</td>\n",
       "      <td>1</td>\n",
       "      <td>1</td>\n",
       "      <td>Cumings, Mrs. John Bradley (Florence Briggs Th...</td>\n",
       "      <td>female</td>\n",
       "      <td>38.0</td>\n",
       "      <td>1</td>\n",
       "      <td>0</td>\n",
       "      <td>PC 17599</td>\n",
       "      <td>71.2833</td>\n",
       "      <td>C85</td>\n",
       "      <td>C</td>\n",
       "    </tr>\n",
       "    <tr>\n",
       "      <th>2</th>\n",
       "      <td>3</td>\n",
       "      <td>1</td>\n",
       "      <td>3</td>\n",
       "      <td>Heikkinen, Miss. Laina</td>\n",
       "      <td>female</td>\n",
       "      <td>26.0</td>\n",
       "      <td>0</td>\n",
       "      <td>0</td>\n",
       "      <td>STON/O2. 3101282</td>\n",
       "      <td>7.9250</td>\n",
       "      <td>NaN</td>\n",
       "      <td>S</td>\n",
       "    </tr>\n",
       "    <tr>\n",
       "      <th>3</th>\n",
       "      <td>4</td>\n",
       "      <td>1</td>\n",
       "      <td>1</td>\n",
       "      <td>Futrelle, Mrs. Jacques Heath (Lily May Peel)</td>\n",
       "      <td>female</td>\n",
       "      <td>35.0</td>\n",
       "      <td>1</td>\n",
       "      <td>0</td>\n",
       "      <td>113803</td>\n",
       "      <td>53.1000</td>\n",
       "      <td>C123</td>\n",
       "      <td>S</td>\n",
       "    </tr>\n",
       "    <tr>\n",
       "      <th>4</th>\n",
       "      <td>5</td>\n",
       "      <td>0</td>\n",
       "      <td>3</td>\n",
       "      <td>Allen, Mr. William Henry</td>\n",
       "      <td>male</td>\n",
       "      <td>35.0</td>\n",
       "      <td>0</td>\n",
       "      <td>0</td>\n",
       "      <td>373450</td>\n",
       "      <td>8.0500</td>\n",
       "      <td>NaN</td>\n",
       "      <td>S</td>\n",
       "    </tr>\n",
       "  </tbody>\n",
       "</table>\n",
       "</div>"
      ],
      "text/plain": [
       "   PassengerId  Survived  Pclass  \\\n",
       "0            1         0       3   \n",
       "1            2         1       1   \n",
       "2            3         1       3   \n",
       "3            4         1       1   \n",
       "4            5         0       3   \n",
       "\n",
       "                                                Name     Sex   Age  SibSp  \\\n",
       "0                            Braund, Mr. Owen Harris    male  22.0      1   \n",
       "1  Cumings, Mrs. John Bradley (Florence Briggs Th...  female  38.0      1   \n",
       "2                             Heikkinen, Miss. Laina  female  26.0      0   \n",
       "3       Futrelle, Mrs. Jacques Heath (Lily May Peel)  female  35.0      1   \n",
       "4                           Allen, Mr. William Henry    male  35.0      0   \n",
       "\n",
       "   Parch            Ticket     Fare Cabin Embarked  \n",
       "0      0         A/5 21171   7.2500   NaN        S  \n",
       "1      0          PC 17599  71.2833   C85        C  \n",
       "2      0  STON/O2. 3101282   7.9250   NaN        S  \n",
       "3      0            113803  53.1000  C123        S  \n",
       "4      0            373450   8.0500   NaN        S  "
      ]
     },
     "execution_count": 33,
     "metadata": {},
     "output_type": "execute_result"
    }
   ],
   "source": [
    "\n",
    "import pandas as pd\n",
    "\n",
    "titanic_df = pd.read_csv('titanic/train.csv')\n",
    "titanic_df.head(5)"
   ]
  },
  {
   "cell_type": "code",
   "execution_count": 37,
   "id": "7e650333-71c1-46b7-a529-0e7dd2da5cdf",
   "metadata": {
    "tags": []
   },
   "outputs": [
    {
     "data": {
      "image/png": "[encoded data removed]",
      "text/plain": [
       "<Figure size 700x400 with 1 Axes>"
      ]
     },
     "metadata": {},
     "output_type": "display_data"
    },
    {
     "data": {
      "image/png": "[encoded data removed]",
      "text/plain": [
       "<Figure size 640x480 with 1 Axes>"
      ]
     },
     "metadata": {},
     "output_type": "display_data"
    },
    {
     "data": {
      "text/plain": [
       "<Figure size 800x400 with 0 Axes>"
      ]
     },
     "metadata": {},
     "output_type": "display_data"
    },
    {
     "data": {
      "image/png": "[encoded data removed]",
      "text/plain": [
       "<Figure size 500x500 with 1 Axes>"
      ]
     },
     "metadata": {},
     "output_type": "display_data"
    }
   ],
   "source": [
    "import matplotlib.pyplot as plt\n",
    "import seaborn as sns\n",
    "\n",
    "# 시본에서도 plt.figure()의 figsize인자를 입력하여 전체 Figure의 크기 조절\n",
    "plt.figure(figsize=(7, 4))\n",
    "# Pandas DataFrame의 컬럼명을 자동으로 인식해서 xlabel값을 할당. ylabel 값은 histogram일때 Count 할당. \n",
    "sns.histplot(titanic_df['Age'], bins=20)\n",
    "plt.show()\n",
    "\n",
    "sns.histplot(x='Age', data=titanic_df, bins=30, kde=True)\n",
    "plt.show()\n",
    "\n",
    "import seaborn as sns\n",
    "# seaborn의 figure레벨 그래프는 plt.figure( )로 Figure 크기를 조절할 수 없습니다\n",
    "plt.figure(figsize=(8, 4))\n",
    "# Pandas DataFrame의 컬럼명을 자동으로 인식해서 xlabel값을 할당. ylabel 값은 histogram일때 Count 할당. \n",
    "sns.displot(x='Age', data=titanic_df, kde=True)\n",
    "plt.show()"
   ]
  },
  {
   "cell_type": "code",
   "execution_count": 38,
   "id": "e0dec210-ac7a-4f37-9037-0bc02d213c07",
   "metadata": {
    "tags": []
   },
   "outputs": [
    {
     "data": {
      "image/png": "[encoded data removed]",
      "text/plain": [
       "<Figure size 640x480 with 1 Axes>"
      ]
     },
     "metadata": {},
     "output_type": "display_data"
    }
   ],
   "source": [
    "sns.countplot(x='Pclass', data=titanic_df)\n",
    "plt.show()"
   ]
  },
  {
   "cell_type": "code",
   "execution_count": 40,
   "id": "ae7c8101-74a4-46a8-bca9-af1dd326a828",
   "metadata": {
    "tags": []
   },
   "outputs": [
    {
     "data": {
      "image/png": "[encoded data removed]",
      "text/plain": [
       "<Figure size 640x480 with 1 Axes>"
      ]
     },
     "metadata": {},
     "output_type": "display_data"
    },
    {
     "data": {
      "text/plain": [
       "[]"
      ]
     },
     "execution_count": 40,
     "metadata": {},
     "output_type": "execute_result"
    },
    {
     "data": {
      "image/png": "[encoded data removed]",
      "text/plain": [
       "<Figure size 640x480 with 1 Axes>"
      ]
     },
     "metadata": {},
     "output_type": "display_data"
    }
   ],
   "source": [
    "\n",
    "# 자동으로 xlabel, ylabel을 barplot( )의 x인자값인 Pclass, y인자값이 Age로 설정. \n",
    "sns.barplot(x='Pclass', y='Age', data=titanic_df)\n",
    "plt.show()\n",
    "\n",
    "### y축을 문자값으로 설정하면 자동으로 수평 막대 그래프 변환\n",
    "sns.barplot(x='Pclass', y='Sex', data=titanic_df)\n",
    "plt.plot()"
   ]
  },
  {
   "cell_type": "code",
   "execution_count": 41,
   "id": "ce21832b-d786-4ca7-ab27-0a0d49262b13",
   "metadata": {
    "tags": []
   },
   "outputs": [
    {
     "data": {
      "image/png": "[encoded data removed]",
      "text/plain": [
       "<Figure size 640x480 with 1 Axes>"
      ]
     },
     "metadata": {},
     "output_type": "display_data"
    }
   ],
   "source": [
    "sns.boxplot(x='Pclass', y='Age', data=titanic_df)\n",
    "plt.show()"
   ]
  },
  {
   "cell_type": "code",
   "execution_count": 42,
   "id": "39b272d3-5c0b-4689-a442-1c60e360a427",
   "metadata": {
    "tags": []
   },
   "outputs": [
    {
     "data": {
      "image/png": "[encoded data removed]",
      "text/plain": [
       "<Figure size 640x480 with 1 Axes>"
      ]
     },
     "metadata": {},
     "output_type": "display_data"
    }
   ],
   "source": [
    "# x축값인 Pclass의 값별로 y축 값인 Age의 바이올린 플롯을 그림\n",
    "# pClass값 별로 Age의 연속 확률분포 곡선과 박스플롯을 시각화하므로 pClass값별 Age 데이터 분포를 비교하여 볼수 있음.  \n",
    "sns.violinplot(x='Pclass', y='Age', data=titanic_df)\n",
    "plt.show()"
   ]
  },
  {
   "cell_type": "code",
   "execution_count": 44,
   "id": "bdd78e23-ce58-4672-8870-80c44f2f18dc",
   "metadata": {
    "tags": []
   },
   "outputs": [
    {
     "data": {
      "image/png": "[encoded data removed]",
      "text/plain": [
       "<Figure size 1000x400 with 2 Axes>"
      ]
     },
     "metadata": {},
     "output_type": "display_data"
    },
    {
     "data": {
      "image/png": "[encoded data removed]",
      "text/plain": [
       "<Figure size 1000x400 with 2 Axes>"
      ]
     },
     "metadata": {},
     "output_type": "display_data"
    }
   ],
   "source": [
    "cont_columns = ['Age', 'Fare']\n",
    "\n",
    "# 리스트로 할당된 컬럼들의 개수만큼 루프 수행.\n",
    "for column in cont_columns:\n",
    "    # 왼쪽에는 바이올린 플롯, 오른쪽에는 히스토그램을 시각화 하기 위해 nrows는 1, ncols=2인 서브플롯 생성. \n",
    "    fig, axs = plt.subplots(nrows=1, ncols=2, figsize=(10, 4))\n",
    "    # 왼쪽 Axes객체에는 Survived값 0, 1별 개별 컬럼의 바이올린 플롯 시각화.\n",
    "    sns.violinplot(x='Survived', y=column, data=titanic_df, ax=axs[0])\n",
    "    # 오른쪽 Axes객체에는 Survived 값에 따른 개별 컬럼의 히스토그램 시각화 \n",
    "    sns.histplot(x=column, data=titanic_df, kde=True, hue='Survived', ax=axs[1])"
   ]
  },
  {
   "cell_type": "code",
   "execution_count": 45,
   "id": "1731c729-cfef-41f6-84cc-1c7a1e18ec4f",
   "metadata": {
    "tags": []
   },
   "outputs": [
    {
     "name": "stderr",
     "output_type": "stream",
     "text": [
      "C:\\Users\\user\\AppData\\Local\\Temp\\ipykernel_10600\\2838535537.py:1: FutureWarning: The default value of numeric_only in DataFrame.corr is deprecated. In a future version, it will default to False. Select only valid columns or specify the value of numeric_only to silence this warning.\n",
      "  corr_df = titanic_df.corr()\n",
      "C:\\Users\\user\\AppData\\Local\\Temp\\ipykernel_10600\\2838535537.py:5: FutureWarning: The default value of numeric_only in DataFrame.corr is deprecated. In a future version, it will default to False. Select only valid columns or specify the value of numeric_only to silence this warning.\n",
      "  corr = titanic_df.corr()\n"
     ]
    },
    {
     "data": {
      "image/png": "[encoded data removed]",
      "text/plain": [
       "<Figure size 640x480 with 2 Axes>"
      ]
     },
     "metadata": {},
     "output_type": "display_data"
    }
   ],
   "source": [
    "corr_df = titanic_df.corr()\n",
    "corr_df\n",
    "\n",
    "# 상관계수를 DataFrame으로 구하고 이를 heatmap()의 인자로 입력  \n",
    "corr = titanic_df.corr()\n",
    "sns.heatmap(corr)\n",
    "plt.show()"
   ]
  },
  {
   "cell_type": "code",
   "execution_count": 46,
   "id": "c1ba510d-9b58-479c-a34d-115cdaff8587",
   "metadata": {
    "tags": []
   },
   "outputs": [
    {
     "name": "stdout",
     "output_type": "stream",
     "text": [
      "Requirement already satisfied: plotly in c:\\users\\user\\appdata\\local\\programs\\python\\python310\\lib\\site-packages (5.13.1)\n",
      "Requirement already satisfied: tenacity>=6.2.0 in c:\\users\\user\\appdata\\local\\programs\\python\\python310\\lib\\site-packages (from plotly) (8.2.2)\n",
      "Note: you may need to restart the kernel to use updated packages.\n"
     ]
    }
   ],
   "source": [
    "pip install plotly\n"
   ]
  },
  {
   "cell_type": "code",
   "execution_count": 52,
   "id": "3312504d-7acd-488e-a41b-5ab053fc528a",
   "metadata": {
    "tags": []
   },
   "outputs": [
    {
     "name": "stdout",
     "output_type": "stream",
     "text": [
      "Collecting jupyter-dash\n",
      "  Downloading jupyter_dash-0.4.2-py3-none-any.whl (23 kB)\n",
      "Collecting dash (from jupyter-dash)\n",
      "  Downloading dash-2.9.3-py3-none-any.whl (10.2 MB)\n",
      "                                              0.0/10.2 MB ? eta -:--:--\n",
      "     ------------                            3.2/10.2 MB 101.1 MB/s eta 0:00:01\n",
      "     ----------------------------             7.2/10.2 MB 90.7 MB/s eta 0:00:01\n",
      "     --------------------------------------  10.2/10.2 MB 81.8 MB/s eta 0:00:01\n",
      "     --------------------------------------  10.2/10.2 MB 81.8 MB/s eta 0:00:01\n",
      "     --------------------------------------  10.2/10.2 MB 81.8 MB/s eta 0:00:01\n",
      "     --------------------------------------  10.2/10.2 MB 81.8 MB/s eta 0:00:01\n",
      "     --------------------------------------- 10.2/10.2 MB 36.2 MB/s eta 0:00:00\n",
      "Requirement already satisfied: requests in c:\\users\\user\\appdata\\local\\programs\\python\\python310\\lib\\site-packages (from jupyter-dash) (2.28.2)\n",
      "Collecting flask (from jupyter-dash)\n",
      "  Downloading Flask-2.3.2-py3-none-any.whl (96 kB)\n",
      "                                              0.0/96.9 kB ? eta -:--:--\n",
      "     ---------------------------------------- 96.9/96.9 kB ? eta 0:00:00\n",
      "Collecting retrying (from jupyter-dash)\n",
      "  Downloading retrying-1.3.4-py3-none-any.whl (11 kB)\n",
      "Requirement already satisfied: ipython in c:\\users\\user\\appdata\\local\\programs\\python\\python310\\lib\\site-packages (from jupyter-dash) (8.11.0)\n",
      "Requirement already satisfied: ipykernel in c:\\users\\user\\appdata\\local\\programs\\python\\python310\\lib\\site-packages (from jupyter-dash) (6.21.3)\n",
      "Collecting ansi2html (from jupyter-dash)\n",
      "  Downloading ansi2html-1.8.0-py3-none-any.whl (16 kB)\n",
      "Requirement already satisfied: nest-asyncio in c:\\users\\user\\appdata\\local\\programs\\python\\python310\\lib\\site-packages (from jupyter-dash) (1.5.6)\n",
      "Requirement already satisfied: plotly>=5.0.0 in c:\\users\\user\\appdata\\local\\programs\\python\\python310\\lib\\site-packages (from dash->jupyter-dash) (5.13.1)\n",
      "Collecting dash-html-components==2.0.0 (from dash->jupyter-dash)\n",
      "  Downloading dash_html_components-2.0.0-py3-none-any.whl (4.1 kB)\n",
      "Collecting dash-core-components==2.0.0 (from dash->jupyter-dash)\n",
      "  Downloading dash_core_components-2.0.0-py3-none-any.whl (3.8 kB)\n",
      "Collecting dash-table==5.0.0 (from dash->jupyter-dash)\n",
      "  Downloading dash_table-5.0.0-py3-none-any.whl (3.9 kB)\n",
      "Collecting Werkzeug>=2.3.3 (from flask->jupyter-dash)\n",
      "  Downloading Werkzeug-2.3.4-py3-none-any.whl (242 kB)\n",
      "                                              0.0/242.5 kB ? eta -:--:--\n",
      "     ---------------------------------------- 242.5/242.5 kB ? eta 0:00:00\n",
      "Requirement already satisfied: Jinja2>=3.1.2 in c:\\users\\user\\appdata\\local\\programs\\python\\python310\\lib\\site-packages (from flask->jupyter-dash) (3.1.2)\n",
      "Collecting itsdangerous>=2.1.2 (from flask->jupyter-dash)\n",
      "  Downloading itsdangerous-2.1.2-py3-none-any.whl (15 kB)\n",
      "Requirement already satisfied: click>=8.1.3 in c:\\users\\user\\appdata\\local\\programs\\python\\python310\\lib\\site-packages (from flask->jupyter-dash) (8.1.3)\n",
      "Collecting blinker>=1.6.2 (from flask->jupyter-dash)\n",
      "  Downloading blinker-1.6.2-py3-none-any.whl (13 kB)\n",
      "Requirement already satisfied: comm>=0.1.1 in c:\\users\\user\\appdata\\local\\programs\\python\\python310\\lib\\site-packages (from ipykernel->jupyter-dash) (0.1.2)\n",
      "Requirement already satisfied: debugpy>=1.6.5 in c:\\users\\user\\appdata\\local\\programs\\python\\python310\\lib\\site-packages (from ipykernel->jupyter-dash) (1.6.6)\n",
      "Requirement already satisfied: jupyter-client>=6.1.12 in c:\\users\\user\\appdata\\local\\programs\\python\\python310\\lib\\site-packages (from ipykernel->jupyter-dash) (8.0.3)\n",
      "Requirement already satisfied: jupyter-core!=5.0.*,>=4.12 in c:\\users\\user\\appdata\\local\\programs\\python\\python310\\lib\\site-packages (from ipykernel->jupyter-dash) (5.2.0)\n",
      "Requirement already satisfied: matplotlib-inline>=0.1 in c:\\users\\user\\appdata\\local\\programs\\python\\python310\\lib\\site-packages (from ipykernel->jupyter-dash) (0.1.6)\n",
      "Requirement already satisfied: packaging in c:\\users\\user\\appdata\\local\\programs\\python\\python310\\lib\\site-packages (from ipykernel->jupyter-dash) (23.0)\n",
      "Requirement already satisfied: psutil in c:\\users\\user\\appdata\\local\\programs\\python\\python310\\lib\\site-packages (from ipykernel->jupyter-dash) (5.9.4)\n",
      "Requirement already satisfied: pyzmq>=20 in c:\\users\\user\\appdata\\local\\programs\\python\\python310\\lib\\site-packages (from ipykernel->jupyter-dash) (25.0.0)\n",
      "Requirement already satisfied: tornado>=6.1 in c:\\users\\user\\appdata\\local\\programs\\python\\python310\\lib\\site-packages (from ipykernel->jupyter-dash) (6.2)\n",
      "Requirement already satisfied: traitlets>=5.4.0 in c:\\users\\user\\appdata\\local\\programs\\python\\python310\\lib\\site-packages (from ipykernel->jupyter-dash) (5.9.0)\n",
      "Requirement already satisfied: backcall in c:\\users\\user\\appdata\\local\\programs\\python\\python310\\lib\\site-packages (from ipython->jupyter-dash) (0.2.0)\n",
      "Requirement already satisfied: decorator in c:\\users\\user\\appdata\\local\\programs\\python\\python310\\lib\\site-packages (from ipython->jupyter-dash) (5.1.1)\n",
      "Requirement already satisfied: jedi>=0.16 in c:\\users\\user\\appdata\\local\\programs\\python\\python310\\lib\\site-packages (from ipython->jupyter-dash) (0.18.2)\n",
      "Requirement already satisfied: pickleshare in c:\\users\\user\\appdata\\local\\programs\\python\\python310\\lib\\site-packages (from ipython->jupyter-dash) (0.7.5)\n",
      "Requirement already satisfied: prompt-toolkit!=3.0.37,<3.1.0,>=3.0.30 in c:\\users\\user\\appdata\\local\\programs\\python\\python310\\lib\\site-packages (from ipython->jupyter-dash) (3.0.38)\n",
      "Requirement already satisfied: pygments>=2.4.0 in c:\\users\\user\\appdata\\local\\programs\\python\\python310\\lib\\site-packages (from ipython->jupyter-dash) (2.14.0)\n",
      "Requirement already satisfied: stack-data in c:\\users\\user\\appdata\\local\\programs\\python\\python310\\lib\\site-packages (from ipython->jupyter-dash) (0.6.2)\n",
      "Requirement already satisfied: colorama in c:\\users\\user\\appdata\\local\\programs\\python\\python310\\lib\\site-packages (from ipython->jupyter-dash) (0.4.6)\n",
      "Requirement already satisfied: charset-normalizer<4,>=2 in c:\\users\\user\\appdata\\local\\programs\\python\\python310\\lib\\site-packages (from requests->jupyter-dash) (3.1.0)\n",
      "Requirement already satisfied: idna<4,>=2.5 in c:\\users\\user\\appdata\\local\\programs\\python\\python310\\lib\\site-packages (from requests->jupyter-dash) (3.4)\n",
      "Requirement already satisfied: urllib3<1.27,>=1.21.1 in c:\\users\\user\\appdata\\local\\programs\\python\\python310\\lib\\site-packages (from requests->jupyter-dash) (1.26.14)\n",
      "Requirement already satisfied: certifi>=2017.4.17 in c:\\users\\user\\appdata\\local\\programs\\python\\python310\\lib\\site-packages (from requests->jupyter-dash) (2022.12.7)\n",
      "Requirement already satisfied: six>=1.7.0 in c:\\users\\user\\appdata\\local\\programs\\python\\python310\\lib\\site-packages (from retrying->jupyter-dash) (1.16.0)\n",
      "Requirement already satisfied: parso<0.9.0,>=0.8.0 in c:\\users\\user\\appdata\\local\\programs\\python\\python310\\lib\\site-packages (from jedi>=0.16->ipython->jupyter-dash) (0.8.3)\n",
      "Requirement already satisfied: MarkupSafe>=2.0 in c:\\users\\user\\appdata\\local\\programs\\python\\python310\\lib\\site-packages (from Jinja2>=3.1.2->flask->jupyter-dash) (2.1.2)\n",
      "Requirement already satisfied: python-dateutil>=2.8.2 in c:\\users\\user\\appdata\\local\\programs\\python\\python310\\lib\\site-packages (from jupyter-client>=6.1.12->ipykernel->jupyter-dash) (2.8.2)\n",
      "Requirement already satisfied: platformdirs>=2.5 in c:\\users\\user\\appdata\\local\\programs\\python\\python310\\lib\\site-packages (from jupyter-core!=5.0.*,>=4.12->ipykernel->jupyter-dash) (3.1.0)\n",
      "Requirement already satisfied: pywin32>=1.0 in c:\\users\\user\\appdata\\local\\programs\\python\\python310\\lib\\site-packages (from jupyter-core!=5.0.*,>=4.12->ipykernel->jupyter-dash) (305)\n",
      "Requirement already satisfied: tenacity>=6.2.0 in c:\\users\\user\\appdata\\local\\programs\\python\\python310\\lib\\site-packages (from plotly>=5.0.0->dash->jupyter-dash) (8.2.2)\n",
      "Requirement already satisfied: wcwidth in c:\\users\\user\\appdata\\local\\programs\\python\\python310\\lib\\site-packages (from prompt-toolkit!=3.0.37,<3.1.0,>=3.0.30->ipython->jupyter-dash) (0.2.6)\n",
      "Requirement already satisfied: executing>=1.2.0 in c:\\users\\user\\appdata\\local\\programs\\python\\python310\\lib\\site-packages (from stack-data->ipython->jupyter-dash) (1.2.0)\n",
      "Requirement already satisfied: asttokens>=2.1.0 in c:\\users\\user\\appdata\\local\\programs\\python\\python310\\lib\\site-packages (from stack-data->ipython->jupyter-dash) (2.2.1)\n",
      "Requirement already satisfied: pure-eval in c:\\users\\user\\appdata\\local\\programs\\python\\python310\\lib\\site-packages (from stack-data->ipython->jupyter-dash) (0.2.2)\n",
      "Installing collected packages: dash-table, dash-html-components, dash-core-components, Werkzeug, retrying, itsdangerous, blinker, ansi2html, flask, dash, jupyter-dash\n",
      "  Attempting uninstall: Werkzeug\n",
      "    Found existing installation: Werkzeug 2.2.3\n",
      "    Uninstalling Werkzeug-2.2.3:\n",
      "      Successfully uninstalled Werkzeug-2.2.3\n",
      "Successfully installed Werkzeug-2.3.4 ansi2html-1.8.0 blinker-1.6.2 dash-2.9.3 dash-core-components-2.0.0 dash-html-components-2.0.0 dash-table-5.0.0 flask-2.3.2 itsdangerous-2.1.2 jupyter-dash-0.4.2 retrying-1.3.4\n",
      "Note: you may need to restart the kernel to use updated packages.\n"
     ]
    }
   ],
   "source": [
    "pip install jupyter-dash"
   ]
  },
  {
   "cell_type": "code",
   "execution_count": 54,
   "id": "c924d046-d2e2-4751-b449-e8309a54c7f1",
   "metadata": {
    "tags": []
   },
   "outputs": [
    {
     "data": {
      "text/html": [
       "<div>\n",
       "<style scoped>\n",
       "    .dataframe tbody tr th:only-of-type {\n",
       "        vertical-align: middle;\n",
       "    }\n",
       "\n",
       "    .dataframe tbody tr th {\n",
       "        vertical-align: top;\n",
       "    }\n",
       "\n",
       "    .dataframe thead th {\n",
       "        text-align: right;\n",
       "    }\n",
       "</style>\n",
       "<table border=\"1\" class=\"dataframe\">\n",
       "  <thead>\n",
       "    <tr style=\"text-align: right;\">\n",
       "      <th></th>\n",
       "      <th>model</th>\n",
       "      <th>displ</th>\n",
       "      <th>year</th>\n",
       "      <th>cyl</th>\n",
       "      <th>trans</th>\n",
       "      <th>drv</th>\n",
       "      <th>cty</th>\n",
       "      <th>hwy</th>\n",
       "      <th>fl</th>\n",
       "      <th>class</th>\n",
       "    </tr>\n",
       "  </thead>\n",
       "  <tbody>\n",
       "    <tr>\n",
       "      <th>1</th>\n",
       "      <td>a4</td>\n",
       "      <td>1.8</td>\n",
       "      <td>1999</td>\n",
       "      <td>4</td>\n",
       "      <td>auto(l5)</td>\n",
       "      <td>f</td>\n",
       "      <td>18</td>\n",
       "      <td>29</td>\n",
       "      <td>p</td>\n",
       "      <td>compact</td>\n",
       "    </tr>\n",
       "    <tr>\n",
       "      <th>2</th>\n",
       "      <td>a4</td>\n",
       "      <td>1.8</td>\n",
       "      <td>1999</td>\n",
       "      <td>4</td>\n",
       "      <td>manual(m5)</td>\n",
       "      <td>f</td>\n",
       "      <td>21</td>\n",
       "      <td>29</td>\n",
       "      <td>p</td>\n",
       "      <td>compact</td>\n",
       "    </tr>\n",
       "  </tbody>\n",
       "</table>\n",
       "</div>"
      ],
      "text/plain": [
       "  model  displ  year  cyl       trans drv  cty  hwy fl    class\n",
       "1    a4    1.8  1999    4    auto(l5)   f   18   29  p  compact\n",
       "2    a4    1.8  1999    4  manual(m5)   f   21   29  p  compact"
      ]
     },
     "execution_count": 54,
     "metadata": {},
     "output_type": "execute_result"
    }
   ],
   "source": [
    "import pydataset\n",
    "mpg = pydataset.data('mpg')\n",
    "mpg=mpg.iloc[:,1:]\n",
    "mpg[:2]"
   ]
  },
  {
   "cell_type": "code",
   "execution_count": 57,
   "id": "d281e28b-ab54-49e6-bc88-09fed2585756",
   "metadata": {
    "tags": []
   },
   "outputs": [
    {
     "data": {
      "text/plain": [
       "<Axes: xlabel='displ', ylabel='cty'>"
      ]
     },
     "execution_count": 57,
     "metadata": {},
     "output_type": "execute_result"
    },
    {
     "data": {
      "image/png": "[encoded data removed]",
      "text/plain": [
       "<Figure size 640x480 with 1 Axes>"
      ]
     },
     "metadata": {},
     "output_type": "display_data"
    }
   ],
   "source": [
    "import seaborn as sns\n",
    "sns.scatterplot(data=mpg, x='displ', y='cty', hue='drv' )"
   ]
  },
  {
   "cell_type": "code",
   "execution_count": 60,
   "id": "024682c1-ce7c-41cd-9835-010218824f19",
   "metadata": {
    "tags": []
   },
   "outputs": [],
   "source": [
    "import matplotlib.pyplot as plt\n",
    "import plotly.express as px"
   ]
  },
  {
   "cell_type": "code",
   "execution_count": 62,
   "id": "84eedc9f-af71-4581-8c72-67f569069172",
   "metadata": {
    "tags": []
   },
   "outputs": [
    {
     "data": {
      "application/vnd.plotly.v1+json": {
       "config": {
        "plotlyServerURL": "https://plot.ly"
       },
       "data": [
        {
         "hovertemplate": "drv=f<br>displ=%{x}<br>cty=%{y}<extra></extra>",
         "legendgroup": "f",
         "marker": {
          "color": "#636efa",
          "symbol": "circle"
         },
         "mode": "markers",
         "name": "f",
         "orientation": "v",
         "showlegend": true,
         "type": "scatter",
         "x": [
          1.8,
          1.8,
          2,
          2,
          2.8,
          2.8,
          3.1,
          2.4,
          2.4,
          3.1,
          3.5,
          3.6,
          2.4,
          3,
          3.3,
          3.3,
          3.3,
          3.3,
          3.3,
          3.8,
          3.8,
          3.8,
          4,
          1.6,
          1.6,
          1.6,
          1.6,
          1.6,
          1.8,
          1.8,
          1.8,
          2,
          2.4,
          2.4,
          2.4,
          2.4,
          2.5,
          2.5,
          3.3,
          2,
          2,
          2,
          2,
          2.7,
          2.7,
          2.7,
          2.4,
          2.4,
          2.5,
          2.5,
          3.5,
          3.5,
          3,
          3,
          3.5,
          3.1,
          3.8,
          3.8,
          3.8,
          5.3,
          2.2,
          2.2,
          2.4,
          2.4,
          3,
          3,
          3.5,
          2.2,
          2.2,
          2.4,
          2.4,
          3,
          3,
          3.3,
          1.8,
          1.8,
          1.8,
          1.8,
          1.8,
          2,
          2,
          2,
          2,
          2.8,
          1.9,
          2,
          2,
          2,
          2,
          2.5,
          2.5,
          2.8,
          2.8,
          1.9,
          1.9,
          2,
          2,
          2.5,
          2.5,
          1.8,
          1.8,
          2,
          2,
          2.8,
          2.8,
          3.6
         ],
         "xaxis": "x",
         "y": [
          18,
          21,
          20,
          21,
          16,
          18,
          18,
          19,
          22,
          18,
          18,
          17,
          18,
          17,
          16,
          16,
          17,
          17,
          11,
          15,
          15,
          16,
          16,
          28,
          24,
          25,
          23,
          24,
          26,
          25,
          24,
          21,
          18,
          18,
          21,
          21,
          18,
          18,
          19,
          19,
          19,
          20,
          20,
          17,
          16,
          17,
          21,
          19,
          23,
          23,
          19,
          19,
          18,
          19,
          19,
          18,
          16,
          17,
          18,
          16,
          21,
          21,
          21,
          21,
          18,
          18,
          19,
          21,
          21,
          21,
          22,
          18,
          18,
          18,
          24,
          24,
          26,
          28,
          26,
          21,
          19,
          21,
          22,
          17,
          33,
          21,
          19,
          22,
          21,
          21,
          21,
          16,
          17,
          35,
          29,
          21,
          19,
          20,
          20,
          21,
          18,
          19,
          21,
          16,
          18,
          17
         ],
         "yaxis": "y"
        },
        {
         "hovertemplate": "drv=4<br>displ=%{x}<br>cty=%{y}<extra></extra>",
         "legendgroup": "4",
         "marker": {
          "color": "#EF553B",
          "symbol": "circle"
         },
         "mode": "markers",
         "name": "4",
         "orientation": "v",
         "showlegend": true,
         "type": "scatter",
         "x": [
          1.8,
          1.8,
          2,
          2,
          2.8,
          2.8,
          3.1,
          3.1,
          2.8,
          3.1,
          4.2,
          5.3,
          5.3,
          5.7,
          6.5,
          3.7,
          3.7,
          3.9,
          3.9,
          4.7,
          4.7,
          4.7,
          5.2,
          5.2,
          3.9,
          4.7,
          4.7,
          4.7,
          5.2,
          5.7,
          5.9,
          4.7,
          4.7,
          4.7,
          4.7,
          4.7,
          4.7,
          5.2,
          5.2,
          5.7,
          5.9,
          4,
          4,
          4,
          4,
          4.6,
          5,
          4.2,
          4.2,
          4.6,
          4.6,
          4.6,
          5.4,
          5.4,
          3,
          3.7,
          4,
          4.7,
          4.7,
          4.7,
          5.7,
          6.1,
          4,
          4.2,
          4.4,
          4.6,
          4,
          4,
          4.6,
          5,
          3.3,
          3.3,
          4,
          5.6,
          2.5,
          2.5,
          2.5,
          2.5,
          2.5,
          2.5,
          2.2,
          2.2,
          2.5,
          2.5,
          2.5,
          2.5,
          2.5,
          2.5,
          2.7,
          2.7,
          3.4,
          3.4,
          4,
          4.7,
          4.7,
          5.7,
          2.7,
          2.7,
          2.7,
          3.4,
          3.4,
          4,
          4
         ],
         "xaxis": "x",
         "y": [
          18,
          16,
          20,
          19,
          15,
          17,
          17,
          15,
          15,
          17,
          16,
          14,
          11,
          11,
          14,
          15,
          14,
          13,
          14,
          14,
          14,
          9,
          11,
          11,
          13,
          13,
          9,
          13,
          11,
          13,
          11,
          12,
          9,
          13,
          13,
          12,
          9,
          11,
          11,
          13,
          11,
          14,
          15,
          14,
          13,
          13,
          13,
          14,
          14,
          13,
          13,
          13,
          11,
          13,
          17,
          15,
          15,
          14,
          9,
          14,
          13,
          11,
          11,
          12,
          12,
          11,
          14,
          13,
          13,
          13,
          14,
          15,
          14,
          12,
          18,
          18,
          20,
          19,
          20,
          18,
          21,
          19,
          19,
          19,
          20,
          20,
          19,
          20,
          15,
          16,
          15,
          15,
          16,
          14,
          11,
          13,
          15,
          16,
          17,
          15,
          15,
          15,
          16
         ],
         "yaxis": "y"
        },
        {
         "hovertemplate": "drv=r<br>displ=%{x}<br>cty=%{y}<extra></extra>",
         "legendgroup": "r",
         "marker": {
          "color": "#00cc96",
          "symbol": "circle"
         },
         "mode": "markers",
         "name": "r",
         "orientation": "v",
         "showlegend": true,
         "type": "scatter",
         "x": [
          5.3,
          5.3,
          5.3,
          5.7,
          6,
          5.7,
          5.7,
          6.2,
          6.2,
          7,
          4.6,
          5.4,
          5.4,
          3.8,
          3.8,
          4,
          4,
          4.6,
          4.6,
          4.6,
          4.6,
          5.4,
          5.4,
          5.4,
          5.4
         ],
         "xaxis": "x",
         "y": [
          14,
          11,
          14,
          13,
          12,
          16,
          15,
          16,
          15,
          15,
          11,
          11,
          12,
          18,
          18,
          17,
          16,
          15,
          15,
          15,
          15,
          14,
          11,
          11,
          12
         ],
         "yaxis": "y"
        }
       ],
       "layout": {
        "autosize": true,
        "legend": {
         "title": {
          "text": "drv"
         },
         "tracegroupgap": 0
        },
        "margin": {
         "t": 60
        },
        "template": {
         "data": {
          "bar": [
           {
            "error_x": {
             "color": "#2a3f5f"
            },
            "error_y": {
             "color": "#2a3f5f"
            },
            "marker": {
             "line": {
              "color": "#E5ECF6",
              "width": 0.5
             },
             "pattern": {
              "fillmode": "overlay",
              "size": 10,
              "solidity": 0.2
             }
            },
            "type": "bar"
           }
          ],
          "barpolar": [
           {
            "marker": {
             "line": {
              "color": "#E5ECF6",
              "width": 0.5
             },
             "pattern": {
              "fillmode": "overlay",
              "size": 10,
              "solidity": 0.2
             }
            },
            "type": "barpolar"
           }
          ],
          "carpet": [
           {
            "aaxis": {
             "endlinecolor": "#2a3f5f",
             "gridcolor": "white",
             "linecolor": "white",
             "minorgridcolor": "white",
             "startlinecolor": "#2a3f5f"
            },
            "baxis": {
             "endlinecolor": "#2a3f5f",
             "gridcolor": "white",
             "linecolor": "white",
             "minorgridcolor": "white",
             "startlinecolor": "#2a3f5f"
            },
            "type": "carpet"
           }
          ],
          "choropleth": [
           {
            "colorbar": {
             "outlinewidth": 0,
             "ticks": ""
            },
            "type": "choropleth"
           }
          ],
          "contour": [
           {
            "colorbar": {
             "outlinewidth": 0,
             "ticks": ""
            },
            "colorscale": [
             [
              0,
              "#0d0887"
             ],
             [
              0.1111111111111111,
              "#46039f"
             ],
             [
              0.2222222222222222,
              "#7201a8"
             ],
             [
              0.3333333333333333,
              "#9c179e"
             ],
             [
              0.4444444444444444,
              "#bd3786"
             ],
             [
              0.5555555555555556,
              "#d8576b"
             ],
             [
              0.6666666666666666,
              "#ed7953"
             ],
             [
              0.7777777777777778,
              "#fb9f3a"
             ],
             [
              0.8888888888888888,
              "#fdca26"
             ],
             [
              1,
              "#f0f921"
             ]
            ],
            "type": "contour"
           }
          ],
          "contourcarpet": [
           {
            "colorbar": {
             "outlinewidth": 0,
             "ticks": ""
            },
            "type": "contourcarpet"
           }
          ],
          "heatmap": [
           {
            "colorbar": {
             "outlinewidth": 0,
             "ticks": ""
            },
            "colorscale": [
             [
              0,
              "#0d0887"
             ],
             [
              0.1111111111111111,
              "#46039f"
             ],
             [
              0.2222222222222222,
              "#7201a8"
             ],
             [
              0.3333333333333333,
              "#9c179e"
             ],
             [
              0.4444444444444444,
              "#bd3786"
             ],
             [
              0.5555555555555556,
              "#d8576b"
             ],
             [
              0.6666666666666666,
              "#ed7953"
             ],
             [
              0.7777777777777778,
              "#fb9f3a"
             ],
             [
              0.8888888888888888,
              "#fdca26"
             ],
             [
              1,
              "#f0f921"
             ]
            ],
            "type": "heatmap"
           }
          ],
          "heatmapgl": [
           {
            "colorbar": {
             "outlinewidth": 0,
             "ticks": ""
            },
            "colorscale": [
             [
              0,
              "#0d0887"
             ],
             [
              0.1111111111111111,
              "#46039f"
             ],
             [
              0.2222222222222222,
              "#7201a8"
             ],
             [
              0.3333333333333333,
              "#9c179e"
             ],
             [
              0.4444444444444444,
              "#bd3786"
             ],
             [
              0.5555555555555556,
              "#d8576b"
             ],
             [
              0.6666666666666666,
              "#ed7953"
             ],
             [
              0.7777777777777778,
              "#fb9f3a"
             ],
             [
              0.8888888888888888,
              "#fdca26"
             ],
             [
              1,
              "#f0f921"
             ]
            ],
            "type": "heatmapgl"
           }
          ],
          "histogram": [
           {
            "marker": {
             "pattern": {
              "fillmode": "overlay",
              "size": 10,
              "solidity": 0.2
             }
            },
            "type": "histogram"
           }
          ],
          "histogram2d": [
           {
            "colorbar": {
             "outlinewidth": 0,
             "ticks": ""
            },
            "colorscale": [
             [
              0,
              "#0d0887"
             ],
             [
              0.1111111111111111,
              "#46039f"
             ],
             [
              0.2222222222222222,
              "#7201a8"
             ],
             [
              0.3333333333333333,
              "#9c179e"
             ],
             [
              0.4444444444444444,
              "#bd3786"
             ],
             [
              0.5555555555555556,
              "#d8576b"
             ],
             [
              0.6666666666666666,
              "#ed7953"
             ],
             [
              0.7777777777777778,
              "#fb9f3a"
             ],
             [
              0.8888888888888888,
              "#fdca26"
             ],
             [
              1,
              "#f0f921"
             ]
            ],
            "type": "histogram2d"
           }
          ],
          "histogram2dcontour": [
           {
            "colorbar": {
             "outlinewidth": 0,
             "ticks": ""
            },
            "colorscale": [
             [
              0,
              "#0d0887"
             ],
             [
              0.1111111111111111,
              "#46039f"
             ],
             [
              0.2222222222222222,
              "#7201a8"
             ],
             [
              0.3333333333333333,
              "#9c179e"
             ],
             [
              0.4444444444444444,
              "#bd3786"
             ],
             [
              0.5555555555555556,
              "#d8576b"
             ],
             [
              0.6666666666666666,
              "#ed7953"
             ],
             [
              0.7777777777777778,
              "#fb9f3a"
             ],
             [
              0.8888888888888888,
              "#fdca26"
             ],
             [
              1,
              "#f0f921"
             ]
            ],
            "type": "histogram2dcontour"
           }
          ],
          "mesh3d": [
           {
            "colorbar": {
             "outlinewidth": 0,
             "ticks": ""
            },
            "type": "mesh3d"
           }
          ],
          "parcoords": [
           {
            "line": {
             "colorbar": {
              "outlinewidth": 0,
              "ticks": ""
             }
            },
            "type": "parcoords"
           }
          ],
          "pie": [
           {
            "automargin": true,
            "type": "pie"
           }
          ],
          "scatter": [
           {
            "fillpattern": {
             "fillmode": "overlay",
             "size": 10,
             "solidity": 0.2
            },
            "type": "scatter"
           }
          ],
          "scatter3d": [
           {
            "line": {
             "colorbar": {
              "outlinewidth": 0,
              "ticks": ""
             }
            },
            "marker": {
             "colorbar": {
              "outlinewidth": 0,
              "ticks": ""
             }
            },
            "type": "scatter3d"
           }
          ],
          "scattercarpet": [
           {
            "marker": {
             "colorbar": {
              "outlinewidth": 0,
              "ticks": ""
             }
            },
            "type": "scattercarpet"
           }
          ],
          "scattergeo": [
           {
            "marker": {
             "colorbar": {
              "outlinewidth": 0,
              "ticks": ""
             }
            },
            "type": "scattergeo"
           }
          ],
          "scattergl": [
           {
            "marker": {
             "colorbar": {
              "outlinewidth": 0,
              "ticks": ""
             }
            },
            "type": "scattergl"
           }
          ],
          "scattermapbox": [
           {
            "marker": {
             "colorbar": {
              "outlinewidth": 0,
              "ticks": ""
             }
            },
            "type": "scattermapbox"
           }
          ],
          "scatterpolar": [
           {
            "marker": {
             "colorbar": {
              "outlinewidth": 0,
              "ticks": ""
             }
            },
            "type": "scatterpolar"
           }
          ],
          "scatterpolargl": [
           {
            "marker": {
             "colorbar": {
              "outlinewidth": 0,
              "ticks": ""
             }
            },
            "type": "scatterpolargl"
           }
          ],
          "scatterternary": [
           {
            "marker": {
             "colorbar": {
              "outlinewidth": 0,
              "ticks": ""
             }
            },
            "type": "scatterternary"
           }
          ],
          "surface": [
           {
            "colorbar": {
             "outlinewidth": 0,
             "ticks": ""
            },
            "colorscale": [
             [
              0,
              "#0d0887"
             ],
             [
              0.1111111111111111,
              "#46039f"
             ],
             [
              0.2222222222222222,
              "#7201a8"
             ],
             [
              0.3333333333333333,
              "#9c179e"
             ],
             [
              0.4444444444444444,
              "#bd3786"
             ],
             [
              0.5555555555555556,
              "#d8576b"
             ],
             [
              0.6666666666666666,
              "#ed7953"
             ],
             [
              0.7777777777777778,
              "#fb9f3a"
             ],
             [
              0.8888888888888888,
              "#fdca26"
             ],
             [
              1,
              "#f0f921"
             ]
            ],
            "type": "surface"
           }
          ],
          "table": [
           {
            "cells": {
             "fill": {
              "color": "#EBF0F8"
             },
             "line": {
              "color": "white"
             }
            },
            "header": {
             "fill": {
              "color": "#C8D4E3"
             },
             "line": {
              "color": "white"
             }
            },
            "type": "table"
           }
          ]
         },
         "layout": {
          "annotationdefaults": {
           "arrowcolor": "#2a3f5f",
           "arrowhead": 0,
           "arrowwidth": 1
          },
          "autotypenumbers": "strict",
          "coloraxis": {
           "colorbar": {
            "outlinewidth": 0,
            "ticks": ""
           }
          },
          "colorscale": {
           "diverging": [
            [
             0,
             "#8e0152"
            ],
            [
             0.1,
             "#c51b7d"
            ],
            [
             0.2,
             "#de77ae"
            ],
            [
             0.3,
             "#f1b6da"
            ],
            [
             0.4,
             "#fde0ef"
            ],
            [
             0.5,
             "#f7f7f7"
            ],
            [
             0.6,
             "#e6f5d0"
            ],
            [
             0.7,
             "#b8e186"
            ],
            [
             0.8,
             "#7fbc41"
            ],
            [
             0.9,
             "#4d9221"
            ],
            [
             1,
             "#276419"
            ]
           ],
           "sequential": [
            [
             0,
             "#0d0887"
            ],
            [
             0.1111111111111111,
             "#46039f"
            ],
            [
             0.2222222222222222,
             "#7201a8"
            ],
            [
             0.3333333333333333,
             "#9c179e"
            ],
            [
             0.4444444444444444,
             "#bd3786"
            ],
            [
             0.5555555555555556,
             "#d8576b"
            ],
            [
             0.6666666666666666,
             "#ed7953"
            ],
            [
             0.7777777777777778,
             "#fb9f3a"
            ],
            [
             0.8888888888888888,
             "#fdca26"
            ],
            [
             1,
             "#f0f921"
            ]
           ],
           "sequentialminus": [
            [
             0,
             "#0d0887"
            ],
            [
             0.1111111111111111,
             "#46039f"
            ],
            [
             0.2222222222222222,
             "#7201a8"
            ],
            [
             0.3333333333333333,
             "#9c179e"
            ],
            [
             0.4444444444444444,
             "#bd3786"
            ],
            [
             0.5555555555555556,
             "#d8576b"
            ],
            [
             0.6666666666666666,
             "#ed7953"
            ],
            [
             0.7777777777777778,
             "#fb9f3a"
            ],
            [
             0.8888888888888888,
             "#fdca26"
            ],
            [
             1,
             "#f0f921"
            ]
           ]
          },
          "colorway": [
           "#636efa",
           "#EF553B",
           "#00cc96",
           "#ab63fa",
           "#FFA15A",
           "#19d3f3",
           "#FF6692",
           "#B6E880",
           "#FF97FF",
           "#FECB52"
          ],
          "font": {
           "color": "#2a3f5f"
          },
          "geo": {
           "bgcolor": "white",
           "lakecolor": "white",
           "landcolor": "#E5ECF6",
           "showlakes": true,
           "showland": true,
           "subunitcolor": "white"
          },
          "hoverlabel": {
           "align": "left"
          },
          "hovermode": "closest",
          "mapbox": {
           "style": "light"
          },
          "paper_bgcolor": "white",
          "plot_bgcolor": "#E5ECF6",
          "polar": {
           "angularaxis": {
            "gridcolor": "white",
            "linecolor": "white",
            "ticks": ""
           },
           "bgcolor": "#E5ECF6",
           "radialaxis": {
            "gridcolor": "white",
            "linecolor": "white",
            "ticks": ""
           }
          },
          "scene": {
           "xaxis": {
            "backgroundcolor": "#E5ECF6",
            "gridcolor": "white",
            "gridwidth": 2,
            "linecolor": "white",
            "showbackground": true,
            "ticks": "",
            "zerolinecolor": "white"
           },
           "yaxis": {
            "backgroundcolor": "#E5ECF6",
            "gridcolor": "white",
            "gridwidth": 2,
            "linecolor": "white",
            "showbackground": true,
            "ticks": "",
            "zerolinecolor": "white"
           },
           "zaxis": {
            "backgroundcolor": "#E5ECF6",
            "gridcolor": "white",
            "gridwidth": 2,
            "linecolor": "white",
            "showbackground": true,
            "ticks": "",
            "zerolinecolor": "white"
           }
          },
          "shapedefaults": {
           "line": {
            "color": "#2a3f5f"
           }
          },
          "ternary": {
           "aaxis": {
            "gridcolor": "white",
            "linecolor": "white",
            "ticks": ""
           },
           "baxis": {
            "gridcolor": "white",
            "linecolor": "white",
            "ticks": ""
           },
           "bgcolor": "#E5ECF6",
           "caxis": {
            "gridcolor": "white",
            "linecolor": "white",
            "ticks": ""
           }
          },
          "title": {
           "x": 0.05
          },
          "xaxis": {
           "automargin": true,
           "gridcolor": "white",
           "linecolor": "white",
           "ticks": "",
           "title": {
            "standoff": 15
           },
           "zerolinecolor": "white",
           "zerolinewidth": 2
          },
          "yaxis": {
           "automargin": true,
           "gridcolor": "white",
           "linecolor": "white",
           "ticks": "",
           "title": {
            "standoff": 15
           },
           "zerolinecolor": "white",
           "zerolinewidth": 2
          }
         }
        },
        "xaxis": {
         "anchor": "y",
         "autorange": false,
         "domain": [
          0,
          1
         ],
         "range": [
          2.7700000000000005,
          5.830000000000002
         ],
         "title": {
          "text": "displ"
         },
         "type": "linear"
        },
        "yaxis": {
         "anchor": "x",
         "autorange": false,
         "domain": [
          0,
          1
         ],
         "range": [
          14.493438320209972,
          29.506561679790025
         ],
         "title": {
          "text": "cty"
         },
         "type": "linear"
        }
       }
      },
      "image/png": "[encoded data removed]",
      "text/html": [
       "<div>                            <div id=\"8aafbd86-7aed-4066-a211-b7886dde4873\" class=\"plotly-graph-div\" style=\"height:525px; width:100%;\"></div>            <script type=\"text/javascript\">                require([\"plotly\"], function(Plotly) {                    window.PLOTLYENV=window.PLOTLYENV || {};                                    if (document.getElementById(\"8aafbd86-7aed-4066-a211-b7886dde4873\")) {                    Plotly.newPlot(                        \"8aafbd86-7aed-4066-a211-b7886dde4873\",                        [{\"hovertemplate\":\"drv=f<br>displ=%{x}<br>cty=%{y}<extra></extra>\",\"legendgroup\":\"f\",\"marker\":{\"color\":\"#636efa\",\"symbol\":\"circle\"},\"mode\":\"markers\",\"name\":\"f\",\"orientation\":\"v\",\"showlegend\":true,\"x\":[1.8,1.8,2.0,2.0,2.8,2.8,3.1,2.4,2.4,3.1,3.5,3.6,2.4,3.0,3.3,3.3,3.3,3.3,3.3,3.8,3.8,3.8,4.0,1.6,1.6,1.6,1.6,1.6,1.8,1.8,1.8,2.0,2.4,2.4,2.4,2.4,2.5,2.5,3.3,2.0,2.0,2.0,2.0,2.7,2.7,2.7,2.4,2.4,2.5,2.5,3.5,3.5,3.0,3.0,3.5,3.1,3.8,3.8,3.8,5.3,2.2,2.2,2.4,2.4,3.0,3.0,3.5,2.2,2.2,2.4,2.4,3.0,3.0,3.3,1.8,1.8,1.8,1.8,1.8,2.0,2.0,2.0,2.0,2.8,1.9,2.0,2.0,2.0,2.0,2.5,2.5,2.8,2.8,1.9,1.9,2.0,2.0,2.5,2.5,1.8,1.8,2.0,2.0,2.8,2.8,3.6],\"xaxis\":\"x\",\"y\":[18,21,20,21,16,18,18,19,22,18,18,17,18,17,16,16,17,17,11,15,15,16,16,28,24,25,23,24,26,25,24,21,18,18,21,21,18,18,19,19,19,20,20,17,16,17,21,19,23,23,19,19,18,19,19,18,16,17,18,16,21,21,21,21,18,18,19,21,21,21,22,18,18,18,24,24,26,28,26,21,19,21,22,17,33,21,19,22,21,21,21,16,17,35,29,21,19,20,20,21,18,19,21,16,18,17],\"yaxis\":\"y\",\"type\":\"scatter\"},{\"hovertemplate\":\"drv=4<br>displ=%{x}<br>cty=%{y}<extra></extra>\",\"legendgroup\":\"4\",\"marker\":{\"color\":\"#EF553B\",\"symbol\":\"circle\"},\"mode\":\"markers\",\"name\":\"4\",\"orientation\":\"v\",\"showlegend\":true,\"x\":[1.8,1.8,2.0,2.0,2.8,2.8,3.1,3.1,2.8,3.1,4.2,5.3,5.3,5.7,6.5,3.7,3.7,3.9,3.9,4.7,4.7,4.7,5.2,5.2,3.9,4.7,4.7,4.7,5.2,5.7,5.9,4.7,4.7,4.7,4.7,4.7,4.7,5.2,5.2,5.7,5.9,4.0,4.0,4.0,4.0,4.6,5.0,4.2,4.2,4.6,4.6,4.6,5.4,5.4,3.0,3.7,4.0,4.7,4.7,4.7,5.7,6.1,4.0,4.2,4.4,4.6,4.0,4.0,4.6,5.0,3.3,3.3,4.0,5.6,2.5,2.5,2.5,2.5,2.5,2.5,2.2,2.2,2.5,2.5,2.5,2.5,2.5,2.5,2.7,2.7,3.4,3.4,4.0,4.7,4.7,5.7,2.7,2.7,2.7,3.4,3.4,4.0,4.0],\"xaxis\":\"x\",\"y\":[18,16,20,19,15,17,17,15,15,17,16,14,11,11,14,15,14,13,14,14,14,9,11,11,13,13,9,13,11,13,11,12,9,13,13,12,9,11,11,13,11,14,15,14,13,13,13,14,14,13,13,13,11,13,17,15,15,14,9,14,13,11,11,12,12,11,14,13,13,13,14,15,14,12,18,18,20,19,20,18,21,19,19,19,20,20,19,20,15,16,15,15,16,14,11,13,15,16,17,15,15,15,16],\"yaxis\":\"y\",\"type\":\"scatter\"},{\"hovertemplate\":\"drv=r<br>displ=%{x}<br>cty=%{y}<extra></extra>\",\"legendgroup\":\"r\",\"marker\":{\"color\":\"#00cc96\",\"symbol\":\"circle\"},\"mode\":\"markers\",\"name\":\"r\",\"orientation\":\"v\",\"showlegend\":true,\"x\":[5.3,5.3,5.3,5.7,6.0,5.7,5.7,6.2,6.2,7.0,4.6,5.4,5.4,3.8,3.8,4.0,4.0,4.6,4.6,4.6,4.6,5.4,5.4,5.4,5.4],\"xaxis\":\"x\",\"y\":[14,11,14,13,12,16,15,16,15,15,11,11,12,18,18,17,16,15,15,15,15,14,11,11,12],\"yaxis\":\"y\",\"type\":\"scatter\"}],                        {\"template\":{\"data\":{\"histogram2dcontour\":[{\"type\":\"histogram2dcontour\",\"colorbar\":{\"outlinewidth\":0,\"ticks\":\"\"},\"colorscale\":[[0.0,\"#0d0887\"],[0.1111111111111111,\"#46039f\"],[0.2222222222222222,\"#7201a8\"],[0.3333333333333333,\"#9c179e\"],[0.4444444444444444,\"#bd3786\"],[0.5555555555555556,\"#d8576b\"],[0.6666666666666666,\"#ed7953\"],[0.7777777777777778,\"#fb9f3a\"],[0.8888888888888888,\"#fdca26\"],[1.0,\"#f0f921\"]]}],\"choropleth\":[{\"type\":\"choropleth\",\"colorbar\":{\"outlinewidth\":0,\"ticks\":\"\"}}],\"histogram2d\":[{\"type\":\"histogram2d\",\"colorbar\":{\"outlinewidth\":0,\"ticks\":\"\"},\"colorscale\":[[0.0,\"#0d0887\"],[0.1111111111111111,\"#46039f\"],[0.2222222222222222,\"#7201a8\"],[0.3333333333333333,\"#9c179e\"],[0.4444444444444444,\"#bd3786\"],[0.5555555555555556,\"#d8576b\"],[0.6666666666666666,\"#ed7953\"],[0.7777777777777778,\"#fb9f3a\"],[0.8888888888888888,\"#fdca26\"],[1.0,\"#f0f921\"]]}],\"heatmap\":[{\"type\":\"heatmap\",\"colorbar\":{\"outlinewidth\":0,\"ticks\":\"\"},\"colorscale\":[[0.0,\"#0d0887\"],[0.1111111111111111,\"#46039f\"],[0.2222222222222222,\"#7201a8\"],[0.3333333333333333,\"#9c179e\"],[0.4444444444444444,\"#bd3786\"],[0.5555555555555556,\"#d8576b\"],[0.6666666666666666,\"#ed7953\"],[0.7777777777777778,\"#fb9f3a\"],[0.8888888888888888,\"#fdca26\"],[1.0,\"#f0f921\"]]}],\"heatmapgl\":[{\"type\":\"heatmapgl\",\"colorbar\":{\"outlinewidth\":0,\"ticks\":\"\"},\"colorscale\":[[0.0,\"#0d0887\"],[0.1111111111111111,\"#46039f\"],[0.2222222222222222,\"#7201a8\"],[0.3333333333333333,\"#9c179e\"],[0.4444444444444444,\"#bd3786\"],[0.5555555555555556,\"#d8576b\"],[0.6666666666666666,\"#ed7953\"],[0.7777777777777778,\"#fb9f3a\"],[0.8888888888888888,\"#fdca26\"],[1.0,\"#f0f921\"]]}],\"contourcarpet\":[{\"type\":\"contourcarpet\",\"colorbar\":{\"outlinewidth\":0,\"ticks\":\"\"}}],\"contour\":[{\"type\":\"contour\",\"colorbar\":{\"outlinewidth\":0,\"ticks\":\"\"},\"colorscale\":[[0.0,\"#0d0887\"],[0.1111111111111111,\"#46039f\"],[0.2222222222222222,\"#7201a8\"],[0.3333333333333333,\"#9c179e\"],[0.4444444444444444,\"#bd3786\"],[0.5555555555555556,\"#d8576b\"],[0.6666666666666666,\"#ed7953\"],[0.7777777777777778,\"#fb9f3a\"],[0.8888888888888888,\"#fdca26\"],[1.0,\"#f0f921\"]]}],\"surface\":[{\"type\":\"surface\",\"colorbar\":{\"outlinewidth\":0,\"ticks\":\"\"},\"colorscale\":[[0.0,\"#0d0887\"],[0.1111111111111111,\"#46039f\"],[0.2222222222222222,\"#7201a8\"],[0.3333333333333333,\"#9c179e\"],[0.4444444444444444,\"#bd3786\"],[0.5555555555555556,\"#d8576b\"],[0.6666666666666666,\"#ed7953\"],[0.7777777777777778,\"#fb9f3a\"],[0.8888888888888888,\"#fdca26\"],[1.0,\"#f0f921\"]]}],\"mesh3d\":[{\"type\":\"mesh3d\",\"colorbar\":{\"outlinewidth\":0,\"ticks\":\"\"}}],\"scatter\":[{\"fillpattern\":{\"fillmode\":\"overlay\",\"size\":10,\"solidity\":0.2},\"type\":\"scatter\"}],\"parcoords\":[{\"type\":\"parcoords\",\"line\":{\"colorbar\":{\"outlinewidth\":0,\"ticks\":\"\"}}}],\"scatterpolargl\":[{\"type\":\"scatterpolargl\",\"marker\":{\"colorbar\":{\"outlinewidth\":0,\"ticks\":\"\"}}}],\"bar\":[{\"error_x\":{\"color\":\"#2a3f5f\"},\"error_y\":{\"color\":\"#2a3f5f\"},\"marker\":{\"line\":{\"color\":\"#E5ECF6\",\"width\":0.5},\"pattern\":{\"fillmode\":\"overlay\",\"size\":10,\"solidity\":0.2}},\"type\":\"bar\"}],\"scattergeo\":[{\"type\":\"scattergeo\",\"marker\":{\"colorbar\":{\"outlinewidth\":0,\"ticks\":\"\"}}}],\"scatterpolar\":[{\"type\":\"scatterpolar\",\"marker\":{\"colorbar\":{\"outlinewidth\":0,\"ticks\":\"\"}}}],\"histogram\":[{\"marker\":{\"pattern\":{\"fillmode\":\"overlay\",\"size\":10,\"solidity\":0.2}},\"type\":\"histogram\"}],\"scattergl\":[{\"type\":\"scattergl\",\"marker\":{\"colorbar\":{\"outlinewidth\":0,\"ticks\":\"\"}}}],\"scatter3d\":[{\"type\":\"scatter3d\",\"line\":{\"colorbar\":{\"outlinewidth\":0,\"ticks\":\"\"}},\"marker\":{\"colorbar\":{\"outlinewidth\":0,\"ticks\":\"\"}}}],\"scattermapbox\":[{\"type\":\"scattermapbox\",\"marker\":{\"colorbar\":{\"outlinewidth\":0,\"ticks\":\"\"}}}],\"scatterternary\":[{\"type\":\"scatterternary\",\"marker\":{\"colorbar\":{\"outlinewidth\":0,\"ticks\":\"\"}}}],\"scattercarpet\":[{\"type\":\"scattercarpet\",\"marker\":{\"colorbar\":{\"outlinewidth\":0,\"ticks\":\"\"}}}],\"carpet\":[{\"aaxis\":{\"endlinecolor\":\"#2a3f5f\",\"gridcolor\":\"white\",\"linecolor\":\"white\",\"minorgridcolor\":\"white\",\"startlinecolor\":\"#2a3f5f\"},\"baxis\":{\"endlinecolor\":\"#2a3f5f\",\"gridcolor\":\"white\",\"linecolor\":\"white\",\"minorgridcolor\":\"white\",\"startlinecolor\":\"#2a3f5f\"},\"type\":\"carpet\"}],\"table\":[{\"cells\":{\"fill\":{\"color\":\"#EBF0F8\"},\"line\":{\"color\":\"white\"}},\"header\":{\"fill\":{\"color\":\"#C8D4E3\"},\"line\":{\"color\":\"white\"}},\"type\":\"table\"}],\"barpolar\":[{\"marker\":{\"line\":{\"color\":\"#E5ECF6\",\"width\":0.5},\"pattern\":{\"fillmode\":\"overlay\",\"size\":10,\"solidity\":0.2}},\"type\":\"barpolar\"}],\"pie\":[{\"automargin\":true,\"type\":\"pie\"}]},\"layout\":{\"autotypenumbers\":\"strict\",\"colorway\":[\"#636efa\",\"#EF553B\",\"#00cc96\",\"#ab63fa\",\"#FFA15A\",\"#19d3f3\",\"#FF6692\",\"#B6E880\",\"#FF97FF\",\"#FECB52\"],\"font\":{\"color\":\"#2a3f5f\"},\"hovermode\":\"closest\",\"hoverlabel\":{\"align\":\"left\"},\"paper_bgcolor\":\"white\",\"plot_bgcolor\":\"#E5ECF6\",\"polar\":{\"bgcolor\":\"#E5ECF6\",\"angularaxis\":{\"gridcolor\":\"white\",\"linecolor\":\"white\",\"ticks\":\"\"},\"radialaxis\":{\"gridcolor\":\"white\",\"linecolor\":\"white\",\"ticks\":\"\"}},\"ternary\":{\"bgcolor\":\"#E5ECF6\",\"aaxis\":{\"gridcolor\":\"white\",\"linecolor\":\"white\",\"ticks\":\"\"},\"baxis\":{\"gridcolor\":\"white\",\"linecolor\":\"white\",\"ticks\":\"\"},\"caxis\":{\"gridcolor\":\"white\",\"linecolor\":\"white\",\"ticks\":\"\"}},\"coloraxis\":{\"colorbar\":{\"outlinewidth\":0,\"ticks\":\"\"}},\"colorscale\":{\"sequential\":[[0.0,\"#0d0887\"],[0.1111111111111111,\"#46039f\"],[0.2222222222222222,\"#7201a8\"],[0.3333333333333333,\"#9c179e\"],[0.4444444444444444,\"#bd3786\"],[0.5555555555555556,\"#d8576b\"],[0.6666666666666666,\"#ed7953\"],[0.7777777777777778,\"#fb9f3a\"],[0.8888888888888888,\"#fdca26\"],[1.0,\"#f0f921\"]],\"sequentialminus\":[[0.0,\"#0d0887\"],[0.1111111111111111,\"#46039f\"],[0.2222222222222222,\"#7201a8\"],[0.3333333333333333,\"#9c179e\"],[0.4444444444444444,\"#bd3786\"],[0.5555555555555556,\"#d8576b\"],[0.6666666666666666,\"#ed7953\"],[0.7777777777777778,\"#fb9f3a\"],[0.8888888888888888,\"#fdca26\"],[1.0,\"#f0f921\"]],\"diverging\":[[0,\"#8e0152\"],[0.1,\"#c51b7d\"],[0.2,\"#de77ae\"],[0.3,\"#f1b6da\"],[0.4,\"#fde0ef\"],[0.5,\"#f7f7f7\"],[0.6,\"#e6f5d0\"],[0.7,\"#b8e186\"],[0.8,\"#7fbc41\"],[0.9,\"#4d9221\"],[1,\"#276419\"]]},\"xaxis\":{\"gridcolor\":\"white\",\"linecolor\":\"white\",\"ticks\":\"\",\"title\":{\"standoff\":15},\"zerolinecolor\":\"white\",\"automargin\":true,\"zerolinewidth\":2},\"yaxis\":{\"gridcolor\":\"white\",\"linecolor\":\"white\",\"ticks\":\"\",\"title\":{\"standoff\":15},\"zerolinecolor\":\"white\",\"automargin\":true,\"zerolinewidth\":2},\"scene\":{\"xaxis\":{\"backgroundcolor\":\"#E5ECF6\",\"gridcolor\":\"white\",\"linecolor\":\"white\",\"showbackground\":true,\"ticks\":\"\",\"zerolinecolor\":\"white\",\"gridwidth\":2},\"yaxis\":{\"backgroundcolor\":\"#E5ECF6\",\"gridcolor\":\"white\",\"linecolor\":\"white\",\"showbackground\":true,\"ticks\":\"\",\"zerolinecolor\":\"white\",\"gridwidth\":2},\"zaxis\":{\"backgroundcolor\":\"#E5ECF6\",\"gridcolor\":\"white\",\"linecolor\":\"white\",\"showbackground\":true,\"ticks\":\"\",\"zerolinecolor\":\"white\",\"gridwidth\":2}},\"shapedefaults\":{\"line\":{\"color\":\"#2a3f5f\"}},\"annotationdefaults\":{\"arrowcolor\":\"#2a3f5f\",\"arrowhead\":0,\"arrowwidth\":1},\"geo\":{\"bgcolor\":\"white\",\"landcolor\":\"#E5ECF6\",\"subunitcolor\":\"white\",\"showland\":true,\"showlakes\":true,\"lakecolor\":\"white\"},\"title\":{\"x\":0.05},\"mapbox\":{\"style\":\"light\"}}},\"xaxis\":{\"anchor\":\"y\",\"domain\":[0.0,1.0],\"title\":{\"text\":\"displ\"}},\"yaxis\":{\"anchor\":\"x\",\"domain\":[0.0,1.0],\"title\":{\"text\":\"cty\"}},\"legend\":{\"title\":{\"text\":\"drv\"},\"tracegroupgap\":0},\"margin\":{\"t\":60}},                        {\"responsive\": true}                    ).then(function(){\n",
       "                            \n",
       "var gd = document.getElementById('8aafbd86-7aed-4066-a211-b7886dde4873');\n",
       "var x = new MutationObserver(function (mutations, observer) {{\n",
       "        var display = window.getComputedStyle(gd).display;\n",
       "        if (!display || display === 'none') {{\n",
       "            console.log([gd, 'removed!']);\n",
       "            Plotly.purge(gd);\n",
       "            observer.disconnect();\n",
       "        }}\n",
       "}});\n",
       "\n",
       "// Listen for the removal of the full notebook cells\n",
       "var notebookContainer = gd.closest('#notebook-container');\n",
       "if (notebookContainer) {{\n",
       "    x.observe(notebookContainer, {childList: true});\n",
       "}}\n",
       "\n",
       "// Listen for the clearing of the current output cell\n",
       "var outputEl = gd.closest('.output');\n",
       "if (outputEl) {{\n",
       "    x.observe(outputEl, {childList: true});\n",
       "}}\n",
       "\n",
       "                        })                };                });            </script>        </div>"
      ]
     },
     "metadata": {},
     "output_type": "display_data"
    }
   ],
   "source": [
    "px.scatter(data_frame=mpg, x='displ', y='cty', color='drv')"
   ]
  },
  {
   "cell_type": "code",
   "execution_count": 65,
   "id": "f1f49cb5-de8c-4dd8-838c-249ba82e86cc",
   "metadata": {
    "tags": []
   },
   "outputs": [
    {
     "data": {
      "application/vnd.plotly.v1+json": {
       "config": {
        "plotlyServerURL": "https://plot.ly"
       },
       "data": [
        {
         "alignmentgroup": "True",
         "hovertemplate": "drv=f<br>class=%{x}<br>cyl=%{y}<extra></extra>",
         "legendgroup": "f",
         "marker": {
          "color": "#636efa",
          "pattern": {
           "shape": ""
          }
         },
         "name": "f",
         "offsetgroup": "f",
         "orientation": "v",
         "showlegend": true,
         "textposition": "auto",
         "type": "bar",
         "x": [
          "compact",
          "compact",
          "compact",
          "compact",
          "compact",
          "compact",
          "compact",
          "midsize",
          "midsize",
          "midsize",
          "midsize",
          "midsize",
          "minivan",
          "minivan",
          "minivan",
          "minivan",
          "minivan",
          "minivan",
          "minivan",
          "minivan",
          "minivan",
          "minivan",
          "minivan",
          "subcompact",
          "subcompact",
          "subcompact",
          "subcompact",
          "subcompact",
          "subcompact",
          "subcompact",
          "subcompact",
          "subcompact",
          "midsize",
          "midsize",
          "midsize",
          "midsize",
          "midsize",
          "midsize",
          "midsize",
          "subcompact",
          "subcompact",
          "subcompact",
          "subcompact",
          "subcompact",
          "subcompact",
          "subcompact",
          "compact",
          "compact",
          "midsize",
          "midsize",
          "midsize",
          "midsize",
          "midsize",
          "midsize",
          "midsize",
          "midsize",
          "midsize",
          "midsize",
          "midsize",
          "midsize",
          "midsize",
          "midsize",
          "midsize",
          "midsize",
          "midsize",
          "midsize",
          "midsize",
          "compact",
          "compact",
          "compact",
          "compact",
          "compact",
          "compact",
          "compact",
          "compact",
          "compact",
          "compact",
          "compact",
          "compact",
          "compact",
          "compact",
          "compact",
          "compact",
          "compact",
          "compact",
          "compact",
          "compact",
          "compact",
          "compact",
          "compact",
          "compact",
          "compact",
          "compact",
          "subcompact",
          "subcompact",
          "subcompact",
          "subcompact",
          "subcompact",
          "subcompact",
          "midsize",
          "midsize",
          "midsize",
          "midsize",
          "midsize",
          "midsize",
          "midsize"
         ],
         "xaxis": "x",
         "y": [
          4,
          4,
          4,
          4,
          6,
          6,
          6,
          4,
          4,
          6,
          6,
          6,
          4,
          6,
          6,
          6,
          6,
          6,
          6,
          6,
          6,
          6,
          6,
          4,
          4,
          4,
          4,
          4,
          4,
          4,
          4,
          4,
          4,
          4,
          4,
          4,
          6,
          6,
          6,
          4,
          4,
          4,
          4,
          6,
          6,
          6,
          4,
          4,
          4,
          4,
          6,
          6,
          6,
          6,
          6,
          6,
          6,
          6,
          6,
          8,
          4,
          4,
          4,
          4,
          6,
          6,
          6,
          4,
          4,
          4,
          4,
          6,
          6,
          6,
          4,
          4,
          4,
          4,
          4,
          4,
          4,
          4,
          4,
          6,
          4,
          4,
          4,
          4,
          4,
          5,
          5,
          6,
          6,
          4,
          4,
          4,
          4,
          5,
          5,
          4,
          4,
          4,
          4,
          6,
          6,
          6
         ],
         "yaxis": "y"
        },
        {
         "alignmentgroup": "True",
         "hovertemplate": "drv=4<br>class=%{x}<br>cyl=%{y}<extra></extra>",
         "legendgroup": "4",
         "marker": {
          "color": "#EF553B",
          "pattern": {
           "shape": ""
          }
         },
         "name": "4",
         "offsetgroup": "4",
         "orientation": "v",
         "showlegend": true,
         "textposition": "auto",
         "type": "bar",
         "x": [
          "compact",
          "compact",
          "compact",
          "compact",
          "compact",
          "compact",
          "compact",
          "compact",
          "midsize",
          "midsize",
          "midsize",
          "suv",
          "suv",
          "suv",
          "suv",
          "pickup",
          "pickup",
          "pickup",
          "pickup",
          "pickup",
          "pickup",
          "pickup",
          "pickup",
          "pickup",
          "suv",
          "suv",
          "suv",
          "suv",
          "suv",
          "suv",
          "suv",
          "pickup",
          "pickup",
          "pickup",
          "pickup",
          "pickup",
          "pickup",
          "pickup",
          "pickup",
          "pickup",
          "pickup",
          "suv",
          "suv",
          "suv",
          "suv",
          "suv",
          "suv",
          "pickup",
          "pickup",
          "pickup",
          "pickup",
          "pickup",
          "pickup",
          "pickup",
          "suv",
          "suv",
          "suv",
          "suv",
          "suv",
          "suv",
          "suv",
          "suv",
          "suv",
          "suv",
          "suv",
          "suv",
          "suv",
          "suv",
          "suv",
          "suv",
          "suv",
          "suv",
          "suv",
          "suv",
          "suv",
          "suv",
          "suv",
          "suv",
          "suv",
          "suv",
          "subcompact",
          "subcompact",
          "subcompact",
          "subcompact",
          "compact",
          "compact",
          "compact",
          "compact",
          "suv",
          "suv",
          "suv",
          "suv",
          "suv",
          "suv",
          "suv",
          "suv",
          "pickup",
          "pickup",
          "pickup",
          "pickup",
          "pickup",
          "pickup",
          "pickup"
         ],
         "xaxis": "x",
         "y": [
          4,
          4,
          4,
          4,
          6,
          6,
          6,
          6,
          6,
          6,
          8,
          8,
          8,
          8,
          8,
          6,
          6,
          6,
          6,
          8,
          8,
          8,
          8,
          8,
          6,
          8,
          8,
          8,
          8,
          8,
          8,
          8,
          8,
          8,
          8,
          8,
          8,
          8,
          8,
          8,
          8,
          6,
          6,
          6,
          6,
          8,
          8,
          6,
          6,
          8,
          8,
          8,
          8,
          8,
          6,
          6,
          6,
          8,
          8,
          8,
          8,
          8,
          8,
          8,
          8,
          8,
          6,
          6,
          8,
          8,
          6,
          6,
          6,
          8,
          4,
          4,
          4,
          4,
          4,
          4,
          4,
          4,
          4,
          4,
          4,
          4,
          4,
          4,
          4,
          4,
          6,
          6,
          6,
          8,
          8,
          8,
          4,
          4,
          4,
          6,
          6,
          6,
          6
         ],
         "yaxis": "y"
        },
        {
         "alignmentgroup": "True",
         "hovertemplate": "drv=r<br>class=%{x}<br>cyl=%{y}<extra></extra>",
         "legendgroup": "r",
         "marker": {
          "color": "#00cc96",
          "pattern": {
           "shape": ""
          }
         },
         "name": "r",
         "offsetgroup": "r",
         "orientation": "v",
         "showlegend": true,
         "textposition": "auto",
         "type": "bar",
         "x": [
          "suv",
          "suv",
          "suv",
          "suv",
          "suv",
          "2seater",
          "2seater",
          "2seater",
          "2seater",
          "2seater",
          "suv",
          "suv",
          "suv",
          "subcompact",
          "subcompact",
          "subcompact",
          "subcompact",
          "subcompact",
          "subcompact",
          "subcompact",
          "subcompact",
          "subcompact",
          "suv",
          "suv",
          "suv"
         ],
         "xaxis": "x",
         "y": [
          8,
          8,
          8,
          8,
          8,
          8,
          8,
          8,
          8,
          8,
          8,
          8,
          8,
          6,
          6,
          6,
          6,
          8,
          8,
          8,
          8,
          8,
          8,
          8,
          8
         ],
         "yaxis": "y"
        }
       ],
       "layout": {
        "autosize": true,
        "barmode": "relative",
        "legend": {
         "title": {
          "text": "drv"
         },
         "tracegroupgap": 0
        },
        "margin": {
         "t": 60
        },
        "template": {
         "data": {
          "bar": [
           {
            "error_x": {
             "color": "#2a3f5f"
            },
            "error_y": {
             "color": "#2a3f5f"
            },
            "marker": {
             "line": {
              "color": "#E5ECF6",
              "width": 0.5
             },
             "pattern": {
              "fillmode": "overlay",
              "size": 10,
              "solidity": 0.2
             }
            },
            "type": "bar"
           }
          ],
          "barpolar": [
           {
            "marker": {
             "line": {
              "color": "#E5ECF6",
              "width": 0.5
             },
             "pattern": {
              "fillmode": "overlay",
              "size": 10,
              "solidity": 0.2
             }
            },
            "type": "barpolar"
           }
          ],
          "carpet": [
           {
            "aaxis": {
             "endlinecolor": "#2a3f5f",
             "gridcolor": "white",
             "linecolor": "white",
             "minorgridcolor": "white",
             "startlinecolor": "#2a3f5f"
            },
            "baxis": {
             "endlinecolor": "#2a3f5f",
             "gridcolor": "white",
             "linecolor": "white",
             "minorgridcolor": "white",
             "startlinecolor": "#2a3f5f"
            },
            "type": "carpet"
           }
          ],
          "choropleth": [
           {
            "colorbar": {
             "outlinewidth": 0,
             "ticks": ""
            },
            "type": "choropleth"
           }
          ],
          "contour": [
           {
            "colorbar": {
             "outlinewidth": 0,
             "ticks": ""
            },
            "colorscale": [
             [
              0,
              "#0d0887"
             ],
             [
              0.1111111111111111,
              "#46039f"
             ],
             [
              0.2222222222222222,
              "#7201a8"
             ],
             [
              0.3333333333333333,
              "#9c179e"
             ],
             [
              0.4444444444444444,
              "#bd3786"
             ],
             [
              0.5555555555555556,
              "#d8576b"
             ],
             [
              0.6666666666666666,
              "#ed7953"
             ],
             [
              0.7777777777777778,
              "#fb9f3a"
             ],
             [
              0.8888888888888888,
              "#fdca26"
             ],
             [
              1,
              "#f0f921"
             ]
            ],
            "type": "contour"
           }
          ],
          "contourcarpet": [
           {
            "colorbar": {
             "outlinewidth": 0,
             "ticks": ""
            },
            "type": "contourcarpet"
           }
          ],
          "heatmap": [
           {
            "colorbar": {
             "outlinewidth": 0,
             "ticks": ""
            },
            "colorscale": [
             [
              0,
              "#0d0887"
             ],
             [
              0.1111111111111111,
              "#46039f"
             ],
             [
              0.2222222222222222,
              "#7201a8"
             ],
             [
              0.3333333333333333,
              "#9c179e"
             ],
             [
              0.4444444444444444,
              "#bd3786"
             ],
             [
              0.5555555555555556,
              "#d8576b"
             ],
             [
              0.6666666666666666,
              "#ed7953"
             ],
             [
              0.7777777777777778,
              "#fb9f3a"
             ],
             [
              0.8888888888888888,
              "#fdca26"
             ],
             [
              1,
              "#f0f921"
             ]
            ],
            "type": "heatmap"
           }
          ],
          "heatmapgl": [
           {
            "colorbar": {
             "outlinewidth": 0,
             "ticks": ""
            },
            "colorscale": [
             [
              0,
              "#0d0887"
             ],
             [
              0.1111111111111111,
              "#46039f"
             ],
             [
              0.2222222222222222,
              "#7201a8"
             ],
             [
              0.3333333333333333,
              "#9c179e"
             ],
             [
              0.4444444444444444,
              "#bd3786"
             ],
             [
              0.5555555555555556,
              "#d8576b"
             ],
             [
              0.6666666666666666,
              "#ed7953"
             ],
             [
              0.7777777777777778,
              "#fb9f3a"
             ],
             [
              0.8888888888888888,
              "#fdca26"
             ],
             [
              1,
              "#f0f921"
             ]
            ],
            "type": "heatmapgl"
           }
          ],
          "histogram": [
           {
            "marker": {
             "pattern": {
              "fillmode": "overlay",
              "size": 10,
              "solidity": 0.2
             }
            },
            "type": "histogram"
           }
          ],
          "histogram2d": [
           {
            "colorbar": {
             "outlinewidth": 0,
             "ticks": ""
            },
            "colorscale": [
             [
              0,
              "#0d0887"
             ],
             [
              0.1111111111111111,
              "#46039f"
             ],
             [
              0.2222222222222222,
              "#7201a8"
             ],
             [
              0.3333333333333333,
              "#9c179e"
             ],
             [
              0.4444444444444444,
              "#bd3786"
             ],
             [
              0.5555555555555556,
              "#d8576b"
             ],
             [
              0.6666666666666666,
              "#ed7953"
             ],
             [
              0.7777777777777778,
              "#fb9f3a"
             ],
             [
              0.8888888888888888,
              "#fdca26"
             ],
             [
              1,
              "#f0f921"
             ]
            ],
            "type": "histogram2d"
           }
          ],
          "histogram2dcontour": [
           {
            "colorbar": {
             "outlinewidth": 0,
             "ticks": ""
            },
            "colorscale": [
             [
              0,
              "#0d0887"
             ],
             [
              0.1111111111111111,
              "#46039f"
             ],
             [
              0.2222222222222222,
              "#7201a8"
             ],
             [
              0.3333333333333333,
              "#9c179e"
             ],
             [
              0.4444444444444444,
              "#bd3786"
             ],
             [
              0.5555555555555556,
              "#d8576b"
             ],
             [
              0.6666666666666666,
              "#ed7953"
             ],
             [
              0.7777777777777778,
              "#fb9f3a"
             ],
             [
              0.8888888888888888,
              "#fdca26"
             ],
             [
              1,
              "#f0f921"
             ]
            ],
            "type": "histogram2dcontour"
           }
          ],
          "mesh3d": [
           {
            "colorbar": {
             "outlinewidth": 0,
             "ticks": ""
            },
            "type": "mesh3d"
           }
          ],
          "parcoords": [
           {
            "line": {
             "colorbar": {
              "outlinewidth": 0,
              "ticks": ""
             }
            },
            "type": "parcoords"
           }
          ],
          "pie": [
           {
            "automargin": true,
            "type": "pie"
           }
          ],
          "scatter": [
           {
            "fillpattern": {
             "fillmode": "overlay",
             "size": 10,
             "solidity": 0.2
            },
            "type": "scatter"
           }
          ],
          "scatter3d": [
           {
            "line": {
             "colorbar": {
              "outlinewidth": 0,
              "ticks": ""
             }
            },
            "marker": {
             "colorbar": {
              "outlinewidth": 0,
              "ticks": ""
             }
            },
            "type": "scatter3d"
           }
          ],
          "scattercarpet": [
           {
            "marker": {
             "colorbar": {
              "outlinewidth": 0,
              "ticks": ""
             }
            },
            "type": "scattercarpet"
           }
          ],
          "scattergeo": [
           {
            "marker": {
             "colorbar": {
              "outlinewidth": 0,
              "ticks": ""
             }
            },
            "type": "scattergeo"
           }
          ],
          "scattergl": [
           {
            "marker": {
             "colorbar": {
              "outlinewidth": 0,
              "ticks": ""
             }
            },
            "type": "scattergl"
           }
          ],
          "scattermapbox": [
           {
            "marker": {
             "colorbar": {
              "outlinewidth": 0,
              "ticks": ""
             }
            },
            "type": "scattermapbox"
           }
          ],
          "scatterpolar": [
           {
            "marker": {
             "colorbar": {
              "outlinewidth": 0,
              "ticks": ""
             }
            },
            "type": "scatterpolar"
           }
          ],
          "scatterpolargl": [
           {
            "marker": {
             "colorbar": {
              "outlinewidth": 0,
              "ticks": ""
             }
            },
            "type": "scatterpolargl"
           }
          ],
          "scatterternary": [
           {
            "marker": {
             "colorbar": {
              "outlinewidth": 0,
              "ticks": ""
             }
            },
            "type": "scatterternary"
           }
          ],
          "surface": [
           {
            "colorbar": {
             "outlinewidth": 0,
             "ticks": ""
            },
            "colorscale": [
             [
              0,
              "#0d0887"
             ],
             [
              0.1111111111111111,
              "#46039f"
             ],
             [
              0.2222222222222222,
              "#7201a8"
             ],
             [
              0.3333333333333333,
              "#9c179e"
             ],
             [
              0.4444444444444444,
              "#bd3786"
             ],
             [
              0.5555555555555556,
              "#d8576b"
             ],
             [
              0.6666666666666666,
              "#ed7953"
             ],
             [
              0.7777777777777778,
              "#fb9f3a"
             ],
             [
              0.8888888888888888,
              "#fdca26"
             ],
             [
              1,
              "#f0f921"
             ]
            ],
            "type": "surface"
           }
          ],
          "table": [
           {
            "cells": {
             "fill": {
              "color": "#EBF0F8"
             },
             "line": {
              "color": "white"
             }
            },
            "header": {
             "fill": {
              "color": "#C8D4E3"
             },
             "line": {
              "color": "white"
             }
            },
            "type": "table"
           }
          ]
         },
         "layout": {
          "annotationdefaults": {
           "arrowcolor": "#2a3f5f",
           "arrowhead": 0,
           "arrowwidth": 1
          },
          "autotypenumbers": "strict",
          "coloraxis": {
           "colorbar": {
            "outlinewidth": 0,
            "ticks": ""
           }
          },
          "colorscale": {
           "diverging": [
            [
             0,
             "#8e0152"
            ],
            [
             0.1,
             "#c51b7d"
            ],
            [
             0.2,
             "#de77ae"
            ],
            [
             0.3,
             "#f1b6da"
            ],
            [
             0.4,
             "#fde0ef"
            ],
            [
             0.5,
             "#f7f7f7"
            ],
            [
             0.6,
             "#e6f5d0"
            ],
            [
             0.7,
             "#b8e186"
            ],
            [
             0.8,
             "#7fbc41"
            ],
            [
             0.9,
             "#4d9221"
            ],
            [
             1,
             "#276419"
            ]
           ],
           "sequential": [
            [
             0,
             "#0d0887"
            ],
            [
             0.1111111111111111,
             "#46039f"
            ],
            [
             0.2222222222222222,
             "#7201a8"
            ],
            [
             0.3333333333333333,
             "#9c179e"
            ],
            [
             0.4444444444444444,
             "#bd3786"
            ],
            [
             0.5555555555555556,
             "#d8576b"
            ],
            [
             0.6666666666666666,
             "#ed7953"
            ],
            [
             0.7777777777777778,
             "#fb9f3a"
            ],
            [
             0.8888888888888888,
             "#fdca26"
            ],
            [
             1,
             "#f0f921"
            ]
           ],
           "sequentialminus": [
            [
             0,
             "#0d0887"
            ],
            [
             0.1111111111111111,
             "#46039f"
            ],
            [
             0.2222222222222222,
             "#7201a8"
            ],
            [
             0.3333333333333333,
             "#9c179e"
            ],
            [
             0.4444444444444444,
             "#bd3786"
            ],
            [
             0.5555555555555556,
             "#d8576b"
            ],
            [
             0.6666666666666666,
             "#ed7953"
            ],
            [
             0.7777777777777778,
             "#fb9f3a"
            ],
            [
             0.8888888888888888,
             "#fdca26"
            ],
            [
             1,
             "#f0f921"
            ]
           ]
          },
          "colorway": [
           "#636efa",
           "#EF553B",
           "#00cc96",
           "#ab63fa",
           "#FFA15A",
           "#19d3f3",
           "#FF6692",
           "#B6E880",
           "#FF97FF",
           "#FECB52"
          ],
          "font": {
           "color": "#2a3f5f"
          },
          "geo": {
           "bgcolor": "white",
           "lakecolor": "white",
           "landcolor": "#E5ECF6",
           "showlakes": true,
           "showland": true,
           "subunitcolor": "white"
          },
          "hoverlabel": {
           "align": "left"
          },
          "hovermode": "closest",
          "mapbox": {
           "style": "light"
          },
          "paper_bgcolor": "white",
          "plot_bgcolor": "#E5ECF6",
          "polar": {
           "angularaxis": {
            "gridcolor": "white",
            "linecolor": "white",
            "ticks": ""
           },
           "bgcolor": "#E5ECF6",
           "radialaxis": {
            "gridcolor": "white",
            "linecolor": "white",
            "ticks": ""
           }
          },
          "scene": {
           "xaxis": {
            "backgroundcolor": "#E5ECF6",
            "gridcolor": "white",
            "gridwidth": 2,
            "linecolor": "white",
            "showbackground": true,
            "ticks": "",
            "zerolinecolor": "white"
           },
           "yaxis": {
            "backgroundcolor": "#E5ECF6",
            "gridcolor": "white",
            "gridwidth": 2,
            "linecolor": "white",
            "showbackground": true,
            "ticks": "",
            "zerolinecolor": "white"
           },
           "zaxis": {
            "backgroundcolor": "#E5ECF6",
            "gridcolor": "white",
            "gridwidth": 2,
            "linecolor": "white",
            "showbackground": true,
            "ticks": "",
            "zerolinecolor": "white"
           }
          },
          "shapedefaults": {
           "line": {
            "color": "#2a3f5f"
           }
          },
          "ternary": {
           "aaxis": {
            "gridcolor": "white",
            "linecolor": "white",
            "ticks": ""
           },
           "baxis": {
            "gridcolor": "white",
            "linecolor": "white",
            "ticks": ""
           },
           "bgcolor": "#E5ECF6",
           "caxis": {
            "gridcolor": "white",
            "linecolor": "white",
            "ticks": ""
           }
          },
          "title": {
           "x": 0.05
          },
          "xaxis": {
           "automargin": true,
           "gridcolor": "white",
           "linecolor": "white",
           "ticks": "",
           "title": {
            "standoff": 15
           },
           "zerolinecolor": "white",
           "zerolinewidth": 2
          },
          "yaxis": {
           "automargin": true,
           "gridcolor": "white",
           "linecolor": "white",
           "ticks": "",
           "title": {
            "standoff": 15
           },
           "zerolinecolor": "white",
           "zerolinewidth": 2
          }
         }
        },
        "xaxis": {
         "anchor": "y",
         "autorange": true,
         "domain": [
          0,
          1
         ],
         "range": [
          -0.5,
          6.5
         ],
         "title": {
          "text": "class"
         },
         "type": "category"
        },
        "yaxis": {
         "anchor": "x",
         "autorange": true,
         "domain": [
          0,
          1
         ],
         "range": [
          0,
          454.7368421052632
         ],
         "title": {
          "text": "cyl"
         },
         "type": "linear"
        }
       }
      },
      "image/png": "[encoded data removed]",
      "text/html": [
       "<div>                            <div id=\"ccb1cb1f-13e7-410f-8b38-33efd81ddd2b\" class=\"plotly-graph-div\" style=\"height:525px; width:100%;\"></div>            <script type=\"text/javascript\">                require([\"plotly\"], function(Plotly) {                    window.PLOTLYENV=window.PLOTLYENV || {};                                    if (document.getElementById(\"ccb1cb1f-13e7-410f-8b38-33efd81ddd2b\")) {                    Plotly.newPlot(                        \"ccb1cb1f-13e7-410f-8b38-33efd81ddd2b\",                        [{\"alignmentgroup\":\"True\",\"hovertemplate\":\"drv=f<br>class=%{x}<br>cyl=%{y}<extra></extra>\",\"legendgroup\":\"f\",\"marker\":{\"color\":\"#636efa\",\"pattern\":{\"shape\":\"\"}},\"name\":\"f\",\"offsetgroup\":\"f\",\"orientation\":\"v\",\"showlegend\":true,\"textposition\":\"auto\",\"x\":[\"compact\",\"compact\",\"compact\",\"compact\",\"compact\",\"compact\",\"compact\",\"midsize\",\"midsize\",\"midsize\",\"midsize\",\"midsize\",\"minivan\",\"minivan\",\"minivan\",\"minivan\",\"minivan\",\"minivan\",\"minivan\",\"minivan\",\"minivan\",\"minivan\",\"minivan\",\"subcompact\",\"subcompact\",\"subcompact\",\"subcompact\",\"subcompact\",\"subcompact\",\"subcompact\",\"subcompact\",\"subcompact\",\"midsize\",\"midsize\",\"midsize\",\"midsize\",\"midsize\",\"midsize\",\"midsize\",\"subcompact\",\"subcompact\",\"subcompact\",\"subcompact\",\"subcompact\",\"subcompact\",\"subcompact\",\"compact\",\"compact\",\"midsize\",\"midsize\",\"midsize\",\"midsize\",\"midsize\",\"midsize\",\"midsize\",\"midsize\",\"midsize\",\"midsize\",\"midsize\",\"midsize\",\"midsize\",\"midsize\",\"midsize\",\"midsize\",\"midsize\",\"midsize\",\"midsize\",\"compact\",\"compact\",\"compact\",\"compact\",\"compact\",\"compact\",\"compact\",\"compact\",\"compact\",\"compact\",\"compact\",\"compact\",\"compact\",\"compact\",\"compact\",\"compact\",\"compact\",\"compact\",\"compact\",\"compact\",\"compact\",\"compact\",\"compact\",\"compact\",\"compact\",\"compact\",\"subcompact\",\"subcompact\",\"subcompact\",\"subcompact\",\"subcompact\",\"subcompact\",\"midsize\",\"midsize\",\"midsize\",\"midsize\",\"midsize\",\"midsize\",\"midsize\"],\"xaxis\":\"x\",\"y\":[4,4,4,4,6,6,6,4,4,6,6,6,4,6,6,6,6,6,6,6,6,6,6,4,4,4,4,4,4,4,4,4,4,4,4,4,6,6,6,4,4,4,4,6,6,6,4,4,4,4,6,6,6,6,6,6,6,6,6,8,4,4,4,4,6,6,6,4,4,4,4,6,6,6,4,4,4,4,4,4,4,4,4,6,4,4,4,4,4,5,5,6,6,4,4,4,4,5,5,4,4,4,4,6,6,6],\"yaxis\":\"y\",\"type\":\"bar\"},{\"alignmentgroup\":\"True\",\"hovertemplate\":\"drv=4<br>class=%{x}<br>cyl=%{y}<extra></extra>\",\"legendgroup\":\"4\",\"marker\":{\"color\":\"#EF553B\",\"pattern\":{\"shape\":\"\"}},\"name\":\"4\",\"offsetgroup\":\"4\",\"orientation\":\"v\",\"showlegend\":true,\"textposition\":\"auto\",\"x\":[\"compact\",\"compact\",\"compact\",\"compact\",\"compact\",\"compact\",\"compact\",\"compact\",\"midsize\",\"midsize\",\"midsize\",\"suv\",\"suv\",\"suv\",\"suv\",\"pickup\",\"pickup\",\"pickup\",\"pickup\",\"pickup\",\"pickup\",\"pickup\",\"pickup\",\"pickup\",\"suv\",\"suv\",\"suv\",\"suv\",\"suv\",\"suv\",\"suv\",\"pickup\",\"pickup\",\"pickup\",\"pickup\",\"pickup\",\"pickup\",\"pickup\",\"pickup\",\"pickup\",\"pickup\",\"suv\",\"suv\",\"suv\",\"suv\",\"suv\",\"suv\",\"pickup\",\"pickup\",\"pickup\",\"pickup\",\"pickup\",\"pickup\",\"pickup\",\"suv\",\"suv\",\"suv\",\"suv\",\"suv\",\"suv\",\"suv\",\"suv\",\"suv\",\"suv\",\"suv\",\"suv\",\"suv\",\"suv\",\"suv\",\"suv\",\"suv\",\"suv\",\"suv\",\"suv\",\"suv\",\"suv\",\"suv\",\"suv\",\"suv\",\"suv\",\"subcompact\",\"subcompact\",\"subcompact\",\"subcompact\",\"compact\",\"compact\",\"compact\",\"compact\",\"suv\",\"suv\",\"suv\",\"suv\",\"suv\",\"suv\",\"suv\",\"suv\",\"pickup\",\"pickup\",\"pickup\",\"pickup\",\"pickup\",\"pickup\",\"pickup\"],\"xaxis\":\"x\",\"y\":[4,4,4,4,6,6,6,6,6,6,8,8,8,8,8,6,6,6,6,8,8,8,8,8,6,8,8,8,8,8,8,8,8,8,8,8,8,8,8,8,8,6,6,6,6,8,8,6,6,8,8,8,8,8,6,6,6,8,8,8,8,8,8,8,8,8,6,6,8,8,6,6,6,8,4,4,4,4,4,4,4,4,4,4,4,4,4,4,4,4,6,6,6,8,8,8,4,4,4,6,6,6,6],\"yaxis\":\"y\",\"type\":\"bar\"},{\"alignmentgroup\":\"True\",\"hovertemplate\":\"drv=r<br>class=%{x}<br>cyl=%{y}<extra></extra>\",\"legendgroup\":\"r\",\"marker\":{\"color\":\"#00cc96\",\"pattern\":{\"shape\":\"\"}},\"name\":\"r\",\"offsetgroup\":\"r\",\"orientation\":\"v\",\"showlegend\":true,\"textposition\":\"auto\",\"x\":[\"suv\",\"suv\",\"suv\",\"suv\",\"suv\",\"2seater\",\"2seater\",\"2seater\",\"2seater\",\"2seater\",\"suv\",\"suv\",\"suv\",\"subcompact\",\"subcompact\",\"subcompact\",\"subcompact\",\"subcompact\",\"subcompact\",\"subcompact\",\"subcompact\",\"subcompact\",\"suv\",\"suv\",\"suv\"],\"xaxis\":\"x\",\"y\":[8,8,8,8,8,8,8,8,8,8,8,8,8,6,6,6,6,8,8,8,8,8,8,8,8],\"yaxis\":\"y\",\"type\":\"bar\"}],                        {\"template\":{\"data\":{\"histogram2dcontour\":[{\"type\":\"histogram2dcontour\",\"colorbar\":{\"outlinewidth\":0,\"ticks\":\"\"},\"colorscale\":[[0.0,\"#0d0887\"],[0.1111111111111111,\"#46039f\"],[0.2222222222222222,\"#7201a8\"],[0.3333333333333333,\"#9c179e\"],[0.4444444444444444,\"#bd3786\"],[0.5555555555555556,\"#d8576b\"],[0.6666666666666666,\"#ed7953\"],[0.7777777777777778,\"#fb9f3a\"],[0.8888888888888888,\"#fdca26\"],[1.0,\"#f0f921\"]]}],\"choropleth\":[{\"type\":\"choropleth\",\"colorbar\":{\"outlinewidth\":0,\"ticks\":\"\"}}],\"histogram2d\":[{\"type\":\"histogram2d\",\"colorbar\":{\"outlinewidth\":0,\"ticks\":\"\"},\"colorscale\":[[0.0,\"#0d0887\"],[0.1111111111111111,\"#46039f\"],[0.2222222222222222,\"#7201a8\"],[0.3333333333333333,\"#9c179e\"],[0.4444444444444444,\"#bd3786\"],[0.5555555555555556,\"#d8576b\"],[0.6666666666666666,\"#ed7953\"],[0.7777777777777778,\"#fb9f3a\"],[0.8888888888888888,\"#fdca26\"],[1.0,\"#f0f921\"]]}],\"heatmap\":[{\"type\":\"heatmap\",\"colorbar\":{\"outlinewidth\":0,\"ticks\":\"\"},\"colorscale\":[[0.0,\"#0d0887\"],[0.1111111111111111,\"#46039f\"],[0.2222222222222222,\"#7201a8\"],[0.3333333333333333,\"#9c179e\"],[0.4444444444444444,\"#bd3786\"],[0.5555555555555556,\"#d8576b\"],[0.6666666666666666,\"#ed7953\"],[0.7777777777777778,\"#fb9f3a\"],[0.8888888888888888,\"#fdca26\"],[1.0,\"#f0f921\"]]}],\"heatmapgl\":[{\"type\":\"heatmapgl\",\"colorbar\":{\"outlinewidth\":0,\"ticks\":\"\"},\"colorscale\":[[0.0,\"#0d0887\"],[0.1111111111111111,\"#46039f\"],[0.2222222222222222,\"#7201a8\"],[0.3333333333333333,\"#9c179e\"],[0.4444444444444444,\"#bd3786\"],[0.5555555555555556,\"#d8576b\"],[0.6666666666666666,\"#ed7953\"],[0.7777777777777778,\"#fb9f3a\"],[0.8888888888888888,\"#fdca26\"],[1.0,\"#f0f921\"]]}],\"contourcarpet\":[{\"type\":\"contourcarpet\",\"colorbar\":{\"outlinewidth\":0,\"ticks\":\"\"}}],\"contour\":[{\"type\":\"contour\",\"colorbar\":{\"outlinewidth\":0,\"ticks\":\"\"},\"colorscale\":[[0.0,\"#0d0887\"],[0.1111111111111111,\"#46039f\"],[0.2222222222222222,\"#7201a8\"],[0.3333333333333333,\"#9c179e\"],[0.4444444444444444,\"#bd3786\"],[0.5555555555555556,\"#d8576b\"],[0.6666666666666666,\"#ed7953\"],[0.7777777777777778,\"#fb9f3a\"],[0.8888888888888888,\"#fdca26\"],[1.0,\"#f0f921\"]]}],\"surface\":[{\"type\":\"surface\",\"colorbar\":{\"outlinewidth\":0,\"ticks\":\"\"},\"colorscale\":[[0.0,\"#0d0887\"],[0.1111111111111111,\"#46039f\"],[0.2222222222222222,\"#7201a8\"],[0.3333333333333333,\"#9c179e\"],[0.4444444444444444,\"#bd3786\"],[0.5555555555555556,\"#d8576b\"],[0.6666666666666666,\"#ed7953\"],[0.7777777777777778,\"#fb9f3a\"],[0.8888888888888888,\"#fdca26\"],[1.0,\"#f0f921\"]]}],\"mesh3d\":[{\"type\":\"mesh3d\",\"colorbar\":{\"outlinewidth\":0,\"ticks\":\"\"}}],\"scatter\":[{\"fillpattern\":{\"fillmode\":\"overlay\",\"size\":10,\"solidity\":0.2},\"type\":\"scatter\"}],\"parcoords\":[{\"type\":\"parcoords\",\"line\":{\"colorbar\":{\"outlinewidth\":0,\"ticks\":\"\"}}}],\"scatterpolargl\":[{\"type\":\"scatterpolargl\",\"marker\":{\"colorbar\":{\"outlinewidth\":0,\"ticks\":\"\"}}}],\"bar\":[{\"error_x\":{\"color\":\"#2a3f5f\"},\"error_y\":{\"color\":\"#2a3f5f\"},\"marker\":{\"line\":{\"color\":\"#E5ECF6\",\"width\":0.5},\"pattern\":{\"fillmode\":\"overlay\",\"size\":10,\"solidity\":0.2}},\"type\":\"bar\"}],\"scattergeo\":[{\"type\":\"scattergeo\",\"marker\":{\"colorbar\":{\"outlinewidth\":0,\"ticks\":\"\"}}}],\"scatterpolar\":[{\"type\":\"scatterpolar\",\"marker\":{\"colorbar\":{\"outlinewidth\":0,\"ticks\":\"\"}}}],\"histogram\":[{\"marker\":{\"pattern\":{\"fillmode\":\"overlay\",\"size\":10,\"solidity\":0.2}},\"type\":\"histogram\"}],\"scattergl\":[{\"type\":\"scattergl\",\"marker\":{\"colorbar\":{\"outlinewidth\":0,\"ticks\":\"\"}}}],\"scatter3d\":[{\"type\":\"scatter3d\",\"line\":{\"colorbar\":{\"outlinewidth\":0,\"ticks\":\"\"}},\"marker\":{\"colorbar\":{\"outlinewidth\":0,\"ticks\":\"\"}}}],\"scattermapbox\":[{\"type\":\"scattermapbox\",\"marker\":{\"colorbar\":{\"outlinewidth\":0,\"ticks\":\"\"}}}],\"scatterternary\":[{\"type\":\"scatterternary\",\"marker\":{\"colorbar\":{\"outlinewidth\":0,\"ticks\":\"\"}}}],\"scattercarpet\":[{\"type\":\"scattercarpet\",\"marker\":{\"colorbar\":{\"outlinewidth\":0,\"ticks\":\"\"}}}],\"carpet\":[{\"aaxis\":{\"endlinecolor\":\"#2a3f5f\",\"gridcolor\":\"white\",\"linecolor\":\"white\",\"minorgridcolor\":\"white\",\"startlinecolor\":\"#2a3f5f\"},\"baxis\":{\"endlinecolor\":\"#2a3f5f\",\"gridcolor\":\"white\",\"linecolor\":\"white\",\"minorgridcolor\":\"white\",\"startlinecolor\":\"#2a3f5f\"},\"type\":\"carpet\"}],\"table\":[{\"cells\":{\"fill\":{\"color\":\"#EBF0F8\"},\"line\":{\"color\":\"white\"}},\"header\":{\"fill\":{\"color\":\"#C8D4E3\"},\"line\":{\"color\":\"white\"}},\"type\":\"table\"}],\"barpolar\":[{\"marker\":{\"line\":{\"color\":\"#E5ECF6\",\"width\":0.5},\"pattern\":{\"fillmode\":\"overlay\",\"size\":10,\"solidity\":0.2}},\"type\":\"barpolar\"}],\"pie\":[{\"automargin\":true,\"type\":\"pie\"}]},\"layout\":{\"autotypenumbers\":\"strict\",\"colorway\":[\"#636efa\",\"#EF553B\",\"#00cc96\",\"#ab63fa\",\"#FFA15A\",\"#19d3f3\",\"#FF6692\",\"#B6E880\",\"#FF97FF\",\"#FECB52\"],\"font\":{\"color\":\"#2a3f5f\"},\"hovermode\":\"closest\",\"hoverlabel\":{\"align\":\"left\"},\"paper_bgcolor\":\"white\",\"plot_bgcolor\":\"#E5ECF6\",\"polar\":{\"bgcolor\":\"#E5ECF6\",\"angularaxis\":{\"gridcolor\":\"white\",\"linecolor\":\"white\",\"ticks\":\"\"},\"radialaxis\":{\"gridcolor\":\"white\",\"linecolor\":\"white\",\"ticks\":\"\"}},\"ternary\":{\"bgcolor\":\"#E5ECF6\",\"aaxis\":{\"gridcolor\":\"white\",\"linecolor\":\"white\",\"ticks\":\"\"},\"baxis\":{\"gridcolor\":\"white\",\"linecolor\":\"white\",\"ticks\":\"\"},\"caxis\":{\"gridcolor\":\"white\",\"linecolor\":\"white\",\"ticks\":\"\"}},\"coloraxis\":{\"colorbar\":{\"outlinewidth\":0,\"ticks\":\"\"}},\"colorscale\":{\"sequential\":[[0.0,\"#0d0887\"],[0.1111111111111111,\"#46039f\"],[0.2222222222222222,\"#7201a8\"],[0.3333333333333333,\"#9c179e\"],[0.4444444444444444,\"#bd3786\"],[0.5555555555555556,\"#d8576b\"],[0.6666666666666666,\"#ed7953\"],[0.7777777777777778,\"#fb9f3a\"],[0.8888888888888888,\"#fdca26\"],[1.0,\"#f0f921\"]],\"sequentialminus\":[[0.0,\"#0d0887\"],[0.1111111111111111,\"#46039f\"],[0.2222222222222222,\"#7201a8\"],[0.3333333333333333,\"#9c179e\"],[0.4444444444444444,\"#bd3786\"],[0.5555555555555556,\"#d8576b\"],[0.6666666666666666,\"#ed7953\"],[0.7777777777777778,\"#fb9f3a\"],[0.8888888888888888,\"#fdca26\"],[1.0,\"#f0f921\"]],\"diverging\":[[0,\"#8e0152\"],[0.1,\"#c51b7d\"],[0.2,\"#de77ae\"],[0.3,\"#f1b6da\"],[0.4,\"#fde0ef\"],[0.5,\"#f7f7f7\"],[0.6,\"#e6f5d0\"],[0.7,\"#b8e186\"],[0.8,\"#7fbc41\"],[0.9,\"#4d9221\"],[1,\"#276419\"]]},\"xaxis\":{\"gridcolor\":\"white\",\"linecolor\":\"white\",\"ticks\":\"\",\"title\":{\"standoff\":15},\"zerolinecolor\":\"white\",\"automargin\":true,\"zerolinewidth\":2},\"yaxis\":{\"gridcolor\":\"white\",\"linecolor\":\"white\",\"ticks\":\"\",\"title\":{\"standoff\":15},\"zerolinecolor\":\"white\",\"automargin\":true,\"zerolinewidth\":2},\"scene\":{\"xaxis\":{\"backgroundcolor\":\"#E5ECF6\",\"gridcolor\":\"white\",\"linecolor\":\"white\",\"showbackground\":true,\"ticks\":\"\",\"zerolinecolor\":\"white\",\"gridwidth\":2},\"yaxis\":{\"backgroundcolor\":\"#E5ECF6\",\"gridcolor\":\"white\",\"linecolor\":\"white\",\"showbackground\":true,\"ticks\":\"\",\"zerolinecolor\":\"white\",\"gridwidth\":2},\"zaxis\":{\"backgroundcolor\":\"#E5ECF6\",\"gridcolor\":\"white\",\"linecolor\":\"white\",\"showbackground\":true,\"ticks\":\"\",\"zerolinecolor\":\"white\",\"gridwidth\":2}},\"shapedefaults\":{\"line\":{\"color\":\"#2a3f5f\"}},\"annotationdefaults\":{\"arrowcolor\":\"#2a3f5f\",\"arrowhead\":0,\"arrowwidth\":1},\"geo\":{\"bgcolor\":\"white\",\"landcolor\":\"#E5ECF6\",\"subunitcolor\":\"white\",\"showland\":true,\"showlakes\":true,\"lakecolor\":\"white\"},\"title\":{\"x\":0.05},\"mapbox\":{\"style\":\"light\"}}},\"xaxis\":{\"anchor\":\"y\",\"domain\":[0.0,1.0],\"title\":{\"text\":\"class\"}},\"yaxis\":{\"anchor\":\"x\",\"domain\":[0.0,1.0],\"title\":{\"text\":\"cyl\"}},\"legend\":{\"title\":{\"text\":\"drv\"},\"tracegroupgap\":0},\"margin\":{\"t\":60},\"barmode\":\"relative\"},                        {\"responsive\": true}                    ).then(function(){\n",
       "                            \n",
       "var gd = document.getElementById('ccb1cb1f-13e7-410f-8b38-33efd81ddd2b');\n",
       "var x = new MutationObserver(function (mutations, observer) {{\n",
       "        var display = window.getComputedStyle(gd).display;\n",
       "        if (!display || display === 'none') {{\n",
       "            console.log([gd, 'removed!']);\n",
       "            Plotly.purge(gd);\n",
       "            observer.disconnect();\n",
       "        }}\n",
       "}});\n",
       "\n",
       "// Listen for the removal of the full notebook cells\n",
       "var notebookContainer = gd.closest('#notebook-container');\n",
       "if (notebookContainer) {{\n",
       "    x.observe(notebookContainer, {childList: true});\n",
       "}}\n",
       "\n",
       "// Listen for the clearing of the current output cell\n",
       "var outputEl = gd.closest('.output');\n",
       "if (outputEl) {{\n",
       "    x.observe(outputEl, {childList: true});\n",
       "}}\n",
       "\n",
       "                        })                };                });            </script>        </div>"
      ]
     },
     "metadata": {},
     "output_type": "display_data"
    }
   ],
   "source": [
    "px.bar(data_frame=mpg, x='class',y='cyl', color='drv' )"
   ]
  },
  {
   "cell_type": "code",
   "execution_count": 2,
   "id": "b61e8091-f5c7-48d9-ad79-7f324401131a",
   "metadata": {
    "tags": []
   },
   "outputs": [],
   "source": []
  },
  {
   "cell_type": "code",
   "execution_count": 36,
   "id": "8172531c-df21-4078-a3b7-22b599dda5ef",
   "metadata": {
    "tags": []
   },
   "outputs": [
    {
     "name": "stdout",
     "output_type": "stream",
     "text": [
      "https://www.pressian.com/pages/news-world-list?page=0\n",
      "<p class=\"title\"><a href=\"/pages/articles/2023050916233747391\">\"러, 자포리자 원전 직원 철수 준비\"…핵물질 사고 위기감 고조</a></p>\n",
      "https://www.pressian.com/pages/news-world-list?page=1\n",
      "<p class=\"title\"><a href=\"/pages/articles/2023050916233747391\">\"러, 자포리자 원전 직원 철수 준비\"…핵물질 사고 위기감 고조</a></p>\n",
      "https://www.pressian.com/pages/news-world-list?page=2\n",
      "<p class=\"title\"><a href=\"/pages/articles/2023050317420996488\">\"AI 대본 안된다\"…미 할리우드 작가 15년 만에 총파업</a></p>\n"
     ]
    }
   ],
   "source": [
    "import urllib.request\n",
    "url_1 = 'https://www.pressian.com/pages/news-world-list?page='\n",
    "for i in range(3):\n",
    "    url =  url_1+str(i)\n",
    "    print(url)\n",
    "    html = urllib.request.urlopen(url).read().decode(encoding='utf-8')\n",
    "    soup = BeautifulSoup(html, 'html.parser')\n",
    "    title_part = soup.find_all(class_='title')[15]\n",
    "    print(title_part)\n",
    "    #title_part = hdoc %>% html_nodes(\".title\") %>% html_text()\n",
    "  # title = c(title, title_part)\n",
    "  # body_part = hdoc %>% html_nodes(\".body\")%>% html_text()\n",
    "  # body = c(body, body_part) "
   ]
  },
  {
   "cell_type": "code",
   "execution_count": 10,
   "id": "fe988312-f872-483b-84a5-7652214a6c60",
   "metadata": {
    "tags": []
   },
   "outputs": [],
   "source": [
    "from bs4 import BeautifulSoup\n",
    "soup = BeautifulSoup(html, 'html.parser')"
   ]
  },
  {
   "cell_type": "code",
   "execution_count": 5,
   "id": "62104b9a-e396-4853-a3d6-5f5f1607c2d7",
   "metadata": {
    "tags": []
   },
   "outputs": [],
   "source": [
    "title =soup.find_all(class_='title')\n",
    "title[15].text\n",
    "body =soup.find_all(class_='body')"
   ]
  },
  {
   "cell_type": "code",
   "execution_count": 6,
   "id": "e34f5925-3ed2-47f2-93a3-cd317136562f",
   "metadata": {
    "tags": []
   },
   "outputs": [
    {
     "name": "stdout",
     "output_type": "stream",
     "text": [
      "중국 국민당 육군군관학교(일명 황포군관학교)\n",
      "\n",
      "코로나 팬데믹의 맹위도 어느 정도 잡힌 것 같다. 팬데믹으로 중국지역 한국독립운동 사적지 답사단의 활동이 중지된 지도 3년이 넘었다. 또한 동북아의 국제정세로 인해 한중관계 역시 코로나 팬데믹 이전 시기와는 사뭇 다른 분위기이다. 1992년 8월 한중수교 이후 한국과 중국은 경제적 파트너를 넘어 동북아 평화의 \n",
      "팔레스타인 가자지구에 대한 이스라엘의 공습이 사흘째 이어지며 20명이 넘는 팔레스타인인이 사망했다. 가자지구 쪽에서도 500발이 넘는 로켓을 발사하며 양쪽의 충돌이 격화되고 있다. \n",
      "\n",
      "이번 충돌로 사법 개편 관련 국내 반발에 부딪힌 베냐민 네타냐후 이스라엘 총리가 지지층 결집 효과를 누리는 동시에 팔레스타인에 대한 강경 대응을 주문해 온 연정 내 극우도 달\n",
      "도널드 트럼프 미국 전 대통령이 27년 전 저지른 성폭력 관련 민사 소송에서 패소해 피해 여성에게 500만 달러(약 66억 원)를 배상하게 됐다. 차기 대선 출마를 선언한 트럼프 전 대통령은 지난 3월 미국 전·현직 대통령 중 처음으로 형사 기소된 뒤에도 굳건한 지지율을 유지했지만 사안의 성격상 이번 평결의 영향력은 차원이 다를 수 있다는 관측이 나온다.\n",
      "\n",
      "블라디미르 푸틴 러시아 대통령이 2차 세계대전 당시 러시아가 독일에 승리한 것을 기념하는 전승절 행사에서 9일(현지시각) 우크라이나 침공을 \"전쟁\"으로 규정했다.\n",
      "\n",
      "<로이터> 통신, 영국 BBC 방송 등을 종합하면 이날 모스크바 붉은 광장에서 열린 78주년 전승절 기념행사에서 연설에 나선 푸틴 대통령은 \"오늘날 문명은 다시금 결정적 전환점을 맞았\n",
      "러시아가 주말 우크라이나 남부 자포리자 원전 지역 주민들을 대피시킨 데 이어 수천 명에 이르는 원전 직원들까지 철수시키려 한다는 주장이 나오면서 핵물질 사고에 대한 위기감이 고조되고 있다.\n",
      "\n",
      "<워싱턴포스트>(WP)는 8일(현지시각) 우크라이나 국영 원전기업 에네르고아톰의 페트로 코틴 대표가 러시아 당국이 3100명에 이르는 자포리자 원전 직원 대\n",
      "지난 6일(현지시각) 8명의 희생자를 낳은 미국 텍사스주 댈러스 교외 쇼핑몰 총격범이 백인우월주의에 경도된 것으로 보이는 정황이 드러나 혐오 범죄 가능성이 떠오르는 가운데 7일 텍사스 남부 국경 도시 이민자 보호소 근처에 차량이 돌진해 8명이 목숨을 잃었다.\n",
      "\n",
      "<뉴욕타임스>(NYT)에 따르면 7일 텍사스 공공안전국은 전날 오후 3시30분께 댈러스\n",
      "한일 양국 정상이 두 달 만에 다시 한국에서 만나 회담을 가졌지만 한일 관계에 변화가 있을 것이라는 기대는 크지 않은 것으로 나타났다.\n",
      "\n",
      "일본 포털 사이트 '야후 재팬'은 7일 '한일 셔틀외교 재개, 일본과 한국의 관계는 어떻게 될 것으로 보나'라는 제목의 온라인 설문을 실시했다. 8일 현재 약 1만 5000명 정도가 참여한 이 설문에서 응답자의 68.2%\n",
      "바샤르 알아사드 정권의 인권 탄압으로 아랍연맹(AL)에서 퇴출됐던 시리아가 12년 만에 회원국 지위를 회복하게 됐다. 인근국의 시리아 난민 부담 호소와 더불어 사우디아라비아와 이란의 관계 정상화가 발판으로 작용했다. 인권단체는 알아사드 정권에 면죄부를 주는 것이라며 비판했고 미국과 영국도 부정적 반응을 보였다.\n",
      "\n",
      "<AP> 통신은 7일(현지시각) \n",
      "찰스3세 영국 국왕이 6일(현지시간) 대관식을 갖고 '그레이트브리튼과 북아일랜드 연합왕국' 및 14개 영연방국의 군주로 정식 즉위했다.\n",
      "\n",
      "찰스 왕은 이날 오전 11시 영국 런언 웨스트민스터 사원에서 영국 국교회(성공회) 최고위 성직자인 저스틴 웰비 캔터베리 대주교가 수여한 2.23킬로그램 무게의 왕관을 썼다.\n",
      "\n",
      "찰스 왕은 즉위 선서에서 국왕으로서 정의와 자\n",
      "지난 4월 19일부터 5월 1일까지 미국, 캐나다, 스웨덴에서 사는 한국 출신 60-70대 여성 37명이 한국을 찾았다. 서울, 여수, 보성, 부산, 제주도 등을 방문한 이 여행이 특별한 이유는 이들이 모두 어릴 때 해외로 입양된 입양인들이라는 사실이다. 이들은 관광, 문화체험, 홈스테이, 학교 방문 뿐 아니라 홀트아동복지회, 동방사회복지회, 대한사회복지회\n"
     ]
    }
   ],
   "source": [
    "for title in body:\n",
    "    print(title.text)"
   ]
  },
  {
   "cell_type": "code",
   "execution_count": 7,
   "id": "8121fb5a-d109-48ae-8c85-d5e74fb65021",
   "metadata": {
    "tags": []
   },
   "outputs": [
    {
     "name": "stdout",
     "output_type": "stream",
     "text": [
      "https://www.pressian.com/pages/news-world-list?page=1\n",
      "중국 국민당 육군군관학교(일명 황포군관학교)\n",
      "\n",
      "코로나 팬데믹의 맹위도 어느 정도 잡힌 것 같다. 팬데믹으로 중국지역 한국독립운동 사적지 답사단의 활동이 중지된 지도 3년이 넘었다. 또한 동북아의 국제정세로 인해 한중관계 역시 코로나 팬데믹 이전 시기와는 사뭇 다른 분위기이다. 1992년 8월 한중수교 이후 한국과 중국은 경제적 파트너를 넘어 동북아 평화의 \n",
      "팔레스타인 가자지구에 대한 이스라엘의 공습이 사흘째 이어지며 20명이 넘는 팔레스타인인이 사망했다. 가자지구 쪽에서도 500발이 넘는 로켓을 발사하며 양쪽의 충돌이 격화되고 있다. \n",
      "\n",
      "이번 충돌로 사법 개편 관련 국내 반발에 부딪힌 베냐민 네타냐후 이스라엘 총리가 지지층 결집 효과를 누리는 동시에 팔레스타인에 대한 강경 대응을 주문해 온 연정 내 극우도 달\n",
      "도널드 트럼프 미국 전 대통령이 27년 전 저지른 성폭력 관련 민사 소송에서 패소해 피해 여성에게 500만 달러(약 66억 원)를 배상하게 됐다. 차기 대선 출마를 선언한 트럼프 전 대통령은 지난 3월 미국 전·현직 대통령 중 처음으로 형사 기소된 뒤에도 굳건한 지지율을 유지했지만 사안의 성격상 이번 평결의 영향력은 차원이 다를 수 있다는 관측이 나온다.\n",
      "\n",
      "블라디미르 푸틴 러시아 대통령이 2차 세계대전 당시 러시아가 독일에 승리한 것을 기념하는 전승절 행사에서 9일(현지시각) 우크라이나 침공을 \"전쟁\"으로 규정했다.\n",
      "\n",
      "<로이터> 통신, 영국 BBC 방송 등을 종합하면 이날 모스크바 붉은 광장에서 열린 78주년 전승절 기념행사에서 연설에 나선 푸틴 대통령은 \"오늘날 문명은 다시금 결정적 전환점을 맞았\n",
      "러시아가 주말 우크라이나 남부 자포리자 원전 지역 주민들을 대피시킨 데 이어 수천 명에 이르는 원전 직원들까지 철수시키려 한다는 주장이 나오면서 핵물질 사고에 대한 위기감이 고조되고 있다.\n",
      "\n",
      "<워싱턴포스트>(WP)는 8일(현지시각) 우크라이나 국영 원전기업 에네르고아톰의 페트로 코틴 대표가 러시아 당국이 3100명에 이르는 자포리자 원전 직원 대\n",
      "지난 6일(현지시각) 8명의 희생자를 낳은 미국 텍사스주 댈러스 교외 쇼핑몰 총격범이 백인우월주의에 경도된 것으로 보이는 정황이 드러나 혐오 범죄 가능성이 떠오르는 가운데 7일 텍사스 남부 국경 도시 이민자 보호소 근처에 차량이 돌진해 8명이 목숨을 잃었다.\n",
      "\n",
      "<뉴욕타임스>(NYT)에 따르면 7일 텍사스 공공안전국은 전날 오후 3시30분께 댈러스\n",
      "한일 양국 정상이 두 달 만에 다시 한국에서 만나 회담을 가졌지만 한일 관계에 변화가 있을 것이라는 기대는 크지 않은 것으로 나타났다.\n",
      "\n",
      "일본 포털 사이트 '야후 재팬'은 7일 '한일 셔틀외교 재개, 일본과 한국의 관계는 어떻게 될 것으로 보나'라는 제목의 온라인 설문을 실시했다. 8일 현재 약 1만 5000명 정도가 참여한 이 설문에서 응답자의 68.2%\n",
      "바샤르 알아사드 정권의 인권 탄압으로 아랍연맹(AL)에서 퇴출됐던 시리아가 12년 만에 회원국 지위를 회복하게 됐다. 인근국의 시리아 난민 부담 호소와 더불어 사우디아라비아와 이란의 관계 정상화가 발판으로 작용했다. 인권단체는 알아사드 정권에 면죄부를 주는 것이라며 비판했고 미국과 영국도 부정적 반응을 보였다.\n",
      "\n",
      "<AP> 통신은 7일(현지시각) \n",
      "찰스3세 영국 국왕이 6일(현지시간) 대관식을 갖고 '그레이트브리튼과 북아일랜드 연합왕국' 및 14개 영연방국의 군주로 정식 즉위했다.\n",
      "\n",
      "찰스 왕은 이날 오전 11시 영국 런언 웨스트민스터 사원에서 영국 국교회(성공회) 최고위 성직자인 저스틴 웰비 캔터베리 대주교가 수여한 2.23킬로그램 무게의 왕관을 썼다.\n",
      "\n",
      "찰스 왕은 즉위 선서에서 국왕으로서 정의와 자\n",
      "지난 4월 19일부터 5월 1일까지 미국, 캐나다, 스웨덴에서 사는 한국 출신 60-70대 여성 37명이 한국을 찾았다. 서울, 여수, 보성, 부산, 제주도 등을 방문한 이 여행이 특별한 이유는 이들이 모두 어릴 때 해외로 입양된 입양인들이라는 사실이다. 이들은 관광, 문화체험, 홈스테이, 학교 방문 뿐 아니라 홀트아동복지회, 동방사회복지회, 대한사회복지회\n",
      "https://www.pressian.com/pages/news-world-list?page=2\n",
      "'21세기의 지성'으로 일컬어지는 언어학자 노엄 촘스키(1928년생)는 1990년 스페인에 강연을 갔다가 충격을 받았던 적이 있다. 뜻밖에도 그곳 젊은이들이 스페인의 어두운 과거사를 잘 모르고 있다는 사실을 깨달았기 때문이었다. 잘 알려져 있듯이, 스페인은 1936년부터 1939년까지 3년 동안 내전이 벌어져 35만 명이 죽은 비극을 겪었다. 제2공화국에서\n",
      "우리나라의 경제 버팀목인 수출이 흔들리고 있어 경제성장에 빨간불이 켜졌다. 산업통상자원부에 따르면 무역수지 적자가 14개월째 지속되고 있다. 우리의 수출 시장 1위인 중국에 이어 2위였던 아세안(ASEAN)에 대한 수출이 지난해 10월부터 4월까지 7개월 연속 전년 동기대비 감소세를 보이고 있어 경제성장의 심각성이 더욱 고조되고 있다.\n",
      "\n",
      "반면 우리나라와 달\n",
      "저와 덴마크 입양인들이 함께 덴마크한국인진상규명그룹(DKRG)을 설립하기로 결정한 지 1년이 지났습니다. 이 단체는 한국 입양에 대한 진실을 밝히고 자신의 진정한 정체성과 친생부모를 알 권리를 위한 활동을 위해 만들어졌습니다.\n",
      "\n",
      "1년 전 저희는 열린 마음과 궁금증으로 이 일을 시작했습니다. 지난 20년 동안 위조된 서류와 한국에서 극적으로 친부모와 재회한 \n",
      "러시아가 우크라이나 쪽이 무인기(드론)로 대통령궁을 공격해 블라디미르 푸틴 러시아 대통령을 암살하려 했다고 주장했다. 볼로디미르 젤렌스키 우크라이나 대통령은 즉각 부인했다. 양쪽 주장이 엇갈리는 가운데 우크라이나의 봄 반격을 앞두고 러시아 쪽이 선동 작전을 시도하고 있다는 주장도 나온다.\n",
      "\n",
      "3일(현지시각) 러시아 대통령궁(크렘린)은 성명을 내 이날 새벽 \"\n",
      "미국 할리우드 영화 및 방송 프로그램 작가들이 파업에 돌입함에 따라 미국 주요 방송 프로그램들이 줄줄이 재방송을 예고했다. 작가들은 방송 산업 구조가 넷플릭스 등 스트리밍 서비스 위주로 바뀐 데다 작문 능력을 갖춘 인공지능(AI)까지 등장하며 작가들이 \"실존적\" 위기에 처해 있다고 호소했다. \n",
      "\n",
      "<뉴욕타임스>(NYT)는 미국작가조합(WGA)이 2\n",
      "미국 백악관이 지난해 말부터 5달 간 우크라이나 전쟁에서 러시아군 사망자 수가 2만 명에 이를 것으로 추정했다. 우크라이나 쪽이 봄 대반격이 임박했음을 시사한 가운데 최근 며칠 간 우크라이나 전역에 러시아의 공습이 이어졌다. 이런 가운데 우크라이나에 대한 \"백지 수표\"는 없다고 공언했던 케빈 매카시 미 하원의장이 돌연 우크라이나 지원에 대한 지지를 천명해 \n",
      "기시다 후미오(岸田文雄) 일본 총리가 오는 7~8일 한국에 방문할 예정인 것으로 전해졌다. 강제동원 피해자들의 대법원 배상 판결 이행에서 일본 기업의 책임을 면제해준 정부의 선조치에 일본의 '성의있는 호응'이 있을지 주목된다.\n",
      "\n",
      "2일 일본 <교도통신>은 가나에 방문한 기시다 총리가 1일(현지시각) 기자들에게 \"7~8일 일정으로 한국을 방문해 윤석\n",
      "21세기 세계패권을 놓고 미국과 중국 간의 갈등이 심화되고 있다. 나아가 우크라이나 전쟁을 기화로 미·일·유럽 대 러시아·중국·북한 간의 신냉전이 본격화되고 있다.\n",
      "\n",
      "세계질서가 격변하는 가운데 윤석열 대통령은 '균형 있는 외교'를 던져버리고 미·일과의 동맹 강화를 향해 돌진하고 있다. 특히 일본 제국주의의 강제동원에 대한 손해배상 요구를 일방적으로 쓰레기통\n",
      "제 이름은 니아 경자 리 고 토프타거(Nia Kyeong Ja Lee Koh Toftager)이고, 저는 4살 때 덴마크 가정에 입양돼, 현재는 덴마크인 남편, 아들(21), 딸(12)과 함께 덴마크에 살고 있습니다. 다른 많은 입양인들처럼, 제 이름은 입양되기 전 한국 이름과 입양된 가족에 의해 지어진 이름이 합쳐진 독특한 조합입니다. 제 삶에 대해 짧은\n",
      "독도에 대해 쓰려니 축구선수 박종우의 얼굴이 떠오른다. 그는 지난 2012년 런던 올림픽 축구 3,4위 전에서 한국이 일본을 2 대 0으로 이긴 뒤 '독도는 우리 땅'이라 적힌 피켓을 들고 축구장을 돌았다. 그 때문에 FIFA로부터 징계를 받고 동메달 시상식에도 오르지 못했다. \"올림픽 시설이나 경기장 등에서 정치적 선전 활동을 금지하는 올림픽 헌장을 어겼\n",
      "https://www.pressian.com/pages/news-world-list?page=3\n",
      "일본이 한국을 수출 우대국 '화이트리스트'에 복원시키는 절차에 돌입했다. 지난 3월16일 도쿄 한일정상회담 이후 43일만, 윤석열 대통령이 국무회의에서 '한국 쪽이 먼저 일본을 화이트리스트에 복원시키라'는 지시를 한 지 38일 만, 한국 측의 선제 조치가 완료된 지 4일 만이다.\n",
      "\n",
      "일본 경제산업성은 28일 오후 홈페이지에 게시한 보도자료에서 \"한국을 수출무\n",
      "중국이 한미정상회담 공동성명에서 대만 문제가 거론된 것과 확장억제 관련 한미 간 정례 협의체인 햅혁의그룹(NCG) 창설 및 미국 전략핵잠수함의 한국 기항을 명시한 워싱턴 선언에 대해 거듭 날을 세웠다. 외교 채널을 통한 공식 항의까지 나섰다.\n",
      "\n",
      "28일 <베이징일보>는 전날 밤 중국 외교부 류진쑹 아주사 사장(아시아 담당 국장)이 강상욱 주중 한국\n",
      "대만 차이잉원(蔡英文) 총통이 3월말 중남미 수교국을 방문했다. 귀국길에는 뉴욕과 로스앤젤레스를 거쳤다. 로스앤젤레스에서는 미국 연방하원의회 의장 매카시(Kevin McCarthy)와 회면했다. 미국과 중국이 수교한 1979년 이래 대만 영도자가 미국에서 만난 최고위층 인사이다.\n",
      "\n",
      "관례대로 중국은 차이 총통을 환대한 매카시의 행동에 강렬한 항의를 제출했다.\n",
      "영미권 주요 외신들은 한미 간 핵협의그룹(NCG) 신설을 골자로 한 '워싱턴 선언'이 미국의 한국 내 핵무장 여론을 달래기 위한 시도로 봤다. 외신들은 이번 선언이 한국 여론을 만족시킬지에 대해 의문을 표하는 동시에 핵전략잠수함 한국 기항이 동북아 불안정성을 키울 것이라고 우려했다. \n",
      "\n",
      "<워싱턴포스트>(WP), <뉴욕타임스>(NYT),\n",
      "코로나19 백신이 개발되어 이미 고소득 국가들에서는 2020년 말부터 접종이 시작되었지만, 여전히 세계적 감염병 위기, 즉 팬데믹은 지속되고 있다. 그 이유는 고소득 국가들의 '백신 이기주의'와 글로벌 백신 불평등으로 인해 세계적으로 집단면역이 형성되지 못했고, 그 사이에 코로나 변이 바이러스들이 계속 발생하고 있기 때문이다. 가령, 2022년 4월 4일 \n",
      "조 바이든 미국 대통령이 2024년 대선 출마를 공식 발표했다. 지지율이 신통치 않고 고령에 대한 우려도 상당하지만 경쟁자인 도널드 트럼프 전 대통령과의 재대결 땐 승기를 쥘 가능성이 있다는 전망이 나온다.\n",
      "\n",
      "바이든 대통령은 25일(현지시각) 공개한 3분 가량의 영상에서 \"이제 일을 끝내자\"며 재선 도전을 공식화했다. 2021년 1월6일 트럼프 전 대통령 \n",
      "군벌 간 무력 충돌이 벌어지고 있는 수단에서 미국의 중재로 25일(현지시각)부터 사흘 간 휴전이 선언됐다. 각국의 교민 철수가 진행되고 있는 가운데 외교 인력 철수로 수단 내부 상황이 악화할 수 있다는 불안감도 감돈다. 한편 수단에서 대피한 한국 교민 28명은 이날 서울 공항에 무사히 도착했다.\n",
      "\n",
      "토니 블링컨 미 국무장관은 이날 성명을 내 \"지난 48시간 \n",
      "윤석열 대통령의 미국 국빈방문을 앞두고 <워싱턴포스트>(WP)는 젠더 문제가 윤 대통령의 \"가장 분열적 행보\"라고 지적했다. \n",
      "\n",
      "매체는 24일(현지시각) 윤 대통령의 인터뷰와 함께 생애 및 최근 행보에 대해 간략히 평가한 기사를 실으며 이같이 분석했다. 매체는 윤 대통령이 자사와의 인터뷰에서 \"100년 전 역사 때문에 일본이 무릎을 꿇고 용서를 \n",
      "한 도시가 있다. 오랫동안 나라 전체에서 그렇게 돋보이는 도시는 아니었지만, 미래의 재벌 한 사람이 새로운 산업에 모험 투자를 하면서 운명이 바뀌었다. 새 산업이란 자동차 산업이었다. 이후 이 도시는 줄곧 자동차의 도시였다.\n",
      "\n",
      "이 문단을 읽고 한국인이라면 누구나 울산을 떠올릴 것이다. '재벌'이란 정주영을 뜻하고 '자동차' 이야기는 현재의 현대기아자동차를 \n",
      "러시아의 우크라이나 침공과 그에 따른 서방과 비 서방의 대립으로 지난해 군사 관련 비용 지출은 사상 최고치를 기록한 것으로 나타났다.\n",
      "\n",
      "24일(현지시각) 스웨덴 소재 국제분쟁 및 군축 전문 연구소인 스톡홀름 국제평화연구소(SIPRI)는 '2022 세계 군비지출 동향'을 발표했는데, 지난해 전 세계의 군사비 지출액은 2021년보다 3.7% 상승한 2조 240\n",
      "https://www.pressian.com/pages/news-world-list?page=4\n",
      "조 바이든 미국 대통령이 오는 25일 두 번째 대통령 임기에 도전할 것이라는 발표를 앞두고 있는 가운데, 미국인의 대다수는 바이든 대통령과 도널드 트럼프 전 대통령의 재대결에 대해 부정적인 시각을 가지고 있는 것으로 조사됐다.\n",
      "\n",
      "23일(현지시각) 야후뉴스와 여론조사 전문기관 유고브는 지난 14~17일 미 전역의 등록유권자 1530명을 상대로 조사한 결과(오\n",
      "\"2020년도 팬데믹이 전 세계를 강타했을 때 입양인들이 계시는 14개 국가 26개 공관을 통해 정부가 37만 장의 마스크를 보내드린 적이 있습니다. 여기 계신 분들 중에서 그 마스크를 재외동포재단으로부터 받으신 분들이 있을지 모르겠지만 팬데믹 때 그런 지원을 하기도 했습니다.\"\n",
      "\n",
      "21일 서울 여의도 국회의원회관에서 개최된 '해외입양 70년, 해외입양을 다\n",
      "한반도를 강탈한 일제는 곧바로 토지조사(정식 이름은 '조선토지조사사업')에 들어갔다. 1910년부터 1918년까지 햇수로 9년에 걸쳐 이뤄진 토지조사의 목적은 한반도를 보다 효율적으로 수탈하기 위한 것이었음은 말할 나위 없다. 지난 주 글에서 살펴봤듯이, 신용하(전 서울대교수, 사회학)의 연구에 따르면, 조선총독부가 조선 왕실 소유였던 농경지, 임야, 미개\n",
      "지난해 가을 372명의 해외입양인들이 한국 진실·화해를위한과거사정리위원회(이하 진실화해위원회)에 해외입양 과정에서의 인권 침해에 대한 조사를 요청했고, 진실화해위는 그해 12월 8일 이들 중 34명에 대한 조사 개시를 결정했다고 밝혔다. 한국 정부 기관에서 해외입양에 대한 조사는 처음 있는 일이다. \n",
      "\n",
      "현재 국회에서도 해외입양과 관련된 법안 3건이 계류 중\n",
      "철학자 마이클 샌델의 책을 오랜만에 읽었다. 원래 영어 제목은 <민주주의의 불만(Democracy's Discontent)>이다. 책 이름부터 범상치 않다. 샌델은 미국 민주주의가 정상괘도에서 이탈했다고 판단한다. 미국은 상당 기간 민주주의 그 자체였다. 그러나 국회의사당 폭동 등을 복기해본다면 미국 민주주의가 심각한 위기에 처한 것을 알 수 있\n",
      "승자 없는 우크라이나전쟁은 1년이 넘도록 출구전략을 찾지 못하고 있다. 러시아의 우크라이나 침공으로 비롯된 전쟁이지만 미국과 러시아의 힘이 우크라이나에서 충돌하면서 빗어진 강대국 국제정치의 비극에 가깝다. 유럽은 에너지와 안보를 미국에 의존하게 되고 러시아는 정치적, 경제적으로 중국에 더 의존하게 되면서 정작 전쟁의 이익은 미국과 중국으로 귀결되고 있다.\n",
      "\n",
      "최근 중국인들 사이에서 옌볜조선족자치주(이하 옌볜주)가 가장 핫한 여행지 중 하나로 떠오르고 있다. 그 이유는 바로 길고 긴 코로나 기간 한국 여행을 희망하는 중국 관광객들이 한국에 방문하지 못하게 되면서 “중국의 작은 한국” 이라고 불리는 옌볜주를 찾고 있기 때문이다.\n",
      "\n",
      "옌볜주는 중국 지린성 동부에 위치한 조선족 자치주로 러시아 및 북한과 국경을 맞대고 \n",
      "윤석열 대통령이 전날 외신 인터뷰에서 우크라이나에 대한 무기 지원 가능성을 열어둔 데 대해 러시아가 북한과 대립 중인 한국 상황을 상기시키며 거듭 으름장을 놨다. \n",
      "\n",
      "러시아 국영 <타스> 통신은 20일(현지시각) 마리야 자하로바 러시아 외무부 대변인이 전날 윤 대통령이 <로이터> 통신에 한국이 우크라이나에 대한 무기 지원 가능성을 시사\n",
      "루이스 이나시우 룰라 다시우바 브라질 대통령이 우크라이나 침공에 대한 반대 입장을 밝히며 브라질이 중립에서 벗어났다는 미국의 비판을 잠재우려는 듯한 모습을 보였다. 룰라 대통령은 최근 중국 등을 방문하며 미국과 유럽이 전쟁을 \"조장\"하고 있다고 발언해 서방의 비난을 받았다.\n",
      "\n",
      "<로이터> 통신, 카타르 알자지라 방송 등을 보면 18일(현지시각) 룰\n",
      "사우디아라비아(이하 사우디)가 이란과 관계 개선을 시작으로 시리아와도 관계 복원에 나서면서 중동 지역에 우호적인 분위기가 조성되고 있다. 윤석열 대통령이 우크라이나에 대한 살상무기 지원 가능성을 열어두면서 냉전 구도 고착화를 재촉하고 있는 것과는 확연히 다른 모습이다.\n",
      "\n",
      "18일(현지 시각) 카타르 방송 <알자지라>는 시리아를 방문한 파이살 빈 파\n",
      "https://www.pressian.com/pages/news-world-list?page=5\n",
      "유출된 미국 기밀문건을 통해 안토니우 구테흐스 유엔(UN) 사무총장에 대한 미 정부의 도청 및 감시 정황이 추가로 보도되자 유엔이 미국을 공개적으로 비판했다.\n",
      "\n",
      "스테판 두자릭 유엔 사무총장 대변인은 18일(현지시각) 일일 브리핑에서 전날 <워싱턴포스트>(WP)의 미 정부가 구테흐스 사무총장을 감시한 정황을 추가로 폭로한 보도에 관한 질문을 받고 \n",
      "북아프리카 수단에서 정부를 장악하고 있는 군부 세력 간 무력충돌이 사흘째 이어지며 사상자가 눈덩이처럼 불어나고 있다. 포격이 의료시설을 강타했고 미국과 유럽 외교관들까지 공격당했다. 국제사회는 거듭 중단을 요구했지만 양쪽은 협상 의지를 보이지 않고 있어 전면적 내전으로 악화할 수 있다는 우려가 커진다.\n",
      "\n",
      "<로이터> 통신에 따르면 17일(현지시각)\n",
      "폴란드와 헝가리가 우크라이나 곡물 수입 금지 조치를 발표한 데 대해 유럽연합(EU)이 용납할 수 없다며 엄포를 놨다. 인접국으로서 난민부터 무기까지 우크라이나를 적극 지원했지만 전쟁 장기화로 자국민의 반발에 직면한 동유럽 국가들의 고민이 커지고 있다.\n",
      "\n",
      "<로이터> 통신을 보면 16일(현지시각) EU 집행위원회 대변인은 이메일 성명을 통해 전날 폴\n",
      "5G 인터넷과 인공지능 (Artificial Inteligence, 이하 AI) 분야의 발전으로 인해 수학의 중요성이 부각되면서 국내외에서 수학 전문가와 수학을 응용하여 5G 인터넷과 AI 분야에서 일할 수 있는 인재의 수요가 늘어나고 있다.\n",
      "\n",
      "중국도 중앙정부와 주요 대학들이 5G 인터넷과 AI 등의 신산업 진흥, 수학과 수학을 활용해야 하는 기초과학 분야\n",
      "일본에서 개최된 주요 7개국(G7) 기후·에너지·환경 장관 회의에서 일본 후쿠시마 핵발전소 오염수의 해양 방출에 대한 동일한 입장이 나오지 못한 가운데, 정부는 이를 두고 국제원자력기구(IAEA)의 독립적인 검증 중요성을 강조한 결과라며, 과학적‧객관적‧안전한 처리가 이뤄져야 한다고 촉구했다.\n",
      "\n",
      "정부는 16일 발표한 G7 기후·에너지·환경 장관 회의 공동성\n",
      "이란 경찰이 감시 카메라를 이용한 히잡 미착용 여성 단속을 시작했다.\n",
      "\n",
      "영국에 기반을 둔 이란 전문 매체 <이란인터내셔널>을 보면 이란 경찰은 공공장소 및 도로에 설치된 스마트 감시 카메라를 이용한 히잡 미착용자 단속을 15일(현지시각) 개시했다. 앞서 경찰은 지난주 조치 시행을 예고하며 복장 규범을 어긴 여성에게 우선 증거와 함께 경고 메시지를\n",
      "일본 경찰이 기시다 후미오 일본 총리의 보궐선거 지원 유세 현장에 폭발물을 투척한 용의자의 집을 수색해 화약 추정 물체 등을 압수했다. 습격 동기가 밝혀지지 않은 가운데 기시다 총리는 \"폭력은 용납할 수 없다\"며 강하게 규탄했다.\n",
      "\n",
      "일본 NHK 방송은 16일 오전 경찰이 전날 기시다 총리에게 폭발물로 추정되는 물체를 던진 뒤 현장에서 체포된 기무라 류지(2\n",
      "'신친일파'들의 주요 논리 가운데 하나가 '식민지 근대화론'이다. 변화와 개혁의 동력을 잃은 조선 왕조를 쓰러뜨린 일본의 식민 통치를 거치면서 조선이 근대화를 이루었다는 것이다. 하지만 많은 연구자들은 (학교가 많이 들어섰다느니, 철로의 길이가 길어졌다느니 하는) 통계 숫자 뒤에 가려진 식민지 근대화의 어두운 그늘을 거듭 지적해왔다. 그래서 이들은 묻는다.\n",
      "\"넌 우리에게 마음을 열지 않아, 너무 멀게 느껴져.\"\n",
      "\"넌 우리에게 절대 아무 말도 하지 않아.\"\n",
      "\"우리는 너의 인생에서 무슨 일이 일어나고 있는지 절대 알지 못해.\"\n",
      "\n",
      "이것은 내가 어린 시절 내내, 그리고 성인이 되어서도 (입양) 부모, 주로 어머니에게로부터 일관되게 들은 이야기였습니다. 나는 그 순간에 감정이 없고, 얼어붙고, 무엇을 말해야 하는지, \n",
      "미국 기밀 문건 유출 용의자로 미 주방위군 일병이 체포됐다.  \n",
      "\n",
      "미 연방수사국(FBI)는 13일(현지시각) 성명을 내 매사추세츠주 노스다이튼에 있는 한 주택에서 미국 정부 및 군사 기밀 문건 유출에 연루된 혐의로 잭 더글라스 테세이라(21)를 체포했다고 밝혔다. FBI는 성명에서 \"지난주 후반부터 사건을 적극적으로 추적했다\"며 \"오늘의 체포는 국가 안보를\n"
     ]
    }
   ],
   "source": [
    "#page 1- 5 까지 url 기사 내용 \n",
    "for i in range(1,6):\n",
    "    url='https://www.pressian.com/pages/news-world-list?page='+str(i)\n",
    "    print(url)\n",
    "    html = urllib.request.urlopen(url).read().decode(encoding='utf-8')\n",
    "    from bs4 import BeautifulSoup\n",
    "    soup = BeautifulSoup(html, 'html.parser')\n",
    "    body =soup.find_all(class_='body')\n",
    "    for title in body:\n",
    "        print(title.text)"
   ]
  },
  {
   "cell_type": "code",
   "execution_count": 9,
   "id": "fec4fa74-9f6f-4e1c-8c4b-76c2e8ce7d8f",
   "metadata": {
    "tags": []
   },
   "outputs": [
    {
     "data": {
      "text/html": [
       "<div>\n",
       "<style scoped>\n",
       "    .dataframe tbody tr th:only-of-type {\n",
       "        vertical-align: middle;\n",
       "    }\n",
       "\n",
       "    .dataframe tbody tr th {\n",
       "        vertical-align: top;\n",
       "    }\n",
       "\n",
       "    .dataframe thead th {\n",
       "        text-align: right;\n",
       "    }\n",
       "</style>\n",
       "<table border=\"1\" class=\"dataframe\">\n",
       "  <thead>\n",
       "    <tr style=\"text-align: right;\">\n",
       "      <th></th>\n",
       "      <th>0</th>\n",
       "    </tr>\n",
       "  </thead>\n",
       "  <tbody>\n",
       "    <tr>\n",
       "      <th>0</th>\n",
       "      <td>중국 국민당 육군군관학교(일명 황포군관학교)\\n\\n코로나 팬데믹의 맹위도 어느 정도...</td>\n",
       "    </tr>\n",
       "    <tr>\n",
       "      <th>1</th>\n",
       "      <td>팔레스타인 가자지구에 대한 이스라엘의 공습이 사흘째 이어지며 20명이 넘는 팔레스타...</td>\n",
       "    </tr>\n",
       "    <tr>\n",
       "      <th>2</th>\n",
       "      <td>도널드 트럼프 미국 전 대통령이 27년 전 저지른 성폭력 관련 민사 소송에서 패소해...</td>\n",
       "    </tr>\n",
       "    <tr>\n",
       "      <th>3</th>\n",
       "      <td>블라디미르 푸틴 러시아 대통령이 2차 세계대전 당시 러시아가 독일에 승리한 것을 기...</td>\n",
       "    </tr>\n",
       "    <tr>\n",
       "      <th>4</th>\n",
       "      <td>러시아가 주말 우크라이나 남부 자포리자 원전 지역 주민들을 대피시킨 데 이어 수천 ...</td>\n",
       "    </tr>\n",
       "    <tr>\n",
       "      <th>5</th>\n",
       "      <td>지난 6일(현지시각) 8명의 희생자를 낳은 미국 텍사스주 댈러스 교외 쇼핑몰 총격범...</td>\n",
       "    </tr>\n",
       "    <tr>\n",
       "      <th>6</th>\n",
       "      <td>한일 양국 정상이 두 달 만에 다시 한국에서 만나 회담을 가졌지만 한일 관계에 변화...</td>\n",
       "    </tr>\n",
       "    <tr>\n",
       "      <th>7</th>\n",
       "      <td>바샤르 알아사드 정권의 인권 탄압으로 아랍연맹(AL)에서 퇴출됐던 시리아가 12년 ...</td>\n",
       "    </tr>\n",
       "    <tr>\n",
       "      <th>8</th>\n",
       "      <td>찰스3세 영국 국왕이 6일(현지시간) 대관식을 갖고 '그레이트브리튼과 북아일랜드 연...</td>\n",
       "    </tr>\n",
       "    <tr>\n",
       "      <th>9</th>\n",
       "      <td>지난 4월 19일부터 5월 1일까지 미국, 캐나다, 스웨덴에서 사는 한국 출신 60...</td>\n",
       "    </tr>\n",
       "    <tr>\n",
       "      <th>10</th>\n",
       "      <td>'21세기의 지성'으로 일컬어지는 언어학자 노엄 촘스키(1928년생)는 1990년 ...</td>\n",
       "    </tr>\n",
       "    <tr>\n",
       "      <th>11</th>\n",
       "      <td>우리나라의 경제 버팀목인 수출이 흔들리고 있어 경제성장에 빨간불이 켜졌다. 산업통상...</td>\n",
       "    </tr>\n",
       "    <tr>\n",
       "      <th>12</th>\n",
       "      <td>저와 덴마크 입양인들이 함께 덴마크한국인진상규명그룹(DKRG)을 설립하기로 결정한 ...</td>\n",
       "    </tr>\n",
       "    <tr>\n",
       "      <th>13</th>\n",
       "      <td>러시아가 우크라이나 쪽이 무인기(드론)로 대통령궁을 공격해 블라디미르 푸틴 러시아 ...</td>\n",
       "    </tr>\n",
       "    <tr>\n",
       "      <th>14</th>\n",
       "      <td>미국 할리우드 영화 및 방송 프로그램 작가들이 파업에 돌입함에 따라 미국 주요 방송...</td>\n",
       "    </tr>\n",
       "    <tr>\n",
       "      <th>15</th>\n",
       "      <td>미국 백악관이 지난해 말부터 5달 간 우크라이나 전쟁에서 러시아군 사망자 수가 2만...</td>\n",
       "    </tr>\n",
       "    <tr>\n",
       "      <th>16</th>\n",
       "      <td>기시다 후미오(岸田文雄) 일본 총리가 오는 7~8일 한국에 방문할 예정인 것으로 전...</td>\n",
       "    </tr>\n",
       "    <tr>\n",
       "      <th>17</th>\n",
       "      <td>21세기 세계패권을 놓고 미국과 중국 간의 갈등이 심화되고 있다. 나아가 우크라이나...</td>\n",
       "    </tr>\n",
       "    <tr>\n",
       "      <th>18</th>\n",
       "      <td>제 이름은 니아 경자 리 고 토프타거(Nia Kyeong Ja Lee Koh Tof...</td>\n",
       "    </tr>\n",
       "    <tr>\n",
       "      <th>19</th>\n",
       "      <td>독도에 대해 쓰려니 축구선수 박종우의 얼굴이 떠오른다. 그는 지난 2012년 런던 ...</td>\n",
       "    </tr>\n",
       "    <tr>\n",
       "      <th>20</th>\n",
       "      <td>일본이 한국을 수출 우대국 '화이트리스트'에 복원시키는 절차에 돌입했다. 지난 3월...</td>\n",
       "    </tr>\n",
       "    <tr>\n",
       "      <th>21</th>\n",
       "      <td>중국이 한미정상회담 공동성명에서 대만 문제가 거론된 것과 확장억제 관련 한미 간 정...</td>\n",
       "    </tr>\n",
       "    <tr>\n",
       "      <th>22</th>\n",
       "      <td>대만 차이잉원(蔡英文) 총통이 3월말 중남미 수교국을 방문했다. 귀국길에는 뉴욕과 ...</td>\n",
       "    </tr>\n",
       "    <tr>\n",
       "      <th>23</th>\n",
       "      <td>영미권 주요 외신들은 한미 간 핵협의그룹(NCG) 신설을 골자로 한 '워싱턴 선언'...</td>\n",
       "    </tr>\n",
       "    <tr>\n",
       "      <th>24</th>\n",
       "      <td>코로나19 백신이 개발되어 이미 고소득 국가들에서는 2020년 말부터 접종이 시작되...</td>\n",
       "    </tr>\n",
       "    <tr>\n",
       "      <th>25</th>\n",
       "      <td>조 바이든 미국 대통령이 2024년 대선 출마를 공식 발표했다. 지지율이 신통치 않...</td>\n",
       "    </tr>\n",
       "    <tr>\n",
       "      <th>26</th>\n",
       "      <td>군벌 간 무력 충돌이 벌어지고 있는 수단에서 미국의 중재로 25일(현지시각)부터 사...</td>\n",
       "    </tr>\n",
       "    <tr>\n",
       "      <th>27</th>\n",
       "      <td>윤석열 대통령의 미국 국빈방문을 앞두고 &lt;워싱턴포스트&gt;(WP)는 젠더 문제가 윤 대...</td>\n",
       "    </tr>\n",
       "    <tr>\n",
       "      <th>28</th>\n",
       "      <td>한 도시가 있다. 오랫동안 나라 전체에서 그렇게 돋보이는 도시는 아니었지만, 미래의...</td>\n",
       "    </tr>\n",
       "    <tr>\n",
       "      <th>29</th>\n",
       "      <td>러시아의 우크라이나 침공과 그에 따른 서방과 비 서방의 대립으로 지난해 군사 관련 ...</td>\n",
       "    </tr>\n",
       "    <tr>\n",
       "      <th>30</th>\n",
       "      <td>조 바이든 미국 대통령이 오는 25일 두 번째 대통령 임기에 도전할 것이라는 발표를...</td>\n",
       "    </tr>\n",
       "    <tr>\n",
       "      <th>31</th>\n",
       "      <td>\"2020년도 팬데믹이 전 세계를 강타했을 때 입양인들이 계시는 14개 국가 26개...</td>\n",
       "    </tr>\n",
       "    <tr>\n",
       "      <th>32</th>\n",
       "      <td>한반도를 강탈한 일제는 곧바로 토지조사(정식 이름은 '조선토지조사사업')에 들어갔다...</td>\n",
       "    </tr>\n",
       "    <tr>\n",
       "      <th>33</th>\n",
       "      <td>지난해 가을 372명의 해외입양인들이 한국 진실·화해를위한과거사정리위원회(이하 진실...</td>\n",
       "    </tr>\n",
       "    <tr>\n",
       "      <th>34</th>\n",
       "      <td>철학자 마이클 샌델의 책을 오랜만에 읽었다. 원래 영어 제목은 &lt;민주주의의 불만(D...</td>\n",
       "    </tr>\n",
       "    <tr>\n",
       "      <th>35</th>\n",
       "      <td>승자 없는 우크라이나전쟁은 1년이 넘도록 출구전략을 찾지 못하고 있다. 러시아의 우...</td>\n",
       "    </tr>\n",
       "    <tr>\n",
       "      <th>36</th>\n",
       "      <td>최근 중국인들 사이에서 옌볜조선족자치주(이하 옌볜주)가 가장 핫한 여행지 중 하나로...</td>\n",
       "    </tr>\n",
       "    <tr>\n",
       "      <th>37</th>\n",
       "      <td>윤석열 대통령이 전날 외신 인터뷰에서 우크라이나에 대한 무기 지원 가능성을 열어둔 ...</td>\n",
       "    </tr>\n",
       "    <tr>\n",
       "      <th>38</th>\n",
       "      <td>루이스 이나시우 룰라 다시우바 브라질 대통령이 우크라이나 침공에 대한 반대 입장을 ...</td>\n",
       "    </tr>\n",
       "    <tr>\n",
       "      <th>39</th>\n",
       "      <td>사우디아라비아(이하 사우디)가 이란과 관계 개선을 시작으로 시리아와도 관계 복원에 ...</td>\n",
       "    </tr>\n",
       "    <tr>\n",
       "      <th>40</th>\n",
       "      <td>유출된 미국 기밀문건을 통해 안토니우 구테흐스 유엔(UN) 사무총장에 대한 미 정부...</td>\n",
       "    </tr>\n",
       "    <tr>\n",
       "      <th>41</th>\n",
       "      <td>북아프리카 수단에서 정부를 장악하고 있는 군부 세력 간 무력충돌이 사흘째 이어지며 ...</td>\n",
       "    </tr>\n",
       "    <tr>\n",
       "      <th>42</th>\n",
       "      <td>폴란드와 헝가리가 우크라이나 곡물 수입 금지 조치를 발표한 데 대해 유럽연합(EU)...</td>\n",
       "    </tr>\n",
       "    <tr>\n",
       "      <th>43</th>\n",
       "      <td>5G 인터넷과 인공지능 (Artificial Inteligence, 이하 AI) 분...</td>\n",
       "    </tr>\n",
       "    <tr>\n",
       "      <th>44</th>\n",
       "      <td>일본에서 개최된 주요 7개국(G7) 기후·에너지·환경 장관 회의에서 일본 후쿠시마 ...</td>\n",
       "    </tr>\n",
       "    <tr>\n",
       "      <th>45</th>\n",
       "      <td>이란 경찰이 감시 카메라를 이용한 히잡 미착용 여성 단속을 시작했다.\\n\\n영국에 ...</td>\n",
       "    </tr>\n",
       "    <tr>\n",
       "      <th>46</th>\n",
       "      <td>일본 경찰이 기시다 후미오 일본 총리의 보궐선거 지원 유세 현장에 폭발물을 투척한 ...</td>\n",
       "    </tr>\n",
       "    <tr>\n",
       "      <th>47</th>\n",
       "      <td>'신친일파'들의 주요 논리 가운데 하나가 '식민지 근대화론'이다. 변화와 개혁의 동...</td>\n",
       "    </tr>\n",
       "    <tr>\n",
       "      <th>48</th>\n",
       "      <td>\"넌 우리에게 마음을 열지 않아, 너무 멀게 느껴져.\"\\n\"넌 우리에게 절대 아무 ...</td>\n",
       "    </tr>\n",
       "    <tr>\n",
       "      <th>49</th>\n",
       "      <td>미국 기밀 문건 유출 용의자로 미 주방위군 일병이 체포됐다.  \\n\\n미 연방수사국...</td>\n",
       "    </tr>\n",
       "  </tbody>\n",
       "</table>\n",
       "</div>"
      ],
      "text/plain": [
       "                                                    0\n",
       "0   중국 국민당 육군군관학교(일명 황포군관학교)\\n\\n코로나 팬데믹의 맹위도 어느 정도...\n",
       "1   팔레스타인 가자지구에 대한 이스라엘의 공습이 사흘째 이어지며 20명이 넘는 팔레스타...\n",
       "2   도널드 트럼프 미국 전 대통령이 27년 전 저지른 성폭력 관련 민사 소송에서 패소해...\n",
       "3   블라디미르 푸틴 러시아 대통령이 2차 세계대전 당시 러시아가 독일에 승리한 것을 기...\n",
       "4   러시아가 주말 우크라이나 남부 자포리자 원전 지역 주민들을 대피시킨 데 이어 수천 ...\n",
       "5   지난 6일(현지시각) 8명의 희생자를 낳은 미국 텍사스주 댈러스 교외 쇼핑몰 총격범...\n",
       "6   한일 양국 정상이 두 달 만에 다시 한국에서 만나 회담을 가졌지만 한일 관계에 변화...\n",
       "7   바샤르 알아사드 정권의 인권 탄압으로 아랍연맹(AL)에서 퇴출됐던 시리아가 12년 ...\n",
       "8   찰스3세 영국 국왕이 6일(현지시간) 대관식을 갖고 '그레이트브리튼과 북아일랜드 연...\n",
       "9   지난 4월 19일부터 5월 1일까지 미국, 캐나다, 스웨덴에서 사는 한국 출신 60...\n",
       "10  '21세기의 지성'으로 일컬어지는 언어학자 노엄 촘스키(1928년생)는 1990년 ...\n",
       "11  우리나라의 경제 버팀목인 수출이 흔들리고 있어 경제성장에 빨간불이 켜졌다. 산업통상...\n",
       "12  저와 덴마크 입양인들이 함께 덴마크한국인진상규명그룹(DKRG)을 설립하기로 결정한 ...\n",
       "13  러시아가 우크라이나 쪽이 무인기(드론)로 대통령궁을 공격해 블라디미르 푸틴 러시아 ...\n",
       "14  미국 할리우드 영화 및 방송 프로그램 작가들이 파업에 돌입함에 따라 미국 주요 방송...\n",
       "15  미국 백악관이 지난해 말부터 5달 간 우크라이나 전쟁에서 러시아군 사망자 수가 2만...\n",
       "16  기시다 후미오(岸田文雄) 일본 총리가 오는 7~8일 한국에 방문할 예정인 것으로 전...\n",
       "17  21세기 세계패권을 놓고 미국과 중국 간의 갈등이 심화되고 있다. 나아가 우크라이나...\n",
       "18  제 이름은 니아 경자 리 고 토프타거(Nia Kyeong Ja Lee Koh Tof...\n",
       "19  독도에 대해 쓰려니 축구선수 박종우의 얼굴이 떠오른다. 그는 지난 2012년 런던 ...\n",
       "20  일본이 한국을 수출 우대국 '화이트리스트'에 복원시키는 절차에 돌입했다. 지난 3월...\n",
       "21  중국이 한미정상회담 공동성명에서 대만 문제가 거론된 것과 확장억제 관련 한미 간 정...\n",
       "22  대만 차이잉원(蔡英文) 총통이 3월말 중남미 수교국을 방문했다. 귀국길에는 뉴욕과 ...\n",
       "23  영미권 주요 외신들은 한미 간 핵협의그룹(NCG) 신설을 골자로 한 '워싱턴 선언'...\n",
       "24  코로나19 백신이 개발되어 이미 고소득 국가들에서는 2020년 말부터 접종이 시작되...\n",
       "25  조 바이든 미국 대통령이 2024년 대선 출마를 공식 발표했다. 지지율이 신통치 않...\n",
       "26  군벌 간 무력 충돌이 벌어지고 있는 수단에서 미국의 중재로 25일(현지시각)부터 사...\n",
       "27  윤석열 대통령의 미국 국빈방문을 앞두고 <워싱턴포스트>(WP)는 젠더 문제가 윤 대...\n",
       "28  한 도시가 있다. 오랫동안 나라 전체에서 그렇게 돋보이는 도시는 아니었지만, 미래의...\n",
       "29  러시아의 우크라이나 침공과 그에 따른 서방과 비 서방의 대립으로 지난해 군사 관련 ...\n",
       "30  조 바이든 미국 대통령이 오는 25일 두 번째 대통령 임기에 도전할 것이라는 발표를...\n",
       "31  \"2020년도 팬데믹이 전 세계를 강타했을 때 입양인들이 계시는 14개 국가 26개...\n",
       "32  한반도를 강탈한 일제는 곧바로 토지조사(정식 이름은 '조선토지조사사업')에 들어갔다...\n",
       "33  지난해 가을 372명의 해외입양인들이 한국 진실·화해를위한과거사정리위원회(이하 진실...\n",
       "34  철학자 마이클 샌델의 책을 오랜만에 읽었다. 원래 영어 제목은 <민주주의의 불만(D...\n",
       "35  승자 없는 우크라이나전쟁은 1년이 넘도록 출구전략을 찾지 못하고 있다. 러시아의 우...\n",
       "36  최근 중국인들 사이에서 옌볜조선족자치주(이하 옌볜주)가 가장 핫한 여행지 중 하나로...\n",
       "37  윤석열 대통령이 전날 외신 인터뷰에서 우크라이나에 대한 무기 지원 가능성을 열어둔 ...\n",
       "38  루이스 이나시우 룰라 다시우바 브라질 대통령이 우크라이나 침공에 대한 반대 입장을 ...\n",
       "39  사우디아라비아(이하 사우디)가 이란과 관계 개선을 시작으로 시리아와도 관계 복원에 ...\n",
       "40  유출된 미국 기밀문건을 통해 안토니우 구테흐스 유엔(UN) 사무총장에 대한 미 정부...\n",
       "41  북아프리카 수단에서 정부를 장악하고 있는 군부 세력 간 무력충돌이 사흘째 이어지며 ...\n",
       "42  폴란드와 헝가리가 우크라이나 곡물 수입 금지 조치를 발표한 데 대해 유럽연합(EU)...\n",
       "43  5G 인터넷과 인공지능 (Artificial Inteligence, 이하 AI) 분...\n",
       "44  일본에서 개최된 주요 7개국(G7) 기후·에너지·환경 장관 회의에서 일본 후쿠시마 ...\n",
       "45  이란 경찰이 감시 카메라를 이용한 히잡 미착용 여성 단속을 시작했다.\\n\\n영국에 ...\n",
       "46  일본 경찰이 기시다 후미오 일본 총리의 보궐선거 지원 유세 현장에 폭발물을 투척한 ...\n",
       "47  '신친일파'들의 주요 논리 가운데 하나가 '식민지 근대화론'이다. 변화와 개혁의 동...\n",
       "48  \"넌 우리에게 마음을 열지 않아, 너무 멀게 느껴져.\"\\n\"넌 우리에게 절대 아무 ...\n",
       "49  미국 기밀 문건 유출 용의자로 미 주방위군 일병이 체포됐다.  \\n\\n미 연방수사국..."
      ]
     },
     "execution_count": 9,
     "metadata": {},
     "output_type": "execute_result"
    }
   ],
   "source": [
    "import urllib.request\n",
    "from bs4 import BeautifulSoup\n",
    "import pandas as pd\n",
    "\n",
    "li=[]\n",
    "for i in range(1,6):\n",
    "    url='https://www.pressian.com/pages/news-world-list?page='+str(i)\n",
    "    html = urllib.request.urlopen(url).read().decode(encoding='utf-8')\n",
    "\n",
    "    soup = BeautifulSoup(html, 'html.parser')\n",
    "    body =soup.find_all(class_='body')\n",
    "    for title in body:\n",
    "        li.append(title.text)\n",
    "pd.DataFrame(li)"
   ]
  },
  {
   "cell_type": "code",
   "execution_count": null,
   "id": "0541e757-5d4c-4823-bf42-17d13282173e",
   "metadata": {},
   "outputs": [],
   "source": [
    "li=[]\n",
    "for i in range(1,6):\n",
    "    url='https://www.pressian.com/pages/news-world-list?page='+str(i)\n",
    "    html = urllib.request.urlopen(url).read().decode(encoding='utf-8')\n",
    "\n",
    "    soup = BeautifulSoup(html, 'html.parser')\n",
    "    body =soup.find_all(class_='body')\n",
    "    for title in body:\n",
    "        li.append(title.text)\n",
    "pd.DataFrame(li)"
   ]
  },
  {
   "cell_type": "code",
   "execution_count": null,
   "id": "e6d612b5-dab3-47e8-91f5-5e043473cb49",
   "metadata": {},
   "outputs": [],
   "source": []
  },
  {
   "cell_type": "code",
   "execution_count": 14,
   "id": "277811eb-534b-4f49-9ee6-27d6508a0648",
   "metadata": {
    "tags": []
   },
   "outputs": [
    {
     "data": {
      "text/html": [
       "<div>\n",
       "<style scoped>\n",
       "    .dataframe tbody tr th:only-of-type {\n",
       "        vertical-align: middle;\n",
       "    }\n",
       "\n",
       "    .dataframe tbody tr th {\n",
       "        vertical-align: top;\n",
       "    }\n",
       "\n",
       "    .dataframe thead th {\n",
       "        text-align: right;\n",
       "    }\n",
       "</style>\n",
       "<table border=\"1\" class=\"dataframe\">\n",
       "  <thead>\n",
       "    <tr style=\"text-align: right;\">\n",
       "      <th></th>\n",
       "      <th>subtitle</th>\n",
       "      <th>body</th>\n",
       "    </tr>\n",
       "  </thead>\n",
       "  <tbody>\n",
       "    <tr>\n",
       "      <th>0</th>\n",
       "      <td>[원광대 '한중관계 브리핑'] 중국 광저우 묘지에 안장되어 있는 독립운동가, 김근제...</td>\n",
       "      <td>중국 국민당 육군군관학교(일명 황포군관학교)\\n\\n코로나 팬데믹의 맹위도 어느 정도...</td>\n",
       "    </tr>\n",
       "    <tr>\n",
       "      <th>1</th>\n",
       "      <td>팔레스타인 27명 사망에 무장단체 인사 추가 살해로 휴전 멀어져</td>\n",
       "      <td>팔레스타인 가자지구에 대한 이스라엘의 공습이 사흘째 이어지며 20명이 넘는 팔레스타...</td>\n",
       "    </tr>\n",
       "    <tr>\n",
       "      <th>2</th>\n",
       "      <td>뉴욕 배심원단, 27년전 성폭력 가해에 500만 달러 배상 평결</td>\n",
       "      <td>도널드 트럼프 미국 전 대통령이 27년 전 저지른 성폭력 관련 민사 소송에서 패소해...</td>\n",
       "    </tr>\n",
       "    <tr>\n",
       "      <th>3</th>\n",
       "      <td>기념 연설서 이례적 발언…전쟁 원인 '오만한 서방'에 돌려</td>\n",
       "      <td>블라디미르 푸틴 러시아 대통령이 2차 세계대전 당시 러시아가 독일에 승리한 것을 기...</td>\n",
       "    </tr>\n",
       "    <tr>\n",
       "      <th>4</th>\n",
       "      <td>러, 주말 인근 주민 1600명 대피시켜…'원전 인근 격전지 될라' 커지는 우려</td>\n",
       "      <td>러시아가 주말 우크라이나 남부 자포리자 원전 지역 주민들을 대피시킨 데 이어 수천 ...</td>\n",
       "    </tr>\n",
       "    <tr>\n",
       "      <th>5</th>\n",
       "      <td>6일 쇼핑몰 총격범 백인우월주의 경도 정황…7일엔 국경 도시 차량 돌진으로 이민자 ...</td>\n",
       "      <td>지난 6일(현지시각) 8명의 희생자를 낳은 미국 텍사스주 댈러스 교외 쇼핑몰 총격범...</td>\n",
       "    </tr>\n",
       "    <tr>\n",
       "      <th>6</th>\n",
       "      <td>일본 포털 사이트 조사 결과 약 70% \"변하지 않을 것\"</td>\n",
       "      <td>한일 양국 정상이 두 달 만에 다시 한국에서 만나 회담을 가졌지만 한일 관계에 변화...</td>\n",
       "    </tr>\n",
       "    <tr>\n",
       "      <th>7</th>\n",
       "      <td>인근국 난민 부담 더해 사우디·이란 관계 정상화가 발판…미 \"시리아 재가입 자격 없...</td>\n",
       "      <td>바샤르 알아사드 정권의 인권 탄압으로 아랍연맹(AL)에서 퇴출됐던 시리아가 12년 ...</td>\n",
       "    </tr>\n",
       "    <tr>\n",
       "      <th>8</th>\n",
       "      <td>'최장기간 왕세자' 꼬리표 떼고 즉위…해리는 참석, 마클은 불참</td>\n",
       "      <td>찰스3세 영국 국왕이 6일(현지시간) 대관식을 갖고 '그레이트브리튼과 북아일랜드 연...</td>\n",
       "    </tr>\n",
       "    <tr>\n",
       "      <th>9</th>\n",
       "      <td>입양인 고국 방문 등 돕는 美 뉴저지 비영리기관 세종문화교육원</td>\n",
       "      <td>지난 4월 19일부터 5월 1일까지 미국, 캐나다, 스웨덴에서 사는 한국 출신 60...</td>\n",
       "    </tr>\n",
       "    <tr>\n",
       "      <th>10</th>\n",
       "      <td>[김재명의 전쟁범죄 이야기 18] 누구를 위한 '역사전쟁'인가 (下3)</td>\n",
       "      <td>'21세기의 지성'으로 일컬어지는 언어학자 노엄 촘스키(1928년생)는 1990년 ...</td>\n",
       "    </tr>\n",
       "    <tr>\n",
       "      <th>11</th>\n",
       "      <td>[원광대 '한중관계 브리핑'] 안정적인 아세안 수출 시장 확보 시급</td>\n",
       "      <td>우리나라의 경제 버팀목인 수출이 흔들리고 있어 경제성장에 빨간불이 켜졌다. 산업통상...</td>\n",
       "    </tr>\n",
       "    <tr>\n",
       "      <th>12</th>\n",
       "      <td>[372명 해외입양인들의 진실 찾기] 입양인들이 지난 1년간 밝혀낸 사실들</td>\n",
       "      <td>저와 덴마크 입양인들이 함께 덴마크한국인진상규명그룹(DKRG)을 설립하기로 결정한 ...</td>\n",
       "    </tr>\n",
       "    <tr>\n",
       "      <th>13</th>\n",
       "      <td>우크라 즉각 부인…일각선 '우크라 봄 반격 앞두고 서방 분열·내부 결속 위한 위장 ...</td>\n",
       "      <td>러시아가 우크라이나 쪽이 무인기(드론)로 대통령궁을 공격해 블라디미르 푸틴 러시아 ...</td>\n",
       "    </tr>\n",
       "    <tr>\n",
       "      <th>14</th>\n",
       "      <td>스트리밍 구조 확산·AI 등장 맞물리며 \"직업적 글쓰기 실존 위기 처해\"</td>\n",
       "      <td>미국 할리우드 영화 및 방송 프로그램 작가들이 파업에 돌입함에 따라 미국 주요 방송...</td>\n",
       "    </tr>\n",
       "    <tr>\n",
       "      <th>15</th>\n",
       "      <td>러, 3일 만에 우크라 재차 공습…\"백지 수표\" 안된다던 매카시는 \"우크라 지원 지...</td>\n",
       "      <td>미국 백악관이 지난해 말부터 5달 간 우크라이나 전쟁에서 러시아군 사망자 수가 2만...</td>\n",
       "    </tr>\n",
       "    <tr>\n",
       "      <th>16</th>\n",
       "      <td>일본 교도통신 \"7~8일 일정으로 한국 방문 조율 중\"</td>\n",
       "      <td>기시다 후미오(岸田文雄) 일본 총리가 오는 7~8일 한국에 방문할 예정인 것으로 전...</td>\n",
       "    </tr>\n",
       "    <tr>\n",
       "      <th>17</th>\n",
       "      <td>[화보] 미군 전진기지 오키나와 현지에는…</td>\n",
       "      <td>21세기 세계패권을 놓고 미국과 중국 간의 갈등이 심화되고 있다. 나아가 우크라이나...</td>\n",
       "    </tr>\n",
       "    <tr>\n",
       "      <th>18</th>\n",
       "      <td>[372명 해외입양인들의 진실 찾기] (25) 입양인들도 동등한 권리가 있습니다</td>\n",
       "      <td>제 이름은 니아 경자 리 고 토프타거(Nia Kyeong Ja Lee Koh Tof...</td>\n",
       "    </tr>\n",
       "    <tr>\n",
       "      <th>19</th>\n",
       "      <td>[김재명의 전쟁범죄 이야기 17] 누구를 위한 '역사전쟁'인가 (下②)</td>\n",
       "      <td>독도에 대해 쓰려니 축구선수 박종우의 얼굴이 떠오른다. 그는 지난 2012년 런던 ...</td>\n",
       "    </tr>\n",
       "    <tr>\n",
       "      <th>20</th>\n",
       "      <td>한국은 관보게재까지 마쳤는데…日경산성 \"수출무역관리령 개정 의견수렴 시작\"</td>\n",
       "      <td>일본이 한국을 수출 우대국 '화이트리스트'에 복원시키는 절차에 돌입했다. 지난 3월...</td>\n",
       "    </tr>\n",
       "    <tr>\n",
       "      <th>21</th>\n",
       "      <td>중 외교부 \"워싱턴 선언, 한반도 비핵화 목표와 정반대\"…관영지 \"핵잠 북한 자극 ...</td>\n",
       "      <td>중국이 한미정상회담 공동성명에서 대만 문제가 거론된 것과 확장억제 관련 한미 간 정...</td>\n",
       "    </tr>\n",
       "    <tr>\n",
       "      <th>22</th>\n",
       "      <td>[원광대 '한중관계 브리핑'] 대만해협 전쟁과 한국의 입장</td>\n",
       "      <td>대만 차이잉원(蔡英文) 총통이 3월말 중남미 수교국을 방문했다. 귀국길에는 뉴욕과 ...</td>\n",
       "    </tr>\n",
       "    <tr>\n",
       "      <th>23</th>\n",
       "      <td>워싱턴 선언 평가…\"尹, 미 관심 이끌어낸 것 강조하겠지만 수사에 그쳐\" 분석도</td>\n",
       "      <td>영미권 주요 외신들은 한미 간 핵협의그룹(NCG) 신설을 골자로 한 '워싱턴 선언'...</td>\n",
       "    </tr>\n",
       "    <tr>\n",
       "      <th>24</th>\n",
       "      <td>[서리풀 연구通] 코로나19 백신과 치료제의 지식재산권 유예에 관한 남반구 보건의료...</td>\n",
       "      <td>코로나19 백신이 개발되어 이미 고소득 국가들에서는 2020년 말부터 접종이 시작되...</td>\n",
       "    </tr>\n",
       "    <tr>\n",
       "      <th>25</th>\n",
       "      <td>트럼프 복귀 막으려는 부동층 표심·임신중지권 옹호 여론은 '희망'</td>\n",
       "      <td>조 바이든 미국 대통령이 2024년 대선 출마를 공식 발표했다. 지지율이 신통치 않...</td>\n",
       "    </tr>\n",
       "    <tr>\n",
       "      <th>26</th>\n",
       "      <td>독일 400명·프랑스 500명 등 EU 시민 1000명 이상 대피…한국 교민 28명...</td>\n",
       "      <td>군벌 간 무력 충돌이 벌어지고 있는 수단에서 미국의 중재로 25일(현지시각)부터 사...</td>\n",
       "    </tr>\n",
       "    <tr>\n",
       "      <th>27</th>\n",
       "      <td>미 국빈 방문 앞두고 평가…\"윤, 여가부 폐지 두고 비난 받아\"</td>\n",
       "      <td>윤석열 대통령의 미국 국빈방문을 앞두고 &lt;워싱턴포스트&gt;(WP)는 젠더 문제가 윤 대...</td>\n",
       "    </tr>\n",
       "    <tr>\n",
       "      <th>28</th>\n",
       "      <td>[장석준 칼럼] 신자유주의 앞에 퇴락했대도 여전히 남은 자유의 기억</td>\n",
       "      <td>한 도시가 있다. 오랫동안 나라 전체에서 그렇게 돋보이는 도시는 아니었지만, 미래의...</td>\n",
       "    </tr>\n",
       "    <tr>\n",
       "      <th>29</th>\n",
       "      <td>미국과 중국·한국·일본 등 동아시아도 군비 증강 박차…\"세계 불안정 높아져\" 어두운 전망</td>\n",
       "      <td>러시아의 우크라이나 침공과 그에 따른 서방과 비 서방의 대립으로 지난해 군사 관련 ...</td>\n",
       "    </tr>\n",
       "    <tr>\n",
       "      <th>30</th>\n",
       "      <td>바이든, 공화당 후보에 모두 근소하게 앞서…2024년 대선 가장 중요한 이슈는 \"인...</td>\n",
       "      <td>조 바이든 미국 대통령이 오는 25일 두 번째 대통령 임기에 도전할 것이라는 발표를...</td>\n",
       "    </tr>\n",
       "    <tr>\n",
       "      <th>31</th>\n",
       "      <td>[현장] 해외입양인들이 직접 쓴 입양 서사…\"한국 정부, 합당한 사과해야\"</td>\n",
       "      <td>\"2020년도 팬데믹이 전 세계를 강타했을 때 입양인들이 계시는 14개 국가 26개...</td>\n",
       "    </tr>\n",
       "    <tr>\n",
       "      <th>32</th>\n",
       "      <td>[김재명의 전쟁범죄 이야기 16] 누구를 위한 '역사전쟁'인가 (下①)</td>\n",
       "      <td>한반도를 강탈한 일제는 곧바로 토지조사(정식 이름은 '조선토지조사사업')에 들어갔다...</td>\n",
       "    </tr>\n",
       "    <tr>\n",
       "      <th>33</th>\n",
       "      <td>[372명 해외입양인들의 진실 찾기]  입양인 당사자 운동에 대한 백래시</td>\n",
       "      <td>지난해 가을 372명의 해외입양인들이 한국 진실·화해를위한과거사정리위원회(이하 진실...</td>\n",
       "    </tr>\n",
       "    <tr>\n",
       "      <th>34</th>\n",
       "      <td>[인문견문록] 마이클 샌델의 &lt;당신이 모르는 민주주의&gt;</td>\n",
       "      <td>철학자 마이클 샌델의 책을 오랜만에 읽었다. 원래 영어 제목은 &lt;민주주의의 불만(D...</td>\n",
       "    </tr>\n",
       "    <tr>\n",
       "      <th>35</th>\n",
       "      <td>[원광대 '한중관계 브리핑'] 한중, 한러관계 우호적 유지 위해 신중한 외교적 행보...</td>\n",
       "      <td>승자 없는 우크라이나전쟁은 1년이 넘도록 출구전략을 찾지 못하고 있다. 러시아의 우...</td>\n",
       "    </tr>\n",
       "    <tr>\n",
       "      <th>36</th>\n",
       "      <td>[기고] 옌볜을 통해 동북 3성, 더 나아가 중국으로 뻗어가는 계기 만들어야</td>\n",
       "      <td>최근 중국인들 사이에서 옌볜조선족자치주(이하 옌볜주)가 가장 핫한 여행지 중 하나로...</td>\n",
       "    </tr>\n",
       "    <tr>\n",
       "      <th>37</th>\n",
       "      <td>러 외무부·주한 러대사관 등 연이어 한반도 상황 언급…푸틴 측근 \"러 무기 북한 보...</td>\n",
       "      <td>윤석열 대통령이 전날 외신 인터뷰에서 우크라이나에 대한 무기 지원 가능성을 열어둔 ...</td>\n",
       "    </tr>\n",
       "    <tr>\n",
       "      <th>38</th>\n",
       "      <td>최근 중국·러시아 관계 강화하며 \"미국이 전쟁 조장\" 발언</td>\n",
       "      <td>루이스 이나시우 룰라 다시우바 브라질 대통령이 우크라이나 침공에 대한 반대 입장을 ...</td>\n",
       "    </tr>\n",
       "    <tr>\n",
       "      <th>39</th>\n",
       "      <td>이란과 관계 개선한 사우디, 시리아와도 관계 복원 추진…'아랍 정체성' 보존</td>\n",
       "      <td>사우디아라비아(이하 사우디)가 이란과 관계 개선을 시작으로 시리아와도 관계 복원에 ...</td>\n",
       "    </tr>\n",
       "    <tr>\n",
       "      <th>40</th>\n",
       "      <td>\"미국에 공식 우려 표명\"…지난주 \"놀랍지 않다\" 반응서 돌아서</td>\n",
       "      <td>유출된 미국 기밀문건을 통해 안토니우 구테흐스 유엔(UN) 사무총장에 대한 미 정부...</td>\n",
       "    </tr>\n",
       "    <tr>\n",
       "      <th>41</th>\n",
       "      <td>정부 장악 군부 1·2위 다툼에 민간인 사상 눈덩이…국제사회 중재 시도에도 양쪽 협...</td>\n",
       "      <td>북아프리카 수단에서 정부를 장악하고 있는 군부 세력 간 무력충돌이 사흘째 이어지며 ...</td>\n",
       "    </tr>\n",
       "    <tr>\n",
       "      <th>42</th>\n",
       "      <td>수출길 막힌 우크라 농산물 인접국 몰리며 농민 고통…EU \"단독 행동 용납 못해\" 엄포</td>\n",
       "      <td>폴란드와 헝가리가 우크라이나 곡물 수입 금지 조치를 발표한 데 대해 유럽연합(EU)...</td>\n",
       "    </tr>\n",
       "    <tr>\n",
       "      <th>43</th>\n",
       "      <td>[원광대 '한중관계 브리핑'] 치우청퉁 칭화대 교수 주도로 이뤄지는 수학 엘리트 양성</td>\n",
       "      <td>5G 인터넷과 인공지능 (Artificial Inteligence, 이하 AI) 분...</td>\n",
       "    </tr>\n",
       "    <tr>\n",
       "      <th>44</th>\n",
       "      <td>정부 \"오염수 처리, 과학적이고 객관적으로 안전하고 국제기준에 부합해야\"</td>\n",
       "      <td>일본에서 개최된 주요 7개국(G7) 기후·에너지·환경 장관 회의에서 일본 후쿠시마 ...</td>\n",
       "    </tr>\n",
       "    <tr>\n",
       "      <th>45</th>\n",
       "      <td>여성들 히잡 벗은 채 거리 활보 '저항'… \"히잡 미착용 권유자는 엄중 처벌\"</td>\n",
       "      <td>이란 경찰이 감시 카메라를 이용한 히잡 미착용 여성 단속을 시작했다.\\n\\n영국에 ...</td>\n",
       "    </tr>\n",
       "    <tr>\n",
       "      <th>46</th>\n",
       "      <td>경찰, 용의자 집 수색해 화약 추정 물체 등 압수…기시다 \"폭력 용납 불가\" 규탄</td>\n",
       "      <td>일본 경찰이 기시다 후미오 일본 총리의 보궐선거 지원 유세 현장에 폭발물을 투척한 ...</td>\n",
       "    </tr>\n",
       "    <tr>\n",
       "      <th>47</th>\n",
       "      <td>[김재명의 전쟁범죄 이야기 15] 누구를 위한 '역사전쟁'인가 (中)</td>\n",
       "      <td>'신친일파'들의 주요 논리 가운데 하나가 '식민지 근대화론'이다. 변화와 개혁의 동...</td>\n",
       "    </tr>\n",
       "    <tr>\n",
       "      <th>48</th>\n",
       "      <td>[372명 해외입양인들의 진실 찾기] (24) 우리는 '물건'처럼 거래됐습니다</td>\n",
       "      <td>\"넌 우리에게 마음을 열지 않아, 너무 멀게 느껴져.\"\\n\"넌 우리에게 절대 아무 ...</td>\n",
       "    </tr>\n",
       "    <tr>\n",
       "      <th>49</th>\n",
       "      <td>내부과시 목적 추정…\"우크라전 터지며 유출 시작\" 증언도</td>\n",
       "      <td>미국 기밀 문건 유출 용의자로 미 주방위군 일병이 체포됐다.  \\n\\n미 연방수사국...</td>\n",
       "    </tr>\n",
       "  </tbody>\n",
       "</table>\n",
       "</div>"
      ],
      "text/plain": [
       "                                             subtitle  \\\n",
       "0   [원광대 '한중관계 브리핑'] 중국 광저우 묘지에 안장되어 있는 독립운동가, 김근제...   \n",
       "1                 팔레스타인 27명 사망에 무장단체 인사 추가 살해로 휴전 멀어져   \n",
       "2                 뉴욕 배심원단, 27년전 성폭력 가해에 500만 달러 배상 평결   \n",
       "3                    기념 연설서 이례적 발언…전쟁 원인 '오만한 서방'에 돌려   \n",
       "4        러, 주말 인근 주민 1600명 대피시켜…'원전 인근 격전지 될라' 커지는 우려   \n",
       "5   6일 쇼핑몰 총격범 백인우월주의 경도 정황…7일엔 국경 도시 차량 돌진으로 이민자 ...   \n",
       "6                    일본 포털 사이트 조사 결과 약 70% \"변하지 않을 것\"   \n",
       "7   인근국 난민 부담 더해 사우디·이란 관계 정상화가 발판…미 \"시리아 재가입 자격 없...   \n",
       "8                 '최장기간 왕세자' 꼬리표 떼고 즉위…해리는 참석, 마클은 불참   \n",
       "9                  입양인 고국 방문 등 돕는 美 뉴저지 비영리기관 세종문화교육원   \n",
       "10          [김재명의 전쟁범죄 이야기 18] 누구를 위한 '역사전쟁'인가 (下3)     \n",
       "11              [원광대 '한중관계 브리핑'] 안정적인 아세안 수출 시장 확보 시급   \n",
       "12          [372명 해외입양인들의 진실 찾기] 입양인들이 지난 1년간 밝혀낸 사실들   \n",
       "13  우크라 즉각 부인…일각선 '우크라 봄 반격 앞두고 서방 분열·내부 결속 위한 위장 ...   \n",
       "14           스트리밍 구조 확산·AI 등장 맞물리며 \"직업적 글쓰기 실존 위기 처해\"   \n",
       "15  러, 3일 만에 우크라 재차 공습…\"백지 수표\" 안된다던 매카시는 \"우크라 지원 지...   \n",
       "16                     일본 교도통신 \"7~8일 일정으로 한국 방문 조율 중\"   \n",
       "17                            [화보] 미군 전진기지 오키나와 현지에는…   \n",
       "18       [372명 해외입양인들의 진실 찾기] (25) 입양인들도 동등한 권리가 있습니다   \n",
       "19          [김재명의 전쟁범죄 이야기 17] 누구를 위한 '역사전쟁'인가 (下②)     \n",
       "20          한국은 관보게재까지 마쳤는데…日경산성 \"수출무역관리령 개정 의견수렴 시작\"   \n",
       "21  중 외교부 \"워싱턴 선언, 한반도 비핵화 목표와 정반대\"…관영지 \"핵잠 북한 자극 ...   \n",
       "22                   [원광대 '한중관계 브리핑'] 대만해협 전쟁과 한국의 입장   \n",
       "23       워싱턴 선언 평가…\"尹, 미 관심 이끌어낸 것 강조하겠지만 수사에 그쳐\" 분석도   \n",
       "24  [서리풀 연구通] 코로나19 백신과 치료제의 지식재산권 유예에 관한 남반구 보건의료...   \n",
       "25               트럼프 복귀 막으려는 부동층 표심·임신중지권 옹호 여론은 '희망'   \n",
       "26  독일 400명·프랑스 500명 등 EU 시민 1000명 이상 대피…한국 교민 28명...   \n",
       "27                미 국빈 방문 앞두고 평가…\"윤, 여가부 폐지 두고 비난 받아\"   \n",
       "28              [장석준 칼럼] 신자유주의 앞에 퇴락했대도 여전히 남은 자유의 기억   \n",
       "29  미국과 중국·한국·일본 등 동아시아도 군비 증강 박차…\"세계 불안정 높아져\" 어두운 전망   \n",
       "30  바이든, 공화당 후보에 모두 근소하게 앞서…2024년 대선 가장 중요한 이슈는 \"인...   \n",
       "31          [현장] 해외입양인들이 직접 쓴 입양 서사…\"한국 정부, 합당한 사과해야\"   \n",
       "32          [김재명의 전쟁범죄 이야기 16] 누구를 위한 '역사전쟁'인가 (下①)     \n",
       "33           [372명 해외입양인들의 진실 찾기]  입양인 당사자 운동에 대한 백래시   \n",
       "34                     [인문견문록] 마이클 샌델의 <당신이 모르는 민주주의>   \n",
       "35  [원광대 '한중관계 브리핑'] 한중, 한러관계 우호적 유지 위해 신중한 외교적 행보...   \n",
       "36         [기고] 옌볜을 통해 동북 3성, 더 나아가 중국으로 뻗어가는 계기 만들어야   \n",
       "37  러 외무부·주한 러대사관 등 연이어 한반도 상황 언급…푸틴 측근 \"러 무기 북한 보...   \n",
       "38                   최근 중국·러시아 관계 강화하며 \"미국이 전쟁 조장\" 발언   \n",
       "39         이란과 관계 개선한 사우디, 시리아와도 관계 복원 추진…'아랍 정체성' 보존   \n",
       "40                \"미국에 공식 우려 표명\"…지난주 \"놀랍지 않다\" 반응서 돌아서   \n",
       "41  정부 장악 군부 1·2위 다툼에 민간인 사상 눈덩이…국제사회 중재 시도에도 양쪽 협...   \n",
       "42   수출길 막힌 우크라 농산물 인접국 몰리며 농민 고통…EU \"단독 행동 용납 못해\" 엄포   \n",
       "43   [원광대 '한중관계 브리핑'] 치우청퉁 칭화대 교수 주도로 이뤄지는 수학 엘리트 양성    \n",
       "44           정부 \"오염수 처리, 과학적이고 객관적으로 안전하고 국제기준에 부합해야\"   \n",
       "45        여성들 히잡 벗은 채 거리 활보 '저항'… \"히잡 미착용 권유자는 엄중 처벌\"   \n",
       "46      경찰, 용의자 집 수색해 화약 추정 물체 등 압수…기시다 \"폭력 용납 불가\" 규탄   \n",
       "47           [김재명의 전쟁범죄 이야기 15] 누구를 위한 '역사전쟁'인가 (中)     \n",
       "48        [372명 해외입양인들의 진실 찾기] (24) 우리는 '물건'처럼 거래됐습니다   \n",
       "49                    내부과시 목적 추정…\"우크라전 터지며 유출 시작\" 증언도   \n",
       "\n",
       "                                                 body  \n",
       "0   중국 국민당 육군군관학교(일명 황포군관학교)\\n\\n코로나 팬데믹의 맹위도 어느 정도...  \n",
       "1   팔레스타인 가자지구에 대한 이스라엘의 공습이 사흘째 이어지며 20명이 넘는 팔레스타...  \n",
       "2   도널드 트럼프 미국 전 대통령이 27년 전 저지른 성폭력 관련 민사 소송에서 패소해...  \n",
       "3   블라디미르 푸틴 러시아 대통령이 2차 세계대전 당시 러시아가 독일에 승리한 것을 기...  \n",
       "4   러시아가 주말 우크라이나 남부 자포리자 원전 지역 주민들을 대피시킨 데 이어 수천 ...  \n",
       "5   지난 6일(현지시각) 8명의 희생자를 낳은 미국 텍사스주 댈러스 교외 쇼핑몰 총격범...  \n",
       "6   한일 양국 정상이 두 달 만에 다시 한국에서 만나 회담을 가졌지만 한일 관계에 변화...  \n",
       "7   바샤르 알아사드 정권의 인권 탄압으로 아랍연맹(AL)에서 퇴출됐던 시리아가 12년 ...  \n",
       "8   찰스3세 영국 국왕이 6일(현지시간) 대관식을 갖고 '그레이트브리튼과 북아일랜드 연...  \n",
       "9   지난 4월 19일부터 5월 1일까지 미국, 캐나다, 스웨덴에서 사는 한국 출신 60...  \n",
       "10  '21세기의 지성'으로 일컬어지는 언어학자 노엄 촘스키(1928년생)는 1990년 ...  \n",
       "11  우리나라의 경제 버팀목인 수출이 흔들리고 있어 경제성장에 빨간불이 켜졌다. 산업통상...  \n",
       "12  저와 덴마크 입양인들이 함께 덴마크한국인진상규명그룹(DKRG)을 설립하기로 결정한 ...  \n",
       "13  러시아가 우크라이나 쪽이 무인기(드론)로 대통령궁을 공격해 블라디미르 푸틴 러시아 ...  \n",
       "14  미국 할리우드 영화 및 방송 프로그램 작가들이 파업에 돌입함에 따라 미국 주요 방송...  \n",
       "15  미국 백악관이 지난해 말부터 5달 간 우크라이나 전쟁에서 러시아군 사망자 수가 2만...  \n",
       "16  기시다 후미오(岸田文雄) 일본 총리가 오는 7~8일 한국에 방문할 예정인 것으로 전...  \n",
       "17  21세기 세계패권을 놓고 미국과 중국 간의 갈등이 심화되고 있다. 나아가 우크라이나...  \n",
       "18  제 이름은 니아 경자 리 고 토프타거(Nia Kyeong Ja Lee Koh Tof...  \n",
       "19  독도에 대해 쓰려니 축구선수 박종우의 얼굴이 떠오른다. 그는 지난 2012년 런던 ...  \n",
       "20  일본이 한국을 수출 우대국 '화이트리스트'에 복원시키는 절차에 돌입했다. 지난 3월...  \n",
       "21  중국이 한미정상회담 공동성명에서 대만 문제가 거론된 것과 확장억제 관련 한미 간 정...  \n",
       "22  대만 차이잉원(蔡英文) 총통이 3월말 중남미 수교국을 방문했다. 귀국길에는 뉴욕과 ...  \n",
       "23  영미권 주요 외신들은 한미 간 핵협의그룹(NCG) 신설을 골자로 한 '워싱턴 선언'...  \n",
       "24  코로나19 백신이 개발되어 이미 고소득 국가들에서는 2020년 말부터 접종이 시작되...  \n",
       "25  조 바이든 미국 대통령이 2024년 대선 출마를 공식 발표했다. 지지율이 신통치 않...  \n",
       "26  군벌 간 무력 충돌이 벌어지고 있는 수단에서 미국의 중재로 25일(현지시각)부터 사...  \n",
       "27  윤석열 대통령의 미국 국빈방문을 앞두고 <워싱턴포스트>(WP)는 젠더 문제가 윤 대...  \n",
       "28  한 도시가 있다. 오랫동안 나라 전체에서 그렇게 돋보이는 도시는 아니었지만, 미래의...  \n",
       "29  러시아의 우크라이나 침공과 그에 따른 서방과 비 서방의 대립으로 지난해 군사 관련 ...  \n",
       "30  조 바이든 미국 대통령이 오는 25일 두 번째 대통령 임기에 도전할 것이라는 발표를...  \n",
       "31  \"2020년도 팬데믹이 전 세계를 강타했을 때 입양인들이 계시는 14개 국가 26개...  \n",
       "32  한반도를 강탈한 일제는 곧바로 토지조사(정식 이름은 '조선토지조사사업')에 들어갔다...  \n",
       "33  지난해 가을 372명의 해외입양인들이 한국 진실·화해를위한과거사정리위원회(이하 진실...  \n",
       "34  철학자 마이클 샌델의 책을 오랜만에 읽었다. 원래 영어 제목은 <민주주의의 불만(D...  \n",
       "35  승자 없는 우크라이나전쟁은 1년이 넘도록 출구전략을 찾지 못하고 있다. 러시아의 우...  \n",
       "36  최근 중국인들 사이에서 옌볜조선족자치주(이하 옌볜주)가 가장 핫한 여행지 중 하나로...  \n",
       "37  윤석열 대통령이 전날 외신 인터뷰에서 우크라이나에 대한 무기 지원 가능성을 열어둔 ...  \n",
       "38  루이스 이나시우 룰라 다시우바 브라질 대통령이 우크라이나 침공에 대한 반대 입장을 ...  \n",
       "39  사우디아라비아(이하 사우디)가 이란과 관계 개선을 시작으로 시리아와도 관계 복원에 ...  \n",
       "40  유출된 미국 기밀문건을 통해 안토니우 구테흐스 유엔(UN) 사무총장에 대한 미 정부...  \n",
       "41  북아프리카 수단에서 정부를 장악하고 있는 군부 세력 간 무력충돌이 사흘째 이어지며 ...  \n",
       "42  폴란드와 헝가리가 우크라이나 곡물 수입 금지 조치를 발표한 데 대해 유럽연합(EU)...  \n",
       "43  5G 인터넷과 인공지능 (Artificial Inteligence, 이하 AI) 분...  \n",
       "44  일본에서 개최된 주요 7개국(G7) 기후·에너지·환경 장관 회의에서 일본 후쿠시마 ...  \n",
       "45  이란 경찰이 감시 카메라를 이용한 히잡 미착용 여성 단속을 시작했다.\\n\\n영국에 ...  \n",
       "46  일본 경찰이 기시다 후미오 일본 총리의 보궐선거 지원 유세 현장에 폭발물을 투척한 ...  \n",
       "47  '신친일파'들의 주요 논리 가운데 하나가 '식민지 근대화론'이다. 변화와 개혁의 동...  \n",
       "48  \"넌 우리에게 마음을 열지 않아, 너무 멀게 느껴져.\"\\n\"넌 우리에게 절대 아무 ...  \n",
       "49  미국 기밀 문건 유출 용의자로 미 주방위군 일병이 체포됐다.  \\n\\n미 연방수사국...  "
      ]
     },
     "execution_count": 14,
     "metadata": {},
     "output_type": "execute_result"
    }
   ],
   "source": [
    "import urllib.request #urllib: html 받아오기\n",
    "from bs4 import BeautifulSoup # 태그 가져오기 \n",
    "import pandas as pd\n",
    "\n",
    "li_body = []\n",
    "li_sub = []\n",
    "for i in range(1,6):\n",
    "    url = 'https://www.pressian.com/pages/news-world-list?page=' + str(i)\n",
    "    html = urllib.request.urlopen(url).read().decode(encoding = 'utf-8')  #html가져오기(한글 불러오기 위해 decode 설정)\n",
    "\n",
    "    soup = BeautifulSoup(html, 'html.parser') #parsing파싱: html을 잘 정리해줌 \n",
    "    bodies = soup.find_all(class_ = \"body\") #class가 title인 html 가져오기 \n",
    "    sub_titles = soup.find_all(class_ = \"sub_title\")\n",
    "    for body in bodies:\n",
    "        li_body.append(body.text)# text만 가져오기 (리스트 형식이므로 for문 돌려줌)\n",
    "    for sub in sub_titles:\n",
    "        li_sub.append(sub.text)\n",
    "\n",
    "df = pd.DataFrame({'subtitle': li_sub, 'body':li_body}) #딕셔너리로 컬럼이름 \n",
    "df "
   ]
  },
  {
   "cell_type": "code",
   "execution_count": 19,
   "id": "e8a822fa-d8a8-4f73-8050-524a24d81322",
   "metadata": {
    "tags": []
   },
   "outputs": [],
   "source": [
    "#왜안돼\n",
    "import urllib.request\n",
    "from bs4 import BeautifulSoup\n",
    "import pandas as pd\n",
    "\n",
    "url='https://search.daum.net/search?w=news&DA=PGD&enc=utf8&cluster=y&cluster_page=1&q=%ED%8A%B8%EC%99%80%EC%9D%B4%EC%8A%A4&p=1'\n",
    "html = urllib.request.urlopen(url).read().decode(encoding='utf-8')\n",
    "\n",
    "soup = BeautifulSoup(html, 'html.parser')\n",
    "body =soup.find_all(class_='tit_main fn_tit_u')\n",
    "\n"
   ]
  },
  {
   "cell_type": "code",
   "execution_count": 20,
   "id": "1f184b93-bdcd-4c92-84a3-7f5423dcf4a0",
   "metadata": {
    "tags": []
   },
   "outputs": [
    {
     "data": {
      "text/plain": [
       "[]"
      ]
     },
     "execution_count": 20,
     "metadata": {},
     "output_type": "execute_result"
    }
   ],
   "source": [
    "body"
   ]
  },
  {
   "cell_type": "code",
   "execution_count": 24,
   "id": "9838b44d-24cb-47ae-91df-15f8735cc94a",
   "metadata": {
    "tags": []
   },
   "outputs": [
    {
     "data": {
      "text/plain": [
       "'<script type=\"text/javascript\">\\nlocation.replace( \"https://captcha.search.daum.net/show?redirect=http%3A%2F%2Fsearch.daum.net%2Fsearch%3Fw%3Dnews%26DA%3DPGD%26enc%3Dutf8%26cluster%3Dy%26cluster_page%3D1%26q%3D%25ED%258A%25B8%25EC%2599%2580%25EC%259D%25B4%25EC%258A%25A4%26p%3D1\" );\\n</script>\\n'"
      ]
     },
     "execution_count": 24,
     "metadata": {},
     "output_type": "execute_result"
    }
   ],
   "source": [
    "html"
   ]
  },
  {
   "cell_type": "code",
   "execution_count": 25,
   "id": "0d343cb8-41f5-4757-aa73-3320699e6169",
   "metadata": {
    "tags": []
   },
   "outputs": [],
   "source": [
    "#안되는이유 : 기계가 썼다생각해서 막아버림\n",
    "#위에 사이트 들어가면 막아져있음 -> User-Agent"
   ]
  },
  {
   "cell_type": "code",
   "execution_count": 26,
   "id": "ad849411-754a-41dd-ac7a-9ed2dfd0408a",
   "metadata": {
    "tags": []
   },
   "outputs": [
    {
     "ename": "SyntaxError",
     "evalue": "invalid syntax (3998761102.py, line 1)",
     "output_type": "error",
     "traceback": [
      "\u001b[1;36m  Cell \u001b[1;32mIn[26], line 1\u001b[1;36m\u001b[0m\n\u001b[1;33m    headers=\u001b[0m\n\u001b[1;37m            ^\u001b[0m\n\u001b[1;31mSyntaxError\u001b[0m\u001b[1;31m:\u001b[0m invalid syntax\n"
     ]
    }
   ],
   "source": [
    "headers={'User-Agent': '유저정보'}\n",
    "url= '가고싶은 사이트'\n",
    "import requests\n",
    "html = requests.get(url, headers=headers)"
   ]
  },
  {
   "cell_type": "code",
   "execution_count": 35,
   "id": "b768786a-57b7-477b-8aa1-7b2e8fd0fd03",
   "metadata": {
    "tags": []
   },
   "outputs": [
    {
     "data": {
      "text/plain": [
       "[<a class=\"tit_main fn_tit_u\" href=\"https://v.daum.net/v/20230512070444431?f=o\" onclick='smartLog(this, \"dc=NNS&amp;d=26rrnbLuAuUPp1fBqp&amp;pg=1&amp;r=1&amp;p=4&amp;rc=10&amp;e1=16fEGriEE1VVeRH5aC&amp;e3=0&amp;ext=dsid=26rrnbLuAuUPp1fBqp\", event, {\"cpid\": {\"value\": \"16fEGriEE1VVeRH5aC\"}});' target=\"_blank\"><b>TWICE</b>(<b>트와이스</b>) ‘오사카로 월드투어 떠나요~’[포토엔HD]</a>,\n",
       " <a class=\"tit_main fn_tit_u\" href=\"https://v.daum.net/v/20230512114046779?f=o\" onclick='smartLog(this, \"dc=NNS&amp;d=265_bnSXVWlmzq5mwJ&amp;pg=1&amp;r=2&amp;p=4&amp;rc=10&amp;e1=16Tr4PLF2A9hpwE3H3&amp;e3=0&amp;ext=dsid=265_bnSXVWlmzq5mwJ\", event, {\"cpid\": {\"value\": \"16Tr4PLF2A9hpwE3H3\"}});' target=\"_blank\"><b>트와이스</b> 채영, '멋스럽게' [사진]</a>,\n",
       " <a class=\"tit_main fn_tit_u\" href=\"https://v.daum.net/v/20230512114018760?f=o\" onclick='smartLog(this, \"dc=NNS&amp;d=26wMqEMi6Z4oLOT-5j&amp;pg=1&amp;r=3&amp;p=4&amp;rc=10&amp;e1=16Tr4PLF2A9hpwE3H3&amp;e3=0&amp;ext=dsid=26wMqEMi6Z4oLOT-5j\", event, {\"cpid\": {\"value\": \"16Tr4PLF2A9hpwE3H3\"}});' target=\"_blank\"><b>트와이스</b> 미나, '청순미 흩날리며' [사진]</a>,\n",
       " <a class=\"tit_main fn_tit_u\" href=\"https://v.daum.net/v/20230512120042476?f=o\" onclick='smartLog(this, \"dc=NNS&amp;d=263pBbaEselV8dTdOe&amp;pg=1&amp;r=4&amp;p=4&amp;rc=10&amp;e1=16Tr4PLF2A9hpwE3H3&amp;e3=0&amp;ext=dsid=263pBbaEselV8dTdOe\", event, {\"cpid\": {\"value\": \"16Tr4PLF2A9hpwE3H3\"}});' target=\"_blank\"><b>트와이스</b> 쯔위, 하트 청바지 [사진]</a>,\n",
       " <a class=\"tit_main fn_tit_u\" href=\"https://v.daum.net/v/20230512114517947?f=o\" onclick='smartLog(this, \"dc=NNS&amp;d=26Lt6KPz1VTFhllqWC&amp;pg=1&amp;r=5&amp;p=4&amp;rc=10&amp;e1=16Tr4PLF2A9hpwE3H3&amp;e3=0&amp;ext=dsid=26Lt6KPz1VTFhllqWC\", event, {\"cpid\": {\"value\": \"16Tr4PLF2A9hpwE3H3\"}});' target=\"_blank\">‘아침에도 빛나는 트둥이들’ <b>트와이스</b>(<b>TWICE</b>) 출국 [O! STAR]</a>,\n",
       " <a class=\"tit_main fn_tit_u\" href=\"https://v.daum.net/v/20230512115146170?f=o\" onclick='smartLog(this, \"dc=NNS&amp;d=26zqSDSvm0L3iI_8mI&amp;pg=1&amp;r=6&amp;p=4&amp;rc=10&amp;e1=16Tr4PLF2A9hpwE3H3&amp;e3=0&amp;ext=dsid=26zqSDSvm0L3iI_8mI\", event, {\"cpid\": {\"value\": \"16Tr4PLF2A9hpwE3H3\"}});' target=\"_blank\"><b>트와이스</b> 채영 '금발 헤어스타일' [사진]</a>,\n",
       " <a class=\"tit_main fn_tit_u\" href=\"https://v.daum.net/v/20230512071217541?f=o\" onclick='smartLog(this, \"dc=NNS&amp;d=263tIN1CvsVN9OjndY&amp;pg=1&amp;r=7&amp;p=4&amp;rc=10&amp;e1=16LejXKUJH-lny6LlF&amp;e3=0&amp;ext=dsid=263tIN1CvsVN9OjndY\", event, {\"cpid\": {\"value\": \"16LejXKUJH-lny6LlF\"}});' target=\"_blank\">[MD포토] <b>트와이스</b> 나연 '콜록콜록, 환절기 힘들어'</a>,\n",
       " <a class=\"tit_main fn_tit_u\" href=\"https://v.daum.net/v/20230512115148171?f=o\" onclick='smartLog(this, \"dc=NNS&amp;d=26zL92s-ty_uwcwg4A&amp;pg=1&amp;r=8&amp;p=4&amp;rc=10&amp;e1=16Tr4PLF2A9hpwE3H3&amp;e3=0&amp;ext=dsid=26zL92s-ty_uwcwg4A\", event, {\"cpid\": {\"value\": \"16Tr4PLF2A9hpwE3H3\"}});' target=\"_blank\"><b>트와이스</b>, 일본 오사카 월드투어 떠나요 [사진]</a>,\n",
       " <a class=\"tit_main fn_tit_u\" href=\"https://v.daum.net/v/20230512070708491?f=o\" onclick='smartLog(this, \"dc=NNS&amp;d=26w1JH_ijHY5xMpN9f&amp;pg=1&amp;r=9&amp;p=4&amp;rc=10&amp;e1=16FcCE4DCiMb6a4Fz6&amp;e3=0&amp;ext=dsid=26w1JH_ijHY5xMpN9f\", event, {\"cpid\": {\"value\": \"16FcCE4DCiMb6a4Fz6\"}});' target=\"_blank\"><b>트와이스</b> 미나 '청초한 미모'[★포토]</a>,\n",
       " <a class=\"tit_main fn_tit_u\" href=\"https://v.daum.net/v/20230512071325559?f=o\" onclick='smartLog(this, \"dc=NNS&amp;d=26698BrxebhjKNahoR&amp;pg=1&amp;r=10&amp;p=4&amp;rc=10&amp;e1=16FcCE4DCiMb6a4Fz6&amp;e3=0&amp;ext=dsid=26698BrxebhjKNahoR\", event, {\"cpid\": {\"value\": \"16FcCE4DCiMb6a4Fz6\"}});' target=\"_blank\"><b>트와이스</b> 나연-정연 '일본공연 떠나요'[★포토]</a>]"
      ]
     },
     "execution_count": 35,
     "metadata": {},
     "output_type": "execute_result"
    }
   ],
   "source": [
    "#왜안돼\n",
    "\n",
    "from bs4 import BeautifulSoup\n",
    "import pandas as pd\n",
    "import requests #header로 user-agent \n",
    "headers={'User-Agent': 'Mozilla/5.0 (Windows NT 10.0; Win64; x64) AppleWebKit/537.36 (KHTML, like Gecko) Chrome/113.0.0.0 Safari/537.36 Edg/113.0.1774.35'}\n",
    "url='https://search.daum.net/search?w=news&DA=PGD&enc=utf8&cluster=y&cluster_page=1&q=%ED%8A%B8%EC%99%80%EC%9D%B4%EC%8A%A4&p=1'\n",
    "html = requests.get(url, headers= headers) #requests.get(url, headers=headers)\n",
    "\n",
    "soup = BeautifulSoup(html.text, 'html.parser') #.text 붙여주기\n",
    "\n",
    "\n",
    "body =soup.find_all(class_='tit_main fn_tit_u')\n",
    "\n",
    "body"
   ]
  },
  {
   "cell_type": "code",
   "execution_count": 34,
   "id": "04f29471-43b5-4843-a3bf-299d7e388536",
   "metadata": {
    "tags": []
   },
   "outputs": [
    {
     "data": {
      "text/plain": [
       "<Response [200]>"
      ]
     },
     "execution_count": 34,
     "metadata": {},
     "output_type": "execute_result"
    }
   ],
   "source": [
    "html"
   ]
  },
  {
   "cell_type": "code",
   "execution_count": 38,
   "id": "2fa469c2-2e45-4fe9-adab-bd12544eb9c8",
   "metadata": {
    "tags": []
   },
   "outputs": [
    {
     "data": {
      "text/html": [
       "<div>\n",
       "<style scoped>\n",
       "    .dataframe tbody tr th:only-of-type {\n",
       "        vertical-align: middle;\n",
       "    }\n",
       "\n",
       "    .dataframe tbody tr th {\n",
       "        vertical-align: top;\n",
       "    }\n",
       "\n",
       "    .dataframe thead th {\n",
       "        text-align: right;\n",
       "    }\n",
       "</style>\n",
       "<table border=\"1\" class=\"dataframe\">\n",
       "  <thead>\n",
       "    <tr style=\"text-align: right;\">\n",
       "      <th></th>\n",
       "    </tr>\n",
       "  </thead>\n",
       "  <tbody>\n",
       "  </tbody>\n",
       "</table>\n",
       "</div>"
      ],
      "text/plain": [
       "Empty DataFrame\n",
       "Columns: []\n",
       "Index: []"
      ]
     },
     "execution_count": 38,
     "metadata": {},
     "output_type": "execute_result"
    }
   ],
   "source": [
    "import urllib.request\n",
    "from bs4 import BeautifulSoup\n",
    "import pandas as pd\n",
    "\n",
    "\n",
    "url='https://section.blog.naver.com/BlogHome.naver?directoryNo=0&currentPage=1&groupId=0'\n",
    "html = urllib.request.urlopen(url).read().decode(encoding='utf-8')\n",
    "\n",
    "soup = BeautifulSoup(html, 'html.parser')\n",
    "body =soup.find_all(class_='title_post')\n",
    "for title in body:\n",
    "    li.append(title.text)\n",
    "pd.DataFrame(li)"
   ]
  },
  {
   "cell_type": "code",
   "execution_count": 45,
   "id": "8fd1ef5a-5128-4ac6-9e91-2ed3c3c76b63",
   "metadata": {
    "tags": []
   },
   "outputs": [
    {
     "name": "stdout",
     "output_type": "stream",
     "text": [
      "https://section.blog.naver.com/BlogHome.naver?directoryNo=0&currentPage=1&groupId=0\n",
      "[<strong class=\"title\">블로그 주소 변경 불가 안내</strong>, <strong class=\"title\">블로그 아이디가 필요해요!</strong>, <strong class=\"title\">엔터테인먼트·예술</strong>, <strong class=\"title\">생활·노하우·쇼핑</strong>, <strong class=\"title\">취미·여가·여행</strong>, <strong class=\"title\">지식·동향</strong>, <strong class=\"title\">주제없음</strong>, <strong class=\"title\" data-content=\"title\"></strong>]\n",
      "https://section.blog.naver.com/BlogHome.naver?directoryNo=0&currentPage=1&groupId=1\n",
      "[<strong class=\"title\">블로그 주소 변경 불가 안내</strong>, <strong class=\"title\">블로그 아이디가 필요해요!</strong>, <strong class=\"title\">엔터테인먼트·예술</strong>, <strong class=\"title\">생활·노하우·쇼핑</strong>, <strong class=\"title\">취미·여가·여행</strong>, <strong class=\"title\">지식·동향</strong>, <strong class=\"title\">주제없음</strong>, <strong class=\"title\" data-content=\"title\"></strong>]\n",
      "https://section.blog.naver.com/BlogHome.naver?directoryNo=0&currentPage=1&groupId=2\n",
      "[<strong class=\"title\">블로그 주소 변경 불가 안내</strong>, <strong class=\"title\">블로그 아이디가 필요해요!</strong>, <strong class=\"title\">엔터테인먼트·예술</strong>, <strong class=\"title\">생활·노하우·쇼핑</strong>, <strong class=\"title\">취미·여가·여행</strong>, <strong class=\"title\">지식·동향</strong>, <strong class=\"title\">주제없음</strong>, <strong class=\"title\" data-content=\"title\"></strong>]\n"
     ]
    }
   ],
   "source": [
    "import urllib.request\n",
    "url_1 = 'https://section.blog.naver.com/BlogHome.naver?directoryNo=0&currentPage=1&groupId='\n",
    "for i in range(3):\n",
    "    url =  url_1+str(i)\n",
    "    print(url)\n",
    "    html = urllib.request.urlopen(url).read().decode(encoding='utf-8')\n",
    "    soup = BeautifulSoup(html, 'html.parser')\n",
    "    title_part = soup.find_all(class_='title')\n",
    "    print(title_part)"
   ]
  },
  {
   "cell_type": "code",
   "execution_count": 43,
   "id": "fbff6e07-6ea4-458f-b09c-1820ffd2142b",
   "metadata": {
    "tags": []
   },
   "outputs": [
    {
     "data": {
      "text/plain": [
       "[]"
      ]
     },
     "execution_count": 43,
     "metadata": {},
     "output_type": "execute_result"
    }
   ],
   "source": [
    "title_part"
   ]
  },
  {
   "cell_type": "code",
   "execution_count": null,
   "id": "c6f95f4e-dfa5-4539-9479-8034ff547fd2",
   "metadata": {},
   "outputs": [],
   "source": []
  }
 ],
 "metadata": {
  "kernelspec": {
   "display_name": "Python 3 (ipykernel)",
   "language": "python",
   "name": "python3"
  },
  "language_info": {
   "codemirror_mode": {
    "name": "ipython",
    "version": 3
   },
   "file_extension": ".py",
   "mimetype": "text/x-python",
   "name": "python",
   "nbconvert_exporter": "python",
   "pygments_lexer": "ipython3",
   "version": "3.10.9"
  }
 },
 "nbformat": 4,
 "nbformat_minor": 5
}
