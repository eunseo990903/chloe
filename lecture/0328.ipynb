{
 "cells": [
  {
   "cell_type": "code",
   "execution_count": 1,
   "id": "dd0925a7-f45f-4df8-a80e-162c49bddf27",
   "metadata": {
    "tags": []
   },
   "outputs": [
    {
     "name": "stdout",
     "output_type": "stream",
     "text": [
      "김승규\n",
      "김태환\n",
      "김진수\n",
      "김민재\n",
      "김영권\n",
      "정우영\n",
      "손흥민\n",
      "황인범\n",
      "조규성\n",
      "이재성\n",
      "황희찬\n"
     ]
    }
   ],
   "source": [
    "member = ['김승규','김태환','김진수', '김민재','김영권','정우영','손흥민','황인범','조규성','이재성','황희찬' ]\n",
    "for i in member:\n",
    "    print(i)"
   ]
  },
  {
   "cell_type": "code",
   "execution_count": 2,
   "id": "99a0b1d6-db23-4ddd-bae3-332af42ee4d7",
   "metadata": {
    "tags": []
   },
   "outputs": [
    {
     "name": "stdout",
     "output_type": "stream",
     "text": [
      "1번 김승규\n",
      "2번 김태환\n",
      "3번 김진수\n",
      "4번 김민재\n",
      "5번 김영권\n",
      "6번 정우영\n",
      "7번 손흥민\n",
      "8번 황인범\n",
      "9번 조규성\n",
      "10번 이재성\n",
      "11번 황희찬\n"
     ]
    }
   ],
   "source": [
    "for num, name in enumerate(member):\n",
    "    print(f'{num+1}번 {name}') "
   ]
  },
  {
   "cell_type": "code",
   "execution_count": 5,
   "id": "fefb7f0d-dad4-448c-bf72-57a14249320e",
   "metadata": {
    "tags": []
   },
   "outputs": [
    {
     "data": {
      "text/plain": [
       "{1: '김승규',\n",
       " 2: '김태환',\n",
       " 3: '김진수',\n",
       " 4: '김민재',\n",
       " 5: '김영권',\n",
       " 6: '정우영',\n",
       " 7: '손흥민',\n",
       " 8: '황인범',\n",
       " 9: '조규성',\n",
       " 10: '이재성',\n",
       " 11: '황희찬'}"
      ]
     },
     "execution_count": 5,
     "metadata": {},
     "output_type": "execute_result"
    }
   ],
   "source": [
    "di = dict()\n",
    "for i,j in enumerate (member):\n",
    "    di[i+1]=j\n",
    "di"
   ]
  },
  {
   "cell_type": "code",
   "execution_count": 12,
   "id": "de2afdda-0f07-4339-8b28-4913f9898a33",
   "metadata": {
    "tags": []
   },
   "outputs": [
    {
     "data": {
      "text/plain": [
       "{1: '김승규',\n",
       " 2: '김태환',\n",
       " 3: '김진수',\n",
       " 4: '김민재',\n",
       " 5: '김영권',\n",
       " 6: '정우영',\n",
       " 7: '손흥민',\n",
       " 8: '황인범',\n",
       " 9: '조규성',\n",
       " 10: '이재성',\n",
       " 11: '황희찬'}"
      ]
     },
     "execution_count": 12,
     "metadata": {},
     "output_type": "execute_result"
    }
   ],
   "source": [
    "{i+1:j for i,j in enumerate (member)}"
   ]
  },
  {
   "cell_type": "code",
   "execution_count": 16,
   "id": "122d0d3f-2527-4791-85f2-66bee0b4821e",
   "metadata": {
    "tags": []
   },
   "outputs": [
    {
     "data": {
      "text/plain": [
       "{1: '김승규',\n",
       " 2: '김태환',\n",
       " 3: '김진수',\n",
       " 4: '김민재',\n",
       " 5: '김영권',\n",
       " 6: '정우영',\n",
       " 7: '손흥민',\n",
       " 8: '황인범',\n",
       " 9: '조규성',\n",
       " 10: '이재성',\n",
       " 11: '황희찬',\n",
       " 18: '이강인'}"
      ]
     },
     "execution_count": 16,
     "metadata": {},
     "output_type": "execute_result"
    }
   ],
   "source": [
    "#이강인 추가\n",
    "di.update({18:'이강인'})\n",
    "di"
   ]
  },
  {
   "cell_type": "code",
   "execution_count": 58,
   "id": "a4c0a55d-6491-4111-bd58-98db072ef2a0",
   "metadata": {
    "tags": []
   },
   "outputs": [
    {
     "data": {
      "text/plain": [
       "array([[[ 1,  2,  3],\n",
       "        [ 4,  5,  6]],\n",
       "\n",
       "       [[ 7,  8,  9],\n",
       "        [10, 11, 12]],\n",
       "\n",
       "       [[13, 14, 15],\n",
       "        [16, 17, 18]],\n",
       "\n",
       "       [[19, 20, 21],\n",
       "        [22, 23, 24]],\n",
       "\n",
       "       [[25, 26, 27],\n",
       "        [28, 29, 30]]])"
      ]
     },
     "execution_count": 58,
     "metadata": {},
     "output_type": "execute_result"
    }
   ],
   "source": [
    "import numpy as np\n",
    "np.arange(1,31).reshape(5,2,3) #2행 3열 5층 "
   ]
  },
  {
   "cell_type": "code",
   "execution_count": null,
   "id": "93378058-57d2-4752-b3a5-3873f5ede184",
   "metadata": {},
   "outputs": [],
   "source": [
    "#행렬 곱셈표현 (내적) \n",
    "a.dot(b)\n",
    "a@b\n",
    "np.dot(a,b) "
   ]
  },
  {
   "cell_type": "code",
   "execution_count": 26,
   "id": "87608f8a-4ff2-4927-838c-1f1c3c81284c",
   "metadata": {
    "tags": []
   },
   "outputs": [
    {
     "data": {
      "text/plain": [
       "['red', 'yellow', 'purple', 'green', 'blue', 'white']"
      ]
     },
     "execution_count": 26,
     "metadata": {},
     "output_type": "execute_result"
    }
   ],
   "source": [
    "#2차원 (중첩) \n",
    "data = [['red','yellow','purple'],['green','blue','white']] \n",
    "data[0]+data[1]"
   ]
  },
  {
   "cell_type": "code",
   "execution_count": 30,
   "id": "3066dd8a-6429-448f-ad05-4fca98c7f8d2",
   "metadata": {
    "tags": []
   },
   "outputs": [
    {
     "data": {
      "text/plain": [
       "['red', 'yellow', 'purple', 'green', 'blue', 'white']"
      ]
     },
     "execution_count": 30,
     "metadata": {},
     "output_type": "execute_result"
    }
   ],
   "source": [
    "[j for i in data for j in i]"
   ]
  },
  {
   "cell_type": "code",
   "execution_count": 33,
   "id": "220b6350-3549-4778-a186-b512922b75c8",
   "metadata": {
    "tags": []
   },
   "outputs": [
    {
     "data": {
      "text/plain": [
       "['yellow', 'purple']"
      ]
     },
     "execution_count": 33,
     "metadata": {},
     "output_type": "execute_result"
    }
   ],
   "source": [
    "#6글자 이상만 추출\n",
    "[j for i in data for j in i if len(j)>=6]"
   ]
  },
  {
   "cell_type": "code",
   "execution_count": 42,
   "id": "3009af38-61a0-44e3-aa4c-a6dc45e2a420",
   "metadata": {
    "tags": []
   },
   "outputs": [
    {
     "data": {
      "text/plain": [
       "{'americano': 2000, 'cafe latte': 3000, 'chocolate latte': 4000}"
      ]
     },
     "execution_count": 42,
     "metadata": {},
     "output_type": "execute_result"
    }
   ],
   "source": [
    "menu = [\"americano\", \"cafe latte\", \"chocolate latte\"] \n",
    "price = [2000, 3000, 4000] \n",
    "\n",
    "dict(zip(menu,price))"
   ]
  },
  {
   "cell_type": "code",
   "execution_count": 46,
   "id": "a7088fd4-9d4d-4fec-bb28-0a63c97d91d7",
   "metadata": {
    "tags": []
   },
   "outputs": [
    {
     "data": {
      "text/plain": [
       "{'americano': 2000, 'cafe latte': 3000, 'chocolate latte': 4000}"
      ]
     },
     "execution_count": 46,
     "metadata": {},
     "output_type": "execute_result"
    }
   ],
   "source": [
    "data={}\n",
    "for i,j in zip(menu,price):\n",
    "    data[i]=j\n",
    "data"
   ]
  },
  {
   "cell_type": "code",
   "execution_count": 48,
   "id": "914b5cce-f01f-4554-b4e3-30a72280894e",
   "metadata": {
    "tags": []
   },
   "outputs": [
    {
     "data": {
      "text/plain": [
       "array([[ 1,  2,  3,  4,  5],\n",
       "       [ 6,  7,  8,  9, 10]])"
      ]
     },
     "execution_count": 48,
     "metadata": {},
     "output_type": "execute_result"
    }
   ],
   "source": [
    "a= np.arange(1,11).reshape(2,5)\n",
    "a"
   ]
  },
  {
   "cell_type": "code",
   "execution_count": 51,
   "id": "7334b416-986a-4ef2-a1d2-fb8f7d39231d",
   "metadata": {
    "tags": []
   },
   "outputs": [
    {
     "data": {
      "text/plain": [
       "array([ 7,  9, 11, 13, 15])"
      ]
     },
     "execution_count": 51,
     "metadata": {},
     "output_type": "execute_result"
    }
   ],
   "source": [
    "a[0]+a[1]  "
   ]
  },
  {
   "cell_type": "markdown",
   "id": "712046b7-390d-4d26-b8ee-91a40126bdc9",
   "metadata": {
    "tags": []
   },
   "source": [
    "#hash 알고리즘\n",
    "단방향 (복귀불가)\n",
    "길이가 일정 (길이랑 상관없이 해시를 거치면 결과값 같음)"
   ]
  },
  {
   "cell_type": "code",
   "execution_count": 54,
   "id": "ebcf9284-3134-4c19-ab0b-75c5af1d0f77",
   "metadata": {
    "tags": []
   },
   "outputs": [
    {
     "data": {
      "text/plain": [
       "array([[ 1,  2,  3,  4,  5,  6],\n",
       "       [ 7,  8,  9, 10, 11, 12],\n",
       "       [13, 14, 15, 16, 17, 18],\n",
       "       [19, 20, 21, 22, 23, 24],\n",
       "       [25, 26, 27, 28, 29, 30]], dtype=uint16)"
      ]
     },
     "execution_count": 54,
     "metadata": {},
     "output_type": "execute_result"
    }
   ],
   "source": [
    "b=np.arange(1,31,dtype=np.uint16).reshape(5,6)\n",
    "b"
   ]
  },
  {
   "cell_type": "code",
   "execution_count": 60,
   "id": "650745a4-0ae5-4d90-95f8-16092e847702",
   "metadata": {
    "tags": []
   },
   "outputs": [
    {
     "data": {
      "text/plain": [
       "[<matplotlib.lines.Line2D at 0x20be79a0880>]"
      ]
     },
     "execution_count": 60,
     "metadata": {},
     "output_type": "execute_result"
    },
    {
     "data": {
      "image/png": "[encoded data removed]",
      "text/plain": [
       "<Figure size 640x480 with 1 Axes>"
      ]
     },
     "metadata": {},
     "output_type": "display_data"
    }
   ],
   "source": [
    "import matplotlib.pyplot as plt \n",
    "x= np.linspace(0,2*np.pi,100)\n",
    "np.sin(x)\n",
    "plt.plot(x,np.sin(x))"
   ]
  },
  {
   "cell_type": "code",
   "execution_count": 89,
   "id": "9c705a8c-d134-4c2b-98f8-2115e17336a5",
   "metadata": {
    "tags": []
   },
   "outputs": [
    {
     "data": {
      "text/plain": [
       "{}"
      ]
     },
     "execution_count": 90,
     "metadata": {},
     "output_type": "execute_result"
    }
   ],
   "source": [
    "di1={'apple':['사과','애플'],\n",
    "     'banana': ['바나나','빠나나'],\n",
    "     'cherry': ['체리']}\n",
    "di2={}\n",
    "for i,j in di1.items():\n",
    "    if: \n",
    "    else: \n",
    "        di2[j]=i\n",
    "    \n",
    "di2"
   ]
  },
  {
   "cell_type": "code",
   "execution_count": 101,
   "id": "03cb8594-84e5-46bd-8045-9ff49828be97",
   "metadata": {
    "tags": []
   },
   "outputs": [
    {
     "name": "stdout",
     "output_type": "stream",
     "text": [
      "['사과', '애플'] apple\n",
      "['바나나', '빠나나'] banana\n",
      "['체리'] cherry\n"
     ]
    }
   ],
   "source": [
    "di1={'apple':['사과','애플'],\n",
    "     'banana': ['바나나','빠나나'],\n",
    "     'cherry': ['체리']}\n",
    "di2={}\n",
    "for j,i in di1.items():\n",
    "    map(di2.keys(),di2.values())\n",
    "    print(i,j)\n",
    "\n"
   ]
  },
  {
   "cell_type": "code",
   "execution_count": 76,
   "id": "73c699a2-f954-424d-9585-b2db7b94c9c3",
   "metadata": {
    "tags": []
   },
   "outputs": [
    {
     "data": {
      "text/plain": [
       "{'사과': 'apple',\n",
       " '애플': 'apple',\n",
       " '바나나': 'banana',\n",
       " '빠나나': 'banana',\n",
       " '체리': 'cherry'}"
      ]
     },
     "execution_count": 76,
     "metadata": {},
     "output_type": "execute_result"
    }
   ],
   "source": [
    "di2 = {}\n",
    "for i, j in di1.items():\n",
    "    if type(j) == list:\n",
    "        for k in range(len(j)):\n",
    "            di2[j[k]] = i\n",
    "    else:\n",
    "        di2[j] = i\n",
    "di2 "
   ]
  },
  {
   "cell_type": "code",
   "execution_count": 102,
   "id": "56b866fe-8728-4cb5-9bd0-3a84d41d9610",
   "metadata": {
    "tags": []
   },
   "outputs": [
    {
     "data": {
      "text/plain": [
       "{'사과': 'apple',\n",
       " '애플': 'apple',\n",
       " '바나나': 'banana',\n",
       " '빠나나': 'banana',\n",
       " '체리': 'cherry'}"
      ]
     },
     "execution_count": 102,
     "metadata": {},
     "output_type": "execute_result"
    }
   ],
   "source": [
    "di2 = {}\n",
    "for key,values in di1.items():\n",
    "    if isinstance(values, list):\n",
    "        for value in values:\n",
    "            di2[value] = key\n",
    "            \n",
    "    else:\n",
    "        di2[values] = key\n",
    "di2 "
   ]
  },
  {
   "cell_type": "code",
   "execution_count": 5,
   "id": "12f33133-aab0-4797-91d9-51b0715d7bda",
   "metadata": {
    "tags": []
   },
   "outputs": [
    {
     "data": {
      "text/plain": [
       "'python'"
      ]
     },
     "execution_count": 5,
     "metadata": {},
     "output_type": "execute_result"
    }
   ],
   "source": [
    "strings = (\"PpYytThoHOnN\")\n",
    "p = re.compile(\"[a-z]\")\n",
    "p1 = re.compile(\"[A-Z]\")\n",
    "p.sub('',strings)\n",
    "p1.sub('',strings) "
   ]
  },
  {
   "cell_type": "code",
   "execution_count": 13,
   "id": "54f09775-f5bc-4856-ad47-64007bcb1334",
   "metadata": {},
   "outputs": [
    {
     "name": "stdout",
     "output_type": "stream",
     "text": [
      "PYTHON JUPYTER python jupyter "
     ]
    }
   ],
   "source": [
    "strings = [\"PpYytThoHOnN\", \"jJuUPpYyTteErR\"] \n",
    "import re\n",
    "p1 = re.compile(\"[A-Z]+\")\n",
    "p2 = re.compile(\"[a-z]+\") \n",
    "for string in strings:\n",
    "    print(\"\".join(p1.findall(string)), end = \" \")\n",
    "p2 = re.compile(\"[a-z]\")\n",
    "for string in strings:\n",
    "    print(\"\".join(p2.findall(string)), end = \" \") "
   ]
  },
  {
   "cell_type": "code",
   "execution_count": 15,
   "id": "39dfd0cc-eaf7-4fe6-bc73-9dea6be8e91f",
   "metadata": {
    "tags": []
   },
   "outputs": [
    {
     "data": {
      "text/plain": [
       "array([[1., 1., 1., 1.],\n",
       "       [1., 1., 1., 1.],\n",
       "       [1., 1., 1., 1.]])"
      ]
     },
     "execution_count": 15,
     "metadata": {},
     "output_type": "execute_result"
    }
   ],
   "source": [
    "import numpy as np\n",
    "np.ones((3,4))"
   ]
  },
  {
   "cell_type": "code",
   "execution_count": 16,
   "id": "55106fe4-614d-47f4-bfdf-69c229ed5647",
   "metadata": {
    "tags": []
   },
   "outputs": [
    {
     "data": {
      "text/plain": [
       "array([[0., 0., 0.],\n",
       "       [0., 0., 0.],\n",
       "       [0., 0., 0.]])"
      ]
     },
     "execution_count": 16,
     "metadata": {},
     "output_type": "execute_result"
    }
   ],
   "source": [
    "b= np.zeros((3,3))\n",
    "b"
   ]
  },
  {
   "cell_type": "code",
   "execution_count": 17,
   "id": "bf9b188e-210a-4404-8f45-9385386c485e",
   "metadata": {
    "tags": []
   },
   "outputs": [
    {
     "data": {
      "text/plain": [
       "array([[0., 0., 0.],\n",
       "       [0., 0., 0.],\n",
       "       [3., 0., 0.]])"
      ]
     },
     "execution_count": 17,
     "metadata": {},
     "output_type": "execute_result"
    }
   ],
   "source": [
    "b[2,0]=3 #sparse matrix\n",
    "b"
   ]
  },
  {
   "cell_type": "code",
   "execution_count": 19,
   "id": "c9e9ac1b-44d2-4e45-a1f4-36e18a8faaa0",
   "metadata": {
    "tags": []
   },
   "outputs": [
    {
     "data": {
      "text/plain": [
       "array([[6.23042070e-307, 4.67296746e-307, 1.69121096e-306,\n",
       "        9.34609111e-307, 1.11256817e-306, 1.06811422e-306,\n",
       "        1.42417221e-306, 1.11260619e-306],\n",
       "       [8.90094053e-307, 1.86919378e-306, 1.06809792e-306,\n",
       "        1.37962456e-306, 1.69111861e-306, 1.78020169e-306,\n",
       "        7.56605918e-307, 5.33590898e-322]])"
      ]
     },
     "execution_count": 19,
     "metadata": {},
     "output_type": "execute_result"
    }
   ],
   "source": [
    "np.empty((2,8))"
   ]
  },
  {
   "cell_type": "code",
   "execution_count": 25,
   "id": "7d00467d-c966-4500-b459-bffa3880a28f",
   "metadata": {
    "tags": []
   },
   "outputs": [
    {
     "data": {
      "text/plain": [
       "array([[0, 0, 0],\n",
       "       [0, 0, 0]])"
      ]
     },
     "execution_count": 25,
     "metadata": {},
     "output_type": "execute_result"
    }
   ],
   "source": [
    "a= np.arange(6).reshape(2,3)\n",
    "a\n",
    "np.zeros_like(a)"
   ]
  },
  {
   "cell_type": "markdown",
   "id": "1a1a1f4d-6b63-47e3-952c-b680cd64ec1c",
   "metadata": {
    "tags": []
   },
   "source": [
    "li1=list(range(1000))\n",
    "li2=list(range(1000))\n",
    "li3=[]\n",
    "\n",
    "def test_list():\n",
    "    for i in range(1000):\n",
    "         li3.append(li1[i]+li2[i])\n",
    "    return li3\n",
    "test_list()\n",
    "li3"
   ]
  },
  {
   "cell_type": "markdown",
   "id": "877e1735-0c74-4fe7-aa20-80c684db796b",
   "metadata": {
    "tags": []
   },
   "source": [
    "arr1=np.array(range(1000))\n",
    "arr2=np.array(range(1000))\n",
    "\n",
    "def test_array():\n",
    "    arr3=arr2+arr1\n",
    "    return arr3\n",
    "test_array()\n",
    "\n"
   ]
  },
  {
   "cell_type": "code",
   "execution_count": 86,
   "id": "adeda73d-10a4-4cb6-96e2-9e038e876214",
   "metadata": {
    "tags": []
   },
   "outputs": [
    {
     "name": "stdout",
     "output_type": "stream",
     "text": [
      "94.8 µs ± 4.31 µs per loop (mean ± std. dev. of 7 runs, 10,000 loops each)\n"
     ]
    }
   ],
   "source": [
    "%timeit test_list()"
   ]
  },
  {
   "cell_type": "code",
   "execution_count": 85,
   "id": "f93eff47-012e-4040-9cdd-16766272ab1c",
   "metadata": {
    "tags": []
   },
   "outputs": [
    {
     "name": "stdout",
     "output_type": "stream",
     "text": [
      "1.12 µs ± 10.9 ns per loop (mean ± std. dev. of 7 runs, 1,000,000 loops each)\n"
     ]
    }
   ],
   "source": [
    "%timeit test_array()"
   ]
  },
  {
   "cell_type": "markdown",
   "id": "e17b8862-ae0b-4ca3-a734-423be5cb9bb5",
   "metadata": {},
   "source": [
    "### 배열결합"
   ]
  },
  {
   "cell_type": "code",
   "execution_count": null,
   "id": "76ef9418-2a27-4fbe-b48e-b3b9037ded77",
   "metadata": {},
   "outputs": [
    {
     "data": {
      "text/plain": [
       "array([ 0, 10, 20, 30, 40])"
      ]
     },
     "execution_count": 88,
     "metadata": {},
     "output_type": "execute_result"
    }
   ],
   "source": [
    "a = np.arange(5)\n",
    "a*10"
   ]
  },
  {
   "cell_type": "code",
   "execution_count": 89,
   "id": "b840c130-b93f-459d-b260-38a763684750",
   "metadata": {
    "tags": []
   },
   "outputs": [
    {
     "data": {
      "text/plain": [
       "array([[ 0, 10, 20, 30, 40],\n",
       "       [ 0, 20, 40, 60, 80]])"
      ]
     },
     "execution_count": 89,
     "metadata": {},
     "output_type": "execute_result"
    }
   ],
   "source": [
    "np.vstack([a*10,a*20])"
   ]
  },
  {
   "cell_type": "code",
   "execution_count": 91,
   "id": "f0d0c77b-1129-4eb2-b4d2-f778dbb92306",
   "metadata": {
    "tags": []
   },
   "outputs": [
    {
     "data": {
      "text/plain": [
       "(2, 5)"
      ]
     },
     "execution_count": 91,
     "metadata": {},
     "output_type": "execute_result"
    }
   ],
   "source": [
    "np.vstack([a*10,a*20]).shape "
   ]
  },
  {
   "cell_type": "code",
   "execution_count": 93,
   "id": "a93f33f6-2e5a-474b-9afa-24d39bff92ca",
   "metadata": {
    "tags": []
   },
   "outputs": [
    {
     "data": {
      "text/plain": [
       "array([ 0, 10, 20, 30, 40,  0, 20, 40, 60, 80])"
      ]
     },
     "execution_count": 93,
     "metadata": {},
     "output_type": "execute_result"
    }
   ],
   "source": [
    "np.hstack([a*10,a*20])"
   ]
  },
  {
   "cell_type": "code",
   "execution_count": 94,
   "id": "e3d36852-9778-46b3-bd4a-079c71e4500b",
   "metadata": {
    "tags": []
   },
   "outputs": [
    {
     "data": {
      "text/plain": [
       "(10,)"
      ]
     },
     "execution_count": 94,
     "metadata": {},
     "output_type": "execute_result"
    }
   ],
   "source": [
    "np.hstack([a*10,a*20]).shape "
   ]
  },
  {
   "cell_type": "code",
   "execution_count": 94,
   "id": "68a1b740-4ab1-4172-a3e7-795cde2ca531",
   "metadata": {
    "tags": []
   },
   "outputs": [
    {
     "data": {
      "text/plain": [
       "(10,)"
      ]
     },
     "execution_count": 94,
     "metadata": {},
     "output_type": "execute_result"
    }
   ],
   "source": [
    "np.hstack([a*10,a*20]).shape #hstack 리스트 가능"
   ]
  },
  {
   "cell_type": "code",
   "execution_count": 106,
   "id": "fd83f701-031d-4200-94eb-95a657165ec3",
   "metadata": {
    "tags": []
   },
   "outputs": [
    {
     "data": {
      "text/plain": [
       "(3, 1, 2)"
      ]
     },
     "execution_count": 106,
     "metadata": {},
     "output_type": "execute_result"
    }
   ],
   "source": [
    "#dstack = depth , wise (소괄호로만 묶기) \n",
    "a= np.array([[1],[2],[3]])\n",
    "b = np.array([[4],[5],[6]])\n",
    "\n",
    "np.dstack((a,b)).shape"
   ]
  },
  {
   "cell_type": "markdown",
   "id": "49b5bc03-b036-4106-90ca-64bfce5b147b",
   "metadata": {},
   "source": [
    "## 배열의 분리 hsplit vsplit\n",
    "\n",
    "결과물에 따라"
   ]
  },
  {
   "cell_type": "code",
   "execution_count": 108,
   "id": "f2bece93-2ed7-47d2-bb2c-9323661c8b74",
   "metadata": {
    "tags": []
   },
   "outputs": [
    {
     "data": {
      "text/plain": [
       "[array([[ 1,  2,  3],\n",
       "        [ 7,  8,  9],\n",
       "        [13, 14, 15],\n",
       "        [19, 20, 21]]),\n",
       " array([[ 4,  5,  6],\n",
       "        [10, 11, 12],\n",
       "        [16, 17, 18],\n",
       "        [22, 23, 24]])]"
      ]
     },
     "execution_count": 108,
     "metadata": {},
     "output_type": "execute_result"
    }
   ],
   "source": [
    "a= np.arange(1,25).reshape((4,6))\n",
    "np.hsplit(a,2)"
   ]
  },
  {
   "cell_type": "code",
   "execution_count": 110,
   "id": "0e0494bb-78a2-4898-bfa5-667f351bd446",
   "metadata": {
    "tags": []
   },
   "outputs": [
    {
     "data": {
      "text/plain": [
       "[array([[ 1,  2,  3,  4,  5,  6],\n",
       "        [ 7,  8,  9, 10, 11, 12]]),\n",
       " array([[13, 14, 15, 16, 17, 18],\n",
       "        [19, 20, 21, 22, 23, 24]])]"
      ]
     },
     "execution_count": 110,
     "metadata": {},
     "output_type": "execute_result"
    }
   ],
   "source": [
    "np.vsplit(a,2)"
   ]
  },
  {
   "cell_type": "code",
   "execution_count": 113,
   "id": "ff635bfb-1f7b-4d69-806e-f32c11cd73e9",
   "metadata": {
    "tags": []
   },
   "outputs": [],
   "source": [
    "a=np.arange(2,8)"
   ]
  },
  {
   "cell_type": "code",
   "execution_count": 114,
   "id": "bd8e09fe-d4a7-456a-afea-c486b650359a",
   "metadata": {
    "tags": []
   },
   "outputs": [
    {
     "data": {
      "text/plain": [
       "array([[2, 3, 4, 5, 6, 7]])"
      ]
     },
     "execution_count": 114,
     "metadata": {},
     "output_type": "execute_result"
    }
   ],
   "source": [
    "a.reshape(-1,6)"
   ]
  },
  {
   "cell_type": "code",
   "execution_count": 117,
   "id": "2403a9fd-31a5-437b-9ade-1d36858cbd4b",
   "metadata": {
    "tags": []
   },
   "outputs": [
    {
     "data": {
      "text/plain": [
       "array([2, 3, 4, 5, 6, 7])"
      ]
     },
     "execution_count": 117,
     "metadata": {},
     "output_type": "execute_result"
    }
   ],
   "source": [
    "a= a.flatten()\n",
    "a"
   ]
  },
  {
   "cell_type": "code",
   "execution_count": 118,
   "id": "e6f2f504-c741-4c5f-b642-ccddab67ac14",
   "metadata": {
    "tags": []
   },
   "outputs": [
    {
     "data": {
      "text/plain": [
       "array([2, 3, 4, 5, 6, 7])"
      ]
     },
     "execution_count": 118,
     "metadata": {},
     "output_type": "execute_result"
    }
   ],
   "source": [
    "a.ravel()"
   ]
  },
  {
   "cell_type": "markdown",
   "id": "ed71d35d-4b8e-4faa-bdb9-82171774eeaa",
   "metadata": {},
   "source": [
    "##transpose #자기 자신 행렬을 곱할때 "
   ]
  },
  {
   "cell_type": "code",
   "execution_count": 119,
   "id": "ef730169-43cb-408c-817a-20d2af2fe8a2",
   "metadata": {
    "tags": []
   },
   "outputs": [],
   "source": [
    "a=np.arange(1)"
   ]
  },
  {
   "cell_type": "code",
   "execution_count": 124,
   "id": "80d9be1b-da6b-4758-abba-8a9a6f8c9223",
   "metadata": {
    "tags": []
   },
   "outputs": [],
   "source": [
    "a=np.arange(1,5).reshape(2,2)"
   ]
  },
  {
   "cell_type": "code",
   "execution_count": 127,
   "id": "7c369d2a-6850-4c91-a23c-dd94bf3f0b27",
   "metadata": {
    "tags": []
   },
   "outputs": [
    {
     "data": {
      "text/plain": [
       "array([[1, 3],\n",
       "       [2, 4]])"
      ]
     },
     "execution_count": 127,
     "metadata": {},
     "output_type": "execute_result"
    }
   ],
   "source": [
    "np.transpose(a)\n",
    "a.T"
   ]
  },
  {
   "cell_type": "code",
   "execution_count": 130,
   "id": "e1313f58-ddc8-45c6-87f1-1640fb2e1f2d",
   "metadata": {
    "tags": []
   },
   "outputs": [
    {
     "data": {
      "text/plain": [
       "array([[ 1,  3,  5],\n",
       "       [ 3, 13, 23],\n",
       "       [ 5, 23, 41]])"
      ]
     },
     "execution_count": 130,
     "metadata": {},
     "output_type": "execute_result"
    }
   ],
   "source": [
    "a = np.arange(6).reshape(3,2)\n",
    "a@a.T"
   ]
  },
  {
   "cell_type": "code",
   "execution_count": 131,
   "id": "932ba44d-64fb-422f-b5e6-f21f571f4375",
   "metadata": {
    "tags": []
   },
   "outputs": [
    {
     "ename": "NameError",
     "evalue": "name 'ravel' is not defined",
     "output_type": "error",
     "traceback": [
      "\u001b[1;31m---------------------------------------------------------------------------\u001b[0m",
      "\u001b[1;31mNameError\u001b[0m                                 Traceback (most recent call last)",
      "Cell \u001b[1;32mIn[131], line 1\u001b[0m\n\u001b[1;32m----> 1\u001b[0m \u001b[43mravel\u001b[49m \u001b[38;5;241m>\u001b[39m 참조 \n",
      "\u001b[1;31mNameError\u001b[0m: name 'ravel' is not defined"
     ]
    }
   ],
   "source": [
    "ravel > 참조 "
   ]
  },
  {
   "cell_type": "code",
   "execution_count": 132,
   "id": "ecf0d589-4c0c-4d8c-b2cc-d742e416ac14",
   "metadata": {
    "tags": []
   },
   "outputs": [],
   "source": [
    "## comparisom sort indexing"
   ]
  },
  {
   "cell_type": "code",
   "execution_count": 133,
   "id": "4aa63f3d-3576-4058-a377-88fe2c6744e0",
   "metadata": {
    "tags": []
   },
   "outputs": [
    {
     "data": {
      "text/plain": [
       "array([ True,  True, False])"
      ]
     },
     "execution_count": 133,
     "metadata": {},
     "output_type": "execute_result"
    }
   ],
   "source": [
    "a = np.array([1,2,3])\n",
    "b= np.array ([1,2,4])\n",
    "a==b # 하나하나에 비교 "
   ]
  },
  {
   "cell_type": "code",
   "execution_count": 139,
   "id": "1d1510ef-17b8-4d64-b336-04f414630815",
   "metadata": {
    "tags": []
   },
   "outputs": [],
   "source": [
    "c= np.array([3,2,1,6,5,4])"
   ]
  },
  {
   "cell_type": "code",
   "execution_count": 140,
   "id": "21ad4dfd-f661-4d41-b6a4-caa6d5672391",
   "metadata": {
    "tags": []
   },
   "outputs": [
    {
     "data": {
      "text/plain": [
       "array([1, 2, 3, 4, 5, 6])"
      ]
     },
     "execution_count": 140,
     "metadata": {},
     "output_type": "execute_result"
    }
   ],
   "source": [
    "np.sort(c)"
   ]
  },
  {
   "cell_type": "code",
   "execution_count": 143,
   "id": "4c2ad60e-5be4-483c-9ac1-13a670b97697",
   "metadata": {
    "tags": []
   },
   "outputs": [
    {
     "data": {
      "text/plain": [
       "array([1, 2, 3, 4, 5, 6])"
      ]
     },
     "execution_count": 143,
     "metadata": {},
     "output_type": "execute_result"
    }
   ],
   "source": [
    "c.sort()\n",
    "c"
   ]
  },
  {
   "cell_type": "code",
   "execution_count": 145,
   "id": "095c3dfa-fcf5-45d6-8956-0fa72d7e980d",
   "metadata": {
    "tags": []
   },
   "outputs": [
    {
     "data": {
      "text/plain": [
       "array([6, 5, 4, 3, 2, 1])"
      ]
     },
     "execution_count": 145,
     "metadata": {},
     "output_type": "execute_result"
    }
   ],
   "source": [
    "np.sort(c)[::-1]"
   ]
  },
  {
   "cell_type": "code",
   "execution_count": 153,
   "id": "62bf113e-400b-468d-86ba-facbf78141c8",
   "metadata": {
    "tags": []
   },
   "outputs": [
    {
     "name": "stdout",
     "output_type": "stream",
     "text": [
      "[[2 1 6]\n",
      " [0 7 4]\n",
      " [5 3 2]]\n"
     ]
    },
    {
     "data": {
      "text/plain": [
       "array([[0, 1, 2],\n",
       "       [2, 3, 4],\n",
       "       [5, 7, 6]])"
      ]
     },
     "execution_count": 153,
     "metadata": {},
     "output_type": "execute_result"
    }
   ],
   "source": [
    "a = np.array([[2,1,6],[0,7,4],[5,3,2]])\n",
    "print(a)\n",
    "np.sort(a, axis=0)# row 205 순서로 정렬 "
   ]
  },
  {
   "cell_type": "code",
   "execution_count": 152,
   "id": "859b906a-4ebd-4a4d-93a3-2881b1536544",
   "metadata": {
    "tags": []
   },
   "outputs": [
    {
     "data": {
      "text/plain": [
       "array([[1, 2, 6],\n",
       "       [0, 4, 7],\n",
       "       [2, 3, 5]])"
      ]
     },
     "execution_count": 152,
     "metadata": {},
     "output_type": "execute_result"
    }
   ],
   "source": [
    "np.sort(a, axis=1) #coulmn 정렬 216의 순서 "
   ]
  },
  {
   "cell_type": "code",
   "execution_count": 155,
   "id": "596a848c-3d48-4773-b502-3d2ab6e604a2",
   "metadata": {
    "tags": []
   },
   "outputs": [
    {
     "data": {
      "text/plain": [
       "array([[ 0,  1,  2,  3],\n",
       "       [10, 11, 12, -1]])"
      ]
     },
     "execution_count": 155,
     "metadata": {},
     "output_type": "execute_result"
    }
   ],
   "source": [
    "d= np.array([[0,1,2,3],[10,11,12,-1]])\n",
    "d"
   ]
  },
  {
   "cell_type": "code",
   "execution_count": 158,
   "id": "a4cb264d-659f-4f75-8c97-445611cf575d",
   "metadata": {
    "tags": []
   },
   "outputs": [
    {
     "data": {
      "text/plain": [
       "array([10, 11, 12, 13])"
      ]
     },
     "execution_count": 158,
     "metadata": {},
     "output_type": "execute_result"
    }
   ],
   "source": [
    "e = np.arange(4)\n",
    "e+10"
   ]
  },
  {
   "cell_type": "code",
   "execution_count": 161,
   "id": "c3873ad4-643f-4d39-b583-3650db3b200c",
   "metadata": {
    "tags": []
   },
   "outputs": [
    {
     "data": {
      "text/plain": [
       "array([[ 0,  1,  2,  3],\n",
       "       [10, 11, 12, 13]])"
      ]
     },
     "execution_count": 161,
     "metadata": {},
     "output_type": "execute_result"
    }
   ],
   "source": [
    "e=np.vstack([e,e+10])\n",
    "e"
   ]
  },
  {
   "cell_type": "code",
   "execution_count": 163,
   "id": "e0b96ffe-0f47-41e7-bfe2-5458aaed9e8e",
   "metadata": {
    "tags": []
   },
   "outputs": [
    {
     "data": {
      "text/plain": [
       "array([[ 0,  1,  2,  3],\n",
       "       [10, 11, 12, -1]])"
      ]
     },
     "execution_count": 163,
     "metadata": {},
     "output_type": "execute_result"
    }
   ],
   "source": [
    "e[1,3]=-1\n",
    "e"
   ]
  },
  {
   "cell_type": "code",
   "execution_count": 165,
   "id": "1c40f7a3-e3d2-41a8-b7de-dc070a1fab8f",
   "metadata": {
    "tags": []
   },
   "outputs": [
    {
     "data": {
      "text/plain": [
       "array([10, 11, 12, -1])"
      ]
     },
     "execution_count": 165,
     "metadata": {},
     "output_type": "execute_result"
    }
   ],
   "source": [
    "e[1, :   ]"
   ]
  },
  {
   "cell_type": "code",
   "execution_count": 166,
   "id": "db643be8-0907-4709-bac1-9f51c40028e6",
   "metadata": {
    "tags": []
   },
   "outputs": [
    {
     "data": {
      "text/plain": [
       "10"
      ]
     },
     "execution_count": 166,
     "metadata": {},
     "output_type": "execute_result"
    }
   ],
   "source": [
    "e[1][0]"
   ]
  },
  {
   "cell_type": "code",
   "execution_count": 167,
   "id": "aaecd413-e777-4535-a2c9-0660841133b2",
   "metadata": {
    "tags": []
   },
   "outputs": [
    {
     "data": {
      "text/plain": [
       "10"
      ]
     },
     "execution_count": 167,
     "metadata": {},
     "output_type": "execute_result"
    }
   ],
   "source": [
    "e[1,0]"
   ]
  },
  {
   "cell_type": "code",
   "execution_count": 174,
   "id": "d4650232-1d59-4261-8020-bd720279ade8",
   "metadata": {
    "tags": []
   },
   "outputs": [
    {
     "data": {
      "text/plain": [
       "array([ 2, 12, 22, 32, 42, 52])"
      ]
     },
     "execution_count": 174,
     "metadata": {},
     "output_type": "execute_result"
    }
   ],
   "source": [
    "f =np.arange(6)\n",
    "f= np.vstack([f,f+10,f+20,f+30,f+40,f+50])\n",
    "f[:,2]"
   ]
  },
  {
   "cell_type": "code",
   "execution_count": null,
   "id": "43318e5e-9f27-4afc-9092-f8f37bef5a1a",
   "metadata": {},
   "outputs": [],
   "source": [
    "#slicing\n",
    "var[lower:upper:step]\n",
    "값 수정"
   ]
  },
  {
   "cell_type": "code",
   "execution_count": 175,
   "id": "ebedd31f-31fc-40bb-8a5a-b46f2c8c6805",
   "metadata": {
    "tags": []
   },
   "outputs": [
    {
     "data": {
      "text/plain": [
       "array([0, 1, 2])"
      ]
     },
     "execution_count": 175,
     "metadata": {},
     "output_type": "execute_result"
    }
   ],
   "source": [
    "a = np.array([0,1,2,3,4])\n",
    "b=a[:3]\n",
    "b"
   ]
  },
  {
   "cell_type": "code",
   "execution_count": 176,
   "id": "8587bc6e-816f-4e2d-b267-de5704541c78",
   "metadata": {
    "tags": []
   },
   "outputs": [
    {
     "data": {
      "text/plain": [
       "array([100,   1,   2])"
      ]
     },
     "execution_count": 176,
     "metadata": {},
     "output_type": "execute_result"
    }
   ],
   "source": [
    "b[0]=100\n",
    "b"
   ]
  },
  {
   "cell_type": "code",
   "execution_count": 177,
   "id": "201a3353-b1ca-4d60-84ab-6a5fd9ff26fa",
   "metadata": {
    "tags": []
   },
   "outputs": [
    {
     "data": {
      "text/plain": [
       "array([100,   1,   2,   3,   4])"
      ]
     },
     "execution_count": 177,
     "metadata": {},
     "output_type": "execute_result"
    }
   ],
   "source": [
    "a"
   ]
  },
  {
   "cell_type": "code",
   "execution_count": 197,
   "id": "29e33f0d-d545-4bbe-88cc-6d8227713d43",
   "metadata": {
    "tags": []
   },
   "outputs": [
    {
     "name": "stdout",
     "output_type": "stream",
     "text": [
      "[20 21 22 23 24]\n",
      "[[ 1  3]\n",
      " [ 6  8]\n",
      " [11 13]\n",
      " [16 18]\n",
      " [21 23]]\n",
      "[[ 5  7]\n",
      " [15 17]]\n"
     ]
    }
   ],
   "source": [
    "g=np.arange(5)\n",
    "g=np.vstack([g,g+5,g+10,g+15,g+20])\n",
    "print(g[4])\n",
    "print(g[:, 1::2])\n",
    "print(g[1::2, :4:2])"
   ]
  },
  {
   "cell_type": "code",
   "execution_count": 198,
   "id": "8b3dff8a-fb1c-480f-a75c-f53874a069e1",
   "metadata": {
    "tags": []
   },
   "outputs": [
    {
     "data": {
      "text/plain": [
       "array([ 0, 10, 20, 30, 40, 50, 60, 70])"
      ]
     },
     "execution_count": 198,
     "metadata": {},
     "output_type": "execute_result"
    }
   ],
   "source": [
    "## fancy indexing\n",
    "a= np.arange(0,80, step=10)\n",
    "a"
   ]
  },
  {
   "cell_type": "code",
   "execution_count": 201,
   "id": "b18a2fc4-0c57-4506-af7a-e3749722b732",
   "metadata": {
    "tags": []
   },
   "outputs": [
    {
     "data": {
      "text/plain": [
       "array([10, 20, 50])"
      ]
     },
     "execution_count": 201,
     "metadata": {},
     "output_type": "execute_result"
    }
   ],
   "source": [
    "a[[1,2,-3]] #[ ]안묶으면 행열(1행 2열 ,,,) 로 착각할 수 있음 "
   ]
  },
  {
   "cell_type": "code",
   "execution_count": 203,
   "id": "fbf8093b-705d-4618-9129-fccfdc048d54",
   "metadata": {
    "tags": []
   },
   "outputs": [
    {
     "data": {
      "text/plain": [
       "array([ 0, 99, 99, 30, 40, 99, 60, 70])"
      ]
     },
     "execution_count": 203,
     "metadata": {},
     "output_type": "execute_result"
    }
   ],
   "source": [
    "indecies = [1,2,-3]\n",
    "a[indecies]=99\n",
    "a"
   ]
  },
  {
   "cell_type": "code",
   "execution_count": 205,
   "id": "754966d3-12bb-47a7-96d8-65ca2bfef6d2",
   "metadata": {
    "tags": []
   },
   "outputs": [
    {
     "data": {
      "text/plain": [
       "array([False,  True,  True, False, False,  True, False, False])"
      ]
     },
     "execution_count": 205,
     "metadata": {},
     "output_type": "execute_result"
    }
   ],
   "source": [
    "## boolean\n",
    "mask =np.array([0,1,1,0,0,1,0,0], dtype='bool')\n",
    "\n",
    "mask"
   ]
  },
  {
   "cell_type": "code",
   "execution_count": 209,
   "id": "8fba2463-dce3-4e90-a04f-42103dd4a925",
   "metadata": {
    "tags": []
   },
   "outputs": [
    {
     "data": {
      "text/plain": [
       "array([ 0, 99, 99, 30, 40, 99, 60, 70])"
      ]
     },
     "execution_count": 209,
     "metadata": {},
     "output_type": "execute_result"
    }
   ],
   "source": [
    "a[mask] # 참만 갖고나옴 \n",
    "a"
   ]
  },
  {
   "cell_type": "code",
   "execution_count": null,
   "id": "9e238079-dd8d-465c-9842-82928ef9bdd4",
   "metadata": {},
   "outputs": [],
   "source": [
    "#행렬뽑기랑 boolean 이용해서 참만 뽑기 "
   ]
  },
  {
   "cell_type": "code",
   "execution_count": 208,
   "id": "d4b1f6ae-ac13-49ec-aa72-d2bc29d2160d",
   "metadata": {
    "tags": []
   },
   "outputs": [
    {
     "data": {
      "text/plain": [
       "array([99, 99, 99, 60, 70])"
      ]
     },
     "execution_count": 208,
     "metadata": {},
     "output_type": "execute_result"
    }
   ],
   "source": [
    "a[a>40]"
   ]
  },
  {
   "cell_type": "code",
   "execution_count": 216,
   "id": "ca9e8518-ec29-4b08-8987-7aeeefd0807e",
   "metadata": {
    "tags": []
   },
   "outputs": [
    {
     "data": {
      "text/plain": [
       "array([ 1, 10])"
      ]
     },
     "execution_count": 216,
     "metadata": {},
     "output_type": "execute_result"
    }
   ],
   "source": [
    "h= np.array([1,10])\n",
    "h"
   ]
  },
  {
   "cell_type": "code",
   "execution_count": 218,
   "id": "4e046c56-8f1b-4090-962c-a422f7b231b7",
   "metadata": {
    "tags": []
   },
   "outputs": [
    {
     "data": {
      "text/plain": [
       "array([[ 0,  1,  2,  3,  4],\n",
       "       [ 4,  5,  6,  7,  8],\n",
       "       [14, 15, 16, 17, 18],\n",
       "       [24, 25, 26, 27, 28],\n",
       "       [34, 35, 36, 37, 38]])"
      ]
     },
     "execution_count": 218,
     "metadata": {},
     "output_type": "execute_result"
    }
   ],
   "source": [
    "g=np.arange(5)\n",
    "g=np.vstack([g,g+4,g+14,g+24,g+34])\n",
    "g"
   ]
  },
  {
   "cell_type": "code",
   "execution_count": 224,
   "id": "5e3577de-dd17-4b8d-a832-d14e01bb97b7",
   "metadata": {
    "tags": []
   },
   "outputs": [
    {
     "data": {
      "text/plain": [
       "array([24, 25, 26, 27, 28, 34, 35, 36, 37, 38])"
      ]
     },
     "execution_count": 224,
     "metadata": {},
     "output_type": "execute_result"
    }
   ],
   "source": [
    "g[g>20]"
   ]
  },
  {
   "cell_type": "code",
   "execution_count": 226,
   "id": "7eb0cca2-0943-4441-a2a6-a62d1894baf7",
   "metadata": {
    "tags": []
   },
   "outputs": [
    {
     "name": "stdout",
     "output_type": "stream",
     "text": [
      "[[ 4  6]\n",
      " [24 26]]\n"
     ]
    }
   ],
   "source": [
    "print(g[1::2, :3:2])"
   ]
  },
  {
   "cell_type": "code",
   "execution_count": null,
   "id": "5cb094d8-3683-43f8-b1a4-aaca40c963b1",
   "metadata": {},
   "outputs": [],
   "source": []
  }
 ],
 "metadata": {
  "kernelspec": {
   "display_name": "Python 3 (ipykernel)",
   "language": "python",
   "name": "python3"
  },
  "language_info": {
   "codemirror_mode": {
    "name": "ipython",
    "version": 3
   },
   "file_extension": ".py",
   "mimetype": "text/x-python",
   "name": "python",
   "nbconvert_exporter": "python",
   "pygments_lexer": "ipython3",
   "version": "3.10.9"
  }
 },
 "nbformat": 4,
 "nbformat_minor": 5
}
