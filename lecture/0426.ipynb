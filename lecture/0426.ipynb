{
 "cells": [
  {
   "cell_type": "code",
   "execution_count": 2,
   "id": "0d6ecbc4-2787-4771-b639-1f443df66576",
   "metadata": {},
   "outputs": [],
   "source": [
    "import pandas as pd\n",
    "import numpy as np\n",
    "import random\n",
    "import matplotlib.pyplot as plt\n",
    "from numpy import nan as NA\n",
    "import pydataset\n",
    "from sklearn.tree import DecisionTreeClassifier\n",
    "from sklearn.model_selection import train_test_split\n",
    "from sklearn.metrics import accuracy_score\n",
    "from sklearn.model_selection import GridSearchCV\n",
    "from sklearn.preprocessing import StandardScaler\n",
    "from sklearn.preprocessing import StandardScaler"
   ]
  },
  {
   "cell_type": "code",
   "execution_count": 8,
   "id": "b079d26b-c216-41fc-932c-ed4c91e66183",
   "metadata": {},
   "outputs": [
    {
     "data": {
      "text/plain": [
       "0.9532163742690059"
      ]
     },
     "execution_count": 8,
     "metadata": {},
     "output_type": "execute_result"
    }
   ],
   "source": [
    "\n",
    "\n",
    "\n",
    "x = cancer.data\n",
    "y = cancer.target\n",
    "\n",
    "x_train, x_test, y_train, y_test = train_test_split(x, y, test_size = 0.3)\n",
    "dt_clf = DecisionTreeClassifier()\n",
    "dt_clf.fit(x_train, y_train)\n",
    "pred = dt_clf.predict(x_test) \n",
    "pred\n",
    "\n",
    "accuracy_score(y_test,pred)"
   ]
  },
  {
   "cell_type": "code",
   "execution_count": 7,
   "id": "5738c008-546a-4b63-adf2-bdb04d02f4a8",
   "metadata": {},
   "outputs": [
    {
     "data": {
      "text/plain": [
       "0.9415204678362573"
      ]
     },
     "execution_count": 7,
     "metadata": {},
     "output_type": "execute_result"
    }
   ],
   "source": [
    "min_samples_leaf=1, "
   ]
  },
  {
   "cell_type": "code",
   "execution_count": 104,
   "id": "baa7595f-7a24-41ff-9418-8d6fecd98221",
   "metadata": {},
   "outputs": [
    {
     "data": {
      "text/plain": [
       "0.9385964912280702"
      ]
     },
     "execution_count": 104,
     "metadata": {},
     "output_type": "execute_result"
    }
   ],
   "source": [
    "#Soft Voting 사용 \n",
    "from sklearn.datasets import load_breast_cancer\n",
    "from sklearn.tree import DecisionTreeClassifier\n",
    "from sklearn.linear_model import LogisticRegression\n",
    "from sklearn.neighbors import KNeighborsClassifier\n",
    "from sklearn.ensemble import VotingClassifier\n",
    "\n",
    "cancer = load_breast_cancer()\n",
    "x_tr,x_te,y_tr,y_te = train_test_split(cancer.data,cancer.target, test_size=0.2, random_state=156)\n",
    "l = LogisticRegression(solver='liblinear')\n",
    "k = KNeighborsClassifier(n_neighbors=8) \n",
    "d=DecisionTreeClassifier()\n",
    "\n",
    "vo_clf=VotingClassifier(estimators=[('LR',l), ('knn',k), ('D',d)],voting= 'soft')\n",
    "vo_clf.fit(x_tr,y_tr)\n",
    "pred=vo_clf.predict(x_te)\n",
    "accuracy_score(y_te,pred)"
   ]
  },
  {
   "cell_type": "code",
   "execution_count": 106,
   "id": "a6f1be9e-04ab-4f1c-ac1d-97109e0cc72b",
   "metadata": {},
   "outputs": [
    {
     "data": {
      "text/plain": [
       "0.956140350877193"
      ]
     },
     "execution_count": 106,
     "metadata": {},
     "output_type": "execute_result"
    }
   ],
   "source": [
    "vo_clf=VotingClassifier(estimators=[('LR',l), ('knn',k)],voting= 'soft')\n",
    "vo_clf.fit(x_tr,y_tr)\n",
    "pred=vo_clf.predict(x_te)\n",
    "accuracy_score(y_te,pred)\n",
    "\n",
    "##?d위에가 더 낮아야댐 "
   ]
  },
  {
   "cell_type": "code",
   "execution_count": 107,
   "id": "7f01bb24-131e-4f96-8f02-6ce7c36dbdaf",
   "metadata": {},
   "outputs": [
    {
     "data": {
      "text/plain": [
       "0.5319148936170213"
      ]
     },
     "execution_count": 107,
     "metadata": {},
     "output_type": "execute_result"
    }
   ],
   "source": [
    "from pydataset import data\n",
    "from sklearn.model_selection import GridSearchCV\n",
    "from sklearn.ensemble import RandomForestClassifier\n",
    "from pydataset import data\n",
    "mpg = data('mpg')\n",
    "x_tr,x_te,y_tr,y_te = train_test_split(mpg.iloc[:,[2,4,7,8]],mpg['class'],test_size=0.2)\n",
    "p = {'max_depth':[8,16],'min_samples_split':[2,8,16], 'min_samples_leaf':[6,12], 'n_estimators':[100,200]}\n",
    "r = RandomForestClassifier(n_jobs=-1, random_state=1234)\n",
    "gr = GridSearchCV(r,param_grid=p,cv=2,n_jobs=-1) \n",
    "gr.fit(x_tr, y_tr)\n",
    "#최적의 파라미터를 찾고 그때의 정확도를 구하기 \n",
    "gr_best=gr.best_params_\n",
    "best= gr.best_estimator_\n",
    "accuracy_score(y_te,best.predict(x_te))"
   ]
  },
  {
   "cell_type": "code",
   "execution_count": 111,
   "id": "49c60387-d5e2-4c18-b1dc-f2ebae3ea602",
   "metadata": {},
   "outputs": [
    {
     "data": {
      "text/plain": [
       "<Axes: >"
      ]
     },
     "execution_count": 111,
     "metadata": {},
     "output_type": "execute_result"
    },
    {
     "data": {
      "image/png": "[encoded data removed]",
      "text/plain": [
       "<Figure size 432x288 with 1 Axes>"
      ]
     },
     "metadata": {
      "needs_background": "light"
     },
     "output_type": "display_data"
    }
   ],
   "source": [
    "#중요한 feature 쓰고 그래프 만들기 \n",
    "ftr_imp_values= best.feature_importances_\n",
    "ftr_imp= pd.Series(ftr_imp_values, index=x_tr.columns  )\n",
    "ftr_imp.plot(kind='barh')"
   ]
  },
  {
   "cell_type": "markdown",
   "id": "8647a493-53fc-4b59-8823-7f816372d6e6",
   "metadata": {},
   "source": [
    "## GBM"
   ]
  },
  {
   "cell_type": "code",
   "execution_count": 130,
   "id": "9a89ba9f-b57a-4a62-88a2-ff3ca8333c29",
   "metadata": {},
   "outputs": [
    {
     "name": "stdout",
     "output_type": "stream",
     "text": [
      "전체 피처명에서 10개만 추출: ['tBodyAcc-mean()-X', 'tBodyAcc-mean()-Y', 'tBodyAcc-mean()-Z', 'tBodyAcc-std()-X', 'tBodyAcc-std()-Y', 'tBodyAcc-std()-Z', 'tBodyAcc-mad()-X', 'tBodyAcc-mad()-Y', 'tBodyAcc-mad()-Z', 'tBodyAcc-max()-X']\n",
      "column_index    42\n",
      "dtype: int64\n",
      "DecisionTreeClassifier 기본 하이퍼 파라미터:\n",
      " {'ccp_alpha': 0.0, 'class_weight': None, 'criterion': 'gini', 'max_depth': None, 'max_features': None, 'max_leaf_nodes': None, 'min_impurity_decrease': 0.0, 'min_samples_leaf': 1, 'min_samples_split': 2, 'min_weight_fraction_leaf': 0.0, 'random_state': 156, 'splitter': 'best'}\n",
      "Fitting 5 folds for each of 7 candidates, totalling 35 fits\n",
      "GridSearchCV 최고 평균 정확도 수치:0.8677\n",
      "GridSearchCV 최적 하이퍼 파라미터: {'max_depth': 6}\n",
      "결정 트리 예측 정확도: 0.8029\n",
      "결정 트리 예측 정확도:0.8310\n",
      "결정 트리 예측 정확도:0.8310\n"
     ]
    },
    {
     "data": {
      "image/png": "[encoded data removed]",
      "text/plain": [
       "<Figure size 576x432 with 1 Axes>"
      ]
     },
     "metadata": {
      "needs_background": "light"
     },
     "output_type": "display_data"
    }
   ],
   "source": [
    "from sklearn.ensemble import GradientBoostingClassifier\n",
    "import pandas as pd\n",
    "import matplotlib.pyplot as plt\n",
    "%matplotlib inline\n",
    "\n",
    "# features.txt 파일에는 피처 이름 index와 피처명이 공백으로 분리되어 있음. 이를 DataFrame으로 로드.\n",
    "feature_name_df = pd.read_csv('./human_activity/features.txt',sep='\\s+',\n",
    "                        header=None,names=['column_index','column_name'])\n",
    "\n",
    "# 피처명 index를 제거하고, 피처명만 리스트 객체로 생성한 뒤 샘플로 10개만 추출\n",
    "feature_name = feature_name_df.iloc[:, 1].values.tolist()\n",
    "print('전체 피처명에서 10개만 추출:', feature_name[:10]) \n",
    "\n",
    "#중복된 피처명을 확인\n",
    "feature_dup_df = feature_name_df.groupby('column_name').count()\n",
    "print(feature_dup_df[feature_dup_df['column_index'] > 1].count())\n",
    "feature_dup_df[feature_dup_df['column_index'] > 1].head()\n",
    "\n",
    "\n",
    "#원본 데이터에 중복된 Feature 명으로 인하여 신규 버전의 Pandas에서 Duplicate name 에러를 발생.\n",
    "#중복 feature명에 대해서 원본 feature 명에 '_1(또는2)'를 추가로 부여하는 함수인 get_new_feature_name_df() 생성\n",
    "\n",
    "def get_new_feature_name_df(old_feature_name_df):\n",
    "    feature_dup_df = pd.DataFrame(data=old_feature_name_df.groupby('column_name').cumcount(),\n",
    "                                  columns=['dup_cnt'])\n",
    "    feature_dup_df = feature_dup_df.reset_index()\n",
    "    new_feature_name_df = pd.merge(old_feature_name_df.reset_index(), feature_dup_df, how='outer')\n",
    "    new_feature_name_df['column_name'] = new_feature_name_df[['column_name', 'dup_cnt']].apply(lambda x : x[0]+'_'+str(x[1]) \n",
    "                                                                                         if x[1] >0 else x[0] ,  axis=1)\n",
    "    new_feature_name_df = new_feature_name_df.drop(['index'], axis=1)\n",
    "    return new_feature_name_df\n",
    "\n",
    "\n",
    "import pandas as pd\n",
    "\n",
    "def get_human_dataset( ):\n",
    "    \n",
    "    # 각 데이터 파일들은 공백으로 분리되어 있으므로 read_csv에서 공백 문자를 sep으로 할당.\n",
    "    feature_name_df = pd.read_csv('./human_activity/features.txt',sep='\\s+',\n",
    "                        header=None,names=['column_index','column_name'])\n",
    "    \n",
    "    # 중복된 피처명을 수정하는 get_new_feature_name_df()를 이용, 신규 피처명 DataFrame생성. \n",
    "    new_feature_name_df = get_new_feature_name_df(feature_name_df)\n",
    "    \n",
    "    # DataFrame에 피처명을 컬럼으로 부여하기 위해 리스트 객체로 다시 변환\n",
    "    feature_name = new_feature_name_df.iloc[:, 1].values.tolist()\n",
    "    \n",
    "    # 학습 피처 데이터 셋과 테스트 피처 데이터을 DataFrame으로 로딩. 컬럼명은 feature_name 적용\n",
    "    X_train = pd.read_csv('./human_activity/train/X_train.txt',sep='\\s+', names=feature_name )\n",
    "    X_test = pd.read_csv('./human_activity/test/X_test.txt',sep='\\s+', names=feature_name)\n",
    "    X_train = X_train[['tGravityAcc-min()-X', 'fBodyAccJerk-bandsEnergy()-1,16', 'angle(Y,gravityMean)', 'fBodyAccMag-energy()','tGravityAcc-arCoeff()-Z,2'] ]\n",
    "    X_test = X_test[['tGravityAcc-min()-X', 'fBodyAccJerk-bandsEnergy()-1,16', 'angle(Y,gravityMean)', 'fBodyAccMag-energy()','tGravityAcc-arCoeff()-Z,2'] ] \n",
    "\n",
    "       # 학습 레이블과 테스트 레이블 데이터을 DataFrame으로 로딩하고 컬럼명은 action으로 부여\n",
    "    y_train = pd.read_csv('./human_activity/train/y_train.txt',sep='\\s+',header=None,names=['action'])\n",
    "    y_test = pd.read_csv('./human_activity/test/y_test.txt',sep='\\s+',header=None,names=['action'])\n",
    "    \n",
    "    # 로드된 학습/테스트용 DataFrame을 모두 반환 \n",
    "    return X_train, X_test, y_train, y_test\n",
    "\n",
    "\n",
    "X_train, X_test, y_train, y_test = get_human_dataset()\n",
    "\n",
    "from sklearn.tree import DecisionTreeClassifier\n",
    "from sklearn.metrics import accuracy_score\n",
    "\n",
    "\n",
    "# DecisionTreeClassifier의 하이퍼 파라미터 추출\n",
    "print('DecisionTreeClassifier 기본 하이퍼 파라미터:\\n', dt_clf.get_params())\n",
    "\n",
    "from sklearn.model_selection import GridSearchCV\n",
    "\n",
    "params = { 'max_depth' : [ 6, 8 ,10, 12, 16 ,20, 24]}\n",
    "\n",
    "grid_cv = GridSearchCV(dt_clf, param_grid=params, scoring='accuracy', cv=5, verbose=1 )\n",
    "grid_cv.fit(X_train , y_train)\n",
    "print('GridSearchCV 최고 평균 정확도 수치:{0:.4f}'.format(grid_cv.best_score_))\n",
    "print('GridSearchCV 최적 하이퍼 파라미터:', grid_cv.best_params_)\n",
    "\n",
    "\n",
    "# 예제 반복 시 마다 동일한 예측 결과 도출을 위해 random_state 설정\n",
    "dt_clf = DecisionTreeClassifier(random_state=156)\n",
    "dt_clf.fit(X_train , y_train)\n",
    "pred = dt_clf.predict(X_test)\n",
    "accuracy = accuracy_score(y_test , pred)\n",
    "print('결정 트리 예측 정확도: {0:.4f}'.format(accuracy))\n",
    "\n",
    "best_df_clf = grid_cv.best_estimator_\n",
    "pred1 = best_df_clf.predict(X_test)\n",
    "accuracy = accuracy_score(y_test , pred1)\n",
    "print('결정 트리 예측 정확도:{0:.4f}'.format(accuracy))\n",
    "\n",
    "best_df_clf = grid_cv.best_estimator_\n",
    "pred1 = best_df_clf.predict(X_test)\n",
    "accuracy = accuracy_score(y_test , pred1)\n",
    "print('결정 트리 예측 정확도:{0:.4f}'.format(accuracy))\n",
    "\n",
    "import seaborn as sns\n",
    "\n",
    "ftr_importances_values = best_df_clf.feature_importances_\n",
    "# Top 중요도로 정렬을 쉽게 하고, 시본(Seaborn)의 막대그래프로 쉽게 표현하기 위해 Series변환\n",
    "ftr_importances = pd.Series(ftr_importances_values, index=X_train.columns  )\n",
    "# 중요도값 순으로 Series를 정렬\n",
    "ftr_top20 = ftr_importances.sort_values(ascending=False)[:20]\n",
    "plt.figure(figsize=(8,6))\n",
    "plt.title('Feature importances Top 20')\n",
    "sns.barplot(x=ftr_top20 , y = ftr_top20.index)\n",
    "plt.show()\n",
    "\n"
   ]
  },
  {
   "cell_type": "code",
   "execution_count": 115,
   "id": "438c7179-d2b1-4116-b10c-880010d63c69",
   "metadata": {},
   "outputs": [
    {
     "data": {
      "text/plain": [
       "Index(['tBodyAcc-mean()-X', 'tBodyAcc-mean()-Y', 'tBodyAcc-mean()-Z',\n",
       "       'tBodyAcc-std()-X', 'tBodyAcc-std()-Y', 'tBodyAcc-std()-Z',\n",
       "       'tBodyAcc-mad()-X', 'tBodyAcc-mad()-Y', 'tBodyAcc-mad()-Z',\n",
       "       'tBodyAcc-max()-X',\n",
       "       ...\n",
       "       'fBodyBodyGyroJerkMag-meanFreq()', 'fBodyBodyGyroJerkMag-skewness()',\n",
       "       'fBodyBodyGyroJerkMag-kurtosis()', 'angle(tBodyAccMean,gravity)',\n",
       "       'angle(tBodyAccJerkMean),gravityMean)',\n",
       "       'angle(tBodyGyroMean,gravityMean)',\n",
       "       'angle(tBodyGyroJerkMean,gravityMean)', 'angle(X,gravityMean)',\n",
       "       'angle(Y,gravityMean)', 'angle(Z,gravityMean)'],\n",
       "      dtype='object', length=561)"
      ]
     },
     "execution_count": 115,
     "metadata": {},
     "output_type": "execute_result"
    }
   ],
   "source": [
    "X_train.columns"
   ]
  },
  {
   "cell_type": "code",
   "execution_count": 128,
   "id": "11018839-b382-44e8-87fc-d89f4b8f8986",
   "metadata": {},
   "outputs": [
    {
     "data": {
      "text/html": [
       "<div>\n",
       "<style scoped>\n",
       "    .dataframe tbody tr th:only-of-type {\n",
       "        vertical-align: middle;\n",
       "    }\n",
       "\n",
       "    .dataframe tbody tr th {\n",
       "        vertical-align: top;\n",
       "    }\n",
       "\n",
       "    .dataframe thead th {\n",
       "        text-align: right;\n",
       "    }\n",
       "</style>\n",
       "<table border=\"1\" class=\"dataframe\">\n",
       "  <thead>\n",
       "    <tr style=\"text-align: right;\">\n",
       "      <th></th>\n",
       "      <th>tGravityAcc-min()-X</th>\n",
       "      <th>fBodyAccJerk-bandsEnergy()-1,16</th>\n",
       "      <th>angle(Y,gravityMean)</th>\n",
       "      <th>fBodyAccMag-energy()</th>\n",
       "      <th>tGravityAcc-arCoeff()-Z,2</th>\n",
       "    </tr>\n",
       "  </thead>\n",
       "  <tbody>\n",
       "    <tr>\n",
       "      <th>0</th>\n",
       "      <td>0.977436</td>\n",
       "      <td>-0.999982</td>\n",
       "      <td>0.179941</td>\n",
       "      <td>-0.998285</td>\n",
       "      <td>0.995675</td>\n",
       "    </tr>\n",
       "    <tr>\n",
       "      <th>1</th>\n",
       "      <td>0.984520</td>\n",
       "      <td>-0.999987</td>\n",
       "      <td>0.180289</td>\n",
       "      <td>-0.999472</td>\n",
       "      <td>0.834271</td>\n",
       "    </tr>\n",
       "    <tr>\n",
       "      <th>2</th>\n",
       "      <td>0.986770</td>\n",
       "      <td>-0.999963</td>\n",
       "      <td>0.180637</td>\n",
       "      <td>-0.999807</td>\n",
       "      <td>0.714392</td>\n",
       "    </tr>\n",
       "    <tr>\n",
       "      <th>3</th>\n",
       "      <td>0.986821</td>\n",
       "      <td>-0.999978</td>\n",
       "      <td>0.181935</td>\n",
       "      <td>-0.999770</td>\n",
       "      <td>0.386373</td>\n",
       "    </tr>\n",
       "    <tr>\n",
       "      <th>4</th>\n",
       "      <td>0.987434</td>\n",
       "      <td>-0.999988</td>\n",
       "      <td>0.185151</td>\n",
       "      <td>-0.999873</td>\n",
       "      <td>0.239268</td>\n",
       "    </tr>\n",
       "    <tr>\n",
       "      <th>...</th>\n",
       "      <td>...</td>\n",
       "      <td>...</td>\n",
       "      <td>...</td>\n",
       "      <td>...</td>\n",
       "      <td>...</td>\n",
       "    </tr>\n",
       "    <tr>\n",
       "      <th>7347</th>\n",
       "      <td>0.920554</td>\n",
       "      <td>-0.775736</td>\n",
       "      <td>0.238604</td>\n",
       "      <td>-0.584282</td>\n",
       "      <td>0.802503</td>\n",
       "    </tr>\n",
       "    <tr>\n",
       "      <th>7348</th>\n",
       "      <td>0.920554</td>\n",
       "      <td>-0.780751</td>\n",
       "      <td>0.252676</td>\n",
       "      <td>-0.632536</td>\n",
       "      <td>0.721749</td>\n",
       "    </tr>\n",
       "    <tr>\n",
       "      <th>7349</th>\n",
       "      <td>0.933008</td>\n",
       "      <td>-0.783616</td>\n",
       "      <td>0.249145</td>\n",
       "      <td>-0.641170</td>\n",
       "      <td>0.835444</td>\n",
       "    </tr>\n",
       "    <tr>\n",
       "      <th>7350</th>\n",
       "      <td>0.933008</td>\n",
       "      <td>-0.821137</td>\n",
       "      <td>0.246432</td>\n",
       "      <td>-0.663579</td>\n",
       "      <td>0.858624</td>\n",
       "    </tr>\n",
       "    <tr>\n",
       "      <th>7351</th>\n",
       "      <td>0.916729</td>\n",
       "      <td>-0.825848</td>\n",
       "      <td>0.246809</td>\n",
       "      <td>-0.698087</td>\n",
       "      <td>0.861512</td>\n",
       "    </tr>\n",
       "  </tbody>\n",
       "</table>\n",
       "<p>7352 rows × 5 columns</p>\n",
       "</div>"
      ],
      "text/plain": [
       "      tGravityAcc-min()-X  fBodyAccJerk-bandsEnergy()-1,16  \\\n",
       "0                0.977436                        -0.999982   \n",
       "1                0.984520                        -0.999987   \n",
       "2                0.986770                        -0.999963   \n",
       "3                0.986821                        -0.999978   \n",
       "4                0.987434                        -0.999988   \n",
       "...                   ...                              ...   \n",
       "7347             0.920554                        -0.775736   \n",
       "7348             0.920554                        -0.780751   \n",
       "7349             0.933008                        -0.783616   \n",
       "7350             0.933008                        -0.821137   \n",
       "7351             0.916729                        -0.825848   \n",
       "\n",
       "      angle(Y,gravityMean)  fBodyAccMag-energy()  tGravityAcc-arCoeff()-Z,2  \n",
       "0                 0.179941             -0.998285                   0.995675  \n",
       "1                 0.180289             -0.999472                   0.834271  \n",
       "2                 0.180637             -0.999807                   0.714392  \n",
       "3                 0.181935             -0.999770                   0.386373  \n",
       "4                 0.185151             -0.999873                   0.239268  \n",
       "...                    ...                   ...                        ...  \n",
       "7347              0.238604             -0.584282                   0.802503  \n",
       "7348              0.252676             -0.632536                   0.721749  \n",
       "7349              0.249145             -0.641170                   0.835444  \n",
       "7350              0.246432             -0.663579                   0.858624  \n",
       "7351              0.246809             -0.698087                   0.861512  \n",
       "\n",
       "[7352 rows x 5 columns]"
      ]
     },
     "execution_count": 128,
     "metadata": {},
     "output_type": "execute_result"
    }
   ],
   "source": [
    "X_train = X_train[['tGravityAcc-min()-X', 'fBodyAccJerk-bandsEnergy()-1,16', 'angle(Y,gravityMean)', 'fBodyAccMag-energy()','tGravityAcc-arCoeff()-Z,2'] ]\n",
    "X_test = X_test[['tGravityAcc-min()-X', 'fBodyAccJerk-bandsEnergy()-1,16', 'angle(Y,gravityMean)', 'fBodyAccMag-energy()','tGravityAcc-arCoeff()-Z,2'] ] \n",
    "X_train"
   ]
  },
  {
   "cell_type": "code",
   "execution_count": 143,
   "id": "ba7bb27c-f206-4611-a350-9ead6f117793",
   "metadata": {},
   "outputs": [
    {
     "name": "stderr",
     "output_type": "stream",
     "text": [
      "/Users/chloe/opt/anaconda3/lib/python3.9/site-packages/sklearn/ensemble/_gb.py:437: DataConversionWarning: A column-vector y was passed when a 1d array was expected. Please change the shape of y to (n_samples, ), for example using ravel().\n",
      "  y = column_or_1d(y, warn=True)\n"
     ]
    },
    {
     "name": "stdout",
     "output_type": "stream",
     "text": [
      "0.835086528673227\n",
      "걸린시간 :  6.4초\n"
     ]
    }
   ],
   "source": [
    "from sklearn.ensemble import GradientBoostingClassifier\n",
    "import time\n",
    "X_train, X_test, y_train, y_test = get_human_dataset()\n",
    "X_train = X_train[['tGravityAcc-min()-X', 'fBodyAccJerk-bandsEnergy()-1,16', 'angle(Y,gravityMean)', 'fBodyAccMag-energy()','tGravityAcc-arCoeff()-Z,2'] ]\n",
    "X_test = X_test[['tGravityAcc-min()-X', 'fBodyAccJerk-bandsEnergy()-1,16', 'angle(Y,gravityMean)', 'fBodyAccMag-energy()','tGravityAcc-arCoeff()-Z,2'] ] \n",
    "#GBM 수행시간 측정\n",
    "start_time=time.time()\n",
    "gb_clf=GradientBoostingClassifier(random_state=6)\n",
    "gb_clf.fit(X_train,y_train)\n",
    "pred=gb_clf.predict(X_test)\n",
    "acc=accuracy_score(y_test,pred)\n",
    "end_time=time.time()\n",
    "print(acc)\n",
    "print(f\"걸린시간 : {end_time - start_time: .1f}초\")"
   ]
  },
  {
   "cell_type": "code",
   "execution_count": null,
   "id": "8a04c3fb-4f0b-4160-bb19-9142d082c369",
   "metadata": {},
   "outputs": [],
   "source": [
    "# x_train.ravel  => 사용해서 평평하게 펴주면 에러 안뜸 "
   ]
  },
  {
   "cell_type": "raw",
   "id": "a31e30ff-9fe7-4a37-84c0-fd7f81487045",
   "metadata": {},
   "source": [
    "x =np.array([[1,2,3],[4,5,6]])\n",
    "x.ravel(): View\n",
    "x.flatten() : copy"
   ]
  },
  {
   "cell_type": "code",
   "execution_count": 153,
   "id": "93814bae-5def-40f7-921f-11787b2188b1",
   "metadata": {},
   "outputs": [
    {
     "name": "stdout",
     "output_type": "stream",
     "text": [
      "Collecting package metadata (current_repodata.json): failed\n",
      "\n",
      "# >>>>>>>>>>>>>>>>>>>>>> ERROR REPORT <<<<<<<<<<<<<<<<<<<<<<\n",
      "\n",
      "    Traceback (most recent call last):\n",
      "      File \"/Users/chloe/opt/anaconda3/lib/python3.9/site-packages/conda/gateways/repodata/__init__.py\", line 161, in conda_http_errors\n",
      "        yield\n",
      "      File \"/Users/chloe/opt/anaconda3/lib/python3.9/site-packages/conda/gateways/repodata/__init__.py\", line 127, in repodata\n",
      "        response.raise_for_status()\n",
      "      File \"/Users/chloe/opt/anaconda3/lib/python3.9/site-packages/requests/models.py\", line 953, in raise_for_status\n",
      "        raise HTTPError(http_error_msg, response=self)\n",
      "    requests.exceptions.HTTPError: 404 Client Error: Not Found for url: https://conda.anaconda.org/py-/osx-64/current_repodata.json\n",
      "    \n",
      "    During handling of the above exception, another exception occurred:\n",
      "    \n",
      "    Traceback (most recent call last):\n",
      "      File \"/Users/chloe/opt/anaconda3/lib/python3.9/site-packages/conda/exceptions.py\", line 1132, in __call__\n",
      "        return func(*args, **kwargs)\n",
      "      File \"/Users/chloe/opt/anaconda3/lib/python3.9/site-packages/conda/cli/main.py\", line 69, in main_subshell\n",
      "        exit_code = do_call(args, p)\n",
      "      File \"/Users/chloe/opt/anaconda3/lib/python3.9/site-packages/conda/cli/conda_argparse.py\", line 122, in do_call\n",
      "        return getattr(module, func_name)(args, parser)\n",
      "      File \"/Users/chloe/opt/anaconda3/lib/python3.9/site-packages/conda/notices/core.py\", line 121, in wrapper\n",
      "        return func(*args, **kwargs)\n",
      "      File \"/Users/chloe/opt/anaconda3/lib/python3.9/site-packages/conda/cli/main_install.py\", line 20, in execute\n",
      "        install(args, parser, 'install')\n",
      "      File \"/Users/chloe/opt/anaconda3/lib/python3.9/site-packages/conda/cli/install.py\", line 264, in install\n",
      "        unlink_link_transaction = solver.solve_for_transaction(\n",
      "      File \"/Users/chloe/opt/anaconda3/lib/python3.9/site-packages/conda/core/solve.py\", line 134, in solve_for_transaction\n",
      "        unlink_precs, link_precs = self.solve_for_diff(update_modifier, deps_modifier,\n",
      "      File \"/Users/chloe/opt/anaconda3/lib/python3.9/site-packages/conda/core/solve.py\", line 177, in solve_for_diff\n",
      "        final_precs = self.solve_final_state(update_modifier, deps_modifier, prune, ignore_pinned,\n",
      "      File \"/Users/chloe/opt/anaconda3/lib/python3.9/site-packages/conda/core/solve.py\", line 282, in solve_final_state\n",
      "        ssc = self._collect_all_metadata(ssc)\n",
      "      File \"/Users/chloe/opt/anaconda3/lib/python3.9/site-packages/conda/common/io.py\", line 84, in decorated\n",
      "        return f(*args, **kwds)\n",
      "      File \"/Users/chloe/opt/anaconda3/lib/python3.9/site-packages/conda/core/solve.py\", line 449, in _collect_all_metadata\n",
      "        index, r = self._prepare(prepared_specs)\n",
      "      File \"/Users/chloe/opt/anaconda3/lib/python3.9/site-packages/conda/core/solve.py\", line 1064, in _prepare\n",
      "        reduced_index = get_reduced_index(self.prefix, self.channels,\n",
      "      File \"/Users/chloe/opt/anaconda3/lib/python3.9/site-packages/conda/core/index.py\", line 267, in get_reduced_index\n",
      "        new_records = SubdirData.query_all(spec, channels=channels, subdirs=subdirs,\n",
      "      File \"/Users/chloe/opt/anaconda3/lib/python3.9/site-packages/conda/core/subdir_data.py\", line 169, in query_all\n",
      "        result = tuple(chain.from_iterable(executor.map(subdir_query, channel_urls)))\n",
      "      File \"/Users/chloe/opt/anaconda3/lib/python3.9/concurrent/futures/_base.py\", line 608, in result_iterator\n",
      "        yield fs.pop().result()\n",
      "      File \"/Users/chloe/opt/anaconda3/lib/python3.9/concurrent/futures/_base.py\", line 445, in result\n",
      "        return self.__get_result()\n",
      "      File \"/Users/chloe/opt/anaconda3/lib/python3.9/concurrent/futures/_base.py\", line 390, in __get_result\n",
      "        raise self._exception\n",
      "      File \"/Users/chloe/opt/anaconda3/lib/python3.9/concurrent/futures/thread.py\", line 52, in run\n",
      "        result = self.fn(*self.args, **self.kwargs)\n",
      "      File \"/Users/chloe/opt/anaconda3/lib/python3.9/site-packages/conda/core/subdir_data.py\", line 158, in subdir_query\n",
      "        return tuple(\n",
      "      File \"/Users/chloe/opt/anaconda3/lib/python3.9/site-packages/conda/core/subdir_data.py\", line 174, in query\n",
      "        self.load()\n",
      "      File \"/Users/chloe/opt/anaconda3/lib/python3.9/site-packages/conda/core/subdir_data.py\", line 264, in load\n",
      "        _internal_state = self._load()\n",
      "      File \"/Users/chloe/opt/anaconda3/lib/python3.9/site-packages/conda/core/subdir_data.py\", line 366, in _load\n",
      "        raw_repodata_str = self._repo.repodata(cache.state)  # type: ignore\n",
      "      File \"/Users/chloe/opt/anaconda3/lib/python3.9/site-packages/conda/gateways/repodata/__init__.py\", line 127, in repodata\n",
      "        response.raise_for_status()\n",
      "      File \"/Users/chloe/opt/anaconda3/lib/python3.9/contextlib.py\", line 137, in __exit__\n",
      "        self.gen.throw(typ, value, traceback)\n",
      "      File \"/Users/chloe/opt/anaconda3/lib/python3.9/site-packages/conda/gateways/repodata/__init__.py\", line 208, in conda_http_errors\n",
      "        raise RepodataIsEmpty(\n",
      "      File \"/Users/chloe/opt/anaconda3/lib/python3.9/site-packages/conda/exceptions.py\", line 462, in __init__\n",
      "        body = response.json()\n",
      "      File \"/Users/chloe/opt/anaconda3/lib/python3.9/site-packages/requests/models.py\", line 910, in json\n",
      "        return complexjson.loads(self.text, **kwargs)\n",
      "      File \"/Users/chloe/opt/anaconda3/lib/python3.9/site-packages/simplejson/__init__.py\", line 514, in loads\n",
      "        return _default_decoder.decode(s)\n",
      "      File \"/Users/chloe/opt/anaconda3/lib/python3.9/site-packages/simplejson/decoder.py\", line 386, in decode\n",
      "        obj, end = self.raw_decode(s)\n",
      "      File \"/Users/chloe/opt/anaconda3/lib/python3.9/site-packages/simplejson/decoder.py\", line 416, in raw_decode\n",
      "        return self.scan_once(s, idx=_w(s, idx).end())\n",
      "    simplejson.errors.JSONDecodeError: Expecting value: line 1 column 1 (char 0)\n",
      "\n",
      "`$ /Users/chloe/opt/anaconda3/bin/conda install -c py- xgboost`\n",
      "\n",
      "  environment variables:\n",
      "                 CIO_TEST=<not set>\n",
      "        CONDA_DEFAULT_ENV=base\n",
      "                CONDA_EXE=/Users/chloe/opt/anaconda3/bin/conda\n",
      "             CONDA_PREFIX=/Users/chloe/opt/anaconda3\n",
      "    CONDA_PROMPT_MODIFIER=(base)\n",
      "         CONDA_PYTHON_EXE=/Users/chloe/opt/anaconda3/bin/python\n",
      "               CONDA_ROOT=/Users/chloe/opt/anaconda3\n",
      "              CONDA_SHLVL=1\n",
      "           CURL_CA_BUNDLE=<not set>\n",
      "               LD_PRELOAD=<not set>\n",
      "                     PATH=/Users/chloe/opt/anaconda3/bin:/Users/chloe/opt/anaconda3/condabin:/us\n",
      "                          r/local/bin:/usr/bin:/bin:/usr/sbin:/sbin\n",
      "       REQUESTS_CA_BUNDLE=<not set>\n",
      "            SSL_CERT_FILE=<not set>\n",
      "\n",
      "     active environment : base\n",
      "    active env location : /Users/chloe/opt/anaconda3\n",
      "            shell level : 1\n",
      "       user config file : /Users/chloe/.condarc\n",
      " populated config files : /Users/chloe/.condarc\n",
      "          conda version : 23.3.1\n",
      "    conda-build version : 3.24.0\n",
      "         python version : 3.9.7.final.0\n",
      "       virtual packages : __archspec=1=x86_64\n",
      "                          __osx=10.16=0\n",
      "                          __unix=0=0\n",
      "       base environment : /Users/chloe/opt/anaconda3  (writable)\n",
      "      conda av data dir : /Users/chloe/opt/anaconda3/etc/conda\n",
      "  conda av metadata url : None\n",
      "           channel URLs : https://conda.anaconda.org/py-/osx-64\n",
      "                          https://conda.anaconda.org/py-/noarch\n",
      "                          https://repo.anaconda.com/pkgs/main/osx-64\n",
      "                          https://repo.anaconda.com/pkgs/main/noarch\n",
      "                          https://repo.anaconda.com/pkgs/r/osx-64\n",
      "                          https://repo.anaconda.com/pkgs/r/noarch\n",
      "          package cache : /Users/chloe/opt/anaconda3/pkgs\n",
      "                          /Users/chloe/.conda/pkgs\n",
      "       envs directories : /Users/chloe/opt/anaconda3/envs\n",
      "                          /Users/chloe/.conda/envs\n",
      "               platform : osx-64\n",
      "             user-agent : conda/23.3.1 requests/2.26.0 CPython/3.9.7 Darwin/21.1.0 OSX/10.16\n",
      "                UID:GID : 501:20\n",
      "             netrc file : None\n",
      "           offline mode : False\n",
      "\n",
      "\n",
      "An unexpected error has occurred. Conda has prepared the above report.\n",
      "\n",
      "If submitted, this report will be used by core maintainers to improve\n",
      "future releases of conda.\n",
      "Would you like conda to send this report to the core maintainers? [y/N]: \n",
      "Timeout reached. No report sent.\n",
      "\n"
     ]
    }
   ],
   "source": [
    "! conda install -c  py- xgboost"
   ]
  },
  {
   "cell_type": "code",
   "execution_count": 174,
   "id": "b0db2093-1a2c-4c68-80fc-23ffa4ad6ceb",
   "metadata": {},
   "outputs": [
    {
     "name": "stderr",
     "output_type": "stream",
     "text": [
      "/Users/chloe/opt/anaconda3/lib/python3.9/site-packages/xgboost/sklearn.py:1224: UserWarning: The use of label encoder in XGBClassifier is deprecated and will be removed in a future release. To remove this warning, do the following: 1) Pass option use_label_encoder=False when constructing XGBClassifier object; and 2) Encode your labels (y) as integers starting with 0, i.e. 0, 1, 2, ..., [num_class - 1].\n",
      "  warnings.warn(label_encoder_deprecation_msg, UserWarning)\n"
     ]
    },
    {
     "data": {
      "text/plain": [
       "0.9883040935672515"
      ]
     },
     "execution_count": 174,
     "metadata": {},
     "output_type": "execute_result"
    }
   ],
   "source": [
    "from xgboost import XGBClassifier\n",
    "\n",
    "cancer = load_breast_cancer()\n",
    "x = cancer.data\n",
    "y = cancer.target\n",
    "x_train, x_test, y_train, y_test = train_test_split(x, y, test_size = 0.3)\n",
    "dt_clf = DecisionTreeClassifier()\n",
    "dt_clf.fit(x_train, y_train) \n",
    "\n",
    "xgb_clf=XGBClassifier(n_estimators=400, learning_rate = 0.05, max_depth=3, \n",
    "                      eval_metric='logloss')\n",
    "xgb_clf.fit(x_train,y_train, verbose=True)\n",
    "pred=xgb_clf.predict(x_test)\n",
    "pred_proba= xgb_clf.predict_proba(x_test)[:,1]\n",
    "\n",
    "accuracy_score(y_test,pred)"
   ]
  },
  {
   "cell_type": "code",
   "execution_count": 164,
   "id": "a68959f4-baa0-4db2-822b-f995ed472a08",
   "metadata": {},
   "outputs": [
    {
     "data": {
      "text/plain": [
       "array([0., 0., 0., 0., 0., 1., 1., 1., 1., 1., 1., 0., 0., 0., 0., 1., 0.,\n",
       "       0., 0., 1., 1., 1., 1., 1., 1., 1., 1., 1., 1., 1., 1., 0., 1., 1.,\n",
       "       0., 0., 1., 1., 0., 1., 0., 1., 1., 1., 1., 1., 1., 0., 1., 1., 1.,\n",
       "       1., 1., 0., 0., 0., 1., 1., 1., 0., 0., 0., 1., 1., 1., 1., 0., 0.,\n",
       "       1., 0., 1., 1., 1., 0., 0., 0., 1., 0., 0., 0., 1., 1., 1., 1., 1.,\n",
       "       0., 1., 0., 0., 0., 1., 1., 1., 1., 1., 0., 0., 1., 1., 1., 1., 0.,\n",
       "       0., 0., 1., 0., 0., 1., 1., 1., 0., 0., 0., 1., 0., 1., 1., 1., 1.,\n",
       "       1., 0., 0., 1., 1., 1., 1., 0., 1., 1., 0., 1., 0., 1., 1., 1., 0.,\n",
       "       1., 1., 1., 0., 1., 1., 0., 0., 1., 1., 1., 0., 1., 1., 0., 1., 1.,\n",
       "       0., 0., 1., 1., 0., 1., 1., 0., 0., 1., 0., 0., 1., 1., 1., 0., 1.,\n",
       "       0.], dtype=float32)"
      ]
     },
     "execution_count": 164,
     "metadata": {},
     "output_type": "execute_result"
    }
   ],
   "source": [
    "xgb_clf.predict_proba(x_test)\n",
    "np.round(pred_proba)"
   ]
  },
  {
   "cell_type": "code",
   "execution_count": 177,
   "id": "4ba5fb96-07c2-4dbc-a5a2-26bd56d9a6ce",
   "metadata": {},
   "outputs": [
    {
     "name": "stdout",
     "output_type": "stream",
     "text": [
      "[0]\tvalidation_0-logloss:0.65036\tvalidation_1-logloss:0.65607\n",
      "[1]\tvalidation_0-logloss:0.61152\tvalidation_1-logloss:0.62271\n",
      "[2]\tvalidation_0-logloss:0.57610\tvalidation_1-logloss:0.59213\n",
      "[3]\tvalidation_0-logloss:0.54366\tvalidation_1-logloss:0.56505\n",
      "[4]\tvalidation_0-logloss:0.51385\tvalidation_1-logloss:0.53957\n",
      "[5]\tvalidation_0-logloss:0.48638\tvalidation_1-logloss:0.51690\n",
      "[6]\tvalidation_0-logloss:0.46101\tvalidation_1-logloss:0.49542\n",
      "[7]\tvalidation_0-logloss:0.43752\tvalidation_1-logloss:0.47628\n",
      "[8]\tvalidation_0-logloss:0.41573\tvalidation_1-logloss:0.45860\n",
      "[9]\tvalidation_0-logloss:0.39487\tvalidation_1-logloss:0.43997\n",
      "[10]\tvalidation_0-logloss:0.37547\tvalidation_1-logloss:0.42269\n",
      "[11]\tvalidation_0-logloss:0.35740\tvalidation_1-logloss:0.40724\n",
      "[12]\tvalidation_0-logloss:0.34088\tvalidation_1-logloss:0.39461\n",
      "[13]\tvalidation_0-logloss:0.32504\tvalidation_1-logloss:0.38053\n",
      "[14]\tvalidation_0-logloss:0.31039\tvalidation_1-logloss:0.36953\n",
      "[15]\tvalidation_0-logloss:0.29685\tvalidation_1-logloss:0.36006\n",
      "[16]\tvalidation_0-logloss:0.28427\tvalidation_1-logloss:0.34875\n",
      "[17]\tvalidation_0-logloss:0.27224\tvalidation_1-logloss:0.33997\n",
      "[18]\tvalidation_0-logloss:0.26116\tvalidation_1-logloss:0.32991\n",
      "[19]\tvalidation_0-logloss:0.25037\tvalidation_1-logloss:0.31927\n",
      "[20]\tvalidation_0-logloss:0.24028\tvalidation_1-logloss:0.31201\n",
      "[21]\tvalidation_0-logloss:0.23104\tvalidation_1-logloss:0.30384\n",
      "[22]\tvalidation_0-logloss:0.22214\tvalidation_1-logloss:0.29825\n",
      "[23]\tvalidation_0-logloss:0.21392\tvalidation_1-logloss:0.29108\n",
      "[24]\tvalidation_0-logloss:0.20579\tvalidation_1-logloss:0.28284\n",
      "[25]\tvalidation_0-logloss:0.19823\tvalidation_1-logloss:0.27793\n",
      "[26]\tvalidation_0-logloss:0.19134\tvalidation_1-logloss:0.27165\n",
      "[27]\tvalidation_0-logloss:0.18457\tvalidation_1-logloss:0.26743\n",
      "[28]\tvalidation_0-logloss:0.17776\tvalidation_1-logloss:0.26135\n",
      "[29]\tvalidation_0-logloss:0.17169\tvalidation_1-logloss:0.25864\n",
      "[30]\tvalidation_0-logloss:0.16616\tvalidation_1-logloss:0.25428\n",
      "[31]\tvalidation_0-logloss:0.16035\tvalidation_1-logloss:0.24934\n",
      "[32]\tvalidation_0-logloss:0.15515\tvalidation_1-logloss:0.24613\n",
      "[33]\tvalidation_0-logloss:0.14991\tvalidation_1-logloss:0.24150\n",
      "[34]\tvalidation_0-logloss:0.14501\tvalidation_1-logloss:0.23881\n",
      "[35]\tvalidation_0-logloss:0.14032\tvalidation_1-logloss:0.23467\n",
      "[36]\tvalidation_0-logloss:0.13589\tvalidation_1-logloss:0.23019\n",
      "[37]\tvalidation_0-logloss:0.13170\tvalidation_1-logloss:0.22655\n",
      "[38]\tvalidation_0-logloss:0.12748\tvalidation_1-logloss:0.22195\n",
      "[39]\tvalidation_0-logloss:0.12359\tvalidation_1-logloss:0.21793\n",
      "[40]\tvalidation_0-logloss:0.11989\tvalidation_1-logloss:0.21628\n",
      "[41]\tvalidation_0-logloss:0.11638\tvalidation_1-logloss:0.21266\n",
      "[42]\tvalidation_0-logloss:0.11314\tvalidation_1-logloss:0.20998\n",
      "[43]\tvalidation_0-logloss:0.10992\tvalidation_1-logloss:0.20878\n",
      "[44]\tvalidation_0-logloss:0.10650\tvalidation_1-logloss:0.20595\n",
      "[45]\tvalidation_0-logloss:0.10370\tvalidation_1-logloss:0.20363\n",
      "[46]\tvalidation_0-logloss:0.10090\tvalidation_1-logloss:0.20279\n",
      "[47]\tvalidation_0-logloss:0.09738\tvalidation_1-logloss:0.19982\n",
      "[48]\tvalidation_0-logloss:0.09452\tvalidation_1-logloss:0.19756\n",
      "[49]\tvalidation_0-logloss:0.09199\tvalidation_1-logloss:0.19532\n",
      "[50]\tvalidation_0-logloss:0.08889\tvalidation_1-logloss:0.19280\n",
      "[51]\tvalidation_0-logloss:0.08666\tvalidation_1-logloss:0.19244\n",
      "[52]\tvalidation_0-logloss:0.08424\tvalidation_1-logloss:0.19064\n",
      "[53]\tvalidation_0-logloss:0.08148\tvalidation_1-logloss:0.18837\n",
      "[54]\tvalidation_0-logloss:0.07914\tvalidation_1-logloss:0.18781\n",
      "[55]\tvalidation_0-logloss:0.07691\tvalidation_1-logloss:0.18701\n",
      "[56]\tvalidation_0-logloss:0.07488\tvalidation_1-logloss:0.18560\n",
      "[57]\tvalidation_0-logloss:0.07283\tvalidation_1-logloss:0.18498\n",
      "[58]\tvalidation_0-logloss:0.07088\tvalidation_1-logloss:0.18476\n",
      "[59]\tvalidation_0-logloss:0.06910\tvalidation_1-logloss:0.18360\n",
      "[60]\tvalidation_0-logloss:0.06730\tvalidation_1-logloss:0.18319\n",
      "[61]\tvalidation_0-logloss:0.06585\tvalidation_1-logloss:0.18197\n",
      "[62]\tvalidation_0-logloss:0.06431\tvalidation_1-logloss:0.18142\n",
      "[63]\tvalidation_0-logloss:0.06271\tvalidation_1-logloss:0.18146\n",
      "[64]\tvalidation_0-logloss:0.06143\tvalidation_1-logloss:0.18043\n",
      "[65]\tvalidation_0-logloss:0.06006\tvalidation_1-logloss:0.18005\n",
      "[66]\tvalidation_0-logloss:0.05868\tvalidation_1-logloss:0.17987\n",
      "[67]\tvalidation_0-logloss:0.05736\tvalidation_1-logloss:0.17981\n",
      "[68]\tvalidation_0-logloss:0.05607\tvalidation_1-logloss:0.17972\n",
      "[69]\tvalidation_0-logloss:0.05485\tvalidation_1-logloss:0.17970\n",
      "[70]\tvalidation_0-logloss:0.05370\tvalidation_1-logloss:0.17951\n",
      "[71]\tvalidation_0-logloss:0.05256\tvalidation_1-logloss:0.17956\n",
      "[72]\tvalidation_0-logloss:0.05150\tvalidation_1-logloss:0.17924\n",
      "[73]\tvalidation_0-logloss:0.05047\tvalidation_1-logloss:0.17980\n",
      "[74]\tvalidation_0-logloss:0.04963\tvalidation_1-logloss:0.17917\n",
      "[75]\tvalidation_0-logloss:0.04867\tvalidation_1-logloss:0.17917\n",
      "[76]\tvalidation_0-logloss:0.04764\tvalidation_1-logloss:0.17984\n",
      "[77]\tvalidation_0-logloss:0.04688\tvalidation_1-logloss:0.17931\n",
      "[78]\tvalidation_0-logloss:0.04593\tvalidation_1-logloss:0.18002\n",
      "[79]\tvalidation_0-logloss:0.04509\tvalidation_1-logloss:0.17992\n",
      "[80]\tvalidation_0-logloss:0.04442\tvalidation_1-logloss:0.17948\n",
      "[81]\tvalidation_0-logloss:0.04360\tvalidation_1-logloss:0.17980\n",
      "[82]\tvalidation_0-logloss:0.04298\tvalidation_1-logloss:0.17940\n",
      "[83]\tvalidation_0-logloss:0.04218\tvalidation_1-logloss:0.17897\n",
      "[84]\tvalidation_0-logloss:0.04147\tvalidation_1-logloss:0.17919\n",
      "[85]\tvalidation_0-logloss:0.04074\tvalidation_1-logloss:0.17946\n",
      "[86]\tvalidation_0-logloss:0.04008\tvalidation_1-logloss:0.17982\n",
      "[87]\tvalidation_0-logloss:0.03928\tvalidation_1-logloss:0.17933\n",
      "[88]\tvalidation_0-logloss:0.03852\tvalidation_1-logloss:0.17887\n",
      "[89]\tvalidation_0-logloss:0.03783\tvalidation_1-logloss:0.17906\n",
      "[90]\tvalidation_0-logloss:0.03716\tvalidation_1-logloss:0.17902\n",
      "[91]\tvalidation_0-logloss:0.03652\tvalidation_1-logloss:0.17923\n",
      "[92]\tvalidation_0-logloss:0.03599\tvalidation_1-logloss:0.17845\n",
      "[93]\tvalidation_0-logloss:0.03537\tvalidation_1-logloss:0.17844\n",
      "[94]\tvalidation_0-logloss:0.03483\tvalidation_1-logloss:0.17879\n"
     ]
    },
    {
     "name": "stderr",
     "output_type": "stream",
     "text": [
      "/Users/chloe/opt/anaconda3/lib/python3.9/site-packages/xgboost/sklearn.py:1224: UserWarning: The use of label encoder in XGBClassifier is deprecated and will be removed in a future release. To remove this warning, do the following: 1) Pass option use_label_encoder=False when constructing XGBClassifier object; and 2) Encode your labels (y) as integers starting with 0, i.e. 0, 1, 2, ..., [num_class - 1].\n",
      "  warnings.warn(label_encoder_deprecation_msg, UserWarning)\n"
     ]
    },
    {
     "name": "stdout",
     "output_type": "stream",
     "text": [
      "[95]\tvalidation_0-logloss:0.03428\tvalidation_1-logloss:0.17891\n",
      "[96]\tvalidation_0-logloss:0.03372\tvalidation_1-logloss:0.17916\n",
      "[97]\tvalidation_0-logloss:0.03324\tvalidation_1-logloss:0.17935\n",
      "[98]\tvalidation_0-logloss:0.03280\tvalidation_1-logloss:0.17866\n",
      "[99]\tvalidation_0-logloss:0.03232\tvalidation_1-logloss:0.17905\n",
      "[100]\tvalidation_0-logloss:0.03188\tvalidation_1-logloss:0.17926\n",
      "[101]\tvalidation_0-logloss:0.03142\tvalidation_1-logloss:0.17920\n",
      "[102]\tvalidation_0-logloss:0.03102\tvalidation_1-logloss:0.17946\n",
      "[103]\tvalidation_0-logloss:0.03061\tvalidation_1-logloss:0.17969\n",
      "[104]\tvalidation_0-logloss:0.03023\tvalidation_1-logloss:0.17923\n",
      "[105]\tvalidation_0-logloss:0.02986\tvalidation_1-logloss:0.17947\n",
      "[106]\tvalidation_0-logloss:0.02944\tvalidation_1-logloss:0.17869\n",
      "[107]\tvalidation_0-logloss:0.02907\tvalidation_1-logloss:0.17885\n",
      "[108]\tvalidation_0-logloss:0.02873\tvalidation_1-logloss:0.17910\n",
      "[109]\tvalidation_0-logloss:0.02838\tvalidation_1-logloss:0.17938\n",
      "[110]\tvalidation_0-logloss:0.02805\tvalidation_1-logloss:0.17963\n",
      "[111]\tvalidation_0-logloss:0.02770\tvalidation_1-logloss:0.18021\n",
      "[112]\tvalidation_0-logloss:0.02738\tvalidation_1-logloss:0.18050\n",
      "[113]\tvalidation_0-logloss:0.02708\tvalidation_1-logloss:0.18048\n",
      "[114]\tvalidation_0-logloss:0.02677\tvalidation_1-logloss:0.18068\n",
      "[115]\tvalidation_0-logloss:0.02646\tvalidation_1-logloss:0.18096\n",
      "[116]\tvalidation_0-logloss:0.02616\tvalidation_1-logloss:0.18127\n",
      "[117]\tvalidation_0-logloss:0.02589\tvalidation_1-logloss:0.18137\n",
      "[118]\tvalidation_0-logloss:0.02563\tvalidation_1-logloss:0.18179\n",
      "[119]\tvalidation_0-logloss:0.02535\tvalidation_1-logloss:0.18256\n",
      "[120]\tvalidation_0-logloss:0.02509\tvalidation_1-logloss:0.18268\n",
      "[121]\tvalidation_0-logloss:0.02482\tvalidation_1-logloss:0.18211\n",
      "[122]\tvalidation_0-logloss:0.02450\tvalidation_1-logloss:0.18235\n"
     ]
    },
    {
     "data": {
      "text/plain": [
       "0.9883040935672515"
      ]
     },
     "execution_count": 177,
     "metadata": {},
     "output_type": "execute_result"
    }
   ],
   "source": [
    "xgb_clf=XGBClassifier(n_estimators=400, learning_rate = 0.05, max_depth=3)\n",
    "x_tr, x_val, y_tr, y_val = train_test_split(x_train, y_train)\n",
    "evals=[(x_tr,y_tr),(x_val,y_val)]\n",
    "xgb_clf.fit(x_tr,y_tr,early_stopping_rounds=30, eval_metric='logloss',\n",
    "            eval_set=evals, verbose=True)\n",
    "pred50=xgb_clf.predict(x_test)\n",
    "pred50_proba= xgb_clf.predict_proba(x_test)[:,1]\n",
    "accuracy_score(y_test,pred)"
   ]
  },
  {
   "cell_type": "code",
   "execution_count": 178,
   "id": "57fc374c-fa7c-483f-be66-7ffa50926d8f",
   "metadata": {},
   "outputs": [
    {
     "name": "stdout",
     "output_type": "stream",
     "text": [
      "[1]\tvalid_0's binary_logloss: 0.565079\n",
      "[2]\tvalid_0's binary_logloss: 0.507451\n",
      "[3]\tvalid_0's binary_logloss: 0.458489\n",
      "[4]\tvalid_0's binary_logloss: 0.417481\n",
      "[5]\tvalid_0's binary_logloss: 0.385507\n",
      "[6]\tvalid_0's binary_logloss: 0.355773\n",
      "[7]\tvalid_0's binary_logloss: 0.329587\n",
      "[8]\tvalid_0's binary_logloss: 0.308478\n",
      "[9]\tvalid_0's binary_logloss: 0.285395\n",
      "[10]\tvalid_0's binary_logloss: 0.267055\n",
      "[11]\tvalid_0's binary_logloss: 0.252013\n",
      "[12]\tvalid_0's binary_logloss: 0.237018\n",
      "[13]\tvalid_0's binary_logloss: 0.224756\n",
      "[14]\tvalid_0's binary_logloss: 0.213383\n",
      "[15]\tvalid_0's binary_logloss: 0.203058\n",
      "[16]\tvalid_0's binary_logloss: 0.194015\n",
      "[17]\tvalid_0's binary_logloss: 0.186412\n",
      "[18]\tvalid_0's binary_logloss: 0.179108\n",
      "[19]\tvalid_0's binary_logloss: 0.174004\n",
      "[20]\tvalid_0's binary_logloss: 0.167155\n",
      "[21]\tvalid_0's binary_logloss: 0.162494\n",
      "[22]\tvalid_0's binary_logloss: 0.156886\n",
      "[23]\tvalid_0's binary_logloss: 0.152855\n",
      "[24]\tvalid_0's binary_logloss: 0.151113\n",
      "[25]\tvalid_0's binary_logloss: 0.148395\n",
      "[26]\tvalid_0's binary_logloss: 0.145869\n",
      "[27]\tvalid_0's binary_logloss: 0.143036\n",
      "[28]\tvalid_0's binary_logloss: 0.14033\n",
      "[29]\tvalid_0's binary_logloss: 0.139609\n",
      "[30]\tvalid_0's binary_logloss: 0.136109\n",
      "[31]\tvalid_0's binary_logloss: 0.134867\n",
      "[32]\tvalid_0's binary_logloss: 0.134729\n",
      "[33]\tvalid_0's binary_logloss: 0.1311\n",
      "[34]\tvalid_0's binary_logloss: 0.131143\n",
      "[35]\tvalid_0's binary_logloss: 0.129435\n",
      "[36]\tvalid_0's binary_logloss: 0.128474\n",
      "[37]\tvalid_0's binary_logloss: 0.126683\n",
      "[38]\tvalid_0's binary_logloss: 0.126112\n",
      "[39]\tvalid_0's binary_logloss: 0.122831\n",
      "[40]\tvalid_0's binary_logloss: 0.123162\n",
      "[41]\tvalid_0's binary_logloss: 0.125592\n",
      "[42]\tvalid_0's binary_logloss: 0.128293\n",
      "[43]\tvalid_0's binary_logloss: 0.128123\n",
      "[44]\tvalid_0's binary_logloss: 0.12789\n",
      "[45]\tvalid_0's binary_logloss: 0.122818\n",
      "[46]\tvalid_0's binary_logloss: 0.12496\n",
      "[47]\tvalid_0's binary_logloss: 0.125578\n",
      "[48]\tvalid_0's binary_logloss: 0.127381\n",
      "[49]\tvalid_0's binary_logloss: 0.128349\n",
      "[50]\tvalid_0's binary_logloss: 0.127004\n",
      "[51]\tvalid_0's binary_logloss: 0.130288\n",
      "[52]\tvalid_0's binary_logloss: 0.131362\n",
      "[53]\tvalid_0's binary_logloss: 0.133363\n",
      "[54]\tvalid_0's binary_logloss: 0.1332\n",
      "[55]\tvalid_0's binary_logloss: 0.134543\n",
      "[56]\tvalid_0's binary_logloss: 0.130803\n",
      "[57]\tvalid_0's binary_logloss: 0.130306\n",
      "[58]\tvalid_0's binary_logloss: 0.132514\n",
      "[59]\tvalid_0's binary_logloss: 0.133278\n",
      "[60]\tvalid_0's binary_logloss: 0.134804\n",
      "[61]\tvalid_0's binary_logloss: 0.136888\n",
      "[62]\tvalid_0's binary_logloss: 0.138745\n",
      "[63]\tvalid_0's binary_logloss: 0.140497\n",
      "[64]\tvalid_0's binary_logloss: 0.141368\n",
      "[65]\tvalid_0's binary_logloss: 0.140764\n",
      "[66]\tvalid_0's binary_logloss: 0.14348\n",
      "[67]\tvalid_0's binary_logloss: 0.143418\n",
      "[68]\tvalid_0's binary_logloss: 0.143682\n",
      "[69]\tvalid_0's binary_logloss: 0.145076\n",
      "[70]\tvalid_0's binary_logloss: 0.14686\n",
      "[71]\tvalid_0's binary_logloss: 0.148051\n",
      "[72]\tvalid_0's binary_logloss: 0.147664\n",
      "[73]\tvalid_0's binary_logloss: 0.149478\n",
      "[74]\tvalid_0's binary_logloss: 0.14708\n",
      "[75]\tvalid_0's binary_logloss: 0.14545\n",
      "[76]\tvalid_0's binary_logloss: 0.148767\n",
      "[77]\tvalid_0's binary_logloss: 0.149959\n",
      "[78]\tvalid_0's binary_logloss: 0.146083\n",
      "[79]\tvalid_0's binary_logloss: 0.14638\n",
      "[80]\tvalid_0's binary_logloss: 0.148461\n",
      "[81]\tvalid_0's binary_logloss: 0.15091\n",
      "[82]\tvalid_0's binary_logloss: 0.153011\n",
      "[83]\tvalid_0's binary_logloss: 0.154807\n",
      "[84]\tvalid_0's binary_logloss: 0.156501\n",
      "[85]\tvalid_0's binary_logloss: 0.158586\n",
      "[86]\tvalid_0's binary_logloss: 0.159819\n",
      "[87]\tvalid_0's binary_logloss: 0.161745\n",
      "[88]\tvalid_0's binary_logloss: 0.162829\n",
      "[89]\tvalid_0's binary_logloss: 0.159142\n",
      "[90]\tvalid_0's binary_logloss: 0.156765\n",
      "[91]\tvalid_0's binary_logloss: 0.158625\n",
      "[92]\tvalid_0's binary_logloss: 0.156832\n",
      "[93]\tvalid_0's binary_logloss: 0.154616\n",
      "[94]\tvalid_0's binary_logloss: 0.154263\n",
      "[95]\tvalid_0's binary_logloss: 0.157156\n",
      "[96]\tvalid_0's binary_logloss: 0.158617\n",
      "[97]\tvalid_0's binary_logloss: 0.157495\n",
      "[98]\tvalid_0's binary_logloss: 0.159413\n",
      "[99]\tvalid_0's binary_logloss: 0.15847\n",
      "[100]\tvalid_0's binary_logloss: 0.160746\n",
      "[101]\tvalid_0's binary_logloss: 0.16217\n",
      "[102]\tvalid_0's binary_logloss: 0.165293\n",
      "[103]\tvalid_0's binary_logloss: 0.164749\n",
      "[104]\tvalid_0's binary_logloss: 0.167097\n",
      "[105]\tvalid_0's binary_logloss: 0.167697\n",
      "[106]\tvalid_0's binary_logloss: 0.169462\n",
      "[107]\tvalid_0's binary_logloss: 0.169947\n",
      "[108]\tvalid_0's binary_logloss: 0.171\n",
      "[109]\tvalid_0's binary_logloss: 0.16907\n",
      "[110]\tvalid_0's binary_logloss: 0.169521\n",
      "[111]\tvalid_0's binary_logloss: 0.167719\n",
      "[112]\tvalid_0's binary_logloss: 0.166648\n",
      "[113]\tvalid_0's binary_logloss: 0.169053\n",
      "[114]\tvalid_0's binary_logloss: 0.169613\n",
      "[115]\tvalid_0's binary_logloss: 0.170059\n",
      "[116]\tvalid_0's binary_logloss: 0.1723\n",
      "[117]\tvalid_0's binary_logloss: 0.174733\n",
      "[118]\tvalid_0's binary_logloss: 0.173526\n",
      "[119]\tvalid_0's binary_logloss: 0.1751\n",
      "[120]\tvalid_0's binary_logloss: 0.178254\n",
      "[121]\tvalid_0's binary_logloss: 0.182968\n",
      "[122]\tvalid_0's binary_logloss: 0.179017\n",
      "[123]\tvalid_0's binary_logloss: 0.178326\n",
      "[124]\tvalid_0's binary_logloss: 0.177149\n",
      "[125]\tvalid_0's binary_logloss: 0.179171\n",
      "[126]\tvalid_0's binary_logloss: 0.180948\n",
      "[127]\tvalid_0's binary_logloss: 0.183861\n",
      "[128]\tvalid_0's binary_logloss: 0.187579\n",
      "[129]\tvalid_0's binary_logloss: 0.188122\n",
      "[130]\tvalid_0's binary_logloss: 0.1857\n",
      "[131]\tvalid_0's binary_logloss: 0.187442\n",
      "[132]\tvalid_0's binary_logloss: 0.188578\n",
      "[133]\tvalid_0's binary_logloss: 0.189729\n",
      "[134]\tvalid_0's binary_logloss: 0.187313\n",
      "[135]\tvalid_0's binary_logloss: 0.189279\n",
      "[136]\tvalid_0's binary_logloss: 0.191068\n",
      "[137]\tvalid_0's binary_logloss: 0.192414\n",
      "[138]\tvalid_0's binary_logloss: 0.191255\n",
      "[139]\tvalid_0's binary_logloss: 0.193453\n",
      "[140]\tvalid_0's binary_logloss: 0.196969\n",
      "[141]\tvalid_0's binary_logloss: 0.196378\n",
      "[142]\tvalid_0's binary_logloss: 0.196367\n",
      "[143]\tvalid_0's binary_logloss: 0.19869\n",
      "[144]\tvalid_0's binary_logloss: 0.200352\n",
      "[145]\tvalid_0's binary_logloss: 0.19712\n"
     ]
    },
    {
     "name": "stderr",
     "output_type": "stream",
     "text": [
      "/Users/chloe/opt/anaconda3/lib/python3.9/site-packages/lightgbm/sklearn.py:726: UserWarning: 'early_stopping_rounds' argument is deprecated and will be removed in a future release of LightGBM. Pass 'early_stopping()' callback via 'callbacks' argument instead.\n",
      "  _log_warning(\"'early_stopping_rounds' argument is deprecated and will be removed in a future release of LightGBM. \"\n",
      "/Users/chloe/opt/anaconda3/lib/python3.9/site-packages/lightgbm/sklearn.py:736: UserWarning: 'verbose' argument is deprecated and will be removed in a future release of LightGBM. Pass 'log_evaluation()' callback via 'callbacks' argument instead.\n",
      "  _log_warning(\"'verbose' argument is deprecated and will be removed in a future release of LightGBM. \"\n"
     ]
    }
   ],
   "source": [
    "# LightGBM의 파이썬 패키지인 lightgbm에서 LGBMClassifier 임포트\n",
    "from lightgbm import LGBMClassifier\n",
    "\n",
    "import pandas as pd\n",
    "import numpy as np\n",
    "from sklearn.datasets import load_breast_cancer\n",
    "from sklearn.model_selection import train_test_split\n",
    "\n",
    "dataset = load_breast_cancer()\n",
    "ftr = dataset.data\n",
    "target = dataset.target\n",
    "\n",
    "# 전체 데이터 중 80%는 학습용 데이터, 20%는 테스트용 데이터 추출\n",
    "X_train, X_test, y_train, y_test=train_test_split(ftr, target, test_size=0.2, random_state=156 )\n",
    "\n",
    "# 앞서 XGBoost와 동일하게 n_estimators는 400 설정. \n",
    "lgbm_wrapper = LGBMClassifier(n_estimators=400)\n",
    "\n",
    "# LightGBM도 XGBoost와 동일하게 조기 중단 수행 가능. \n",
    "evals = [(X_test, y_test)]\n",
    "lgbm_wrapper.fit(X_train, y_train, early_stopping_rounds=100, eval_metric=\"logloss\", \n",
    "                 eval_set=evals, verbose=True)\n",
    "preds = lgbm_wrapper.predict(X_test)\n",
    "pred_proba = lgbm_wrapper.predict_proba(X_test)[:, 1]"
   ]
  },
  {
   "cell_type": "code",
   "execution_count": 180,
   "id": "d97c2b24-1bec-49b9-b1e6-9052789e7c3c",
   "metadata": {},
   "outputs": [
    {
     "data": {
      "text/plain": [
       "<Axes: title={'center': 'Feature importance'}, xlabel='Feature importance', ylabel='Features'>"
      ]
     },
     "execution_count": 180,
     "metadata": {},
     "output_type": "execute_result"
    },
    {
     "data": {
      "image/png": "[encoded data removed]",
      "text/plain": [
       "<Figure size 720x864 with 1 Axes>"
      ]
     },
     "metadata": {
      "needs_background": "light"
     },
     "output_type": "display_data"
    }
   ],
   "source": [
    "# plot_importance( )를 이용하여 feature 중요도 시각화\n",
    "from lightgbm import plot_importance\n",
    "import matplotlib.pyplot as plt\n",
    "%matplotlib inline\n",
    "\n",
    "fig, ax = plt.subplots(figsize=(10, 12))\n",
    "plot_importance(lgbm_wrapper, ax=ax)"
   ]
  },
  {
   "cell_type": "code",
   "execution_count": null,
   "id": "6593d908-dfbf-40a6-a686-7914eecbff34",
   "metadata": {},
   "outputs": [],
   "source": []
  }
 ],
 "metadata": {
  "kernelspec": {
   "display_name": "Python 3 (ipykernel)",
   "language": "python",
   "name": "python3"
  },
  "language_info": {
   "codemirror_mode": {
    "name": "ipython",
    "version": 3
   },
   "file_extension": ".py",
   "mimetype": "text/x-python",
   "name": "python",
   "nbconvert_exporter": "python",
   "pygments_lexer": "ipython3",
   "version": "3.9.7"
  }
 },
 "nbformat": 4,
 "nbformat_minor": 5
}
