{
 "cells": [
  {
   "cell_type": "markdown",
   "id": "943e4788-a558-4ab6-94f8-7d3f2b9f37ae",
   "metadata": {},
   "source": [
    "LDA 이용한 TOPIC MODELING"
   ]
  },
  {
   "cell_type": "code",
   "execution_count": 25,
   "id": "8a32ed6f-bbc0-42cf-a499-7d2ac960f05a",
   "metadata": {
    "tags": []
   },
   "outputs": [
    {
     "name": "stdout",
     "output_type": "stream",
     "text": [
      "20 ['alt.atheism', 'comp.graphics', 'comp.os.ms-windows.misc', 'comp.sys.ibm.pc.hardware', 'comp.sys.mac.hardware', 'comp.windows.x', 'misc.forsale', 'rec.autos', 'rec.motorcycles', 'rec.sport.baseball', 'rec.sport.hockey', 'sci.crypt', 'sci.electronics', 'sci.med', 'sci.space', 'soc.religion.christian', 'talk.politics.guns', 'talk.politics.mideast', 'talk.politics.misc', 'talk.religion.misc']\n"
     ]
    }
   ],
   "source": [
    "import pandas as pd\n",
    "import numpy as np\n",
    "from sklearn.datasets import fetch_20newsgroups\n",
    "news = fetch_20newsgroups(subset='all', random_state = 156)\n",
    "print(len(news.target_names),news.target_names)"
   ]
  },
  {
   "cell_type": "markdown",
   "id": "d6678cb2-7b3c-4807-80de-09dcd9984c94",
   "metadata": {},
   "source": [
    "* 8개 분야에서만 주제 추출"
   ]
  },
  {
   "cell_type": "code",
   "execution_count": 12,
   "id": "989b5e13-cae8-4612-8647-6ca63609f33b",
   "metadata": {
    "tags": []
   },
   "outputs": [
    {
     "name": "stdout",
     "output_type": "stream",
     "text": [
      "['comp.graphics', 'comp.windows.x', 'rec.motorcycles', 'rec.sport.baseball', 'sci.electronics', 'sci.med', 'soc.religion.christian', 'talk.politics.mideast']\n",
      "\n",
      "\n",
      "[[3.60992018e+01 1.35626798e+02 2.15751867e+01 ... 3.02911688e+01\n",
      "  8.66830093e+01 6.79285199e+01]\n",
      " [1.25199920e-01 1.44401815e+01 1.25045596e-01 ... 1.81506995e+02\n",
      "  1.25097844e-01 9.39593286e+01]\n",
      " [3.34762663e+02 1.25176265e-01 1.46743299e+02 ... 1.25105772e-01\n",
      "  3.63689741e+01 1.25025218e-01]\n",
      " ...\n",
      " [3.60204965e+01 2.08640688e+01 4.29606813e+00 ... 1.45056650e+01\n",
      "  8.33854413e+00 1.55690009e+01]\n",
      " [1.25128711e-01 1.25247756e-01 1.25005143e-01 ... 9.17278769e+01\n",
      "  1.25177668e-01 3.74575887e+01]\n",
      " [5.49258690e+01 4.47009532e+00 9.88524814e+00 ... 4.87048440e+01\n",
      "  1.25034678e-01 1.25074632e-01]]\n"
     ]
    }
   ],
   "source": [
    "from sklearn.feature_extraction.text import CountVectorizer\n",
    "from sklearn.decomposition import LatentDirichletAllocation\n",
    "\n",
    "# 뉴스분야 8개 추출\n",
    "cats = ['rec.motorcycles', 'rec.sport.baseball', 'comp.graphics', 'comp.windows.x',\n",
    "        'talk.politics.mideast', 'soc.religion.christian', 'sci.electronics', 'sci.med' ]\n",
    "\n",
    "news= fetch_20newsgroups(subset='all',remove=('headers', 'footers', 'quotes'), \n",
    "                        categories=cats, random_state=0)\n",
    "\n",
    "# counbt 기반 피처 벡터화\n",
    "cnt_vect = CountVectorizer(max_df=0.95, max_features=1000, min_df=2, \n",
    "                           stop_words='english', ngram_range=(1,2))\n",
    "features = cnt_vect.fit_transform(news.data)\n",
    "\n",
    "# LDA 토픽 모델링\n",
    "lda = LatentDirichletAllocation(n_components=8, random_state=0) #n_components 토픽 개수 조정 \n",
    "lda.fit(features)\n",
    "\n",
    "print(news.target_names)\n",
    "print('\\n')\n",
    "print(lda.components_)"
   ]
  },
  {
   "cell_type": "markdown",
   "id": "7967c9f6-31f8-45c2-8888-b243cf4615b9",
   "metadata": {
    "tags": []
   },
   "source": [
    "* 각 뉴스별 중요 단어 15개 가져오는 함수 생성"
   ]
  },
  {
   "cell_type": "code",
   "execution_count": 38,
   "id": "dd0a3b68-75e8-44f8-953e-fab015a1f234",
   "metadata": {
    "tags": []
   },
   "outputs": [
    {
     "ename": "AttributeError",
     "evalue": "'CountVectorizer' object has no attribute 'get_feature_names'",
     "output_type": "error",
     "traceback": [
      "\u001b[1;31m---------------------------------------------------------------------------\u001b[0m",
      "\u001b[1;31mAttributeError\u001b[0m                            Traceback (most recent call last)",
      "Cell \u001b[1;32mIn[38], line 18\u001b[0m\n\u001b[0;32m     15\u001b[0m         \u001b[38;5;28mprint\u001b[39m(\u001b[38;5;124m\"\u001b[39m\u001b[38;5;124m \u001b[39m\u001b[38;5;124m\"\u001b[39m)\n\u001b[0;32m     17\u001b[0m \u001b[38;5;66;03m# CountVectorizer 객체의 전체 word 명칭\u001b[39;00m\n\u001b[1;32m---> 18\u001b[0m feature_names \u001b[38;5;241m=\u001b[39m \u001b[43mcnt_vect\u001b[49m\u001b[38;5;241;43m.\u001b[39;49m\u001b[43mget_feature_names\u001b[49m()\n\u001b[0;32m     20\u001b[0m \u001b[38;5;66;03m# Topic별 가장 연관도가 높은 word 15개\u001b[39;00m\n\u001b[0;32m     21\u001b[0m display_topics(lda, feature_names, \u001b[38;5;241m15\u001b[39m)\n",
      "\u001b[1;31mAttributeError\u001b[0m: 'CountVectorizer' object has no attribute 'get_feature_names'"
     ]
    }
   ],
   "source": [
    "def display_topics(model, feature_names, no_top_words):\n",
    "    topic_news20 = [\"모토사이클\", \"야구\", \"그래픽스\", \"윈도우즈\", \"중동\", \"기독교\", \"전자공학\", \"의학\"]\n",
    "    \n",
    "    for topic_index, topic in enumerate(model.components_):\n",
    "        print('Topic #', topic_index + 1, topic_news20[topic_index])\n",
    "\n",
    "        # 각 토픽별 word 피처 연관도 내림차순 정렬시 값들의 index 반환 .. (1)\n",
    "        topic_word_indexes = topic.argsort()[::-1] # [::-1] 역순으로 정렬\n",
    "        top_indexes = topic_word_indexes[:no_top_words]\n",
    "        \n",
    "        # (1)의 index로 피처 이름명 추출\n",
    "        feature_concat = '/'.join([feature_names[i] for i in top_indexes])                \n",
    "        \n",
    "        print(feature_concat)\n",
    "        print(\" \")\n",
    "        \n",
    "# CountVectorizer 객체의 전체 word 명칭\n",
    "feature_names = cnt_vect.get_feature_names()\n",
    "\n",
    "# Topic별 가장 연관도가 높은 word 15개\n",
    "display_topics(lda, feature_names, 15)\n",
    "\n",
    "#sklearn 버전이 달라서 get_feature_names 지원안함 원래 결과값 아래 "
   ]
  },
  {
   "cell_type": "markdown",
   "id": "85d2409f-2df0-4b99-b19e-7017d69d2ce2",
   "metadata": {},
   "source": [
    "Topic # 1 모토사이클\n",
    "year/10/game/medical/health/team/12/20/disease/cancer/1993/games/years/patients/good\n",
    " \n",
    "Topic # 2 야구\n",
    "don/just/like/know/people/said/think/time/ve/didn/right/going/say/ll/way\n",
    " \n",
    "Topic # 3 그래픽스\n",
    "image/file/jpeg/program/gif/images/output/format/files/color/entry/00/use/bit/03\n",
    " \n",
    "Topic # 4 윈도우즈\n",
    "like/know/don/think/use/does/just/good/time/book/read/information/people/used/post\n",
    " \n",
    "Topic # 5 중동\n",
    "armenian/israel/armenians/jews/turkish/people/israeli/jewish/government/war/dos dos/turkey/arab/armenia/000\n",
    " \n",
    "Topic # 6 기독교\n",
    "edu/com/available/graphics/ftp/data/pub/motif/mail/widget/software/mit/information/version/sun\n",
    " \n",
    "Topic # 7 전자공학\n",
    "god/people/jesus/church/believe/christ/does/christian/say/think/christians/bible/faith/sin/life\n",
    " \n",
    "Topic # 8 의학\n",
    "use/dos/thanks/windows/using/window/does/display/help/like/problem/server/need/know/run"
   ]
  },
  {
   "cell_type": "code",
   "execution_count": null,
   "id": "5ce30f55-7efb-4f15-be98-3af20ed1975f",
   "metadata": {},
   "outputs": [],
   "source": []
  }
 ],
 "metadata": {
  "kernelspec": {
   "display_name": "Python 3 (ipykernel)",
   "language": "python",
   "name": "python3"
  },
  "language_info": {
   "codemirror_mode": {
    "name": "ipython",
    "version": 3
   },
   "file_extension": ".py",
   "mimetype": "text/x-python",
   "name": "python",
   "nbconvert_exporter": "python",
   "pygments_lexer": "ipython3",
   "version": "3.10.9"
  }
 },
 "nbformat": 4,
 "nbformat_minor": 5
}
