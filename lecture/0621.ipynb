{
 "cells": [
  {
   "cell_type": "code",
   "execution_count": 4,
   "id": "fc0d99e0-5644-46d5-9608-743ec33df087",
   "metadata": {
    "tags": []
   },
   "outputs": [],
   "source": [
    "from keras.layers import Input, Dense, Dropout, Conv2D, MaxPooling2D, Flatten\n",
    "from keras import layers\n",
    "import keras\n",
    "vocab_size= 10000\n",
    "num_tags= 100\n",
    "num_departments=4\n",
    "\n",
    "title= Input(shape=(vocab_size,),name='title' ) #입력 정의\n",
    "text_body= Input(shape=(vocab_size,),name='text_body' )\n",
    "tags= Input(shape=(num_tags,),name='tags' )\n",
    "\n",
    "features=layers.Concatenate()([title,text_body,tags]) #입력특성을 하나의 텐서 feature로 연결 \n",
    "features=layers.Dense(64, activation='relu')(features) #중간층으로 재결합\n",
    "\n",
    "priority=layers.Dense(1, activation='sigmoid', name='priority')(features)  #출력 정의 \n",
    "department=layers.Dense(num_departments, activation='softmax', name='department')(features)\n",
    "model=keras.Model(inputs=[title, text_body, tags], #입출력 지정\n",
    "                 outputs=[priority, department])"
   ]
  },
  {
   "cell_type": "code",
   "execution_count": 5,
   "id": "c159e1c9-d035-41be-abb7-f2329857a1e5",
   "metadata": {
    "tags": []
   },
   "outputs": [
    {
     "name": "stdout",
     "output_type": "stream",
     "text": [
      "40/40 [==============================] - 1s 10ms/step - loss: 33.5973 - priority_loss: 0.3318 - department_loss: 33.2655 - priority_mean_absolute_error: 0.4984 - department_accuracy: 0.2562\n",
      "40/40 [==============================] - 0s 4ms/step - loss: 6.0499 - priority_loss: 0.3376 - department_loss: 5.7123 - priority_mean_absolute_error: 0.5055 - department_accuracy: 0.4656\n",
      "40/40 [==============================] - 0s 3ms/step\n"
     ]
    }
   ],
   "source": [
    "#입력과 타겟 배열 리스트를 전달하여 모델 훈련 \n",
    "import numpy as np\n",
    "num_samples=1280\n",
    "\n",
    "title_data= np.random.randint(0,2,size=(num_samples, vocab_size))\n",
    "text_body_data= np.random.randint(0,2,size=(num_samples, vocab_size))\n",
    "tags_data= np.random.randint(0,2,size=(num_samples, num_tags))  #dummy 입력 데이터 \n",
    "\n",
    "priority_data= np.random.random(size=(num_samples,1))\n",
    "department_data= np.random.randint(0,2,size=(num_samples, num_departments)) #더미 타겟 \n",
    "\n",
    "model.compile(optimizer ='rmsprop', \n",
    "             loss =['mean_squared_error','categorical_crossentropy'],\n",
    "             metrics=[['mean_absolute_error'],['accuracy']])\n",
    "\n",
    "model.fit([title_data,text_body_data, tags_data], #데이터 리스트는 model 클래스에 전달한 순서와 같아야한다. \n",
    "          [priority_data,department_data],\n",
    "                   epochs=1)\n",
    "\n",
    "model.evaluate([title_data,text_body_data, tags_data],\n",
    "          [priority_data,department_data])\n",
    "prioridy_preds, department_preds = model.predict([title_data, text_body_data, tags_data])"
   ]
  },
  {
   "cell_type": "code",
   "execution_count": 6,
   "id": "b63e2b7f-79a9-4c1a-a905-6e6d7b5f9058",
   "metadata": {},
   "outputs": [],
   "source": [
    "import keras\n",
    "class CustomerTicketModel(keras.Model):\n",
    "\n",
    "    def __init__(self, num_departments):\n",
    "        super().__init__()\n",
    "        self.concat_layer = layers.Concatenate()\n",
    "        self.mixing_layer = layers.Dense(64, activation=\"relu\")\n",
    "        self.priority_scorer = layers.Dense(1, activation=\"sigmoid\")\n",
    "        self.department_classifier = layers.Dense(\n",
    "            num_departments, activation=\"softmax\")\n",
    "\n",
    "    def call(self, inputs):\n",
    "        title = inputs[\"title\"] #딕셔너리로 전달 \n",
    "        text_body = inputs[\"text_body\"]\n",
    "        tags = inputs[\"tags\"]\n",
    "\n",
    "        features = self.concat_layer([title, text_body, tags])\n",
    "        features = self.mixing_layer(features)\n",
    "        priority = self.priority_scorer(features)\n",
    "        department = self.department_classifier(features)\n",
    "        return priority, department "
   ]
  },
  {
   "cell_type": "code",
   "execution_count": 7,
   "id": "20403181-e698-458f-89ef-470a60b02ee9",
   "metadata": {
    "tags": []
   },
   "outputs": [],
   "source": [
    "model=CustomerTicketModel(num_departments=4)\n",
    "priority,department= model({'title':title_data,'text_body': text_body_data, 'tags':\n",
    "                           tags_data})"
   ]
  },
  {
   "cell_type": "code",
   "execution_count": 8,
   "id": "e50378e3-5240-4ac1-a733-200cf1ddd42f",
   "metadata": {
    "tags": []
   },
   "outputs": [],
   "source": [
    "import pydot\n",
    "import graphviz"
   ]
  },
  {
   "cell_type": "code",
   "execution_count": 9,
   "id": "3cb0965c-424d-4209-b700-63530e0e1cf6",
   "metadata": {
    "tags": []
   },
   "outputs": [
    {
     "name": "stdout",
     "output_type": "stream",
     "text": [
      "You must install pydot (`pip install pydot`) and install graphviz (see instructions at https://graphviz.gitlab.io/download/) for plot_model to work.\n"
     ]
    }
   ],
   "source": [
    "import keras\n",
    "keras.utils.plot_model(model)"
   ]
  },
  {
   "cell_type": "code",
   "execution_count": 10,
   "id": "c548c953-41d1-467a-bf73-9d18578539e8",
   "metadata": {
    "tags": []
   },
   "outputs": [
    {
     "name": "stdout",
     "output_type": "stream",
     "text": [
      "40/40 [==============================] - 1s 10ms/step - loss: 41.5665 - output_1_loss: 0.3215 - output_2_loss: 41.2449 - output_1_mean_absolute_error: 0.4904 - output_2_accuracy: 0.2383\n",
      "40/40 [==============================] - 0s 4ms/step - loss: 36.6060 - output_1_loss: 0.3215 - output_2_loss: 36.2844 - output_1_mean_absolute_error: 0.4904 - output_2_accuracy: 0.2367\n",
      "40/40 [==============================] - 0s 4ms/step\n"
     ]
    }
   ],
   "source": [
    "\n",
    "model.compile(optimizer ='rmsprop', \n",
    "             loss =['mean_squared_error','categorical_crossentropy'],\n",
    "             metrics=[['mean_absolute_error'],['accuracy']])\n",
    "\n",
    "model.fit({'title':title_data,'text_body': text_body_data, 'tags':\n",
    "                           tags_data},\n",
    "         [priority_data, department_data], \n",
    "         epochs=1)\n",
    "\n",
    "model.evaluate ({'title':title_data,'text_body': text_body_data, 'tags':\n",
    "                           tags_data},\n",
    "         [priority_data, department_data])\n",
    "\n",
    "priority_preds, department_preds = model.predict ({'title':title_data,'text_body': text_body_data, 'tags':\n",
    "                           tags_data})"
   ]
  },
  {
   "cell_type": "code",
   "execution_count": 11,
   "id": "b4d72461-96da-46a1-8648-011e01ee1247",
   "metadata": {
    "tags": []
   },
   "outputs": [
    {
     "name": "stdout",
     "output_type": "stream",
     "text": [
      "Epoch 1/3\n",
      "1563/1563 [==============================] - 7s 5ms/step - loss: 0.2962 - accuracy: 0.9125 - val_loss: 0.1444 - val_accuracy: 0.9591\n",
      "Epoch 2/3\n",
      "1563/1563 [==============================] - 7s 4ms/step - loss: 0.1631 - accuracy: 0.9530 - val_loss: 0.1248 - val_accuracy: 0.9665\n",
      "Epoch 3/3\n",
      "1563/1563 [==============================] - 7s 4ms/step - loss: 0.1320 - accuracy: 0.9621 - val_loss: 0.0996 - val_accuracy: 0.9739\n",
      "313/313 [==============================] - 1s 2ms/step - loss: 0.0904 - accuracy: 0.9756\n",
      "313/313 [==============================] - 1s 2ms/step\n"
     ]
    }
   ],
   "source": [
    "\n",
    "from tensorflow.keras.datasets import mnist\n",
    "\n",
    "def get_mnist_model():\n",
    "    inputs = keras.Input(shape=(28 * 28,))\n",
    "    features = layers.Dense(512, activation=\"relu\")(inputs)\n",
    "    features = layers.Dropout(0.5)(features)\n",
    "    outputs = layers.Dense(10, activation=\"softmax\")(features)\n",
    "    model = keras.Model(inputs, outputs)\n",
    "    return model\n",
    "\n",
    "(images, labels), (test_images, test_labels) = mnist.load_data()\n",
    "images = images.reshape((60000, 28 * 28)).astype(\"float32\") / 255\n",
    "test_images = test_images.reshape((10000, 28 * 28)).astype(\"float32\") / 255\n",
    "train_images, val_images = images[10000:], images[:10000] #검증데이터 활용 \n",
    "train_labels, val_labels = labels[10000:], labels[:10000]\n",
    "\n",
    "model = get_mnist_model()\n",
    "model.compile(optimizer=\"rmsprop\",\n",
    "              loss=\"sparse_categorical_crossentropy\",\n",
    "              metrics=[\"accuracy\"])\n",
    "model.fit(train_images, train_labels,epochs=3, #default ) batch_size =32\n",
    "          validation_data=(val_images, val_labels))\n",
    "test_metrics = model.evaluate(test_images, test_labels)\n",
    "predictions = model.predict(test_images)"
   ]
  },
  {
   "cell_type": "code",
   "execution_count": 12,
   "id": "bda37bbe-184e-41de-be2e-9597ef0e12a6",
   "metadata": {
    "tags": []
   },
   "outputs": [
    {
     "name": "stdout",
     "output_type": "stream",
     "text": [
      "You must install pydot (`pip install pydot`) and install graphviz (see instructions at https://graphviz.gitlab.io/download/) for plot_model to work.\n"
     ]
    }
   ],
   "source": []
  },
  {
   "cell_type": "code",
   "execution_count": 13,
   "id": "5409df19-30ff-4e1a-9512-5e7b1aa9a451",
   "metadata": {
    "tags": []
   },
   "outputs": [],
   "source": [
    "class Classifier(keras.Model):\n",
    "\n",
    "    def __init__(self, num_classes=2):\n",
    "        super().__init__()\n",
    "        if num_classes == 2:\n",
    "            num_units = 1\n",
    "            activation = \"sigmoid\"\n",
    "        else:\n",
    "            num_units = num_classes\n",
    "            activation = \"softmax\"\n",
    "        self.dense = layers.Dense(num_units, activation=activation)\n",
    "\n",
    "    def call(self, inputs):\n",
    "        return self.dense(inputs)\n",
    "\n",
    "inputs = keras.Input(shape=(3,))\n",
    "features = layers.Dense(64, activation=\"relu\")(inputs)\n",
    "outputs = Classifier(num_classes=10)(features)\n",
    "model = keras.Model(inputs=inputs, outputs=outputs)"
   ]
  },
  {
   "cell_type": "code",
   "execution_count": 14,
   "id": "f39dc20f-b199-4afb-980c-a98c757c2e59",
   "metadata": {
    "tags": []
   },
   "outputs": [],
   "source": [
    "inputs = keras.Input(shape=(64,))\n",
    "outputs = layers.Dense(1, activation=\"sigmoid\")(inputs)\n",
    "binary_classifier = keras.Model(inputs=inputs, outputs=outputs)\n",
    "\n",
    "class MyModel(keras.Model):\n",
    "\n",
    "    def __init__(self, num_classes=2):\n",
    "        super().__init__()\n",
    "        self.dense = layers.Dense(64, activation=\"relu\")\n",
    "        self.classifier = binary_classifier\n",
    "\n",
    "    def call(self, inputs):\n",
    "        features = self.dense(inputs)\n",
    "        return self.classifier(features)\n",
    "\n",
    "model = MyModel()"
   ]
  },
  {
   "cell_type": "code",
   "execution_count": 15,
   "id": "e57ae093-aaf0-4b01-be79-164c62d0d345",
   "metadata": {
    "tags": []
   },
   "outputs": [
    {
     "name": "stdout",
     "output_type": "stream",
     "text": [
      "Epoch 1/3\n",
      "1563/1563 [==============================] - 6s 4ms/step - loss: 0.2977 - accuracy: 0.9110 - rmse: 7.1733 - val_loss: 0.1506 - val_accuracy: 0.9564 - val_rmse: 7.3554\n",
      "Epoch 2/3\n",
      "1563/1563 [==============================] - 6s 4ms/step - loss: 0.1615 - accuracy: 0.9529 - rmse: 7.3485 - val_loss: 0.1106 - val_accuracy: 0.9702 - val_rmse: 7.3995\n",
      "Epoch 3/3\n",
      "1563/1563 [==============================] - 6s 4ms/step - loss: 0.1316 - accuracy: 0.9635 - rmse: 7.3849 - val_loss: 0.1038 - val_accuracy: 0.9722 - val_rmse: 7.4197\n",
      "313/313 [==============================] - 1s 2ms/step - loss: 0.0904 - accuracy: 0.9753 - rmse: 7.4315\n"
     ]
    }
   ],
   "source": [
    "import tensorflow as tf\n",
    "\n",
    "class RootMeanSquaredError(keras.metrics.Metric):\n",
    "\n",
    "    def __init__(self, name=\"rmse\", **kwargs):\n",
    "        super().__init__(name=name, **kwargs)\n",
    "        self.mse_sum = self.add_weight(name=\"mse_sum\", initializer=\"zeros\")\n",
    "        self.total_samples = self.add_weight(\n",
    "            name=\"total_samples\", initializer=\"zeros\", dtype=\"int32\")\n",
    "\n",
    "    def update_state(self, y_true, y_pred, sample_weight=None):\n",
    "        y_true = tf.one_hot(y_true, depth=tf.shape(y_pred)[1])\n",
    "        mse = tf.reduce_sum(tf.square(y_true - y_pred))\n",
    "        self.mse_sum.assign_add(mse)\n",
    "        num_samples = tf.shape(y_pred)[0]\n",
    "        self.total_samples.assign_add(num_samples)\n",
    "\n",
    "    def result(self):\n",
    "        return tf.sqrt(self.mse_sum / tf.cast(self.total_samples, tf.float32))\n",
    "\n",
    "    def reset_state(self):\n",
    "        self.mse_sum.assign(0.)\n",
    "        self.total_samples.assign(0)\n",
    "model = get_mnist_model()\n",
    "model.compile(optimizer=\"rmsprop\",\n",
    "              loss=\"sparse_categorical_crossentropy\",\n",
    "              metrics=[\"accuracy\", RootMeanSquaredError()])\n",
    "model.fit(train_images, train_labels,\n",
    "          epochs=3,\n",
    "          validation_data=(val_images, val_labels))\n",
    "test_metrics = model.evaluate(test_images, test_labels)"
   ]
  },
  {
   "cell_type": "markdown",
   "id": "0b9705d9-0bb6-441e-8f23-7d119214bf6e",
   "metadata": {},
   "source": [
    "### 콜백"
   ]
  },
  {
   "cell_type": "code",
   "execution_count": 16,
   "id": "c0aefbd0-a2cd-42bd-8923-ecf18686510b",
   "metadata": {
    "tags": []
   },
   "outputs": [
    {
     "ename": "SyntaxError",
     "evalue": "invalid syntax (216804964.py, line 1)",
     "output_type": "error",
     "traceback": [
      "\u001b[1;36m  Cell \u001b[1;32mIn[16], line 1\u001b[1;36m\u001b[0m\n\u001b[1;33m    - early stopping , modelchecpoint\u001b[0m\n\u001b[1;37m            ^\u001b[0m\n\u001b[1;31mSyntaxError\u001b[0m\u001b[1;31m:\u001b[0m invalid syntax\n"
     ]
    }
   ],
   "source": [
    "- early stopping , modelchecpoint"
   ]
  },
  {
   "cell_type": "code",
   "execution_count": 20,
   "id": "f2981471-75da-43f5-adc8-7ce204d2f53f",
   "metadata": {
    "tags": []
   },
   "outputs": [],
   "source": [
    "model.save('my_model.h5')\n"
   ]
  },
  {
   "cell_type": "code",
   "execution_count": 22,
   "id": "34bdc4c8-981b-4db1-b1db-844411263a43",
   "metadata": {
    "tags": []
   },
   "outputs": [],
   "source": [
    "my_model= keras.models.load_model('my_model.h5')"
   ]
  },
  {
   "cell_type": "code",
   "execution_count": 23,
   "id": "a9810f49-84cb-4f9e-937e-690fb2034abb",
   "metadata": {
    "tags": []
   },
   "outputs": [
    {
     "name": "stdout",
     "output_type": "stream",
     "text": [
      "1/1 [==============================] - 0s 46ms/step\n"
     ]
    },
    {
     "data": {
      "text/plain": [
       "array([[4.4862988e-10, 1.2903024e-11, 2.7324174e-07, 3.9113877e-07,\n",
       "        4.3070392e-14, 7.6910567e-10, 3.3541960e-15, 9.9999940e-01,\n",
       "        1.5795289e-10, 1.2475707e-08]], dtype=float32)"
      ]
     },
     "execution_count": 23,
     "metadata": {},
     "output_type": "execute_result"
    }
   ],
   "source": [
    "my_model.predict(test_images[0:1])"
   ]
  },
  {
   "cell_type": "code",
   "execution_count": 24,
   "id": "b672174e-4a79-4811-9b42-988e532784e0",
   "metadata": {
    "tags": []
   },
   "outputs": [
    {
     "name": "stdout",
     "output_type": "stream",
     "text": [
      "Epoch 1/10\n",
      "1563/1563 [==============================] - 7s 4ms/step - loss: 0.2962 - accuracy: 0.9110 - val_loss: 0.1491 - val_accuracy: 0.9570\n",
      "Epoch 2/10\n",
      "1563/1563 [==============================] - 7s 4ms/step - loss: 0.1601 - accuracy: 0.9531 - val_loss: 0.1167 - val_accuracy: 0.9672\n",
      "Epoch 3/10\n",
      "1563/1563 [==============================] - 6s 4ms/step - loss: 0.1333 - accuracy: 0.9620 - val_loss: 0.1067 - val_accuracy: 0.9695\n",
      "Epoch 4/10\n",
      "1563/1563 [==============================] - 6s 4ms/step - loss: 0.1147 - accuracy: 0.9683 - val_loss: 0.0929 - val_accuracy: 0.9766\n",
      "Epoch 5/10\n",
      "1563/1563 [==============================] - 7s 4ms/step - loss: 0.1016 - accuracy: 0.9715 - val_loss: 0.0986 - val_accuracy: 0.9757\n",
      "Epoch 6/10\n",
      "1563/1563 [==============================] - 6s 4ms/step - loss: 0.0946 - accuracy: 0.9740 - val_loss: 0.0989 - val_accuracy: 0.9773\n",
      "Epoch 7/10\n",
      "1563/1563 [==============================] - 6s 4ms/step - loss: 0.0879 - accuracy: 0.9761 - val_loss: 0.0939 - val_accuracy: 0.9787\n",
      "Epoch 8/10\n",
      "1563/1563 [==============================] - 6s 4ms/step - loss: 0.0794 - accuracy: 0.9781 - val_loss: 0.0952 - val_accuracy: 0.9775\n",
      "Epoch 9/10\n",
      "1563/1563 [==============================] - 6s 4ms/step - loss: 0.0766 - accuracy: 0.9794 - val_loss: 0.0999 - val_accuracy: 0.9776\n"
     ]
    },
    {
     "data": {
      "text/plain": [
       "<keras.callbacks.History at 0x25f97f4ec20>"
      ]
     },
     "execution_count": 24,
     "metadata": {},
     "output_type": "execute_result"
    }
   ],
   "source": [
    "callbacks_list = [\n",
    "    keras.callbacks.EarlyStopping( #성능향상 멈추면 훈련 중지\n",
    "        monitor=\"val_accuracy\", #검증 정확도 모니터링\n",
    "        patience=2, #두번 에포크동안 정확도가 향상 되지 않으면 훈련 중지\n",
    "    ),\n",
    "    keras.callbacks.ModelCheckpoint( #매 에포크 끝에서 현재 가중치 저장\n",
    "        filepath=\"checkpoint_path.keras\", #filepath = 파일이름\n",
    "        monitor=\"val_loss\", #val_loss가 좋아지지 않으면 모델파일을 덮어쓰지 않음\n",
    "        save_best_only=True, #가장 좋은 모델만 저장 \n",
    "    )\n",
    "]\n",
    "model = get_mnist_model()\n",
    "model.compile(optimizer=\"rmsprop\",\n",
    "              loss=\"sparse_categorical_crossentropy\",\n",
    "              metrics=[\"accuracy\"]) #정확도 모니터링 하므로 모델 지표 포함\n",
    "model.fit(train_images, train_labels, #콜백이 검증 손실과 검증정확도 모니터링 fit 호출할때\n",
    "          epochs=10,\n",
    "          callbacks=callbacks_list,#validation_data 매개변수로 검증 데이터 전달 ,학습 후 항상 모델을 수동으로 저장 \n",
    "          validation_data=(val_images, val_labels))"
   ]
  },
  {
   "cell_type": "code",
   "execution_count": 25,
   "id": "5d07dc9e-774a-46fa-adb5-36eb95166f72",
   "metadata": {
    "tags": []
   },
   "outputs": [
    {
     "name": "stdout",
     "output_type": "stream",
     "text": [
      " C 드라이브의 볼륨에는 이름이 없습니다.\n",
      " 볼륨 일련 번호: 144F-541F\n",
      "\n",
      " C:\\Users\\user 디렉터리\n",
      "\n",
      "2023-06-21  오전 10:53    <DIR>          .\n",
      "2023-05-01  오전 08:30    <DIR>          ..\n",
      "2023-06-20  오후 03:42    <DIR>          .cache\n",
      "2023-06-21  오전 10:34    <DIR>          .conda\n",
      "2023-03-24  오전 11:12                25 .condarc\n",
      "2023-03-24  오전 11:12    <DIR>          .continuum\n",
      "2023-03-09  오후 12:09    <DIR>          .idlerc\n",
      "2023-06-21  오전 09:36    <DIR>          .ipynb_checkpoints\n",
      "2023-03-09  오후 12:37    <DIR>          .ipython\n",
      "2023-03-10  오전 09:12    <DIR>          .jupyter\n",
      "2023-06-12  오후 02:14    <DIR>          .keras\n",
      "2023-03-09  오후 03:51    <DIR>          .matplotlib\n",
      "2023-02-28  오전 09:07    <DIR>          .ms-ad\n",
      "2023-04-06  오전 09:20    <DIR>          .pydataset\n",
      "2023-03-24  오전 11:43    <DIR>          .spyder-py3\n",
      "2023-05-11  오후 03:46    <DIR>          .surprise_data\n",
      "2023-06-12  오후 03:21            24,057 0612 keras.ipynb\n",
      "2023-06-14  오후 12:30            10,911 0613.ipynb\n",
      "2023-06-15  오전 10:30           137,776 0614.ipynb\n",
      "2023-06-20  오후 04:40           342,427 0615.ipynb\n",
      "2023-06-19  오전 10:48             9,320 0619.ipynb\n",
      "2023-06-21  오전 09:34           268,456 0620.ipynb\n",
      "2023-06-21  오전 10:53            19,693 0621.ipynb\n",
      "2021-02-16  오후 02:43    <DIR>          3D Objects\n",
      "2023-06-21  오전 10:16    <DIR>          anaconda3\n",
      "2022-11-13  오전 12:13    <DIR>          cats_and_dogs\n",
      "2023-06-20  오후 03:43        93,983,232 cats_and_dogs.tar\n",
      "2023-05-30  오후 12:26            55,216 checkpoint.keras\n",
      "2023-06-21  오전 10:48         3,280,152 checkpoint_path.keras\n",
      "2023-05-01  오전 08:35    <DIR>          Contacts\n",
      "2023-06-20  오전 11:23    <DIR>          Desktop\n",
      "2023-05-23  오후 06:40         6,137,739 df.csv\n",
      "2023-05-23  오후 06:39         5,015,080 df.xlsx\n",
      "2023-06-01  오전 11:48         7,869,141 df_cleaned.csv\n",
      "2023-05-25  오후 06:58         4,774,541 df_cleaned.xlsx\n",
      "2023-05-10  오전 08:22    <DIR>          Documents\n",
      "2023-06-21  오전 09:42    <DIR>          Downloads\n",
      "2023-05-01  오전 08:35    <DIR>          Favorites\n",
      "2023-05-30  오후 04:27    <DIR>          FlightGear\n",
      "2023-05-03  오전 09:02         2,578,580 get-pip.py\n",
      "2023-06-21  오전 09:22    <DIR>          Graphviz\n",
      "2020-12-30  오전 08:05        43,153,572 jena_climate_2009_2016.csv\n",
      "2023-05-30  오후 02:31        13,565,642 jena_climate_2009_2016.csv.zip\n",
      "2023-05-01  오전 08:35    <DIR>          Links\n",
      "2023-05-01  오전 08:35    <DIR>          Music\n",
      "2023-06-21  오전 10:42         3,280,152 my_model.h5\n",
      "2023-06-21  오전 10:41    <DIR>          my_model_path\n",
      "2023-03-17  오전 10:23    <DIR>          New\n",
      "2021-05-11  오전 10:51    <DIR>          OneDrive\n",
      "2023-05-17  오전 10:42    <DIR>          Oracle\n",
      "2023-05-03  오전 10:25    <DIR>          Pictures\n",
      "2023-06-09  오후 04:05             6,425 python oracle 연동.ipynb\n",
      "2023-05-03  오전 11:41    <DIR>          py_xgboost\n",
      "2023-06-09  오전 11:36                16 README.md\n",
      "2023-05-01  오전 08:35    <DIR>          Saved Games\n",
      "2023-05-10  오전 08:29    <DIR>          scikit_learn_data\n",
      "2023-05-01  오전 08:35    <DIR>          Searches\n",
      "2023-05-19  오전 11:01    <DIR>          SQL DATA\n",
      "2023-05-22  오후 03:00    <DIR>          test\n",
      "2023-05-25  오후 07:18            27,682 timedata.csv\n",
      "2023-05-26  오후 05:35           153,731 Untitled.ipynb\n",
      "2023-06-09  오후 03:55            92,905 Untitled1.ipynb\n",
      "2023-06-09  오후 03:55           139,520 Untitled2.ipynb\n",
      "2023-05-30  오후 08:43             4,682 Untitled3.ipynb\n",
      "2023-05-01  오전 08:35    <DIR>          Videos\n",
      "2023-06-09  오후 03:55            84,295 weatherbank.ipynb\n",
      "2023-05-25  오전 11:34            64,246 weather_eocs.csv\n",
      "2023-05-30  오후 02:32    <DIR>          __MACOSX\n",
      "2023-05-26  오후 05:36            67,010 기상청날씨예측 2.ipynb\n",
      "2023-05-26  오후 05:36           170,271 기상청날씨예측.ipynb\n",
      "2023-05-26  오후 05:35           234,519 날씨 전처리 .ipynb\n",
      "              31개 파일         185,551,014 바이트\n",
      "              40개 디렉터리  140,781,105,152 바이트 남음\n"
     ]
    }
   ],
   "source": [
    "!dir"
   ]
  },
  {
   "cell_type": "code",
   "execution_count": 30,
   "id": "28b83122-67cb-4b64-a000-5fa167efc8bd",
   "metadata": {
    "tags": []
   },
   "outputs": [
    {
     "name": "stdout",
     "output_type": "stream",
     "text": [
      "Epoch 1/10\n",
      "1563/1563 [==============================] - 7s 4ms/step - loss: 0.2930 - accuracy: 0.9123 - val_loss: 0.1532 - val_accuracy: 0.9573\n",
      "Epoch 2/10\n",
      "1563/1563 [==============================] - 7s 4ms/step - loss: 0.1596 - accuracy: 0.9543 - val_loss: 0.1116 - val_accuracy: 0.9692\n",
      "Epoch 3/10\n",
      "1563/1563 [==============================] - 7s 4ms/step - loss: 0.1280 - accuracy: 0.9631 - val_loss: 0.1118 - val_accuracy: 0.9701\n",
      "Epoch 4/10\n",
      "1563/1563 [==============================] - 7s 5ms/step - loss: 0.1155 - accuracy: 0.9678 - val_loss: 0.1013 - val_accuracy: 0.9738\n",
      "Epoch 5/10\n",
      "1563/1563 [==============================] - 7s 5ms/step - loss: 0.1051 - accuracy: 0.9705 - val_loss: 0.1020 - val_accuracy: 0.9755\n",
      "Epoch 6/10\n",
      "1563/1563 [==============================] - 7s 5ms/step - loss: 0.0992 - accuracy: 0.9731 - val_loss: 0.0959 - val_accuracy: 0.9778\n",
      "Epoch 7/10\n",
      "1563/1563 [==============================] - 8s 5ms/step - loss: 0.0871 - accuracy: 0.9761 - val_loss: 0.0958 - val_accuracy: 0.9775\n",
      "Epoch 8/10\n",
      "1563/1563 [==============================] - 8s 5ms/step - loss: 0.0848 - accuracy: 0.9776 - val_loss: 0.0915 - val_accuracy: 0.9781\n",
      "Epoch 9/10\n",
      "1563/1563 [==============================] - 8s 5ms/step - loss: 0.0783 - accuracy: 0.9782 - val_loss: 0.0890 - val_accuracy: 0.9804\n",
      "Epoch 10/10\n",
      "1563/1563 [==============================] - 7s 4ms/step - loss: 0.0738 - accuracy: 0.9801 - val_loss: 0.0955 - val_accuracy: 0.9792\n"
     ]
    },
    {
     "data": {
      "text/plain": [
       "<keras.callbacks.History at 0x25f969d74f0>"
      ]
     },
     "execution_count": 30,
     "metadata": {},
     "output_type": "execute_result"
    },
    {
     "data": {
      "image/png": "[encoded data removed]",
      "text/plain": [
       "<Figure size 640x480 with 1 Axes>"
      ]
     },
     "metadata": {},
     "output_type": "display_data"
    }
   ],
   "source": [
    "model=get_mnist_model()\n",
    "model.compile(optimizer ='rmsprop', \n",
    "             loss ='sparse_categorical_crossentropy',\n",
    "             metrics=['accuracy'])\n",
    "\n",
    "model.fit(train_images, train_labels, epochs=10,callbacks=[LossHistory()],\n",
    "         validation_data=(val_images, val_labels))"
   ]
  },
  {
   "cell_type": "code",
   "execution_count": 29,
   "id": "6dc653ba-ad7a-4753-8578-a8be6e6c1536",
   "metadata": {
    "tags": []
   },
   "outputs": [],
   "source": [
    "from matplotlib import pyplot as plt\n",
    "\n",
    "class LossHistory(keras.callbacks.Callback):\n",
    "    def on_train_begin(self, logs):\n",
    "        self.per_batch_losses = []\n",
    "\n",
    "    def on_batch_end(self, batch, logs):\n",
    "        self.per_batch_losses.append(logs.get(\"loss\"))\n",
    "\n",
    "    def on_epoch_end(self, epoch, logs):\n",
    "        plt.clf()\n",
    "        plt.plot(range(len(self.per_batch_losses)), self.per_batch_losses,\n",
    "                 label=\"Training loss for each batch\")\n",
    "        plt.xlabel(f\"Batch (epoch {epoch})\")\n",
    "        plt.ylabel(\"Loss\")\n",
    "        plt.legend()\n",
    "        plt.savefig(f\"plot_at_epoch_{epoch}\")\n",
    "        self.per_batch_losses = []"
   ]
  },
  {
   "cell_type": "code",
   "execution_count": 31,
   "id": "eabbe3a4-06db-4407-a04e-30ea0df2897b",
   "metadata": {
    "tags": []
   },
   "outputs": [
    {
     "name": "stderr",
     "output_type": "stream",
     "text": [
      "Error: A logdir or db must be specified. For example `tensorboard --logdir mylogdir` or `tensorboard --db sqlite:~/.tensorboard.db`. Run `tensorboard --helpfull` for details and examples.\n"
     ]
    }
   ],
   "source": [
    "!tensorboard"
   ]
  },
  {
   "cell_type": "code",
   "execution_count": 32,
   "id": "3b65108d-aa86-4ae3-b41c-04134bf087cc",
   "metadata": {
    "tags": []
   },
   "outputs": [
    {
     "name": "stdout",
     "output_type": "stream",
     "text": [
      "Epoch 1/10\n",
      "1563/1563 [==============================] - 7s 4ms/step - loss: 0.2963 - accuracy: 0.9128 - val_loss: 0.1419 - val_accuracy: 0.9592\n",
      "Epoch 2/10\n",
      "1563/1563 [==============================] - 6s 4ms/step - loss: 0.1612 - accuracy: 0.9547 - val_loss: 0.1123 - val_accuracy: 0.9684\n",
      "Epoch 3/10\n",
      "1563/1563 [==============================] - 6s 4ms/step - loss: 0.1307 - accuracy: 0.9641 - val_loss: 0.1076 - val_accuracy: 0.9709\n",
      "Epoch 4/10\n",
      "1563/1563 [==============================] - 6s 4ms/step - loss: 0.1158 - accuracy: 0.9681 - val_loss: 0.0944 - val_accuracy: 0.9758\n",
      "Epoch 5/10\n",
      "1563/1563 [==============================] - 6s 4ms/step - loss: 0.1056 - accuracy: 0.9707 - val_loss: 0.0958 - val_accuracy: 0.9756\n",
      "Epoch 6/10\n",
      "1563/1563 [==============================] - 6s 4ms/step - loss: 0.0943 - accuracy: 0.9741 - val_loss: 0.0912 - val_accuracy: 0.9763\n",
      "Epoch 7/10\n",
      "1563/1563 [==============================] - 6s 4ms/step - loss: 0.0870 - accuracy: 0.9762 - val_loss: 0.0932 - val_accuracy: 0.9783\n",
      "Epoch 8/10\n",
      "1563/1563 [==============================] - 6s 4ms/step - loss: 0.0812 - accuracy: 0.9780 - val_loss: 0.0835 - val_accuracy: 0.9783\n",
      "Epoch 9/10\n",
      "1563/1563 [==============================] - 6s 4ms/step - loss: 0.0766 - accuracy: 0.9790 - val_loss: 0.0914 - val_accuracy: 0.9790\n",
      "Epoch 10/10\n",
      "1563/1563 [==============================] - 6s 4ms/step - loss: 0.0730 - accuracy: 0.9802 - val_loss: 0.0852 - val_accuracy: 0.9807\n"
     ]
    },
    {
     "data": {
      "text/plain": [
       "<keras.callbacks.History at 0x25f96cb5d80>"
      ]
     },
     "execution_count": 32,
     "metadata": {},
     "output_type": "execute_result"
    }
   ],
   "source": [
    "model = get_mnist_model()\n",
    "model.compile(optimizer=\"rmsprop\",\n",
    "              loss=\"sparse_categorical_crossentropy\",\n",
    "              metrics=[\"accuracy\"])\n",
    "\n",
    "tensorboard = keras.callbacks.TensorBoard(\n",
    "    log_dir=\"./tb_logs\",\n",
    ")\n",
    "model.fit(train_images, train_labels,\n",
    "          epochs=10,\n",
    "          validation_data=(val_images, val_labels),\n",
    "          callbacks=[tensorboard])"
   ]
  },
  {
   "cell_type": "code",
   "execution_count": 33,
   "id": "320e1f2d-87a3-4a71-b72a-411761665801",
   "metadata": {
    "tags": []
   },
   "outputs": [
    {
     "data": {
      "text/html": [
       "\n",
       "      <iframe id=\"tensorboard-frame-634667bf52af6aab\" width=\"100%\" height=\"800\" frameborder=\"0\">\n",
       "      </iframe>\n",
       "      <script>\n",
       "        (function() {\n",
       "          const frame = document.getElementById(\"tensorboard-frame-634667bf52af6aab\");\n",
       "          const url = new URL(\"/\", window.location);\n",
       "          const port = 6006;\n",
       "          if (port) {\n",
       "            url.port = port;\n",
       "          }\n",
       "          frame.src = url;\n",
       "        })();\n",
       "      </script>\n",
       "    "
      ],
      "text/plain": [
       "<IPython.core.display.HTML object>"
      ]
     },
     "metadata": {},
     "output_type": "display_data"
    }
   ],
   "source": [
    "%load_ext tensorboard\n",
    "%tensorboard --logdir ./tb_logs"
   ]
  },
  {
   "cell_type": "markdown",
   "id": "94294f78-8e6e-4e3c-a7f3-ab56d1d08f14",
   "metadata": {},
   "source": [
    "### 합성곱 신경망"
   ]
  },
  {
   "cell_type": "markdown",
   "id": "2571b61f-7953-441a-9b47-0a126036e987",
   "metadata": {},
   "source": [
    "- 간단한 컨브넷"
   ]
  },
  {
   "cell_type": "code",
   "execution_count": 34,
   "id": "643ca03b-5ad3-4f19-939e-78ef633590bd",
   "metadata": {
    "tags": []
   },
   "outputs": [
    {
     "name": "stdout",
     "output_type": "stream",
     "text": [
      "Model: \"model_10\"\n",
      "_________________________________________________________________\n",
      " Layer (type)                Output Shape              Param #   \n",
      "=================================================================\n",
      " input_10 (InputLayer)       [(None, 28, 28, 1)]       0         \n",
      "                                                                 \n",
      " conv2d (Conv2D)             (None, 26, 26, 32)        320       \n",
      "                                                                 \n",
      " max_pooling2d (MaxPooling2D  (None, 13, 13, 32)       0         \n",
      " )                                                               \n",
      "                                                                 \n",
      " conv2d_1 (Conv2D)           (None, 11, 11, 64)        18496     \n",
      "                                                                 \n",
      " max_pooling2d_1 (MaxPooling  (None, 5, 5, 64)         0         \n",
      " 2D)                                                             \n",
      "                                                                 \n",
      " conv2d_2 (Conv2D)           (None, 3, 3, 128)         73856     \n",
      "                                                                 \n",
      " flatten (Flatten)           (None, 1152)              0         \n",
      "                                                                 \n",
      " dense_22 (Dense)            (None, 10)                11530     \n",
      "                                                                 \n",
      "=================================================================\n",
      "Total params: 104,202\n",
      "Trainable params: 104,202\n",
      "Non-trainable params: 0\n",
      "_________________________________________________________________\n"
     ]
    }
   ],
   "source": [
    "from tensorflow import keras\n",
    "from tensorflow.keras import layers\n",
    "inputs = keras.Input(shape=(28, 28, 1)) #height, width, channels 3차원 = 이미지 \n",
    "x = layers.Conv2D(filters=32, kernel_size=3, activation=\"relu\")(inputs)\n",
    "x = layers.MaxPooling2D(pool_size=2)(x)\n",
    "x = layers.Conv2D(filters=64, kernel_size=3, activation=\"relu\")(x)\n",
    "x = layers.MaxPooling2D(pool_size=2)(x)\n",
    "x = layers.Conv2D(filters=128, kernel_size=3, activation=\"relu\")(x)\n",
    "x = layers.Flatten()(x)\n",
    "outputs = layers.Dense(10, activation=\"softmax\")(x)\n",
    "model = keras.Model(inputs=inputs, outputs=outputs)\n",
    "model.summary()"
   ]
  },
  {
   "cell_type": "code",
   "execution_count": null,
   "id": "93c88260-6fcf-4d4b-95b7-50218ab1cc56",
   "metadata": {},
   "outputs": [],
   "source": []
  },
  {
   "cell_type": "markdown",
   "id": "bd999a9b-7f1b-4ce1-bb80-4206bdc26998",
   "metadata": {
    "tags": []
   },
   "source": [
    "### 측정 지표의 저수준 사용법"
   ]
  },
  {
   "cell_type": "code",
   "execution_count": 36,
   "id": "cac25bc1-15e4-4a6b-a0eb-12c62243038b",
   "metadata": {
    "tags": []
   },
   "outputs": [
    {
     "name": "stdout",
     "output_type": "stream",
     "text": [
      "결과: 1.00\n"
     ]
    }
   ],
   "source": [
    "metric = keras.metrics.SparseCategoricalAccuracy()\n",
    "targets = [0, 1, 2]\n",
    "predictions = [[1, 0, 0], [0, 1, 0], [0, 0, 1]]\n",
    "metric.update_state(targets, predictions) \n",
    "current_result = metric.result()\n",
    "print(f\"결과: {current_result:.2f}\")"
   ]
  },
  {
   "cell_type": "code",
   "execution_count": 37,
   "id": "7e65554b-aabb-47b2-956b-a398e4a85104",
   "metadata": {
    "tags": []
   },
   "outputs": [
    {
     "name": "stdout",
     "output_type": "stream",
     "text": [
      "평균 지표: 2.00\n"
     ]
    }
   ],
   "source": [
    "values = [0, 1, 2, 3, 4]\n",
    "mean_tracker = keras.metrics.Mean() #keras.metrixs.Mean() 을 사용해 스칼라값 평균 추적 \n",
    "for value in values:\n",
    "    mean_tracker.update_state(value)\n",
    "print(f\"평균 지표: {mean_tracker.result():.2f}\")"
   ]
  },
  {
   "cell_type": "markdown",
   "id": "8e1e6e68-377e-4308-8839-b35e26b443eb",
   "metadata": {},
   "source": [
    "### 완전한 훈련과 평가루프"
   ]
  },
  {
   "cell_type": "code",
   "execution_count": 38,
   "id": "98680005-29d6-4492-9a7e-324e9e382fd3",
   "metadata": {
    "tags": []
   },
   "outputs": [],
   "source": [
    "model = get_mnist_model()\n",
    "\n",
    "loss_fn = keras.losses.SparseCategoricalCrossentropy()\n",
    "optimizer = keras.optimizers.RMSprop()\n",
    "metrics = [keras.metrics.SparseCategoricalAccuracy()]\n",
    "loss_tracking_metric = keras.metrics.Mean()\n",
    "\n",
    "def train_step(inputs, targets):\n",
    "    with tf.GradientTape() as tape:\n",
    "        predictions = model(inputs, training=True)\n",
    "        loss = loss_fn(targets, predictions)\n",
    "    gradients = tape.gradient(loss, model.trainable_weights)\n",
    "    optimizer.apply_gradients(zip(gradients, model.trainable_weights))\n",
    "\n",
    "    logs = {}\n",
    "    for metric in metrics:\n",
    "        metric.update_state(targets, predictions)\n",
    "        logs[metric.name] = metric.result()\n",
    "\n",
    "    loss_tracking_metric.update_state(loss)\n",
    "    logs[\"loss\"] = loss_tracking_metric.result()\n",
    "    return logs"
   ]
  },
  {
   "cell_type": "code",
   "execution_count": 39,
   "id": "9b182b53-6ec8-46f2-9a2b-e9016252c525",
   "metadata": {
    "tags": []
   },
   "outputs": [],
   "source": [
    "#지표 재설정 \n",
    "def reset_metrics():\n",
    "    for metric in metrics:\n",
    "        metric.reset_state()\n",
    "    loss_tracking_metric.reset_state()"
   ]
  },
  {
   "cell_type": "code",
   "execution_count": 40,
   "id": "4012d459-4025-475d-a4a8-9305c8413a49",
   "metadata": {
    "tags": []
   },
   "outputs": [
    {
     "name": "stdout",
     "output_type": "stream",
     "text": [
      "0번째 에포크 결과\n",
      "...sparse_categorical_accuracy: 0.9133\n",
      "...loss: 0.2905\n",
      "1번째 에포크 결과\n",
      "...sparse_categorical_accuracy: 0.9535\n",
      "...loss: 0.1608\n",
      "2번째 에포크 결과\n",
      "...sparse_categorical_accuracy: 0.9638\n",
      "...loss: 0.1326\n"
     ]
    }
   ],
   "source": [
    "training_dataset = tf.data.Dataset.from_tensor_slices((train_images, train_labels))\n",
    "training_dataset = training_dataset.batch(32)\n",
    "epochs = 3\n",
    "for epoch in range(epochs):\n",
    "    reset_metrics()\n",
    "    for inputs_batch, targets_batch in training_dataset:\n",
    "        logs = train_step(inputs_batch, targets_batch)\n",
    "    print(f\"{epoch}번째 에포크 결과\")\n",
    "    for key, value in logs.items():\n",
    "        print(f\"...{key}: {value:.4f}\")"
   ]
  },
  {
   "cell_type": "code",
   "execution_count": 41,
   "id": "15718235-0b60-460f-875c-de4e2f544efe",
   "metadata": {
    "tags": []
   },
   "outputs": [
    {
     "name": "stdout",
     "output_type": "stream",
     "text": [
      "평가 결과:\n",
      "...val_sparse_categorical_accuracy: 0.9669\n",
      "...val_loss: 0.1193\n"
     ]
    }
   ],
   "source": [
    "#단계뼐 평가 루파 작성\n",
    "def test_step(inputs, targets):\n",
    "    predictions = model(inputs, training=False)\n",
    "    loss = loss_fn(targets, predictions)\n",
    "\n",
    "    logs = {}\n",
    "    for metric in metrics:\n",
    "        metric.update_state(targets, predictions)\n",
    "        logs[\"val_\" + metric.name] = metric.result()\n",
    "\n",
    "    loss_tracking_metric.update_state(loss)\n",
    "    logs[\"val_loss\"] = loss_tracking_metric.result()\n",
    "    return logs\n",
    "\n",
    "val_dataset = tf.data.Dataset.from_tensor_slices((val_images, val_labels))\n",
    "val_dataset = val_dataset.batch(32)\n",
    "reset_metrics()\n",
    "for inputs_batch, targets_batch in val_dataset:\n",
    "    logs = test_step(inputs_batch, targets_batch)\n",
    "print(\"평가 결과:\")\n",
    "for key, value in logs.items():\n",
    "    print(f\"...{key}: {value:.4f}\")"
   ]
  },
  {
   "cell_type": "markdown",
   "id": "18c5062f-b21b-4d53-b4b2-bbc7363ca49f",
   "metadata": {},
   "source": [
    "### - 생각보다느림 tf.function 성능높이기"
   ]
  },
  {
   "cell_type": "code",
   "execution_count": 42,
   "id": "84da9f86-71cb-464b-83b6-277fe4ce724a",
   "metadata": {
    "tags": []
   },
   "outputs": [
    {
     "name": "stdout",
     "output_type": "stream",
     "text": [
      "평가 결과:\n",
      "...val_sparse_categorical_accuracy: 0.9669\n",
      "...val_loss: 0.1193\n"
     ]
    }
   ],
   "source": [
    "@tf.function\n",
    "def test_step(inputs, targets):\n",
    "    predictions = model(inputs, training=False)\n",
    "    loss = loss_fn(targets, predictions)\n",
    "\n",
    "    logs = {}\n",
    "    for metric in metrics:\n",
    "        metric.update_state(targets, predictions)\n",
    "        logs[\"val_\" + metric.name] = metric.result()\n",
    "\n",
    "    loss_tracking_metric.update_state(loss)\n",
    "    logs[\"val_loss\"] = loss_tracking_metric.result()\n",
    "    return logs\n",
    "\n",
    "val_dataset = tf.data.Dataset.from_tensor_slices((val_images, val_labels))\n",
    "val_dataset = val_dataset.batch(32)\n",
    "reset_metrics()\n",
    "for inputs_batch, targets_batch in val_dataset:\n",
    "    logs = test_step(inputs_batch, targets_batch)\n",
    "print(\"평가 결과:\")\n",
    "for key, value in logs.items():\n",
    "    print(f\"...{key}: {value:.4f}\")"
   ]
  },
  {
   "cell_type": "code",
   "execution_count": null,
   "id": "b6502de8-9e9b-4037-9b58-3d32467d5c86",
   "metadata": {},
   "outputs": [],
   "source": []
  }
 ],
 "metadata": {
  "kernelspec": {
   "display_name": "Python 3 (ipykernel)",
   "language": "python",
   "name": "python3"
  },
  "language_info": {
   "codemirror_mode": {
    "name": "ipython",
    "version": 3
   },
   "file_extension": ".py",
   "mimetype": "text/x-python",
   "name": "python",
   "nbconvert_exporter": "python",
   "pygments_lexer": "ipython3",
   "version": "3.10.9"
  }
 },
 "nbformat": 4,
 "nbformat_minor": 5
}
