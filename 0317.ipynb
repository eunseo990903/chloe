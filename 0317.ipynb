{
 "cells": [
  {
   "cell_type": "markdown",
   "id": "514c2add-6ed4-4947-bd9f-f59314573689",
   "metadata": {},
   "source": [
    "## 복습"
   ]
  },
  {
   "cell_type": "code",
   "execution_count": 2,
   "id": "2983be6a-c024-4d70-845a-8737ee281e24",
   "metadata": {
    "tags": []
   },
   "outputs": [
    {
     "data": {
      "text/plain": [
       "[2, 1]"
      ]
     },
     "execution_count": 2,
     "metadata": {},
     "output_type": "execute_result"
    }
   ],
   "source": [
    "#[-5,-1,2,0,-2,1] 양수출력  \n",
    "list(filter(lambda x: x>0,[5,-1,2,0,-2,1]))"
   ]
  },
  {
   "cell_type": "code",
   "execution_count": 13,
   "id": "1be53563-623b-4e3f-8d54-9394a1792bc6",
   "metadata": {
    "tags": []
   },
   "outputs": [
    {
     "name": "stdout",
     "output_type": "stream",
     "text": [
      "['communication']\n"
     ]
    }
   ],
   "source": [
    "#m 이 두번 나타나는 단어 리스트에 담고 단어갯수 8개 이상인 단어를 도출해라. \n",
    "strings = ['passion', 'pain', 'grammar', 'communication', 'hit']\n",
    "\n",
    "a= list(filter(lambda x: x.count('m')==2, ['passion', 'pain', 'grammar', 'communication', 'hit']))\n",
    "print(list(filter(lambda x: len(x)>= 8,a)))"
   ]
  },
  {
   "cell_type": "code",
   "execution_count": 14,
   "id": "b2b889c4-88ee-4d5a-8003-eba6b5a79b51",
   "metadata": {
    "tags": []
   },
   "outputs": [
    {
     "data": {
      "text/plain": [
       "['communication']"
      ]
     },
     "execution_count": 14,
     "metadata": {},
     "output_type": "execute_result"
    }
   ],
   "source": [
    "list(filter(lambda x: x.count('m')==2 and len(x) >= 8,strings))"
   ]
  },
  {
   "cell_type": "code",
   "execution_count": 3,
   "id": "89e9e1e8-5799-46ac-8f38-b9cfc1a5ec49",
   "metadata": {
    "tags": []
   },
   "outputs": [
    {
     "data": {
      "text/plain": [
       "[7, 4, 7, 13, 3]"
      ]
     },
     "execution_count": 3,
     "metadata": {},
     "output_type": "execute_result"
    }
   ],
   "source": [
    "strings = ['passion', 'pain', 'grammar', 'communication', 'hit']\n",
    "list(map(lambda x: len(x), strings))"
   ]
  },
  {
   "cell_type": "code",
   "execution_count": 4,
   "id": "f7ac1f13-05aa-49ee-9aef-d591a18f6f5a",
   "metadata": {
    "tags": []
   },
   "outputs": [
    {
     "data": {
      "text/plain": [
       "(enumerate, filter, map, zip)"
      ]
     },
     "execution_count": 4,
     "metadata": {},
     "output_type": "execute_result"
    }
   ],
   "source": [
    "# 중요한 내부함수 4가지는?\n",
    "enumerate,filter, map, zip"
   ]
  },
  {
   "cell_type": "code",
   "execution_count": 19,
   "id": "3f1db7a2-bc0b-40cb-9dee-945b46eeddf3",
   "metadata": {
    "tags": []
   },
   "outputs": [
    {
     "data": {
      "text/plain": [
       "<enumerate at 0x2d3145cad80>"
      ]
     },
     "execution_count": 19,
     "metadata": {},
     "output_type": "execute_result"
    }
   ],
   "source": [
    "\n",
    "li1 = list(range(1,11))\n",
    "li2= list(range(5, 55,5))\n",
    "           \n",
    "enumerate(li2)"
   ]
  },
  {
   "cell_type": "code",
   "execution_count": 20,
   "id": "4dd2c212-7472-4f8d-915f-60ed72eb4cb1",
   "metadata": {
    "tags": []
   },
   "outputs": [
    {
     "name": "stdout",
     "output_type": "stream",
     "text": [
      "[(0, 5), (1, 10), (2, 15), (3, 20), (4, 25), (5, 30), (6, 35), (7, 40), (8, 45), (9, 50)]\n"
     ]
    }
   ],
   "source": [
    "print (list(enumerate(li2)))"
   ]
  },
  {
   "cell_type": "code",
   "execution_count": 21,
   "id": "a4954673-0cef-4a1b-8e9d-f8205b1c601e",
   "metadata": {},
   "outputs": [
    {
     "data": {
      "text/plain": [
       "[3, 6, 9]"
      ]
     },
     "execution_count": 21,
     "metadata": {},
     "output_type": "execute_result"
    }
   ],
   "source": [
    "list(filter(lambda x: x%3 == 0 , li1))"
   ]
  },
  {
   "cell_type": "code",
   "execution_count": 10,
   "id": "822bb7f8-2da9-4191-82c2-a0161155283e",
   "metadata": {},
   "outputs": [
    {
     "data": {
      "text/plain": [
       "[6, 12, 18, 24, 30, 36, 42, 48, 54, 60]"
      ]
     },
     "execution_count": 10,
     "metadata": {},
     "output_type": "execute_result"
    }
   ],
   "source": [
    "#각각 짝지어 더하기 \n",
    "list(map(lambda x,y: x+y, li1,li2))"
   ]
  },
  {
   "cell_type": "code",
   "execution_count": 17,
   "id": "eff1b7d8-cb27-4255-bbec-86c51988f102",
   "metadata": {},
   "outputs": [
    {
     "name": "stdout",
     "output_type": "stream",
     "text": [
      "6\n",
      "12\n",
      "18\n",
      "24\n",
      "30\n",
      "36\n",
      "42\n",
      "48\n",
      "54\n",
      "60\n"
     ]
    }
   ],
   "source": [
    "#방법 2\n",
    "for (i,j) in zip (li1,li2):print(i+j)"
   ]
  },
  {
   "cell_type": "code",
   "execution_count": 18,
   "id": "c86f3583-9c0b-43bd-bd99-7b687840e9ed",
   "metadata": {
    "tags": []
   },
   "outputs": [
    {
     "name": "stdout",
     "output_type": "stream",
     "text": [
      "[6, 12, 18, 24, 30, 36, 42, 48, 54, 60]\n"
     ]
    }
   ],
   "source": [
    "#방법 3\n",
    "li3= []\n",
    "for i in range(10):\n",
    "    x= li1[i] +li2[i]\n",
    "    li3.append(x)\n",
    "print(li3)\n"
   ]
  },
  {
   "cell_type": "code",
   "execution_count": 184,
   "id": "ede2def9-c7e4-4c8f-8f96-da501e524b83",
   "metadata": {
    "tags": []
   },
   "outputs": [
    {
     "ename": "NameError",
     "evalue": "name 'ame' is not defined",
     "output_type": "error",
     "traceback": [
      "\u001b[1;31m---------------------------------------------------------------------------\u001b[0m",
      "\u001b[1;31mNameError\u001b[0m                                 Traceback (most recent call last)",
      "Cell \u001b[1;32mIn[184], line 14\u001b[0m\n\u001b[0;32m     11\u001b[0m         \u001b[38;5;28mself\u001b[39m\u001b[38;5;241m.\u001b[39mgenre\u001b[38;5;241m=\u001b[39mgenre\n\u001b[0;32m     12\u001b[0m         \u001b[38;5;28mself\u001b[39m\u001b[38;5;241m.\u001b[39mincome\u001b[38;5;241m=\u001b[39mincome\n\u001b[1;32m---> 14\u001b[0m p1 \u001b[38;5;241m=\u001b[39m \u001b[43mNew\u001b[49m\u001b[43m(\u001b[49m\u001b[38;5;124;43m\"\u001b[39;49m\u001b[38;5;124;43msimono\u001b[39;49m\u001b[38;5;124;43m\"\u001b[39;49m\u001b[43m,\u001b[49m\u001b[43m \u001b[49m\u001b[38;5;124;43m\"\u001b[39;49m\u001b[38;5;124;43mwarm\u001b[39;49m\u001b[38;5;124;43m\"\u001b[39;49m\u001b[43m,\u001b[49m\u001b[43m \u001b[49m\u001b[38;5;124;43m\"\u001b[39;49m\u001b[38;5;124;43mmystery\u001b[39;49m\u001b[38;5;124;43m\"\u001b[39;49m\u001b[43m,\u001b[49m\u001b[43m \u001b[49m\u001b[38;5;241;43m100\u001b[39;49m\u001b[43m)\u001b[49m\n\u001b[0;32m     15\u001b[0m \u001b[38;5;28mprint\u001b[39m(p1\u001b[38;5;241m.\u001b[39mcountry, p1\u001b[38;5;241m.\u001b[39mgame_name, p1\u001b[38;5;241m.\u001b[39mceo, p1\u001b[38;5;241m.\u001b[39mincome) \n",
      "Cell \u001b[1;32mIn[184], line 9\u001b[0m, in \u001b[0;36mNew.__init__\u001b[1;34m(self, name, character, genre, income)\u001b[0m\n\u001b[0;32m      8\u001b[0m \u001b[38;5;28;01mdef\u001b[39;00m \u001b[38;5;21m__init__\u001b[39m(\u001b[38;5;28mself\u001b[39m,name,character,genre,income): \n\u001b[1;32m----> 9\u001b[0m     \u001b[38;5;28;43msuper\u001b[39;49m\u001b[43m(\u001b[49m\u001b[43m)\u001b[49m\u001b[38;5;241;43m.\u001b[39;49m\u001b[38;5;21;43m__init__\u001b[39;49m\u001b[43m(\u001b[49m\u001b[43mname\u001b[49m\u001b[43m,\u001b[49m\u001b[43mcharacter\u001b[49m\u001b[43m)\u001b[49m\n\u001b[0;32m     10\u001b[0m     \u001b[38;5;28mself\u001b[39m\u001b[38;5;241m.\u001b[39mceo\u001b[38;5;241m=\u001b[39m\u001b[38;5;124m'\u001b[39m\u001b[38;5;124mShigeru Miyamoto\u001b[39m\u001b[38;5;124m'\u001b[39m\n\u001b[0;32m     11\u001b[0m     \u001b[38;5;28mself\u001b[39m\u001b[38;5;241m.\u001b[39mgenre\u001b[38;5;241m=\u001b[39mgenre\n",
      "Cell \u001b[1;32mIn[184], line 4\u001b[0m, in \u001b[0;36mNintendo.__init__\u001b[1;34m(self, name, character)\u001b[0m\n\u001b[0;32m      2\u001b[0m \u001b[38;5;28;01mdef\u001b[39;00m \u001b[38;5;21m__init__\u001b[39m(\u001b[38;5;28mself\u001b[39m,name, character): \u001b[38;5;66;03m#name, character 임시로 이름을 붙인거. 변수이름쓰면안돼 (game_name) 불가 \u001b[39;00m\n\u001b[0;32m      3\u001b[0m     \u001b[38;5;28mself\u001b[39m\u001b[38;5;241m.\u001b[39mcountry\u001b[38;5;241m=\u001b[39m\u001b[38;5;124m'\u001b[39m\u001b[38;5;124mJapan\u001b[39m\u001b[38;5;124m'\u001b[39m\n\u001b[1;32m----> 4\u001b[0m     \u001b[38;5;28mself\u001b[39m\u001b[38;5;241m.\u001b[39mgame_name\u001b[38;5;241m=\u001b[39m \u001b[43mame\u001b[49m\n\u001b[0;32m      5\u001b[0m     \u001b[38;5;28mself\u001b[39m\u001b[38;5;241m.\u001b[39mcharacter\u001b[38;5;241m=\u001b[39m haracter\n",
      "\u001b[1;31mNameError\u001b[0m: name 'ame' is not defined"
     ]
    }
   ],
   "source": [
    "class Nintendo:\n",
    "    def __init__(self,name, character): #name, character 임시로 이름을 붙인거. 변수이름쓰면안돼 (game_name) 불가 \n",
    "        self.country='Japan'\n",
    "        self.game_name= ame\n",
    "        self.character= haracter\n",
    "       \n",
    "class New(Nintendo):\n",
    "    def __init__(self,name,character,genre,income): \n",
    "        super().__init__(name,character)\n",
    "        self.ceo='Shigeru Miyamoto'\n",
    "        self.genre=genre\n",
    "        self.income=income\n",
    "        \n",
    "p1 = New(\"simono\", \"warm\", \"mystery\", 100)\n",
    "print(p1.country, p1.game_name, p1.ceo, p1.income) "
   ]
  },
  {
   "cell_type": "code",
   "execution_count": null,
   "id": "c4dc33ff-0592-42a3-a731-f99663bb6571",
   "metadata": {},
   "outputs": [],
   "source": []
  },
  {
   "cell_type": "code",
   "execution_count": 183,
   "id": "f77f3298-2946-4b4f-96b6-5f1b5f324a53",
   "metadata": {
    "tags": []
   },
   "outputs": [
    {
     "name": "stdout",
     "output_type": "stream",
     "text": [
      "['C:\\\\Users\\\\user\\\\AppData\\\\Local\\\\Programs\\\\Python\\\\Python310\\\\lib\\\\site-packages\\\\ipykernel_launcher.py', '-f', 'C:\\\\Users\\\\user\\\\AppData\\\\Roaming\\\\jupyter\\\\runtime\\\\kernel-212b1095-ecc6-43d7-88c9-91b4efcbfeed.json']\n"
     ]
    }
   ],
   "source": [
    "import sys\n",
    "(sys.argv"
   ]
  },
  {
   "cell_type": "code",
   "execution_count": 185,
   "id": "bec3d797-5826-4223-9908-8258269b72d0",
   "metadata": {
    "tags": []
   },
   "outputs": [
    {
     "data": {
      "text/plain": [
       "'C:\\\\Users\\\\user\\\\test'"
      ]
     },
     "execution_count": 185,
     "metadata": {},
     "output_type": "execute_result"
    }
   ],
   "source": [
    "os.getcwd()"
   ]
  },
  {
   "cell_type": "code",
   "execution_count": 192,
   "id": "3cb0fb59-0e40-4f3f-9e0c-1b415fcf9817",
   "metadata": {
    "tags": []
   },
   "outputs": [
    {
     "ename": "ValueError",
     "evalue": "invalid literal for int() with base 10: '-f'",
     "output_type": "error",
     "traceback": [
      "\u001b[1;31m---------------------------------------------------------------------------\u001b[0m",
      "\u001b[1;31mValueError\u001b[0m                                Traceback (most recent call last)",
      "Cell \u001b[1;32mIn[192], line 5\u001b[0m\n\u001b[0;32m      3\u001b[0m result \u001b[38;5;241m=\u001b[39m \u001b[38;5;241m1\u001b[39m\n\u001b[0;32m      4\u001b[0m \u001b[38;5;28;01mfor\u001b[39;00m i \u001b[38;5;129;01min\u001b[39;00m args:\n\u001b[1;32m----> 5\u001b[0m     result\u001b[38;5;241m*\u001b[39m\u001b[38;5;241m=\u001b[39m \u001b[38;5;28;43mint\u001b[39;49m\u001b[43m(\u001b[49m\u001b[43mi\u001b[49m\u001b[43m)\u001b[49m\n\u001b[0;32m      6\u001b[0m \u001b[38;5;28mprint\u001b[39m(result)\n",
      "\u001b[1;31mValueError\u001b[0m: invalid literal for int() with base 10: '-f'"
     ]
    }
   ],
   "source": [
    "#매개변수:  txt 파일을 만들고 이 밑에 함수들을 그 파일에 넣어서 cmd창에서 실행시킨다. \n",
    "import sys\n",
    "args= sys.argv[1:]\n",
    "result = 1\n",
    "for i in args:\n",
    "    result*= int(i)\n",
    "print(result)\n"
   ]
  },
  {
   "cell_type": "code",
   "execution_count": 207,
   "id": "a520ff03-85d3-4ce5-8f2e-a6cc26c7c926",
   "metadata": {
    "tags": []
   },
   "outputs": [
    {
     "name": "stdout",
     "output_type": "stream",
     "text": [
      "사람의 나이는 :  22\n"
     ]
    }
   ],
   "source": [
    "#Human 클래스\n",
    "class Human:\n",
    "    def __init__(self):\n",
    "        self.name='gildong'\n",
    "        self.age = '22'       \n",
    "        self.city= 'seoul'\n",
    "\n",
    "#Student클래스\n",
    "class Student(Human):\n",
    "    def __init__(self, name):\n",
    "        super().__init__()\n",
    "        self.name= name\n",
    "    def show_name(self):\n",
    "        print('사람의 이름은 : ',self.name)\n",
    "    def show_age(self):\n",
    "        print('사람의 나이는 : ', self.age) #부모클래스에 있는 age를 불러오기 위해 name을 super(). __init__() \n",
    "        \n",
    "a= Student('James')\n",
    "a.show_age()"
   ]
  },
  {
   "cell_type": "code",
   "execution_count": null,
   "id": "05b398b8-3601-4d32-b6e0-edea5bbd5fe9",
   "metadata": {},
   "outputs": [],
   "source": []
  },
  {
   "cell_type": "code",
   "execution_count": 257,
   "id": "7452abf5-15c8-4b0a-91a5-014e4b12b721",
   "metadata": {
    "tags": []
   },
   "outputs": [
    {
     "data": {
      "text/plain": [
       "\"732 '-'17 '-'000017\""
      ]
     },
     "execution_count": 257,
     "metadata": {},
     "output_type": "execute_result"
    }
   ],
   "source": [
    "#은행계좌 만들기  \n",
    "import random\n",
    "from random import sample\n",
    "li = [] \n",
    "a = random.randint(0,999) #0-9 3개 뽑기 \n",
    "b = random.randint(0,99)\n",
    "c = random.randint(0,999999)\n",
    "\n",
    "a= str(a). zfill(3) #비어있는 자리 0으로 채워줌 \n",
    "b= str(b). zfill(2)\n",
    "c=  str(b). zfill(6)\n",
    "li= (f\"{a} '-'{b} '-'{c}\")\n",
    "\n",
    "li\n"
   ]
  },
  {
   "cell_type": "code",
   "execution_count": 263,
   "id": "c81a0445-742e-47ac-befd-043135c45085",
   "metadata": {
    "tags": []
   },
   "outputs": [
    {
     "name": "stdout",
     "output_type": "stream",
     "text": [
      "956-05-262335"
     ]
    }
   ],
   "source": [
    "\n",
    "\n",
    "import random\n",
    "li = []\n",
    "for i in random.choices(range(10), k=3):\n",
    "    li.append(i)\n",
    "li.append(\"-\")\n",
    "for i in random.choices(range(10), k=2):\n",
    "    li.append(i)\n",
    "li.append(\"-\")\n",
    "for i in random.choices(range(10), k=6):\n",
    "    li.append(i)\n",
    "for i in range(13):\n",
    "    print(li[i], end=\"\") \n"
   ]
  },
  {
   "cell_type": "code",
   "execution_count": 264,
   "id": "1e5f52d3-c77c-40ca-ac29-114825b04047",
   "metadata": {
    "tags": []
   },
   "outputs": [
    {
     "data": {
      "text/plain": [
       "'104-94-494851'"
      ]
     },
     "execution_count": 264,
     "metadata": {},
     "output_type": "execute_result"
    }
   ],
   "source": [
    "count = [3, 2, 6]\n",
    "result = []\n",
    "for i in count:\n",
    "    a = random.choices(range(10), k = i)\n",
    "    a = \"\".join(str(s) for s in a)\n",
    "    result.append(a)\n",
    "result = \"-\".join(str(s) for s in result)\n",
    "result "
   ]
  },
  {
   "cell_type": "code",
   "execution_count": 265,
   "id": "86d37df1-0c3b-426c-a964-9187f4f3d8f4",
   "metadata": {
    "tags": []
   },
   "outputs": [
    {
     "name": "stdout",
     "output_type": "stream",
     "text": [
      "054-12-521689\n"
     ]
    }
   ],
   "source": [
    "li = []\n",
    "for i in range(11):\n",
    "    random_num = str(random.randint(0, 9))\n",
    "    if i in [3, 5]:\n",
    "        li.append(\"-\")\n",
    "    li.append(random_num)\n",
    "\n",
    "account = \"\".join(li)\n",
    "print(account) "
   ]
  },
  {
   "cell_type": "code",
   "execution_count": 271,
   "id": "2df79d39-3d0c-4f73-915a-324085e58f9c",
   "metadata": {
    "tags": []
   },
   "outputs": [
    {
     "data": {
      "text/plain": [
       "[21, 15, 23, 29]"
      ]
     },
     "execution_count": 271,
     "metadata": {},
     "output_type": "execute_result"
    }
   ],
   "source": [
    "bi= ['10101','1111','10111','11101']\n",
    "\n",
    "list(map(lambda x: int(x,2), bi))"
   ]
  },
  {
   "cell_type": "code",
   "execution_count": 295,
   "id": "91dfdffe-a845-4d00-b932-f27d3163edc8",
   "metadata": {
    "tags": []
   },
   "outputs": [
    {
     "name": "stdin",
     "output_type": "stream",
     "text": [
      "내가 가장 좋아하는 음식 2가지 떡볶이, 치킨\n"
     ]
    },
    {
     "name": "stdout",
     "output_type": "stream",
     "text": [
      "1위 떡볶이\n",
      "2위  치킨\n"
     ]
    }
   ],
   "source": [
    "a = input(\"내가 가장 좋아하는 음식 2가지\").split(\",\")\n",
    "for num, a in enumerate(a):\n",
    "    print(f'{num+1}위 {a}') "
   ]
  },
  {
   "cell_type": "code",
   "execution_count": 294,
   "id": "2709aba1-763e-4be7-8c5f-12b9523cbdb2",
   "metadata": {
    "tags": []
   },
   "outputs": [
    {
     "data": {
      "text/plain": [
       "[3100, 1800, 2500, 7100, 900]"
      ]
     },
     "execution_count": 294,
     "metadata": {},
     "output_type": "execute_result"
    }
   ],
   "source": [
    "#m를 cm단위로 변환, 리스트 내포로 \n",
    "li= [31,18,25,71,9]\n",
    "[i*100 for i in li]"
   ]
  },
  {
   "cell_type": "markdown",
   "id": "fbe755d1-a545-4615-b714-edf5d0908e36",
   "metadata": {},
   "source": [
    "## 수업"
   ]
  },
  {
   "cell_type": "code",
   "execution_count": 42,
   "id": "9a1e07ba-9830-410c-ba74-1c032f2ad33d",
   "metadata": {
    "tags": []
   },
   "outputs": [],
   "source": [
    "import pickle\n",
    "\n",
    "my_list= ['a','b','c']\n",
    "with open (\"data.pickle\",'wb') as f:  #wb =쓰기모드 바이너리\n",
    "    pickle.dump(my_list,f)\n"
   ]
  },
  {
   "cell_type": "code",
   "execution_count": 46,
   "id": "6fea07bf-573a-409f-89f3-85147eec16a6",
   "metadata": {
    "tags": []
   },
   "outputs": [
    {
     "data": {
      "text/plain": [
       "'C:\\\\Users\\\\user\\\\test'"
      ]
     },
     "execution_count": 46,
     "metadata": {},
     "output_type": "execute_result"
    }
   ],
   "source": [
    "import os  #cwd확인 후 파일 생성 확인 \n",
    "os.getcwd()"
   ]
  },
  {
   "cell_type": "code",
   "execution_count": 49,
   "id": "89a644d0-8021-4d38-bd46-938dfd983199",
   "metadata": {
    "tags": []
   },
   "outputs": [
    {
     "name": "stdout",
     "output_type": "stream",
     "text": [
      "['a', 'b', 'c']\n"
     ]
    }
   ],
   "source": [
    "with open(\"data.pickle\",'rb') as f :\n",
    "    data= pickle.load(f)\n",
    "print(data)"
   ]
  },
  {
   "cell_type": "code",
   "execution_count": 54,
   "id": "cb9b889a-c31c-4417-8a9f-82c5890d39a5",
   "metadata": {
    "tags": []
   },
   "outputs": [
    {
     "data": {
      "text/plain": [
       "'../new/data1.pickle'"
      ]
     },
     "execution_count": 54,
     "metadata": {},
     "output_type": "execute_result"
    }
   ],
   "source": [
    "import shutil #파일복사 \n",
    "shutil.copy(\"data.pickle\",\"../new/data1.pickle\")"
   ]
  },
  {
   "cell_type": "code",
   "execution_count": 68,
   "id": "c156dd47-fde4-44b5-97e2-5980075367f7",
   "metadata": {
    "tags": []
   },
   "outputs": [
    {
     "data": {
      "text/plain": [
       "['0316.ipynb',\n",
       " '0317.ipynb',\n",
       " 'data.pickle',\n",
       " 'data1.pickle',\n",
       " 'sys1.py',\n",
       " 'test.txt',\n",
       " 'test1.py',\n",
       " 'test2.py',\n",
       " 'untitled.txt',\n",
       " '__pycache__']"
      ]
     },
     "execution_count": 68,
     "metadata": {},
     "output_type": "execute_result"
    }
   ],
   "source": [
    "import glob\n",
    "glob.glob(\"*\") #내위치의 모든 파일 "
   ]
  },
  {
   "cell_type": "code",
   "execution_count": 74,
   "id": "cfc3b94b-0ef3-4478-8802-4eed33a979f1",
   "metadata": {
    "tags": []
   },
   "outputs": [
    {
     "data": {
      "text/plain": [
       "['C:/Users/user\\\\Untitled.ipynb']"
      ]
     },
     "execution_count": 74,
     "metadata": {},
     "output_type": "execute_result"
    }
   ],
   "source": [
    "glob.glob(\"C:/Users/user/*.ipynb\")  # ipynb 확장자만 선택해서 찾기 가능 "
   ]
  },
  {
   "cell_type": "code",
   "execution_count": 75,
   "id": "ea701f44-c5b3-424a-b469-b0806760aa77",
   "metadata": {
    "tags": []
   },
   "outputs": [
    {
     "data": {
      "text/plain": [
       "1679016606.6994605"
      ]
     },
     "execution_count": 75,
     "metadata": {},
     "output_type": "execute_result"
    }
   ],
   "source": [
    "import time\n",
    "time.time() #universal time을 이용해 1970년 1월1일 기준으로 현재까지 초단위 "
   ]
  },
  {
   "cell_type": "code",
   "execution_count": 2,
   "id": "8f0d55dd-8486-4c9d-8b34-924bed342887",
   "metadata": {
    "tags": []
   },
   "outputs": [
    {
     "data": {
      "text/plain": [
       "1679267401.719929"
      ]
     },
     "execution_count": 2,
     "metadata": {},
     "output_type": "execute_result"
    }
   ],
   "source": [
    "import time\n",
    "time.time()  "
   ]
  },
  {
   "cell_type": "code",
   "execution_count": 3,
   "id": "19df5196-05ff-41e8-9c71-6b690058356f",
   "metadata": {
    "tags": []
   },
   "outputs": [
    {
     "data": {
      "text/plain": [
       "time.struct_time(tm_year=2023, tm_mon=3, tm_mday=20, tm_hour=8, tm_min=10, tm_sec=2, tm_wday=0, tm_yday=79, tm_isdst=0)"
      ]
     },
     "execution_count": 3,
     "metadata": {},
     "output_type": "execute_result"
    }
   ],
   "source": [
    "time.localtime()"
   ]
  },
  {
   "cell_type": "code",
   "execution_count": 4,
   "id": "1975c767-eac0-4d2b-b0e9-78e0332b6f1e",
   "metadata": {
    "tags": []
   },
   "outputs": [
    {
     "name": "stdout",
     "output_type": "stream",
     "text": [
      "2023 년 20 일\n"
     ]
    }
   ],
   "source": [
    "t= time.localtime()\n",
    "print(t.tm_year,\"년\",t.tm_mday,\"일\")"
   ]
  },
  {
   "cell_type": "code",
   "execution_count": 5,
   "id": "aefc64a9-ce4b-4e04-9908-07a6dffb2956",
   "metadata": {
    "tags": []
   },
   "outputs": [
    {
     "data": {
      "text/plain": [
       "'Mon Mar 20 08:10:03 2023'"
      ]
     },
     "execution_count": 5,
     "metadata": {},
     "output_type": "execute_result"
    }
   ],
   "source": [
    "time.asctime(time.localtime(time.time()))"
   ]
  },
  {
   "cell_type": "code",
   "execution_count": 6,
   "id": "532dc006-fd17-47f9-89c8-c8f56d0fab16",
   "metadata": {
    "tags": []
   },
   "outputs": [
    {
     "data": {
      "text/plain": [
       "'Mon Mar 20 08:10:19 2023'"
      ]
     },
     "execution_count": 6,
     "metadata": {},
     "output_type": "execute_result"
    }
   ],
   "source": [
    "t= time.ctime()\n",
    "t"
   ]
  },
  {
   "cell_type": "code",
   "execution_count": 88,
   "id": "da2fafbb-adda-41f6-9a5c-fffb28c05bd8",
   "metadata": {
    "tags": []
   },
   "outputs": [
    {
     "data": {
      "text/plain": [
       "'2023 03 17'"
      ]
     },
     "execution_count": 88,
     "metadata": {},
     "output_type": "execute_result"
    }
   ],
   "source": [
    "time.strftime #time객체를 문자열로 바꿈\n",
    "\n",
    "time.strftime(\"%Y %m %d\", time.localtime())"
   ]
  },
  {
   "cell_type": "code",
   "execution_count": 89,
   "id": "059c316d-9071-4290-a4bf-b9e314a1b1cf",
   "metadata": {
    "tags": []
   },
   "outputs": [],
   "source": [
    "time.sleep(2)"
   ]
  },
  {
   "cell_type": "code",
   "execution_count": 90,
   "id": "ab13f92e-496d-4e37-abb4-3ccefb0afff8",
   "metadata": {
    "tags": []
   },
   "outputs": [
    {
     "name": "stdout",
     "output_type": "stream",
     "text": [
      "Hello\n",
      "Hello\n",
      "Hello\n"
     ]
    },
    {
     "ename": "KeyboardInterrupt",
     "evalue": "",
     "output_type": "error",
     "traceback": [
      "\u001b[1;31m---------------------------------------------------------------------------\u001b[0m",
      "\u001b[1;31mKeyboardInterrupt\u001b[0m                         Traceback (most recent call last)",
      "Cell \u001b[1;32mIn[90], line 3\u001b[0m\n\u001b[0;32m      1\u001b[0m \u001b[38;5;28;01mwhile\u001b[39;00m \u001b[38;5;241m1\u001b[39m: \n\u001b[0;32m      2\u001b[0m     \u001b[38;5;28mprint\u001b[39m(\u001b[38;5;124m\"\u001b[39m\u001b[38;5;124mHello\u001b[39m\u001b[38;5;124m\"\u001b[39m)\n\u001b[1;32m----> 3\u001b[0m     \u001b[43mtime\u001b[49m\u001b[38;5;241;43m.\u001b[39;49m\u001b[43msleep\u001b[49m\u001b[43m(\u001b[49m\u001b[38;5;241;43m1\u001b[39;49m\u001b[43m)\u001b[49m\n",
      "\u001b[1;31mKeyboardInterrupt\u001b[0m: "
     ]
    }
   ],
   "source": [
    "while 1: \n",
    "    print(\"Hello\")\n",
    "    time.sleep(1)"
   ]
  },
  {
   "cell_type": "code",
   "execution_count": 8,
   "id": "4664d5ef-7671-4a61-bfb1-02e476118a62",
   "metadata": {
    "tags": []
   },
   "outputs": [
    {
     "name": "stdout",
     "output_type": "stream",
     "text": [
      "                                  2020\n",
      "\n",
      "      January                   February                   March\n",
      "Mo Tu We Th Fr Sa Su      Mo Tu We Th Fr Sa Su      Mo Tu We Th Fr Sa Su\n",
      "       1  2  3  4  5                      1  2                         1\n",
      " 6  7  8  9 10 11 12       3  4  5  6  7  8  9       2  3  4  5  6  7  8\n",
      "13 14 15 16 17 18 19      10 11 12 13 14 15 16       9 10 11 12 13 14 15\n",
      "20 21 22 23 24 25 26      17 18 19 20 21 22 23      16 17 18 19 20 21 22\n",
      "27 28 29 30 31            24 25 26 27 28 29         23 24 25 26 27 28 29\n",
      "                                                    30 31\n",
      "\n",
      "       April                      May                       June\n",
      "Mo Tu We Th Fr Sa Su      Mo Tu We Th Fr Sa Su      Mo Tu We Th Fr Sa Su\n",
      "       1  2  3  4  5                   1  2  3       1  2  3  4  5  6  7\n",
      " 6  7  8  9 10 11 12       4  5  6  7  8  9 10       8  9 10 11 12 13 14\n",
      "13 14 15 16 17 18 19      11 12 13 14 15 16 17      15 16 17 18 19 20 21\n",
      "20 21 22 23 24 25 26      18 19 20 21 22 23 24      22 23 24 25 26 27 28\n",
      "27 28 29 30               25 26 27 28 29 30 31      29 30\n",
      "\n",
      "        July                     August                  September\n",
      "Mo Tu We Th Fr Sa Su      Mo Tu We Th Fr Sa Su      Mo Tu We Th Fr Sa Su\n",
      "       1  2  3  4  5                      1  2          1  2  3  4  5  6\n",
      " 6  7  8  9 10 11 12       3  4  5  6  7  8  9       7  8  9 10 11 12 13\n",
      "13 14 15 16 17 18 19      10 11 12 13 14 15 16      14 15 16 17 18 19 20\n",
      "20 21 22 23 24 25 26      17 18 19 20 21 22 23      21 22 23 24 25 26 27\n",
      "27 28 29 30 31            24 25 26 27 28 29 30      28 29 30\n",
      "                          31\n",
      "\n",
      "      October                   November                  December\n",
      "Mo Tu We Th Fr Sa Su      Mo Tu We Th Fr Sa Su      Mo Tu We Th Fr Sa Su\n",
      "          1  2  3  4                         1          1  2  3  4  5  6\n",
      " 5  6  7  8  9 10 11       2  3  4  5  6  7  8       7  8  9 10 11 12 13\n",
      "12 13 14 15 16 17 18       9 10 11 12 13 14 15      14 15 16 17 18 19 20\n",
      "19 20 21 22 23 24 25      16 17 18 19 20 21 22      21 22 23 24 25 26 27\n",
      "26 27 28 29 30 31         23 24 25 26 27 28 29      28 29 30 31\n",
      "                          30\n",
      "\n"
     ]
    }
   ],
   "source": [
    "\n",
    "import calendar \n",
    "print(calendar.calendar(2020))\n"
   ]
  },
  {
   "cell_type": "code",
   "execution_count": 93,
   "id": "e37832c0-5bd1-40de-8a4e-b0a4f21f0563",
   "metadata": {
    "tags": []
   },
   "outputs": [
    {
     "data": {
      "text/plain": [
       "0.19458390114280488"
      ]
     },
     "execution_count": 93,
     "metadata": {},
     "output_type": "execute_result"
    }
   ],
   "source": [
    "import random\n",
    "random.random() #0.0 - 1.0실수 중 난수 값"
   ]
  },
  {
   "cell_type": "code",
   "execution_count": 94,
   "id": "b7b9fb6c-ae2a-46cc-8380-3e7ed78b6557",
   "metadata": {
    "tags": []
   },
   "outputs": [
    {
     "data": {
      "text/plain": [
       "array([0.4, 0.6, 1. , 0.4, 0.6])"
      ]
     },
     "execution_count": 94,
     "metadata": {},
     "output_type": "execute_result"
    }
   ],
   "source": [
    "import numpy as np\n",
    "np.array([2,3,5,2,3])/5 #최댓값의 숫자로 나누면 1보다 작게 만듬. "
   ]
  },
  {
   "cell_type": "code",
   "execution_count": 99,
   "id": "a0bc93f1-eb23-4afd-ae90-2d8fae21aa73",
   "metadata": {
    "tags": []
   },
   "outputs": [
    {
     "data": {
      "text/plain": [
       "0.7364881982304784"
      ]
     },
     "execution_count": 99,
     "metadata": {},
     "output_type": "execute_result"
    }
   ],
   "source": [
    "random.uniform(A,B)"
   ]
  },
  {
   "cell_type": "code",
   "execution_count": 101,
   "id": "5ff3bd50-ae63-4edf-9412-3eece7982ff6",
   "metadata": {
    "tags": []
   },
   "outputs": [
    {
     "name": "stdout",
     "output_type": "stream",
     "text": [
      "[2, 1, 4, 3]\n"
     ]
    }
   ],
   "source": [
    "a= [1,3,2,4]\n",
    "random.shuffle(a)\n",
    "print(a)"
   ]
  },
  {
   "cell_type": "code",
   "execution_count": 123,
   "id": "cc7b2cea-01d2-447b-ac35-90194d9ca95f",
   "metadata": {
    "tags": []
   },
   "outputs": [],
   "source": [
    "li= [ ] \n",
    "for i  in range (3):\n",
    "    li.append(random.randint(1,6))\n"
   ]
  },
  {
   "cell_type": "code",
   "execution_count": null,
   "id": "b1140ee7-223b-4a7b-90a0-b0f7ba16d0cb",
   "metadata": {
    "tags": []
   },
   "outputs": [],
   "source": [
    "li= [ ] \n",
    "for i  in range (3):\n",
    "    li.append(random.randint(1,6))\n",
    "li\n"
   ]
  },
  {
   "cell_type": "code",
   "execution_count": 12,
   "id": "f38dda27-fdfd-4841-a16e-d3041a593a67",
   "metadata": {
    "tags": []
   },
   "outputs": [
    {
     "data": {
      "text/plain": [
       "[4, 5, 1]"
      ]
     },
     "execution_count": 12,
     "metadata": {},
     "output_type": "execute_result"
    }
   ],
   "source": [
    "import random\n",
    "li = []\n",
    "while len(li)<3: \n",
    "        a = random.randint(1,6)\n",
    "        if a not in li :\n",
    "            li.append(a) \n",
    "        else: \n",
    "            continue\n",
    "li\n"
   ]
  },
  {
   "cell_type": "code",
   "execution_count": 15,
   "id": "25e48a8e-84bc-498b-aae2-d0ea63ee36a8",
   "metadata": {
    "tags": []
   },
   "outputs": [
    {
     "data": {
      "text/plain": [
       "[3, 4, 5]"
      ]
     },
     "execution_count": 15,
     "metadata": {},
     "output_type": "execute_result"
    }
   ],
   "source": [
    "li = []\n",
    "while len(li) < 3:\n",
    "    i = random.randint(1,6)\n",
    "    if i not in li:\n",
    "        li.append(i)\n",
    "li"
   ]
  },
  {
   "cell_type": "code",
   "execution_count": 16,
   "id": "f77b84d4-bbbe-43d6-8a3f-e1698ceb452a",
   "metadata": {},
   "outputs": [
    {
     "data": {
      "text/plain": [
       "1"
      ]
     },
     "execution_count": 16,
     "metadata": {},
     "output_type": "execute_result"
    }
   ],
   "source": [
    "li= [2,3,40]\n",
    "li.count(40)"
   ]
  },
  {
   "cell_type": "code",
   "execution_count": 77,
   "id": "aa416833-21c6-42fa-97c6-7e8ce792f70b",
   "metadata": {
    "tags": []
   },
   "outputs": [
    {
     "data": {
      "text/plain": [
       "[2, 4, 5]"
      ]
     },
     "execution_count": 77,
     "metadata": {},
     "output_type": "execute_result"
    }
   ],
   "source": [
    "s= set()\n",
    "while len(s)<3:\n",
    "    s.add(random.randint(1,6))\n",
    "list(s)"
   ]
  },
  {
   "cell_type": "code",
   "execution_count": 66,
   "id": "7e6bd8ac-fc9a-48b8-afe5-eedeb3ae4c78",
   "metadata": {
    "tags": []
   },
   "outputs": [
    {
     "data": {
      "text/plain": [
       "[5, 2, 1]"
      ]
     },
     "execution_count": 66,
     "metadata": {},
     "output_type": "execute_result"
    }
   ],
   "source": [
    "random.sample ([1,2,3,4,5,6], k =3)"
   ]
  },
  {
   "cell_type": "code",
   "execution_count": 75,
   "id": "7f641400-877f-4e88-9799-a89c7319ad17",
   "metadata": {
    "tags": []
   },
   "outputs": [
    {
     "data": {
      "text/plain": [
       "[3, 2, 4]"
      ]
     },
     "execution_count": 75,
     "metadata": {},
     "output_type": "execute_result"
    }
   ],
   "source": [
    "p = [1,2,3,4,5,6]\n",
    "random.sample (p,k=3)\n",
    "random.sample (range(1,6),k=3)\n"
   ]
  },
  {
   "cell_type": "code",
   "execution_count": 83,
   "id": "5f3279da-2860-4051-b3f6-6039c6b11015",
   "metadata": {
    "tags": []
   },
   "outputs": [
    {
     "data": {
      "text/plain": [
       "['red', 'red', 'blue', 'blue', 'red']"
      ]
     },
     "execution_count": 83,
     "metadata": {},
     "output_type": "execute_result"
    }
   ],
   "source": [
    "random.sample(['red','blue'], counts = [4,2], k=5) "
   ]
  },
  {
   "cell_type": "code",
   "execution_count": 90,
   "id": "9c2da837-854a-413b-88a9-3d3fea7ff02e",
   "metadata": {
    "tags": []
   },
   "outputs": [
    {
     "data": {
      "text/plain": [
       "['blue', 'red', 'blue']"
      ]
     },
     "execution_count": 90,
     "metadata": {},
     "output_type": "execute_result"
    }
   ],
   "source": [
    "random.choices(['red','blue'], k=3) #random.choices(list], k= 갯수  \n",
    "#sample과 choices만 여러개 뽑기 가능 "
   ]
  },
  {
   "cell_type": "code",
   "execution_count": 100,
   "id": "e5d2d968-9026-403a-afd7-68c5293e63ae",
   "metadata": {
    "tags": []
   },
   "outputs": [
    {
     "data": {
      "text/plain": [
       "1"
      ]
     },
     "execution_count": 100,
     "metadata": {},
     "output_type": "execute_result"
    }
   ],
   "source": [
    "random.randrange(1,6,2)"
   ]
  },
  {
   "cell_type": "code",
   "execution_count": 108,
   "id": "6fa31744-79fd-47b2-b35b-4b356eedd45f",
   "metadata": {
    "tags": []
   },
   "outputs": [
    {
     "data": {
      "text/plain": [
       "True"
      ]
     },
     "execution_count": 108,
     "metadata": {},
     "output_type": "execute_result"
    }
   ],
   "source": [
    "import webbrowser\n",
    "webbrowser.open(\"http://google.com\")"
   ]
  },
  {
   "cell_type": "code",
   "execution_count": 104,
   "id": "0617d81d-6ca0-46da-9387-c4322e0b7a97",
   "metadata": {
    "tags": []
   },
   "outputs": [
    {
     "name": "stdout",
     "output_type": "stream",
     "text": [
      "ipython                      8.11.0\n",
      "ipython-genutils             0.2.0\n",
      "jupyter_client               8.0.3\n",
      "jupyter_core                 5.2.0\n",
      "jupyter-events               0.6.3\n",
      "jupyter_server               2.4.0\n",
      "jupyter_server_fileid        0.8.0\n",
      "jupyter_server_terminals     0.4.4\n",
      "jupyter_server_ydoc          0.6.1\n",
      "jupyter-ydoc                 0.2.2\n",
      "jupyterlab                   3.6.1\n",
      "jupyterlab-pygments          0.2.2\n",
      "jupyterlab_server            2.20.0\n",
      "python-dateutil              2.8.2\n",
      "python-json-logger           2.0.7\n",
      "pytz                         2022.7.1\n",
      "Note: you may need to restart the kernel to use updated packages.\n"
     ]
    },
    {
     "name": "stderr",
     "output_type": "stream",
     "text": [
      "\n",
      "[notice] A new release of pip available: 22.3.1 -> 23.0.1\n",
      "[notice] To update, run: python.exe -m pip install --upgrade pip\n"
     ]
    }
   ],
   "source": [
    "pip list | findstr pyt"
   ]
  },
  {
   "cell_type": "code",
   "execution_count": 109,
   "id": "cedce64b-8edf-45ed-a28b-09f5ecff4d5f",
   "metadata": {
    "tags": []
   },
   "outputs": [
    {
     "data": {
      "text/plain": [
       "True"
      ]
     },
     "execution_count": 109,
     "metadata": {},
     "output_type": "execute_result"
    }
   ],
   "source": [
    "webbrowser.open_new(\"http://naver.com\")"
   ]
  },
  {
   "cell_type": "markdown",
   "id": "5f3b7ebb-f795-47a8-8090-f39d009fac77",
   "metadata": {},
   "source": [
    "### thread 스레드"
   ]
  },
  {
   "cell_type": "code",
   "execution_count": 9,
   "id": "2c6cb78c-4ca4-439c-a063-a16a1ffbafbc",
   "metadata": {
    "tags": []
   },
   "outputs": [
    {
     "name": "stdout",
     "output_type": "stream",
     "text": [
      "Start\n",
      "working 0\n",
      "working 1\n",
      "working 2\n",
      "working 3\n",
      "working 4\n",
      "working 0\n",
      "working 1\n",
      "working 2\n",
      "working 3\n"
     ]
    },
    {
     "ename": "KeyboardInterrupt",
     "evalue": "",
     "output_type": "error",
     "traceback": [
      "\u001b[1;31m---------------------------------------------------------------------------\u001b[0m",
      "\u001b[1;31mKeyboardInterrupt\u001b[0m                         Traceback (most recent call last)",
      "Cell \u001b[1;32mIn[9], line 11\u001b[0m\n\u001b[0;32m      8\u001b[0m \u001b[38;5;28mprint\u001b[39m(\u001b[38;5;124m\"\u001b[39m\u001b[38;5;124mStart\u001b[39m\u001b[38;5;124m\"\u001b[39m)\n\u001b[0;32m     10\u001b[0m \u001b[38;5;28;01mfor\u001b[39;00m i \u001b[38;5;129;01min\u001b[39;00m \u001b[38;5;28mrange\u001b[39m(\u001b[38;5;241m5\u001b[39m) : \n\u001b[1;32m---> 11\u001b[0m     \u001b[43mlong_task\u001b[49m\u001b[43m(\u001b[49m\u001b[43m)\u001b[49m\n\u001b[0;32m     12\u001b[0m \u001b[38;5;28mprint\u001b[39m (\u001b[38;5;124m\"\u001b[39m\u001b[38;5;124mEnd\u001b[39m\u001b[38;5;124m\"\u001b[39m)\n",
      "Cell \u001b[1;32mIn[9], line 6\u001b[0m, in \u001b[0;36mlong_task\u001b[1;34m()\u001b[0m\n\u001b[0;32m      4\u001b[0m \u001b[38;5;28;01mdef\u001b[39;00m \u001b[38;5;21mlong_task\u001b[39m():\n\u001b[0;32m      5\u001b[0m     \u001b[38;5;28;01mfor\u001b[39;00m i \u001b[38;5;129;01min\u001b[39;00m \u001b[38;5;28mrange\u001b[39m(\u001b[38;5;241m5\u001b[39m):\n\u001b[1;32m----> 6\u001b[0m         \u001b[43mtime\u001b[49m\u001b[38;5;241;43m.\u001b[39;49m\u001b[43msleep\u001b[49m\u001b[43m(\u001b[49m\u001b[38;5;241;43m1\u001b[39;49m\u001b[43m)\u001b[49m\n\u001b[0;32m      7\u001b[0m         \u001b[38;5;28mprint\u001b[39m(\u001b[38;5;124mf\u001b[39m\u001b[38;5;124m\"\u001b[39m\u001b[38;5;124mworking \u001b[39m\u001b[38;5;132;01m{\u001b[39;00mi\u001b[38;5;132;01m}\u001b[39;00m\u001b[38;5;124m\"\u001b[39m)\n",
      "\u001b[1;31mKeyboardInterrupt\u001b[0m: "
     ]
    }
   ],
   "source": [
    "import time\n",
    "\n",
    "now = time.time()\n",
    "def long_task():\n",
    "    for i in range(5):\n",
    "        time.sleep(1)\n",
    "        print(f\"working {i}\")\n",
    "print(\"Start\")\n",
    "\n",
    "for i in range(5) : \n",
    "    long_task()\n",
    "print (\"End\")"
   ]
  },
  {
   "cell_type": "code",
   "execution_count": 23,
   "id": "87468496-5094-41df-9a9a-16dcf6ff4d8d",
   "metadata": {
    "tags": []
   },
   "outputs": [
    {
     "name": "stdout",
     "output_type": "stream",
     "text": [
      "working 1\n",
      "Start\n"
     ]
    },
    {
     "ename": "NameError",
     "evalue": "name 'threads' is not defined",
     "output_type": "error",
     "traceback": [
      "\u001b[1;31m---------------------------------------------------------------------------\u001b[0m",
      "\u001b[1;31mNameError\u001b[0m                                 Traceback (most recent call last)",
      "Cell \u001b[1;32mIn[23], line 11\u001b[0m\n\u001b[0;32m      8\u001b[0m \u001b[38;5;28mprint\u001b[39m(\u001b[38;5;124m\"\u001b[39m\u001b[38;5;124mStart\u001b[39m\u001b[38;5;124m\"\u001b[39m)\n\u001b[0;32m     10\u001b[0m thread\u001b[38;5;241m=\u001b[39m[]\n\u001b[1;32m---> 11\u001b[0m \u001b[38;5;28;01mfor\u001b[39;00m t \u001b[38;5;129;01min\u001b[39;00m \u001b[43mthreads\u001b[49m:\n\u001b[0;32m     12\u001b[0m       t\u001b[38;5;241m.\u001b[39mstart ()\n\u001b[0;32m     13\u001b[0m end_time \u001b[38;5;241m=\u001b[39m time\u001b[38;5;241m.\u001b[39mtime()\n",
      "\u001b[1;31mNameError\u001b[0m: name 'threads' is not defined"
     ]
    }
   ],
   "source": [
    "old = time.time()\n",
    "\n",
    "def long_task():\n",
    "     for i in range (5):\n",
    "        long.task \n",
    "print(f\"working {1}\")\n",
    "\n",
    "print(\"Start\")\n",
    "      \n",
    "thread=[]\n",
    "for t in threads:\n",
    "      t.start ()\n",
    "end_time = time.time()\n",
    "print(end_time - start_start(time))\n",
    "print (end_time- start(time))\n",
    "print(end__time) \n",
    "      "
   ]
  },
  {
   "cell_type": "code",
   "execution_count": 122,
   "id": "907df463-ff1a-4baf-a90f-a652c37ce357",
   "metadata": {
    "tags": []
   },
   "outputs": [
    {
     "name": "stdout",
     "output_type": "stream",
     "text": [
      "Start\n"
     ]
    }
   ],
   "source": [
    "import time\n",
    "\n",
    "def long_time():\n",
    "    for i in range(5):\n",
    "        time.sleep(1)\n",
    "        print(\"woring:%s\\n\" % i)\n",
    "              \n",
    "print(\"Start\")"
   ]
  },
  {
   "cell_type": "code",
   "execution_count": 28,
   "id": "ae0b77cd-bdca-4ef3-adb1-03e73dc85dcd",
   "metadata": {},
   "outputs": [
    {
     "name": "stdout",
     "output_type": "stream",
     "text": [
      "Start\n",
      "End\n",
      "working:0\n",
      "\n",
      "working:0\n",
      "\n",
      "working:0\n",
      "\n",
      "working:0\n",
      "\n",
      "working:0\n",
      "\n",
      "working:1\n",
      "\n",
      "working:1\n",
      "\n",
      "working:1\n",
      "\n",
      "working:1\n",
      "\n",
      "working:1\n",
      "\n",
      "working:2\n",
      "working:2\n",
      "\n",
      "\n",
      "working:2\n",
      "\n",
      "working:2\n",
      "\n",
      "working:2\n",
      "\n",
      "working:3\n",
      "\n",
      "working:3\n",
      "\n",
      "working:3\n",
      "\n",
      "working:3\n",
      "\n",
      "working:3\n",
      "\n",
      "working:4\n",
      "\n",
      "working:4\n",
      "\n",
      "working:4\n",
      "\n",
      "working:4\n",
      "\n",
      "working:4\n",
      "\n"
     ]
    }
   ],
   "source": [
    "import time\n",
    "import threading\n",
    "def long_task():\n",
    "    for i in range(5):\n",
    "        time.sleep(1)\n",
    "        print(\"working:%s\\n\"%i)\n",
    "print(\"Start\")\n",
    "\n",
    "threads=[]\n",
    "for i in range(5):\n",
    "    t= threading.Thread(target=long_task)\n",
    "    threads.append(t)\n",
    "    \n",
    "for t in threads:\n",
    "    t.start()\n",
    "\n",
    "print(\"End\")  #start, end 가 한번에 나옴. "
   ]
  },
  {
   "cell_type": "code",
   "execution_count": 27,
   "id": "d1b6dd28-92c1-4d28-92d7-8f555c0c9287",
   "metadata": {},
   "outputs": [
    {
     "name": "stdout",
     "output_type": "stream",
     "text": [
      "Start\n",
      "working:0\n",
      "\n",
      "working:0\n",
      "\n",
      "working:0\n",
      "\n",
      "working:0\n",
      "\n",
      "working:0\n",
      "\n",
      "working:1\n",
      "\n",
      "working:1\n",
      "\n",
      "working:1\n",
      "\n",
      "working:1\n",
      "\n",
      "working:1\n",
      "\n",
      "working:2\n",
      "working:2\n",
      "\n",
      "\n",
      "working:2\n",
      "\n",
      "working:2\n",
      "\n",
      "working:2\n",
      "\n",
      "working:3\n",
      "\n",
      "working:3\n",
      "\n",
      "working:3\n",
      "\n",
      "working:3\n",
      "\n",
      "working:3\n",
      "\n",
      "working:4\n",
      "working:4\n",
      "\n",
      "\n",
      "working:4\n",
      "\n",
      "working:4\n",
      "\n",
      "working:4\n",
      "\n",
      "End\n"
     ]
    }
   ],
   "source": [
    "import time\n",
    "import threading\n",
    "def long_task():\n",
    "    for i in range(5):\n",
    "        time.sleep(1)\n",
    "        print(\"working:%s\\n\"%i)\n",
    "print(\"Start\")\n",
    "\n",
    "threads=[]\n",
    "for i in range(5):\n",
    "    t= threading.Thread(target=long_task)\n",
    "    threads.append(t)\n",
    "\n",
    "for t in threads:\n",
    "    t.start()\n",
    "for t in threads:\n",
    "    t.join()\n",
    "\n",
    "print(\"End\")  #start, end 가 한번에 나옴. "
   ]
  },
  {
   "cell_type": "code",
   "execution_count": null,
   "id": "5ff97bb0-4165-40a0-9658-136c684f5e52",
   "metadata": {},
   "outputs": [],
   "source": []
  },
  {
   "cell_type": "code",
   "execution_count": null,
   "id": "e24677a7-1173-4a21-a758-4212dd93ef5c",
   "metadata": {},
   "outputs": [],
   "source": []
  },
  {
   "cell_type": "code",
   "execution_count": 34,
   "id": "b24716d7-e712-4433-9d32-2da2acdedf14",
   "metadata": {},
   "outputs": [
    {
     "data": {
      "text/plain": [
       "'Mon Mar 20 08:34:01 2023'"
      ]
     },
     "execution_count": 34,
     "metadata": {},
     "output_type": "execute_result"
    }
   ],
   "source": [
    "import time\n",
    "time.time()\n",
    "time.localtime(time.time())\n",
    "time.asctime(time.localtime(time.time()))\n"
   ]
  },
  {
   "cell_type": "code",
   "execution_count": null,
   "id": "827bf339-9c1a-41a1-b3ee-d2df716a54d9",
   "metadata": {},
   "outputs": [],
   "source": [
    "time.time()\n",
    "time.localtime(time.time())"
   ]
  },
  {
   "cell_type": "code",
   "execution_count": 134,
   "id": "6da537f9-b1a8-4422-a19d-d212e7cadfd2",
   "metadata": {
    "tags": []
   },
   "outputs": [
    {
     "ename": "FileExistsError",
     "evalue": "[WinError 183] 파일이 이미 있으므로 만들 수 없습니다: 'C:/doit'",
     "output_type": "error",
     "traceback": [
      "\u001b[1;31m---------------------------------------------------------------------------\u001b[0m",
      "\u001b[1;31mFileExistsError\u001b[0m                           Traceback (most recent call last)",
      "Cell \u001b[1;32mIn[134], line 3\u001b[0m\n\u001b[0;32m      1\u001b[0m \u001b[38;5;66;03m# p264. 문제 10번 \u001b[39;00m\n\u001b[0;32m      2\u001b[0m \u001b[38;5;28;01mimport\u001b[39;00m \u001b[38;5;21;01mos\u001b[39;00m\n\u001b[1;32m----> 3\u001b[0m \u001b[43mos\u001b[49m\u001b[38;5;241;43m.\u001b[39;49m\u001b[43mmkdir\u001b[49m\u001b[43m(\u001b[49m\u001b[38;5;124;43m\"\u001b[39;49m\u001b[38;5;124;43mC:/doit\u001b[39;49m\u001b[38;5;124;43m\"\u001b[39;49m\u001b[43m)\u001b[49m\n",
      "\u001b[1;31mFileExistsError\u001b[0m: [WinError 183] 파일이 이미 있으므로 만들 수 없습니다: 'C:/doit'"
     ]
    }
   ],
   "source": [
    "# p264. 문제 10번 \n",
    "import os\n",
    "os.mkdir(\"C:/doit\")"
   ]
  },
  {
   "cell_type": "code",
   "execution_count": 154,
   "id": "1d1bd6f6-ce0e-476c-88b0-a3be0ab6d46e",
   "metadata": {
    "tags": []
   },
   "outputs": [],
   "source": [
    "os.chdir(\"C:/Users/user/test\")"
   ]
  },
  {
   "cell_type": "code",
   "execution_count": 155,
   "id": "77b8c8fe-9fac-4b76-a61e-b99ef590eb64",
   "metadata": {
    "tags": []
   },
   "outputs": [
    {
     "name": "stdout",
     "output_type": "stream",
     "text": [
      " C 드라이브의 볼륨에는 이름이 없습니다.\n",
      " 볼륨 일련 번호: 144F-541F\n",
      "\n",
      " C:\\Users\\user\\test 디렉터리\n",
      "\n",
      "\n",
      " C:\\Users\\user\\test 디렉터리\n",
      "\n",
      "\n",
      " C:\\Users\\user\\test 디렉터리\n",
      "\n"
     ]
    },
    {
     "name": "stderr",
     "output_type": "stream",
     "text": [
      "파일을 찾을 수 없습니다.\n"
     ]
    },
    {
     "data": {
      "text/plain": [
       "'C:\\\\Users\\\\user\\\\test'"
      ]
     },
     "execution_count": 155,
     "metadata": {},
     "output_type": "execute_result"
    }
   ],
   "source": [
    "!dir  #c에 뭐있는지 볼때\n",
    "os.getcwd()"
   ]
  },
  {
   "cell_type": "code",
   "execution_count": 139,
   "id": "f1aa6d5f-488f-4657-9931-1aaa1b7a97fd",
   "metadata": {
    "tags": []
   },
   "outputs": [],
   "source": [
    "result = os.popen(\"dir\")"
   ]
  },
  {
   "cell_type": "code",
   "execution_count": 138,
   "id": "13efc15a-bf39-4663-b574-0e8ee3d75cba",
   "metadata": {
    "tags": []
   },
   "outputs": [
    {
     "name": "stdout",
     "output_type": "stream",
     "text": [
      " C 드라이브의 볼륨에는 이름이 없습니다.\n",
      " 볼륨 일련 번호: 144F-541F\n",
      "\n",
      " C:\\doit 디렉터리\n",
      "\n",
      "2023-03-17  오후 02:40    <DIR>          .\n",
      "2023-03-17  오후 02:40    <DIR>          ..\n",
      "               0개 파일                   0 바이트\n",
      "               2개 디렉터리  185,091,444,736 바이트 남음\n",
      "\n"
     ]
    }
   ],
   "source": [
    "print(result.read())"
   ]
  },
  {
   "cell_type": "code",
   "execution_count": 156,
   "id": "c77961fa-50d1-4e15-987e-5e4100745081",
   "metadata": {
    "tags": []
   },
   "outputs": [
    {
     "data": {
      "text/plain": [
       "['sys1.py', 'test1.py', 'test2.py']"
      ]
     },
     "execution_count": 156,
     "metadata": {},
     "output_type": "execute_result"
    }
   ],
   "source": [
    "#11 \n",
    "import glob\n",
    "glob.glob (\"*.py\")"
   ]
  },
  {
   "cell_type": "code",
   "execution_count": 152,
   "id": "fe017560-0e22-4316-b8b8-4429e668e8c6",
   "metadata": {
    "tags": []
   },
   "outputs": [
    {
     "data": {
      "text/plain": [
       "'C:\\\\Users\\\\user'"
      ]
     },
     "execution_count": 152,
     "metadata": {},
     "output_type": "execute_result"
    }
   ],
   "source": [
    "os.getcwd()"
   ]
  },
  {
   "cell_type": "code",
   "execution_count": 145,
   "id": "903d901a-afce-4dc6-82a6-4f2c2db034ff",
   "metadata": {
    "tags": []
   },
   "outputs": [
    {
     "ename": "SyntaxError",
     "evalue": "invalid syntax (2937800789.py, line 1)",
     "output_type": "error",
     "traceback": [
      "\u001b[1;36m  Cell \u001b[1;32mIn[145], line 1\u001b[1;36m\u001b[0m\n\u001b[1;33m    os.chdir(\"C:/Users/user/\", .py)\u001b[0m\n\u001b[1;37m                               ^\u001b[0m\n\u001b[1;31mSyntaxError\u001b[0m\u001b[1;31m:\u001b[0m invalid syntax\n"
     ]
    }
   ],
   "source": [
    "os.chdir(\"C:/Users/user/\")"
   ]
  },
  {
   "cell_type": "code",
   "execution_count": 144,
   "id": "bc532a35-0588-4f55-a22e-e7630e5ad17b",
   "metadata": {
    "tags": []
   },
   "outputs": [
    {
     "name": "stdout",
     "output_type": "stream",
     "text": [
      " C 드라이브의 볼륨에는 이름이 없습니다.\n",
      " 볼륨 일련 번호: 144F-541F\n",
      "\n",
      " C:\\Users\\user 디렉터리\n",
      "\n",
      "2023-03-15  오후 02:37    <DIR>          .\n",
      "2023-03-15  오후 02:37    <DIR>          ..\n",
      "2023-03-09  오후 12:09    <DIR>          .idlerc\n",
      "2023-03-14  오전 10:20    <DIR>          .ipynb_checkpoints\n",
      "2023-03-09  오후 12:37    <DIR>          .ipython\n",
      "2023-03-10  오전 09:12    <DIR>          .jupyter\n",
      "2023-03-10  오전 09:09    <DIR>          .keras\n",
      "2023-03-09  오후 03:51    <DIR>          .matplotlib\n",
      "2023-02-28  오전 09:07    <DIR>          .ms-ad\n",
      "2021-02-16  오후 02:43    <DIR>          3D Objects\n",
      "2021-02-16  오후 02:43    <DIR>          Contacts\n",
      "2023-03-16  오전 09:41    <DIR>          Desktop\n",
      "2023-03-06  오전 09:04    <DIR>          Documents\n",
      "2023-03-09  오전 11:50    <DIR>          Downloads\n",
      "2021-02-16  오후 02:43    <DIR>          Favorites\n",
      "2021-02-16  오후 02:43    <DIR>          Links\n",
      "2021-02-16  오후 02:43    <DIR>          Music\n",
      "2023-03-17  오전 10:23    <DIR>          New\n",
      "2021-05-11  오전 10:51    <DIR>          OneDrive\n",
      "2021-02-16  오후 02:43    <DIR>          Pictures\n",
      "2021-02-16  오후 02:43    <DIR>          Saved Games\n",
      "2021-02-16  오후 02:43    <DIR>          Searches\n",
      "2023-03-17  오후 02:47    <DIR>          test\n",
      "2023-03-14  오전 10:22               617 Untitled.ipynb\n",
      "2021-05-11  오후 12:43    <DIR>          Videos\n",
      "               1개 파일                 617 바이트\n",
      "              24개 디렉터리  185,091,117,056 바이트 남음\n"
     ]
    }
   ],
   "source": [
    "!dir"
   ]
  },
  {
   "cell_type": "code",
   "execution_count": 162,
   "id": "a5678245-39ab-483c-a137-922846bce127",
   "metadata": {
    "tags": []
   },
   "outputs": [
    {
     "ename": "TypeError",
     "evalue": "strftime() takes at most 2 arguments (3 given)",
     "output_type": "error",
     "traceback": [
      "\u001b[1;31m---------------------------------------------------------------------------\u001b[0m",
      "\u001b[1;31mTypeError\u001b[0m                                 Traceback (most recent call last)",
      "Cell \u001b[1;32mIn[162], line 2\u001b[0m\n\u001b[0;32m      1\u001b[0m \u001b[38;5;28;01mimport\u001b[39;00m \u001b[38;5;21;01mtime\u001b[39;00m\n\u001b[1;32m----> 2\u001b[0m \u001b[43mtime\u001b[49m\u001b[38;5;241;43m.\u001b[39;49m\u001b[43mstrftime\u001b[49m\u001b[43m(\u001b[49m\u001b[38;5;124;43m'\u001b[39;49m\u001b[38;5;132;43;01m%x\u001b[39;49;00m\u001b[38;5;124;43m'\u001b[39;49m\u001b[43m,\u001b[49m\u001b[43m \u001b[49m\u001b[38;5;124;43m'\u001b[39;49m\u001b[38;5;132;43;01m%X\u001b[39;49;00m\u001b[38;5;124;43m'\u001b[39;49m\u001b[43m,\u001b[49m\u001b[43mtime\u001b[49m\u001b[38;5;241;43m.\u001b[39;49m\u001b[43mlocaltime\u001b[49m\u001b[43m(\u001b[49m\u001b[43mtime\u001b[49m\u001b[38;5;241;43m.\u001b[39;49m\u001b[43mtime\u001b[49m\u001b[43m(\u001b[49m\u001b[43m)\u001b[49m\u001b[43m)\u001b[49m\u001b[43m)\u001b[49m\n",
      "\u001b[1;31mTypeError\u001b[0m: strftime() takes at most 2 arguments (3 given)"
     ]
    }
   ],
   "source": [
    "import time\n",
    "time.strftime('%x', '%X',time.localtime(time.time()))"
   ]
  },
  {
   "cell_type": "code",
   "execution_count": 163,
   "id": "09113187-9f32-47fb-89d9-16e056e73a7d",
   "metadata": {
    "tags": []
   },
   "outputs": [
    {
     "data": {
      "text/plain": [
       "'03/17/23'"
      ]
     },
     "execution_count": 163,
     "metadata": {},
     "output_type": "execute_result"
    }
   ],
   "source": [
    "time.strftime('%x',time.localtime(time.time()))"
   ]
  },
  {
   "cell_type": "code",
   "execution_count": 178,
   "id": "838ab324-299f-4c68-b1b9-eb6812ab0825",
   "metadata": {
    "tags": []
   },
   "outputs": [
    {
     "data": {
      "text/plain": [
       "'2023/03/17 15:10:40 '"
      ]
     },
     "execution_count": 178,
     "metadata": {},
     "output_type": "execute_result"
    }
   ],
   "source": [
    "#12\n",
    "time.strftime(\"%Y/%m/%d %X \" , time.localtime()) "
   ]
  },
  {
   "cell_type": "code",
   "execution_count": 180,
   "id": "5e333177-0a79-44ce-868b-c152c734c9ab",
   "metadata": {
    "tags": []
   },
   "outputs": [
    {
     "data": {
      "text/plain": [
       "[33, 37, 7, 12, 13, 23]"
      ]
     },
     "execution_count": 180,
     "metadata": {},
     "output_type": "execute_result"
    }
   ],
   "source": [
    "#13\n",
    "import random\n",
    "s= set()\n",
    "while len(s)<6:\n",
    "    s.add(random.randint(1,45))\n",
    "list(s)"
   ]
  },
  {
   "cell_type": "code",
   "execution_count": 181,
   "id": "e5999405-bb24-41f0-9224-80b0a348bd58",
   "metadata": {
    "tags": []
   },
   "outputs": [
    {
     "data": {
      "text/plain": [
       "'2023/03/17 15:13:16'"
      ]
     },
     "execution_count": 181,
     "metadata": {},
     "output_type": "execute_result"
    }
   ],
   "source": [
    "time.strftime(\"%Y/%m/%d %X\" , time.localtime())"
   ]
  },
  {
   "cell_type": "code",
   "execution_count": 193,
   "id": "21574f71-2a38-427d-95b4-7f221efc7ac9",
   "metadata": {
    "tags": []
   },
   "outputs": [
    {
     "data": {
      "text/plain": [
       "'C:\\\\Users\\\\user\\\\test'"
      ]
     },
     "execution_count": 193,
     "metadata": {},
     "output_type": "execute_result"
    }
   ],
   "source": [
    "import os\n",
    "os.getcwd()"
   ]
  },
  {
   "cell_type": "code",
   "execution_count": null,
   "id": "2c8e7f1f-b051-4ef9-8f2d-aba69c14d554",
   "metadata": {},
   "outputs": [],
   "source": [
    "import shutil"
   ]
  },
  {
   "cell_type": "code",
   "execution_count": 1,
   "id": "75d308ca-a2f9-4745-97ca-e746bd5ae5cc",
   "metadata": {
    "tags": []
   },
   "outputs": [],
   "source": [
    "import os"
   ]
  },
  {
   "cell_type": "code",
   "execution_count": 3,
   "id": "4b53e9f9-aad6-455f-b0d3-6640c08affe6",
   "metadata": {
    "tags": []
   },
   "outputs": [
    {
     "data": {
      "text/plain": [
       "'C:\\\\Users\\\\user\\\\test'"
      ]
     },
     "execution_count": 3,
     "metadata": {},
     "output_type": "execute_result"
    }
   ],
   "source": [
    "os.getcwd()"
   ]
  },
  {
   "cell_type": "code",
   "execution_count": null,
   "id": "15e2f80d-23ce-4720-9a94-1b97e5a8c8dd",
   "metadata": {},
   "outputs": [],
   "source": []
  }
 ],
 "metadata": {
  "kernelspec": {
   "display_name": "Python 3 (ipykernel)",
   "language": "python",
   "name": "python3"
  },
  "language_info": {
   "codemirror_mode": {
    "name": "ipython",
    "version": 3
   },
   "file_extension": ".py",
   "mimetype": "text/x-python",
   "name": "python",
   "nbconvert_exporter": "python",
   "pygments_lexer": "ipython3",
   "version": "3.10.9"
  }
 },
 "nbformat": 4,
 "nbformat_minor": 5
}
