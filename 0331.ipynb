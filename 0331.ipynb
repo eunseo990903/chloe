{
 "cells": [
  {
   "cell_type": "code",
   "execution_count": 295,
   "id": "72a9e02a-37a7-4a19-9496-2b2617d20c70",
   "metadata": {
    "tags": []
   },
   "outputs": [
    {
     "name": "stdout",
     "output_type": "stream",
     "text": [
      "<class 'pandas.core.frame.DataFrame'>\n",
      "RangeIndex: 156 entries, 0 to 155\n",
      "Data columns (total 13 columns):\n",
      " #   Column       Non-Null Count  Dtype  \n",
      "---  ------       --------------  -----  \n",
      " 0   PassengerId  156 non-null    int64  \n",
      " 1   Survived     156 non-null    int64  \n",
      " 2   Pclass       156 non-null    int64  \n",
      " 3   Lname        156 non-null    object \n",
      " 4   Name         156 non-null    object \n",
      " 5   Sex          156 non-null    object \n",
      " 6   Age          126 non-null    float64\n",
      " 7   SibSp        156 non-null    int64  \n",
      " 8   Parch        156 non-null    int64  \n",
      " 9   Ticket       156 non-null    object \n",
      " 10  Fare         156 non-null    float64\n",
      " 11  Cabin        31 non-null     object \n",
      " 12  Embarked     155 non-null    object \n",
      "dtypes: float64(2), int64(5), object(6)\n",
      "memory usage: 16.0+ KB\n"
     ]
    },
    {
     "data": {
      "text/html": [
       "<div>\n",
       "<style scoped>\n",
       "    .dataframe tbody tr th:only-of-type {\n",
       "        vertical-align: middle;\n",
       "    }\n",
       "\n",
       "    .dataframe tbody tr th {\n",
       "        vertical-align: top;\n",
       "    }\n",
       "\n",
       "    .dataframe thead th {\n",
       "        text-align: right;\n",
       "    }\n",
       "</style>\n",
       "<table border=\"1\" class=\"dataframe\">\n",
       "  <thead>\n",
       "    <tr style=\"text-align: right;\">\n",
       "      <th></th>\n",
       "      <th>PassengerId</th>\n",
       "      <th>Survived</th>\n",
       "      <th>Pclass</th>\n",
       "      <th>Age</th>\n",
       "      <th>SibSp</th>\n",
       "      <th>Parch</th>\n",
       "      <th>Fare</th>\n",
       "    </tr>\n",
       "  </thead>\n",
       "  <tbody>\n",
       "    <tr>\n",
       "      <th>count</th>\n",
       "      <td>156.000000</td>\n",
       "      <td>156.000000</td>\n",
       "      <td>156.000000</td>\n",
       "      <td>126.000000</td>\n",
       "      <td>156.000000</td>\n",
       "      <td>156.000000</td>\n",
       "      <td>156.000000</td>\n",
       "    </tr>\n",
       "    <tr>\n",
       "      <th>mean</th>\n",
       "      <td>78.500000</td>\n",
       "      <td>0.346154</td>\n",
       "      <td>2.423077</td>\n",
       "      <td>28.141508</td>\n",
       "      <td>0.615385</td>\n",
       "      <td>0.397436</td>\n",
       "      <td>28.109587</td>\n",
       "    </tr>\n",
       "    <tr>\n",
       "      <th>std</th>\n",
       "      <td>45.177428</td>\n",
       "      <td>0.477275</td>\n",
       "      <td>0.795459</td>\n",
       "      <td>14.613880</td>\n",
       "      <td>1.056235</td>\n",
       "      <td>0.870146</td>\n",
       "      <td>39.401047</td>\n",
       "    </tr>\n",
       "    <tr>\n",
       "      <th>min</th>\n",
       "      <td>1.000000</td>\n",
       "      <td>0.000000</td>\n",
       "      <td>1.000000</td>\n",
       "      <td>0.830000</td>\n",
       "      <td>0.000000</td>\n",
       "      <td>0.000000</td>\n",
       "      <td>6.750000</td>\n",
       "    </tr>\n",
       "    <tr>\n",
       "      <th>25%</th>\n",
       "      <td>39.750000</td>\n",
       "      <td>0.000000</td>\n",
       "      <td>2.000000</td>\n",
       "      <td>19.000000</td>\n",
       "      <td>0.000000</td>\n",
       "      <td>0.000000</td>\n",
       "      <td>8.003150</td>\n",
       "    </tr>\n",
       "    <tr>\n",
       "      <th>50%</th>\n",
       "      <td>78.500000</td>\n",
       "      <td>0.000000</td>\n",
       "      <td>3.000000</td>\n",
       "      <td>26.000000</td>\n",
       "      <td>0.000000</td>\n",
       "      <td>0.000000</td>\n",
       "      <td>14.454200</td>\n",
       "    </tr>\n",
       "    <tr>\n",
       "      <th>75%</th>\n",
       "      <td>117.250000</td>\n",
       "      <td>1.000000</td>\n",
       "      <td>3.000000</td>\n",
       "      <td>35.000000</td>\n",
       "      <td>1.000000</td>\n",
       "      <td>0.000000</td>\n",
       "      <td>30.371850</td>\n",
       "    </tr>\n",
       "    <tr>\n",
       "      <th>max</th>\n",
       "      <td>156.000000</td>\n",
       "      <td>1.000000</td>\n",
       "      <td>3.000000</td>\n",
       "      <td>71.000000</td>\n",
       "      <td>5.000000</td>\n",
       "      <td>5.000000</td>\n",
       "      <td>263.000000</td>\n",
       "    </tr>\n",
       "  </tbody>\n",
       "</table>\n",
       "</div>"
      ],
      "text/plain": [
       "       PassengerId    Survived      Pclass         Age       SibSp  \\\n",
       "count   156.000000  156.000000  156.000000  126.000000  156.000000   \n",
       "mean     78.500000    0.346154    2.423077   28.141508    0.615385   \n",
       "std      45.177428    0.477275    0.795459   14.613880    1.056235   \n",
       "min       1.000000    0.000000    1.000000    0.830000    0.000000   \n",
       "25%      39.750000    0.000000    2.000000   19.000000    0.000000   \n",
       "50%      78.500000    0.000000    3.000000   26.000000    0.000000   \n",
       "75%     117.250000    1.000000    3.000000   35.000000    1.000000   \n",
       "max     156.000000    1.000000    3.000000   71.000000    5.000000   \n",
       "\n",
       "            Parch        Fare  \n",
       "count  156.000000  156.000000  \n",
       "mean     0.397436   28.109587  \n",
       "std      0.870146   39.401047  \n",
       "min      0.000000    6.750000  \n",
       "25%      0.000000    8.003150  \n",
       "50%      0.000000   14.454200  \n",
       "75%      0.000000   30.371850  \n",
       "max      5.000000  263.000000  "
      ]
     },
     "execution_count": 295,
     "metadata": {},
     "output_type": "execute_result"
    }
   ],
   "source": [
    "import pandas as pd\n",
    "ti=pd.read_csv(\"https://gist.githubusercontent.com/jwalsh/ce1dc0436aba5b7a5c9666f47fa5a380/raw/5ce3854392b43ff97907112d344fc008229b0445/titanic.csv\")\n",
    "ti.head()\n",
    "ti.info()\n",
    "ti.isnull().sum()\n",
    "ti.describe()"
   ]
  },
  {
   "cell_type": "code",
   "execution_count": 12,
   "id": "e67b8803-5c35-4b1b-9cdf-3c5894a1cfa6",
   "metadata": {
    "tags": []
   },
   "outputs": [
    {
     "data": {
      "text/plain": [
       "Index(['passengerid', 'survived', 'pclass', 'lname', 'name', 'sex', 'age',\n",
       "       'sibsp', 'parch', 'ticket', 'fare', 'cabin', 'embarked'],\n",
       "      dtype='object')"
      ]
     },
     "execution_count": 12,
     "metadata": {},
     "output_type": "execute_result"
    }
   ],
   "source": [
    "ti.columns.str.lower()"
   ]
  },
  {
   "cell_type": "code",
   "execution_count": 16,
   "id": "f2cadeef-a0cc-4d4e-8a55-4e7e2e55bf59",
   "metadata": {
    "tags": []
   },
   "outputs": [
    {
     "data": {
      "text/plain": [
       "Index(['passengerid', 'survived', 'pclass', 'lname', 'name', 'sex', 'age',\n",
       "       'sibsp', 'parch', 'ticket', 'fare', 'cabin', 'embarked'],\n",
       "      dtype='object')"
      ]
     },
     "execution_count": 16,
     "metadata": {},
     "output_type": "execute_result"
    }
   ],
   "source": [
    "ti.columns=map(lambda x:x.lower(), list(ti.columns) )\n",
    "ti.columns"
   ]
  },
  {
   "cell_type": "code",
   "execution_count": 297,
   "id": "57047b3a-86e2-4de9-985c-7cd6c79ea762",
   "metadata": {
    "tags": []
   },
   "outputs": [
    {
     "data": {
      "text/plain": [
       "Index(['passengerid', 'survived', 'pclass', 'lname', 'name', 'sex', 'age',\n",
       "       'sibsp', 'parch', 'ticket', 'fare', 'cabin', 'embarked'],\n",
       "      dtype='object')"
      ]
     },
     "execution_count": 297,
     "metadata": {},
     "output_type": "execute_result"
    }
   ],
   "source": [
    "li=[]\n",
    "for i in ti.columns:\n",
    "    li.append(i.lower())\n",
    "ti.columns=li #결과값 항상 앞으로, ticolumns에서 밀어넣어야댐.\n",
    "ti.columns\n",
    "\n"
   ]
  },
  {
   "cell_type": "code",
   "execution_count": 30,
   "id": "96e13d1e-f651-4a44-aa00-1416c87a7367",
   "metadata": {
    "tags": []
   },
   "outputs": [
    {
     "data": {
      "text/plain": [
       "Index(['passengerid', 'survived', 'pclass', 'lname', 'name', 'sex', 'age',\n",
       "       'sibsp', 'parch', 'ticket', 'fare', 'cabin', 'embarked'],\n",
       "      dtype='object')"
      ]
     },
     "execution_count": 30,
     "metadata": {},
     "output_type": "execute_result"
    }
   ],
   "source": [
    "#list comprehension \n",
    "ti.columns=[i.lower() for i in ti.columns] #이 자체가 리스트니까 li는 안붙여줘도돼 \n",
    "ti.columns"
   ]
  },
  {
   "cell_type": "code",
   "execution_count": 298,
   "id": "5ada0a59-0490-45eb-a6c5-a3db9152b202",
   "metadata": {
    "tags": []
   },
   "outputs": [
    {
     "data": {
      "text/html": [
       "<div>\n",
       "<style scoped>\n",
       "    .dataframe tbody tr th:only-of-type {\n",
       "        vertical-align: middle;\n",
       "    }\n",
       "\n",
       "    .dataframe tbody tr th {\n",
       "        vertical-align: top;\n",
       "    }\n",
       "\n",
       "    .dataframe thead th {\n",
       "        text-align: right;\n",
       "    }\n",
       "</style>\n",
       "<table border=\"1\" class=\"dataframe\">\n",
       "  <thead>\n",
       "    <tr style=\"text-align: right;\">\n",
       "      <th></th>\n",
       "      <th>passengerid</th>\n",
       "      <th>survived</th>\n",
       "      <th>pclass</th>\n",
       "      <th>lname</th>\n",
       "      <th>name</th>\n",
       "      <th>sex</th>\n",
       "      <th>age</th>\n",
       "      <th>sibsp</th>\n",
       "      <th>parch</th>\n",
       "      <th>ticket</th>\n",
       "      <th>fare</th>\n",
       "      <th>cabin</th>\n",
       "      <th>embarked</th>\n",
       "    </tr>\n",
       "  </thead>\n",
       "  <tbody>\n",
       "    <tr>\n",
       "      <th>1</th>\n",
       "      <td>2</td>\n",
       "      <td>1</td>\n",
       "      <td>1</td>\n",
       "      <td>Cumings</td>\n",
       "      <td>Mrs. John Bradley (Florence Briggs Thayer)</td>\n",
       "      <td>female</td>\n",
       "      <td>38.0</td>\n",
       "      <td>1</td>\n",
       "      <td>0</td>\n",
       "      <td>PC 17599</td>\n",
       "      <td>71.2833</td>\n",
       "      <td>C85</td>\n",
       "      <td>C</td>\n",
       "    </tr>\n",
       "    <tr>\n",
       "      <th>3</th>\n",
       "      <td>4</td>\n",
       "      <td>1</td>\n",
       "      <td>1</td>\n",
       "      <td>Futrelle</td>\n",
       "      <td>Mrs. Jacques Heath (Lily May Peel)</td>\n",
       "      <td>female</td>\n",
       "      <td>35.0</td>\n",
       "      <td>1</td>\n",
       "      <td>0</td>\n",
       "      <td>113803</td>\n",
       "      <td>53.1000</td>\n",
       "      <td>C123</td>\n",
       "      <td>S</td>\n",
       "    </tr>\n",
       "  </tbody>\n",
       "</table>\n",
       "</div>"
      ],
      "text/plain": [
       "   passengerid  survived  pclass     lname  \\\n",
       "1            2         1       1   Cumings   \n",
       "3            4         1       1  Futrelle   \n",
       "\n",
       "                                          name     sex   age  sibsp  parch  \\\n",
       "1   Mrs. John Bradley (Florence Briggs Thayer)  female  38.0      1      0   \n",
       "3           Mrs. Jacques Heath (Lily May Peel)  female  35.0      1      0   \n",
       "\n",
       "     ticket     fare cabin embarked  \n",
       "1  PC 17599  71.2833   C85        C  \n",
       "3    113803  53.1000  C123        S  "
      ]
     },
     "execution_count": 298,
     "metadata": {},
     "output_type": "execute_result"
    }
   ],
   "source": [
    "ti[ti['name'].str.contains('Mrs')].head(2)"
   ]
  },
  {
   "cell_type": "code",
   "execution_count": 300,
   "id": "899f651c-a8fc-42ab-ab45-8721ca1c4b46",
   "metadata": {
    "tags": []
   },
   "outputs": [
    {
     "data": {
      "text/html": [
       "<div>\n",
       "<style scoped>\n",
       "    .dataframe tbody tr th:only-of-type {\n",
       "        vertical-align: middle;\n",
       "    }\n",
       "\n",
       "    .dataframe tbody tr th {\n",
       "        vertical-align: top;\n",
       "    }\n",
       "\n",
       "    .dataframe thead th {\n",
       "        text-align: right;\n",
       "    }\n",
       "</style>\n",
       "<table border=\"1\" class=\"dataframe\">\n",
       "  <thead>\n",
       "    <tr style=\"text-align: right;\">\n",
       "      <th></th>\n",
       "      <th>passengerid</th>\n",
       "      <th>survived</th>\n",
       "      <th>pclass</th>\n",
       "      <th>lname</th>\n",
       "      <th>name</th>\n",
       "      <th>sex</th>\n",
       "      <th>age</th>\n",
       "      <th>sibsp</th>\n",
       "      <th>parch</th>\n",
       "      <th>ticket</th>\n",
       "      <th>fare</th>\n",
       "      <th>cabin</th>\n",
       "      <th>embarked</th>\n",
       "    </tr>\n",
       "  </thead>\n",
       "  <tbody>\n",
       "    <tr>\n",
       "      <th>1</th>\n",
       "      <td>2</td>\n",
       "      <td>1</td>\n",
       "      <td>1</td>\n",
       "      <td>Cumings</td>\n",
       "      <td>Mrs. John Bradley (Florence Briggs Thayer)</td>\n",
       "      <td>female</td>\n",
       "      <td>38.0</td>\n",
       "      <td>1</td>\n",
       "      <td>0</td>\n",
       "      <td>PC 17599</td>\n",
       "      <td>71.2833</td>\n",
       "      <td>C85</td>\n",
       "      <td>C</td>\n",
       "    </tr>\n",
       "    <tr>\n",
       "      <th>2</th>\n",
       "      <td>3</td>\n",
       "      <td>1</td>\n",
       "      <td>3</td>\n",
       "      <td>Heikkinen</td>\n",
       "      <td>Miss. Laina</td>\n",
       "      <td>female</td>\n",
       "      <td>26.0</td>\n",
       "      <td>0</td>\n",
       "      <td>0</td>\n",
       "      <td>STON/O2. 3101282</td>\n",
       "      <td>7.9250</td>\n",
       "      <td>NaN</td>\n",
       "      <td>S</td>\n",
       "    </tr>\n",
       "  </tbody>\n",
       "</table>\n",
       "</div>"
      ],
      "text/plain": [
       "   passengerid  survived  pclass      lname  \\\n",
       "1            2         1       1    Cumings   \n",
       "2            3         1       3  Heikkinen   \n",
       "\n",
       "                                          name     sex   age  sibsp  parch  \\\n",
       "1   Mrs. John Bradley (Florence Briggs Thayer)  female  38.0      1      0   \n",
       "2                                  Miss. Laina  female  26.0      0      0   \n",
       "\n",
       "             ticket     fare cabin embarked  \n",
       "1          PC 17599  71.2833   C85        C  \n",
       "2  STON/O2. 3101282   7.9250   NaN        S  "
      ]
     },
     "execution_count": 300,
     "metadata": {},
     "output_type": "execute_result"
    }
   ],
   "source": [
    "ti[ti['age']>25].head(2)"
   ]
  },
  {
   "cell_type": "code",
   "execution_count": 302,
   "id": "68358b74-e25e-40d3-88af-3cc8ee083932",
   "metadata": {
    "tags": []
   },
   "outputs": [
    {
     "data": {
      "text/html": [
       "<div>\n",
       "<style scoped>\n",
       "    .dataframe tbody tr th:only-of-type {\n",
       "        vertical-align: middle;\n",
       "    }\n",
       "\n",
       "    .dataframe tbody tr th {\n",
       "        vertical-align: top;\n",
       "    }\n",
       "\n",
       "    .dataframe thead th {\n",
       "        text-align: right;\n",
       "    }\n",
       "</style>\n",
       "<table border=\"1\" class=\"dataframe\">\n",
       "  <thead>\n",
       "    <tr style=\"text-align: right;\">\n",
       "      <th></th>\n",
       "      <th>PassengerId</th>\n",
       "      <th>Survived</th>\n",
       "      <th>Pclass</th>\n",
       "      <th>Name</th>\n",
       "      <th>Sex</th>\n",
       "      <th>Age</th>\n",
       "      <th>SibSp</th>\n",
       "      <th>Parch</th>\n",
       "      <th>Ticket</th>\n",
       "      <th>Fare</th>\n",
       "      <th>Cabin</th>\n",
       "      <th>Embarked</th>\n",
       "    </tr>\n",
       "  </thead>\n",
       "  <tbody>\n",
       "    <tr>\n",
       "      <th>0</th>\n",
       "      <td>1</td>\n",
       "      <td>0</td>\n",
       "      <td>3</td>\n",
       "      <td>Braund, Mr. Owen Harris</td>\n",
       "      <td>male</td>\n",
       "      <td>22.0</td>\n",
       "      <td>1</td>\n",
       "      <td>0</td>\n",
       "      <td>A/5 21171</td>\n",
       "      <td>7.25</td>\n",
       "      <td>NaN</td>\n",
       "      <td>S</td>\n",
       "    </tr>\n",
       "  </tbody>\n",
       "</table>\n",
       "</div>"
      ],
      "text/plain": [
       "   PassengerId  Survived  Pclass                     Name   Sex   Age  SibSp  \\\n",
       "0            1         0       3  Braund, Mr. Owen Harris  male  22.0      1   \n",
       "\n",
       "   Parch     Ticket  Fare Cabin Embarked  \n",
       "0      0  A/5 21171  7.25   NaN        S  "
      ]
     },
     "execution_count": 302,
     "metadata": {},
     "output_type": "execute_result"
    }
   ],
   "source": [
    "ti=pd.read_csv(\"https://raw.githubusercontent.com/datasciencedojo/datasets/master/titanic.csv\")\n",
    "ti.head(1)"
   ]
  },
  {
   "cell_type": "code",
   "execution_count": 61,
   "id": "89030bc2-c92f-414d-b983-e35501300234",
   "metadata": {
    "tags": []
   },
   "outputs": [
    {
     "data": {
      "text/plain": [
       "342"
      ]
     },
     "execution_count": 61,
     "metadata": {},
     "output_type": "execute_result"
    }
   ],
   "source": [
    " #생존한 사람 수  0,\n",
    "ti['Survived'].sum()"
   ]
  },
  {
   "cell_type": "code",
   "execution_count": 64,
   "id": "3b0bb139-c265-4df1-a46c-c9f63bd4fbea",
   "metadata": {
    "tags": []
   },
   "outputs": [
    {
     "data": {
      "text/plain": [
       "549"
      ]
     },
     "execution_count": 64,
     "metadata": {},
     "output_type": "execute_result"
    }
   ],
   "source": [
    "#사망한 사람  1\n",
    "#전체- 살아남은 사람 \n",
    "len(ti)-ti['Survived'].sum()"
   ]
  },
  {
   "cell_type": "code",
   "execution_count": 65,
   "id": "e0387f1e-5d26-4847-a99a-19a99a2b9a7b",
   "metadata": {
    "tags": []
   },
   "outputs": [
    {
     "data": {
      "text/plain": [
       "549"
      ]
     },
     "execution_count": 65,
     "metadata": {},
     "output_type": "execute_result"
    }
   ],
   "source": [
    "ti['Survived'].count() - ti['Survived'].sum()"
   ]
  },
  {
   "cell_type": "code",
   "execution_count": 67,
   "id": "f5cd9a18-7751-4da6-8fd1-e8665315eedf",
   "metadata": {
    "tags": []
   },
   "outputs": [
    {
     "data": {
      "text/plain": [
       "549"
      ]
     },
     "execution_count": 67,
     "metadata": {},
     "output_type": "execute_result"
    }
   ],
   "source": [
    "(ti['Survived']==0).sum() #괄호 묶기 "
   ]
  },
  {
   "cell_type": "code",
   "execution_count": 62,
   "id": "b6e2bd39-457c-46fa-94d4-98861caf3de1",
   "metadata": {
    "tags": []
   },
   "outputs": [
    {
     "data": {
      "text/plain": [
       "549"
      ]
     },
     "execution_count": 62,
     "metadata": {},
     "output_type": "execute_result"
    }
   ],
   "source": [
    "ti['Survived'].value_counts()[0]"
   ]
  },
  {
   "cell_type": "code",
   "execution_count": 71,
   "id": "d0fd5982-6a6e-4ff9-a309-0c4d1a614fb7",
   "metadata": {
    "tags": []
   },
   "outputs": [
    {
     "name": "stdout",
     "output_type": "stream",
     "text": [
      "<class 'pandas.core.frame.DataFrame'>\n",
      "RangeIndex: 150 entries, 0 to 149\n",
      "Data columns (total 5 columns):\n",
      " #   Column        Non-Null Count  Dtype  \n",
      "---  ------        --------------  -----  \n",
      " 0   sepal.length  150 non-null    float64\n",
      " 1   sepal.width   150 non-null    float64\n",
      " 2   petal.length  150 non-null    float64\n",
      " 3   petal.width   150 non-null    float64\n",
      " 4   variety       150 non-null    object \n",
      "dtypes: float64(4), object(1)\n",
      "memory usage: 6.0+ KB\n"
     ]
    }
   ],
   "source": [
    "iris=pd.read_csv(\"https://gist.githubusercontent.com/netj/8836201/raw/6f9306ad21398ea43cba4f7d537619d0e07d5ae3/iris.csv\")\n",
    "iris.head() \n",
    "iris.info()\n",
    "#sepal꽃받침 petal 꽃잎 "
   ]
  },
  {
   "cell_type": "code",
   "execution_count": 77,
   "id": "e4a2d970-f840-45d0-aadf-b4ab8cdfdef5",
   "metadata": {
    "tags": []
   },
   "outputs": [
    {
     "data": {
      "text/plain": [
       "array(['Setosa', 'Versicolor', 'Virginica'], dtype=object)"
      ]
     },
     "execution_count": 77,
     "metadata": {},
     "output_type": "execute_result"
    }
   ],
   "source": [
    "#variety가 몇개인지 \n",
    "iris['variety'].unique() #unique이름만 보기"
   ]
  },
  {
   "cell_type": "code",
   "execution_count": 74,
   "id": "064b02e7-8fa3-404e-a00b-ac4de7744491",
   "metadata": {
    "tags": []
   },
   "outputs": [
    {
     "data": {
      "text/plain": [
       "Setosa        50\n",
       "Versicolor    50\n",
       "Virginica     50\n",
       "Name: variety, dtype: int64"
      ]
     },
     "execution_count": 74,
     "metadata": {},
     "output_type": "execute_result"
    }
   ],
   "source": [
    "iris['variety'].value_counts() #갯수도 세기 "
   ]
  },
  {
   "cell_type": "code",
   "execution_count": 81,
   "id": "38d7f2c3-a7bc-47d9-8b26-27f2920d55a0",
   "metadata": {
    "tags": []
   },
   "outputs": [
    {
     "data": {
      "text/plain": [
       "{'Setosa', 'Versicolor', 'Virginica'}"
      ]
     },
     "execution_count": 81,
     "metadata": {},
     "output_type": "execute_result"
    }
   ],
   "source": [
    "#집합으로 \n",
    "set(iris['variety'])"
   ]
  },
  {
   "cell_type": "code",
   "execution_count": 79,
   "id": "49bd18b2-bebf-4864-8fd5-5c177b74063e",
   "metadata": {
    "tags": []
   },
   "outputs": [
    {
     "data": {
      "text/plain": [
       "3"
      ]
     },
     "execution_count": 79,
     "metadata": {},
     "output_type": "execute_result"
    }
   ],
   "source": [
    "#종류 갯수 세기 \n",
    "len(iris['variety'].unique()) \n",
    "iris['variety'].unique().__len__()"
   ]
  },
  {
   "cell_type": "code",
   "execution_count": 98,
   "id": "b3897445-e38b-412c-a51a-58e8471810cb",
   "metadata": {
    "tags": []
   },
   "outputs": [
    {
     "data": {
      "text/plain": [
       "0         setosa\n",
       "1         setosa\n",
       "2         setosa\n",
       "3         setosa\n",
       "4         setosa\n",
       "         ...    \n",
       "145    virginica\n",
       "146    virginica\n",
       "147    virginica\n",
       "148    virginica\n",
       "149    virginica\n",
       "Name: variety, Length: 150, dtype: object"
      ]
     },
     "execution_count": 98,
     "metadata": {},
     "output_type": "execute_result"
    }
   ],
   "source": [
    "#variety 안에 소문자로 바꾸기 \n",
    "iris['variety'].str.lower()\n",
    "iris['variety']=list(map(lambda x: x.lower(),iris['variety'])) #map(func, data)\n",
    "list(map(str.lower,iris['variety']))  #str.lower 모든 문자열을 소문자로 \n",
    "iris['variety']=[i.lower() for i in iris['variety']]\n",
    "\n",
    "iris['variety']"
   ]
  },
  {
   "cell_type": "code",
   "execution_count": 104,
   "id": "45eea4d0-8670-469d-8aed-592931caee4b",
   "metadata": {
    "tags": []
   },
   "outputs": [
    {
     "data": {
      "text/html": [
       "<div>\n",
       "<style scoped>\n",
       "    .dataframe tbody tr th:only-of-type {\n",
       "        vertical-align: middle;\n",
       "    }\n",
       "\n",
       "    .dataframe tbody tr th {\n",
       "        vertical-align: top;\n",
       "    }\n",
       "\n",
       "    .dataframe thead th {\n",
       "        text-align: right;\n",
       "    }\n",
       "</style>\n",
       "<table border=\"1\" class=\"dataframe\">\n",
       "  <thead>\n",
       "    <tr style=\"text-align: right;\">\n",
       "      <th></th>\n",
       "      <th>sepal.length</th>\n",
       "      <th>sepal.width</th>\n",
       "      <th>petal.length</th>\n",
       "      <th>petal.width</th>\n",
       "      <th>variety</th>\n",
       "    </tr>\n",
       "  </thead>\n",
       "  <tbody>\n",
       "    <tr>\n",
       "      <th>0</th>\n",
       "      <td>5.1</td>\n",
       "      <td>3.5</td>\n",
       "      <td>1.4</td>\n",
       "      <td>0.2</td>\n",
       "      <td>setosa</td>\n",
       "    </tr>\n",
       "    <tr>\n",
       "      <th>4</th>\n",
       "      <td>5.0</td>\n",
       "      <td>3.6</td>\n",
       "      <td>1.4</td>\n",
       "      <td>0.2</td>\n",
       "      <td>setosa</td>\n",
       "    </tr>\n",
       "    <tr>\n",
       "      <th>5</th>\n",
       "      <td>5.4</td>\n",
       "      <td>3.9</td>\n",
       "      <td>1.7</td>\n",
       "      <td>0.4</td>\n",
       "      <td>setosa</td>\n",
       "    </tr>\n",
       "    <tr>\n",
       "      <th>7</th>\n",
       "      <td>5.0</td>\n",
       "      <td>3.4</td>\n",
       "      <td>1.5</td>\n",
       "      <td>0.2</td>\n",
       "      <td>setosa</td>\n",
       "    </tr>\n",
       "    <tr>\n",
       "      <th>10</th>\n",
       "      <td>5.4</td>\n",
       "      <td>3.7</td>\n",
       "      <td>1.5</td>\n",
       "      <td>0.2</td>\n",
       "      <td>setosa</td>\n",
       "    </tr>\n",
       "    <tr>\n",
       "      <th>...</th>\n",
       "      <td>...</td>\n",
       "      <td>...</td>\n",
       "      <td>...</td>\n",
       "      <td>...</td>\n",
       "      <td>...</td>\n",
       "    </tr>\n",
       "    <tr>\n",
       "      <th>145</th>\n",
       "      <td>6.7</td>\n",
       "      <td>3.0</td>\n",
       "      <td>5.2</td>\n",
       "      <td>2.3</td>\n",
       "      <td>virginica</td>\n",
       "    </tr>\n",
       "    <tr>\n",
       "      <th>146</th>\n",
       "      <td>6.3</td>\n",
       "      <td>2.5</td>\n",
       "      <td>5.0</td>\n",
       "      <td>1.9</td>\n",
       "      <td>virginica</td>\n",
       "    </tr>\n",
       "    <tr>\n",
       "      <th>147</th>\n",
       "      <td>6.5</td>\n",
       "      <td>3.0</td>\n",
       "      <td>5.2</td>\n",
       "      <td>2.0</td>\n",
       "      <td>virginica</td>\n",
       "    </tr>\n",
       "    <tr>\n",
       "      <th>148</th>\n",
       "      <td>6.2</td>\n",
       "      <td>3.4</td>\n",
       "      <td>5.4</td>\n",
       "      <td>2.3</td>\n",
       "      <td>virginica</td>\n",
       "    </tr>\n",
       "    <tr>\n",
       "      <th>149</th>\n",
       "      <td>5.9</td>\n",
       "      <td>3.0</td>\n",
       "      <td>5.1</td>\n",
       "      <td>1.8</td>\n",
       "      <td>virginica</td>\n",
       "    </tr>\n",
       "  </tbody>\n",
       "</table>\n",
       "<p>128 rows × 5 columns</p>\n",
       "</div>"
      ],
      "text/plain": [
       "     sepal.length  sepal.width  petal.length  petal.width    variety\n",
       "0             5.1          3.5           1.4          0.2     setosa\n",
       "4             5.0          3.6           1.4          0.2     setosa\n",
       "5             5.4          3.9           1.7          0.4     setosa\n",
       "7             5.0          3.4           1.5          0.2     setosa\n",
       "10            5.4          3.7           1.5          0.2     setosa\n",
       "..            ...          ...           ...          ...        ...\n",
       "145           6.7          3.0           5.2          2.3  virginica\n",
       "146           6.3          2.5           5.0          1.9  virginica\n",
       "147           6.5          3.0           5.2          2.0  virginica\n",
       "148           6.2          3.4           5.4          2.3  virginica\n",
       "149           5.9          3.0           5.1          1.8  virginica\n",
       "\n",
       "[128 rows x 5 columns]"
      ]
     },
     "execution_count": 104,
     "metadata": {},
     "output_type": "execute_result"
    }
   ],
   "source": [
    "#sepal.length 5이상인 데이터만 \n",
    "iris[iris['sepal.length']>=5]"
   ]
  },
  {
   "cell_type": "code",
   "execution_count": 111,
   "id": "7da16c7c-c076-4b42-a30e-5e206312589e",
   "metadata": {
    "tags": []
   },
   "outputs": [
    {
     "data": {
      "text/html": [
       "<div>\n",
       "<style scoped>\n",
       "    .dataframe tbody tr th:only-of-type {\n",
       "        vertical-align: middle;\n",
       "    }\n",
       "\n",
       "    .dataframe tbody tr th {\n",
       "        vertical-align: top;\n",
       "    }\n",
       "\n",
       "    .dataframe thead th {\n",
       "        text-align: right;\n",
       "    }\n",
       "</style>\n",
       "<table border=\"1\" class=\"dataframe\">\n",
       "  <thead>\n",
       "    <tr style=\"text-align: right;\">\n",
       "      <th></th>\n",
       "      <th>PassengerId</th>\n",
       "      <th>Survived</th>\n",
       "      <th>Pclass</th>\n",
       "      <th>Name</th>\n",
       "      <th>Sex</th>\n",
       "      <th>Age</th>\n",
       "      <th>SibSp</th>\n",
       "      <th>Parch</th>\n",
       "      <th>Ticket</th>\n",
       "      <th>Fare</th>\n",
       "      <th>Cabin</th>\n",
       "      <th>Embarked</th>\n",
       "    </tr>\n",
       "  </thead>\n",
       "  <tbody>\n",
       "    <tr>\n",
       "      <th>1</th>\n",
       "      <td>2</td>\n",
       "      <td>1</td>\n",
       "      <td>1</td>\n",
       "      <td>Cumings, Mrs. John Bradley (Florence Briggs Th...</td>\n",
       "      <td>female</td>\n",
       "      <td>38.0</td>\n",
       "      <td>1</td>\n",
       "      <td>0</td>\n",
       "      <td>PC 17599</td>\n",
       "      <td>71.2833</td>\n",
       "      <td>C85</td>\n",
       "      <td>C</td>\n",
       "    </tr>\n",
       "    <tr>\n",
       "      <th>10</th>\n",
       "      <td>11</td>\n",
       "      <td>1</td>\n",
       "      <td>3</td>\n",
       "      <td>Sandstrom, Miss. Marguerite Rut</td>\n",
       "      <td>female</td>\n",
       "      <td>4.0</td>\n",
       "      <td>1</td>\n",
       "      <td>1</td>\n",
       "      <td>PP 9549</td>\n",
       "      <td>16.7000</td>\n",
       "      <td>G6</td>\n",
       "      <td>S</td>\n",
       "    </tr>\n",
       "  </tbody>\n",
       "</table>\n",
       "</div>"
      ],
      "text/plain": [
       "    PassengerId  Survived  Pclass  \\\n",
       "1             2         1       1   \n",
       "10           11         1       3   \n",
       "\n",
       "                                                 Name     Sex   Age  SibSp  \\\n",
       "1   Cumings, Mrs. John Bradley (Florence Briggs Th...  female  38.0      1   \n",
       "10                    Sandstrom, Miss. Marguerite Rut  female   4.0      1   \n",
       "\n",
       "    Parch    Ticket     Fare Cabin Embarked  \n",
       "1       0  PC 17599  71.2833   C85        C  \n",
       "10      1   PP 9549  16.7000    G6        S  "
      ]
     },
     "execution_count": 111,
     "metadata": {},
     "output_type": "execute_result"
    }
   ],
   "source": [
    "ti[ti['Ticket'].str.contains('^P.+')].head(2)"
   ]
  },
  {
   "cell_type": "code",
   "execution_count": 117,
   "id": "a6147e16-712c-468f-98fb-9ea61f976032",
   "metadata": {
    "tags": []
   },
   "outputs": [
    {
     "data": {
      "text/html": [
       "<div>\n",
       "<style scoped>\n",
       "    .dataframe tbody tr th:only-of-type {\n",
       "        vertical-align: middle;\n",
       "    }\n",
       "\n",
       "    .dataframe tbody tr th {\n",
       "        vertical-align: top;\n",
       "    }\n",
       "\n",
       "    .dataframe thead th {\n",
       "        text-align: right;\n",
       "    }\n",
       "</style>\n",
       "<table border=\"1\" class=\"dataframe\">\n",
       "  <thead>\n",
       "    <tr style=\"text-align: right;\">\n",
       "      <th></th>\n",
       "      <th>EMPLOYEE_ID</th>\n",
       "      <th>FIRST_NAME</th>\n",
       "      <th>LAST_NAME</th>\n",
       "      <th>EMAIL</th>\n",
       "      <th>PHONE_NUMBER</th>\n",
       "      <th>HIRE_DATE</th>\n",
       "      <th>JOB_ID</th>\n",
       "      <th>SALARY</th>\n",
       "      <th>COMMISSION_PCT</th>\n",
       "      <th>MANAGER_ID</th>\n",
       "      <th>DEPARTMENT_ID</th>\n",
       "    </tr>\n",
       "  </thead>\n",
       "  <tbody>\n",
       "    <tr>\n",
       "      <th>0</th>\n",
       "      <td>198</td>\n",
       "      <td>Donald</td>\n",
       "      <td>OConnell</td>\n",
       "      <td>DOCONNEL</td>\n",
       "      <td>650.507.9833</td>\n",
       "      <td>21-JUN-07</td>\n",
       "      <td>SH_CLERK</td>\n",
       "      <td>2600</td>\n",
       "      <td>-</td>\n",
       "      <td>124</td>\n",
       "      <td>50</td>\n",
       "    </tr>\n",
       "    <tr>\n",
       "      <th>1</th>\n",
       "      <td>199</td>\n",
       "      <td>Douglas</td>\n",
       "      <td>Grant</td>\n",
       "      <td>DGRANT</td>\n",
       "      <td>650.507.9844</td>\n",
       "      <td>13-JAN-08</td>\n",
       "      <td>SH_CLERK</td>\n",
       "      <td>2600</td>\n",
       "      <td>-</td>\n",
       "      <td>124</td>\n",
       "      <td>50</td>\n",
       "    </tr>\n",
       "  </tbody>\n",
       "</table>\n",
       "</div>"
      ],
      "text/plain": [
       "   EMPLOYEE_ID FIRST_NAME LAST_NAME     EMAIL  PHONE_NUMBER  HIRE_DATE  \\\n",
       "0          198     Donald  OConnell  DOCONNEL  650.507.9833  21-JUN-07   \n",
       "1          199    Douglas     Grant    DGRANT  650.507.9844  13-JAN-08   \n",
       "\n",
       "     JOB_ID  SALARY COMMISSION_PCT MANAGER_ID  DEPARTMENT_ID  \n",
       "0  SH_CLERK    2600             -         124             50  \n",
       "1  SH_CLERK    2600             -         124             50  "
      ]
     },
     "execution_count": 117,
     "metadata": {},
     "output_type": "execute_result"
    }
   ],
   "source": [
    "#employee 자료 \n",
    "em=pd.read_csv(\"https://gist.githubusercontent.com/kevin336/acbb2271e66c10a5b73aacf82ca82784/raw/e38afe62e088394d61ed30884dd50a6826eee0a8/employees.csv\")\n",
    "em.head(2)"
   ]
  },
  {
   "cell_type": "code",
   "execution_count": 133,
   "id": "ec6ad6b4-3c0d-4555-8cff-d9c74403c996",
   "metadata": {
    "tags": []
   },
   "outputs": [
    {
     "data": {
      "text/html": [
       "<div>\n",
       "<style scoped>\n",
       "    .dataframe tbody tr th:only-of-type {\n",
       "        vertical-align: middle;\n",
       "    }\n",
       "\n",
       "    .dataframe tbody tr th {\n",
       "        vertical-align: top;\n",
       "    }\n",
       "\n",
       "    .dataframe thead th {\n",
       "        text-align: right;\n",
       "    }\n",
       "</style>\n",
       "<table border=\"1\" class=\"dataframe\">\n",
       "  <thead>\n",
       "    <tr style=\"text-align: right;\">\n",
       "      <th></th>\n",
       "      <th>EMPLOYEE_ID</th>\n",
       "      <th>FIRST_NAME</th>\n",
       "      <th>LAST_NAME</th>\n",
       "      <th>EMAIL</th>\n",
       "      <th>PHONE_NUMBER</th>\n",
       "      <th>HIRE_DATE</th>\n",
       "      <th>JOB_ID</th>\n",
       "      <th>SALARY</th>\n",
       "      <th>COMMISSION_PCT</th>\n",
       "      <th>MANAGER_ID</th>\n",
       "      <th>DEPARTMENT_ID</th>\n",
       "      <th>NAME</th>\n",
       "    </tr>\n",
       "  </thead>\n",
       "  <tbody>\n",
       "    <tr>\n",
       "      <th>0</th>\n",
       "      <td>198</td>\n",
       "      <td>Donald</td>\n",
       "      <td>OConnell</td>\n",
       "      <td>DOCONNEL</td>\n",
       "      <td>650.507.9833</td>\n",
       "      <td>21-JUN-07</td>\n",
       "      <td>SH_CLERK</td>\n",
       "      <td>2600</td>\n",
       "      <td>-</td>\n",
       "      <td>124</td>\n",
       "      <td>50</td>\n",
       "      <td>Donald OConnell</td>\n",
       "    </tr>\n",
       "    <tr>\n",
       "      <th>1</th>\n",
       "      <td>199</td>\n",
       "      <td>Douglas</td>\n",
       "      <td>Grant</td>\n",
       "      <td>DGRANT</td>\n",
       "      <td>650.507.9844</td>\n",
       "      <td>13-JAN-08</td>\n",
       "      <td>SH_CLERK</td>\n",
       "      <td>2600</td>\n",
       "      <td>-</td>\n",
       "      <td>124</td>\n",
       "      <td>50</td>\n",
       "      <td>Douglas Grant</td>\n",
       "    </tr>\n",
       "  </tbody>\n",
       "</table>\n",
       "</div>"
      ],
      "text/plain": [
       "   EMPLOYEE_ID FIRST_NAME LAST_NAME     EMAIL  PHONE_NUMBER  HIRE_DATE  \\\n",
       "0          198     Donald  OConnell  DOCONNEL  650.507.9833  21-JUN-07   \n",
       "1          199    Douglas     Grant    DGRANT  650.507.9844  13-JAN-08   \n",
       "\n",
       "     JOB_ID  SALARY COMMISSION_PCT MANAGER_ID  DEPARTMENT_ID             NAME  \n",
       "0  SH_CLERK    2600             -         124             50  Donald OConnell  \n",
       "1  SH_CLERK    2600             -         124             50    Douglas Grant  "
      ]
     },
     "execution_count": 133,
     "metadata": {},
     "output_type": "execute_result"
    }
   ],
   "source": [
    "#이름 합치기 \n",
    "em['NAME']=em['FIRST_NAME']+' '+em['LAST_NAME']\n",
    "em.head(2)\n",
    "\n",
    "새로운걸로 저장안할땐 그냥 뽑기 가능 \n",
    "em[['FIRST_NAME','LAST_NAME']] #name만 뽑기 , firstname, last name\n"
   ]
  },
  {
   "cell_type": "code",
   "execution_count": 150,
   "id": "3a976dd4-e382-490d-8189-272dc2da8f79",
   "metadata": {
    "tags": []
   },
   "outputs": [],
   "source": [
    "df= em[em['NAME'].str.contains('^A.+')]\n",
    "df=em[em['NAME'].str.startswith('A')] \n"
   ]
  },
  {
   "cell_type": "code",
   "execution_count": 140,
   "id": "3dd75bc5-03c3-487b-a82f-65ff6021366a",
   "metadata": {
    "tags": []
   },
   "outputs": [
    {
     "data": {
      "text/html": [
       "<div>\n",
       "<style scoped>\n",
       "    .dataframe tbody tr th:only-of-type {\n",
       "        vertical-align: middle;\n",
       "    }\n",
       "\n",
       "    .dataframe tbody tr th {\n",
       "        vertical-align: top;\n",
       "    }\n",
       "\n",
       "    .dataframe thead th {\n",
       "        text-align: right;\n",
       "    }\n",
       "</style>\n",
       "<table border=\"1\" class=\"dataframe\">\n",
       "  <thead>\n",
       "    <tr style=\"text-align: right;\">\n",
       "      <th></th>\n",
       "      <th>EMPLOYEE_ID</th>\n",
       "      <th>FIRST_NAME</th>\n",
       "      <th>LAST_NAME</th>\n",
       "      <th>EMAIL</th>\n",
       "      <th>PHONE_NUMBER</th>\n",
       "      <th>HIRE_DATE</th>\n",
       "      <th>JOB_ID</th>\n",
       "      <th>SALARY</th>\n",
       "      <th>COMMISSION_PCT</th>\n",
       "      <th>MANAGER_ID</th>\n",
       "      <th>DEPARTMENT_ID</th>\n",
       "      <th>NAME</th>\n",
       "    </tr>\n",
       "  </thead>\n",
       "  <tbody>\n",
       "    <tr>\n",
       "      <th>24</th>\n",
       "      <td>115</td>\n",
       "      <td>Alexander</td>\n",
       "      <td>Khoo</td>\n",
       "      <td>AKHOO</td>\n",
       "      <td>515.127.4562</td>\n",
       "      <td>18-MAY-03</td>\n",
       "      <td>PU_CLERK</td>\n",
       "      <td>3100</td>\n",
       "      <td>-</td>\n",
       "      <td>114</td>\n",
       "      <td>30</td>\n",
       "      <td>Alexander Khoo</td>\n",
       "    </tr>\n",
       "    <tr>\n",
       "      <th>30</th>\n",
       "      <td>121</td>\n",
       "      <td>Adam</td>\n",
       "      <td>Fripp</td>\n",
       "      <td>AFRIPP</td>\n",
       "      <td>650.123.2234</td>\n",
       "      <td>10-APR-05</td>\n",
       "      <td>ST_MAN</td>\n",
       "      <td>8200</td>\n",
       "      <td>-</td>\n",
       "      <td>100</td>\n",
       "      <td>50</td>\n",
       "      <td>Adam Fripp</td>\n",
       "    </tr>\n",
       "    <tr>\n",
       "      <th>12</th>\n",
       "      <td>103</td>\n",
       "      <td>Alexander</td>\n",
       "      <td>Hunold</td>\n",
       "      <td>AHUNOLD</td>\n",
       "      <td>590.423.4567</td>\n",
       "      <td>03-JAN-06</td>\n",
       "      <td>IT_PROG</td>\n",
       "      <td>9000</td>\n",
       "      <td>-</td>\n",
       "      <td>102</td>\n",
       "      <td>60</td>\n",
       "      <td>Alexander Hunold</td>\n",
       "    </tr>\n",
       "  </tbody>\n",
       "</table>\n",
       "</div>"
      ],
      "text/plain": [
       "    EMPLOYEE_ID FIRST_NAME LAST_NAME    EMAIL  PHONE_NUMBER  HIRE_DATE  \\\n",
       "24          115  Alexander      Khoo    AKHOO  515.127.4562  18-MAY-03   \n",
       "30          121       Adam     Fripp   AFRIPP  650.123.2234  10-APR-05   \n",
       "12          103  Alexander    Hunold  AHUNOLD  590.423.4567  03-JAN-06   \n",
       "\n",
       "      JOB_ID  SALARY COMMISSION_PCT MANAGER_ID  DEPARTMENT_ID  \\\n",
       "24  PU_CLERK    3100             -         114             30   \n",
       "30    ST_MAN    8200             -         100             50   \n",
       "12   IT_PROG    9000             -         102             60   \n",
       "\n",
       "                NAME  \n",
       "24    Alexander Khoo  \n",
       "30        Adam Fripp  \n",
       "12  Alexander Hunold  "
      ]
     },
     "execution_count": 140,
     "metadata": {},
     "output_type": "execute_result"
    }
   ],
   "source": [
    "df.sort_values('SALARY')"
   ]
  },
  {
   "cell_type": "code",
   "execution_count": 303,
   "id": "49f76081-9742-4d26-9c80-2772434713a9",
   "metadata": {
    "tags": []
   },
   "outputs": [],
   "source": [
    "#칼럼이름 Sex -> Gender \n",
    "ti.rename(columns={'Sex':'Gender'},inplace=True)"
   ]
  },
  {
   "cell_type": "code",
   "execution_count": 163,
   "id": "2bb35082-81d8-4c07-a667-b5e4450f6e6f",
   "metadata": {
    "tags": []
   },
   "outputs": [
    {
     "data": {
      "text/plain": [
       "109"
      ]
     },
     "execution_count": 163,
     "metadata": {},
     "output_type": "execute_result"
    }
   ],
   "source": [
    "#생존자 중 남성\n",
    "\n",
    "(ti[ti['Survived']==1]['Gender']== 'male').sum()"
   ]
  },
  {
   "cell_type": "code",
   "execution_count": 166,
   "id": "9079c9cb-fe39-4b65-8689-c8a0ea0546f2",
   "metadata": {
    "tags": []
   },
   "outputs": [
    {
     "data": {
      "text/html": [
       "<div>\n",
       "<style scoped>\n",
       "    .dataframe tbody tr th:only-of-type {\n",
       "        vertical-align: middle;\n",
       "    }\n",
       "\n",
       "    .dataframe tbody tr th {\n",
       "        vertical-align: top;\n",
       "    }\n",
       "\n",
       "    .dataframe thead th {\n",
       "        text-align: right;\n",
       "    }\n",
       "</style>\n",
       "<table border=\"1\" class=\"dataframe\">\n",
       "  <thead>\n",
       "    <tr style=\"text-align: right;\">\n",
       "      <th></th>\n",
       "      <th>PassengerId</th>\n",
       "      <th>Survived</th>\n",
       "      <th>Pclass</th>\n",
       "      <th>Name</th>\n",
       "      <th>Gender</th>\n",
       "      <th>Age</th>\n",
       "      <th>SibSp</th>\n",
       "      <th>Parch</th>\n",
       "      <th>Ticket</th>\n",
       "      <th>Fare</th>\n",
       "      <th>Cabin</th>\n",
       "      <th>Embarked</th>\n",
       "    </tr>\n",
       "  </thead>\n",
       "  <tbody>\n",
       "    <tr>\n",
       "      <th>14</th>\n",
       "      <td>15</td>\n",
       "      <td>0</td>\n",
       "      <td>3</td>\n",
       "      <td>Vestrom, Miss. Hulda Amanda Adolfina</td>\n",
       "      <td>female</td>\n",
       "      <td>14.0</td>\n",
       "      <td>0</td>\n",
       "      <td>0</td>\n",
       "      <td>350406</td>\n",
       "      <td>7.8542</td>\n",
       "      <td>NaN</td>\n",
       "      <td>S</td>\n",
       "    </tr>\n",
       "    <tr>\n",
       "      <th>17</th>\n",
       "      <td>18</td>\n",
       "      <td>1</td>\n",
       "      <td>2</td>\n",
       "      <td>Williams, Mr. Charles Eugene</td>\n",
       "      <td>male</td>\n",
       "      <td>NaN</td>\n",
       "      <td>0</td>\n",
       "      <td>0</td>\n",
       "      <td>244373</td>\n",
       "      <td>13.0000</td>\n",
       "      <td>NaN</td>\n",
       "      <td>S</td>\n",
       "    </tr>\n",
       "  </tbody>\n",
       "</table>\n",
       "</div>"
      ],
      "text/plain": [
       "    PassengerId  Survived  Pclass                                  Name  \\\n",
       "14           15         0       3  Vestrom, Miss. Hulda Amanda Adolfina   \n",
       "17           18         1       2          Williams, Mr. Charles Eugene   \n",
       "\n",
       "    Gender   Age  SibSp  Parch  Ticket     Fare Cabin Embarked  \n",
       "14  female  14.0      0      0  350406   7.8542   NaN        S  \n",
       "17    male   NaN      0      0  244373  13.0000   NaN        S  "
      ]
     },
     "execution_count": 166,
     "metadata": {},
     "output_type": "execute_result"
    }
   ],
   "source": [
    "#살아남은 사람들 중 남자 \n",
    "ti[(ti['Survived'])==1&(ti['Gender']=='male')].head(2)"
   ]
  },
  {
   "cell_type": "code",
   "execution_count": 168,
   "id": "580c2ee6-b7ad-45f1-8fe3-e5d3394d1724",
   "metadata": {
    "tags": []
   },
   "outputs": [
    {
     "data": {
      "text/html": [
       "<div>\n",
       "<style scoped>\n",
       "    .dataframe tbody tr th:only-of-type {\n",
       "        vertical-align: middle;\n",
       "    }\n",
       "\n",
       "    .dataframe tbody tr th {\n",
       "        vertical-align: top;\n",
       "    }\n",
       "\n",
       "    .dataframe thead th {\n",
       "        text-align: right;\n",
       "    }\n",
       "</style>\n",
       "<table border=\"1\" class=\"dataframe\">\n",
       "  <thead>\n",
       "    <tr style=\"text-align: right;\">\n",
       "      <th></th>\n",
       "      <th>PassengerId</th>\n",
       "      <th>Survived</th>\n",
       "      <th>Pclass</th>\n",
       "      <th>Name</th>\n",
       "      <th>Gender</th>\n",
       "      <th>Age</th>\n",
       "      <th>SibSp</th>\n",
       "      <th>Parch</th>\n",
       "      <th>Ticket</th>\n",
       "      <th>Fare</th>\n",
       "      <th>Cabin</th>\n",
       "      <th>Embarked</th>\n",
       "    </tr>\n",
       "  </thead>\n",
       "  <tbody>\n",
       "    <tr>\n",
       "      <th>17</th>\n",
       "      <td>18</td>\n",
       "      <td>1</td>\n",
       "      <td>2</td>\n",
       "      <td>Williams, Mr. Charles Eugene</td>\n",
       "      <td>male</td>\n",
       "      <td>NaN</td>\n",
       "      <td>0</td>\n",
       "      <td>0</td>\n",
       "      <td>244373</td>\n",
       "      <td>13.0</td>\n",
       "      <td>NaN</td>\n",
       "      <td>S</td>\n",
       "    </tr>\n",
       "    <tr>\n",
       "      <th>21</th>\n",
       "      <td>22</td>\n",
       "      <td>1</td>\n",
       "      <td>2</td>\n",
       "      <td>Beesley, Mr. Lawrence</td>\n",
       "      <td>male</td>\n",
       "      <td>34.0</td>\n",
       "      <td>0</td>\n",
       "      <td>0</td>\n",
       "      <td>248698</td>\n",
       "      <td>13.0</td>\n",
       "      <td>D56</td>\n",
       "      <td>S</td>\n",
       "    </tr>\n",
       "  </tbody>\n",
       "</table>\n",
       "</div>"
      ],
      "text/plain": [
       "    PassengerId  Survived  Pclass                          Name Gender   Age  \\\n",
       "17           18         1       2  Williams, Mr. Charles Eugene   male   NaN   \n",
       "21           22         1       2         Beesley, Mr. Lawrence   male  34.0   \n",
       "\n",
       "    SibSp  Parch  Ticket  Fare Cabin Embarked  \n",
       "17      0      0  244373  13.0   NaN        S  \n",
       "21      0      0  248698  13.0   D56        S  "
      ]
     },
     "execution_count": 168,
     "metadata": {},
     "output_type": "execute_result"
    }
   ],
   "source": [
    "a=ti['Survived']==1\n",
    "b=ti['Gender']=='male'\n",
    "ti[a&b].head(2)"
   ]
  },
  {
   "cell_type": "code",
   "execution_count": 182,
   "id": "c908a15b-c6f3-4c34-ac67-b2314d58b6b3",
   "metadata": {
    "tags": []
   },
   "outputs": [
    {
     "data": {
      "text/plain": [
       "array([-1.07298904,  0.41438157])"
      ]
     },
     "execution_count": 182,
     "metadata": {},
     "output_type": "execute_result"
    }
   ],
   "source": [
    "import numpy as np\n",
    "import random \n",
    "np.random.seed(1111)\n",
    "np.array([1,0,0,1,0,0,0], dtype='bool') # dtype=bool 로 TF로 바뀜\n",
    "arr= np.random.randn(7,4) #위에 숫자 7개라 무조건 7 \n",
    "arr[[0,3],[1,3]]"
   ]
  },
  {
   "cell_type": "code",
   "execution_count": 195,
   "id": "64863426-ccf1-4601-95da-c5ec9eddbe4b",
   "metadata": {
    "tags": []
   },
   "outputs": [
    {
     "data": {
      "text/plain": [
       "array([[-1.30001032, -1.07298904,  0.79019919, -0.8782655 ],\n",
       "       [ 1.09438578, -0.3756688 , -0.93873425,  0.41438157]])"
      ]
     },
     "execution_count": 195,
     "metadata": {},
     "output_type": "execute_result"
    }
   ],
   "source": [
    "arr[[0,3] ]\n",
    "a"
   ]
  },
  {
   "cell_type": "code",
   "execution_count": 198,
   "id": "0fef75b7-b2c0-4139-a33d-5e8d03da5ecf",
   "metadata": {
    "tags": []
   },
   "outputs": [
    {
     "data": {
      "text/plain": [
       "array([[0.        , 0.        , 0.79019919, 0.        ],\n",
       "       [1.50182182, 0.        , 0.27594888, 0.        ],\n",
       "       [0.        , 0.        , 0.        , 0.        ],\n",
       "       [1.09438578, 0.        , 0.        , 0.41438157],\n",
       "       [1.36151086, 1.37905918, 0.66694943, 0.17196362],\n",
       "       [0.55726654, 0.65463436, 0.24945962, 0.        ],\n",
       "       [0.61957115, 0.33862397, 0.        , 0.        ]])"
      ]
     },
     "execution_count": 198,
     "metadata": {},
     "output_type": "execute_result"
    }
   ],
   "source": [
    "#음수는 0으로 \n",
    "arr[arr<0]=0\n",
    "arr"
   ]
  },
  {
   "cell_type": "code",
   "execution_count": 212,
   "id": "872b6c74-d76a-4c36-8576-00f692534699",
   "metadata": {
    "tags": []
   },
   "outputs": [
    {
     "name": "stdout",
     "output_type": "stream",
     "text": [
      "[[ 0.  0.  0.  0.]\n",
      " [ 2.  2.  2.  2.]\n",
      " [ 4.  4.  4.  4.]\n",
      " [ 6.  6.  6.  6.]\n",
      " [ 8.  8.  8.  8.]\n",
      " [10. 10. 10. 10.]\n",
      " [12. 12. 12. 12.]\n",
      " [14. 14. 14. 14.]]\n",
      "[[0. 0. 0. 0.]\n",
      " [6. 6. 6. 6.]\n",
      " [2. 2. 2. 2.]]\n"
     ]
    },
    {
     "data": {
      "text/plain": [
       "array([0., 6., 2.])"
      ]
     },
     "execution_count": 212,
     "metadata": {},
     "output_type": "execute_result"
    }
   ],
   "source": [
    "#인덱싱 번호로 뽑기 \n",
    "arr=np.empty((8,4))\n",
    "for i in range(8):\n",
    "    arr[i]=i*2\n",
    "print(arr)\n",
    "print (arr[[0,3,1]]) #행 쭉 \n",
    "arr[[0,3,1],[0,3,1]] #콕콕이"
   ]
  },
  {
   "cell_type": "code",
   "execution_count": 216,
   "id": "972a833a-147e-4f86-a386-a7ebb10fd1a3",
   "metadata": {
    "tags": []
   },
   "outputs": [
    {
     "data": {
      "text/plain": [
       "array([0., 6., 2.])"
      ]
     },
     "execution_count": 216,
     "metadata": {},
     "output_type": "execute_result"
    }
   ],
   "source": [
    "arr[[0,3,1],[0,1,2]]"
   ]
  },
  {
   "cell_type": "code",
   "execution_count": 217,
   "id": "f7f77ffe-62bf-4e2e-a6d9-4138a2416853",
   "metadata": {
    "tags": []
   },
   "outputs": [
    {
     "data": {
      "text/plain": [
       "array([[0., 0., 0.],\n",
       "       [6., 6., 6.],\n",
       "       [2., 2., 2.]])"
      ]
     },
     "execution_count": 217,
     "metadata": {},
     "output_type": "execute_result"
    }
   ],
   "source": [
    "arr[[0,3,1]][:,[0,3,1]] #대괄호주의 분리시킨것 "
   ]
  },
  {
   "cell_type": "code",
   "execution_count": 228,
   "id": "288f5b50-b693-48c8-aab2-e13ee736d48e",
   "metadata": {
    "tags": []
   },
   "outputs": [
    {
     "name": "stdout",
     "output_type": "stream",
     "text": [
      "[[ 0  1  2  3  4  5  6  7]\n",
      " [ 8  9 10 11 12 13 14 15]\n",
      " [16 17 18 19 20 21 22 23]\n",
      " [24 25 26 27 28 29 30 31]\n",
      " [32 33 34 35 36 37 38 39]\n",
      " [40 41 42 43 44 45 46 47]\n",
      " [48 49 50 51 52 53 54 55]\n",
      " [56 57 58 59 60 61 62 63]\n",
      " [64 65 66 67 68 69 70 71]\n",
      " [72 73 74 75 76 77 78 79]]\n",
      "[[ 0  1  2  3  4  5  6  7]\n",
      " [40 41 42 43 44 45 46 47]\n",
      " [24 25 26 27 28 29 30 31]\n",
      " [56 57 58 59 60 61 62 63]]\n",
      "[ 1 42 29 60]\n",
      "[[ 1  2  5  4]\n",
      " [41 42 45 44]\n",
      " [25 26 29 28]\n",
      " [57 58 61 60]]\n"
     ]
    }
   ],
   "source": [
    "arr=np.arange(80).reshape(10,8)\n",
    "print(arr)\n",
    "# 1. 행 인덱스 0,5,3,7 추출\n",
    "print( arr[[0,5,3,7]] )\n",
    "#2. 숫자 1,4,29,60\n",
    "print ( arr[[0,5,3,7],[1,2,5,4]])\n",
    "#3. 행인덱스0,5,3,7이고 1,42,29,60있는 칼럼 추출  \n",
    "print ( arr[[0,5,3,7]][:,[1,2,5,4]] )"
   ]
  },
  {
   "cell_type": "code",
   "execution_count": null,
   "id": "f128bac5-d4d1-4935-9f8b-dd580dd9a1af",
   "metadata": {},
   "outputs": [],
   "source": [
    "dot product : 내적 곱셈  = inner product \n",
    "(1,10)ㆍ (2,30)= 1x2 +10x30 "
   ]
  },
  {
   "cell_type": "code",
   "execution_count": 330,
   "id": "2b466a94-b26e-4d2c-8ec5-07a08aca86c2",
   "metadata": {
    "tags": []
   },
   "outputs": [
    {
     "data": {
      "text/plain": [
       "array([0.        , 1.        , 1.41421356, 1.73205081, 2.        ,\n",
       "       2.23606798, 2.44948974, 2.64575131, 2.82842712, 3.        ])"
      ]
     },
     "execution_count": 330,
     "metadata": {},
     "output_type": "execute_result"
    }
   ],
   "source": [
    "arr=np.arange(10)\n",
    "np.sum(arr)\n",
    "np.exp(arr)\n",
    "np.sqrt(arr)"
   ]
  },
  {
   "cell_type": "code",
   "execution_count": 235,
   "id": "3021cd50-9109-4eb7-879f-73d7c9b2c424",
   "metadata": {
    "tags": []
   },
   "outputs": [
    {
     "data": {
      "text/plain": [
       "array([2, 5, 3, 6])"
      ]
     },
     "execution_count": 235,
     "metadata": {},
     "output_type": "execute_result"
    }
   ],
   "source": [
    "a=np.array([1,5,2,6])\n",
    "b=np.array([2,4,3,5])\n",
    "np.maximum(a,b)"
   ]
  },
  {
   "cell_type": "code",
   "execution_count": 238,
   "id": "8d50eb16-5cbe-42b6-b7e3-0857639cf2ef",
   "metadata": {
    "tags": []
   },
   "outputs": [
    {
     "data": {
      "text/plain": [
       "array([ 1.12914285,  0.25063995,  1.22374328,  0.47071807, -0.24588556,\n",
       "       -0.00628084, -0.56575892,  2.68798063])"
      ]
     },
     "execution_count": 238,
     "metadata": {},
     "output_type": "execute_result"
    }
   ],
   "source": [
    "a=np.random.randn(8)\n",
    "b= np.random.randn(8)\n",
    "np.maximum(a,b)"
   ]
  },
  {
   "cell_type": "code",
   "execution_count": 269,
   "id": "67281bd9-191f-48a0-afa6-31889bce40c5",
   "metadata": {
    "tags": []
   },
   "outputs": [
    {
     "data": {
      "text/plain": [
       "1000"
      ]
     },
     "execution_count": 269,
     "metadata": {},
     "output_type": "execute_result"
    }
   ],
   "source": [
    "points=np.arange(-5,5,0.01) #-5부터 4.99까지 0.01 씩 증가 \n",
    "points\n",
    "point=np.linspace(-5,5,1000) # 위에랑 같음 5가 포함 \n",
    "len(points)\n"
   ]
  },
  {
   "cell_type": "code",
   "execution_count": 270,
   "id": "5c59d516-2cc6-44b9-a5d9-2e67ae0279be",
   "metadata": {
    "tags": []
   },
   "outputs": [
    {
     "data": {
      "text/plain": [
       "array([[-5.  , -5.  , -5.  , ..., -5.  , -5.  , -5.  ],\n",
       "       [-4.99, -4.99, -4.99, ..., -4.99, -4.99, -4.99],\n",
       "       [-4.98, -4.98, -4.98, ..., -4.98, -4.98, -4.98],\n",
       "       ...,\n",
       "       [ 4.97,  4.97,  4.97, ...,  4.97,  4.97,  4.97],\n",
       "       [ 4.98,  4.98,  4.98, ...,  4.98,  4.98,  4.98],\n",
       "       [ 4.99,  4.99,  4.99, ...,  4.99,  4.99,  4.99]])"
      ]
     },
     "execution_count": 270,
     "metadata": {},
     "output_type": "execute_result"
    }
   ],
   "source": [
    "xs, ys= np.meshgrid(points,points)\n",
    "ys"
   ]
  },
  {
   "cell_type": "code",
   "execution_count": 291,
   "id": "e253d8d5-33ff-4e3b-9050-ba5db3906a62",
   "metadata": {
    "tags": []
   },
   "outputs": [
    {
     "data": {
      "text/plain": [
       "<matplotlib.image.AxesImage at 0x25888d509d0>"
      ]
     },
     "execution_count": 291,
     "metadata": {},
     "output_type": "execute_result"
    },
    {
     "data": {
      "image/png": "[encoded data removed]",
      "text/plain": [
       "<Figure size 640x480 with 1 Axes>"
      ]
     },
     "metadata": {},
     "output_type": "display_data"
    }
   ],
   "source": [
    "z= np.sqrt(xs**2+ys**2) #원의방정식 (x^2+y^2)= r^2, sqrt로 묶어서 원의 내부 \n",
    "plt.imshow(z, cmap=plt.cm.Purples) #cm.gray 흑백 \n",
    "# https://matplotlib.org/tutorials/colors/colormaps.html cmap 옵션 색깔 "
   ]
  },
  {
   "cell_type": "code",
   "execution_count": 268,
   "id": "9c5a1c43-f736-4fb5-bd4d-375ce670db1a",
   "metadata": {
    "tags": []
   },
   "outputs": [
    {
     "name": "stdout",
     "output_type": "stream",
     "text": [
      "[[1 2]\n",
      " [1 2]]\n"
     ]
    },
    {
     "data": {
      "text/plain": [
       "array([[3, 3],\n",
       "       [4, 4]])"
      ]
     },
     "execution_count": 268,
     "metadata": {},
     "output_type": "execute_result"
    }
   ],
   "source": [
    "x=np.array([1,2])\n",
    "y=np.array([3,4])\n",
    "xs,ys =np.meshgrid(x,y) #1차원 배열을 만들어서 가능한 모든 (x,y)  2차원 배열 반환 \n",
    "print(xs)\n",
    "ys"
   ]
  },
  {
   "cell_type": "code",
   "execution_count": 267,
   "id": "683cf0ad-862c-46b0-9a25-b411c16186de",
   "metadata": {
    "tags": []
   },
   "outputs": [
    {
     "data": {
      "text/plain": [
       "<matplotlib.collections.PathCollection at 0x25885d2c730>"
      ]
     },
     "execution_count": 267,
     "metadata": {},
     "output_type": "execute_result"
    },
    {
     "data": {
      "image/png": "[encoded data removed]",
      "text/plain": [
       "<Figure size 640x480 with 2 Axes>"
      ]
     },
     "metadata": {},
     "output_type": "display_data"
    }
   ],
   "source": [
    "import matplotlib.pyplot as plt \n",
    "plt.imshow(ys);plt.colorbar()\n",
    "plt.scatter(xs,ys) #점찍기 \n",
    "plt.scatter(x,y) #(1,3) (2,4) 두개 "
   ]
  },
  {
   "cell_type": "code",
   "execution_count": null,
   "id": "33b64e80-8e91-40aa-b77b-b6e2708f9a24",
   "metadata": {},
   "outputs": [],
   "source": [
    "여기붙처 "
   ]
  },
  {
   "cell_type": "code",
   "execution_count": 315,
   "id": "cfaaca11-6216-4ec2-b450-845bb048b506",
   "metadata": {
    "tags": []
   },
   "outputs": [],
   "source": [
    "#np.where(조건, 참, 거짓) = if else\n",
    "x=np.array([1,2,3,4,5])\n",
    "y=np.array([6,7,8,9,10])"
   ]
  },
  {
   "cell_type": "code",
   "execution_count": 289,
   "id": "492c69ea-381d-45fc-94a3-fad3b9998b2b",
   "metadata": {
    "tags": []
   },
   "outputs": [
    {
     "data": {
      "text/plain": [
       "array([ True, False,  True, False, False])"
      ]
     },
     "execution_count": 289,
     "metadata": {},
     "output_type": "execute_result"
    }
   ],
   "source": [
    "cond=np.array([1,0,1,0,0], dtype=bool)\n",
    "cond"
   ]
  },
  {
   "cell_type": "code",
   "execution_count": 290,
   "id": "dd79ee81-2eaa-4dd0-8cab-d0dfa7bb766a",
   "metadata": {
    "tags": []
   },
   "outputs": [
    {
     "data": {
      "text/plain": [
       "array([ 1, 20,  3, 40, 50])"
      ]
     },
     "execution_count": 290,
     "metadata": {},
     "output_type": "execute_result"
    }
   ],
   "source": [
    "np.where(cond,x,x*10)"
   ]
  },
  {
   "cell_type": "code",
   "execution_count": 306,
   "id": "2b75b9d3-c563-40ab-a833-7435d19eb6b3",
   "metadata": {
    "tags": []
   },
   "outputs": [
    {
     "data": {
      "text/plain": [
       "[1.1, 2.2, 1.3, 1.4, 2.5]"
      ]
     },
     "execution_count": 306,
     "metadata": {},
     "output_type": "execute_result"
    }
   ],
   "source": [
    "xarr=np.array([1.1,1.2,1.3,1.4,1.5])\n",
    "yarr=np.array([2.1,2.2,2.3,2.4,2.5])\n",
    "cond=np.array([True,False,True,True,False])\n",
    "result=[(x if c else y) for x,y,c in zip(xarr,yarr,cond)]\n",
    "result"
   ]
  },
  {
   "cell_type": "code",
   "execution_count": 310,
   "id": "fae3f9e3-de36-4b1a-a6a9-58a90d8acc8d",
   "metadata": {},
   "outputs": [
    {
     "data": {
      "text/plain": [
       "array([1.1, 2.2, 1.3, 1.4, 2.5])"
      ]
     },
     "execution_count": 310,
     "metadata": {},
     "output_type": "execute_result"
    }
   ],
   "source": [
    "result=np.where(cond,xarr,yarr)\n",
    "result"
   ]
  },
  {
   "cell_type": "code",
   "execution_count": 317,
   "id": "ae0f2827-2ce1-4e78-bf7f-1d558734a331",
   "metadata": {
    "tags": []
   },
   "outputs": [
    {
     "data": {
      "text/plain": [
       "(array([3, 4], dtype=int64),)"
      ]
     },
     "execution_count": 317,
     "metadata": {},
     "output_type": "execute_result"
    }
   ],
   "source": [
    "np.where(y>8) #조건만 있을경우 인덱스번호로 리턴 !!!! "
   ]
  },
  {
   "cell_type": "code",
   "execution_count": 332,
   "id": "ff0e2eb1-2ded-4e48-a02b-6d01719416a3",
   "metadata": {
    "tags": []
   },
   "outputs": [
    {
     "data": {
      "text/plain": [
       "array([0, 1, 2, 3, 4, 5, 6, 7, 8, 9])"
      ]
     },
     "execution_count": 332,
     "metadata": {},
     "output_type": "execute_result"
    }
   ],
   "source": [
    "np.where(arr<0,2,arr)"
   ]
  },
  {
   "cell_type": "code",
   "execution_count": 336,
   "id": "0721cd21-ae6f-48bc-b3ed-22b4d93585eb",
   "metadata": {
    "tags": []
   },
   "outputs": [
    {
     "data": {
      "text/plain": [
       "4.5"
      ]
     },
     "execution_count": 336,
     "metadata": {},
     "output_type": "execute_result"
    }
   ],
   "source": [
    "arr=np.arange(10)\n",
    "arr.mean() #메소드\n",
    "arr.mean(axis=0) #열로 "
   ]
  },
  {
   "cell_type": "code",
   "execution_count": 334,
   "id": "843c711f-58da-4a7a-8f3b-c8e116dd003c",
   "metadata": {
    "tags": []
   },
   "outputs": [
    {
     "data": {
      "text/plain": [
       "4.5"
      ]
     },
     "execution_count": 334,
     "metadata": {},
     "output_type": "execute_result"
    }
   ],
   "source": [
    "arr=np.arange(10)\n",
    "np.mean(arr) #내장함수 "
   ]
  },
  {
   "cell_type": "code",
   "execution_count": 340,
   "id": "c9530fea-773c-4166-880c-abf9d7278154",
   "metadata": {
    "tags": []
   },
   "outputs": [
    {
     "data": {
      "text/plain": [
       "60"
      ]
     },
     "execution_count": 340,
     "metadata": {},
     "output_type": "execute_result"
    }
   ],
   "source": [
    "arr=np.random.randn(100)\n",
    "(arr>0) # T, F \n",
    "(arr>0).sum()"
   ]
  },
  {
   "cell_type": "code",
   "execution_count": 525,
   "id": "42ddd73e-76c8-44c9-aecd-3aa621ddfa6e",
   "metadata": {
    "tags": []
   },
   "outputs": [
    {
     "data": {
      "text/plain": [
       "array([[14, 13, 19,  6, 17, 16],\n",
       "       [17, 24,  9, 19, 18, 20],\n",
       "       [ 7, 17, 13, 15, 14,  5],\n",
       "       [ 4, 15,  9, 20, 16,  8]])"
      ]
     },
     "execution_count": 525,
     "metadata": {},
     "output_type": "execute_result"
    }
   ],
   "source": [
    "import random\n",
    "arr= np.random.randint(1,25,(4,6))\n",
    "arr"
   ]
  },
  {
   "cell_type": "code",
   "execution_count": 531,
   "id": "d6979347-2ae9-4775-9a6d-69e2ef586b3d",
   "metadata": {
    "tags": []
   },
   "outputs": [
    {
     "data": {
      "text/plain": [
       "array([[ 6, 13, 14, 16, 17, 19],\n",
       "       [ 9, 17, 18, 19, 20, 24],\n",
       "       [ 5,  7, 13, 14, 15, 17],\n",
       "       [ 4,  8,  9, 15, 16, 20]])"
      ]
     },
     "execution_count": 531,
     "metadata": {},
     "output_type": "execute_result"
    }
   ],
   "source": [
    "arr.sort() #스칼라 한개, row별로 \n",
    "np.sort(arr,axis=-1)"
   ]
  },
  {
   "cell_type": "code",
   "execution_count": 527,
   "id": "02484e64-96e3-40b8-8cb5-d850522967c6",
   "metadata": {
    "tags": []
   },
   "outputs": [
    {
     "data": {
      "text/plain": [
       "{'Bob', 'Joe', 'Will'}"
      ]
     },
     "execution_count": 527,
     "metadata": {},
     "output_type": "execute_result"
    }
   ],
   "source": [
    "names = np.array(['Bob', 'Joe', 'Will', 'Bob', 'Will', 'Joe', 'Joe'])\n",
    "set(names)"
   ]
  },
  {
   "cell_type": "code",
   "execution_count": 528,
   "id": "ab9d0068-b126-4d07-bdc2-a65a05a8fff5",
   "metadata": {
    "tags": []
   },
   "outputs": [
    {
     "data": {
      "text/plain": [
       "array(['Bob', 'Joe', 'Will'], dtype='<U4')"
      ]
     },
     "execution_count": 528,
     "metadata": {},
     "output_type": "execute_result"
    }
   ],
   "source": [
    "np.unique(names)"
   ]
  },
  {
   "cell_type": "markdown",
   "id": "6d38e98a-c3a2-47df-b7f8-04cad08e36a9",
   "metadata": {},
   "source": [
    "## 배열데이터의 파일 입출력 "
   ]
  },
  {
   "cell_type": "code",
   "execution_count": 373,
   "id": "20bceb0f-db52-4498-8a41-b15882cca9cc",
   "metadata": {
    "tags": []
   },
   "outputs": [],
   "source": [
    "arr=np.arange(10)\n",
    "np.save('some_array',arr)"
   ]
  },
  {
   "cell_type": "code",
   "execution_count": 374,
   "id": "28b7768b-afff-48f2-8b38-d56470f3c1dd",
   "metadata": {
    "tags": []
   },
   "outputs": [
    {
     "name": "stdout",
     "output_type": "stream",
     "text": [
      " C 드라이브의 볼륨에는 이름이 없습니다.\n",
      " 볼륨 일련 번호: 144F-541F\n",
      "\n",
      " C:\\Users\\user\\test 디렉터리\n",
      "\n",
      "2023-03-31  오후 02:41    <DIR>          .\n",
      "2023-03-31  오후 02:41    <DIR>          ..\n",
      "2023-03-31  오전 08:32    <DIR>          .ipynb_checkpoints\n",
      "2023-03-20  오전 08:02            42,287 0314.ipynb\n",
      "2023-03-20  오전 08:02            37,268 0315.ipynb\n",
      "2023-03-20  오전 08:02            32,005 0316.ipynb\n",
      "2023-03-20  오전 08:34            58,180 0317.ipynb\n",
      "2023-03-20  오후 05:48            34,624 0320.ipynb\n",
      "2023-03-21  오후 05:49           812,138 0321.ipynb\n",
      "2023-03-22  오후 04:15            31,718 0322.ipynb\n",
      "2023-03-23  오후 04:17            35,759 0323.ipynb\n",
      "2023-03-24  오후 05:44            48,534 0324.ipynb\n",
      "2023-03-29  오전 09:07            70,777 0328.ipynb\n",
      "2023-03-30  오전 10:38            68,358 0329.ipynb\n",
      "2023-03-30  오후 05:50           171,684 0330.ipynb\n",
      "2023-03-31  오후 02:40           154,112 0331.ipynb\n",
      "2023-03-09  오후 12:09                40 1.py\n",
      "2023-03-20  오후 03:12                30 a.txt\n",
      "2023-03-20  오후 03:33                15 b.txt\n",
      "2023-03-17  오전 10:13                28 data.pickle\n",
      "2023-03-17  오전 10:20                28 data1.pickle\n",
      "2023-03-30  오전 11:46            14,344 filename.csv\n",
      "2023-03-20  오후 03:17               360 memo.py\n",
      "2023-03-20  오후 03:14                 0 memo.txt\n",
      "2023-03-30  오후 03:53            14,344 mpg.csv\n",
      "2023-03-17  오후 03:29                90 multiply.txt\n",
      "2023-03-20  오전 08:05    <DIR>          python\n",
      "2023-03-20  오전 08:02           145,800 python1.ipynb\n",
      "2023-03-31  오후 02:41               168 some_array.npy\n",
      "2023-03-20  오후 02:23               146 sys1.py\n",
      "2023-03-20  오후 05:45               413 tabto4.py\n",
      "2023-03-14  오후 03:33                46 test.text\n",
      "2023-03-16  오전 09:20                57 test.txt\n",
      "2023-03-16  오전 11:31               199 test1.py\n",
      "2023-03-16  오전 11:29               244 test2.py\n",
      "2023-03-14  오후 03:45                42 test2.text\n",
      "2023-03-20  오후 02:20               116 text,txt\n",
      "2023-03-22  오전 11:39           131,666 Untitled.ipynb\n",
      "2023-03-15  오후 02:45                 0 untitled.py\n",
      "2023-03-16  오후 12:02                 0 untitled.txt\n",
      "2023-03-22  오전 11:19                72 Untitled1.ipynb\n",
      "2023-03-23  오후 04:08             3,998 Untitled2.ipynb\n",
      "2023-03-16  오전 11:32    <DIR>          __pycache__\n",
      "              38개 파일           1,909,690 바이트\n",
      "               5개 디렉터리  155,095,883,776 바이트 남음\n"
     ]
    }
   ],
   "source": [
    "!dir #열어서 파일있는지 확인"
   ]
  },
  {
   "cell_type": "code",
   "execution_count": 376,
   "id": "eaf72d83-374d-45d3-a881-d269304a43c9",
   "metadata": {
    "tags": []
   },
   "outputs": [
    {
     "data": {
      "text/plain": [
       "array([0, 1, 2, 3, 4, 5, 6, 7, 8, 9])"
      ]
     },
     "execution_count": 376,
     "metadata": {},
     "output_type": "execute_result"
    }
   ],
   "source": [
    "np.load('some_array.npy')"
   ]
  },
  {
   "cell_type": "code",
   "execution_count": 381,
   "id": "d2f8b590-eba4-463b-8c63-573cc188d086",
   "metadata": {
    "tags": []
   },
   "outputs": [
    {
     "data": {
      "text/plain": [
       "array([0, 1, 2, 3, 4, 5, 6, 7, 8, 9])"
      ]
     },
     "execution_count": 381,
     "metadata": {},
     "output_type": "execute_result"
    }
   ],
   "source": [
    "#더 자주쓰는 npz\n",
    "np.savez('array_archive.npz', a=arr,b=arr)\n",
    "arch=np.load('array_archive.npz')\n",
    "arch['b']"
   ]
  },
  {
   "cell_type": "markdown",
   "id": "f3682594-427e-4911-ba52-30106bba7506",
   "metadata": {},
   "source": [
    "## 선형대수"
   ]
  },
  {
   "cell_type": "code",
   "execution_count": 398,
   "id": "8ca5ac79-f08a-480a-98e7-25fb03dad679",
   "metadata": {
    "tags": []
   },
   "outputs": [],
   "source": [
    "## np.random \n",
    "#array의 random 할경우 유리 "
   ]
  },
  {
   "cell_type": "code",
   "execution_count": 426,
   "id": "b275ae2f-a110-4463-a4e1-0d239caf9725",
   "metadata": {
    "tags": []
   },
   "outputs": [
    {
     "data": {
      "text/plain": [
       "array([[8.69986006, 8.92091659, 7.76223655],\n",
       "       [7.66187241, 7.52184691, 8.33098218],\n",
       "       [7.36359086, 7.75359988, 7.02851713]])"
      ]
     },
     "execution_count": 426,
     "metadata": {},
     "output_type": "execute_result"
    }
   ],
   "source": [
    "np.random.random(3) #0,1사이의 난수 \n",
    "np.random.random((3,3))\n",
    "np.random.rand(4,4)#균등분포 , 동일한 확률로 취할경우 , 소수\n",
    "\n",
    "np.random.uniform(7,9,size=(3,3)) #7,9사이에서 !!안쓰면 디폴트 0,1 "
   ]
  },
  {
   "cell_type": "code",
   "execution_count": 430,
   "id": "81b29b51-e6e8-4d03-b25b-a17e1b6f948a",
   "metadata": {
    "tags": []
   },
   "outputs": [
    {
     "data": {
      "text/plain": [
       "array([187.22320229, 179.2059675 , 168.68148762, 164.45156812,\n",
       "       180.88134092, 189.5354272 , 181.6899157 , 174.75972165,\n",
       "       187.69473462, 185.39182328, 184.56254644, 189.48918488,\n",
       "       177.38470343, 176.74031474, 167.0670842 , 175.51544936,\n",
       "       189.52842133, 176.15255033, 170.57933804, 169.13448864,\n",
       "       165.49868776, 183.90610391, 173.29046056, 178.55508821,\n",
       "       172.15541597, 185.94381819, 175.54719796, 175.30046708,\n",
       "       194.78265841, 170.71786144, 173.83429251, 175.13296773,\n",
       "       168.67159801, 165.93970156, 175.64288639, 185.46974074,\n",
       "       167.79467618, 186.00969839, 179.17608527, 184.86435574,\n",
       "       162.22113686, 190.3401106 , 183.95957295, 194.44202114,\n",
       "       169.52996319, 170.36886411, 162.67024434, 183.81544493,\n",
       "       156.97523063, 174.92618907, 162.80205928, 176.4557762 ,\n",
       "       172.50678806, 164.53520913, 188.14372882, 182.16789441,\n",
       "       178.85794507, 171.34684825, 178.70955332, 189.28502424,\n",
       "       172.07033276, 162.49404822, 178.33150338, 181.16471027,\n",
       "       165.84583114, 174.75183047, 167.04875153, 170.91615589,\n",
       "       156.50797883, 182.81722405, 176.33331182, 172.01507158,\n",
       "       161.32356032, 178.92244607, 167.61028449, 178.57817106,\n",
       "       187.91146927, 167.12549545, 185.23850134, 179.75843745,\n",
       "       176.59213034, 185.02646907, 176.37062811, 177.87958052,\n",
       "       168.4803156 , 170.77261868, 171.95795672, 187.34843897,\n",
       "       181.92625078, 154.0645858 , 181.88230066, 185.60943091,\n",
       "       186.52768157, 187.64766674, 176.40697151, 175.57915523,\n",
       "       179.05541795, 175.84719976, 193.3311135 , 196.03398981])"
      ]
     },
     "execution_count": 430,
     "metadata": {},
     "output_type": "execute_result"
    }
   ],
   "source": [
    "np.random.randn(3) #평균 0 표준편차 1 #표준정규분포\n",
    "np.random.randn(3,3)\n",
    "\n",
    "np.random.normal(175,10,100) #가우시안분포 = 정규분포 np.random.normal(mu,sigma,1000)\n",
    "np.random.normal(175,10,(10,10)) # (10,10) 행렬로 \n",
    "np.random.randn(100)*10+175  #난수 *시그마 + 평균 "
   ]
  },
  {
   "cell_type": "code",
   "execution_count": 397,
   "id": "f8da1e2f-ca0d-441c-96a8-10c1c7464c31",
   "metadata": {
    "tags": []
   },
   "outputs": [
    {
     "data": {
      "text/plain": [
       "array([[-1.93691415, -1.7722328 , -0.46965616, -0.59450637],\n",
       "       [-1.64080748,  0.62123972, -1.34801244,  2.50767513],\n",
       "       [ 0.04633488, -0.63011561,  0.62630279, -0.10350734],\n",
       "       [-0.28443474,  0.38481029,  0.32373133,  0.13465126]])"
      ]
     },
     "execution_count": 397,
     "metadata": {},
     "output_type": "execute_result"
    }
   ],
   "source": [
    "samples=np.random.normal(size=(4,4)) #평균 0 표준편차 1 default값에 사이즈만 (4,4)\n",
    "samples"
   ]
  },
  {
   "cell_type": "code",
   "execution_count": 402,
   "id": "322026cd-8f33-48b5-8900-b3c8756e5cdc",
   "metadata": {
    "tags": []
   },
   "outputs": [
    {
     "data": {
      "text/plain": [
       "array([5, 9, 2, 8])"
      ]
     },
     "execution_count": 402,
     "metadata": {},
     "output_type": "execute_result"
    }
   ],
   "source": [
    "#numpy에서는 시드 값 한번 주면 안풀림 \n",
    "np.random.seed(1234)\n",
    "np.random.randint(1,10,3)\n",
    "np.random.randint(1,10,4)\n",
    "np.random.randint(1,10,5) "
   ]
  },
  {
   "cell_type": "code",
   "execution_count": 423,
   "id": "cf13b387-1502-4310-8190-4f1a87d13bf3",
   "metadata": {
    "tags": []
   },
   "outputs": [
    {
     "data": {
      "text/plain": [
       "array([4, 7, 6])"
      ]
     },
     "execution_count": 423,
     "metadata": {},
     "output_type": "execute_result"
    }
   ],
   "source": [
    "#대체제 np.random.RandomState -> 객체 지정해야돼.  \n",
    "rng= np.random.RandomState(1234)\n",
    "rng.randint(1,10,3)\n"
   ]
  },
  {
   "cell_type": "code",
   "execution_count": null,
   "id": "cfa8f5f7-830a-4573-b3df-c60f7150e2eb",
   "metadata": {},
   "outputs": [],
   "source": [
    "#책에서 말하는 내장 모듈이 import 랜덤인지\n",
    "#네 ㅇ "
   ]
  },
  {
   "cell_type": "markdown",
   "id": "960f0981-3599-48a9-80a2-e37a1791bf21",
   "metadata": {
    "tags": []
   },
   "source": [
    "### 계단 올내리기 p.174"
   ]
  },
  {
   "cell_type": "code",
   "execution_count": 521,
   "id": "9bf40ef5-8a77-415c-90f9-97107eb95b45",
   "metadata": {
    "tags": []
   },
   "outputs": [
    {
     "data": {
      "text/plain": [
       "[<matplotlib.lines.Line2D at 0x2588b3cd150>]"
      ]
     },
     "execution_count": 521,
     "metadata": {},
     "output_type": "execute_result"
    },
    {
     "data": {
      "image/png": "[encoded data removed]",
      "text/plain": [
       "<Figure size 640x480 with 1 Axes>"
      ]
     },
     "metadata": {},
     "output_type": "display_data"
    }
   ],
   "source": [
    "import random\n",
    "position = 0 \n",
    "walk =[position]\n",
    "steps=1000 #1000부터 시작x, def함수할경우엔 시작값 앞에 써줘야하지만 이건 for문이라 그냥 1000회 하겟단 소리 \n",
    "for i in range(steps):\n",
    "    step=1 if random.randint (0,1) else -1 #조건만족, +1\n",
    "    position += step\n",
    "    walk.append (position) \n",
    "plt.plot(walk[:100])"
   ]
  },
  {
   "cell_type": "code",
   "execution_count": 455,
   "id": "482f89b6-46f3-4897-9cf2-37688048660f",
   "metadata": {
    "tags": []
   },
   "outputs": [
    {
     "data": {
      "text/plain": [
       "[<matplotlib.lines.Line2D at 0x2588b830280>]"
      ]
     },
     "execution_count": 455,
     "metadata": {},
     "output_type": "execute_result"
    },
    {
     "data": {
      "image/png": "[encoded data removed]",
      "text/plain": [
       "<Figure size 640x480 with 1 Axes>"
      ]
     },
     "metadata": {},
     "output_type": "display_data"
    }
   ],
   "source": [
    "import random\n",
    "position = 0 \n",
    "walk =[position]\n",
    " #1000부터 시작x, def함수할경우엔 시작값 앞에 써줘야하지만 이건 for문이라 그냥 1000회 하겟단 소리 \n",
    "for i in range(steps):\n",
    "    steps=1000\n",
    "    step=1 if random.randint (0,1) else -1 #조건만족, +1\n",
    "    position += step\n",
    "    walk.append (position) \n",
    "plt.plot(walk[:100])"
   ]
  },
  {
   "cell_type": "code",
   "execution_count": 453,
   "id": "6273f7d6-d237-4916-8cf0-6950d0b12b2f",
   "metadata": {
    "tags": []
   },
   "outputs": [
    {
     "data": {
      "text/plain": [
       "[61, 60, 59, 58, 59, 58, 57, 56, 55, 54]"
      ]
     },
     "execution_count": 453,
     "metadata": {},
     "output_type": "execute_result"
    }
   ],
   "source": [
    "walk[-10:]"
   ]
  },
  {
   "cell_type": "code",
   "execution_count": 462,
   "id": "55f8a120-6901-4f6b-b036-f22e075aeb0a",
   "metadata": {
    "tags": []
   },
   "outputs": [
    {
     "data": {
      "text/plain": [
       "[<matplotlib.lines.Line2D at 0x2588b69f640>]"
      ]
     },
     "execution_count": 462,
     "metadata": {},
     "output_type": "execute_result"
    },
    {
     "data": {
      "image/png": "[encoded data removed]",
      "text/plain": [
       "<Figure size 640x480 with 1 Axes>"
      ]
     },
     "metadata": {},
     "output_type": "display_data"
    }
   ],
   "source": [
    "nsteps=1000\n",
    "draws=np.random.randint(0,2,size=nsteps) #2미만 \n",
    "steps=np.where(draws>0,1,-1) #0보다 크면 1, 0이면 -1 \n",
    "walk=np.cumsum(steps) #누적 / steps.cumsum() 동일\n",
    "plt.plot(walk)"
   ]
  },
  {
   "cell_type": "code",
   "execution_count": 465,
   "id": "0ba74b99-d341-4d8a-bf80-39340e04e58d",
   "metadata": {
    "tags": []
   },
   "outputs": [
    {
     "name": "stdout",
     "output_type": "stream",
     "text": [
      "-29\n"
     ]
    },
    {
     "data": {
      "text/plain": [
       "21"
      ]
     },
     "execution_count": 465,
     "metadata": {},
     "output_type": "execute_result"
    }
   ],
   "source": [
    "print (walk.min())\n",
    "walk.max()"
   ]
  },
  {
   "cell_type": "code",
   "execution_count": 466,
   "id": "63bb8c95-1c88-4858-a8d4-98f751dbd36d",
   "metadata": {
    "tags": []
   },
   "outputs": [
    {
     "data": {
      "text/plain": [
       "128"
      ]
     },
     "execution_count": 466,
     "metadata": {},
     "output_type": "execute_result"
    }
   ],
   "source": [
    "walk.argmax() #128번째 맥스 "
   ]
  },
  {
   "cell_type": "code",
   "execution_count": 501,
   "id": "fd69dca9-26cc-4e1f-a5a1-2fe0237b9371",
   "metadata": {
    "tags": []
   },
   "outputs": [
    {
     "data": {
      "text/plain": [
       "[<matplotlib.lines.Line2D at 0x2588d484a30>]"
      ]
     },
     "execution_count": 501,
     "metadata": {},
     "output_type": "execute_result"
    },
    {
     "data": {
      "image/png": "[encoded data removed]",
      "text/plain": [
       "<Figure size 640x480 with 1 Axes>"
      ]
     },
     "metadata": {},
     "output_type": "display_data"
    }
   ],
   "source": [
    "#계단오르기 \n",
    "position=0\n",
    "walk=[position]\n",
    "step=1000\n",
    "for i in range (step):\n",
    "    step= 1 if random.randint(0,2) else -1\n",
    "    position +=step\n",
    "    walk.append(position)\n",
    "plt.plot(walk[:100]) #100번까지 그래프"
   ]
  },
  {
   "cell_type": "code",
   "execution_count": 503,
   "id": "02e7d819-07f0-4057-b6c8-a4d613669a1c",
   "metadata": {
    "tags": []
   },
   "outputs": [
    {
     "data": {
      "text/plain": [
       "[<matplotlib.lines.Line2D at 0x2588d7584f0>]"
      ]
     },
     "execution_count": 503,
     "metadata": {},
     "output_type": "execute_result"
    },
    {
     "data": {
      "image/png": "[encoded data removed]",
      "text/plain": [
       "<Figure size 640x480 with 1 Axes>"
      ]
     },
     "metadata": {},
     "output_type": "display_data"
    }
   ],
   "source": [
    "draws=np.random.randint(0,2,1000)\n",
    "steps=np.where(draws>0,1,-1)\n",
    "walk=steps.cumsum()\n",
    "plt.plot(walk)"
   ]
  },
  {
   "cell_type": "code",
   "execution_count": 505,
   "id": "5997a86d-e61a-4500-8fd1-e4193f8aa8e0",
   "metadata": {
    "tags": []
   },
   "outputs": [
    {
     "data": {
      "text/plain": [
       "141"
      ]
     },
     "execution_count": 505,
     "metadata": {},
     "output_type": "execute_result"
    }
   ],
   "source": [
    "#1000번씩 5000회 \n",
    "nwalks=5000\n",
    "nsteps=1000\n",
    "draws=np.random.randint(0,2,(nwalks,nsteps))\n",
    "steps=np.where(draws>0,1,-1)\n",
    "walks=steps.cumsum(1) #(axis=1 ,행, x축) \n",
    "walks.max()"
   ]
  },
  {
   "cell_type": "code",
   "execution_count": 512,
   "id": "60ab4127-25c8-4cd5-90a8-7cc6a823ad48",
   "metadata": {
    "tags": []
   },
   "outputs": [
    {
     "data": {
      "text/plain": [
       "array([227, 317,   0, ..., 719,   0, 523], dtype=int64)"
      ]
     },
     "execution_count": 512,
     "metadata": {},
     "output_type": "execute_result"
    }
   ],
   "source": [
    "#5000번에 매번 30도달 x,0이 그거임 \n",
    "(np.abs(walks)>=30).argmax(1)"
   ]
  },
  {
   "cell_type": "code",
   "execution_count": null,
   "id": "3327b88f-2fd8-4137-a6c8-dfc3a3247954",
   "metadata": {},
   "outputs": [
    {
     "data": {
      "text/plain": [
       "49"
      ]
     },
     "execution_count": 488,
     "metadata": {},
     "output_type": "execute_result"
    }
   ],
   "source": [
    "#최초로 10칸 떨어지기(밑으로 내려간단 소리 ㄴㄴ10칸 멀리 )까지의 시간 argmax사용\n",
    "(np.abs(walk)>=10).argmax() #인덱스 추출 "
   ]
  },
  {
   "cell_type": "code",
   "execution_count": 516,
   "id": "79f19498-083f-43ea-a290-004ee3ac7f8c",
   "metadata": {
    "tags": []
   },
   "outputs": [
    {
     "data": {
      "text/plain": [
       "3455"
      ]
     },
     "execution_count": 516,
     "metadata": {},
     "output_type": "execute_result"
    }
   ],
   "source": [
    "hits30=(np.abs(walks)>=30).any(1)\n",
    "hits30.sum()\n",
    "#경우의 수가 5000번중 3455개 "
   ]
  },
  {
   "cell_type": "code",
   "execution_count": 522,
   "id": "eeebbaca-acc9-4fcd-a11d-e7abf739b3bb",
   "metadata": {
    "tags": []
   },
   "outputs": [
    {
     "data": {
      "text/plain": [
       "array([227, 317, 341, ..., 635, 719, 523], dtype=int64)"
      ]
     },
     "execution_count": 522,
     "metadata": {},
     "output_type": "execute_result"
    }
   ],
   "source": [
    "cross=(np.abs(walks[hits30])>=30).argmax(1)\n",
    "cross\n",
    "#3455중 30에 도달하는 인덱스 \n",
    "#cross.mean() #평균 인덱스 "
   ]
  },
  {
   "cell_type": "code",
   "execution_count": null,
   "id": "d6ae0601-aab8-4f55-b7a5-45b3774564ff",
   "metadata": {},
   "outputs": [],
   "source": []
  }
 ],
 "metadata": {
  "kernelspec": {
   "display_name": "Python 3 (ipykernel)",
   "language": "python",
   "name": "python3"
  },
  "language_info": {
   "codemirror_mode": {
    "name": "ipython",
    "version": 3
   },
   "file_extension": ".py",
   "mimetype": "text/x-python",
   "name": "python",
   "nbconvert_exporter": "python",
   "pygments_lexer": "ipython3",
   "version": "3.10.9"
  }
 },
 "nbformat": 4,
 "nbformat_minor": 5
}
