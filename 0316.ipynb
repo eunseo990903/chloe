{
 "cells": [
  {
   "cell_type": "markdown",
   "id": "ed5348c4-7ff0-4e7d-8e24-c6469917ba14",
   "metadata": {},
   "source": [
    "## 복습"
   ]
  },
  {
   "cell_type": "code",
   "execution_count": 1,
   "id": "e447bd01-b18b-43b3-b3ad-54494f7e126f",
   "metadata": {
    "tags": []
   },
   "outputs": [
    {
     "data": {
      "text/plain": [
       "'b'"
      ]
     },
     "execution_count": 1,
     "metadata": {},
     "output_type": "execute_result"
    }
   ],
   "source": [
    "chr(98)"
   ]
  },
  {
   "cell_type": "code",
   "execution_count": 2,
   "id": "4cad6e34-0773-4a71-9ff5-cb0b740d2897",
   "metadata": {
    "tags": []
   },
   "outputs": [
    {
     "data": {
      "text/plain": [
       "99"
      ]
     },
     "execution_count": 2,
     "metadata": {},
     "output_type": "execute_result"
    }
   ],
   "source": [
    "ord(\"c\")"
   ]
  },
  {
   "cell_type": "code",
   "execution_count": 3,
   "id": "0e071117-6bf6-4795-a07c-a635179f1cd7",
   "metadata": {
    "tags": []
   },
   "outputs": [
    {
     "data": {
      "text/plain": [
       "67"
      ]
     },
     "execution_count": 3,
     "metadata": {},
     "output_type": "execute_result"
    }
   ],
   "source": [
    "ord(\"C\")"
   ]
  },
  {
   "cell_type": "code",
   "execution_count": null,
   "id": "ebab23ea-5bb1-4b75-a335-79960aab2dba",
   "metadata": {},
   "outputs": [],
   "source": [
    "파이썬 모듈을 만들 때 확장자 이름은?"
   ]
  },
  {
   "cell_type": "code",
   "execution_count": 11,
   "id": "52420a16-e5cf-4db2-b5ca-576ce3287bce",
   "metadata": {
    "tags": []
   },
   "outputs": [
    {
     "name": "stdin",
     "output_type": "stream",
     "text": [
      "   klklkgdl\n"
     ]
    }
   ],
   "source": [
    "with open (\"test.txt\", \"a\") as f:\n",
    "    a = input(\"  \")\n",
    "    f.write(f\"{a}\\n\")"
   ]
  },
  {
   "cell_type": "code",
   "execution_count": 31,
   "id": "79eaa0f0-b932-49fc-a680-588a3b9cb79b",
   "metadata": {
    "tags": []
   },
   "outputs": [],
   "source": [
    "#함수로 append \n",
    "def my_file( ):\n",
    "    with open (\"test.txt\", \"a\") as f:\n",
    "        b= input(\"  \")\n",
    "        f.write(b)"
   ]
  },
  {
   "cell_type": "code",
   "execution_count": 33,
   "id": "9c45ea96-ace9-4b9f-9ddf-68cf2518f39d",
   "metadata": {
    "tags": []
   },
   "outputs": [
    {
     "name": "stdin",
     "output_type": "stream",
     "text": [
      "   djfdj\n"
     ]
    }
   ],
   "source": [
    "my_file()"
   ]
  },
  {
   "cell_type": "code",
   "execution_count": 34,
   "id": "f723ee47-6b4c-4d93-a7af-404dcc3419b2",
   "metadata": {
    "tags": []
   },
   "outputs": [],
   "source": [
    "#함수로 append \n",
    "def my_file(b):\n",
    "    with open (\"test.txt\", \"a\") as f:\n",
    "        f.write(b)"
   ]
  },
  {
   "cell_type": "code",
   "execution_count": 35,
   "id": "43b654ce-9fe3-4a00-b2cc-f205ca448153",
   "metadata": {
    "tags": []
   },
   "outputs": [],
   "source": [
    "my_file(\"아아아아아언\")"
   ]
  },
  {
   "cell_type": "code",
   "execution_count": 36,
   "id": "8da0be38-0c2f-4e5d-8351-3b7e1ebe2052",
   "metadata": {
    "tags": []
   },
   "outputs": [
    {
     "data": {
      "text/plain": [
       "3"
      ]
     },
     "execution_count": 36,
     "metadata": {},
     "output_type": "execute_result"
    }
   ],
   "source": [
    "#-3절댓값\n",
    "abs(-3)"
   ]
  },
  {
   "cell_type": "code",
   "execution_count": 37,
   "id": "5e66f568-24bb-49c4-a640-41baa8e466fe",
   "metadata": {
    "tags": []
   },
   "outputs": [
    {
     "data": {
      "text/plain": [
       "True"
      ]
     },
     "execution_count": 37,
     "metadata": {},
     "output_type": "execute_result"
    }
   ],
   "source": [
    "any([0,1,2,3])"
   ]
  },
  {
   "cell_type": "code",
   "execution_count": 40,
   "id": "75332cb2-40bc-45ca-8d97-30ab181d82ce",
   "metadata": {
    "tags": []
   },
   "outputs": [
    {
     "name": "stdout",
     "output_type": "stream",
     "text": [
      "3*1 = 3 3*2 = 6 3*3 = 9 3*4 = 12 3*5 = 15 3*6 = 18 3*7 = 21 3*8 = 24 3*9 = 27 "
     ]
    }
   ],
   "source": [
    "def 한단(num):\n",
    "    for i in range (1,10):\n",
    "            print(f\"{num}*{i} = {num*i}\" ,end= \" \")\n",
    "한단(3)"
   ]
  },
  {
   "cell_type": "code",
   "execution_count": null,
   "id": "51ab1278-bc2f-4664-94ea-7af43c536ebb",
   "metadata": {},
   "outputs": [],
   "source": [
    "#클래스 이름은 구구단  ,, 7단 출력 "
   ]
  },
  {
   "cell_type": "code",
   "execution_count": 50,
   "id": "2d7791a4-c7f7-4d6c-ace8-6ab59f7a1f37",
   "metadata": {
    "tags": []
   },
   "outputs": [],
   "source": [
    "class 구구단 :\n",
    "    def 한단(self, num):  #클래스 안에 함수 , self필수 \n",
    "        for i in range (1,10):\n",
    "            print(f\"{num}*{i} = {num*i}\" ,end= \" \")\n",
    "            \n",
    "multiply= 구구단()"
   ]
  },
  {
   "cell_type": "code",
   "execution_count": 51,
   "id": "0e1f26a7-a737-46a7-aa8e-2b61f7841be0",
   "metadata": {
    "tags": []
   },
   "outputs": [
    {
     "name": "stdout",
     "output_type": "stream",
     "text": [
      "7*1 = 7 7*2 = 14 7*3 = 21 7*4 = 28 7*5 = 35 7*6 = 42 7*7 = 49 7*8 = 56 7*9 = 63 "
     ]
    }
   ],
   "source": [
    "multiply.한단(7)"
   ]
  },
  {
   "cell_type": "code",
   "execution_count": null,
   "id": "2bc3c219-1392-4c6a-a272-00fded5b55ad",
   "metadata": {},
   "outputs": [],
   "source": [
    "int를 str으로 변환하는 \"int_to_str\"함수를 만드시오. "
   ]
  },
  {
   "cell_type": "code",
   "execution_count": 56,
   "id": "c559172f-1885-422b-9090-6d360dfa7d96",
   "metadata": {
    "tags": []
   },
   "outputs": [
    {
     "data": {
      "text/plain": [
       "'3'"
      ]
     },
     "execution_count": 56,
     "metadata": {},
     "output_type": "execute_result"
    }
   ],
   "source": [
    "#함수로 \n",
    "def int_to_str (num):\n",
    "    return str(num)\n",
    "\n",
    "int_to_str(3)"
   ]
  },
  {
   "cell_type": "code",
   "execution_count": 65,
   "id": "1ded6a90-4daa-480f-8b90-d6e8c3dce9e6",
   "metadata": {
    "tags": []
   },
   "outputs": [
    {
     "data": {
      "text/plain": [
       "'3'"
      ]
     },
     "execution_count": 65,
     "metadata": {},
     "output_type": "execute_result"
    }
   ],
   "source": [
    "#클래스로 \n",
    "class TypeChange:\n",
    "    def int_to_str (self,num):\n",
    "        return str(num)\n",
    "\n",
    "a= TypeChange() \n",
    "a.int_to_str(3)"
   ]
  },
  {
   "cell_type": "code",
   "execution_count": 69,
   "id": "cad66c7f-7600-431c-b2f6-f59dad01f545",
   "metadata": {
    "tags": []
   },
   "outputs": [
    {
     "data": {
      "text/plain": [
       "5"
      ]
     },
     "execution_count": 69,
     "metadata": {},
     "output_type": "execute_result"
    }
   ],
   "source": [
    "#입력값 없이 \n",
    "class FourCal: \n",
    "    def setdata(self,a,b):\n",
    "        self.first = a\n",
    "        self.second = b\n",
    "        \n",
    "    def add(self): \n",
    "        self.result = self.first + self.second\n",
    "        return self.result\n",
    "\n",
    "a = FourCal()\n",
    "a.setdata(2,3)\n",
    "a.add()"
   ]
  },
  {
   "cell_type": "code",
   "execution_count": 136,
   "id": "86e13fbd-09f9-4961-97fc-0e188bb719fa",
   "metadata": {
    "tags": []
   },
   "outputs": [],
   "source": [
    "#입력값 넣어서 \n",
    "class FourCal: \n",
    "    def __init__ (self,a,b):\n",
    "        self.a = 2\n",
    "        self.b = 3\n",
    "        \n",
    "    def add(self): \n",
    "        self.result = self.a + self.b\n",
    "        return self.result"
   ]
  },
  {
   "cell_type": "code",
   "execution_count": 137,
   "id": "8e440e27-b99d-4b4e-b5b9-611db33a7341",
   "metadata": {
    "tags": []
   },
   "outputs": [
    {
     "data": {
      "text/plain": [
       "5"
      ]
     },
     "execution_count": 137,
     "metadata": {},
     "output_type": "execute_result"
    }
   ],
   "source": [
    "c=FourCal(2,3)\n",
    "c.add()"
   ]
  },
  {
   "cell_type": "code",
   "execution_count": 99,
   "id": "31e58b09-d77c-4e42-b1c7-c2557def6adb",
   "metadata": {
    "tags": []
   },
   "outputs": [
    {
     "data": {
      "text/plain": [
       "11"
      ]
     },
     "execution_count": 99,
     "metadata": {},
     "output_type": "execute_result"
    }
   ],
   "source": [
    "#Child 상속 \n",
    "class Child(FourCal):\n",
    "    def __init__ (self,a,b):\n",
    "        self.a = a\n",
    "        self.b = b\n",
    "    def power(self):\n",
    "        return self.a ** self.b\n",
    "d=Child(6,5)\n",
    "d.add()"
   ]
  },
  {
   "cell_type": "code",
   "execution_count": null,
   "id": "6e847865-4217-4f77-a5cd-cf3415f281ed",
   "metadata": {},
   "outputs": [],
   "source": [
    "# 객체와 인스턴스의 차이는 ?\n",
    "클래스로 만든 객체를 인스턴스, 인스터스는 특정 객체가 어떤 클래스의 객체인지 관계 위주 "
   ]
  },
  {
   "cell_type": "markdown",
   "id": "d56f8b19-2f5f-4f27-b8eb-b4b48e5674c0",
   "metadata": {},
   "source": [
    "## 상속과 변수"
   ]
  },
  {
   "cell_type": "code",
   "execution_count": 155,
   "id": "4a5e5cf0-fcd4-40af-afa9-e80cf6ababae",
   "metadata": {
    "tags": []
   },
   "outputs": [
    {
     "name": "stdout",
     "output_type": "stream",
     "text": [
      "Park :\n"
     ]
    },
    {
     "data": {
      "text/plain": [
       "25"
      ]
     },
     "execution_count": 155,
     "metadata": {},
     "output_type": "execute_result"
    }
   ],
   "source": [
    "class Person: \n",
    "    def __init__(self):\n",
    "        self.name = \"Park\"\n",
    "        self. age= 25\n",
    "        \n",
    "p1= Person()\n",
    "print(p1.name,\":\")  #마지막값만 출력되니까 print 이용 \n",
    "p1.age\n",
    "        "
   ]
  },
  {
   "cell_type": "markdown",
   "id": "166fe7a9-8b05-4d2a-b48a-c19ea3428226",
   "metadata": {
    "tags": []
   },
   "source": [
    "- 자식클래스에 변수 추가"
   ]
  },
  {
   "cell_type": "code",
   "execution_count": 156,
   "id": "0fb6e81e-e0f7-498c-b952-1631cf7e0212",
   "metadata": {
    "tags": []
   },
   "outputs": [
    {
     "name": "stdout",
     "output_type": "stream",
     "text": [
      "한국어\n",
      "25\n"
     ]
    },
    {
     "data": {
      "text/plain": [
       "'Park'"
      ]
     },
     "execution_count": 156,
     "metadata": {},
     "output_type": "execute_result"
    }
   ],
   "source": [
    "#입력값 있게 \n",
    "class Korean(Person):\n",
    "    def __init__ (self):\n",
    "        super().__init__() #해결책) 부모의 init 실행 \n",
    "        self.lang = \"한국어\"\n",
    "k1 = Korean()\n",
    "print(k1.lang)\n",
    "print(k1.age)\n",
    "k1.name\n",
    "#init 부모에 자식 둘다 있기 때문에 자식의 init이 부모의 껄 뭉개서 부모에 있던 k1.age,k1.name 실행되지 않음"
   ]
  },
  {
   "cell_type": "code",
   "execution_count": 157,
   "id": "7211da72-2230-490e-a6b9-4b1894d4e456",
   "metadata": {
    "tags": []
   },
   "outputs": [],
   "source": [
    "#입력값 없이 \n",
    "class Person:\n",
    "    def __init__ (self,name,age):\n",
    "        self.name= name\n",
    "        self.age = age"
   ]
  },
  {
   "cell_type": "code",
   "execution_count": 162,
   "id": "ac3b890a-2bf4-400b-95ef-e169a9edc4e1",
   "metadata": {
    "tags": []
   },
   "outputs": [],
   "source": [
    "class Korean(Person):\n",
    "    def __init__(self,name, age): #자식클래스에도 부모의 name, age만들어짐 \n",
    "        super().__init__(name, age)  #self x, self -> 만들어진 object , 이미 부모에 언급되어서 작성 x\n",
    "        self.lang= \"한국어\"\n"
   ]
  },
  {
   "cell_type": "code",
   "execution_count": 163,
   "id": "9061898e-d125-4fc7-b690-1945fdd257e1",
   "metadata": {
    "tags": []
   },
   "outputs": [
    {
     "name": "stdout",
     "output_type": "stream",
     "text": [
      "한국어\n",
      "길동\n"
     ]
    },
    {
     "data": {
      "text/plain": [
       "23"
      ]
     },
     "execution_count": 163,
     "metadata": {},
     "output_type": "execute_result"
    }
   ],
   "source": [
    "k1 = Korean(\"길동\", 23)\n",
    "print(k1.lang)\n",
    "print(k1.name)\n",
    "k1.age\n",
    "        "
   ]
  },
  {
   "cell_type": "code",
   "execution_count": 160,
   "id": "35d841d8-912d-4fbc-9fe8-9ab02d47124b",
   "metadata": {
    "tags": []
   },
   "outputs": [],
   "source": [
    "class Korean(Person):\n",
    "    def __init__(self,name, age,lang): #자식클래스에도 부모의 name, age만들어짐 \n",
    "        super().__init__(name, age)  #self x, self -> 만들어진 object , 이미 부모에 언급되어서 작성 x\n",
    "        self.lang= lang"
   ]
  },
  {
   "cell_type": "code",
   "execution_count": 161,
   "id": "4d5c4f18-99e5-4222-a7f7-67f3dc72d35f",
   "metadata": {
    "tags": []
   },
   "outputs": [
    {
     "name": "stdout",
     "output_type": "stream",
     "text": [
      "한국어\n",
      "길동\n"
     ]
    },
    {
     "data": {
      "text/plain": [
       "23"
      ]
     },
     "execution_count": 161,
     "metadata": {},
     "output_type": "execute_result"
    }
   ],
   "source": [
    "k1 = Korean(\"길동\", 23,\"한국어\")\n",
    "print(k1.lang)\n",
    "print(k1.name)\n",
    "k1.age"
   ]
  },
  {
   "cell_type": "code",
   "execution_count": 150,
   "id": "e308e280-3bfc-4530-8f46-14622960c848",
   "metadata": {
    "tags": []
   },
   "outputs": [],
   "source": [
    "class Person:\n",
    "    def __init__ (self,lang):\n",
    "        self.lang= lang\n",
    "    def greet (self):\n",
    "        print(\"Hello\")\n",
    "class American(Person):\n",
    "    def __init__(self, lang,name,age):\n",
    "        super().__init__(lang)\n",
    "        self.name = name\n",
    "        self.age = age\n",
    "    def show(self):\n",
    "        print(f\"이름은 {self.name}, 나이는  {self.age}, 언어는  {self.lang}\")\n",
    "#"
   ]
  },
  {
   "cell_type": "code",
   "execution_count": 153,
   "id": "5b0594b0-8d01-447d-bc47-a40c575917bf",
   "metadata": {
    "tags": []
   },
   "outputs": [
    {
     "name": "stdout",
     "output_type": "stream",
     "text": [
      "American Smith 22\n",
      "이름은 Smith, 나이는  22, 언어는  American\n"
     ]
    }
   ],
   "source": [
    "a1= American(\"American\",\"Smith\",22)\n",
    "print(a1.lang,a1.name,a1.age)\n",
    "a1.show()"
   ]
  },
  {
   "cell_type": "code",
   "execution_count": 164,
   "id": "100a9b00-22b0-4cf2-876d-e9670f78dd34",
   "metadata": {
    "tags": []
   },
   "outputs": [
    {
     "name": "stdout",
     "output_type": "stream",
     "text": [
      "Hello\n"
     ]
    }
   ],
   "source": [
    "a1.greet() "
   ]
  },
  {
   "cell_type": "markdown",
   "id": "7430694e-dc14-4fe4-818c-5ab29ebb7e13",
   "metadata": {},
   "source": [
    "## 내장함수"
   ]
  },
  {
   "cell_type": "code",
   "execution_count": 167,
   "id": "731c689b-9885-4027-90a6-3a2a00eee6e0",
   "metadata": {
    "tags": []
   },
   "outputs": [
    {
     "data": {
      "text/plain": [
       "['__class__',\n",
       " '__delattr__',\n",
       " '__dict__',\n",
       " '__dir__',\n",
       " '__doc__',\n",
       " '__eq__',\n",
       " '__format__',\n",
       " '__ge__',\n",
       " '__getattribute__',\n",
       " '__gt__',\n",
       " '__hash__',\n",
       " '__init__',\n",
       " '__init_subclass__',\n",
       " '__le__',\n",
       " '__lt__',\n",
       " '__module__',\n",
       " '__ne__',\n",
       " '__new__',\n",
       " '__reduce__',\n",
       " '__reduce_ex__',\n",
       " '__repr__',\n",
       " '__setattr__',\n",
       " '__sizeof__',\n",
       " '__str__',\n",
       " '__subclasshook__',\n",
       " '__weakref__']"
      ]
     },
     "execution_count": 167,
     "metadata": {},
     "output_type": "execute_result"
    }
   ],
   "source": [
    "a=\"Hello\"\n",
    "dir(a)\n",
    "dir(Person)"
   ]
  },
  {
   "cell_type": "code",
   "execution_count": 168,
   "id": "544f21f7-f35e-4c67-a726-f993796723e9",
   "metadata": {
    "tags": []
   },
   "outputs": [
    {
     "data": {
      "text/plain": [
       "(2, 1)"
      ]
     },
     "execution_count": 168,
     "metadata": {},
     "output_type": "execute_result"
    }
   ],
   "source": [
    "divmod(7,3) #몫과 나머지를 한번에 보여줌"
   ]
  },
  {
   "cell_type": "code",
   "execution_count": 171,
   "id": "90d8edf4-77d1-4a67-99a4-bc973b555d06",
   "metadata": {
    "tags": []
   },
   "outputs": [
    {
     "data": {
      "text/plain": [
       "['C:\\\\Users\\\\user\\\\test',\n",
       " 'C:\\\\Users\\\\user\\\\AppData\\\\Local\\\\Programs\\\\Python\\\\Python310\\\\python310.zip',\n",
       " 'C:\\\\Users\\\\user\\\\AppData\\\\Local\\\\Programs\\\\Python\\\\Python310\\\\DLLs',\n",
       " 'C:\\\\Users\\\\user\\\\AppData\\\\Local\\\\Programs\\\\Python\\\\Python310\\\\lib',\n",
       " 'C:\\\\Users\\\\user\\\\AppData\\\\Local\\\\Programs\\\\Python\\\\Python310',\n",
       " '',\n",
       " 'C:\\\\Users\\\\user\\\\AppData\\\\Local\\\\Programs\\\\Python\\\\Python310\\\\lib\\\\site-packages',\n",
       " 'C:\\\\Users\\\\user\\\\AppData\\\\Local\\\\Programs\\\\Python\\\\Python310\\\\lib\\\\site-packages\\\\win32',\n",
       " 'C:\\\\Users\\\\user\\\\AppData\\\\Local\\\\Programs\\\\Python\\\\Python310\\\\lib\\\\site-packages\\\\win32\\\\lib',\n",
       " 'C:\\\\Users\\\\user\\\\AppData\\\\Local\\\\Programs\\\\Python\\\\Python310\\\\lib\\\\site-packages\\\\Pythonwin']"
      ]
     },
     "execution_count": 171,
     "metadata": {},
     "output_type": "execute_result"
    }
   ],
   "source": [
    "import sys\n",
    "sys.version\n",
    "sys.path"
   ]
  },
  {
   "cell_type": "code",
   "execution_count": 172,
   "id": "623594fa-6cb2-438c-9062-4ed703491891",
   "metadata": {
    "tags": []
   },
   "outputs": [
    {
     "data": {
      "text/plain": [
       "\u001b[1;31mInit signature:\u001b[0m \u001b[0mfilter\u001b[0m\u001b[1;33m(\u001b[0m\u001b[0mself\u001b[0m\u001b[1;33m,\u001b[0m \u001b[1;33m/\u001b[0m\u001b[1;33m,\u001b[0m \u001b[1;33m*\u001b[0m\u001b[0margs\u001b[0m\u001b[1;33m,\u001b[0m \u001b[1;33m**\u001b[0m\u001b[0mkwargs\u001b[0m\u001b[1;33m)\u001b[0m\u001b[1;33m\u001b[0m\u001b[1;33m\u001b[0m\u001b[0m\n",
       "\u001b[1;31mDocstring:\u001b[0m     \n",
       "filter(function or None, iterable) --> filter object\n",
       "\n",
       "Return an iterator yielding those items of iterable for which function(item)\n",
       "is true. If function is None, return the items that are true.\n",
       "\u001b[1;31mType:\u001b[0m           type\n",
       "\u001b[1;31mSubclasses:\u001b[0m     "
      ]
     },
     "metadata": {},
     "output_type": "display_data"
    }
   ],
   "source": [
    "filter?"
   ]
  },
  {
   "cell_type": "code",
   "execution_count": 178,
   "id": "5b09fe7e-9cbd-4340-bbe2-bdf2c2bd9fa7",
   "metadata": {
    "tags": []
   },
   "outputs": [
    {
     "data": {
      "text/plain": [
       "True"
      ]
     },
     "execution_count": 178,
     "metadata": {},
     "output_type": "execute_result"
    }
   ],
   "source": [
    "def positive(x):\n",
    "    return x>0\n",
    "positive(3)\n"
   ]
  },
  {
   "cell_type": "code",
   "execution_count": 181,
   "id": "79875dcd-252c-4f9b-a53b-519a3291b476",
   "metadata": {
    "tags": []
   },
   "outputs": [
    {
     "name": "stdout",
     "output_type": "stream",
     "text": [
      "1\n",
      "2\n"
     ]
    }
   ],
   "source": [
    "for i in filter (positive, [-1,0,1,2]):\n",
    "    print(i)"
   ]
  },
  {
   "cell_type": "code",
   "execution_count": 183,
   "id": "3479dd33-3624-4a78-9ef0-87c692f0d9a6",
   "metadata": {
    "tags": []
   },
   "outputs": [
    {
     "data": {
      "text/plain": [
       "[1, 2]"
      ]
     },
     "execution_count": 183,
     "metadata": {},
     "output_type": "execute_result"
    }
   ],
   "source": [
    "list(filter(positive, [-1,0,1,2]))"
   ]
  },
  {
   "cell_type": "code",
   "execution_count": 184,
   "id": "5d926da5-5268-4135-9168-64380503719a",
   "metadata": {
    "tags": []
   },
   "outputs": [
    {
     "name": "stdout",
     "output_type": "stream",
     "text": [
      "[1, 2]\n"
     ]
    }
   ],
   "source": [
    "print(list(filter(positive, [-1,0,1,2])))"
   ]
  },
  {
   "cell_type": "code",
   "execution_count": 192,
   "id": "cf9ae9ad-1e73-4966-a0ef-70df94b23d36",
   "metadata": {
    "tags": []
   },
   "outputs": [
    {
     "data": {
      "text/plain": [
       "[1, 2]"
      ]
     },
     "execution_count": 192,
     "metadata": {},
     "output_type": "execute_result"
    }
   ],
   "source": [
    "#양수만 골라내는 함수\n",
    "def positive(x):\n",
    "    li = [  ]\n",
    "    for i in x:\n",
    "        if i >0:\n",
    "            li.append(i)\n",
    "        else:\n",
    "            pass\n",
    "    return li\n",
    "positive([-1,0,1,2])"
   ]
  },
  {
   "cell_type": "code",
   "execution_count": 193,
   "id": "5e0e3d6b-c6f9-4ca4-9dd3-79ac1f0274d4",
   "metadata": {
    "tags": []
   },
   "outputs": [
    {
     "data": {
      "text/plain": [
       "[1, 2]"
      ]
     },
     "execution_count": 193,
     "metadata": {},
     "output_type": "execute_result"
    }
   ],
   "source": [
    "list(filter(lambda i: i>0, [-1,0,1,2])) #list comprehension"
   ]
  },
  {
   "cell_type": "code",
   "execution_count": 194,
   "id": "623e5c7c-b1b1-47f5-81a0-cf8097b43a1d",
   "metadata": {
    "tags": []
   },
   "outputs": [
    {
     "data": {
      "text/plain": [
       "range(1, 11)"
      ]
     },
     "execution_count": 194,
     "metadata": {},
     "output_type": "execute_result"
    }
   ],
   "source": [
    "range(1,11)"
   ]
  },
  {
   "cell_type": "code",
   "execution_count": 196,
   "id": "865068d6-b960-4b57-9842-b134a07cd54d",
   "metadata": {
    "tags": []
   },
   "outputs": [
    {
     "data": {
      "text/plain": [
       "[1, 2, 3, 4, 5, 6, 7, 8, 9, 10]"
      ]
     },
     "execution_count": 196,
     "metadata": {},
     "output_type": "execute_result"
    }
   ],
   "source": [
    "list(range(1,11))"
   ]
  },
  {
   "cell_type": "code",
   "execution_count": 226,
   "id": "649ac293-38c0-44f9-ae22-b12b1abd28ce",
   "metadata": {
    "tags": []
   },
   "outputs": [
    {
     "data": {
      "text/plain": [
       "[2, 4, 6, 8, 10]"
      ]
     },
     "execution_count": 226,
     "metadata": {},
     "output_type": "execute_result"
    }
   ],
   "source": [
    "#filter 짝수찾기 \n",
    "list(filter(lambda x: x%2==0, range(1,11)))"
   ]
  },
  {
   "cell_type": "code",
   "execution_count": 227,
   "id": "04de73cd-aa8b-46ff-a172-9f9737da7f6c",
   "metadata": {
    "tags": []
   },
   "outputs": [
    {
     "data": {
      "text/plain": [
       "['python']"
      ]
     },
     "execution_count": 227,
     "metadata": {},
     "output_type": "execute_result"
    }
   ],
   "source": [
    "\n",
    "list(filter(lambda x:len(x)>=6,strings)) "
   ]
  },
  {
   "cell_type": "code",
   "execution_count": 200,
   "id": "829b7c17-bd33-42a7-a24e-be2463961c1d",
   "metadata": {
    "tags": []
   },
   "outputs": [
    {
     "data": {
      "text/plain": [
       "['hello', 'python']"
      ]
     },
     "execution_count": 200,
     "metadata": {},
     "output_type": "execute_result"
    }
   ],
   "source": [
    "strings = ['hello','python']\n",
    "list(filter(lambda x: x.count('o')==1, strings))"
   ]
  },
  {
   "cell_type": "code",
   "execution_count": 202,
   "id": "01ef8d08-44c3-48b8-9039-421bd38217f4",
   "metadata": {
    "tags": []
   },
   "outputs": [
    {
     "data": {
      "text/plain": [
       "'0x237'"
      ]
     },
     "execution_count": 202,
     "metadata": {},
     "output_type": "execute_result"
    }
   ],
   "source": [
    "hex(567)"
   ]
  },
  {
   "cell_type": "code",
   "execution_count": 203,
   "id": "e6261883-6972-4882-b84d-95afd2498625",
   "metadata": {
    "tags": []
   },
   "outputs": [],
   "source": [
    "class Person:\n",
    "    pass\n",
    "a= Person()"
   ]
  },
  {
   "cell_type": "code",
   "execution_count": 207,
   "id": "1c2e732d-3ecc-427f-a2a0-17f82fb721b3",
   "metadata": {
    "tags": []
   },
   "outputs": [
    {
     "data": {
      "text/plain": [
       "True"
      ]
     },
     "execution_count": 207,
     "metadata": {},
     "output_type": "execute_result"
    }
   ],
   "source": [
    "isinstance (a, Person)"
   ]
  },
  {
   "cell_type": "code",
   "execution_count": 210,
   "id": "79a4fdd7-2619-4028-a221-d26bea9cb6e2",
   "metadata": {
    "tags": []
   },
   "outputs": [
    {
     "data": {
      "text/plain": [
       "[-2, 0, 2, 4]"
      ]
     },
     "execution_count": 210,
     "metadata": {},
     "output_type": "execute_result"
    }
   ],
   "source": [
    "x = [-1,0,1,2]\n",
    "def twice(x):\n",
    "    li =[ ]\n",
    "    for i in x:\n",
    "        li.append(i*2)\n",
    "    return li\n",
    "twice(x)"
   ]
  },
  {
   "cell_type": "code",
   "execution_count": 213,
   "id": "9bf0ceed-0062-4c95-ba91-39d60cf725c3",
   "metadata": {
    "tags": []
   },
   "outputs": [
    {
     "data": {
      "text/plain": [
       "[-2, 0, 2, 4]"
      ]
     },
     "execution_count": 213,
     "metadata": {},
     "output_type": "execute_result"
    }
   ],
   "source": [
    "list(map(lambda x: x*2, [-1,0,1,2]))"
   ]
  },
  {
   "cell_type": "code",
   "execution_count": 218,
   "id": "5ad368e7-d44c-44d7-afef-43567ee9ebd1",
   "metadata": {
    "tags": []
   },
   "outputs": [
    {
     "name": "stdout",
     "output_type": "stream",
     "text": [
      "<function <lambda> at 0x0000022A19BAD5A0> [-1, 0, 1, 2]\n"
     ]
    }
   ],
   "source": [
    "print(lambda x: x*2, [-1,0,1,2])\n"
   ]
  },
  {
   "cell_type": "code",
   "execution_count": 219,
   "id": "dd290713-1554-429d-b4f0-743c5fd9a8a5",
   "metadata": {
    "tags": []
   },
   "outputs": [],
   "source": [
    "import numpy as np"
   ]
  },
  {
   "cell_type": "code",
   "execution_count": 222,
   "id": "519ac9f7-bd60-48bd-a6cf-80588f12d15a",
   "metadata": {
    "tags": []
   },
   "outputs": [
    {
     "data": {
      "text/plain": [
       "array([-1,  0,  1,  2])"
      ]
     },
     "execution_count": 222,
     "metadata": {},
     "output_type": "execute_result"
    }
   ],
   "source": [
    "ar = np.array([-1,0,1,2])\n",
    "ar"
   ]
  },
  {
   "cell_type": "code",
   "execution_count": 223,
   "id": "6af6dfed-e80c-4556-bb52-1534eb352692",
   "metadata": {
    "tags": []
   },
   "outputs": [
    {
     "data": {
      "text/plain": [
       "array([-2,  0,  2,  4])"
      ]
     },
     "execution_count": 223,
     "metadata": {},
     "output_type": "execute_result"
    }
   ],
   "source": [
    "ar*2"
   ]
  },
  {
   "cell_type": "code",
   "execution_count": 238,
   "id": "8a795b82-b7b0-475d-b560-6cd72430246d",
   "metadata": {
    "tags": []
   },
   "outputs": [
    {
     "data": {
      "text/plain": [
       "['Hello', 'Python', 'World', 'Is', 'Awesome']"
      ]
     },
     "execution_count": 238,
     "metadata": {},
     "output_type": "execute_result"
    }
   ],
   "source": [
    "#문자 갯수 \n",
    "strings = ['hello','python','world','is','awesome']\n",
    "list(map(lambda x: x.capitalize(),strings))\n"
   ]
  },
  {
   "cell_type": "code",
   "execution_count": 241,
   "id": "cf423383-226b-45c8-91c2-995fe34a1fed",
   "metadata": {
    "tags": []
   },
   "outputs": [
    {
     "data": {
      "text/plain": [
       "[11, 22, 33, 44, 55]"
      ]
     },
     "execution_count": 241,
     "metadata": {},
     "output_type": "execute_result"
    }
   ],
   "source": [
    "list1 = [1, 2, 3, 4, 5]\n",
    "list2 = [10, 20, 30, 40, 50]\n",
    "list(map(lambda x, y:x+y,list1,list2))"
   ]
  },
  {
   "cell_type": "code",
   "execution_count": 242,
   "id": "3b374caa-32de-4aae-b6dd-67cdaa3bdc07",
   "metadata": {
    "tags": []
   },
   "outputs": [
    {
     "ename": "SyntaxError",
     "evalue": "invalid syntax (2046890001.py, line 1)",
     "output_type": "error",
     "traceback": [
      "\u001b[1;36m  Cell \u001b[1;32mIn[242], line 1\u001b[1;36m\u001b[0m\n\u001b[1;33m    바이너리가 아닌 것은 숫자 문자,\u001b[0m\n\u001b[1;37m          ^\u001b[0m\n\u001b[1;31mSyntaxError\u001b[0m\u001b[1;31m:\u001b[0m invalid syntax\n"
     ]
    }
   ],
   "source": [
    "바이너리가 아닌 것은 숫자 문자, \n",
    "binary : 이진, 사진,음악, 동영상 "
   ]
  },
  {
   "cell_type": "code",
   "execution_count": 243,
   "id": "8c01b62d-5109-4753-9544-91b3fdde37ff",
   "metadata": {
    "tags": []
   },
   "outputs": [
    {
     "data": {
      "text/plain": [
       "[1, 3, 5, 7, 9]"
      ]
     },
     "execution_count": 243,
     "metadata": {},
     "output_type": "execute_result"
    }
   ],
   "source": [
    "list(range(1,10,2))"
   ]
  },
  {
   "cell_type": "code",
   "execution_count": 244,
   "id": "61028941-1023-4e69-87d2-bd896165cabd",
   "metadata": {
    "tags": []
   },
   "outputs": [],
   "source": [
    "li = [2,4,3]\n",
    "li.sort()"
   ]
  },
  {
   "cell_type": "code",
   "execution_count": 245,
   "id": "7474de50-34f8-47eb-8ccf-b50e4054206e",
   "metadata": {
    "tags": []
   },
   "outputs": [
    {
     "data": {
      "text/plain": [
       "[2, 3, 4]"
      ]
     },
     "execution_count": 245,
     "metadata": {},
     "output_type": "execute_result"
    }
   ],
   "source": [
    "li"
   ]
  },
  {
   "cell_type": "code",
   "execution_count": 246,
   "id": "dfb3c5b0-178c-4760-8294-3ede07eb1a1f",
   "metadata": {
    "tags": []
   },
   "outputs": [
    {
     "data": {
      "text/plain": [
       "[2, 3, 4]"
      ]
     },
     "execution_count": 246,
     "metadata": {},
     "output_type": "execute_result"
    }
   ],
   "source": [
    "sorted(li)"
   ]
  },
  {
   "cell_type": "code",
   "execution_count": 247,
   "id": "7b953a2e-068e-4618-b222-0fe6e554e750",
   "metadata": {
    "tags": []
   },
   "outputs": [
    {
     "data": {
      "text/plain": [
       "[2, 3, 4]"
      ]
     },
     "execution_count": 247,
     "metadata": {},
     "output_type": "execute_result"
    }
   ],
   "source": [
    "li"
   ]
  },
  {
   "cell_type": "code",
   "execution_count": 249,
   "id": "91b799b7-5dc9-4532-b8d5-65a9a84d6d04",
   "metadata": {
    "tags": []
   },
   "outputs": [
    {
     "data": {
      "text/plain": [
       "[(1, 10), (2, 20), (3, 30)]"
      ]
     },
     "execution_count": 249,
     "metadata": {},
     "output_type": "execute_result"
    }
   ],
   "source": [
    "list(zip([1,2,3],[10,20,30]))"
   ]
  },
  {
   "cell_type": "markdown",
   "id": "50bf6c83-35b5-4751-92a7-00644925f760",
   "metadata": {},
   "source": [
    "## 라이브러리"
   ]
  },
  {
   "cell_type": "code",
   "execution_count": 250,
   "id": "ab1233be-1047-4f43-8f71-2c92882c023d",
   "metadata": {
    "tags": []
   },
   "outputs": [],
   "source": [
    "import pickle"
   ]
  },
  {
   "cell_type": "code",
   "execution_count": null,
   "id": "b57bd224-1eb9-4ca6-92ba-dc1a99598995",
   "metadata": {},
   "outputs": [],
   "source": []
  }
 ],
 "metadata": {
  "kernelspec": {
   "display_name": "Python 3 (ipykernel)",
   "language": "python",
   "name": "python3"
  },
  "language_info": {
   "codemirror_mode": {
    "name": "ipython",
    "version": 3
   },
   "file_extension": ".py",
   "mimetype": "text/x-python",
   "name": "python",
   "nbconvert_exporter": "python",
   "pygments_lexer": "ipython3",
   "version": "3.10.9"
  }
 },
 "nbformat": 4,
 "nbformat_minor": 5
}
