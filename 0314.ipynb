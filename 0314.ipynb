{
 "cells": [
  {
   "cell_type": "markdown",
   "id": "82ec4dcc-461e-4b0d-9e08-929736538633",
   "metadata": {},
   "source": [
    "## 복습"
   ]
  },
  {
   "cell_type": "code",
   "execution_count": 2,
   "id": "e68c94d2-1387-48e4-8bb8-edf79086bfb2",
   "metadata": {
    "tags": []
   },
   "outputs": [
    {
     "name": "stdin",
     "output_type": "stream",
     "text": [
      "점수는 50\n"
     ]
    },
    {
     "name": "stdout",
     "output_type": "stream",
     "text": [
      "F\n"
     ]
    }
   ],
   "source": [
    "score = int(input(\"점수는\"))\n",
    "if score >= 90 : \n",
    "    print(\"A\")\n",
    "elif  score >= 80 : \n",
    "    print(\"B\")\n",
    "elif  score >= 70 : \n",
    "    print(\"C\")\n",
    "elif  score >= 60 : \n",
    "    print(\"D\")\n",
    "else: \n",
    "    print(\"F\")"
   ]
  },
  {
   "cell_type": "code",
   "execution_count": 4,
   "id": "8d61a486-7d8d-4599-9ad3-a2419829307a",
   "metadata": {
    "tags": []
   },
   "outputs": [
    {
     "name": "stdout",
     "output_type": "stream",
     "text": [
      "A\n"
     ]
    }
   ],
   "source": [
    "def grade (score):\n",
    "    if score >= 90 : \n",
    "        print(\"A\")\n",
    "    elif  score >= 80 : \n",
    "        print(\"B\")\n",
    "    elif  score >= 70 : \n",
    "        print(\"C\")\n",
    "    elif  score >= 60 : \n",
    "        print(\"D\")\n",
    "    else: \n",
    "        print(\"F\")\n",
    "grade(98)"
   ]
  },
  {
   "cell_type": "code",
   "execution_count": 12,
   "id": "9b788b43-344d-4e95-b334-4738b2f3aa24",
   "metadata": {
    "tags": []
   },
   "outputs": [
    {
     "data": {
      "text/plain": [
       "[1, 2, 3, 4, 5, 6, 7, 8, 9, 10]"
      ]
     },
     "execution_count": 12,
     "metadata": {},
     "output_type": "execute_result"
    }
   ],
   "source": [
    "li = []\n",
    "for i in range(1, 11):\n",
    "    li.append(i) \n",
    "    \n",
    "li"
   ]
  },
  {
   "cell_type": "code",
   "execution_count": 14,
   "id": "5e87f74b-df52-47e0-a73a-5dd27c45406d",
   "metadata": {
    "tags": []
   },
   "outputs": [
    {
     "data": {
      "text/plain": [
       "[1, 2, 3, 4, 5, 6, 7, 8, 9, 10]"
      ]
     },
     "execution_count": 14,
     "metadata": {},
     "output_type": "execute_result"
    }
   ],
   "source": [
    "# list comprehension\n",
    "li= [i for i in range(1,11)]\n",
    "li"
   ]
  },
  {
   "cell_type": "code",
   "execution_count": 19,
   "id": "35aee2a2-2b2e-4374-98c3-107485b6bbeb",
   "metadata": {
    "tags": []
   },
   "outputs": [
    {
     "data": {
      "text/plain": [
       "[2, 4, 6, 8, 10]"
      ]
     },
     "execution_count": 19,
     "metadata": {},
     "output_type": "execute_result"
    }
   ],
   "source": [
    "#짝수뽑기 \n",
    "li = []\n",
    "for i in range(1, 11):\n",
    "    if i % 2 == 0:\n",
    "        li. append(i)\n",
    "li"
   ]
  },
  {
   "cell_type": "code",
   "execution_count": 23,
   "id": "542ac1df-95ed-415e-897d-78bb75007514",
   "metadata": {
    "tags": []
   },
   "outputs": [
    {
     "data": {
      "text/plain": [
       "[2, 4, 6, 8, 10]"
      ]
     },
     "execution_count": 23,
     "metadata": {},
     "output_type": "execute_result"
    }
   ],
   "source": [
    "li= [i for i in range(1, 11) if i % 2 == 0 ]\n",
    "li"
   ]
  },
  {
   "cell_type": "code",
   "execution_count": 30,
   "id": "c2133ac2-9130-4e1a-9a20-cdd9de253111",
   "metadata": {
    "tags": []
   },
   "outputs": [
    {
     "data": {
      "text/plain": [
       "233168"
      ]
     },
     "execution_count": 30,
     "metadata": {},
     "output_type": "execute_result"
    }
   ],
   "source": [
    "#1000미만 3과 5의 배수의 합 \n",
    "sum=0  #range 할때 무조건 처음 수 지정 \n",
    "for i in range(1,1000):\n",
    "    if i % 3 == 0 or i % 5 == 0:\n",
    "        sum += i\n",
    "sum\n",
    "        "
   ]
  },
  {
   "cell_type": "code",
   "execution_count": 27,
   "id": "fb32f390-98da-4012-9d09-fae2856725f4",
   "metadata": {
    "tags": []
   },
   "outputs": [
    {
     "data": {
      "text/plain": [
       "234168"
      ]
     },
     "execution_count": 27,
     "metadata": {},
     "output_type": "execute_result"
    }
   ],
   "source": [
    "li=[]\n",
    "for i in range(1,1001):\n",
    "    if i % 3==0 or i % 5 == 0:\n",
    "        li.append(i)\n",
    "sum(li) "
   ]
  },
  {
   "cell_type": "code",
   "execution_count": 40,
   "id": "390c31f8-ffb7-4d3e-aaf3-bee4a7cfaa45",
   "metadata": {
    "tags": []
   },
   "outputs": [
    {
     "data": {
      "text/plain": [
       "'개굴개굴'"
      ]
     },
     "execution_count": 40,
     "metadata": {},
     "output_type": "execute_result"
    }
   ],
   "source": [
    "#dict 에서 뽑아낼때\n",
    "d = {'강아지':'멍멍','병아리':'짹짹', '개구리':'개굴개굴'} \n",
    "def animal(i): \n",
    "    return  d[i]\n",
    "    \n",
    "animal('개구리')"
   ]
  },
  {
   "cell_type": "code",
   "execution_count": 68,
   "id": "f294fa62-32b9-4526-9c7d-87c77bff538f",
   "metadata": {
    "tags": []
   },
   "outputs": [
    {
     "name": "stdout",
     "output_type": "stream",
     "text": [
      "P\n"
     ]
    }
   ],
   "source": [
    "def grade (Kor, Math, Eng): \n",
    "    if Kor <60 or Math<60 or Eng<60 :\n",
    "        print (\"F\")\n",
    "    elif (Kor+Math+Eng) / 3 >= 70:\n",
    "        print (\"P\")\n",
    "    else : \n",
    "        print (\"F\")\n",
    "\n",
    "grade(80,80,80)"
   ]
  },
  {
   "cell_type": "code",
   "execution_count": 71,
   "id": "9f941d02-2c63-45e5-9f36-6b39a9a78a68",
   "metadata": {
    "tags": []
   },
   "outputs": [
    {
     "data": {
      "text/plain": [
       "'P'"
      ]
     },
     "execution_count": 71,
     "metadata": {},
     "output_type": "execute_result"
    }
   ],
   "source": [
    "#한문장안에 IF 여러개 가능 \n",
    "def grade (Kor, Math, Eng): \n",
    "    if Kor <60 or Math<60 or Eng<60 :\n",
    "        return (\"F\")\n",
    "    mean = (Kor+Math+Eng) / 3 \n",
    "    if mean > 70 :\n",
    "        return \"P\"\n",
    "    else:\n",
    "        return \"F\"\n",
    "\n",
    "grade(80,80,80)"
   ]
  },
  {
   "cell_type": "code",
   "execution_count": 108,
   "id": "36eb612c-fc19-4ae4-accd-b009afb55002",
   "metadata": {
    "tags": []
   },
   "outputs": [
    {
     "name": "stdout",
     "output_type": "stream",
     "text": [
      "\n",
      "2*1 = 2 2*2 = 4 2*3 = 6 2*4 = 8 2*5 = 10 2*6 = 12 2*7 = 14 2*8 = 16 2*9 = 18  \n",
      "\n",
      "3*1 = 3 3*2 = 6 3*3 = 9 3*4 = 12 3*5 = 15 3*6 = 18 3*7 = 21 3*8 = 24 3*9 = 27  \n",
      "\n",
      "4*1 = 4 4*2 = 8 4*3 = 12 4*4 = 16 4*5 = 20 4*6 = 24 4*7 = 28 4*8 = 32 4*9 = 36  \n",
      "\n",
      "5*1 = 5 5*2 = 10 5*3 = 15 5*4 = 20 5*5 = 25 5*6 = 30 5*7 = 35 5*8 = 40 5*9 = 45  \n"
     ]
    }
   ],
   "source": [
    "#구구단 \n",
    "for i in range (2,6):\n",
    "    print (end= \"\\n\")\n",
    "    for j in range (1,10):\n",
    "        print(f\"{i}*{j} = {i*j}\" ,end= \" \")\n",
    "    print(\" \") \n",
    "        \n",
    "        "
   ]
  },
  {
   "cell_type": "markdown",
   "id": "1daf9dfb-036c-40c3-82f9-a74698fb413b",
   "metadata": {},
   "source": [
    "# while문\n",
    "- if +for\n",
    "- for: 반복횟수가 정해져있을때 "
   ]
  },
  {
   "cell_type": "code",
   "execution_count": 1,
   "id": "55cb3fa4-7926-4069-a71d-597d010d3267",
   "metadata": {
    "tags": []
   },
   "outputs": [
    {
     "name": "stdout",
     "output_type": "stream",
     "text": [
      "0\n"
     ]
    }
   ],
   "source": [
    "i= 0\n",
    "if 1<2:\n",
    "    print(i)"
   ]
  },
  {
   "cell_type": "code",
   "execution_count": 4,
   "id": "7669bab9-1afb-4691-bf25-feb705623089",
   "metadata": {},
   "outputs": [
    {
     "name": "stdout",
     "output_type": "stream",
     "text": [
      "0\n",
      "1\n",
      "2\n",
      "3\n",
      "4\n",
      "5\n",
      "6\n",
      "7\n",
      "8\n",
      "9\n"
     ]
    }
   ],
   "source": [
    "i= 0\n",
    "while 1<2:\n",
    "    print(i)\n",
    "#while 무한루프로 계속 0이 낭음 \n",
    "#break 걸기\n",
    "    i += 1\n",
    "    if i== 10:\n",
    "        break"
   ]
  },
  {
   "cell_type": "code",
   "execution_count": 1,
   "id": "63d7c8b7-bd72-4e09-9b39-9a647ef6c244",
   "metadata": {},
   "outputs": [
    {
     "name": "stdout",
     "output_type": "stream",
     "text": [
      "1\n",
      "3\n",
      "5\n",
      "7\n",
      "9\n"
     ]
    }
   ],
   "source": [
    "# continue if 조건을 만족하면 다시 올라간다. \n",
    "i= 0\n",
    "while  i < 10:   \n",
    "    \n",
    "    i += 1\n",
    "        \n",
    "    if i%2==0:\n",
    "        continue \n",
    "\n",
    "\n",
    "    print(i)\n"
   ]
  },
  {
   "cell_type": "code",
   "execution_count": 4,
   "id": "4cd0b3c9-9e7e-4c3d-968b-66b3f258c295",
   "metadata": {},
   "outputs": [
    {
     "name": "stdout",
     "output_type": "stream",
     "text": [
      "2  4  6  8  10  "
     ]
    }
   ],
   "source": [
    "i= 0\n",
    "while  i < 10:   \n",
    "    \n",
    "    i += 1\n",
    "    \n",
    "    if i%2==1:\n",
    "        continue \n",
    "\n",
    "    print(i, end= \"  \") #가로로 정렬 "
   ]
  },
  {
   "cell_type": "code",
   "execution_count": 1,
   "id": "6fc13a97-21bd-4bed-bdb9-a13c442446d4",
   "metadata": {
    "tags": []
   },
   "outputs": [
    {
     "name": "stdout",
     "output_type": "stream",
     "text": [
      "6.0\n"
     ]
    }
   ],
   "source": [
    "li = [  ]\n",
    "i = 0\n",
    "sum = 0\n",
    "count= 0\n",
    "while i <10:\n",
    "    i += 1\n",
    "    if i%2 == 1:\n",
    "        continue\n",
    "    sum += i\n",
    "    count += 1\n",
    "print(sum/count)\n",
    "    "
   ]
  },
  {
   "cell_type": "code",
   "execution_count": 10,
   "id": "be837df6-747c-4e4a-b0d5-5e3d26a1cb59",
   "metadata": {
    "tags": []
   },
   "outputs": [
    {
     "data": {
      "text/plain": [
       "[3, 6, 9]"
      ]
     },
     "execution_count": 10,
     "metadata": {},
     "output_type": "execute_result"
    }
   ],
   "source": [
    "li = []\n",
    "i = 0 \n",
    "while i < 10:\n",
    "    i += 1\n",
    "    if i % 3 == 0:\n",
    "        li.append(i)\n",
    "li"
   ]
  },
  {
   "cell_type": "code",
   "execution_count": 11,
   "id": "0ec42e8f-8a8d-48fc-8985-18bc2f1f2b43",
   "metadata": {
    "tags": []
   },
   "outputs": [
    {
     "data": {
      "text/plain": [
       "[3, 6, 9]"
      ]
     },
     "execution_count": 11,
     "metadata": {},
     "output_type": "execute_result"
    }
   ],
   "source": [
    "li = []\n",
    "i = 0 \n",
    "while i < 10:\n",
    "    i += 1\n",
    "    if i % 3 != 0:\n",
    "        continue\n",
    "    li.append(i)\n",
    "li"
   ]
  },
  {
   "cell_type": "code",
   "execution_count": 23,
   "id": "e73676ae-9dc3-4a30-a4c4-5e3e5c48597d",
   "metadata": {
    "tags": []
   },
   "outputs": [
    {
     "data": {
      "text/plain": [
       "25"
      ]
     },
     "execution_count": 23,
     "metadata": {},
     "output_type": "execute_result"
    }
   ],
   "source": [
    "#1-3 의 배수가 25개 리스트만 나오게 \n",
    "li = []\n",
    "i = 0 \n",
    "count = 0\n",
    "while i<500 :\n",
    "    i += 1\n",
    "    if i % 3 != 0:\n",
    "        continue\n",
    "    li.append(i)\n",
    "    count += 1\n",
    "    if count ==25:\n",
    "        break\n",
    "li\n",
    "\n",
    "len(li)"
   ]
  },
  {
   "cell_type": "code",
   "execution_count": 25,
   "id": "e871ca71-f916-43f8-8ba3-18663dfc46dd",
   "metadata": {
    "tags": []
   },
   "outputs": [
    {
     "data": {
      "text/plain": [
       "25"
      ]
     },
     "execution_count": 25,
     "metadata": {},
     "output_type": "execute_result"
    }
   ],
   "source": [
    "li = []\n",
    "i = 0\n",
    "count = 0\n",
    "while count < 25:\n",
    "    i += 1\n",
    "    if i % 3 !=0:\n",
    "        continue\n",
    "    li.append(i)\n",
    "    count += 1\n",
    "li \n",
    "len(li)"
   ]
  },
  {
   "cell_type": "code",
   "execution_count": 29,
   "id": "59eb8e1a-cf24-4f6b-ad38-4ca1da45590c",
   "metadata": {
    "tags": []
   },
   "outputs": [
    {
     "name": "stdout",
     "output_type": "stream",
     "text": [
      "1\n",
      "2\n",
      "3\n",
      "4\n",
      "6\n",
      "7\n",
      "8\n",
      "9\n"
     ]
    }
   ],
   "source": [
    "for i in range(10):\n",
    "    if i%5 == 0:\n",
    "        continue\n",
    "    print(i)\n",
    "    "
   ]
  },
  {
   "cell_type": "code",
   "execution_count": 32,
   "id": "c2d359d7-db80-4d91-bf7a-9e998eb3814d",
   "metadata": {
    "tags": []
   },
   "outputs": [],
   "source": [
    "\n",
    "def who ( name, age, nation = \"Korea\"):\n",
    "    print(f\"이름은 {name}이고 나이는 {age}이고 국적은 {nation}입니다.\")"
   ]
  },
  {
   "cell_type": "code",
   "execution_count": 33,
   "id": "b18217ef-92c6-4f6a-be76-99b26f84c851",
   "metadata": {
    "tags": []
   },
   "outputs": [
    {
     "name": "stdout",
     "output_type": "stream",
     "text": [
      "이름은 길동이고 나이는 22이고 국적은 Korea입니다.\n"
     ]
    }
   ],
   "source": [
    "who(\"길동\", \"22\")"
   ]
  },
  {
   "cell_type": "code",
   "execution_count": 34,
   "id": "ed6e635d-7d99-4865-9d68-3938727c14ff",
   "metadata": {
    "tags": []
   },
   "outputs": [],
   "source": [
    "def add(a,b,c):\n",
    "    sum = a+b+c\n",
    "    return (sum)"
   ]
  },
  {
   "cell_type": "code",
   "execution_count": 35,
   "id": "9795c034-d15c-40f9-8422-89abf59953ea",
   "metadata": {
    "tags": []
   },
   "outputs": [
    {
     "data": {
      "text/plain": [
       "6"
      ]
     },
     "execution_count": 35,
     "metadata": {},
     "output_type": "execute_result"
    }
   ],
   "source": [
    "add(1,2,3)"
   ]
  },
  {
   "cell_type": "code",
   "execution_count": 38,
   "id": "747380aa-9ba0-4598-bb9d-44341fad9b1e",
   "metadata": {
    "tags": []
   },
   "outputs": [
    {
     "data": {
      "text/plain": [
       "(1, 2, 3, 4)"
      ]
     },
     "execution_count": 38,
     "metadata": {},
     "output_type": "execute_result"
    }
   ],
   "source": [
    "#입력값이 몇개인지 모를경우\n",
    "def add(*a):\n",
    "    return a \n",
    "add(1,2,3,4)"
   ]
  },
  {
   "cell_type": "code",
   "execution_count": 39,
   "id": "9cd9d346-fb8c-42bc-a68c-c01c9359f370",
   "metadata": {
    "tags": []
   },
   "outputs": [],
   "source": [
    "### 튜플은 저장안되니까 다른값으로 받아야돼"
   ]
  },
  {
   "cell_type": "code",
   "execution_count": 42,
   "id": "1aba09d2-2984-427b-827d-f4f17ea9bd94",
   "metadata": {
    "tags": []
   },
   "outputs": [
    {
     "data": {
      "text/plain": [
       "tuple"
      ]
     },
     "execution_count": 42,
     "metadata": {},
     "output_type": "execute_result"
    }
   ],
   "source": [
    "result = add(1,2,3,4)\n",
    "result\n",
    "\n",
    "type(result)"
   ]
  },
  {
   "cell_type": "code",
   "execution_count": 47,
   "id": "1d3a7f09-ebdb-43f1-adbd-14f25ca06fa2",
   "metadata": {
    "tags": []
   },
   "outputs": [
    {
     "data": {
      "text/plain": [
       "10"
      ]
     },
     "execution_count": 47,
     "metadata": {},
     "output_type": "execute_result"
    }
   ],
   "source": [
    "#합을 리턴해주는 함수\n",
    "def add (*args):\n",
    "    sum=0\n",
    "    for i in args:\n",
    "        sum+= i\n",
    "    \n",
    "    return sum\n",
    "add(1,2,3,4)"
   ]
  },
  {
   "cell_type": "code",
   "execution_count": 44,
   "id": "bf691b58-5d0b-4fc5-975c-56084af7cf53",
   "metadata": {
    "tags": []
   },
   "outputs": [
    {
     "name": "stdout",
     "output_type": "stream",
     "text": [
      "1\n",
      "2\n",
      "3\n",
      "4\n"
     ]
    }
   ],
   "source": [
    "for i in result: \n",
    "    print(i)"
   ]
  },
  {
   "cell_type": "code",
   "execution_count": 63,
   "id": "40b4475c-ad8d-410d-b130-795acb3c41d7",
   "metadata": {
    "tags": []
   },
   "outputs": [],
   "source": [
    "def add_mul(choice, *args):\n",
    "    if choice == \"add\":\n",
    "        result = 0\n",
    "        for i in args:\n",
    "            result = result +i\n",
    "        return result\n",
    "    elif choice == \"mul\":\n",
    "        result = 1\n",
    "        for i in args:\n",
    "            result = result *i\n",
    "        return result\n",
    "    else:\n",
    "        return \"add또는 mul을 입력하세요.\"\n"
   ]
  },
  {
   "cell_type": "code",
   "execution_count": 64,
   "id": "2781f3bc-e1d2-4adb-a8b6-1ac1f27e5b3e",
   "metadata": {
    "tags": []
   },
   "outputs": [
    {
     "data": {
      "text/plain": [
       "7"
      ]
     },
     "execution_count": 64,
     "metadata": {},
     "output_type": "execute_result"
    }
   ],
   "source": [
    "add_mul(\"add\",1,2,4)"
   ]
  },
  {
   "cell_type": "code",
   "execution_count": 67,
   "id": "62a88bfd-831a-40da-bf1d-9be24cab8b2d",
   "metadata": {
    "tags": []
   },
   "outputs": [
    {
     "data": {
      "text/plain": [
       "6"
      ]
     },
     "execution_count": 67,
     "metadata": {},
     "output_type": "execute_result"
    }
   ],
   "source": [
    "add_mul(\"mul\",2,3)"
   ]
  },
  {
   "cell_type": "code",
   "execution_count": 69,
   "id": "fe77d9d1-5b5f-4cf2-ac6f-83d33c2d6fab",
   "metadata": {
    "tags": []
   },
   "outputs": [],
   "source": [
    "## 키워드 파라미터 "
   ]
  },
  {
   "cell_type": "code",
   "execution_count": 70,
   "id": "ac06136a-ba50-4ed4-8067-1a8ffa023b7d",
   "metadata": {
    "tags": []
   },
   "outputs": [],
   "source": [
    "def kw_args(**kwargs):\n",
    "    print(kwargs)"
   ]
  },
  {
   "cell_type": "code",
   "execution_count": 71,
   "id": "94f22aa4-c6f7-457f-8162-c9fa62e23eb1",
   "metadata": {
    "tags": []
   },
   "outputs": [
    {
     "name": "stdout",
     "output_type": "stream",
     "text": [
      "{'name': 'foo', 'age': 3}\n"
     ]
    }
   ],
   "source": [
    "kw_args(name= 'foo', age= 3)"
   ]
  },
  {
   "cell_type": "code",
   "execution_count": 73,
   "id": "b67e36d8-11b1-4062-a308-212a9d1cce48",
   "metadata": {
    "tags": []
   },
   "outputs": [],
   "source": [
    "def add_mul (*args):\n",
    "    sum=0\n",
    "    for i in args:\n",
    "        sum+= i             #합\n",
    " \n",
    "    result = 1\n",
    "    for i in args:\n",
    "        result *= i         #곱\n",
    "    return sum,result       #Packing 하나로 묶기 "
   ]
  },
  {
   "cell_type": "code",
   "execution_count": 75,
   "id": "d6fd3682-ecec-486d-993e-0689d72bc472",
   "metadata": {
    "tags": []
   },
   "outputs": [
    {
     "data": {
      "text/plain": [
       "(8, 10)"
      ]
     },
     "execution_count": 75,
     "metadata": {},
     "output_type": "execute_result"
    }
   ],
   "source": [
    "add_mul(1,2,5)  #결과값을 묶어서 하나로 생각해서 반환 "
   ]
  },
  {
   "cell_type": "code",
   "execution_count": 77,
   "id": "de533987-6ac6-4d53-aabe-f63fdd8a04d6",
   "metadata": {
    "tags": []
   },
   "outputs": [
    {
     "name": "stdout",
     "output_type": "stream",
     "text": [
      "합은 10 , 곱은 24입니다 \n"
     ]
    }
   ],
   "source": [
    "a, b = add_mul(1,2,3,4)   #packing 분리 = unpacking \n",
    "print(f\"합은 {a} , 곱은 {b}입니다 \")"
   ]
  },
  {
   "cell_type": "code",
   "execution_count": 78,
   "id": "ae171f1e-7687-4f9e-806b-50713ccf0d41",
   "metadata": {
    "tags": []
   },
   "outputs": [],
   "source": [
    "## 변수의 효력범위 "
   ]
  },
  {
   "cell_type": "code",
   "execution_count": 79,
   "id": "2e8868a8-489c-4c31-a2f5-73e5a03592eb",
   "metadata": {
    "tags": []
   },
   "outputs": [],
   "source": [
    "a= 1\n",
    "def var_test():\n",
    "    b = 2\n",
    "    return a+b"
   ]
  },
  {
   "cell_type": "code",
   "execution_count": 82,
   "id": "109bb02a-7c42-469e-bfe3-135516f41c46",
   "metadata": {
    "tags": []
   },
   "outputs": [
    {
     "data": {
      "text/plain": [
       "3"
      ]
     },
     "execution_count": 82,
     "metadata": {},
     "output_type": "execute_result"
    }
   ],
   "source": [
    "var_test()"
   ]
  },
  {
   "cell_type": "code",
   "execution_count": 89,
   "id": "585a7f0b-abad-459f-94d0-a6a80d3eadca",
   "metadata": {
    "tags": []
   },
   "outputs": [
    {
     "name": "stdout",
     "output_type": "stream",
     "text": [
      "1\n"
     ]
    }
   ],
   "source": [
    "a= 1\n",
    "def var_test():\n",
    "    b = 2\n",
    "    a= 12     # 임시로 저장된 값 아직 print(a)  --> 1\n",
    "    return a+b\n",
    "var_test()\n",
    "print (a)"
   ]
  },
  {
   "cell_type": "code",
   "execution_count": 88,
   "id": "767c0a96-88b0-4ae1-9f12-b64e49ee1c8c",
   "metadata": {
    "tags": []
   },
   "outputs": [
    {
     "name": "stdout",
     "output_type": "stream",
     "text": [
      "12\n"
     ]
    }
   ],
   "source": [
    "a= 1    # 전역변수 global variable\n",
    "def var_test():\n",
    "    global a        #a 더이상 함수안에 임시저장 되있는 변수 X\n",
    "    b = 2           #직역변수 local <- 함수 안에 있는 변수 \n",
    "    a= 12\n",
    "    return a+b\n",
    "var_test()\n",
    "print (a)    \n",
    "#for문이랑 상관없음 ! 함수안에서만 통하는 얘기 "
   ]
  },
  {
   "cell_type": "code",
   "execution_count": 79,
   "id": "5ec817e5-8cc3-457c-85fe-98ef31f8f022",
   "metadata": {
    "tags": []
   },
   "outputs": [],
   "source": [
    "a= 1\n",
    "def var_test():\n",
    "    b = 2\n",
    "    return a+b"
   ]
  },
  {
   "cell_type": "code",
   "execution_count": 82,
   "id": "d280a1ac-3a07-436f-bc6c-3199ab51a50b",
   "metadata": {
    "tags": []
   },
   "outputs": [
    {
     "data": {
      "text/plain": [
       "3"
      ]
     },
     "execution_count": 82,
     "metadata": {},
     "output_type": "execute_result"
    }
   ],
   "source": [
    "var_test()"
   ]
  },
  {
   "cell_type": "code",
   "execution_count": 89,
   "id": "5db90ee9-4253-4c0b-afec-537150b4f495",
   "metadata": {
    "tags": []
   },
   "outputs": [
    {
     "name": "stdout",
     "output_type": "stream",
     "text": [
      "1\n"
     ]
    }
   ],
   "source": [
    "a= 1\n",
    "def var_test():\n",
    "    b = 2\n",
    "    a= 12     # 임시로 저장된 값 아직 print(a)  --> 1\n",
    "    return a+b\n",
    "var_test()\n",
    "print (a)"
   ]
  },
  {
   "cell_type": "code",
   "execution_count": 88,
   "id": "633cd2dc-0d0a-4159-8ba0-559281aa726f",
   "metadata": {
    "tags": []
   },
   "outputs": [
    {
     "name": "stdout",
     "output_type": "stream",
     "text": [
      "12\n"
     ]
    }
   ],
   "source": [
    "a= 1    # 전역변수 global variable\n",
    "def var_test():\n",
    "    global a        #a 더이상 함수안에 임시저장 되있는 변수 X\n",
    "    b = 2           #직역변수 local <- 함수 안에 있는 변수 \n",
    "    a= 12\n",
    "    return a+b\n",
    "var_test()\n",
    "print (a)    \n",
    "#for문이랑 상관없음 ! 함수안에서만 통하는 얘기 "
   ]
  },
  {
   "cell_type": "code",
   "execution_count": 92,
   "id": "2beb7871-9b89-445e-92db-33231a2204a0",
   "metadata": {
    "tags": []
   },
   "outputs": [],
   "source": [
    "#람다함수, anonymous\n",
    "#입력값 1개 받아서 2배 출력 \n",
    "def twice(a):\n",
    "    return a*2"
   ]
  },
  {
   "cell_type": "code",
   "execution_count": 91,
   "id": "dd60ce83-4ee0-4bf0-b3f0-303a9f35ae59",
   "metadata": {
    "tags": []
   },
   "outputs": [
    {
     "data": {
      "text/plain": [
       "4"
      ]
     },
     "execution_count": 91,
     "metadata": {},
     "output_type": "execute_result"
    }
   ],
   "source": [
    "var(2)"
   ]
  },
  {
   "cell_type": "code",
   "execution_count": 95,
   "id": "5e71e1a7-0f18-4acf-af5f-110f34ddb7ed",
   "metadata": {
    "tags": []
   },
   "outputs": [],
   "source": [
    "f= lambda a: a*2"
   ]
  },
  {
   "cell_type": "code",
   "execution_count": 96,
   "id": "6675d497-5ee4-423d-a4a4-dd06fdbbdde3",
   "metadata": {
    "tags": []
   },
   "outputs": [
    {
     "data": {
      "text/plain": [
       "6"
      ]
     },
     "execution_count": 96,
     "metadata": {},
     "output_type": "execute_result"
    }
   ],
   "source": [
    "f(3)"
   ]
  },
  {
   "cell_type": "code",
   "execution_count": 97,
   "id": "c58eb5d7-561a-48dc-a587-5d1f7534976b",
   "metadata": {
    "tags": []
   },
   "outputs": [
    {
     "data": {
      "text/plain": [
       "10"
      ]
     },
     "execution_count": 97,
     "metadata": {},
     "output_type": "execute_result"
    }
   ],
   "source": [
    "(lambda a: a*2)(5)"
   ]
  },
  {
   "cell_type": "code",
   "execution_count": 1,
   "id": "de9677e4-4bef-46fc-8d5b-ca4580d227f8",
   "metadata": {
    "tags": []
   },
   "outputs": [
    {
     "data": {
      "text/plain": [
       "5"
      ]
     },
     "execution_count": 1,
     "metadata": {},
     "output_type": "execute_result"
    }
   ],
   "source": [
    "(lambda a, b: a+b)(2,3)"
   ]
  },
  {
   "cell_type": "markdown",
   "id": "d01c70a5-3762-4957-a6be-4c3be849a9f9",
   "metadata": {},
   "source": [
    "## 재귀함수 \n",
    "\n",
    "-자기자신안에 들어감\n",
    "\n",
    "-0이 되면 종료되게 만들어줘야함 \n"
   ]
  },
  {
   "cell_type": "code",
   "execution_count": 1,
   "id": "e79a3119-b3db-4fff-a39c-0e1b2882a8f4",
   "metadata": {
    "tags": []
   },
   "outputs": [],
   "source": [
    "import time\n",
    "def hello():\n",
    "    print('Hello, world!')\n",
    "    time.sleep(1)\n",
    "    hello()"
   ]
  },
  {
   "cell_type": "code",
   "execution_count": 2,
   "id": "1c951299-a8ce-49b6-b478-de4398017b6e",
   "metadata": {
    "tags": []
   },
   "outputs": [
    {
     "name": "stdout",
     "output_type": "stream",
     "text": [
      "Hello, world!\n",
      "Hello, world!\n",
      "Hello, world!\n",
      "Hello, world!\n",
      "Hello, world!\n"
     ]
    },
    {
     "ename": "KeyboardInterrupt",
     "evalue": "",
     "output_type": "error",
     "traceback": [
      "\u001b[1;31m---------------------------------------------------------------------------\u001b[0m",
      "\u001b[1;31mKeyboardInterrupt\u001b[0m                         Traceback (most recent call last)",
      "Cell \u001b[1;32mIn[2], line 1\u001b[0m\n\u001b[1;32m----> 1\u001b[0m \u001b[43mhello\u001b[49m\u001b[43m(\u001b[49m\u001b[43m)\u001b[49m\n",
      "Cell \u001b[1;32mIn[1], line 5\u001b[0m, in \u001b[0;36mhello\u001b[1;34m()\u001b[0m\n\u001b[0;32m      3\u001b[0m \u001b[38;5;28mprint\u001b[39m(\u001b[38;5;124m'\u001b[39m\u001b[38;5;124mHello, world!\u001b[39m\u001b[38;5;124m'\u001b[39m)\n\u001b[0;32m      4\u001b[0m time\u001b[38;5;241m.\u001b[39msleep(\u001b[38;5;241m1\u001b[39m)\n\u001b[1;32m----> 5\u001b[0m \u001b[43mhello\u001b[49m\u001b[43m(\u001b[49m\u001b[43m)\u001b[49m\n",
      "Cell \u001b[1;32mIn[1], line 5\u001b[0m, in \u001b[0;36mhello\u001b[1;34m()\u001b[0m\n\u001b[0;32m      3\u001b[0m \u001b[38;5;28mprint\u001b[39m(\u001b[38;5;124m'\u001b[39m\u001b[38;5;124mHello, world!\u001b[39m\u001b[38;5;124m'\u001b[39m)\n\u001b[0;32m      4\u001b[0m time\u001b[38;5;241m.\u001b[39msleep(\u001b[38;5;241m1\u001b[39m)\n\u001b[1;32m----> 5\u001b[0m \u001b[43mhello\u001b[49m\u001b[43m(\u001b[49m\u001b[43m)\u001b[49m\n",
      "    \u001b[1;31m[... skipping similar frames: hello at line 5 (1 times)]\u001b[0m\n",
      "Cell \u001b[1;32mIn[1], line 5\u001b[0m, in \u001b[0;36mhello\u001b[1;34m()\u001b[0m\n\u001b[0;32m      3\u001b[0m \u001b[38;5;28mprint\u001b[39m(\u001b[38;5;124m'\u001b[39m\u001b[38;5;124mHello, world!\u001b[39m\u001b[38;5;124m'\u001b[39m)\n\u001b[0;32m      4\u001b[0m time\u001b[38;5;241m.\u001b[39msleep(\u001b[38;5;241m1\u001b[39m)\n\u001b[1;32m----> 5\u001b[0m \u001b[43mhello\u001b[49m\u001b[43m(\u001b[49m\u001b[43m)\u001b[49m\n",
      "Cell \u001b[1;32mIn[1], line 4\u001b[0m, in \u001b[0;36mhello\u001b[1;34m()\u001b[0m\n\u001b[0;32m      2\u001b[0m \u001b[38;5;28;01mdef\u001b[39;00m \u001b[38;5;21mhello\u001b[39m():\n\u001b[0;32m      3\u001b[0m     \u001b[38;5;28mprint\u001b[39m(\u001b[38;5;124m'\u001b[39m\u001b[38;5;124mHello, world!\u001b[39m\u001b[38;5;124m'\u001b[39m)\n\u001b[1;32m----> 4\u001b[0m     \u001b[43mtime\u001b[49m\u001b[38;5;241;43m.\u001b[39;49m\u001b[43msleep\u001b[49m\u001b[43m(\u001b[49m\u001b[38;5;241;43m1\u001b[39;49m\u001b[43m)\u001b[49m\n\u001b[0;32m      5\u001b[0m     hello()\n",
      "\u001b[1;31mKeyboardInterrupt\u001b[0m: "
     ]
    }
   ],
   "source": [
    "hello()"
   ]
  },
  {
   "cell_type": "code",
   "execution_count": 3,
   "id": "1e2d27ff-d315-4602-970e-7ea9bf1be9fc",
   "metadata": {},
   "outputs": [],
   "source": [
    "def hello(count):\n",
    "    if count == 0:\n",
    "        return\n",
    "    \n",
    "    print('Hello, world!')\n",
    "    time.sleep(1)\n",
    "    count -= 1\n",
    "    hello(count)"
   ]
  },
  {
   "cell_type": "code",
   "execution_count": 4,
   "id": "c1f22465-d595-49a5-afd6-3369dc2b5a37",
   "metadata": {},
   "outputs": [
    {
     "name": "stdout",
     "output_type": "stream",
     "text": [
      "Hello, world!\n",
      "Hello, world!\n",
      "Hello, world!\n",
      "Hello, world!\n",
      "Hello, world!\n"
     ]
    }
   ],
   "source": [
    "hello(5)"
   ]
  },
  {
   "cell_type": "code",
   "execution_count": 25,
   "id": "f5c72021-9644-414f-bfcf-81f737ca83f0",
   "metadata": {
    "tags": []
   },
   "outputs": [],
   "source": [
    "#factorial 구하기 \n",
    "def factorial(n):\n",
    "    if n ==1:\n",
    "        return 1 \n",
    "    return  n * factorial(n-1)\n",
    "\n",
    "  \n",
    "    "
   ]
  },
  {
   "cell_type": "code",
   "execution_count": 26,
   "id": "e35444e0-bc95-46ac-af22-f0f6aae98d8e",
   "metadata": {
    "tags": []
   },
   "outputs": [
    {
     "data": {
      "text/plain": [
       "120"
      ]
     },
     "execution_count": 26,
     "metadata": {},
     "output_type": "execute_result"
    }
   ],
   "source": [
    "factorial(5)"
   ]
  },
  {
   "cell_type": "code",
   "execution_count": 34,
   "id": "c279f4d4-22a9-4266-97a2-195dcb242fb0",
   "metadata": {
    "tags": []
   },
   "outputs": [],
   "source": [
    "#피보나치\n",
    "1,1,2,3,5,8,13,21\n",
    "def fib (n):\n",
    "    if n ==1 or n==2:\n",
    "        return 1\n",
    "    return fib (n-1) + fib(n-2)"
   ]
  },
  {
   "cell_type": "code",
   "execution_count": 35,
   "id": "4f8b2083-9093-4a68-b86e-a3521efefe8b",
   "metadata": {
    "tags": []
   },
   "outputs": [
    {
     "data": {
      "text/plain": [
       "120"
      ]
     },
     "execution_count": 35,
     "metadata": {},
     "output_type": "execute_result"
    }
   ],
   "source": [
    "factorial (5)"
   ]
  },
  {
   "cell_type": "code",
   "execution_count": 32,
   "id": "64aaaea7-bb97-4135-ad6b-52ea9aefb8ff",
   "metadata": {
    "tags": []
   },
   "outputs": [
    {
     "ename": "NameError",
     "evalue": "name 'fvb' is not defined",
     "output_type": "error",
     "traceback": [
      "\u001b[1;31m---------------------------------------------------------------------------\u001b[0m",
      "\u001b[1;31mNameError\u001b[0m                                 Traceback (most recent call last)",
      "Cell \u001b[1;32mIn[32], line 1\u001b[0m\n\u001b[1;32m----> 1\u001b[0m \u001b[43mfvb\u001b[49m(\u001b[38;5;241m5\u001b[39m)\u001b[38;5;241m+\u001b[39mfin(\u001b[38;5;241m4\u001b[39m) \u001b[38;5;241m+\u001b[39m(\u001b[38;5;241m5\u001b[39m\u001b[38;5;241m-\u001b[39m\u001b[38;5;241m2\u001b[39m)\n",
      "\u001b[1;31mNameError\u001b[0m: name 'fvb' is not defined"
     ]
    }
   ],
   "source": [
    "def fan(n):\n",
    "    result = 1\n",
    "    for i in range (1+,n+1):\n",
    "        result _*"
   ]
  },
  {
   "cell_type": "code",
   "execution_count": 36,
   "id": "67f88e12-76e4-49a9-ab6a-acab06e70f7d",
   "metadata": {
    "tags": []
   },
   "outputs": [],
   "source": [
    "\n",
    "\n",
    "def sum(*args):\n",
    "    result = 0\n",
    "    for i in args:\n",
    "        result +=i \n",
    "    return result\n",
    "        "
   ]
  },
  {
   "cell_type": "code",
   "execution_count": 37,
   "id": "6b4d8f89-02db-4010-8e84-c15f91124a92",
   "metadata": {
    "tags": []
   },
   "outputs": [
    {
     "data": {
      "text/plain": [
       "6"
      ]
     },
     "execution_count": 37,
     "metadata": {},
     "output_type": "execute_result"
    }
   ],
   "source": [
    "sum(1,2,3)"
   ]
  },
  {
   "cell_type": "markdown",
   "id": "4f96fde4-a20e-47e5-8065-bce45a99b1ad",
   "metadata": {},
   "source": [
    "## 입력과 출력 \n",
    "-객체를 만든다. \n",
    "-객채가 쓴다. \n",
    "-객체를 닫는다"
   ]
  },
  {
   "cell_type": "code",
   "execution_count": 56,
   "id": "1b5136fd-2ee1-44ff-926f-d33c46228513",
   "metadata": {
    "tags": []
   },
   "outputs": [],
   "source": [
    "f= open(\"test.text\", \"w\")  #읽기 r , 쓰기 w, 추가 a (추가는 전 내용이 안날라감)\n",
    "#있으면 열고 없으면 만듬 "
   ]
  },
  {
   "cell_type": "code",
   "execution_count": 57,
   "id": "60b49bd4-1b0e-4cf6-b8ea-d4f6dcfec63b",
   "metadata": {
    "tags": []
   },
   "outputs": [
    {
     "data": {
      "text/plain": [
       "_io.TextIOWrapper"
      ]
     },
     "execution_count": 57,
     "metadata": {},
     "output_type": "execute_result"
    }
   ],
   "source": [
    "type(f)"
   ]
  },
  {
   "cell_type": "code",
   "execution_count": 58,
   "id": "e8d54b9a-ba72-4d2e-bcf3-33a66f60e061",
   "metadata": {
    "tags": []
   },
   "outputs": [
    {
     "data": {
      "text/plain": [
       "20"
      ]
     },
     "execution_count": 58,
     "metadata": {},
     "output_type": "execute_result"
    }
   ],
   "source": [
    "f.write(\"Hello.\\nGood morning.\")"
   ]
  },
  {
   "cell_type": "code",
   "execution_count": 59,
   "id": "539abf11-6a92-4ef6-8eb7-36db93eef56c",
   "metadata": {
    "tags": []
   },
   "outputs": [],
   "source": [
    "f.close()"
   ]
  },
  {
   "cell_type": "code",
   "execution_count": 55,
   "id": "a1d0e4d0-9178-452c-a0e4-6af6a2bdde3a",
   "metadata": {
    "tags": []
   },
   "outputs": [
    {
     "data": {
      "text/plain": [
       "'C:\\\\Users\\\\user\\\\Desktop'"
      ]
     },
     "execution_count": 55,
     "metadata": {},
     "output_type": "execute_result"
    }
   ],
   "source": [
    "import os\n",
    "os.getcwd()"
   ]
  },
  {
   "cell_type": "code",
   "execution_count": 73,
   "id": "f761fbdf-ed03-4fb1-8b43-f87f12a78a40",
   "metadata": {
    "tags": []
   },
   "outputs": [],
   "source": [
    "f= open(\"test.text\", \"a\")\n",
    "for i in range (100,110):\n",
    "    f.write(f\" {i} Hello \\n\")\n",
    "f.close()"
   ]
  },
  {
   "cell_type": "code",
   "execution_count": 74,
   "id": "65929338-0a9c-477a-8d6b-5dd4827eb1f4",
   "metadata": {
    "tags": []
   },
   "outputs": [
    {
     "name": "stdout",
     "output_type": "stream",
     "text": [
      " 0 Hello \n",
      "\n"
     ]
    },
    {
     "data": {
      "text/plain": [
       "<function TextIOWrapper.close()>"
      ]
     },
     "execution_count": 74,
     "metadata": {},
     "output_type": "execute_result"
    }
   ],
   "source": [
    "#readline\n",
    "f= open(\"test.text\", \"r\")\n",
    "line = f.readline()\n",
    "print(line)\n",
    "f.close"
   ]
  },
  {
   "cell_type": "code",
   "execution_count": 77,
   "id": "918065d3-efdc-497a-bd30-01332a3c5643",
   "metadata": {
    "tags": []
   },
   "outputs": [
    {
     "name": "stdout",
     "output_type": "stream",
     "text": [
      "[' 0 Hello \\n', ' 1 Hello \\n', ' 2 Hello \\n', ' 3 Hello \\n', ' 4 Hello \\n', ' 5 Hello \\n', ' 6 Hello \\n', ' 7 Hello \\n', ' 8 Hello \\n', ' 9 Hello \\n', ' 100 Hello \\n', ' 101 Hello \\n', ' 102 Hello \\n', ' 103 Hello \\n', ' 104 Hello \\n', ' 105 Hello \\n', ' 106 Hello \\n', ' 107 Hello \\n', ' 108 Hello \\n', ' 109 Hello \\n', ' 100 Hello \\n', ' 101 Hello \\n', ' 102 Hello \\n', ' 103 Hello \\n', ' 104 Hello \\n', ' 105 Hello \\n', ' 106 Hello \\n', ' 107 Hello \\n', ' 108 Hello \\n', ' 109 Hello \\n']\n"
     ]
    },
    {
     "data": {
      "text/plain": [
       "<function TextIOWrapper.close()>"
      ]
     },
     "execution_count": 77,
     "metadata": {},
     "output_type": "execute_result"
    }
   ],
   "source": [
    "f= open(\"test.text\", \"r\")\n",
    "lines = f.readlines()\n",
    "print(line)\n",
    "f.close"
   ]
  },
  {
   "cell_type": "code",
   "execution_count": 83,
   "id": "ec000374-d34f-4430-a16d-31266e57ee2f",
   "metadata": {
    "tags": []
   },
   "outputs": [
    {
     "name": "stdout",
     "output_type": "stream",
     "text": [
      " 0 Hello \n",
      " 1 Hello \n",
      " 2 Hello \n",
      " 3 Hello \n",
      " 4 Hello \n",
      " 5 Hello \n",
      " 6 Hello \n",
      " 7 Hello \n",
      " 8 Hello \n",
      " 9 Hello \n",
      " 100 Hello \n",
      " 101 Hello \n",
      " 102 Hello \n",
      " 103 Hello \n",
      " 104 Hello \n",
      " 105 Hello \n",
      " 106 Hello \n",
      " 107 Hello \n",
      " 108 Hello \n",
      " 109 Hello \n",
      " 100 Hello \n",
      " 101 Hello \n",
      " 102 Hello \n",
      " 103 Hello \n",
      " 104 Hello \n",
      " 105 Hello \n",
      " 106 Hello \n",
      " 107 Hello \n",
      " 108 Hello \n",
      " 109 Hello \n"
     ]
    },
    {
     "data": {
      "text/plain": [
       "<function TextIOWrapper.close()>"
      ]
     },
     "execution_count": 83,
     "metadata": {},
     "output_type": "execute_result"
    }
   ],
   "source": [
    "f= open(\"test.text\", \"r\")\n",
    "lines = f.readlines()\n",
    "for line in lines:\n",
    "    print(line, end= \"\") # end로 역슬래시 지워서 덜 띄엄띄엄 읽힘, \n",
    "f.close () "
   ]
  },
  {
   "cell_type": "code",
   "execution_count": 85,
   "id": "40da2ba3-756a-44d7-85a7-256fc8dd98b3",
   "metadata": {
    "tags": []
   },
   "outputs": [
    {
     "name": "stdout",
     "output_type": "stream",
     "text": [
      " 0 Hello \n",
      " 1 Hello \n",
      " 2 Hello \n",
      " 3 Hello \n",
      " 4 Hello \n",
      " 5 Hello \n",
      " 6 Hello \n",
      " 7 Hello \n",
      " 8 Hello \n",
      " 9 Hello \n",
      " 100 Hello \n",
      " 101 Hello \n",
      " 102 Hello \n",
      " 103 Hello \n",
      " 104 Hello \n",
      " 105 Hello \n",
      " 106 Hello \n",
      " 107 Hello \n",
      " 108 Hello \n",
      " 109 Hello \n",
      " 100 Hello \n",
      " 101 Hello \n",
      " 102 Hello \n",
      " 103 Hello \n",
      " 104 Hello \n",
      " 105 Hello \n",
      " 106 Hello \n",
      " 107 Hello \n",
      " 108 Hello \n",
      " 109 Hello \n",
      "\n"
     ]
    }
   ],
   "source": [
    "f= open(\"test.text\", \"r\")\n",
    "data= f.read()\n",
    "print(data)\n",
    "f.close ()"
   ]
  },
  {
   "cell_type": "code",
   "execution_count": 118,
   "id": "5df5be13-a3a0-4e88-aa29-569f96623b28",
   "metadata": {
    "tags": []
   },
   "outputs": [
    {
     "name": "stdout",
     "output_type": "stream",
     "text": [
      "['Good Morning \\n', ' Good Afternoon \\n', ' Good evening']\n",
      "['Good Morning \\n', ' Good Afternoon \\n', ' Good evening']\n",
      "['Good Morning \\n', ' Good Afternoon \\n', ' Good evening']\n"
     ]
    }
   ],
   "source": [
    "f2= open(\"test2.text\", \"w\")\n",
    "f2.write(\"Good Morning\\n\"\"Good Afternoon\\n\"\"Good Evening\")\n",
    "f2.close()\n",
    "\n",
    "f3= open(\"test.text\", \"r\")\n",
    "lines = f3.readlines()\n",
    "for line in lines:\n",
    "    line= line.rstrip()\n",
    "    print(lines)\n",
    "f3.close()\n"
   ]
  },
  {
   "cell_type": "code",
   "execution_count": 108,
   "id": "94a31031-894f-4a7c-a825-1aa1dcb6b000",
   "metadata": {
    "tags": []
   },
   "outputs": [
    {
     "name": "stdout",
     "output_type": "stream",
     "text": [
      "GOOD MORNING\n",
      "GOOD AFTERNOON\n",
      "GOOD EVENING\n"
     ]
    }
   ],
   "source": [
    "fw = open(\"test.txt\", \"w\")\n",
    "fw.write(\"Good Morning\\n\"\"Good Afternoon\\n\"\"Good Evening\")\n",
    "fw.close()\n",
    "\n",
    "\n",
    "fr = open(\"test.txt\", \"r\")\n",
    "lines = fr.readlines()\n",
    "for line in lines:\n",
    "    line = line.rstrip()\n",
    "    line= line.upper()\n",
    "    print(line)\n",
    "fr.close() "
   ]
  },
  {
   "cell_type": "code",
   "execution_count": 119,
   "id": "48a116f4-3d8a-4705-884a-71b3b1f330ba",
   "metadata": {
    "tags": []
   },
   "outputs": [
    {
     "name": "stdout",
     "output_type": "stream",
     "text": [
      "GOOD MORNING\n",
      "GOOD AFTERNOON\n",
      "GOOD EVENING\n"
     ]
    }
   ],
   "source": [
    "#with 구문 , close 안해도돼. with 로 시작 as 파일: \n",
    "with open(\"test.txt\", \"w\") as f:\n",
    "    f.write(\"Good Morning\\n\"\"Good Afternoon\\n\"\"Good Evening\")\n",
    "    \n",
    "    \n",
    "with open (\"test.txt\", \"r\") as fr: \n",
    "    lines = fr.readlines()\n",
    "    for line in lines:\n",
    "        line = line.rstrip()\n",
    "        line= line.upper()\n",
    "        print(line)\n"
   ]
  },
  {
   "cell_type": "code",
   "execution_count": null,
   "id": "43fe125a-da16-48e4-9ab0-88e336168b07",
   "metadata": {},
   "outputs": [],
   "source": []
  }
 ],
 "metadata": {
  "kernelspec": {
   "display_name": "Python 3 (ipykernel)",
   "language": "python",
   "name": "python3"
  },
  "language_info": {
   "codemirror_mode": {
    "name": "ipython",
    "version": 3
   },
   "file_extension": ".py",
   "mimetype": "text/x-python",
   "name": "python",
   "nbconvert_exporter": "python",
   "pygments_lexer": "ipython3",
   "version": "3.10.9"
  }
 },
 "nbformat": 4,
 "nbformat_minor": 5
}
