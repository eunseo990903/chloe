{
 "cells": [
  {
   "cell_type": "code",
   "execution_count": 6,
   "id": "16b95251-46b8-46ab-bec8-a00b2397f03b",
   "metadata": {
    "tags": []
   },
   "outputs": [
    {
     "name": "stdout",
     "output_type": "stream",
     "text": [
      "happy swim apple\n",
      "fall busy cry\n"
     ]
    },
    {
     "name": "stderr",
     "output_type": "stream",
     "text": [
      "[nltk_data] Downloading package wordnet to\n",
      "[nltk_data]     C:\\Users\\user\\AppData\\Roaming\\nltk_data...\n",
      "[nltk_data]   Package wordnet is already up-to-date!\n"
     ]
    }
   ],
   "source": [
    "from nltk.stem import WordNetLemmatizer\n",
    "import nltk\n",
    "nltk.download('wordnet')\n",
    "\n",
    "lemma = WordNetLemmatizer()\n",
    "print(lemma.lemmatize('happiest','a'),lemma.lemmatize('swam','v'),lemma.lemmatize('apples','n'))\n",
    "print(lemma.lemmatize('fallen','v'),lemma.lemmatize('busier','a'),lemma.lemmatize('cries','v'))\n"
   ]
  },
  {
   "cell_type": "code",
   "execution_count": 8,
   "id": "3cd4fa10-7682-4ee8-94b3-2bd11e6cf3df",
   "metadata": {
    "tags": []
   },
   "outputs": [
    {
     "name": "stdout",
     "output_type": "stream",
     "text": [
      "happy\n",
      "swim\n",
      "apple\n",
      "fall\n",
      "busy\n",
      "cry\n"
     ]
    }
   ],
   "source": [
    "#FOR 문 \n",
    "from nltk.stem import WordNetLemmatizer \n",
    "words={'happiest':'a','swam':'v','apples':'n','fallen':'v','busier':'a','cries':'v'}\n",
    "lemmatizer = WordNetLemmatizer()\n",
    "for i,j in words.items():\n",
    "    print(lemmatizer.lemmatize(i,j)) "
   ]
  },
  {
   "cell_type": "code",
   "execution_count": 17,
   "id": "239225c9-ed59-4da8-8612-33ea222a8333",
   "metadata": {
    "tags": []
   },
   "outputs": [
    {
     "data": {
      "text/plain": [
       "0.7761140001162655"
      ]
     },
     "execution_count": 17,
     "metadata": {},
     "output_type": "execute_result"
    }
   ],
   "source": [
    "#코사인 유사도 a=(3,4) b=(4,1 )\n",
    "import numpy as np\n",
    "(np.array((3,4))@np.array((4,1))) / (np.sqrt(25) * np.sqrt(17)) "
   ]
  },
  {
   "cell_type": "code",
   "execution_count": 25,
   "id": "5d5a353f-4809-49fc-a8e8-6d1c7c40b6af",
   "metadata": {},
   "outputs": [
    {
     "name": "stdout",
     "output_type": "stream",
     "text": [
      "Collecting scikit-surprise\n",
      "  Using cached scikit-surprise-1.1.3.tar.gz (771 kB)\n",
      "  Preparing metadata (setup.py): started\n",
      "  Preparing metadata (setup.py): finished with status 'done'\n",
      "Requirement already satisfied: joblib>=1.0.0 in c:\\users\\user\\appdata\\local\\programs\\python\\python310\\lib\\site-packages (from scikit-surprise) (1.2.0)\n",
      "Requirement already satisfied: numpy>=1.17.3 in c:\\users\\user\\appdata\\local\\programs\\python\\python310\\lib\\site-packages (from scikit-surprise) (1.24.2)\n",
      "Requirement already satisfied: scipy>=1.3.2 in c:\\users\\user\\appdata\\local\\programs\\python\\python310\\lib\\site-packages (from scikit-surprise) (1.10.1)\n",
      "Building wheels for collected packages: scikit-surprise\n",
      "  Building wheel for scikit-surprise (setup.py): started\n",
      "  Building wheel for scikit-surprise (setup.py): finished with status 'done'\n",
      "  Created wheel for scikit-surprise: filename=scikit_surprise-1.1.3-cp310-cp310-win_amd64.whl size=1083753 sha256=8bdebe3ca389a80da7b3fda08c420122eaafc655e54c6dd6f33af6bee8c28d46\n",
      "  Stored in directory: c:\\users\\user\\appdata\\local\\pip\\cache\\wheels\\a5\\ca\\a8\\4e28def53797fdc4363ca4af740db15a9c2f1595ebc51fb445\n",
      "Successfully built scikit-surprise\n",
      "Installing collected packages: scikit-surprise\n",
      "Successfully installed scikit-surprise-1.1.3\n"
     ]
    }
   ],
   "source": [
    "!pip install scikit-surprise"
   ]
  },
  {
   "cell_type": "markdown",
   "id": "3dc771c9-c84c-4013-9d36-3a2848831087",
   "metadata": {},
   "source": [
    "### 서프라이즈 패키지"
   ]
  },
  {
   "cell_type": "code",
   "execution_count": 47,
   "id": "77f33b6e-ec69-46e2-b86a-b60319559347",
   "metadata": {
    "tags": []
   },
   "outputs": [],
   "source": [
    "from surprise import SVD, Dataset, accuracy \n",
    "from surprise.model_selection import train_test_split"
   ]
  },
  {
   "cell_type": "code",
   "execution_count": 48,
   "id": "5b3fdccc-13be-4a30-b06a-43664ef9d6aa",
   "metadata": {
    "tags": []
   },
   "outputs": [],
   "source": [
    "data=Dataset.load_builtin('ml-100k')"
   ]
  },
  {
   "cell_type": "code",
   "execution_count": 49,
   "id": "373dd667-4cf7-4b8e-b2b5-a3b111f37975",
   "metadata": {
    "tags": []
   },
   "outputs": [],
   "source": [
    "trainset, testset= train_test_split(data, test_size=.25, random_state=0)"
   ]
  },
  {
   "cell_type": "code",
   "execution_count": 50,
   "id": "54e607d5-1f05-423d-8dcf-1dea586282ce",
   "metadata": {
    "tags": []
   },
   "outputs": [
    {
     "data": {
      "text/plain": [
       "<surprise.prediction_algorithms.matrix_factorization.SVD at 0x2066330c490>"
      ]
     },
     "execution_count": 50,
     "metadata": {},
     "output_type": "execute_result"
    }
   ],
   "source": [
    "algo=SVD(random_state=0)\n",
    "algo.fit(trainset)"
   ]
  },
  {
   "cell_type": "markdown",
   "id": "690b48a4-bb60-4ab3-871d-0e96f0f49805",
   "metadata": {},
   "source": [
    "* test method "
   ]
  },
  {
   "cell_type": "code",
   "execution_count": 51,
   "id": "7cf9ec0c-a013-42d8-8fcc-e305599b24ef",
   "metadata": {
    "tags": []
   },
   "outputs": [
    {
     "name": "stdout",
     "output_type": "stream",
     "text": [
      "pred type: <class 'list'> size: 25000\n"
     ]
    },
    {
     "data": {
      "text/plain": [
       "[Prediction(uid='120', iid='282', r_ui=4.0, est=3.5114147666251547, details={'was_impossible': False}),\n",
       " Prediction(uid='882', iid='291', r_ui=4.0, est=3.573872419581491, details={'was_impossible': False}),\n",
       " Prediction(uid='535', iid='507', r_ui=5.0, est=4.033583485472447, details={'was_impossible': False}),\n",
       " Prediction(uid='697', iid='244', r_ui=5.0, est=3.8463639495936905, details={'was_impossible': False}),\n",
       " Prediction(uid='751', iid='385', r_ui=4.0, est=3.1807542478219157, details={'was_impossible': False})]"
      ]
     },
     "execution_count": 51,
     "metadata": {},
     "output_type": "execute_result"
    }
   ],
   "source": [
    "pred=algo.test(testset)\n",
    "print('pred type:', type(pred), 'size:',len(pred))\n",
    "pred[:5]\n",
    "#사용자 아이디 uid, 영화 아이디 iid, 실제평점 rui , 예측 est, waspossible=True: 예측불가 "
   ]
  },
  {
   "cell_type": "code",
   "execution_count": 52,
   "id": "b50a926d-eded-4622-b461-b08cde4284fc",
   "metadata": {
    "tags": []
   },
   "outputs": [
    {
     "data": {
      "text/plain": [
       "[('120', '282', 3.5114147666251547),\n",
       " ('882', '291', 3.573872419581491),\n",
       " ('535', '507', 4.033583485472447)]"
      ]
     },
     "execution_count": 52,
     "metadata": {},
     "output_type": "execute_result"
    }
   ],
   "source": [
    "[(pre.uid,pre.iid,pre.est) for pre in pred[:3]]"
   ]
  },
  {
   "cell_type": "markdown",
   "id": "5ff4e74d-269c-4222-acc2-eafe2ff2fdfd",
   "metadata": {},
   "source": [
    "* predict () 메서드 "
   ]
  },
  {
   "cell_type": "code",
   "execution_count": 53,
   "id": "dc629894-07fd-417d-96c7-e04b364a9e79",
   "metadata": {
    "tags": []
   },
   "outputs": [
    {
     "data": {
      "text/plain": [
       "Prediction(uid='196', iid='302', r_ui=None, est=4.494386477040736, details={'was_impossible': False})"
      ]
     },
     "execution_count": 53,
     "metadata": {},
     "output_type": "execute_result"
    }
   ],
   "source": [
    "#uid, iid 문자열입력\n",
    "#uid, iid 를 입력하면 est 예측 \n",
    "uid=str(196)\n",
    "iid=str(302)\n",
    "prediction=algo.predict(uid,iid)\n",
    "prediction"
   ]
  },
  {
   "cell_type": "code",
   "execution_count": 54,
   "id": "422f9ee9-f72a-41d3-a7f5-f596f7180204",
   "metadata": {
    "tags": []
   },
   "outputs": [
    {
     "name": "stdout",
     "output_type": "stream",
     "text": [
      "RMSE: 0.9467\n"
     ]
    },
    {
     "data": {
      "text/plain": [
       "0.9466860806937948"
      ]
     },
     "execution_count": 54,
     "metadata": {},
     "output_type": "execute_result"
    }
   ],
   "source": [
    "#accuracy 모듈 : rmse , mse 추천 시스템 성능 평가 정보\n",
    "accuracy.rmse(pred)"
   ]
  }
 ],
 "metadata": {
  "kernelspec": {
   "display_name": "Python 3 (ipykernel)",
   "language": "python",
   "name": "python3"
  },
  "language_info": {
   "codemirror_mode": {
    "name": "ipython",
    "version": 3
   },
   "file_extension": ".py",
   "mimetype": "text/x-python",
   "name": "python",
   "nbconvert_exporter": "python",
   "pygments_lexer": "ipython3",
   "version": "3.10.9"
  }
 },
 "nbformat": 4,
 "nbformat_minor": 5
}
