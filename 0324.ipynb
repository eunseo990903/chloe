{
 "cells": [
  {
   "cell_type": "code",
   "execution_count": 16,
   "id": "54d42021-5b69-4111-a9e4-9ba6609780f7",
   "metadata": {
    "tags": []
   },
   "outputs": [
    {
     "data": {
      "text/plain": [
       "[1, 3, 9]"
      ]
     },
     "execution_count": 16,
     "metadata": {},
     "output_type": "execute_result"
    }
   ],
   "source": [
    "#6의 약수 for문 \n",
    "def 약수(number):\n",
    "    li=[]\n",
    "    for i in range(1,number+1):\n",
    "        if number%i==0:\n",
    "           li.append(i)\n",
    "    return(li)\n",
    "\n",
    "약수(9)"
   ]
  },
  {
   "cell_type": "code",
   "execution_count": 15,
   "id": "fd096ea5-a73b-41f9-ba52-727b7ef5cc7e",
   "metadata": {
    "tags": []
   },
   "outputs": [
    {
     "data": {
      "text/plain": [
       "[1, 3, 9]"
      ]
     },
     "execution_count": 15,
     "metadata": {},
     "output_type": "execute_result"
    }
   ],
   "source": [
    "#while문 사용\n",
    "def 약수(num):\n",
    "    li = []\n",
    "    i=0\n",
    "    while i<num:\n",
    "        i+=1\n",
    "        if num % i == 0:\n",
    "            li.append(i)\n",
    "    return li \n",
    "약수(9)"
   ]
  },
  {
   "cell_type": "code",
   "execution_count": 24,
   "id": "2da582f6-7f65-4421-b067-525cbe9655d6",
   "metadata": {
    "tags": []
   },
   "outputs": [
    {
     "name": "stdout",
     "output_type": "stream",
     "text": [
      "80\n",
      "87\n",
      "90\n"
     ]
    }
   ],
   "source": [
    "data = [[\"영자\", \"옥순\", \"광수\", \"순자\"],\n",
    "[80, 87, 85, 90],\n",
    "[\"여자\",\"여자\",\"남자\",\"여자\"]] \n",
    "li=[]\n",
    "for i in range(4):\n",
    "    if data[2][i]=='여자':\n",
    "        print(data[1][i])\n"
   ]
  },
  {
   "cell_type": "code",
   "execution_count": 23,
   "id": "a9a57d49-f9b8-446b-8266-8592a6f1a042",
   "metadata": {
    "tags": []
   },
   "outputs": [
    {
     "data": {
      "text/plain": [
       "[80, 87, 90]"
      ]
     },
     "execution_count": 23,
     "metadata": {},
     "output_type": "execute_result"
    }
   ],
   "source": [
    "[(data[1][i]) for i in range(4)  if data [2][i]=='여자']"
   ]
  },
  {
   "cell_type": "code",
   "execution_count": 28,
   "id": "f333730c-d6d9-40cf-8bd2-a60c84b5a219",
   "metadata": {
    "tags": []
   },
   "outputs": [
    {
     "data": {
      "text/plain": [
       "['hot americano', 'hot tea', 'hot milk']"
      ]
     },
     "execution_count": 28,
     "metadata": {},
     "output_type": "execute_result"
    }
   ],
   "source": [
    "data='''\n",
    "ice americano\n",
    "hot americano\n",
    "ice tea\n",
    "hot tea\n",
    "ice milk\n",
    "hot milk\n",
    "''' \n",
    "import re\n",
    "p=re.compile(\"hot\\s\\w*\")\n",
    "p.findall(data)\n"
   ]
  },
  {
   "cell_type": "code",
   "execution_count": 32,
   "id": "62c80c8c-b5b1-4bac-b293-eb350e65e4d9",
   "metadata": {
    "tags": []
   },
   "outputs": [
    {
     "data": {
      "text/plain": [
       "['hot americano']"
      ]
     },
     "execution_count": 32,
     "metadata": {},
     "output_type": "execute_result"
    }
   ],
   "source": [
    "data='''\n",
    "ice americano\n",
    "hot americano\n",
    "ice tea\n",
    "tea hot\n",
    "ice milk\n",
    "milk hot\n",
    "''' \n",
    "import re\n",
    "p=re.compile(\"hot \\w+\", re.M)\n",
    "p.findall(data)\n"
   ]
  },
  {
   "cell_type": "code",
   "execution_count": 34,
   "id": "b42fd50a-f8b2-4b34-93b5-1be8cea8f46c",
   "metadata": {
    "tags": []
   },
   "outputs": [
    {
     "data": {
      "text/plain": [
       "['hot americano']"
      ]
     },
     "execution_count": 34,
     "metadata": {},
     "output_type": "execute_result"
    }
   ],
   "source": [
    "p = re.compile(\"^hot\\s\\w*\",re.M)\n",
    "p.findall(data) "
   ]
  },
  {
   "cell_type": "code",
   "execution_count": 62,
   "id": "3bf45889-7b55-49f9-9f50-fb469bfa2eb9",
   "metadata": {
    "tags": []
   },
   "outputs": [
    {
     "data": {
      "text/plain": [
       "12"
      ]
     },
     "execution_count": 62,
     "metadata": {},
     "output_type": "execute_result"
    }
   ],
   "source": [
    "#최소공배수\n",
    "\n",
    "def LCM(a,b):\n",
    "    li=[]\n",
    "    for i in range(max(a,b),a*b+1):\n",
    "        if i%a  ==0 and i%b==0:\n",
    "            li.append(i)\n",
    "    return min(li)\n",
    "\n",
    "LCM(4,6)"
   ]
  },
  {
   "cell_type": "code",
   "execution_count": 71,
   "id": "892659ed-410e-410d-8510-ae67b0adb902",
   "metadata": {
    "tags": []
   },
   "outputs": [
    {
     "data": {
      "text/plain": [
       "[2, 4, 6, 8]"
      ]
     },
     "execution_count": 71,
     "metadata": {},
     "output_type": "execute_result"
    }
   ],
   "source": [
    "#2배 만들기, 람다로\n",
    "li=[1,2,3,4]\n",
    "def twice(n):\n",
    "    return 2*n\n",
    "\n",
    "list(map(twice,li))\n",
    "#lambda 사용 \n",
    "list(map(lambda x: x*2 ,li))"
   ]
  },
  {
   "cell_type": "code",
   "execution_count": 72,
   "id": "b119224d-bafd-414a-8aa2-bf19f8bd41bf",
   "metadata": {
    "tags": []
   },
   "outputs": [
    {
     "data": {
      "text/plain": [
       "[1, 2, 3, 4]"
      ]
     },
     "execution_count": 72,
     "metadata": {},
     "output_type": "execute_result"
    }
   ],
   "source": [
    "#문자열을 숫자로 바꿈 \n",
    "li = ['1','2','3','4']\n",
    "list(map(int,li))"
   ]
  },
  {
   "cell_type": "code",
   "execution_count": 73,
   "id": "d7eb4ab9-6386-4254-8ede-c566ef6b2fb2",
   "metadata": {
    "tags": []
   },
   "outputs": [
    {
     "data": {
      "text/plain": [
       "[5, 12, 21, 32]"
      ]
     },
     "execution_count": 73,
     "metadata": {},
     "output_type": "execute_result"
    }
   ],
   "source": [
    "num1=[1,2,3,4]\n",
    "num2= [5,6,7,8]\n",
    "\n",
    "list(map(lambda x,y: x*y, num1,num2))"
   ]
  },
  {
   "cell_type": "code",
   "execution_count": 78,
   "id": "db84b5cd-e6d5-4cf8-a4cb-dc3c28cac63f",
   "metadata": {
    "tags": []
   },
   "outputs": [
    {
     "data": {
      "text/plain": [
       "['H', 'E', 'L', 'L', 'O']"
      ]
     },
     "execution_count": 78,
     "metadata": {},
     "output_type": "execute_result"
    }
   ],
   "source": [
    " \"Hello\"\n",
    "a=list(map(str.upper,\"Hello\"))\n",
    "a"
   ]
  },
  {
   "cell_type": "code",
   "execution_count": null,
   "id": "1d58bc9e-6ae3-4ae1-8235-61b874657a65",
   "metadata": {},
   "outputs": [],
   "source": []
  },
  {
   "cell_type": "markdown",
   "id": "3a5b3f67-d6ac-45d7-bcf5-def1ee8f68c2",
   "metadata": {},
   "source": [
    "#"
   ]
  },
  {
   "cell_type": "code",
   "execution_count": 1,
   "id": "d796f7dd-f5df-4462-9620-2fd2fd3e524e",
   "metadata": {
    "tags": []
   },
   "outputs": [],
   "source": [
    "def add(a,b):\n",
    "    \"\"\"\n",
    "    이것은 여러줄 주석이다.\n",
    "    \"\"\"\n",
    "    return a+b"
   ]
  },
  {
   "cell_type": "code",
   "execution_count": 7,
   "id": "814b8058-56e4-4e28-a4b8-270b183e23d8",
   "metadata": {
    "tags": []
   },
   "outputs": [
    {
     "data": {
      "text/plain": [
       "3"
      ]
     },
     "execution_count": 7,
     "metadata": {},
     "output_type": "execute_result"
    }
   ],
   "source": [
    "add(1,2)"
   ]
  },
  {
   "cell_type": "code",
   "execution_count": 8,
   "id": "f20d92f0-93d2-4120-9997-1185a09bc1b2",
   "metadata": {
    "tags": []
   },
   "outputs": [
    {
     "ename": "SyntaxError",
     "evalue": "invalid syntax (3365453446.py, line 1)",
     "output_type": "error",
     "traceback": [
      "\u001b[1;36m  Cell \u001b[1;32mIn[8], line 1\u001b[1;36m\u001b[0m\n\u001b[1;33m    add?? #함수코드\u001b[0m\n\u001b[1;37m       ^\u001b[0m\n\u001b[1;31mSyntaxError\u001b[0m\u001b[1;31m:\u001b[0m invalid syntax\n"
     ]
    }
   ],
   "source": [
    "add?? #함수코드 "
   ]
  },
  {
   "cell_type": "code",
   "execution_count": 6,
   "id": "80aa061e-cfc1-438c-a7ad-5d2275b58afd",
   "metadata": {
    "tags": []
   },
   "outputs": [],
   "source": [
    "x=5\n",
    "y=7\n",
    "if x>5:\n",
    "    x+=1\n",
    "    y=8"
   ]
  },
  {
   "cell_type": "code",
   "execution_count": 6,
   "id": "aaa1bcd4-67bc-4d30-b2ed-2a523566593f",
   "metadata": {
    "tags": []
   },
   "outputs": [
    {
     "name": "stderr",
     "output_type": "stream",
     "text": [
      "UsageError: Line magic function `%paste` not found.\n"
     ]
    }
   ],
   "source": [
    "%paste"
   ]
  },
  {
   "cell_type": "code",
   "execution_count": 5,
   "id": "f8f334db-7eea-49a5-8a6f-3974bff4d66b",
   "metadata": {
    "tags": []
   },
   "outputs": [
    {
     "data": {
      "text/plain": [
       "array([[ 1.52328115,  0.92875019, -0.24313696, ...,  0.07836143,\n",
       "        -0.61004035,  0.35496109],\n",
       "       [-0.39134663, -1.09591983, -0.84851655, ...,  0.85565528,\n",
       "        -1.46320996, -0.96394143],\n",
       "       [ 0.49885164, -0.03904067, -2.07913106, ..., -0.7275462 ,\n",
       "         0.26425134,  0.69579549],\n",
       "       ...,\n",
       "       [ 0.62893043, -0.72512616,  0.71692614, ..., -0.76108515,\n",
       "        -1.21131989,  0.06272501],\n",
       "       [ 0.7905943 , -1.33653894,  0.68797432, ..., -1.02342254,\n",
       "         0.19297399, -0.0345455 ],\n",
       "       [-0.99661057, -0.05128122,  0.88651376, ...,  0.49267183,\n",
       "         0.96457611, -0.98824724]])"
      ]
     },
     "execution_count": 5,
     "metadata": {},
     "output_type": "execute_result"
    }
   ],
   "source": [
    "import numpy as np\n",
    "import time\n",
    "a= np.random.randn(100,100)\n",
    "a"
   ]
  },
  {
   "cell_type": "code",
   "execution_count": 4,
   "id": "9f024946-a4fc-4076-98a6-5d935d5f5240",
   "metadata": {
    "tags": []
   },
   "outputs": [
    {
     "name": "stdout",
     "output_type": "stream",
     "text": [
      "19 µs ± 3.11 µs per loop (mean ± std. dev. of 7 runs, 100,000 loops each)\n"
     ]
    }
   ],
   "source": [
    "%timeit np.dot(a,a)"
   ]
  },
  {
   "cell_type": "code",
   "execution_count": 1,
   "id": "acb947b4-7045-40b3-8062-24720c0eb67a",
   "metadata": {},
   "outputs": [
    {
     "data": {
      "text/plain": [
       "[<matplotlib.lines.Line2D at 0x1a682633520>]"
      ]
     },
     "execution_count": 1,
     "metadata": {},
     "output_type": "execute_result"
    },
    {
     "data": {
      "image/png": "[encoded data removed]",
      "text/plain": [
       "<Figure size 640x480 with 1 Axes>"
      ]
     },
     "metadata": {},
     "output_type": "display_data"
    }
   ],
   "source": [
    "import numpy as np\n",
    "import matplotlib.pyplot as plt\n",
    "plt.plot(np.random.randn(50).cumsum()) "
   ]
  },
  {
   "cell_type": "code",
   "execution_count": 11,
   "id": "6391a8a0-c4df-41dc-a582-0fe9ac4aa582",
   "metadata": {},
   "outputs": [
    {
     "name": "stdout",
     "output_type": "stream",
     "text": [
      "1814700909376\n",
      "1814700909376\n",
      "True\n"
     ]
    }
   ],
   "source": [
    "a=[1,2,3]\n",
    "b=a\n",
    "#b.remove(3)\n",
    "b\n",
    "print(id(a))\n",
    "print(id(b))\n",
    "print(a is b)"
   ]
  },
  {
   "cell_type": "code",
   "execution_count": 12,
   "id": "126fcb86-52cd-40bb-9b6c-eb2946b3b5b2",
   "metadata": {},
   "outputs": [
    {
     "data": {
      "text/plain": [
       "['10', 1, 2, 3]"
      ]
     },
     "execution_count": 12,
     "metadata": {},
     "output_type": "execute_result"
    }
   ],
   "source": [
    "a.insert(0,'10')\n",
    "a"
   ]
  },
  {
   "cell_type": "code",
   "execution_count": 12,
   "id": "70462d67-1ec5-4493-a1d3-27f247421883",
   "metadata": {},
   "outputs": [
    {
     "data": {
      "text/plain": [
       "['10', 1, 2, 3]"
      ]
     },
     "execution_count": 12,
     "metadata": {},
     "output_type": "execute_result"
    }
   ],
   "source": [
    "a.insert(0,'10')\n",
    "a"
   ]
  },
  {
   "cell_type": "code",
   "execution_count": 12,
   "id": "631d33b1-7fd6-430c-ae83-fd6c055b1816",
   "metadata": {},
   "outputs": [
    {
     "data": {
      "text/plain": [
       "['10', 1, 2, 3]"
      ]
     },
     "execution_count": 12,
     "metadata": {},
     "output_type": "execute_result"
    }
   ],
   "source": [
    "a.insert(0,'10')\n",
    "a"
   ]
  },
  {
   "cell_type": "code",
   "execution_count": 28,
   "id": "cdf12b25-91a1-496c-a084-3016fda3468d",
   "metadata": {},
   "outputs": [],
   "source": [
    "#c가 있을수도 없을수도 있으므로 if 절과 none \n",
    "def test (a,b, c= None):\n",
    "    result = a+b\n",
    "    if c is not None:\n",
    "        result= (a+b)*c\n",
    "    return result"
   ]
  },
  {
   "cell_type": "code",
   "execution_count": 29,
   "id": "722b9e51-eb96-4b82-b315-a790b29c40e8",
   "metadata": {},
   "outputs": [
    {
     "data": {
      "text/plain": [
       "35"
      ]
     },
     "execution_count": 29,
     "metadata": {},
     "output_type": "execute_result"
    }
   ],
   "source": [
    "\n",
    "test(2,3,7)"
   ]
  },
  {
   "cell_type": "code",
   "execution_count": 56,
   "id": "bf885a25-542b-412f-968d-e517612423ce",
   "metadata": {},
   "outputs": [
    {
     "data": {
      "text/plain": [
       "datetime.time(15, 15, 15, 893584)"
      ]
     },
     "execution_count": 56,
     "metadata": {},
     "output_type": "execute_result"
    }
   ],
   "source": [
    "from datetime import datetime,date,time\n",
    "today = datetime.now()\n",
    "today.date()\n",
    "today.time()"
   ]
  },
  {
   "cell_type": "code",
   "execution_count": 58,
   "id": "35b64184-7f58-468e-9a63-bb1dd3ea7312",
   "metadata": {},
   "outputs": [
    {
     "data": {
      "text/plain": [
       "datetime.timedelta(days=275, seconds=31484, microseconds=106416)"
      ]
     },
     "execution_count": 58,
     "metadata": {},
     "output_type": "execute_result"
    }
   ],
   "source": [
    "xmas = datetime(2023, 12, 25, 0)\n",
    "xmas - today "
   ]
  },
  {
   "cell_type": "code",
   "execution_count": 59,
   "id": "5ecfb8ad-3105-4da2-8372-77ab64d2f16e",
   "metadata": {},
   "outputs": [
    {
     "data": {
      "text/plain": [
       "'23/03/24 15/15/15'"
      ]
     },
     "execution_count": 59,
     "metadata": {},
     "output_type": "execute_result"
    }
   ],
   "source": [
    "today.strftime(\"%y/%m/%d %H/%M/%S\")"
   ]
  },
  {
   "cell_type": "code",
   "execution_count": 62,
   "id": "419d67ac-2b67-4b59-a722-d31fa90fa491",
   "metadata": {},
   "outputs": [],
   "source": [
    "x =2\n",
    "if x>0:\n",
    "    \"양수\"\n",
    "else:\n",
    "    \"음수\""
   ]
  },
  {
   "cell_type": "code",
   "execution_count": 65,
   "id": "2526376f-b9a9-45ae-b42b-0700043cfd1e",
   "metadata": {},
   "outputs": [
    {
     "data": {
      "text/plain": [
       "'양수'"
      ]
     },
     "execution_count": 65,
     "metadata": {},
     "output_type": "execute_result"
    }
   ],
   "source": [
    "#삼항표현식 \n",
    "x=1 \n",
    "\"양수\" if x>0 else\"음수\""
   ]
  },
  {
   "cell_type": "code",
   "execution_count": 67,
   "id": "181cca1e-c83a-45e1-bf07-a9568077ef75",
   "metadata": {},
   "outputs": [
    {
     "data": {
      "text/plain": [
       "(4, 5, (6, 7))"
      ]
     },
     "execution_count": 67,
     "metadata": {},
     "output_type": "execute_result"
    }
   ],
   "source": [
    "tup= 4,5,(6,7)\n",
    "tup"
   ]
  },
  {
   "cell_type": "code",
   "execution_count": 69,
   "id": "44498027-5389-4e90-92c6-ed7481523346",
   "metadata": {},
   "outputs": [
    {
     "data": {
      "text/plain": [
       "6"
      ]
     },
     "execution_count": 69,
     "metadata": {},
     "output_type": "execute_result"
    }
   ],
   "source": [
    "a,b,c=tup\n",
    "a,b,(c,d)=tup\n",
    "c"
   ]
  },
  {
   "cell_type": "code",
   "execution_count": 70,
   "id": "24747d77-ace8-44f0-abdc-2e67cfa26657",
   "metadata": {},
   "outputs": [
    {
     "data": {
      "text/plain": [
       "['H', 'e', 'l', 'l', 'o']"
      ]
     },
     "execution_count": 70,
     "metadata": {},
     "output_type": "execute_result"
    }
   ],
   "source": [
    "a=list('Hello')\n",
    "a[::]"
   ]
  },
  {
   "cell_type": "code",
   "execution_count": 71,
   "id": "0c4b09f4-b3a7-4280-8877-b8f64be0a592",
   "metadata": {},
   "outputs": [
    {
     "data": {
      "text/plain": [
       "['H', 'e', 'l', 'l', 'o']"
      ]
     },
     "execution_count": 71,
     "metadata": {},
     "output_type": "execute_result"
    }
   ],
   "source": [
    "a[:]"
   ]
  },
  {
   "cell_type": "code",
   "execution_count": 73,
   "id": "6b1f159b-1994-4a5c-b870-585eef6b671f",
   "metadata": {},
   "outputs": [
    {
     "data": {
      "text/plain": [
       "['e', 'l', 'l', 'o']"
      ]
     },
     "execution_count": 73,
     "metadata": {},
     "output_type": "execute_result"
    }
   ],
   "source": [
    "a[1:]"
   ]
  },
  {
   "cell_type": "code",
   "execution_count": 74,
   "id": "2e5453df-4957-479a-9ded-1ead2d069f8f",
   "metadata": {},
   "outputs": [
    {
     "data": {
      "text/plain": [
       "['o', 'l', 'l', 'e', 'H']"
      ]
     },
     "execution_count": 74,
     "metadata": {},
     "output_type": "execute_result"
    }
   ],
   "source": [
    "a[::-1]"
   ]
  },
  {
   "cell_type": "code",
   "execution_count": 75,
   "id": "2e4b3a6a-39da-4264-85d9-dcb83460626b",
   "metadata": {},
   "outputs": [
    {
     "data": {
      "text/plain": [
       "['a', 'b', 'c', 'd']"
      ]
     },
     "execution_count": 75,
     "metadata": {},
     "output_type": "execute_result"
    }
   ],
   "source": [
    "li= ['a','b','c','d']\n",
    "li"
   ]
  },
  {
   "cell_type": "code",
   "execution_count": 89,
   "id": "f4dd6502-cd1f-495a-aa22-0c543775d5c5",
   "metadata": {},
   "outputs": [
    {
     "name": "stdout",
     "output_type": "stream",
     "text": [
      "a 1\n",
      "b 2\n",
      "c 3\n",
      "d 4\n"
     ]
    },
    {
     "data": {
      "text/plain": [
       "{'a': 1, 'b': 2, 'c': 3, 'd': 4}"
      ]
     },
     "execution_count": 89,
     "metadata": {},
     "output_type": "execute_result"
    }
   ],
   "source": [
    "di=dict()\n",
    "for i,j in enumerate(li):\n",
    "    print(j,i+1)\n",
    "    #di[j] = i+1 #한줄 리스트를 딕셔너리로 바꿈 \n",
    "    di.update({j:i+1}) #같은걸 update로 \n",
    "di"
   ]
  },
  {
   "cell_type": "code",
   "execution_count": 90,
   "id": "43127b7b-3dab-48ca-9295-d64533529485",
   "metadata": {},
   "outputs": [],
   "source": [
    "pitchers=[(\"Nolan\",'Ryan'),(\"ROger\",\"Clemens\"),(\"Schiling\",\"Curt\")]"
   ]
  },
  {
   "cell_type": "code",
   "execution_count": 91,
   "id": "456935cd-50d7-435a-a119-fa09aacd65e0",
   "metadata": {},
   "outputs": [
    {
     "data": {
      "text/plain": [
       "[('Nolan', 'Ryan'), ('ROger', 'Clemens'), ('Schiling', 'Curt')]"
      ]
     },
     "execution_count": 91,
     "metadata": {},
     "output_type": "execute_result"
    }
   ],
   "source": [
    "pitchers"
   ]
  },
  {
   "cell_type": "code",
   "execution_count": 97,
   "id": "a33c04bb-d899-4ab6-a18c-37c8fd698528",
   "metadata": {},
   "outputs": [
    {
     "data": {
      "text/plain": [
       "<zip at 0x1a684b45a00>"
      ]
     },
     "execution_count": 97,
     "metadata": {},
     "output_type": "execute_result"
    }
   ],
   "source": [
    "zip(pitchers[0],pitchers[1],pitchers[2])"
   ]
  },
  {
   "cell_type": "code",
   "execution_count": 98,
   "id": "67b57bdc-2462-4422-b687-89f2b37902be",
   "metadata": {},
   "outputs": [
    {
     "name": "stdout",
     "output_type": "stream",
     "text": [
      "('Nolan', 'ROger', 'Schiling')\n",
      "('Ryan', 'Clemens', 'Curt')\n"
     ]
    }
   ],
   "source": [
    "for i in zip(pitchers[0],pitchers[1],pitchers[2]):\n",
    "    print(i)\n"
   ]
  },
  {
   "cell_type": "code",
   "execution_count": 99,
   "id": "07b39419-87d5-4efa-8abd-e0672ffa0657",
   "metadata": {},
   "outputs": [
    {
     "name": "stdout",
     "output_type": "stream",
     "text": [
      "('Nolan', 'ROger', 'Schiling')\n",
      "('Ryan', 'Clemens', 'Curt')\n"
     ]
    }
   ],
   "source": [
    "for i in zip(*pitchers):\n",
    "    print(i)"
   ]
  },
  {
   "cell_type": "code",
   "execution_count": null,
   "id": "70cd8736-aed1-44b9-9945-8ab891432e26",
   "metadata": {},
   "outputs": [],
   "source": [
    "for i in zip(pitchers[0],pitchers[1],pitchers[2]):\n",
    "    print(i)\n"
   ]
  }
 ],
 "metadata": {
  "kernelspec": {
   "display_name": "Python 3 (ipykernel)",
   "language": "python",
   "name": "python3"
  },
  "language_info": {
   "codemirror_mode": {
    "name": "ipython",
    "version": 3
   },
   "file_extension": ".py",
   "mimetype": "text/x-python",
   "name": "python",
   "nbconvert_exporter": "python",
   "pygments_lexer": "ipython3",
   "version": "3.10.9"
  }
 },
 "nbformat": 4,
 "nbformat_minor": 5
}
