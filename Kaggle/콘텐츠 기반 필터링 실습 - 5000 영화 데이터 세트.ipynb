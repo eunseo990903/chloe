{
 "cells": [
  {
   "cell_type": "markdown",
   "id": "ec165693-5b2d-4c8c-ba7e-7f261c7f0039",
   "metadata": {
    "tags": []
   },
   "source": [
    "### 콘텐츠 기반 필터링 실습 -tmdb 5000 영화 데이터세트"
   ]
  },
  {
   "cell_type": "code",
   "execution_count": 41,
   "id": "dc93750e-2d17-462d-a806-ba068f8bd80c",
   "metadata": {
    "tags": []
   },
   "outputs": [
    {
     "data": {
      "text/html": [
       "<div>\n",
       "<style scoped>\n",
       "    .dataframe tbody tr th:only-of-type {\n",
       "        vertical-align: middle;\n",
       "    }\n",
       "\n",
       "    .dataframe tbody tr th {\n",
       "        vertical-align: top;\n",
       "    }\n",
       "\n",
       "    .dataframe thead th {\n",
       "        text-align: right;\n",
       "    }\n",
       "</style>\n",
       "<table border=\"1\" class=\"dataframe\">\n",
       "  <thead>\n",
       "    <tr style=\"text-align: right;\">\n",
       "      <th></th>\n",
       "      <th>budget</th>\n",
       "      <th>genres</th>\n",
       "      <th>homepage</th>\n",
       "      <th>id</th>\n",
       "      <th>keywords</th>\n",
       "      <th>original_language</th>\n",
       "      <th>original_title</th>\n",
       "      <th>overview</th>\n",
       "      <th>popularity</th>\n",
       "      <th>production_companies</th>\n",
       "      <th>production_countries</th>\n",
       "      <th>release_date</th>\n",
       "      <th>revenue</th>\n",
       "      <th>runtime</th>\n",
       "      <th>spoken_languages</th>\n",
       "      <th>status</th>\n",
       "      <th>tagline</th>\n",
       "      <th>title</th>\n",
       "      <th>vote_average</th>\n",
       "      <th>vote_count</th>\n",
       "    </tr>\n",
       "  </thead>\n",
       "  <tbody>\n",
       "    <tr>\n",
       "      <th>0</th>\n",
       "      <td>237000000</td>\n",
       "      <td>[{\"id\": 28, \"name\": \"Action\"}, {\"id\": 12, \"name\": \"Adventure\"}, {\"id\": 14, \"name\": \"Fantasy\"}, {...</td>\n",
       "      <td>http://www.avatarmovie.com/</td>\n",
       "      <td>19995</td>\n",
       "      <td>[{\"id\": 1463, \"name\": \"culture clash\"}, {\"id\": 2964, \"name\": \"future\"}, {\"id\": 3386, \"name\": \"sp...</td>\n",
       "      <td>en</td>\n",
       "      <td>Avatar</td>\n",
       "      <td>In the 22nd century, a paraplegic Marine is dispatched to the moon Pandora on a unique mission, ...</td>\n",
       "      <td>150.437577</td>\n",
       "      <td>[{\"name\": \"Ingenious Film Partners\", \"id\": 289}, {\"name\": \"Twentieth Century Fox Film Corporatio...</td>\n",
       "      <td>[{\"iso_3166_1\": \"US\", \"name\": \"United States of America\"}, {\"iso_3166_1\": \"GB\", \"name\": \"United ...</td>\n",
       "      <td>2009-12-10</td>\n",
       "      <td>2787965087</td>\n",
       "      <td>162.0</td>\n",
       "      <td>[{\"iso_639_1\": \"en\", \"name\": \"English\"}, {\"iso_639_1\": \"es\", \"name\": \"Espa\\u00f1ol\"}]</td>\n",
       "      <td>Released</td>\n",
       "      <td>Enter the World of Pandora.</td>\n",
       "      <td>Avatar</td>\n",
       "      <td>7.2</td>\n",
       "      <td>11800</td>\n",
       "    </tr>\n",
       "  </tbody>\n",
       "</table>\n",
       "</div>"
      ],
      "text/plain": [
       "      budget  \\\n",
       "0  237000000   \n",
       "\n",
       "                                                                                                genres  \\\n",
       "0  [{\"id\": 28, \"name\": \"Action\"}, {\"id\": 12, \"name\": \"Adventure\"}, {\"id\": 14, \"name\": \"Fantasy\"}, {...   \n",
       "\n",
       "                      homepage     id  \\\n",
       "0  http://www.avatarmovie.com/  19995   \n",
       "\n",
       "                                                                                              keywords  \\\n",
       "0  [{\"id\": 1463, \"name\": \"culture clash\"}, {\"id\": 2964, \"name\": \"future\"}, {\"id\": 3386, \"name\": \"sp...   \n",
       "\n",
       "  original_language original_title  \\\n",
       "0                en         Avatar   \n",
       "\n",
       "                                                                                              overview  \\\n",
       "0  In the 22nd century, a paraplegic Marine is dispatched to the moon Pandora on a unique mission, ...   \n",
       "\n",
       "   popularity  \\\n",
       "0  150.437577   \n",
       "\n",
       "                                                                                  production_companies  \\\n",
       "0  [{\"name\": \"Ingenious Film Partners\", \"id\": 289}, {\"name\": \"Twentieth Century Fox Film Corporatio...   \n",
       "\n",
       "                                                                                  production_countries  \\\n",
       "0  [{\"iso_3166_1\": \"US\", \"name\": \"United States of America\"}, {\"iso_3166_1\": \"GB\", \"name\": \"United ...   \n",
       "\n",
       "  release_date     revenue  runtime  \\\n",
       "0   2009-12-10  2787965087    162.0   \n",
       "\n",
       "                                                                        spoken_languages  \\\n",
       "0  [{\"iso_639_1\": \"en\", \"name\": \"English\"}, {\"iso_639_1\": \"es\", \"name\": \"Espa\\u00f1ol\"}]   \n",
       "\n",
       "     status                      tagline   title  vote_average  vote_count  \n",
       "0  Released  Enter the World of Pandora.  Avatar           7.2       11800  "
      ]
     },
     "execution_count": 41,
     "metadata": {},
     "output_type": "execute_result"
    }
   ],
   "source": [
    "import pandas as pd\n",
    "import numpy as np\n",
    "import warnings; warnings.filterwarnings('ignore')\n",
    "\n",
    "movies=pd.read_csv('tmdb_5000_movies.csv')\n",
    "movies.shape\n",
    "movies.head(1)"
   ]
  },
  {
   "cell_type": "code",
   "execution_count": 42,
   "id": "b2babd42-71ad-40df-84c0-5f18dcb8eafe",
   "metadata": {
    "tags": []
   },
   "outputs": [],
   "source": [
    "movies_df=movies[['id','title','genres','vote_average','vote_count','popularity',\n",
    "                 'keywords','overview']]"
   ]
  },
  {
   "cell_type": "code",
   "execution_count": 43,
   "id": "cc46de17-c661-4d20-a688-ee89ea320db5",
   "metadata": {
    "tags": []
   },
   "outputs": [
    {
     "data": {
      "text/html": [
       "<div>\n",
       "<style scoped>\n",
       "    .dataframe tbody tr th:only-of-type {\n",
       "        vertical-align: middle;\n",
       "    }\n",
       "\n",
       "    .dataframe tbody tr th {\n",
       "        vertical-align: top;\n",
       "    }\n",
       "\n",
       "    .dataframe thead th {\n",
       "        text-align: right;\n",
       "    }\n",
       "</style>\n",
       "<table border=\"1\" class=\"dataframe\">\n",
       "  <thead>\n",
       "    <tr style=\"text-align: right;\">\n",
       "      <th></th>\n",
       "      <th>genres</th>\n",
       "      <th>keywords</th>\n",
       "    </tr>\n",
       "  </thead>\n",
       "  <tbody>\n",
       "    <tr>\n",
       "      <th>0</th>\n",
       "      <td>[{\"id\": 28, \"name\": \"Action\"}, {\"id\": 12, \"name\": \"Adventure\"}, {\"id\": 14, \"name\": \"Fantasy\"}, {...</td>\n",
       "      <td>[{\"id\": 1463, \"name\": \"culture clash\"}, {\"id\": 2964, \"name\": \"future\"}, {\"id\": 3386, \"name\": \"sp...</td>\n",
       "    </tr>\n",
       "  </tbody>\n",
       "</table>\n",
       "</div>"
      ],
      "text/plain": [
       "                                                                                                genres  \\\n",
       "0  [{\"id\": 28, \"name\": \"Action\"}, {\"id\": 12, \"name\": \"Adventure\"}, {\"id\": 14, \"name\": \"Fantasy\"}, {...   \n",
       "\n",
       "                                                                                              keywords  \n",
       "0  [{\"id\": 1463, \"name\": \"culture clash\"}, {\"id\": 2964, \"name\": \"future\"}, {\"id\": 3386, \"name\": \"sp...  "
      ]
     },
     "execution_count": 43,
     "metadata": {},
     "output_type": "execute_result"
    }
   ],
   "source": [
    "pd.set_option('max_colwidth',100)\n",
    "movies_df[['genres','keywords']][:1]\n",
    "#여러개로 합쳐져 있음 "
   ]
  },
  {
   "cell_type": "code",
   "execution_count": 44,
   "id": "b6837a7c-ce2d-42b1-b526-c49675be5bd6",
   "metadata": {
    "tags": []
   },
   "outputs": [],
   "source": [
    "from ast import literal_eval\n",
    "movies_df['genres']=movies_df['genres'].apply(literal_eval)\n",
    "movies_df['keywords']=movies_df['keywords'].apply(literal_eval)\n"
   ]
  },
  {
   "cell_type": "code",
   "execution_count": 45,
   "id": "ae435080-a131-43d4-b24b-f453eab6f88d",
   "metadata": {
    "tags": []
   },
   "outputs": [
    {
     "data": {
      "text/html": [
       "<div>\n",
       "<style scoped>\n",
       "    .dataframe tbody tr th:only-of-type {\n",
       "        vertical-align: middle;\n",
       "    }\n",
       "\n",
       "    .dataframe tbody tr th {\n",
       "        vertical-align: top;\n",
       "    }\n",
       "\n",
       "    .dataframe thead th {\n",
       "        text-align: right;\n",
       "    }\n",
       "</style>\n",
       "<table border=\"1\" class=\"dataframe\">\n",
       "  <thead>\n",
       "    <tr style=\"text-align: right;\">\n",
       "      <th></th>\n",
       "      <th>genres</th>\n",
       "      <th>keywords</th>\n",
       "    </tr>\n",
       "  </thead>\n",
       "  <tbody>\n",
       "    <tr>\n",
       "      <th>0</th>\n",
       "      <td>[Action, Adventure, Fantasy, Science Fiction]</td>\n",
       "      <td>[culture clash, future, space war, space colony, society, space travel, futuristic, romance, spa...</td>\n",
       "    </tr>\n",
       "  </tbody>\n",
       "</table>\n",
       "</div>"
      ],
      "text/plain": [
       "                                          genres  \\\n",
       "0  [Action, Adventure, Fantasy, Science Fiction]   \n",
       "\n",
       "                                                                                              keywords  \n",
       "0  [culture clash, future, space war, space colony, society, space travel, futuristic, romance, spa...  "
      ]
     },
     "execution_count": 45,
     "metadata": {},
     "output_type": "execute_result"
    }
   ],
   "source": [
    "movies_df['genres']=movies_df['genres'].apply(lambda x:[y['name'] for y in x])\n",
    "movies_df['keywords']=movies_df['keywords'].apply(lambda x:[y['name'] for y in x])\n",
    "movies_df[['genres','keywords']][:1]\n",
    "#name 에 해당하는 값만 추출 "
   ]
  },
  {
   "cell_type": "markdown",
   "id": "c6daffd9-e1a1-4aa5-9046-6d2ce458bb19",
   "metadata": {},
   "source": [
    "* 장르 콘텐츠 유사도 측정\n",
    "- genres 안에 여러 장르 있음 -> 문자열 변경-> COUNT 피처 벡터화 -> 코사인 유사도 ->유사도가 높은 영화 중 평점 높은 순 추천"
   ]
  },
  {
   "cell_type": "code",
   "execution_count": 46,
   "id": "82efe8d0-114a-4a7b-91bb-c8703cc39d55",
   "metadata": {
    "tags": []
   },
   "outputs": [
    {
     "data": {
      "text/plain": [
       "(4803, 276)"
      ]
     },
     "execution_count": 46,
     "metadata": {},
     "output_type": "execute_result"
    }
   ],
   "source": [
    "from sklearn.feature_extraction.text import CountVectorizer\n",
    "\n",
    "#공백문자로 word단위가 구분되는 문자열로 변환\n",
    "movies_df['genres_literal']= movies_df['genres'].apply(lambda x: (' ').join(x))\n",
    "count_vect=CountVectorizer(min_df=0, ngram_range=(1,2))\n",
    "genre_mat=count_vect.fit_transform(movies_df['genres_literal']) #별도 컬럼으로 저장 \n",
    "genre_mat.shape"
   ]
  },
  {
   "cell_type": "code",
   "execution_count": 47,
   "id": "3678071d-dca0-4dbd-892f-43c5eccb74c2",
   "metadata": {
    "tags": []
   },
   "outputs": [
    {
     "data": {
      "text/plain": [
       "array([[1.        , 0.59628479, 0.4472136 , ..., 0.        , 0.        ,\n",
       "        0.        ],\n",
       "       [0.59628479, 1.        , 0.4       , ..., 0.        , 0.        ,\n",
       "        0.        ],\n",
       "       [0.4472136 , 0.4       , 1.        , ..., 0.        , 0.        ,\n",
       "        0.        ]])"
      ]
     },
     "execution_count": 47,
     "metadata": {},
     "output_type": "execute_result"
    }
   ],
   "source": [
    "from sklearn.metrics.pairwise import cosine_similarity\n",
    "\n",
    "genre_sim=cosine_similarity(genre_mat, genre_mat)\n",
    "genre_sim.shape\n",
    "genre_sim[:3]\n",
    "\n",
    "#genre_sim  moviesdf , genreliteral 칼럼을 피처 백터화한 행렬 (genre_mat) 데이터행별 유사도 정보\n",
    "#갖고 있으며 결국 movies_df 행별 장르 유사도도 갖고있음"
   ]
  },
  {
   "cell_type": "code",
   "execution_count": 48,
   "id": "2e015a13-58aa-46ae-a18d-8a08b4e07dac",
   "metadata": {
    "tags": []
   },
   "outputs": [
    {
     "data": {
      "text/plain": [
       "array([[   0, 3494,  813, ..., 3038, 3037, 2401],\n",
       "       [ 262,    1,  129, ..., 3069, 3067, 2401],\n",
       "       [   2, 1740, 1542, ..., 3000, 2999, 2401],\n",
       "       ...,\n",
       "       [4800, 3809, 1895, ..., 2229, 2230,    0],\n",
       "       [4802, 1594, 1596, ..., 3204, 3205,    0],\n",
       "       [4802, 4710, 4521, ..., 3140, 3141,    0]], dtype=int64)"
      ]
     },
     "execution_count": 48,
     "metadata": {},
     "output_type": "execute_result"
    }
   ],
   "source": [
    "#유사도 높은 순으로 위치 인덱스 값 추출 \n",
    "genre_sim_sorted_ind=genre_sim.argsort()[:,::-1]\n",
    "genre_sim_sorted_ind\n",
    "#첫줄 보면 0번 레코드의 경우, 자신제외 3494 가 유사도 제일 높고 2401 제일 낮음 "
   ]
  },
  {
   "cell_type": "markdown",
   "id": "ce29242a-0fac-41b5-a99a-82aeb820255b",
   "metadata": {},
   "source": [
    "* 장르 콘텐츠 필터링을 이용한 영화추천"
   ]
  },
  {
   "cell_type": "code",
   "execution_count": 49,
   "id": "56e9680f-6acb-4dc9-9f98-09acc3175fcf",
   "metadata": {
    "tags": []
   },
   "outputs": [],
   "source": [
    "def find_sim_movie(df, sorted_ind, title_name, top_n=10):\n",
    "    title_movie=df[df['title']== title_name]\n",
    "    title_index=title_movie.index.values\n",
    "    similar_indexes=sorted_ind[title_index, :(top_n)]\n",
    "    \n",
    "    print(similar_indexes)\n",
    "    similar_indexes=similar_indexes.reshape(-1)\n",
    "    \n",
    "    return df.iloc[similar_indexes]"
   ]
  },
  {
   "cell_type": "code",
   "execution_count": 50,
   "id": "0476e1fa-f3ed-4197-aa35-6961e23af803",
   "metadata": {
    "tags": []
   },
   "outputs": [
    {
     "name": "stdout",
     "output_type": "stream",
     "text": [
      "[[2731 1243 3636 1946 2640 4065 1847 4217  883 3866]]\n"
     ]
    },
    {
     "data": {
      "text/html": [
       "<div>\n",
       "<style scoped>\n",
       "    .dataframe tbody tr th:only-of-type {\n",
       "        vertical-align: middle;\n",
       "    }\n",
       "\n",
       "    .dataframe tbody tr th {\n",
       "        vertical-align: top;\n",
       "    }\n",
       "\n",
       "    .dataframe thead th {\n",
       "        text-align: right;\n",
       "    }\n",
       "</style>\n",
       "<table border=\"1\" class=\"dataframe\">\n",
       "  <thead>\n",
       "    <tr style=\"text-align: right;\">\n",
       "      <th></th>\n",
       "      <th>title</th>\n",
       "      <th>vote_average</th>\n",
       "    </tr>\n",
       "  </thead>\n",
       "  <tbody>\n",
       "    <tr>\n",
       "      <th>2731</th>\n",
       "      <td>The Godfather: Part II</td>\n",
       "      <td>8.3</td>\n",
       "    </tr>\n",
       "    <tr>\n",
       "      <th>1243</th>\n",
       "      <td>Mean Streets</td>\n",
       "      <td>7.2</td>\n",
       "    </tr>\n",
       "    <tr>\n",
       "      <th>3636</th>\n",
       "      <td>Light Sleeper</td>\n",
       "      <td>5.7</td>\n",
       "    </tr>\n",
       "    <tr>\n",
       "      <th>1946</th>\n",
       "      <td>The Bad Lieutenant: Port of Call - New Orleans</td>\n",
       "      <td>6.0</td>\n",
       "    </tr>\n",
       "    <tr>\n",
       "      <th>2640</th>\n",
       "      <td>Things to Do in Denver When You're Dead</td>\n",
       "      <td>6.7</td>\n",
       "    </tr>\n",
       "    <tr>\n",
       "      <th>4065</th>\n",
       "      <td>Mi America</td>\n",
       "      <td>0.0</td>\n",
       "    </tr>\n",
       "    <tr>\n",
       "      <th>1847</th>\n",
       "      <td>GoodFellas</td>\n",
       "      <td>8.2</td>\n",
       "    </tr>\n",
       "    <tr>\n",
       "      <th>4217</th>\n",
       "      <td>Kids</td>\n",
       "      <td>6.8</td>\n",
       "    </tr>\n",
       "    <tr>\n",
       "      <th>883</th>\n",
       "      <td>Catch Me If You Can</td>\n",
       "      <td>7.7</td>\n",
       "    </tr>\n",
       "    <tr>\n",
       "      <th>3866</th>\n",
       "      <td>City of God</td>\n",
       "      <td>8.1</td>\n",
       "    </tr>\n",
       "  </tbody>\n",
       "</table>\n",
       "</div>"
      ],
      "text/plain": [
       "                                               title  vote_average\n",
       "2731                          The Godfather: Part II           8.3\n",
       "1243                                    Mean Streets           7.2\n",
       "3636                                   Light Sleeper           5.7\n",
       "1946  The Bad Lieutenant: Port of Call - New Orleans           6.0\n",
       "2640         Things to Do in Denver When You're Dead           6.7\n",
       "4065                                      Mi America           0.0\n",
       "1847                                      GoodFellas           8.2\n",
       "4217                                            Kids           6.8\n",
       "883                              Catch Me If You Can           7.7\n",
       "3866                                     City of God           8.1"
      ]
     },
     "execution_count": 50,
     "metadata": {},
     "output_type": "execute_result"
    }
   ],
   "source": [
    "#대부와 비슷한 영화 추천\n",
    "silmilar_movies= find_sim_movie(movies_df, genre_sim_sorted_ind, 'The Godfather', 10)\n",
    "silmilar_movies[['title','vote_average']]\n",
    "# 1등 대부 2 , Mi America 평점 0임 -> 개선"
   ]
  },
  {
   "cell_type": "code",
   "execution_count": 51,
   "id": "1fb5a6b7-3c7c-4afd-a6c4-4a7f56fb1bbf",
   "metadata": {
    "tags": []
   },
   "outputs": [
    {
     "data": {
      "text/html": [
       "<div>\n",
       "<style scoped>\n",
       "    .dataframe tbody tr th:only-of-type {\n",
       "        vertical-align: middle;\n",
       "    }\n",
       "\n",
       "    .dataframe tbody tr th {\n",
       "        vertical-align: top;\n",
       "    }\n",
       "\n",
       "    .dataframe thead th {\n",
       "        text-align: right;\n",
       "    }\n",
       "</style>\n",
       "<table border=\"1\" class=\"dataframe\">\n",
       "  <thead>\n",
       "    <tr style=\"text-align: right;\">\n",
       "      <th></th>\n",
       "      <th>title</th>\n",
       "      <th>vote_average</th>\n",
       "      <th>vote_count</th>\n",
       "    </tr>\n",
       "  </thead>\n",
       "  <tbody>\n",
       "    <tr>\n",
       "      <th>3519</th>\n",
       "      <td>Stiff Upper Lips</td>\n",
       "      <td>10.0</td>\n",
       "      <td>1</td>\n",
       "    </tr>\n",
       "    <tr>\n",
       "      <th>4247</th>\n",
       "      <td>Me You and Five Bucks</td>\n",
       "      <td>10.0</td>\n",
       "      <td>2</td>\n",
       "    </tr>\n",
       "    <tr>\n",
       "      <th>4045</th>\n",
       "      <td>Dancer, Texas Pop. 81</td>\n",
       "      <td>10.0</td>\n",
       "      <td>1</td>\n",
       "    </tr>\n",
       "    <tr>\n",
       "      <th>4662</th>\n",
       "      <td>Little Big Top</td>\n",
       "      <td>10.0</td>\n",
       "      <td>1</td>\n",
       "    </tr>\n",
       "    <tr>\n",
       "      <th>3992</th>\n",
       "      <td>Sardaarji</td>\n",
       "      <td>9.5</td>\n",
       "      <td>2</td>\n",
       "    </tr>\n",
       "    <tr>\n",
       "      <th>2386</th>\n",
       "      <td>One Man's Hero</td>\n",
       "      <td>9.3</td>\n",
       "      <td>2</td>\n",
       "    </tr>\n",
       "    <tr>\n",
       "      <th>2970</th>\n",
       "      <td>There Goes My Baby</td>\n",
       "      <td>8.5</td>\n",
       "      <td>2</td>\n",
       "    </tr>\n",
       "    <tr>\n",
       "      <th>1881</th>\n",
       "      <td>The Shawshank Redemption</td>\n",
       "      <td>8.5</td>\n",
       "      <td>8205</td>\n",
       "    </tr>\n",
       "    <tr>\n",
       "      <th>2796</th>\n",
       "      <td>The Prisoner of Zenda</td>\n",
       "      <td>8.4</td>\n",
       "      <td>11</td>\n",
       "    </tr>\n",
       "    <tr>\n",
       "      <th>3337</th>\n",
       "      <td>The Godfather</td>\n",
       "      <td>8.4</td>\n",
       "      <td>5893</td>\n",
       "    </tr>\n",
       "  </tbody>\n",
       "</table>\n",
       "</div>"
      ],
      "text/plain": [
       "                         title  vote_average  vote_count\n",
       "3519          Stiff Upper Lips          10.0           1\n",
       "4247     Me You and Five Bucks          10.0           2\n",
       "4045     Dancer, Texas Pop. 81          10.0           1\n",
       "4662            Little Big Top          10.0           1\n",
       "3992                 Sardaarji           9.5           2\n",
       "2386            One Man's Hero           9.3           2\n",
       "2970        There Goes My Baby           8.5           2\n",
       "1881  The Shawshank Redemption           8.5        8205\n",
       "2796     The Prisoner of Zenda           8.4          11\n",
       "3337             The Godfather           8.4        5893"
      ]
     },
     "execution_count": 51,
     "metadata": {},
     "output_type": "execute_result"
    }
   ],
   "source": [
    "#적은 관객이 특정 영화에 만점 > 왜곡  vote count 적은게 더 점수가높음 \n",
    "movies_df[['title','vote_average','vote_count']].sort_values('vote_average',ascending=False)[:10]"
   ]
  },
  {
   "cell_type": "markdown",
   "id": "91c6c495-8b50-46e7-b378-e7238f709079",
   "metadata": {},
   "source": [
    "* IMDB 평가횟수 가중치 부여된 평점 이용  "
   ]
  },
  {
   "cell_type": "code",
   "execution_count": 55,
   "id": "418f4701-940a-49ba-aba5-0ecc308de1fb",
   "metadata": {
    "tags": []
   },
   "outputs": [],
   "source": [
    "C=movies_df['vote_average'].mean()\n",
    "m=movies_df['vote_count'].quantile(0.6)\n",
    "\n",
    "#m : 투표횟수에 다른 가중치 조절 , 높이면 평점 투표횟수가 많은 가중 평점 부여 \n",
    "\n",
    "def weighted_voted_average(record):\n",
    "    v= record['vote_count']\n",
    "    R= record['vote_average']\n",
    "    return( (v/(v+m) * R ) + ((m/m+v))*C)\n",
    "\n",
    "movies_df['weighted_vote']=movies.apply(weighted_voted_average, axis=1)"
   ]
  },
  {
   "cell_type": "code",
   "execution_count": 57,
   "id": "7f740d12-c5f2-40b6-8e58-c3f6e21e2f4a",
   "metadata": {
    "tags": []
   },
   "outputs": [
    {
     "data": {
      "text/html": [
       "<div>\n",
       "<style scoped>\n",
       "    .dataframe tbody tr th:only-of-type {\n",
       "        vertical-align: middle;\n",
       "    }\n",
       "\n",
       "    .dataframe tbody tr th {\n",
       "        vertical-align: top;\n",
       "    }\n",
       "\n",
       "    .dataframe thead th {\n",
       "        text-align: right;\n",
       "    }\n",
       "</style>\n",
       "<table border=\"1\" class=\"dataframe\">\n",
       "  <thead>\n",
       "    <tr style=\"text-align: right;\">\n",
       "      <th></th>\n",
       "      <th>title</th>\n",
       "      <th>vote_average</th>\n",
       "      <th>weighted_vote</th>\n",
       "      <th>vote_count</th>\n",
       "    </tr>\n",
       "  </thead>\n",
       "  <tbody>\n",
       "    <tr>\n",
       "      <th>96</th>\n",
       "      <td>Inception</td>\n",
       "      <td>8.1</td>\n",
       "      <td>83793.523123</td>\n",
       "      <td>13752</td>\n",
       "    </tr>\n",
       "    <tr>\n",
       "      <th>65</th>\n",
       "      <td>The Dark Knight</td>\n",
       "      <td>8.2</td>\n",
       "      <td>73132.289868</td>\n",
       "      <td>12002</td>\n",
       "    </tr>\n",
       "    <tr>\n",
       "      <th>0</th>\n",
       "      <td>Avatar</td>\n",
       "      <td>7.2</td>\n",
       "      <td>71900.697559</td>\n",
       "      <td>11800</td>\n",
       "    </tr>\n",
       "    <tr>\n",
       "      <th>16</th>\n",
       "      <td>The Avengers</td>\n",
       "      <td>7.4</td>\n",
       "      <td>71754.678913</td>\n",
       "      <td>11776</td>\n",
       "    </tr>\n",
       "    <tr>\n",
       "      <th>788</th>\n",
       "      <td>Deadpool</td>\n",
       "      <td>7.4</td>\n",
       "      <td>66996.677427</td>\n",
       "      <td>10995</td>\n",
       "    </tr>\n",
       "    <tr>\n",
       "      <th>95</th>\n",
       "      <td>Interstellar</td>\n",
       "      <td>8.1</td>\n",
       "      <td>66217.553660</td>\n",
       "      <td>10867</td>\n",
       "    </tr>\n",
       "    <tr>\n",
       "      <th>287</th>\n",
       "      <td>Django Unchained</td>\n",
       "      <td>7.8</td>\n",
       "      <td>61538.456936</td>\n",
       "      <td>10099</td>\n",
       "    </tr>\n",
       "    <tr>\n",
       "      <th>94</th>\n",
       "      <td>Guardians of the Galaxy</td>\n",
       "      <td>7.9</td>\n",
       "      <td>59363.638291</td>\n",
       "      <td>9742</td>\n",
       "    </tr>\n",
       "    <tr>\n",
       "      <th>426</th>\n",
       "      <td>The Hunger Games</td>\n",
       "      <td>6.9</td>\n",
       "      <td>57614.214284</td>\n",
       "      <td>9455</td>\n",
       "    </tr>\n",
       "    <tr>\n",
       "      <th>127</th>\n",
       "      <td>Mad Max: Fury Road</td>\n",
       "      <td>7.2</td>\n",
       "      <td>57443.921401</td>\n",
       "      <td>9427</td>\n",
       "    </tr>\n",
       "  </tbody>\n",
       "</table>\n",
       "</div>"
      ],
      "text/plain": [
       "                       title  vote_average  weighted_vote  vote_count\n",
       "96                 Inception           8.1   83793.523123       13752\n",
       "65           The Dark Knight           8.2   73132.289868       12002\n",
       "0                     Avatar           7.2   71900.697559       11800\n",
       "16              The Avengers           7.4   71754.678913       11776\n",
       "788                 Deadpool           7.4   66996.677427       10995\n",
       "95              Interstellar           8.1   66217.553660       10867\n",
       "287         Django Unchained           7.8   61538.456936       10099\n",
       "94   Guardians of the Galaxy           7.9   59363.638291        9742\n",
       "426         The Hunger Games           6.9   57614.214284        9455\n",
       "127       Mad Max: Fury Road           7.2   57443.921401        9427"
      ]
     },
     "execution_count": 57,
     "metadata": {},
     "output_type": "execute_result"
    }
   ],
   "source": [
    "#새롭게 부여된 weighted vote 평점 순서 상위 10개 영화 추출 \n",
    "\n",
    "movies_df[['title','vote_average','weighted_vote','vote_count']].sort_values('weighted_vote',ascending=False)[:10]"
   ]
  },
  {
   "cell_type": "markdown",
   "id": "6c3d2c59-4173-4594-825c-aa8806ca8c07",
   "metadata": {},
   "source": [
    "* 장르 유사성이 높은 영화를 top_n의 두배수 만큼 선정뒤 weighted_vote 칼럼이 높은 순으로 top_n 추출"
   ]
  },
  {
   "cell_type": "code",
   "execution_count": 59,
   "id": "93a3c694-23d5-4c13-917e-d9b03559d567",
   "metadata": {
    "tags": []
   },
   "outputs": [
    {
     "data": {
      "text/html": [
       "<div>\n",
       "<style scoped>\n",
       "    .dataframe tbody tr th:only-of-type {\n",
       "        vertical-align: middle;\n",
       "    }\n",
       "\n",
       "    .dataframe tbody tr th {\n",
       "        vertical-align: top;\n",
       "    }\n",
       "\n",
       "    .dataframe thead th {\n",
       "        text-align: right;\n",
       "    }\n",
       "</style>\n",
       "<table border=\"1\" class=\"dataframe\">\n",
       "  <thead>\n",
       "    <tr style=\"text-align: right;\">\n",
       "      <th></th>\n",
       "      <th>title</th>\n",
       "      <th>vote_average</th>\n",
       "      <th>weighted_vote</th>\n",
       "    </tr>\n",
       "  </thead>\n",
       "  <tbody>\n",
       "    <tr>\n",
       "      <th>883</th>\n",
       "      <td>Catch Me If You Can</td>\n",
       "      <td>7.7</td>\n",
       "      <td>23132.898869</td>\n",
       "    </tr>\n",
       "    <tr>\n",
       "      <th>2731</th>\n",
       "      <td>The Godfather: Part II</td>\n",
       "      <td>8.3</td>\n",
       "      <td>20349.232225</td>\n",
       "    </tr>\n",
       "    <tr>\n",
       "      <th>1847</th>\n",
       "      <td>GoodFellas</td>\n",
       "      <td>8.2</td>\n",
       "      <td>19069.737037</td>\n",
       "    </tr>\n",
       "    <tr>\n",
       "      <th>1149</th>\n",
       "      <td>American Hustle</td>\n",
       "      <td>6.8</td>\n",
       "      <td>17112.825419</td>\n",
       "    </tr>\n",
       "    <tr>\n",
       "      <th>3866</th>\n",
       "      <td>City of God</td>\n",
       "      <td>8.1</td>\n",
       "      <td>11064.018512</td>\n",
       "    </tr>\n",
       "    <tr>\n",
       "      <th>281</th>\n",
       "      <td>American Gangster</td>\n",
       "      <td>7.4</td>\n",
       "      <td>9162.470613</td>\n",
       "    </tr>\n",
       "    <tr>\n",
       "      <th>1663</th>\n",
       "      <td>Once Upon a Time in America</td>\n",
       "      <td>8.2</td>\n",
       "      <td>6524.714313</td>\n",
       "    </tr>\n",
       "    <tr>\n",
       "      <th>588</th>\n",
       "      <td>Wall Street: Money Never Sleeps</td>\n",
       "      <td>5.8</td>\n",
       "      <td>3012.845308</td>\n",
       "    </tr>\n",
       "    <tr>\n",
       "      <th>2839</th>\n",
       "      <td>Rounders</td>\n",
       "      <td>6.9</td>\n",
       "      <td>2684.298813</td>\n",
       "    </tr>\n",
       "    <tr>\n",
       "      <th>4041</th>\n",
       "      <td>This Is England</td>\n",
       "      <td>7.4</td>\n",
       "      <td>2221.214114</td>\n",
       "    </tr>\n",
       "  </tbody>\n",
       "</table>\n",
       "</div>"
      ],
      "text/plain": [
       "                                title  vote_average  weighted_vote\n",
       "883               Catch Me If You Can           7.7   23132.898869\n",
       "2731           The Godfather: Part II           8.3   20349.232225\n",
       "1847                       GoodFellas           8.2   19069.737037\n",
       "1149                  American Hustle           6.8   17112.825419\n",
       "3866                      City of God           8.1   11064.018512\n",
       "281                 American Gangster           7.4    9162.470613\n",
       "1663      Once Upon a Time in America           8.2    6524.714313\n",
       "588   Wall Street: Money Never Sleeps           5.8    3012.845308\n",
       "2839                         Rounders           6.9    2684.298813\n",
       "4041                  This Is England           7.4    2221.214114"
      ]
     },
     "execution_count": 59,
     "metadata": {},
     "output_type": "execute_result"
    }
   ],
   "source": [
    "def find_sim_movie(df, sorted_ind, title_name, top_n=10):\n",
    "    title_movie=df[df['title']== title_name]\n",
    "    title_index=title_movie.index.values\n",
    "    \n",
    "    #top_n 2배에 해당하는 장르 유사성이 높은 인덱스 추출 \n",
    "    similar_indexes=sorted_ind[title_index, :(top_n*2)]\n",
    "    similar_indexes=similar_indexes.reshape(-1)\n",
    "    #기준영화 인덱스 제외\n",
    "    similar_indexes=similar_indexes[similar_indexes != title_index]\n",
    "    \n",
    "    return df.iloc[similar_indexes].sort_values('weighted_vote',ascending=False)[:top_n]\n",
    "\n",
    "#한번 더 대부와 유사도 높은 영화 추천 \n",
    "silmilar_movies= find_sim_movie(movies_df, genre_sim_sorted_ind, 'The Godfather', 10)\n",
    "silmilar_movies[['title','vote_average','weighted_vote']]"
   ]
  },
  {
   "cell_type": "markdown",
   "id": "62a7347b-a11f-4a72-935e-2793332120e5",
   "metadata": {},
   "source": [
    "- 이전보단 훨씬 나아진 영화 추천 목록 하지만 개인이 좋아하는 성향을 반영하기엔 부족 (콘텐츠 기반 필터링) \n",
    "-좋아하는 배우나 감독을 보고 영화를 선택하는 경우 많음 "
   ]
  },
  {
   "cell_type": "code",
   "execution_count": null,
   "id": "f61badac-abaf-47a1-956f-6f500741ad5d",
   "metadata": {},
   "outputs": [],
   "source": []
  }
 ],
 "metadata": {
  "kernelspec": {
   "display_name": "Python 3 (ipykernel)",
   "language": "python",
   "name": "python3"
  },
  "language_info": {
   "codemirror_mode": {
    "name": "ipython",
    "version": 3
   },
   "file_extension": ".py",
   "mimetype": "text/x-python",
   "name": "python",
   "nbconvert_exporter": "python",
   "pygments_lexer": "ipython3",
   "version": "3.10.9"
  }
 },
 "nbformat": 4,
 "nbformat_minor": 5
}
